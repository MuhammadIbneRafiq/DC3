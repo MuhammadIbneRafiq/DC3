{
 "cells": [
  {
   "cell_type": "markdown",
   "metadata": {
    "id": "CRJVLuDR_TTl"
   },
   "source": [
    "## Note\n",
    "This notebook serves as a mini tutorial on what you need to fine tune the model on a custom dataset in the simplest way.\n",
    "\n",
    "The main things that need to be done to do so is to create a dataset class following the implementation of the Coralscapes class and to add the model checkpoint in the arguments of the training script or in the configuration file."
   ]
  },
  {
   "cell_type": "markdown",
   "source": [],
   "metadata": {
    "id": "tPoj0xXMhXp4"
   }
  },
  {
   "cell_type": "markdown",
   "source": [
    "### Running the finetune script on top of this"
   ],
   "metadata": {
    "id": "T8nc8abMAXPv"
   }
  },
  {
   "cell_type": "code",
   "source": [
    "from google.colab import drive\n",
    "drive.mount('/content/drive')"
   ],
   "metadata": {
    "colab": {
     "base_uri": "https://localhost:8080/"
    },
    "id": "hyl3wBc-_5TQ",
    "outputId": "01ea78da-709c-4eaa-c627-0e0343accbfc"
   },
   "execution_count": null,
   "outputs": [
    {
     "output_type": "stream",
     "name": "stdout",
     "text": [
      "Drive already mounted at /content/drive; to attempt to forcibly remount, call drive.mount(\"/content/drive\", force_remount=True).\n"
     ]
    }
   ]
  },
  {
   "cell_type": "code",
   "source": [
    "%cd /content/drive/MyDrive/Data\\ Challenge\\ 3\\ Group\\ 3\n",
    "!git clone https://github.com/eceo-epfl/coralscapesScripts.git\n",
    "\n"
   ],
   "metadata": {
    "id": "aU7aY_5v_UyZ",
    "colab": {
     "base_uri": "https://localhost:8080/"
    },
    "outputId": "11c76810-1b82-443c-ce00-5bc2e676fcd3"
   },
   "execution_count": null,
   "outputs": [
    {
     "output_type": "stream",
     "name": "stdout",
     "text": [
      "/content/drive/.shortcut-targets-by-id/15pPCEVRFyHb3JQkFSnP8L6a0_nfm8ijp/Data Challenge 3 Group 3\n",
      "fatal: destination path 'coralscapesScripts' already exists and is not an empty directory.\n"
     ]
    }
   ]
  },
  {
   "cell_type": "code",
   "source": [
    "%cd coralscapesScripts"
   ],
   "metadata": {
    "colab": {
     "base_uri": "https://localhost:8080/"
    },
    "id": "SmSodjNLZ4YA",
    "outputId": "7d4aacc0-90ae-4969-e9a5-9e034dce83b8"
   },
   "execution_count": null,
   "outputs": [
    {
     "output_type": "stream",
     "name": "stdout",
     "text": [
      "/content/drive/.shortcut-targets-by-id/15pPCEVRFyHb3JQkFSnP8L6a0_nfm8ijp/Data Challenge 3 Group 3/coralscapesScripts\n"
     ]
    }
   ]
  },
  {
   "cell_type": "code",
   "source": [
    "!pip install albumentations transformers torch segmentation_models_pytorch torchmetrics peft matplotlib\n"
   ],
   "metadata": {
    "colab": {
     "base_uri": "https://localhost:8080/"
    },
    "collapsed": true,
    "id": "_0VpRgoli8Mh",
    "outputId": "41754153-22b4-48ce-adde-a7a386373cef"
   },
   "execution_count": null,
   "outputs": [
    {
     "output_type": "stream",
     "name": "stdout",
     "text": [
      "Requirement already satisfied: albumentations in /usr/local/lib/python3.12/dist-packages (2.0.8)\n",
      "Requirement already satisfied: transformers in /usr/local/lib/python3.12/dist-packages (4.57.0)\n",
      "Requirement already satisfied: torch in /usr/local/lib/python3.12/dist-packages (2.8.0+cu126)\n",
      "Requirement already satisfied: segmentation_models_pytorch in /usr/local/lib/python3.12/dist-packages (0.5.0)\n",
      "Requirement already satisfied: torchmetrics in /usr/local/lib/python3.12/dist-packages (1.8.2)\n",
      "Requirement already satisfied: peft in /usr/local/lib/python3.12/dist-packages (0.17.1)\n",
      "Requirement already satisfied: matplotlib in /usr/local/lib/python3.12/dist-packages (3.10.0)\n",
      "Requirement already satisfied: numpy>=1.24.4 in /usr/local/lib/python3.12/dist-packages (from albumentations) (2.0.2)\n",
      "Requirement already satisfied: scipy>=1.10.0 in /usr/local/lib/python3.12/dist-packages (from albumentations) (1.16.2)\n",
      "Requirement already satisfied: PyYAML in /usr/local/lib/python3.12/dist-packages (from albumentations) (6.0.3)\n",
      "Requirement already satisfied: pydantic>=2.9.2 in /usr/local/lib/python3.12/dist-packages (from albumentations) (2.11.10)\n",
      "Requirement already satisfied: albucore==0.0.24 in /usr/local/lib/python3.12/dist-packages (from albumentations) (0.0.24)\n",
      "Requirement already satisfied: opencv-python-headless>=4.9.0.80 in /usr/local/lib/python3.12/dist-packages (from albumentations) (4.12.0.88)\n",
      "Requirement already satisfied: stringzilla>=3.10.4 in /usr/local/lib/python3.12/dist-packages (from albucore==0.0.24->albumentations) (4.2.0)\n",
      "Requirement already satisfied: simsimd>=5.9.2 in /usr/local/lib/python3.12/dist-packages (from albucore==0.0.24->albumentations) (6.5.3)\n",
      "Requirement already satisfied: filelock in /usr/local/lib/python3.12/dist-packages (from transformers) (3.20.0)\n",
      "Requirement already satisfied: huggingface-hub<1.0,>=0.34.0 in /usr/local/lib/python3.12/dist-packages (from transformers) (0.35.3)\n",
      "Requirement already satisfied: packaging>=20.0 in /usr/local/lib/python3.12/dist-packages (from transformers) (25.0)\n",
      "Requirement already satisfied: regex!=2019.12.17 in /usr/local/lib/python3.12/dist-packages (from transformers) (2024.11.6)\n",
      "Requirement already satisfied: requests in /usr/local/lib/python3.12/dist-packages (from transformers) (2.32.4)\n",
      "Requirement already satisfied: tokenizers<=0.23.0,>=0.22.0 in /usr/local/lib/python3.12/dist-packages (from transformers) (0.22.1)\n",
      "Requirement already satisfied: safetensors>=0.4.3 in /usr/local/lib/python3.12/dist-packages (from transformers) (0.6.2)\n",
      "Requirement already satisfied: tqdm>=4.27 in /usr/local/lib/python3.12/dist-packages (from transformers) (4.67.1)\n",
      "Requirement already satisfied: typing-extensions>=4.10.0 in /usr/local/lib/python3.12/dist-packages (from torch) (4.15.0)\n",
      "Requirement already satisfied: setuptools in /usr/local/lib/python3.12/dist-packages (from torch) (75.2.0)\n",
      "Requirement already satisfied: sympy>=1.13.3 in /usr/local/lib/python3.12/dist-packages (from torch) (1.13.3)\n",
      "Requirement already satisfied: networkx in /usr/local/lib/python3.12/dist-packages (from torch) (3.5)\n",
      "Requirement already satisfied: jinja2 in /usr/local/lib/python3.12/dist-packages (from torch) (3.1.6)\n",
      "Requirement already satisfied: fsspec in /usr/local/lib/python3.12/dist-packages (from torch) (2025.3.0)\n",
      "Requirement already satisfied: nvidia-cuda-nvrtc-cu12==12.6.77 in /usr/local/lib/python3.12/dist-packages (from torch) (12.6.77)\n",
      "Requirement already satisfied: nvidia-cuda-runtime-cu12==12.6.77 in /usr/local/lib/python3.12/dist-packages (from torch) (12.6.77)\n",
      "Requirement already satisfied: nvidia-cuda-cupti-cu12==12.6.80 in /usr/local/lib/python3.12/dist-packages (from torch) (12.6.80)\n",
      "Requirement already satisfied: nvidia-cudnn-cu12==9.10.2.21 in /usr/local/lib/python3.12/dist-packages (from torch) (9.10.2.21)\n",
      "Requirement already satisfied: nvidia-cublas-cu12==12.6.4.1 in /usr/local/lib/python3.12/dist-packages (from torch) (12.6.4.1)\n",
      "Requirement already satisfied: nvidia-cufft-cu12==11.3.0.4 in /usr/local/lib/python3.12/dist-packages (from torch) (11.3.0.4)\n",
      "Requirement already satisfied: nvidia-curand-cu12==10.3.7.77 in /usr/local/lib/python3.12/dist-packages (from torch) (10.3.7.77)\n",
      "Requirement already satisfied: nvidia-cusolver-cu12==11.7.1.2 in /usr/local/lib/python3.12/dist-packages (from torch) (11.7.1.2)\n",
      "Requirement already satisfied: nvidia-cusparse-cu12==12.5.4.2 in /usr/local/lib/python3.12/dist-packages (from torch) (12.5.4.2)\n",
      "Requirement already satisfied: nvidia-cusparselt-cu12==0.7.1 in /usr/local/lib/python3.12/dist-packages (from torch) (0.7.1)\n",
      "Requirement already satisfied: nvidia-nccl-cu12==2.27.3 in /usr/local/lib/python3.12/dist-packages (from torch) (2.27.3)\n",
      "Requirement already satisfied: nvidia-nvtx-cu12==12.6.77 in /usr/local/lib/python3.12/dist-packages (from torch) (12.6.77)\n",
      "Requirement already satisfied: nvidia-nvjitlink-cu12==12.6.85 in /usr/local/lib/python3.12/dist-packages (from torch) (12.6.85)\n",
      "Requirement already satisfied: nvidia-cufile-cu12==1.11.1.6 in /usr/local/lib/python3.12/dist-packages (from torch) (1.11.1.6)\n",
      "Requirement already satisfied: triton==3.4.0 in /usr/local/lib/python3.12/dist-packages (from torch) (3.4.0)\n",
      "Requirement already satisfied: pillow>=8 in /usr/local/lib/python3.12/dist-packages (from segmentation_models_pytorch) (11.3.0)\n",
      "Requirement already satisfied: timm>=0.9 in /usr/local/lib/python3.12/dist-packages (from segmentation_models_pytorch) (1.0.20)\n",
      "Requirement already satisfied: torchvision>=0.9 in /usr/local/lib/python3.12/dist-packages (from segmentation_models_pytorch) (0.23.0+cu126)\n",
      "Requirement already satisfied: lightning-utilities>=0.8.0 in /usr/local/lib/python3.12/dist-packages (from torchmetrics) (0.15.2)\n",
      "Requirement already satisfied: psutil in /usr/local/lib/python3.12/dist-packages (from peft) (5.9.5)\n",
      "Requirement already satisfied: accelerate>=0.21.0 in /usr/local/lib/python3.12/dist-packages (from peft) (1.10.1)\n",
      "Requirement already satisfied: contourpy>=1.0.1 in /usr/local/lib/python3.12/dist-packages (from matplotlib) (1.3.3)\n",
      "Requirement already satisfied: cycler>=0.10 in /usr/local/lib/python3.12/dist-packages (from matplotlib) (0.12.1)\n",
      "Requirement already satisfied: fonttools>=4.22.0 in /usr/local/lib/python3.12/dist-packages (from matplotlib) (4.60.1)\n",
      "Requirement already satisfied: kiwisolver>=1.3.1 in /usr/local/lib/python3.12/dist-packages (from matplotlib) (1.4.9)\n",
      "Requirement already satisfied: pyparsing>=2.3.1 in /usr/local/lib/python3.12/dist-packages (from matplotlib) (3.2.5)\n",
      "Requirement already satisfied: python-dateutil>=2.7 in /usr/local/lib/python3.12/dist-packages (from matplotlib) (2.9.0.post0)\n",
      "Requirement already satisfied: hf-xet<2.0.0,>=1.1.3 in /usr/local/lib/python3.12/dist-packages (from huggingface-hub<1.0,>=0.34.0->transformers) (1.1.10)\n",
      "Requirement already satisfied: annotated-types>=0.6.0 in /usr/local/lib/python3.12/dist-packages (from pydantic>=2.9.2->albumentations) (0.7.0)\n",
      "Requirement already satisfied: pydantic-core==2.33.2 in /usr/local/lib/python3.12/dist-packages (from pydantic>=2.9.2->albumentations) (2.33.2)\n",
      "Requirement already satisfied: typing-inspection>=0.4.0 in /usr/local/lib/python3.12/dist-packages (from pydantic>=2.9.2->albumentations) (0.4.2)\n",
      "Requirement already satisfied: six>=1.5 in /usr/local/lib/python3.12/dist-packages (from python-dateutil>=2.7->matplotlib) (1.17.0)\n",
      "Requirement already satisfied: mpmath<1.4,>=1.1.0 in /usr/local/lib/python3.12/dist-packages (from sympy>=1.13.3->torch) (1.3.0)\n",
      "Requirement already satisfied: MarkupSafe>=2.0 in /usr/local/lib/python3.12/dist-packages (from jinja2->torch) (3.0.3)\n",
      "Requirement already satisfied: charset_normalizer<4,>=2 in /usr/local/lib/python3.12/dist-packages (from requests->transformers) (3.4.3)\n",
      "Requirement already satisfied: idna<4,>=2.5 in /usr/local/lib/python3.12/dist-packages (from requests->transformers) (3.10)\n",
      "Requirement already satisfied: urllib3<3,>=1.21.1 in /usr/local/lib/python3.12/dist-packages (from requests->transformers) (2.5.0)\n",
      "Requirement already satisfied: certifi>=2017.4.17 in /usr/local/lib/python3.12/dist-packages (from requests->transformers) (2025.10.5)\n"
     ]
    }
   ]
  },
  {
   "cell_type": "markdown",
   "metadata": {
    "id": "HDgtkKb7_TTo"
   },
   "source": [
    "# Setup"
   ]
  },
  {
   "cell_type": "code",
   "execution_count": null,
   "metadata": {
    "id": "Je2z41FU_TTo",
    "colab": {
     "base_uri": "https://localhost:8080/"
    },
    "outputId": "9fa7c05e-9b74-479d-f58b-0eace3c3f598"
   },
   "outputs": [
    {
     "output_type": "stream",
     "name": "stdout",
     "text": [
      "/content/drive/.shortcut-targets-by-id/15pPCEVRFyHb3JQkFSnP8L6a0_nfm8ijp/Data Challenge 3 Group 3/coralscapesScripts/..\n",
      "/content/drive/.shortcut-targets-by-id/15pPCEVRFyHb3JQkFSnP8L6a0_nfm8ijp/Data Challenge 3 Group 3/coralscapesScripts\n",
      "['/content/drive/.shortcut-targets-by-id/15pPCEVRFyHb3JQkFSnP8L6a0_nfm8ijp/Data Challenge 3 Group 3/coralscapesScripts', '/content', '/env/python', '/usr/lib/python312.zip', '/usr/lib/python3.12', '/usr/lib/python3.12/lib-dynload', '', '/usr/local/lib/python3.12/dist-packages', '/usr/lib/python3/dist-packages', '/usr/local/lib/python3.12/dist-packages/IPython/extensions', '/root/.ipython']\n"
     ]
    }
   ],
   "source": [
    "import sys\n",
    "import os\n",
    "\n",
    "cur = os.path.join(os.getcwd(), '..')\n",
    "print(cur)\n",
    "proj_path = os.path.abspath(\n",
    "    os.path.join(os.getcwd(), '..')\n",
    ")\n",
    "coralpath = os.path.join(proj_path, 'coralscapesScripts')\n",
    "print(coralpath)\n",
    "\n",
    "sys.path.insert(0, coralpath)\n",
    "print(\n",
    "    sys.path\n",
    ")# # Assume your notebook is in <project_root>/coralscapes/, and coralscapesScripts is in <project_root>/\n",
    "# project_root = os.path.abspath(os.path.join(os.getcwd(), '..'))\n",
    "# if project_root not in sys.path:\n",
    "#     sys.path.insert(0, project_root)\n"
   ]
  },
  {
   "cell_type": "code",
   "source": [
    "!ls\n",
    "%cd coralscapesScripts\n",
    "\n"
   ],
   "metadata": {
    "colab": {
     "base_uri": "https://localhost:8080/"
    },
    "id": "LjEK6iQdaMlD",
    "outputId": "0a84da1a-823d-41a5-f178-bbfa36998226"
   },
   "execution_count": null,
   "outputs": [
    {
     "output_type": "stream",
     "name": "stdout",
     "text": [
      "assets\t\tconfigs\t\t      environment.yml  README.md\n",
      "benchmark_runs\tcoralscapes.egg-info  nbs\t       scripts\n",
      "bin\t\tcoralscapesScripts    pyproject.toml\n",
      "/content/drive/.shortcut-targets-by-id/15pPCEVRFyHb3JQkFSnP8L6a0_nfm8ijp/Data Challenge 3 Group 3/coralscapesScripts/coralscapesScripts\n"
     ]
    }
   ]
  },
  {
   "cell_type": "code",
   "execution_count": null,
   "metadata": {
    "id": "dms1Nh1a_TTo"
   },
   "outputs": [],
   "source": [
    "\n",
    "\n",
    "import albumentations as A\n",
    "\n",
    "from torch.utils.data import DataLoader, Dataset\n",
    "from coralscapesScripts.datasets.dataset import Coralscapes\n",
    "from coralscapesScripts.datasets.preprocess import get_preprocessor\n",
    "from coralscapesScripts.datasets.utils import calculate_weights\n",
    "\n",
    "from coralscapesScripts.segmentation.model import Benchmark_Run\n",
    "from coralscapesScripts.segmentation.benchmarking import launch_benchmark\n",
    "\n",
    "from coralscapesScripts.visualization import show_samples\n",
    "\n",
    "from coralscapesScripts.logger import Logger, save_benchmark_run\n",
    "from coralscapesScripts.io import setup_config, get_parser, update_config_with_args\n",
    "import copy\n",
    "\n",
    "import os\n",
    "\n",
    "#their eval sucks coz its bloated so using simpligied on\n",
    "import torch\n",
    "import torch.nn as nn # Import the neural network module\n"
   ]
  },
  {
   "cell_type": "code",
   "execution_count": null,
   "metadata": {
    "id": "8Ois-qOM_TTo"
   },
   "outputs": [],
   "source": [
    "seed = 42\n",
    "torch.manual_seed(seed)\n",
    "torch.cuda.manual_seed(seed)\n",
    "torch.backends.cudnn.deterministic = True\n",
    "torch.backends.cudnn.benchmark = True"
   ]
  },
  {
   "cell_type": "code",
   "execution_count": null,
   "metadata": {
    "id": "GCZBHx8E_TTp",
    "colab": {
     "base_uri": "https://localhost:8080/"
    },
    "outputId": "7d681843-4de0-4596-d26f-c5e745ef207d"
   },
   "outputs": [
    {
     "output_type": "stream",
     "name": "stdout",
     "text": [
      "CUDA Device 0: Tesla T4\n"
     ]
    },
    {
     "output_type": "execute_result",
     "data": {
      "text/plain": [
       "device(type='cuda')"
      ]
     },
     "metadata": {},
     "execution_count": 9
    }
   ],
   "source": [
    "device_count = torch.cuda.device_count()\n",
    "for i in range(device_count):\n",
    "    print(f\"CUDA Device {i}: {torch.cuda.get_device_name(i)}\")\n",
    "\n",
    "device = torch.device(\"cuda\") if torch.cuda.is_available() else torch.device(\"cpu\")\n",
    "device"
   ]
  },
  {
   "cell_type": "markdown",
   "metadata": {
    "id": "5HgwbOAz_TTp"
   },
   "source": [
    "## Config\n",
    "\n",
    "- Currently the Benchmark_Run takes the cfg and pops out the different parts (meaning the cfg file is **changed** after the object initialization).\n",
    "- If you want to look at the cfg after that, use the cfg_logger copy which will contain the original configuration.\n",
    "- Keep in mind due to this that if you try to \"recreate\" the Benchmark_Run object without rerunning the configuration it will most likely result in an error, so better to start over (or at least just rerun the config part of the script)."
   ]
  },
  {
   "cell_type": "markdown",
   "source": [
    "# dont really get wtvr the fuck they r tryna so imma just roll w it for now\n",
    "# UPDATE- u just have to rerun the whole thing coz it changes teh cfg. nothing major. ignoe"
   ],
   "metadata": {
    "id": "Ckhqz9CvFZQQ"
   }
  },
  {
   "cell_type": "code",
   "execution_count": null,
   "metadata": {
    "id": "1XZVYuyq_TTp"
   },
   "outputs": [],
   "source": "cfg = setup_config(config_path='configs/segformer-mit-b2_lora.yaml', config_base_path='configs/base.yaml')"
  },
  {
   "cell_type": "markdown",
   "metadata": {
    "id": "uOtX8lJT_TTp"
   },
   "source": [
    "## Args"
   ]
  },
  {
   "cell_type": "markdown",
   "metadata": {
    "id": "OirnEfnk_TTp"
   },
   "source": [
    "### Note\n",
    "- As in the command line, here the arguments take presedence over the config file, so here you can overwrite/test out some parameters without directly changing the cfg.\n",
    "- Keep in mind not all parameters of the config can be changed through cmd (you can see which ones in the get_parser and update_config_with_args function)."
   ]
  },
  {
   "cell_type": "code",
   "source": [],
   "metadata": {
    "id": "b8uUNdeXqAee"
   },
   "execution_count": null,
   "outputs": []
  },
  {
   "cell_type": "code",
   "execution_count": null,
   "metadata": {
    "id": "CK8SwNWD_TTp"
   },
   "outputs": [],
   "source": [
    "args_input = \"--run-name=fine_tune_notebook --batch-size=4 --batch-size-eval=2 --epochs=50\"\n",
    "args_input = args_input.split(\" \")\n",
    "\n",
    "parser = get_parser()\n",
    "args = parser.parse_args(args_input)\n",
    "\n",
    "cfg = update_config_with_args(cfg, args)\n",
    "cfg_logger = copy.deepcopy(cfg)"
   ]
  },
  {
   "cell_type": "markdown",
   "metadata": {
    "id": "l11O4atK_TTq"
   },
   "source": [
    "# Data"
   ]
  },
  {
   "cell_type": "markdown",
   "metadata": {
    "id": "WSTD-Biq_TTq"
   },
   "source": [
    "### Note\n",
    "Make a new dataset class using the Coralscapes class in coralscapesScripts.datasets.dataset as an example. Importantly, it needs to contain the following as arguments\n",
    "- transform (albumentations)\n",
    "- transform_target\n",
    "- N_classes\n",
    "- id2label  "
   ]
  },
  {
   "cell_type": "code",
   "source": [
    "root=\"/content/drive/MyDrive/Data Challenge 3 Group 3/01_data/coral_bleaching/reef_support/UNAL_BLEACHING_TAYRONA\"\n",
    "# root=\"/content/drive/MyDrive/Data Challenge 3 Group 3/cluster_0\"\n",
    "\n",
    "id2classes = {\n",
    "    # Background classes -> 0 (background)\n",
    "    #ignore the label name from here, i jut saw it from the class.json we can play around w it but meh\n",
    "    0: 0,   # background\n",
    "    1: 0,   # seagrass\n",
    "    2: 0,   # sand OR WTVR\n",
    "    5: 0,   # sand or wtvr\n",
    "    6: 0,   # rubble or wtvr\n",
    "    7: 0,   # algae_covered_substrate\n",
    "    8: 0,   # algae_covered_substrate\n",
    "    9: 0,   # fish\n",
    "    10: 0,  # algae_covered_substrate\n",
    "    11: 0,  # algae_covered_substrate\n",
    "    12: 0,  # algae_covered_substrate\n",
    "    13: 0,  # background\n",
    "    14: 0,  # dark\n",
    "    15: 0,  # algae_covered_substrate\n",
    "\n",
    "    # Bleached coral classes -> 1 (bleached)\n",
    "    3: 1,   # other_coral_bleached\n",
    "    4: 1,   # other_coral_bleached\n",
    "    16: 1,  # massive_meandering_bleached -> bleached\n",
    "    19: 1,  # branching_bleached -> bleached\n",
    "    33: 1,  # meandering_bleached -> bleached\n",
    "\n",
    "    # Non-bleached coral classes -> 2 (non-bleached)\n",
    "    17: 2,  # massive_meandering_alive -> non-bleached\n",
    "    18: 2,  # rubble (coral rubble) -> non-bleached\n",
    "    20: 2,  # branching_dead -> non-bleached (dead but not bleached)\n",
    "    21: 2,  # millepora -> non-bleached\n",
    "    22: 2,  # branching_alive -> non-bleached\n",
    "    23: 2,  # massive_meandering_dead -> non-bleached (dead but not bleached)\n",
    "    24: 2,  # clam -> non-bleached\n",
    "    25: 2,  # acropora_alive -> non-bleached\n",
    "    26: 2,  # sea_cucumber -> non-bleached\n",
    "    27: 2,  # turbinaria -> non-bleached\n",
    "    28: 2,  # table_acropora_alive -> non-bleached\n",
    "    29: 2,  # sponge -> non-bleached\n",
    "    30: 2,  # anemone -> non-bleached\n",
    "    31: 2,  # pocillopora_alive -> non-bleached\n",
    "    32: 2,  # table_acropora_dead -> non-bleached (dead but not bleached)\n",
    "    34: 2,  # stylophora_alive -> non-bleached\n",
    "    35: 2,  # sea_urchin -> non-bleached\n",
    "    36: 2,  # meandering_alive -> non-bleached\n",
    "    37: 2,  # meandering_dead -> non-bleached (dead but not bleached)\n",
    "    38: 2,  # crown_of_thorn -> non-bleached\n",
    "    39: 2,  # dead_clam -> non-bleached\n",
    "}"
   ],
   "metadata": {
    "id": "m91sFkHSMuee"
   },
   "execution_count": null,
   "outputs": []
  },
  {
   "cell_type": "code",
   "source": [
    "# Helper function to map 40-class predictions back to 3 classes\n",
    "def map_40_to_3_classes(predictions):\n",
    "    \"\"\"\n",
    "    Map 40-class predictions back to 3 classes:\n",
    "    - 0: Background (classes 0, 1, 2, 5, 6, 7, 8, 9, 10, 11, 12, 13, 14, 15)\n",
    "    - 1: Bleached (classes 3, 4, 16, 19, 33)\n",
    "    - 2: Non-bleached (classes 17, 18, 20-32, 34-39)\n",
    "    \"\"\"\n",
    "    # Create a mapping array\n",
    "    mapping = np.zeros(40, dtype=np.uint8)\n",
    "\n",
    "    # Set bleached classes\n",
    "    bleached_classes = [3, 4, 16, 19, 33]\n",
    "    for cls in bleached_classes:\n",
    "        mapping[cls] = 1\n",
    "\n",
    "    # Set non-bleached classes\n",
    "    non_bleached_classes = [17, 18, 20, 21, 22, 23, 24, 25, 26, 27, 28, 29, 30, 31, 32, 34, 35, 36, 37, 38, 39]\n",
    "    for cls in non_bleached_classes:\n",
    "        mapping[cls] = 2\n",
    "\n",
    "    # Apply mapping\n",
    "    if isinstance(predictions, torch.Tensor):\n",
    "        predictions = predictions.cpu().numpy()\n",
    "\n",
    "    mapped_predictions = mapping[predictions]\n",
    "    return mapped_predictions"
   ],
   "metadata": {
    "id": "g9Eul-oVyfTv"
   },
   "execution_count": null,
   "outputs": []
  },
  {
   "cell_type": "code",
   "source": [
    "for root, dirs, files in os.walk(root):\n",
    "    for name in dirs:\n",
    "        print(os.path.join(root, name), 'idoes it exist?')\n"
   ],
   "metadata": {
    "id": "r95vuEmrI_14",
    "colab": {
     "base_uri": "https://localhost:8080/",
     "height": 176
    },
    "outputId": "cce94b0a-d0d4-4cc2-b0b4-60f200d84db2"
   },
   "execution_count": null,
   "outputs": [
    {
     "output_type": "error",
     "ename": "NameError",
     "evalue": "name 'root' is not defined",
     "traceback": [
      "\u001B[0;31m---------------------------------------------------------------------------\u001B[0m",
      "\u001B[0;31mNameError\u001B[0m                                 Traceback (most recent call last)",
      "\u001B[0;32m/tmp/ipython-input-3237408688.py\u001B[0m in \u001B[0;36m<cell line: 0>\u001B[0;34m()\u001B[0m\n\u001B[0;32m----> 1\u001B[0;31m \u001B[0;32mfor\u001B[0m \u001B[0mroot\u001B[0m\u001B[0;34m,\u001B[0m \u001B[0mdirs\u001B[0m\u001B[0;34m,\u001B[0m \u001B[0mfiles\u001B[0m \u001B[0;32min\u001B[0m \u001B[0mos\u001B[0m\u001B[0;34m.\u001B[0m\u001B[0mwalk\u001B[0m\u001B[0;34m(\u001B[0m\u001B[0mroot\u001B[0m\u001B[0;34m)\u001B[0m\u001B[0;34m:\u001B[0m\u001B[0;34m\u001B[0m\u001B[0;34m\u001B[0m\u001B[0m\n\u001B[0m\u001B[1;32m      2\u001B[0m     \u001B[0;32mfor\u001B[0m \u001B[0mname\u001B[0m \u001B[0;32min\u001B[0m \u001B[0mdirs\u001B[0m\u001B[0;34m:\u001B[0m\u001B[0;34m\u001B[0m\u001B[0;34m\u001B[0m\u001B[0m\n\u001B[1;32m      3\u001B[0m         \u001B[0mprint\u001B[0m\u001B[0;34m(\u001B[0m\u001B[0mos\u001B[0m\u001B[0;34m.\u001B[0m\u001B[0mpath\u001B[0m\u001B[0;34m.\u001B[0m\u001B[0mjoin\u001B[0m\u001B[0;34m(\u001B[0m\u001B[0mroot\u001B[0m\u001B[0;34m,\u001B[0m \u001B[0mname\u001B[0m\u001B[0;34m)\u001B[0m\u001B[0;34m,\u001B[0m \u001B[0;34m'idoes it exist?'\u001B[0m\u001B[0;34m)\u001B[0m\u001B[0;34m\u001B[0m\u001B[0;34m\u001B[0m\u001B[0m\n",
      "\u001B[0;31mNameError\u001B[0m: name 'root' is not defined"
     ]
    }
   ]
  },
  {
   "cell_type": "code",
   "source": [
    "class CoralBleachingDataset(Dataset):\n",
    "    \"\"\"\n",
    "    Dataset for coral bleaching segmentation.\n",
    "    Expects data structure:\n",
    "    - images/: RGB images\n",
    "    - masks_bleached/: Masks for bleached corals\n",
    "    - masks_non_bleached/: Masks for non-bleached corals\n",
    "\n",
    "    This class follows the structure of the original Coralscapes class but works with our 3-class setup.\n",
    "    \"\"\"\n",
    "    def __init__(self, root=root, split='train', transform=None, transform_target=True):\n",
    "        \"\"\"\n",
    "        Args:\n",
    "            transform (callable): A function/transform that takes in an image and returns a transformed version.\n",
    "            transform_target (bool): Whether to also transform the segmentation mask.\n",
    "        \"\"\"\n",
    "        self.root = os.path.expanduser(root)\n",
    "        self.transform = transform\n",
    "        self.transform_target = transform_target\n",
    "        self.split = split\n",
    "\n",
    "        self.CoralClass = namedtuple('CoralClass', ['name', 'id', 'train_id', 'category', 'category_id', 'ignore_in_eval', 'color'])\n",
    "\n",
    "        self.classes = []\n",
    "        self.classes.append(self.CoralClass('background', 0, 0, 'background', 0, True, (0, 0, 0)))      # Black - background\n",
    "        self.classes.append(self.CoralClass('bleached', 1, 1, 'bleached', 1, False, (255, 255, 255)))    # White - bleached coral\n",
    "        self.classes.append(self.CoralClass('non_bleached', 2, 2, 'non_bleached', 2, False, (128, 128, 128)))  # Gray - non-bleached coral\n",
    "\n",
    "        # Set number of classes - follow the same logic as the original Coralscapes class\n",
    "        self.N_classes = 3  # We have 3 classes: background, bleached, non-bleached\n",
    "\n",
    "        self.id2label = {0: \"background\", 1: \"bleached\", 2: \"non_bleached\"}\n",
    "        self.label2id = {v: k for k, v in self.id2label.items()}\n",
    "\n",
    "        self.train_id_to_color = np.array([c.color for c in self.classes])\n",
    "\n",
    "        # juliette double check these.\n",
    "        # Define mapping from original 40 classes to our 3 classes\n",
    "        # This mapping is critical for interfacing with the model\n",
    "        self.class_mapping = {\n",
    "            # Background classes -> 0\n",
    "            0: 0, 1: 0, 2: 0, 5: 0, 6: 0, 7: 0, 8: 0, 9: 0, 10: 0, 11: 0, 12: 0, 13: 0, 14: 0, 15: 0,\n",
    "            # Bleached coral classes -> 1\n",
    "            3: 1, 4: 1, 16: 1, 19: 1, 33: 1,\n",
    "            # Non-bleached coral classes -> 2\n",
    "            17: 2, 18: 2, 20: 2, 21: 2, 22: 2, 23: 2, 24: 2, 25: 2, 26: 2, 27: 2, 28: 2, 29: 2,\n",
    "            30: 2, 31: 2, 32: 2, 34: 2, 35: 2, 36: 2, 37: 2, 38: 2, 39: 2\n",
    "        }\n",
    "        # Create reverse mapping for model output interpretation\n",
    "        self.reverse_class_mapping = {}\n",
    "        for original_class, our_class in self.class_mapping.items():\n",
    "            if our_class not in self.reverse_class_mapping:\n",
    "                self.reverse_class_mapping[our_class] = []\n",
    "            self.reverse_class_mapping[our_class].append(original_class)\n",
    "\n",
    "        # Create train/val/test splits\n",
    "        self.images_dir = os.path.join(self.root, 'images')\n",
    "        all_images = [f for f in os.listdir(self.images_dir)\n",
    "                     if f.endswith(('.jpg', '.jpeg', '.png', '.JPG', '.JPEG', '.PNG'))]\n",
    "\n",
    "        np.random.seed(42)\n",
    "        np.random.shuffle(all_images)\n",
    "\n",
    "        if split == 'train':\n",
    "            self.images = all_images[:int(0.7*len(all_images))]\n",
    "        elif split == 'val':\n",
    "            self.images = all_images[int(0.7*len(all_images)):int(0.85*len(all_images))]\n",
    "        elif split == 'test':\n",
    "            self.images = all_images[int(0.85*len(all_images)):]\n",
    "\n",
    "        print(f\"Loaded {len(self.images)} images for {split} split\")\n",
    "\n",
    "    def __getitem__(self, index):\n",
    "        \"\"\"\n",
    "        Retrieve and transform an image and its corresponding segmentation maps.\n",
    "        \"\"\"\n",
    "        img_name = self.images[index]\n",
    "        image_path = os.path.join(self.root, 'images', img_name)\n",
    "\n",
    "        # Get the base name without extension\n",
    "        base_name = os.path.splitext(img_name)[0]\n",
    "\n",
    "        # Load image\n",
    "        image = np.array(Image.open(image_path).convert('RGB'))\n",
    "\n",
    "        # Load bleached and non-bleached masks\n",
    "        bleached_mask_path = os.path.join(self.root, 'masks_bleached', f\"{base_name}_bleached.png\")\n",
    "        non_bleached_mask_path = os.path.join(self.root, 'masks_non_bleached', f\"{base_name}_non_bleached.png\")\n",
    "\n",
    "        try:\n",
    "            bleached_mask = np.array(Image.open(bleached_mask_path).convert('L'))\n",
    "            non_bleached_mask = np.array(Image.open(non_bleached_mask_path).convert('L'))\n",
    "        except FileNotFoundError as e:\n",
    "            print(f\"Error loading mask for {img_name}: {e}\")\n",
    "            raise\n",
    "\n",
    "        # Create a combined mask where:\n",
    "        # 0 = background, 1 = bleached, 2 = non-bleached\n",
    "        target = np.zeros_like(bleached_mask, dtype=np.uint8)\n",
    "        target[bleached_mask > 128] = 1      # White pixels in bleached mask -> class 1\n",
    "        target[non_bleached_mask > 128] = 2  # White pixels in non-bleached mask -> class 2\n",
    "        # Background remains 0 (black pixels)\n",
    "\n",
    "        # ADD THIS: Resize both image and mask to the same size\n",
    "        target_size = (512, 512)  # or whatever size you want\n",
    "\n",
    "        # Resize image\n",
    "        image_pil = Image.fromarray(image)\n",
    "        image_resized = image_pil.resize(target_size)\n",
    "        image = np.array(image_resized)\n",
    "\n",
    "        # Resize mask\n",
    "        target_pil = Image.fromarray(target)\n",
    "        target_resized = target_pil.resize(target_size, Image.NEAREST)  # Use NEAREST for masks\n",
    "        target = np.array(target_resized)\n",
    "\n",
    "        if self.transform:\n",
    "            if self.transform_target:\n",
    "                transformed = self.transform(image=image, mask=target)\n",
    "                image = transformed[\"image\"]\n",
    "                target = transformed[\"mask\"]\n",
    "            else:\n",
    "                transformed = self.transform(image=image)\n",
    "                image = transformed[\"image\"]\n",
    "\n",
    "        # Convert image to PyTorch format (C, H, W) if it's still a numpy array\n",
    "        if isinstance(image, np.ndarray):\n",
    "            image = image.transpose(2, 0, 1)\n",
    "\n",
    "        return image, target\n",
    "\n",
    "    def __len__(self):\n",
    "        return len(self.images)"
   ],
   "metadata": {
    "id": "PIjQ-zERFvGB",
    "colab": {
     "base_uri": "https://localhost:8080/",
     "height": 332
    },
    "outputId": "5f332602-3461-417c-e45e-6379ccaa1c9a"
   },
   "execution_count": null,
   "outputs": [
    {
     "output_type": "error",
     "ename": "NameError",
     "evalue": "name 'root' is not defined",
     "traceback": [
      "\u001B[0;31m---------------------------------------------------------------------------\u001B[0m",
      "\u001B[0;31mNameError\u001B[0m                                 Traceback (most recent call last)",
      "\u001B[0;32m/tmp/ipython-input-3166189171.py\u001B[0m in \u001B[0;36m<cell line: 0>\u001B[0;34m()\u001B[0m\n\u001B[0;32m----> 1\u001B[0;31m \u001B[0;32mclass\u001B[0m \u001B[0mCoralBleachingDataset\u001B[0m\u001B[0;34m(\u001B[0m\u001B[0mDataset\u001B[0m\u001B[0;34m)\u001B[0m\u001B[0;34m:\u001B[0m\u001B[0;34m\u001B[0m\u001B[0;34m\u001B[0m\u001B[0m\n\u001B[0m\u001B[1;32m      2\u001B[0m     \"\"\"\n\u001B[1;32m      3\u001B[0m     \u001B[0mDataset\u001B[0m \u001B[0;32mfor\u001B[0m \u001B[0mcoral\u001B[0m \u001B[0mbleaching\u001B[0m \u001B[0msegmentation\u001B[0m\u001B[0;34m.\u001B[0m\u001B[0;34m\u001B[0m\u001B[0;34m\u001B[0m\u001B[0m\n\u001B[1;32m      4\u001B[0m     \u001B[0mExpects\u001B[0m \u001B[0mdata\u001B[0m \u001B[0mstructure\u001B[0m\u001B[0;34m:\u001B[0m\u001B[0;34m\u001B[0m\u001B[0;34m\u001B[0m\u001B[0m\n\u001B[1;32m      5\u001B[0m     \u001B[0;34m-\u001B[0m \u001B[0mimages\u001B[0m\u001B[0;34m/\u001B[0m\u001B[0;34m:\u001B[0m \u001B[0mRGB\u001B[0m \u001B[0mimages\u001B[0m\u001B[0;34m\u001B[0m\u001B[0;34m\u001B[0m\u001B[0m\n",
      "\u001B[0;32m/tmp/ipython-input-3166189171.py\u001B[0m in \u001B[0;36mCoralBleachingDataset\u001B[0;34m()\u001B[0m\n\u001B[1;32m      9\u001B[0m     \u001B[0mThis\u001B[0m \u001B[0;32mclass\u001B[0m \u001B[0mfollows\u001B[0m \u001B[0mthe\u001B[0m \u001B[0mstructure\u001B[0m \u001B[0mof\u001B[0m \u001B[0mthe\u001B[0m \u001B[0moriginal\u001B[0m \u001B[0mCoralscapes\u001B[0m \u001B[0;32mclass\u001B[0m \u001B[0mbut\u001B[0m \u001B[0mworks\u001B[0m \u001B[0;32mwith\u001B[0m \u001B[0mour\u001B[0m \u001B[0;36m3\u001B[0m\u001B[0;34m-\u001B[0m\u001B[0;32mclass\u001B[0m \u001B[0msetup\u001B[0m\u001B[0;34m.\u001B[0m\u001B[0;34m\u001B[0m\u001B[0;34m\u001B[0m\u001B[0m\n\u001B[1;32m     10\u001B[0m     \"\"\"\n\u001B[0;32m---> 11\u001B[0;31m     \u001B[0;32mdef\u001B[0m \u001B[0m__init__\u001B[0m\u001B[0;34m(\u001B[0m\u001B[0mself\u001B[0m\u001B[0;34m,\u001B[0m \u001B[0mroot\u001B[0m\u001B[0;34m=\u001B[0m\u001B[0mroot\u001B[0m\u001B[0;34m,\u001B[0m \u001B[0msplit\u001B[0m\u001B[0;34m=\u001B[0m\u001B[0;34m'train'\u001B[0m\u001B[0;34m,\u001B[0m \u001B[0mtransform\u001B[0m\u001B[0;34m=\u001B[0m\u001B[0;32mNone\u001B[0m\u001B[0;34m,\u001B[0m \u001B[0mtransform_target\u001B[0m\u001B[0;34m=\u001B[0m\u001B[0;32mTrue\u001B[0m\u001B[0;34m)\u001B[0m\u001B[0;34m:\u001B[0m\u001B[0;34m\u001B[0m\u001B[0;34m\u001B[0m\u001B[0m\n\u001B[0m\u001B[1;32m     12\u001B[0m         \"\"\"\n\u001B[1;32m     13\u001B[0m         \u001B[0mArgs\u001B[0m\u001B[0;34m:\u001B[0m\u001B[0;34m\u001B[0m\u001B[0;34m\u001B[0m\u001B[0m\n",
      "\u001B[0;31mNameError\u001B[0m: name 'root' is not defined"
     ]
    }
   ]
  },
  {
   "cell_type": "code",
   "execution_count": null,
   "metadata": {
    "id": "C7xrsEyc_TTq",
    "colab": {
     "base_uri": "https://localhost:8080/"
    },
    "outputId": "2b671b19-bcb0-4ca4-e2ba-2fd37668517a"
   },
   "outputs": [
    {
     "output_type": "stream",
     "name": "stdout",
     "text": [
      "Warning: Adjusting 'RandomCrop' to match 512x512 size in split 'train'\n"
     ]
    }
   ],
   "source": [
    "#resizing ffs coz images are shite.\n",
    "transforms = {}\n",
    "for split in cfg.augmentation:\n",
    "    transform_list = [A.Resize(height=512, width=512)] # start with resize to ensure consistent size\n",
    "\n",
    "    for transform_name, transform_params in cfg.augmentation[split].items():\n",
    "        if \"Crop\" in transform_name and \"height\" in transform_params and \"width\" in transform_params:# skipping any crop operations that would be larger than our resize\n",
    "            if transform_params[\"height\"] > 512 or transform_params[\"width\"] > 512:\n",
    "                print(f\"Warning: Adjusting '{transform_name}' to match 512x512 size in split '{split}'\")\n",
    "                transform_params[\"height\"] = min(transform_params[\"height\"], 512)\n",
    "                transform_params[\"width\"] = min(transform_params[\"width\"], 512)\n",
    "\n",
    "        transform_list.append(getattr(A, transform_name)(**transform_params))\n",
    "\n",
    "    transforms[split] = A.Compose(transform_list)"
   ]
  },
  {
   "cell_type": "code",
   "source": [
    "cfg.data.root = '/content/drive/MyDrive/Data Challenge 3 Group 3/01_data/coral_bleaching/reef_support/UNAL_BLEACHING_TAYRONA'\n",
    "  # Adjust this path to your data directory FOR EACH OF THE CLUSTER/ this is v important or wasted gpu hours...\n",
    "# cfg.data.root=\"/content/drive/MyDrive/Data Challenge 3 Group 3/cluster_0\"\n"
   ],
   "metadata": {
    "id": "Jnsp08Z4KT0q"
   },
   "execution_count": null,
   "outputs": []
  },
  {
   "cell_type": "code",
   "execution_count": null,
   "metadata": {
    "id": "nbUEn99B_TTq",
    "colab": {
     "base_uri": "https://localhost:8080/"
    },
    "outputId": "c9d50ebf-00b8-4a10-99e4-4f4d42886633"
   },
   "outputs": [
    {
     "output_type": "stream",
     "name": "stdout",
     "text": [
      "Loaded 460 images for train split\n",
      "Loaded 99 images for val split\n",
      "Loaded 99 images for test split\n",
      "Classes: {0: 'background', 1: 'bleached', 2: 'non_bleached'}\n",
      "Number of classes: 3\n",
      "Train dataset has 460 samples\n",
      "Validation dataset has 99 samples\n",
      "Test dataset has 99 samples\n"
     ]
    }
   ],
   "source": [
    "train_dataset = CoralBleachingDataset(root=cfg.data.root, split='train', transform=transforms[\"train\"])\n",
    "\n",
    "transform_target = cfg.training.eval.transform_target if cfg.training.eval is not None and cfg.training.eval.transform_target is not None else True\n",
    "\n",
    "val_dataset = CoralBleachingDataset(root=cfg.data.root, split='val', transform=transforms[\"val\"], transform_target=transform_target)\n",
    "test_dataset = CoralBleachingDataset(root=cfg.data.root, split='test', transform=transforms[\"test\"], transform_target=transform_target)\n",
    "\n",
    "print(f\"Classes: {train_dataset.id2label}\")\n",
    "print(f\"Number of classes: {train_dataset.N_classes}\")\n",
    "print(f\"Train dataset has {len(train_dataset)} samples\")\n",
    "print(f\"Validation dataset has {len(val_dataset)} samples\")\n",
    "print(f\"Test dataset has {len(test_dataset)} samples\")"
   ]
  },
  {
   "cell_type": "code",
   "execution_count": null,
   "metadata": {
    "id": "zwIFsgsu_TTq"
   },
   "outputs": [],
   "source": [
    "train_loader = DataLoader(train_dataset, batch_size=cfg.data.batch_size, shuffle=True, num_workers=4, drop_last=True)\n",
    "val_loader = DataLoader(val_dataset, batch_size=cfg.data.batch_size_eval, shuffle=False, num_workers=2)\n",
    "test_loader = DataLoader(test_dataset, batch_size=cfg.data.batch_size_eval, shuffle=False, num_workers=2)"
   ]
  },
  {
   "cell_type": "code",
   "execution_count": null,
   "metadata": {
    "id": "S80fDtZF_TTq",
    "colab": {
     "base_uri": "https://localhost:8080/"
    },
    "outputId": "1dd07f0b-459b-40d6-b8f8-c617c9314777"
   },
   "outputs": [
    {
     "output_type": "stream",
     "name": "stdout",
     "text": [
      "115 50 50\n"
     ]
    }
   ],
   "source": [
    "print(len(train_loader), len(val_loader), len(test_loader))"
   ]
  },
  {
   "cell_type": "code",
   "execution_count": null,
   "metadata": {
    "id": "JQJfxQZr_TTq"
   },
   "outputs": [],
   "source": [
    "weight = calculate_weights(train_dataset).to(device) if(cfg.data.weight) else None"
   ]
  },
  {
   "cell_type": "markdown",
   "source": [
    "# Some masks folder sanity checks"
   ],
   "metadata": {
    "id": "Ljq0HuVZRjW0"
   }
  },
  {
   "cell_type": "markdown",
   "metadata": {
    "id": "_yl8QIRQ_TTr"
   },
   "source": [
    "## Visualizations"
   ]
  },
  {
   "cell_type": "code",
   "execution_count": null,
   "metadata": {
    "id": "i7NbAFeh_TTr"
   },
   "outputs": [],
   "source": [
    "# show_samples(train_dataset, n=2)\n",
    "# wont run coz i changed the class to coralscapebleachingdataset but can be visualized another way, not important yet."
   ]
  },
  {
   "cell_type": "code",
   "execution_count": null,
   "metadata": {
    "id": "xdTFpqwB_TTr"
   },
   "outputs": [],
   "source": [
    "# show_samples(val_dataset, n=2)"
   ]
  },
  {
   "cell_type": "code",
   "execution_count": null,
   "metadata": {
    "id": "Qxp97wx__TTr"
   },
   "outputs": [],
   "source": [
    "# show_samples(test_dataset, n=2)"
   ]
  },
  {
   "cell_type": "markdown",
   "metadata": {
    "id": "XhwnAI9s_TTr"
   },
   "source": [
    "# Benchmarking"
   ]
  },
  {
   "cell_type": "markdown",
   "metadata": {
    "id": "NGQdggBG_TTr"
   },
   "source": [
    "## Model"
   ]
  },
  {
   "cell_type": "code",
   "execution_count": null,
   "metadata": {
    "id": "GDTafi9E_TTr",
    "colab": {
     "base_uri": "https://localhost:8080/",
     "height": 275,
     "referenced_widgets": [
      "502259edf02b449c9bb88409fa8980c1",
      "d577f0673a194048be0afb93608d4a1a",
      "8188d52bbf634b8ca535f2f657b99c58",
      "82045f8fd0d14570b1d579174207ca2b",
      "4b1b938b88f74cf38f056f7ed5959d1d",
      "3b3aaf3eaade497bb5a75a06edfc032b",
      "4380c01cc2c44dc7b00aa9a3ed456dee",
      "f3ffa0db522148e3a7135b62db7d757d",
      "7b197085bc5440ff9a51d85f60fb88a0",
      "6fedaa4730d04a3dbd06a4f5b45b2c4d",
      "3a9b249be8e14675b1c00a8d39b69c26",
      "f5e303bf79ba4be28818c017d5d9aa2d",
      "8926a518d9604f9182b65c672df16f2b",
      "ae7fb0290fce4dd3ada7dd6643a736aa",
      "113a59620bdc48b3af64136ae2cd96c1",
      "55d8bcbe60bb400c81e3257dabd15ad1",
      "7bdbe3e00679401da0a877b442f1dcfe",
      "b0df2f7de6cb442aa9f783ff38b035fc",
      "70e04e01e00d4231be460baf8c4d4043",
      "6d1622e21a4740feb04f2a97e16a653d",
      "0586a15b494949459d5b29a28af86935",
      "89babad0978b41f78acdceaa8fef76f9"
     ]
    },
    "outputId": "7ae928be-507e-4c81-d2ad-cec164cd2f13"
   },
   "outputs": [
    {
     "output_type": "stream",
     "name": "stderr",
     "text": [
      "/content/drive/.shortcut-targets-by-id/15pPCEVRFyHb3JQkFSnP8L6a0_nfm8ijp/Data Challenge 3 Group 3/coralscapesScripts/coralscapesScripts/datasets/preprocess.py:105: UserWarning: The following named arguments are not valid for `SegformerImageProcessor.__init__` and were ignored: 'ignore_index', 'num_labels'\n",
      "  preprocessor = SegformerImageProcessor(**default_preprocessor_kwargs)\n",
      "/usr/local/lib/python3.12/dist-packages/huggingface_hub/utils/_auth.py:94: UserWarning: \n",
      "The secret `HF_TOKEN` does not exist in your Colab secrets.\n",
      "To authenticate with the Hugging Face Hub, create a token in your settings tab (https://huggingface.co/settings/tokens), set it as secret in your Google Colab and restart your session.\n",
      "You will be able to reuse this secret in all of your notebooks.\n",
      "Please note that authentication is recommended but still optional to access public models or datasets.\n",
      "  warnings.warn(\n"
     ]
    },
    {
     "output_type": "display_data",
     "data": {
      "text/plain": [
       "config.json: 0.00B [00:00, ?B/s]"
      ],
      "application/vnd.jupyter.widget-view+json": {
       "version_major": 2,
       "version_minor": 0,
       "model_id": "502259edf02b449c9bb88409fa8980c1"
      }
     },
     "metadata": {}
    },
    {
     "output_type": "display_data",
     "data": {
      "text/plain": [
       "pytorch_model.bin:   0%|          | 0.00/99.0M [00:00<?, ?B/s]"
      ],
      "application/vnd.jupyter.widget-view+json": {
       "version_major": 2,
       "version_minor": 0,
       "model_id": "f5e303bf79ba4be28818c017d5d9aa2d"
      }
     },
     "metadata": {}
    },
    {
     "output_type": "stream",
     "name": "stderr",
     "text": [
      "Some weights of SegformerForSemanticSegmentation were not initialized from the model checkpoint at nvidia/mit-b2 and are newly initialized: ['decode_head.batch_norm.bias', 'decode_head.batch_norm.num_batches_tracked', 'decode_head.batch_norm.running_mean', 'decode_head.batch_norm.running_var', 'decode_head.batch_norm.weight', 'decode_head.classifier.bias', 'decode_head.classifier.weight', 'decode_head.linear_c.0.proj.bias', 'decode_head.linear_c.0.proj.weight', 'decode_head.linear_c.1.proj.bias', 'decode_head.linear_c.1.proj.weight', 'decode_head.linear_c.2.proj.bias', 'decode_head.linear_c.2.proj.weight', 'decode_head.linear_c.3.proj.bias', 'decode_head.linear_c.3.proj.weight', 'decode_head.linear_fuse.weight']\n",
      "You should probably TRAIN this model on a down-stream task to be able to use it for predictions and inference.\n"
     ]
    }
   ],
   "source": [
    "benchmark_run = Benchmark_Run(run_name=cfg.run_name,\n",
    "                             model_name=cfg.model.name,\n",
    "                             N_classes=3,  # Using 40 for model compatibility\n",
    "                             device=device,\n",
    "                             model_kwargs=cfg.model.kwargs,\n",
    "                             model_checkpoint=cfg.model.checkpoint,\n",
    "                             lora_kwargs=cfg.lora,\n",
    "                             training_hyperparameters=cfg.training)"
   ]
  },
  {
   "cell_type": "code",
   "source": [
    "benchmark_run.print_trainable_parameters()"
   ],
   "metadata": {
    "id": "wt12XyOCOsom",
    "colab": {
     "base_uri": "https://localhost:8080/"
    },
    "outputId": "87e8aaa7-2a57-4de1-c6a6-1a6ec915eaec"
   },
   "execution_count": null,
   "outputs": [
    {
     "output_type": "stream",
     "name": "stdout",
     "text": [
      "trainable params: 5290883 || all params: 32631494 || trainable%: 16.21\n"
     ]
    }
   ]
  },
  {
   "cell_type": "markdown",
   "metadata": {
    "id": "i9KDuTbb_TTs"
   },
   "source": [
    "### Note\n",
    "- If you want to use a LoRA approach, as long as you have it in the config (as in this case) with the correct parameters, you are good to go to the training script, no other changes need to be made.  \n",
    "- If you want to freeze a specific layer, the easiest start is to just look at the model here and freeze the parameters you prefer."
   ]
  },
  {
   "cell_type": "code",
   "execution_count": null,
   "metadata": {
    "id": "Dj5N9iTe_TTs",
    "collapsed": true,
    "colab": {
     "base_uri": "https://localhost:8080/"
    },
    "outputId": "97565058-0137-411a-85b9-d3cf744cdec1"
   },
   "outputs": [
    {
     "output_type": "execute_result",
     "data": {
      "text/plain": [
       "PeftModel(\n",
       "  (base_model): LoraModel(\n",
       "    (model): SegformerForSemanticSegmentation(\n",
       "      (segformer): SegformerModel(\n",
       "        (encoder): SegformerEncoder(\n",
       "          (patch_embeddings): ModuleList(\n",
       "            (0): SegformerOverlapPatchEmbeddings(\n",
       "              (proj): Conv2d(3, 64, kernel_size=(7, 7), stride=(4, 4), padding=(3, 3))\n",
       "              (layer_norm): LayerNorm((64,), eps=1e-05, elementwise_affine=True)\n",
       "            )\n",
       "            (1): SegformerOverlapPatchEmbeddings(\n",
       "              (proj): Conv2d(64, 128, kernel_size=(3, 3), stride=(2, 2), padding=(1, 1))\n",
       "              (layer_norm): LayerNorm((128,), eps=1e-05, elementwise_affine=True)\n",
       "            )\n",
       "            (2): SegformerOverlapPatchEmbeddings(\n",
       "              (proj): Conv2d(128, 320, kernel_size=(3, 3), stride=(2, 2), padding=(1, 1))\n",
       "              (layer_norm): LayerNorm((320,), eps=1e-05, elementwise_affine=True)\n",
       "            )\n",
       "            (3): SegformerOverlapPatchEmbeddings(\n",
       "              (proj): Conv2d(320, 512, kernel_size=(3, 3), stride=(2, 2), padding=(1, 1))\n",
       "              (layer_norm): LayerNorm((512,), eps=1e-05, elementwise_affine=True)\n",
       "            )\n",
       "          )\n",
       "          (block): ModuleList(\n",
       "            (0): ModuleList(\n",
       "              (0): SegformerLayer(\n",
       "                (layer_norm_1): LayerNorm((64,), eps=1e-05, elementwise_affine=True)\n",
       "                (attention): SegformerAttention(\n",
       "                  (self): SegformerEfficientSelfAttention(\n",
       "                    (query): lora.Linear(\n",
       "                      (base_layer): Linear(in_features=64, out_features=64, bias=True)\n",
       "                      (lora_dropout): ModuleDict(\n",
       "                        (default): Dropout(p=0.1, inplace=False)\n",
       "                      )\n",
       "                      (lora_A): ModuleDict(\n",
       "                        (default): Linear(in_features=64, out_features=128, bias=False)\n",
       "                      )\n",
       "                      (lora_B): ModuleDict(\n",
       "                        (default): Linear(in_features=128, out_features=64, bias=False)\n",
       "                      )\n",
       "                      (lora_embedding_A): ParameterDict()\n",
       "                      (lora_embedding_B): ParameterDict()\n",
       "                      (lora_magnitude_vector): ModuleDict()\n",
       "                    )\n",
       "                    (key): Linear(in_features=64, out_features=64, bias=True)\n",
       "                    (value): lora.Linear(\n",
       "                      (base_layer): Linear(in_features=64, out_features=64, bias=True)\n",
       "                      (lora_dropout): ModuleDict(\n",
       "                        (default): Dropout(p=0.1, inplace=False)\n",
       "                      )\n",
       "                      (lora_A): ModuleDict(\n",
       "                        (default): Linear(in_features=64, out_features=128, bias=False)\n",
       "                      )\n",
       "                      (lora_B): ModuleDict(\n",
       "                        (default): Linear(in_features=128, out_features=64, bias=False)\n",
       "                      )\n",
       "                      (lora_embedding_A): ParameterDict()\n",
       "                      (lora_embedding_B): ParameterDict()\n",
       "                      (lora_magnitude_vector): ModuleDict()\n",
       "                    )\n",
       "                    (dropout): Dropout(p=0.0, inplace=False)\n",
       "                    (sr): Conv2d(64, 64, kernel_size=(8, 8), stride=(8, 8))\n",
       "                    (layer_norm): LayerNorm((64,), eps=1e-05, elementwise_affine=True)\n",
       "                  )\n",
       "                  (output): SegformerSelfOutput(\n",
       "                    (dense): Linear(in_features=64, out_features=64, bias=True)\n",
       "                    (dropout): Dropout(p=0.0, inplace=False)\n",
       "                  )\n",
       "                )\n",
       "                (drop_path): Identity()\n",
       "                (layer_norm_2): LayerNorm((64,), eps=1e-05, elementwise_affine=True)\n",
       "                (mlp): SegformerMixFFN(\n",
       "                  (dense1): Linear(in_features=64, out_features=256, bias=True)\n",
       "                  (dwconv): SegformerDWConv(\n",
       "                    (dwconv): Conv2d(256, 256, kernel_size=(3, 3), stride=(1, 1), padding=(1, 1), groups=256)\n",
       "                  )\n",
       "                  (intermediate_act_fn): GELUActivation()\n",
       "                  (dense2): Linear(in_features=256, out_features=64, bias=True)\n",
       "                  (dropout): Dropout(p=0.0, inplace=False)\n",
       "                )\n",
       "              )\n",
       "              (1): SegformerLayer(\n",
       "                (layer_norm_1): LayerNorm((64,), eps=1e-05, elementwise_affine=True)\n",
       "                (attention): SegformerAttention(\n",
       "                  (self): SegformerEfficientSelfAttention(\n",
       "                    (query): lora.Linear(\n",
       "                      (base_layer): Linear(in_features=64, out_features=64, bias=True)\n",
       "                      (lora_dropout): ModuleDict(\n",
       "                        (default): Dropout(p=0.1, inplace=False)\n",
       "                      )\n",
       "                      (lora_A): ModuleDict(\n",
       "                        (default): Linear(in_features=64, out_features=128, bias=False)\n",
       "                      )\n",
       "                      (lora_B): ModuleDict(\n",
       "                        (default): Linear(in_features=128, out_features=64, bias=False)\n",
       "                      )\n",
       "                      (lora_embedding_A): ParameterDict()\n",
       "                      (lora_embedding_B): ParameterDict()\n",
       "                      (lora_magnitude_vector): ModuleDict()\n",
       "                    )\n",
       "                    (key): Linear(in_features=64, out_features=64, bias=True)\n",
       "                    (value): lora.Linear(\n",
       "                      (base_layer): Linear(in_features=64, out_features=64, bias=True)\n",
       "                      (lora_dropout): ModuleDict(\n",
       "                        (default): Dropout(p=0.1, inplace=False)\n",
       "                      )\n",
       "                      (lora_A): ModuleDict(\n",
       "                        (default): Linear(in_features=64, out_features=128, bias=False)\n",
       "                      )\n",
       "                      (lora_B): ModuleDict(\n",
       "                        (default): Linear(in_features=128, out_features=64, bias=False)\n",
       "                      )\n",
       "                      (lora_embedding_A): ParameterDict()\n",
       "                      (lora_embedding_B): ParameterDict()\n",
       "                      (lora_magnitude_vector): ModuleDict()\n",
       "                    )\n",
       "                    (dropout): Dropout(p=0.0, inplace=False)\n",
       "                    (sr): Conv2d(64, 64, kernel_size=(8, 8), stride=(8, 8))\n",
       "                    (layer_norm): LayerNorm((64,), eps=1e-05, elementwise_affine=True)\n",
       "                  )\n",
       "                  (output): SegformerSelfOutput(\n",
       "                    (dense): Linear(in_features=64, out_features=64, bias=True)\n",
       "                    (dropout): Dropout(p=0.0, inplace=False)\n",
       "                  )\n",
       "                )\n",
       "                (drop_path): SegformerDropPath(p=0.006666666828095913)\n",
       "                (layer_norm_2): LayerNorm((64,), eps=1e-05, elementwise_affine=True)\n",
       "                (mlp): SegformerMixFFN(\n",
       "                  (dense1): Linear(in_features=64, out_features=256, bias=True)\n",
       "                  (dwconv): SegformerDWConv(\n",
       "                    (dwconv): Conv2d(256, 256, kernel_size=(3, 3), stride=(1, 1), padding=(1, 1), groups=256)\n",
       "                  )\n",
       "                  (intermediate_act_fn): GELUActivation()\n",
       "                  (dense2): Linear(in_features=256, out_features=64, bias=True)\n",
       "                  (dropout): Dropout(p=0.0, inplace=False)\n",
       "                )\n",
       "              )\n",
       "              (2): SegformerLayer(\n",
       "                (layer_norm_1): LayerNorm((64,), eps=1e-05, elementwise_affine=True)\n",
       "                (attention): SegformerAttention(\n",
       "                  (self): SegformerEfficientSelfAttention(\n",
       "                    (query): lora.Linear(\n",
       "                      (base_layer): Linear(in_features=64, out_features=64, bias=True)\n",
       "                      (lora_dropout): ModuleDict(\n",
       "                        (default): Dropout(p=0.1, inplace=False)\n",
       "                      )\n",
       "                      (lora_A): ModuleDict(\n",
       "                        (default): Linear(in_features=64, out_features=128, bias=False)\n",
       "                      )\n",
       "                      (lora_B): ModuleDict(\n",
       "                        (default): Linear(in_features=128, out_features=64, bias=False)\n",
       "                      )\n",
       "                      (lora_embedding_A): ParameterDict()\n",
       "                      (lora_embedding_B): ParameterDict()\n",
       "                      (lora_magnitude_vector): ModuleDict()\n",
       "                    )\n",
       "                    (key): Linear(in_features=64, out_features=64, bias=True)\n",
       "                    (value): lora.Linear(\n",
       "                      (base_layer): Linear(in_features=64, out_features=64, bias=True)\n",
       "                      (lora_dropout): ModuleDict(\n",
       "                        (default): Dropout(p=0.1, inplace=False)\n",
       "                      )\n",
       "                      (lora_A): ModuleDict(\n",
       "                        (default): Linear(in_features=64, out_features=128, bias=False)\n",
       "                      )\n",
       "                      (lora_B): ModuleDict(\n",
       "                        (default): Linear(in_features=128, out_features=64, bias=False)\n",
       "                      )\n",
       "                      (lora_embedding_A): ParameterDict()\n",
       "                      (lora_embedding_B): ParameterDict()\n",
       "                      (lora_magnitude_vector): ModuleDict()\n",
       "                    )\n",
       "                    (dropout): Dropout(p=0.0, inplace=False)\n",
       "                    (sr): Conv2d(64, 64, kernel_size=(8, 8), stride=(8, 8))\n",
       "                    (layer_norm): LayerNorm((64,), eps=1e-05, elementwise_affine=True)\n",
       "                  )\n",
       "                  (output): SegformerSelfOutput(\n",
       "                    (dense): Linear(in_features=64, out_features=64, bias=True)\n",
       "                    (dropout): Dropout(p=0.0, inplace=False)\n",
       "                  )\n",
       "                )\n",
       "                (drop_path): SegformerDropPath(p=0.013333333656191826)\n",
       "                (layer_norm_2): LayerNorm((64,), eps=1e-05, elementwise_affine=True)\n",
       "                (mlp): SegformerMixFFN(\n",
       "                  (dense1): Linear(in_features=64, out_features=256, bias=True)\n",
       "                  (dwconv): SegformerDWConv(\n",
       "                    (dwconv): Conv2d(256, 256, kernel_size=(3, 3), stride=(1, 1), padding=(1, 1), groups=256)\n",
       "                  )\n",
       "                  (intermediate_act_fn): GELUActivation()\n",
       "                  (dense2): Linear(in_features=256, out_features=64, bias=True)\n",
       "                  (dropout): Dropout(p=0.0, inplace=False)\n",
       "                )\n",
       "              )\n",
       "            )\n",
       "            (1): ModuleList(\n",
       "              (0): SegformerLayer(\n",
       "                (layer_norm_1): LayerNorm((128,), eps=1e-05, elementwise_affine=True)\n",
       "                (attention): SegformerAttention(\n",
       "                  (self): SegformerEfficientSelfAttention(\n",
       "                    (query): lora.Linear(\n",
       "                      (base_layer): Linear(in_features=128, out_features=128, bias=True)\n",
       "                      (lora_dropout): ModuleDict(\n",
       "                        (default): Dropout(p=0.1, inplace=False)\n",
       "                      )\n",
       "                      (lora_A): ModuleDict(\n",
       "                        (default): Linear(in_features=128, out_features=128, bias=False)\n",
       "                      )\n",
       "                      (lora_B): ModuleDict(\n",
       "                        (default): Linear(in_features=128, out_features=128, bias=False)\n",
       "                      )\n",
       "                      (lora_embedding_A): ParameterDict()\n",
       "                      (lora_embedding_B): ParameterDict()\n",
       "                      (lora_magnitude_vector): ModuleDict()\n",
       "                    )\n",
       "                    (key): Linear(in_features=128, out_features=128, bias=True)\n",
       "                    (value): lora.Linear(\n",
       "                      (base_layer): Linear(in_features=128, out_features=128, bias=True)\n",
       "                      (lora_dropout): ModuleDict(\n",
       "                        (default): Dropout(p=0.1, inplace=False)\n",
       "                      )\n",
       "                      (lora_A): ModuleDict(\n",
       "                        (default): Linear(in_features=128, out_features=128, bias=False)\n",
       "                      )\n",
       "                      (lora_B): ModuleDict(\n",
       "                        (default): Linear(in_features=128, out_features=128, bias=False)\n",
       "                      )\n",
       "                      (lora_embedding_A): ParameterDict()\n",
       "                      (lora_embedding_B): ParameterDict()\n",
       "                      (lora_magnitude_vector): ModuleDict()\n",
       "                    )\n",
       "                    (dropout): Dropout(p=0.0, inplace=False)\n",
       "                    (sr): Conv2d(128, 128, kernel_size=(4, 4), stride=(4, 4))\n",
       "                    (layer_norm): LayerNorm((128,), eps=1e-05, elementwise_affine=True)\n",
       "                  )\n",
       "                  (output): SegformerSelfOutput(\n",
       "                    (dense): Linear(in_features=128, out_features=128, bias=True)\n",
       "                    (dropout): Dropout(p=0.0, inplace=False)\n",
       "                  )\n",
       "                )\n",
       "                (drop_path): SegformerDropPath(p=0.019999999552965164)\n",
       "                (layer_norm_2): LayerNorm((128,), eps=1e-05, elementwise_affine=True)\n",
       "                (mlp): SegformerMixFFN(\n",
       "                  (dense1): Linear(in_features=128, out_features=512, bias=True)\n",
       "                  (dwconv): SegformerDWConv(\n",
       "                    (dwconv): Conv2d(512, 512, kernel_size=(3, 3), stride=(1, 1), padding=(1, 1), groups=512)\n",
       "                  )\n",
       "                  (intermediate_act_fn): GELUActivation()\n",
       "                  (dense2): Linear(in_features=512, out_features=128, bias=True)\n",
       "                  (dropout): Dropout(p=0.0, inplace=False)\n",
       "                )\n",
       "              )\n",
       "              (1): SegformerLayer(\n",
       "                (layer_norm_1): LayerNorm((128,), eps=1e-05, elementwise_affine=True)\n",
       "                (attention): SegformerAttention(\n",
       "                  (self): SegformerEfficientSelfAttention(\n",
       "                    (query): lora.Linear(\n",
       "                      (base_layer): Linear(in_features=128, out_features=128, bias=True)\n",
       "                      (lora_dropout): ModuleDict(\n",
       "                        (default): Dropout(p=0.1, inplace=False)\n",
       "                      )\n",
       "                      (lora_A): ModuleDict(\n",
       "                        (default): Linear(in_features=128, out_features=128, bias=False)\n",
       "                      )\n",
       "                      (lora_B): ModuleDict(\n",
       "                        (default): Linear(in_features=128, out_features=128, bias=False)\n",
       "                      )\n",
       "                      (lora_embedding_A): ParameterDict()\n",
       "                      (lora_embedding_B): ParameterDict()\n",
       "                      (lora_magnitude_vector): ModuleDict()\n",
       "                    )\n",
       "                    (key): Linear(in_features=128, out_features=128, bias=True)\n",
       "                    (value): lora.Linear(\n",
       "                      (base_layer): Linear(in_features=128, out_features=128, bias=True)\n",
       "                      (lora_dropout): ModuleDict(\n",
       "                        (default): Dropout(p=0.1, inplace=False)\n",
       "                      )\n",
       "                      (lora_A): ModuleDict(\n",
       "                        (default): Linear(in_features=128, out_features=128, bias=False)\n",
       "                      )\n",
       "                      (lora_B): ModuleDict(\n",
       "                        (default): Linear(in_features=128, out_features=128, bias=False)\n",
       "                      )\n",
       "                      (lora_embedding_A): ParameterDict()\n",
       "                      (lora_embedding_B): ParameterDict()\n",
       "                      (lora_magnitude_vector): ModuleDict()\n",
       "                    )\n",
       "                    (dropout): Dropout(p=0.0, inplace=False)\n",
       "                    (sr): Conv2d(128, 128, kernel_size=(4, 4), stride=(4, 4))\n",
       "                    (layer_norm): LayerNorm((128,), eps=1e-05, elementwise_affine=True)\n",
       "                  )\n",
       "                  (output): SegformerSelfOutput(\n",
       "                    (dense): Linear(in_features=128, out_features=128, bias=True)\n",
       "                    (dropout): Dropout(p=0.0, inplace=False)\n",
       "                  )\n",
       "                )\n",
       "                (drop_path): SegformerDropPath(p=0.02666666731238365)\n",
       "                (layer_norm_2): LayerNorm((128,), eps=1e-05, elementwise_affine=True)\n",
       "                (mlp): SegformerMixFFN(\n",
       "                  (dense1): Linear(in_features=128, out_features=512, bias=True)\n",
       "                  (dwconv): SegformerDWConv(\n",
       "                    (dwconv): Conv2d(512, 512, kernel_size=(3, 3), stride=(1, 1), padding=(1, 1), groups=512)\n",
       "                  )\n",
       "                  (intermediate_act_fn): GELUActivation()\n",
       "                  (dense2): Linear(in_features=512, out_features=128, bias=True)\n",
       "                  (dropout): Dropout(p=0.0, inplace=False)\n",
       "                )\n",
       "              )\n",
       "              (2): SegformerLayer(\n",
       "                (layer_norm_1): LayerNorm((128,), eps=1e-05, elementwise_affine=True)\n",
       "                (attention): SegformerAttention(\n",
       "                  (self): SegformerEfficientSelfAttention(\n",
       "                    (query): lora.Linear(\n",
       "                      (base_layer): Linear(in_features=128, out_features=128, bias=True)\n",
       "                      (lora_dropout): ModuleDict(\n",
       "                        (default): Dropout(p=0.1, inplace=False)\n",
       "                      )\n",
       "                      (lora_A): ModuleDict(\n",
       "                        (default): Linear(in_features=128, out_features=128, bias=False)\n",
       "                      )\n",
       "                      (lora_B): ModuleDict(\n",
       "                        (default): Linear(in_features=128, out_features=128, bias=False)\n",
       "                      )\n",
       "                      (lora_embedding_A): ParameterDict()\n",
       "                      (lora_embedding_B): ParameterDict()\n",
       "                      (lora_magnitude_vector): ModuleDict()\n",
       "                    )\n",
       "                    (key): Linear(in_features=128, out_features=128, bias=True)\n",
       "                    (value): lora.Linear(\n",
       "                      (base_layer): Linear(in_features=128, out_features=128, bias=True)\n",
       "                      (lora_dropout): ModuleDict(\n",
       "                        (default): Dropout(p=0.1, inplace=False)\n",
       "                      )\n",
       "                      (lora_A): ModuleDict(\n",
       "                        (default): Linear(in_features=128, out_features=128, bias=False)\n",
       "                      )\n",
       "                      (lora_B): ModuleDict(\n",
       "                        (default): Linear(in_features=128, out_features=128, bias=False)\n",
       "                      )\n",
       "                      (lora_embedding_A): ParameterDict()\n",
       "                      (lora_embedding_B): ParameterDict()\n",
       "                      (lora_magnitude_vector): ModuleDict()\n",
       "                    )\n",
       "                    (dropout): Dropout(p=0.0, inplace=False)\n",
       "                    (sr): Conv2d(128, 128, kernel_size=(4, 4), stride=(4, 4))\n",
       "                    (layer_norm): LayerNorm((128,), eps=1e-05, elementwise_affine=True)\n",
       "                  )\n",
       "                  (output): SegformerSelfOutput(\n",
       "                    (dense): Linear(in_features=128, out_features=128, bias=True)\n",
       "                    (dropout): Dropout(p=0.0, inplace=False)\n",
       "                  )\n",
       "                )\n",
       "                (drop_path): SegformerDropPath(p=0.03333333507180214)\n",
       "                (layer_norm_2): LayerNorm((128,), eps=1e-05, elementwise_affine=True)\n",
       "                (mlp): SegformerMixFFN(\n",
       "                  (dense1): Linear(in_features=128, out_features=512, bias=True)\n",
       "                  (dwconv): SegformerDWConv(\n",
       "                    (dwconv): Conv2d(512, 512, kernel_size=(3, 3), stride=(1, 1), padding=(1, 1), groups=512)\n",
       "                  )\n",
       "                  (intermediate_act_fn): GELUActivation()\n",
       "                  (dense2): Linear(in_features=512, out_features=128, bias=True)\n",
       "                  (dropout): Dropout(p=0.0, inplace=False)\n",
       "                )\n",
       "              )\n",
       "              (3): SegformerLayer(\n",
       "                (layer_norm_1): LayerNorm((128,), eps=1e-05, elementwise_affine=True)\n",
       "                (attention): SegformerAttention(\n",
       "                  (self): SegformerEfficientSelfAttention(\n",
       "                    (query): lora.Linear(\n",
       "                      (base_layer): Linear(in_features=128, out_features=128, bias=True)\n",
       "                      (lora_dropout): ModuleDict(\n",
       "                        (default): Dropout(p=0.1, inplace=False)\n",
       "                      )\n",
       "                      (lora_A): ModuleDict(\n",
       "                        (default): Linear(in_features=128, out_features=128, bias=False)\n",
       "                      )\n",
       "                      (lora_B): ModuleDict(\n",
       "                        (default): Linear(in_features=128, out_features=128, bias=False)\n",
       "                      )\n",
       "                      (lora_embedding_A): ParameterDict()\n",
       "                      (lora_embedding_B): ParameterDict()\n",
       "                      (lora_magnitude_vector): ModuleDict()\n",
       "                    )\n",
       "                    (key): Linear(in_features=128, out_features=128, bias=True)\n",
       "                    (value): lora.Linear(\n",
       "                      (base_layer): Linear(in_features=128, out_features=128, bias=True)\n",
       "                      (lora_dropout): ModuleDict(\n",
       "                        (default): Dropout(p=0.1, inplace=False)\n",
       "                      )\n",
       "                      (lora_A): ModuleDict(\n",
       "                        (default): Linear(in_features=128, out_features=128, bias=False)\n",
       "                      )\n",
       "                      (lora_B): ModuleDict(\n",
       "                        (default): Linear(in_features=128, out_features=128, bias=False)\n",
       "                      )\n",
       "                      (lora_embedding_A): ParameterDict()\n",
       "                      (lora_embedding_B): ParameterDict()\n",
       "                      (lora_magnitude_vector): ModuleDict()\n",
       "                    )\n",
       "                    (dropout): Dropout(p=0.0, inplace=False)\n",
       "                    (sr): Conv2d(128, 128, kernel_size=(4, 4), stride=(4, 4))\n",
       "                    (layer_norm): LayerNorm((128,), eps=1e-05, elementwise_affine=True)\n",
       "                  )\n",
       "                  (output): SegformerSelfOutput(\n",
       "                    (dense): Linear(in_features=128, out_features=128, bias=True)\n",
       "                    (dropout): Dropout(p=0.0, inplace=False)\n",
       "                  )\n",
       "                )\n",
       "                (drop_path): SegformerDropPath(p=0.03999999910593033)\n",
       "                (layer_norm_2): LayerNorm((128,), eps=1e-05, elementwise_affine=True)\n",
       "                (mlp): SegformerMixFFN(\n",
       "                  (dense1): Linear(in_features=128, out_features=512, bias=True)\n",
       "                  (dwconv): SegformerDWConv(\n",
       "                    (dwconv): Conv2d(512, 512, kernel_size=(3, 3), stride=(1, 1), padding=(1, 1), groups=512)\n",
       "                  )\n",
       "                  (intermediate_act_fn): GELUActivation()\n",
       "                  (dense2): Linear(in_features=512, out_features=128, bias=True)\n",
       "                  (dropout): Dropout(p=0.0, inplace=False)\n",
       "                )\n",
       "              )\n",
       "            )\n",
       "            (2): ModuleList(\n",
       "              (0): SegformerLayer(\n",
       "                (layer_norm_1): LayerNorm((320,), eps=1e-05, elementwise_affine=True)\n",
       "                (attention): SegformerAttention(\n",
       "                  (self): SegformerEfficientSelfAttention(\n",
       "                    (query): lora.Linear(\n",
       "                      (base_layer): Linear(in_features=320, out_features=320, bias=True)\n",
       "                      (lora_dropout): ModuleDict(\n",
       "                        (default): Dropout(p=0.1, inplace=False)\n",
       "                      )\n",
       "                      (lora_A): ModuleDict(\n",
       "                        (default): Linear(in_features=320, out_features=128, bias=False)\n",
       "                      )\n",
       "                      (lora_B): ModuleDict(\n",
       "                        (default): Linear(in_features=128, out_features=320, bias=False)\n",
       "                      )\n",
       "                      (lora_embedding_A): ParameterDict()\n",
       "                      (lora_embedding_B): ParameterDict()\n",
       "                      (lora_magnitude_vector): ModuleDict()\n",
       "                    )\n",
       "                    (key): Linear(in_features=320, out_features=320, bias=True)\n",
       "                    (value): lora.Linear(\n",
       "                      (base_layer): Linear(in_features=320, out_features=320, bias=True)\n",
       "                      (lora_dropout): ModuleDict(\n",
       "                        (default): Dropout(p=0.1, inplace=False)\n",
       "                      )\n",
       "                      (lora_A): ModuleDict(\n",
       "                        (default): Linear(in_features=320, out_features=128, bias=False)\n",
       "                      )\n",
       "                      (lora_B): ModuleDict(\n",
       "                        (default): Linear(in_features=128, out_features=320, bias=False)\n",
       "                      )\n",
       "                      (lora_embedding_A): ParameterDict()\n",
       "                      (lora_embedding_B): ParameterDict()\n",
       "                      (lora_magnitude_vector): ModuleDict()\n",
       "                    )\n",
       "                    (dropout): Dropout(p=0.0, inplace=False)\n",
       "                    (sr): Conv2d(320, 320, kernel_size=(2, 2), stride=(2, 2))\n",
       "                    (layer_norm): LayerNorm((320,), eps=1e-05, elementwise_affine=True)\n",
       "                  )\n",
       "                  (output): SegformerSelfOutput(\n",
       "                    (dense): Linear(in_features=320, out_features=320, bias=True)\n",
       "                    (dropout): Dropout(p=0.0, inplace=False)\n",
       "                  )\n",
       "                )\n",
       "                (drop_path): SegformerDropPath(p=0.046666666865348816)\n",
       "                (layer_norm_2): LayerNorm((320,), eps=1e-05, elementwise_affine=True)\n",
       "                (mlp): SegformerMixFFN(\n",
       "                  (dense1): Linear(in_features=320, out_features=1280, bias=True)\n",
       "                  (dwconv): SegformerDWConv(\n",
       "                    (dwconv): Conv2d(1280, 1280, kernel_size=(3, 3), stride=(1, 1), padding=(1, 1), groups=1280)\n",
       "                  )\n",
       "                  (intermediate_act_fn): GELUActivation()\n",
       "                  (dense2): Linear(in_features=1280, out_features=320, bias=True)\n",
       "                  (dropout): Dropout(p=0.0, inplace=False)\n",
       "                )\n",
       "              )\n",
       "              (1): SegformerLayer(\n",
       "                (layer_norm_1): LayerNorm((320,), eps=1e-05, elementwise_affine=True)\n",
       "                (attention): SegformerAttention(\n",
       "                  (self): SegformerEfficientSelfAttention(\n",
       "                    (query): lora.Linear(\n",
       "                      (base_layer): Linear(in_features=320, out_features=320, bias=True)\n",
       "                      (lora_dropout): ModuleDict(\n",
       "                        (default): Dropout(p=0.1, inplace=False)\n",
       "                      )\n",
       "                      (lora_A): ModuleDict(\n",
       "                        (default): Linear(in_features=320, out_features=128, bias=False)\n",
       "                      )\n",
       "                      (lora_B): ModuleDict(\n",
       "                        (default): Linear(in_features=128, out_features=320, bias=False)\n",
       "                      )\n",
       "                      (lora_embedding_A): ParameterDict()\n",
       "                      (lora_embedding_B): ParameterDict()\n",
       "                      (lora_magnitude_vector): ModuleDict()\n",
       "                    )\n",
       "                    (key): Linear(in_features=320, out_features=320, bias=True)\n",
       "                    (value): lora.Linear(\n",
       "                      (base_layer): Linear(in_features=320, out_features=320, bias=True)\n",
       "                      (lora_dropout): ModuleDict(\n",
       "                        (default): Dropout(p=0.1, inplace=False)\n",
       "                      )\n",
       "                      (lora_A): ModuleDict(\n",
       "                        (default): Linear(in_features=320, out_features=128, bias=False)\n",
       "                      )\n",
       "                      (lora_B): ModuleDict(\n",
       "                        (default): Linear(in_features=128, out_features=320, bias=False)\n",
       "                      )\n",
       "                      (lora_embedding_A): ParameterDict()\n",
       "                      (lora_embedding_B): ParameterDict()\n",
       "                      (lora_magnitude_vector): ModuleDict()\n",
       "                    )\n",
       "                    (dropout): Dropout(p=0.0, inplace=False)\n",
       "                    (sr): Conv2d(320, 320, kernel_size=(2, 2), stride=(2, 2))\n",
       "                    (layer_norm): LayerNorm((320,), eps=1e-05, elementwise_affine=True)\n",
       "                  )\n",
       "                  (output): SegformerSelfOutput(\n",
       "                    (dense): Linear(in_features=320, out_features=320, bias=True)\n",
       "                    (dropout): Dropout(p=0.0, inplace=False)\n",
       "                  )\n",
       "                )\n",
       "                (drop_path): SegformerDropPath(p=0.0533333346247673)\n",
       "                (layer_norm_2): LayerNorm((320,), eps=1e-05, elementwise_affine=True)\n",
       "                (mlp): SegformerMixFFN(\n",
       "                  (dense1): Linear(in_features=320, out_features=1280, bias=True)\n",
       "                  (dwconv): SegformerDWConv(\n",
       "                    (dwconv): Conv2d(1280, 1280, kernel_size=(3, 3), stride=(1, 1), padding=(1, 1), groups=1280)\n",
       "                  )\n",
       "                  (intermediate_act_fn): GELUActivation()\n",
       "                  (dense2): Linear(in_features=1280, out_features=320, bias=True)\n",
       "                  (dropout): Dropout(p=0.0, inplace=False)\n",
       "                )\n",
       "              )\n",
       "              (2): SegformerLayer(\n",
       "                (layer_norm_1): LayerNorm((320,), eps=1e-05, elementwise_affine=True)\n",
       "                (attention): SegformerAttention(\n",
       "                  (self): SegformerEfficientSelfAttention(\n",
       "                    (query): lora.Linear(\n",
       "                      (base_layer): Linear(in_features=320, out_features=320, bias=True)\n",
       "                      (lora_dropout): ModuleDict(\n",
       "                        (default): Dropout(p=0.1, inplace=False)\n",
       "                      )\n",
       "                      (lora_A): ModuleDict(\n",
       "                        (default): Linear(in_features=320, out_features=128, bias=False)\n",
       "                      )\n",
       "                      (lora_B): ModuleDict(\n",
       "                        (default): Linear(in_features=128, out_features=320, bias=False)\n",
       "                      )\n",
       "                      (lora_embedding_A): ParameterDict()\n",
       "                      (lora_embedding_B): ParameterDict()\n",
       "                      (lora_magnitude_vector): ModuleDict()\n",
       "                    )\n",
       "                    (key): Linear(in_features=320, out_features=320, bias=True)\n",
       "                    (value): lora.Linear(\n",
       "                      (base_layer): Linear(in_features=320, out_features=320, bias=True)\n",
       "                      (lora_dropout): ModuleDict(\n",
       "                        (default): Dropout(p=0.1, inplace=False)\n",
       "                      )\n",
       "                      (lora_A): ModuleDict(\n",
       "                        (default): Linear(in_features=320, out_features=128, bias=False)\n",
       "                      )\n",
       "                      (lora_B): ModuleDict(\n",
       "                        (default): Linear(in_features=128, out_features=320, bias=False)\n",
       "                      )\n",
       "                      (lora_embedding_A): ParameterDict()\n",
       "                      (lora_embedding_B): ParameterDict()\n",
       "                      (lora_magnitude_vector): ModuleDict()\n",
       "                    )\n",
       "                    (dropout): Dropout(p=0.0, inplace=False)\n",
       "                    (sr): Conv2d(320, 320, kernel_size=(2, 2), stride=(2, 2))\n",
       "                    (layer_norm): LayerNorm((320,), eps=1e-05, elementwise_affine=True)\n",
       "                  )\n",
       "                  (output): SegformerSelfOutput(\n",
       "                    (dense): Linear(in_features=320, out_features=320, bias=True)\n",
       "                    (dropout): Dropout(p=0.0, inplace=False)\n",
       "                  )\n",
       "                )\n",
       "                (drop_path): SegformerDropPath(p=0.06000000238418579)\n",
       "                (layer_norm_2): LayerNorm((320,), eps=1e-05, elementwise_affine=True)\n",
       "                (mlp): SegformerMixFFN(\n",
       "                  (dense1): Linear(in_features=320, out_features=1280, bias=True)\n",
       "                  (dwconv): SegformerDWConv(\n",
       "                    (dwconv): Conv2d(1280, 1280, kernel_size=(3, 3), stride=(1, 1), padding=(1, 1), groups=1280)\n",
       "                  )\n",
       "                  (intermediate_act_fn): GELUActivation()\n",
       "                  (dense2): Linear(in_features=1280, out_features=320, bias=True)\n",
       "                  (dropout): Dropout(p=0.0, inplace=False)\n",
       "                )\n",
       "              )\n",
       "              (3): SegformerLayer(\n",
       "                (layer_norm_1): LayerNorm((320,), eps=1e-05, elementwise_affine=True)\n",
       "                (attention): SegformerAttention(\n",
       "                  (self): SegformerEfficientSelfAttention(\n",
       "                    (query): lora.Linear(\n",
       "                      (base_layer): Linear(in_features=320, out_features=320, bias=True)\n",
       "                      (lora_dropout): ModuleDict(\n",
       "                        (default): Dropout(p=0.1, inplace=False)\n",
       "                      )\n",
       "                      (lora_A): ModuleDict(\n",
       "                        (default): Linear(in_features=320, out_features=128, bias=False)\n",
       "                      )\n",
       "                      (lora_B): ModuleDict(\n",
       "                        (default): Linear(in_features=128, out_features=320, bias=False)\n",
       "                      )\n",
       "                      (lora_embedding_A): ParameterDict()\n",
       "                      (lora_embedding_B): ParameterDict()\n",
       "                      (lora_magnitude_vector): ModuleDict()\n",
       "                    )\n",
       "                    (key): Linear(in_features=320, out_features=320, bias=True)\n",
       "                    (value): lora.Linear(\n",
       "                      (base_layer): Linear(in_features=320, out_features=320, bias=True)\n",
       "                      (lora_dropout): ModuleDict(\n",
       "                        (default): Dropout(p=0.1, inplace=False)\n",
       "                      )\n",
       "                      (lora_A): ModuleDict(\n",
       "                        (default): Linear(in_features=320, out_features=128, bias=False)\n",
       "                      )\n",
       "                      (lora_B): ModuleDict(\n",
       "                        (default): Linear(in_features=128, out_features=320, bias=False)\n",
       "                      )\n",
       "                      (lora_embedding_A): ParameterDict()\n",
       "                      (lora_embedding_B): ParameterDict()\n",
       "                      (lora_magnitude_vector): ModuleDict()\n",
       "                    )\n",
       "                    (dropout): Dropout(p=0.0, inplace=False)\n",
       "                    (sr): Conv2d(320, 320, kernel_size=(2, 2), stride=(2, 2))\n",
       "                    (layer_norm): LayerNorm((320,), eps=1e-05, elementwise_affine=True)\n",
       "                  )\n",
       "                  (output): SegformerSelfOutput(\n",
       "                    (dense): Linear(in_features=320, out_features=320, bias=True)\n",
       "                    (dropout): Dropout(p=0.0, inplace=False)\n",
       "                  )\n",
       "                )\n",
       "                (drop_path): SegformerDropPath(p=0.06666667014360428)\n",
       "                (layer_norm_2): LayerNorm((320,), eps=1e-05, elementwise_affine=True)\n",
       "                (mlp): SegformerMixFFN(\n",
       "                  (dense1): Linear(in_features=320, out_features=1280, bias=True)\n",
       "                  (dwconv): SegformerDWConv(\n",
       "                    (dwconv): Conv2d(1280, 1280, kernel_size=(3, 3), stride=(1, 1), padding=(1, 1), groups=1280)\n",
       "                  )\n",
       "                  (intermediate_act_fn): GELUActivation()\n",
       "                  (dense2): Linear(in_features=1280, out_features=320, bias=True)\n",
       "                  (dropout): Dropout(p=0.0, inplace=False)\n",
       "                )\n",
       "              )\n",
       "              (4): SegformerLayer(\n",
       "                (layer_norm_1): LayerNorm((320,), eps=1e-05, elementwise_affine=True)\n",
       "                (attention): SegformerAttention(\n",
       "                  (self): SegformerEfficientSelfAttention(\n",
       "                    (query): lora.Linear(\n",
       "                      (base_layer): Linear(in_features=320, out_features=320, bias=True)\n",
       "                      (lora_dropout): ModuleDict(\n",
       "                        (default): Dropout(p=0.1, inplace=False)\n",
       "                      )\n",
       "                      (lora_A): ModuleDict(\n",
       "                        (default): Linear(in_features=320, out_features=128, bias=False)\n",
       "                      )\n",
       "                      (lora_B): ModuleDict(\n",
       "                        (default): Linear(in_features=128, out_features=320, bias=False)\n",
       "                      )\n",
       "                      (lora_embedding_A): ParameterDict()\n",
       "                      (lora_embedding_B): ParameterDict()\n",
       "                      (lora_magnitude_vector): ModuleDict()\n",
       "                    )\n",
       "                    (key): Linear(in_features=320, out_features=320, bias=True)\n",
       "                    (value): lora.Linear(\n",
       "                      (base_layer): Linear(in_features=320, out_features=320, bias=True)\n",
       "                      (lora_dropout): ModuleDict(\n",
       "                        (default): Dropout(p=0.1, inplace=False)\n",
       "                      )\n",
       "                      (lora_A): ModuleDict(\n",
       "                        (default): Linear(in_features=320, out_features=128, bias=False)\n",
       "                      )\n",
       "                      (lora_B): ModuleDict(\n",
       "                        (default): Linear(in_features=128, out_features=320, bias=False)\n",
       "                      )\n",
       "                      (lora_embedding_A): ParameterDict()\n",
       "                      (lora_embedding_B): ParameterDict()\n",
       "                      (lora_magnitude_vector): ModuleDict()\n",
       "                    )\n",
       "                    (dropout): Dropout(p=0.0, inplace=False)\n",
       "                    (sr): Conv2d(320, 320, kernel_size=(2, 2), stride=(2, 2))\n",
       "                    (layer_norm): LayerNorm((320,), eps=1e-05, elementwise_affine=True)\n",
       "                  )\n",
       "                  (output): SegformerSelfOutput(\n",
       "                    (dense): Linear(in_features=320, out_features=320, bias=True)\n",
       "                    (dropout): Dropout(p=0.0, inplace=False)\n",
       "                  )\n",
       "                )\n",
       "                (drop_path): SegformerDropPath(p=0.07333333790302277)\n",
       "                (layer_norm_2): LayerNorm((320,), eps=1e-05, elementwise_affine=True)\n",
       "                (mlp): SegformerMixFFN(\n",
       "                  (dense1): Linear(in_features=320, out_features=1280, bias=True)\n",
       "                  (dwconv): SegformerDWConv(\n",
       "                    (dwconv): Conv2d(1280, 1280, kernel_size=(3, 3), stride=(1, 1), padding=(1, 1), groups=1280)\n",
       "                  )\n",
       "                  (intermediate_act_fn): GELUActivation()\n",
       "                  (dense2): Linear(in_features=1280, out_features=320, bias=True)\n",
       "                  (dropout): Dropout(p=0.0, inplace=False)\n",
       "                )\n",
       "              )\n",
       "              (5): SegformerLayer(\n",
       "                (layer_norm_1): LayerNorm((320,), eps=1e-05, elementwise_affine=True)\n",
       "                (attention): SegformerAttention(\n",
       "                  (self): SegformerEfficientSelfAttention(\n",
       "                    (query): lora.Linear(\n",
       "                      (base_layer): Linear(in_features=320, out_features=320, bias=True)\n",
       "                      (lora_dropout): ModuleDict(\n",
       "                        (default): Dropout(p=0.1, inplace=False)\n",
       "                      )\n",
       "                      (lora_A): ModuleDict(\n",
       "                        (default): Linear(in_features=320, out_features=128, bias=False)\n",
       "                      )\n",
       "                      (lora_B): ModuleDict(\n",
       "                        (default): Linear(in_features=128, out_features=320, bias=False)\n",
       "                      )\n",
       "                      (lora_embedding_A): ParameterDict()\n",
       "                      (lora_embedding_B): ParameterDict()\n",
       "                      (lora_magnitude_vector): ModuleDict()\n",
       "                    )\n",
       "                    (key): Linear(in_features=320, out_features=320, bias=True)\n",
       "                    (value): lora.Linear(\n",
       "                      (base_layer): Linear(in_features=320, out_features=320, bias=True)\n",
       "                      (lora_dropout): ModuleDict(\n",
       "                        (default): Dropout(p=0.1, inplace=False)\n",
       "                      )\n",
       "                      (lora_A): ModuleDict(\n",
       "                        (default): Linear(in_features=320, out_features=128, bias=False)\n",
       "                      )\n",
       "                      (lora_B): ModuleDict(\n",
       "                        (default): Linear(in_features=128, out_features=320, bias=False)\n",
       "                      )\n",
       "                      (lora_embedding_A): ParameterDict()\n",
       "                      (lora_embedding_B): ParameterDict()\n",
       "                      (lora_magnitude_vector): ModuleDict()\n",
       "                    )\n",
       "                    (dropout): Dropout(p=0.0, inplace=False)\n",
       "                    (sr): Conv2d(320, 320, kernel_size=(2, 2), stride=(2, 2))\n",
       "                    (layer_norm): LayerNorm((320,), eps=1e-05, elementwise_affine=True)\n",
       "                  )\n",
       "                  (output): SegformerSelfOutput(\n",
       "                    (dense): Linear(in_features=320, out_features=320, bias=True)\n",
       "                    (dropout): Dropout(p=0.0, inplace=False)\n",
       "                  )\n",
       "                )\n",
       "                (drop_path): SegformerDropPath(p=0.07999999821186066)\n",
       "                (layer_norm_2): LayerNorm((320,), eps=1e-05, elementwise_affine=True)\n",
       "                (mlp): SegformerMixFFN(\n",
       "                  (dense1): Linear(in_features=320, out_features=1280, bias=True)\n",
       "                  (dwconv): SegformerDWConv(\n",
       "                    (dwconv): Conv2d(1280, 1280, kernel_size=(3, 3), stride=(1, 1), padding=(1, 1), groups=1280)\n",
       "                  )\n",
       "                  (intermediate_act_fn): GELUActivation()\n",
       "                  (dense2): Linear(in_features=1280, out_features=320, bias=True)\n",
       "                  (dropout): Dropout(p=0.0, inplace=False)\n",
       "                )\n",
       "              )\n",
       "            )\n",
       "            (3): ModuleList(\n",
       "              (0): SegformerLayer(\n",
       "                (layer_norm_1): LayerNorm((512,), eps=1e-05, elementwise_affine=True)\n",
       "                (attention): SegformerAttention(\n",
       "                  (self): SegformerEfficientSelfAttention(\n",
       "                    (query): lora.Linear(\n",
       "                      (base_layer): Linear(in_features=512, out_features=512, bias=True)\n",
       "                      (lora_dropout): ModuleDict(\n",
       "                        (default): Dropout(p=0.1, inplace=False)\n",
       "                      )\n",
       "                      (lora_A): ModuleDict(\n",
       "                        (default): Linear(in_features=512, out_features=128, bias=False)\n",
       "                      )\n",
       "                      (lora_B): ModuleDict(\n",
       "                        (default): Linear(in_features=128, out_features=512, bias=False)\n",
       "                      )\n",
       "                      (lora_embedding_A): ParameterDict()\n",
       "                      (lora_embedding_B): ParameterDict()\n",
       "                      (lora_magnitude_vector): ModuleDict()\n",
       "                    )\n",
       "                    (key): Linear(in_features=512, out_features=512, bias=True)\n",
       "                    (value): lora.Linear(\n",
       "                      (base_layer): Linear(in_features=512, out_features=512, bias=True)\n",
       "                      (lora_dropout): ModuleDict(\n",
       "                        (default): Dropout(p=0.1, inplace=False)\n",
       "                      )\n",
       "                      (lora_A): ModuleDict(\n",
       "                        (default): Linear(in_features=512, out_features=128, bias=False)\n",
       "                      )\n",
       "                      (lora_B): ModuleDict(\n",
       "                        (default): Linear(in_features=128, out_features=512, bias=False)\n",
       "                      )\n",
       "                      (lora_embedding_A): ParameterDict()\n",
       "                      (lora_embedding_B): ParameterDict()\n",
       "                      (lora_magnitude_vector): ModuleDict()\n",
       "                    )\n",
       "                    (dropout): Dropout(p=0.0, inplace=False)\n",
       "                  )\n",
       "                  (output): SegformerSelfOutput(\n",
       "                    (dense): Linear(in_features=512, out_features=512, bias=True)\n",
       "                    (dropout): Dropout(p=0.0, inplace=False)\n",
       "                  )\n",
       "                )\n",
       "                (drop_path): SegformerDropPath(p=0.08666666597127914)\n",
       "                (layer_norm_2): LayerNorm((512,), eps=1e-05, elementwise_affine=True)\n",
       "                (mlp): SegformerMixFFN(\n",
       "                  (dense1): Linear(in_features=512, out_features=2048, bias=True)\n",
       "                  (dwconv): SegformerDWConv(\n",
       "                    (dwconv): Conv2d(2048, 2048, kernel_size=(3, 3), stride=(1, 1), padding=(1, 1), groups=2048)\n",
       "                  )\n",
       "                  (intermediate_act_fn): GELUActivation()\n",
       "                  (dense2): Linear(in_features=2048, out_features=512, bias=True)\n",
       "                  (dropout): Dropout(p=0.0, inplace=False)\n",
       "                )\n",
       "              )\n",
       "              (1): SegformerLayer(\n",
       "                (layer_norm_1): LayerNorm((512,), eps=1e-05, elementwise_affine=True)\n",
       "                (attention): SegformerAttention(\n",
       "                  (self): SegformerEfficientSelfAttention(\n",
       "                    (query): lora.Linear(\n",
       "                      (base_layer): Linear(in_features=512, out_features=512, bias=True)\n",
       "                      (lora_dropout): ModuleDict(\n",
       "                        (default): Dropout(p=0.1, inplace=False)\n",
       "                      )\n",
       "                      (lora_A): ModuleDict(\n",
       "                        (default): Linear(in_features=512, out_features=128, bias=False)\n",
       "                      )\n",
       "                      (lora_B): ModuleDict(\n",
       "                        (default): Linear(in_features=128, out_features=512, bias=False)\n",
       "                      )\n",
       "                      (lora_embedding_A): ParameterDict()\n",
       "                      (lora_embedding_B): ParameterDict()\n",
       "                      (lora_magnitude_vector): ModuleDict()\n",
       "                    )\n",
       "                    (key): Linear(in_features=512, out_features=512, bias=True)\n",
       "                    (value): lora.Linear(\n",
       "                      (base_layer): Linear(in_features=512, out_features=512, bias=True)\n",
       "                      (lora_dropout): ModuleDict(\n",
       "                        (default): Dropout(p=0.1, inplace=False)\n",
       "                      )\n",
       "                      (lora_A): ModuleDict(\n",
       "                        (default): Linear(in_features=512, out_features=128, bias=False)\n",
       "                      )\n",
       "                      (lora_B): ModuleDict(\n",
       "                        (default): Linear(in_features=128, out_features=512, bias=False)\n",
       "                      )\n",
       "                      (lora_embedding_A): ParameterDict()\n",
       "                      (lora_embedding_B): ParameterDict()\n",
       "                      (lora_magnitude_vector): ModuleDict()\n",
       "                    )\n",
       "                    (dropout): Dropout(p=0.0, inplace=False)\n",
       "                  )\n",
       "                  (output): SegformerSelfOutput(\n",
       "                    (dense): Linear(in_features=512, out_features=512, bias=True)\n",
       "                    (dropout): Dropout(p=0.0, inplace=False)\n",
       "                  )\n",
       "                )\n",
       "                (drop_path): SegformerDropPath(p=0.09333333373069763)\n",
       "                (layer_norm_2): LayerNorm((512,), eps=1e-05, elementwise_affine=True)\n",
       "                (mlp): SegformerMixFFN(\n",
       "                  (dense1): Linear(in_features=512, out_features=2048, bias=True)\n",
       "                  (dwconv): SegformerDWConv(\n",
       "                    (dwconv): Conv2d(2048, 2048, kernel_size=(3, 3), stride=(1, 1), padding=(1, 1), groups=2048)\n",
       "                  )\n",
       "                  (intermediate_act_fn): GELUActivation()\n",
       "                  (dense2): Linear(in_features=2048, out_features=512, bias=True)\n",
       "                  (dropout): Dropout(p=0.0, inplace=False)\n",
       "                )\n",
       "              )\n",
       "              (2): SegformerLayer(\n",
       "                (layer_norm_1): LayerNorm((512,), eps=1e-05, elementwise_affine=True)\n",
       "                (attention): SegformerAttention(\n",
       "                  (self): SegformerEfficientSelfAttention(\n",
       "                    (query): lora.Linear(\n",
       "                      (base_layer): Linear(in_features=512, out_features=512, bias=True)\n",
       "                      (lora_dropout): ModuleDict(\n",
       "                        (default): Dropout(p=0.1, inplace=False)\n",
       "                      )\n",
       "                      (lora_A): ModuleDict(\n",
       "                        (default): Linear(in_features=512, out_features=128, bias=False)\n",
       "                      )\n",
       "                      (lora_B): ModuleDict(\n",
       "                        (default): Linear(in_features=128, out_features=512, bias=False)\n",
       "                      )\n",
       "                      (lora_embedding_A): ParameterDict()\n",
       "                      (lora_embedding_B): ParameterDict()\n",
       "                      (lora_magnitude_vector): ModuleDict()\n",
       "                    )\n",
       "                    (key): Linear(in_features=512, out_features=512, bias=True)\n",
       "                    (value): lora.Linear(\n",
       "                      (base_layer): Linear(in_features=512, out_features=512, bias=True)\n",
       "                      (lora_dropout): ModuleDict(\n",
       "                        (default): Dropout(p=0.1, inplace=False)\n",
       "                      )\n",
       "                      (lora_A): ModuleDict(\n",
       "                        (default): Linear(in_features=512, out_features=128, bias=False)\n",
       "                      )\n",
       "                      (lora_B): ModuleDict(\n",
       "                        (default): Linear(in_features=128, out_features=512, bias=False)\n",
       "                      )\n",
       "                      (lora_embedding_A): ParameterDict()\n",
       "                      (lora_embedding_B): ParameterDict()\n",
       "                      (lora_magnitude_vector): ModuleDict()\n",
       "                    )\n",
       "                    (dropout): Dropout(p=0.0, inplace=False)\n",
       "                  )\n",
       "                  (output): SegformerSelfOutput(\n",
       "                    (dense): Linear(in_features=512, out_features=512, bias=True)\n",
       "                    (dropout): Dropout(p=0.0, inplace=False)\n",
       "                  )\n",
       "                )\n",
       "                (drop_path): SegformerDropPath(p=0.10000000149011612)\n",
       "                (layer_norm_2): LayerNorm((512,), eps=1e-05, elementwise_affine=True)\n",
       "                (mlp): SegformerMixFFN(\n",
       "                  (dense1): Linear(in_features=512, out_features=2048, bias=True)\n",
       "                  (dwconv): SegformerDWConv(\n",
       "                    (dwconv): Conv2d(2048, 2048, kernel_size=(3, 3), stride=(1, 1), padding=(1, 1), groups=2048)\n",
       "                  )\n",
       "                  (intermediate_act_fn): GELUActivation()\n",
       "                  (dense2): Linear(in_features=2048, out_features=512, bias=True)\n",
       "                  (dropout): Dropout(p=0.0, inplace=False)\n",
       "                )\n",
       "              )\n",
       "            )\n",
       "          )\n",
       "          (layer_norm): ModuleList(\n",
       "            (0): LayerNorm((64,), eps=1e-05, elementwise_affine=True)\n",
       "            (1): LayerNorm((128,), eps=1e-05, elementwise_affine=True)\n",
       "            (2): LayerNorm((320,), eps=1e-05, elementwise_affine=True)\n",
       "            (3): LayerNorm((512,), eps=1e-05, elementwise_affine=True)\n",
       "          )\n",
       "        )\n",
       "      )\n",
       "      (decode_head): ModulesToSaveWrapper(\n",
       "        (original_module): SegformerDecodeHead(\n",
       "          (linear_c): ModuleList(\n",
       "            (0): SegformerMLP(\n",
       "              (proj): Linear(in_features=64, out_features=768, bias=True)\n",
       "            )\n",
       "            (1): SegformerMLP(\n",
       "              (proj): Linear(in_features=128, out_features=768, bias=True)\n",
       "            )\n",
       "            (2): SegformerMLP(\n",
       "              (proj): Linear(in_features=320, out_features=768, bias=True)\n",
       "            )\n",
       "            (3): SegformerMLP(\n",
       "              (proj): Linear(in_features=512, out_features=768, bias=True)\n",
       "            )\n",
       "          )\n",
       "          (linear_fuse): Conv2d(3072, 768, kernel_size=(1, 1), stride=(1, 1), bias=False)\n",
       "          (batch_norm): BatchNorm2d(768, eps=1e-05, momentum=0.1, affine=True, track_running_stats=True)\n",
       "          (activation): ReLU()\n",
       "          (dropout): Dropout(p=0.1, inplace=False)\n",
       "          (classifier): Conv2d(768, 3, kernel_size=(1, 1), stride=(1, 1))\n",
       "        )\n",
       "        (modules_to_save): ModuleDict(\n",
       "          (default): SegformerDecodeHead(\n",
       "            (linear_c): ModuleList(\n",
       "              (0): SegformerMLP(\n",
       "                (proj): Linear(in_features=64, out_features=768, bias=True)\n",
       "              )\n",
       "              (1): SegformerMLP(\n",
       "                (proj): Linear(in_features=128, out_features=768, bias=True)\n",
       "              )\n",
       "              (2): SegformerMLP(\n",
       "                (proj): Linear(in_features=320, out_features=768, bias=True)\n",
       "              )\n",
       "              (3): SegformerMLP(\n",
       "                (proj): Linear(in_features=512, out_features=768, bias=True)\n",
       "              )\n",
       "            )\n",
       "            (linear_fuse): Conv2d(3072, 768, kernel_size=(1, 1), stride=(1, 1), bias=False)\n",
       "            (batch_norm): BatchNorm2d(768, eps=1e-05, momentum=0.1, affine=True, track_running_stats=True)\n",
       "            (activation): ReLU()\n",
       "            (dropout): Dropout(p=0.1, inplace=False)\n",
       "            (classifier): Conv2d(768, 3, kernel_size=(1, 1), stride=(1, 1))\n",
       "          )\n",
       "        )\n",
       "      )\n",
       "    )\n",
       "  )\n",
       ")"
      ]
     },
     "metadata": {},
     "execution_count": 27
    }
   ],
   "source": [
    "benchmark_run.model"
   ]
  },
  {
   "cell_type": "markdown",
   "metadata": {
    "id": "iflqvAxw_TTs"
   },
   "source": [
    "## Logger"
   ]
  },
  {
   "cell_type": "code",
   "source": [
    "# !pip install --upgrade wandb\n"
   ],
   "metadata": {
    "id": "xwuBVKUHo60w"
   },
   "execution_count": null,
   "outputs": []
  },
  {
   "cell_type": "code",
   "execution_count": null,
   "metadata": {
    "id": "wpnknyyI_TTs",
    "colab": {
     "base_uri": "https://localhost:8080/",
     "height": 161
    },
    "outputId": "b37f41cd-e3fa-473c-a0e9-394a4af3b60a"
   },
   "outputs": [
    {
     "output_type": "stream",
     "name": "stderr",
     "text": [
      "\u001B[34m\u001B[1mwandb\u001B[0m: Currently logged in as: \u001B[33mmuhammadibnerafiq\u001B[0m (\u001B[33mmuhammadibnerafiq-tilburg-university\u001B[0m) to \u001B[32mhttps://api.wandb.ai\u001B[0m. Use \u001B[1m`wandb login --relogin`\u001B[0m to force relogin\n"
     ]
    },
    {
     "output_type": "display_data",
     "data": {
      "text/plain": [
       "<IPython.core.display.HTML object>"
      ],
      "text/html": []
     },
     "metadata": {}
    },
    {
     "output_type": "display_data",
     "data": {
      "text/plain": [
       "<IPython.core.display.HTML object>"
      ],
      "text/html": [
       "Tracking run with wandb version 0.22.2"
      ]
     },
     "metadata": {}
    },
    {
     "output_type": "display_data",
     "data": {
      "text/plain": [
       "<IPython.core.display.HTML object>"
      ],
      "text/html": [
       "Run data is saved locally in <code>/content/drive/.shortcut-targets-by-id/15pPCEVRFyHb3JQkFSnP8L6a0_nfm8ijp/Data Challenge 3 Group 3/coralscapesScripts/coralscapesScripts/wandb/run-20251014_234523-tss5czhj</code>"
      ]
     },
     "metadata": {}
    },
    {
     "output_type": "display_data",
     "data": {
      "text/plain": [
       "<IPython.core.display.HTML object>"
      ],
      "text/html": [
       "Syncing run <strong><a href='https://wandb.ai/muhammadibnerafiq-tilburg-university/coralscapes/runs/tss5czhj' target=\"_blank\">fine_tune_notebook</a></strong> to <a href='https://wandb.ai/muhammadibnerafiq-tilburg-university/coralscapes' target=\"_blank\">Weights & Biases</a> (<a href='https://wandb.me/developer-guide' target=\"_blank\">docs</a>)<br>"
      ]
     },
     "metadata": {}
    },
    {
     "output_type": "display_data",
     "data": {
      "text/plain": [
       "<IPython.core.display.HTML object>"
      ],
      "text/html": [
       " View project at <a href='https://wandb.ai/muhammadibnerafiq-tilburg-university/coralscapes' target=\"_blank\">https://wandb.ai/muhammadibnerafiq-tilburg-university/coralscapes</a>"
      ]
     },
     "metadata": {}
    },
    {
     "output_type": "display_data",
     "data": {
      "text/plain": [
       "<IPython.core.display.HTML object>"
      ],
      "text/html": [
       " View run at <a href='https://wandb.ai/muhammadibnerafiq-tilburg-university/coralscapes/runs/tss5czhj' target=\"_blank\">https://wandb.ai/muhammadibnerafiq-tilburg-university/coralscapes/runs/tss5czhj</a>"
      ]
     },
     "metadata": {}
    }
   ],
   "source": [
    "logger = Logger(\n",
    "    project = cfg.logger.wandb_project,\n",
    "    benchmark_run = benchmark_run,\n",
    "    log_epochs = cfg.logger.log_epochs,\n",
    "    config = cfg_logger,\n",
    "    checkpoint_dir =\"old/coralscapesScripts/\"\n",
    ")\n",
    "# wandb api key if they ask for it, put this 9770552259c029b0835547eed1ed7173e8c8eccf"
   ]
  },
  {
   "cell_type": "markdown",
   "metadata": {
    "id": "XL_mk3W4_TTs"
   },
   "source": [
    "## Run"
   ]
  },
  {
   "cell_type": "code",
   "execution_count": null,
   "metadata": {
    "id": "7X7tkPAM_TTs",
    "colab": {
     "base_uri": "https://localhost:8080/"
    },
    "outputId": "be62410f-3069-4d95-bcd3-1e34ae5717d0"
   },
   "outputs": [
    {
     "output_type": "stream",
     "name": "stdout",
     "text": [
      "trainable params: 5290883 || all params: 32631494 || trainable%: 16.21\n"
     ]
    }
   ],
   "source": [
    "benchmark_run.print_trainable_parameters()"
   ]
  },
  {
   "cell_type": "code",
   "metadata": {
    "colab": {
     "base_uri": "https://localhost:8080/"
    },
    "id": "3e951540",
    "outputId": "b16e37da-7a98-4764-9775-3037633f5a9a"
   },
   "source": [
    "data_batch = next(iter(train_loader))\n",
    "labels_batch = data_batch[1] # Access labels using index 1\n",
    "\n",
    "print(\"Shape of labels batch:\", labels_batch.shape)\n",
    "print(\"Unique values in labels batch:\", torch.unique(labels_batch))"
   ],
   "execution_count": null,
   "outputs": [
    {
     "output_type": "stream",
     "name": "stdout",
     "text": [
      "Shape of labels batch: torch.Size([4, 512, 512])\n",
      "Unique values in labels batch: tensor([0, 1, 2], dtype=torch.uint8)\n"
     ]
    }
   ]
  },
  {
   "cell_type": "code",
   "metadata": {
    "id": "f0199d45"
   },
   "source": [
    "# benchmark_metrics = launch_benchmark(train_loader, val_loader, test_loader, benchmark_run, logger = logger)\n",
    "# save_benchmark_run(benchmark_run, benchmark_metrics)"
   ],
   "execution_count": null,
   "outputs": []
  },
  {
   "cell_type": "markdown",
   "source": [
    "YAY NOW K-FOLD IS BACK MOFOS\n",
    "*   List item\n",
    "*   List item\n",
    "\n"
   ],
   "metadata": {
    "id": "wkSfCoTmOcL9"
   }
  },
  {
   "cell_type": "code",
   "source": [
    "# chatgpt version of k-fold should be used ideally\n",
    "from sklearn.model_selection import KFold\n",
    "\n",
    "def calculate_iou(pred, target, num_classes=3):\n",
    "    ious = []\n",
    "    pred = pred.view(-1)\n",
    "    target = target.view(-1)\n",
    "\n",
    "    for cls in range(num_classes):\n",
    "        pred_inds = pred == cls\n",
    "        target_inds = target == cls\n",
    "        intersection = (pred_inds & target_inds).sum().float().item()\n",
    "        union = (pred_inds | target_inds).sum().float().item()\n",
    "        iou = intersection / union if union > 0 else 0\n",
    "        ious.append(iou)\n",
    "\n",
    "    return ious, np.mean(ious)\n",
    "\n",
    "def train_and_validate_kfold(train_loader, val_loader, benchmark_run, criterion, n_splits=5, logger=None,\n",
    "                            start_epoch=0, end_epoch=None, save_dir=\"./checkpoints_og_reefsupport\", save_best_only=True):\n",
    "    \"\"\"\n",
    "    Perform k-fold cross-validation training and validation.\n",
    "\n",
    "    Args:\n",
    "        train_loader: DataLoader for training data\n",
    "        val_loader: DataLoader for validation data\n",
    "        benchmark_run: Object containing model, optimizer, device, etc.\n",
    "        criterion: Loss function\n",
    "        n_splits: Number of folds for k-fold cross-validation\n",
    "        logger: Optional logger for metrics\n",
    "        start_epoch: Starting epoch number\n",
    "        end_epoch: Ending epoch number\n",
    "        save_dir: Directory to save model checkpoints\n",
    "        save_best_only: If True, only save model when validation performance improves\n",
    "    \"\"\"\n",
    "    if end_epoch is None:\n",
    "        end_epoch = benchmark_run.training_hyperparameters.epochs\n",
    "\n",
    "    # Create save directory if it doesn't exist\n",
    "    if not os.path.exists(save_dir):\n",
    "        os.makedirs(save_dir)\n",
    "\n",
    "    # Store metrics for each fold\n",
    "    fold_metrics = []\n",
    "\n",
    "    # Get the dataset from the train loader\n",
    "    train_dataset = train_loader.dataset\n",
    "    val_dataset = val_loader.dataset\n",
    "\n",
    "    # Combine datasets for k-fold splitting\n",
    "    # If they're the same dataset with different samplers, just use one\n",
    "    if train_dataset == val_dataset:\n",
    "        full_dataset = train_dataset\n",
    "    else:\n",
    "        # This assumes both datasets have the same structure and can be concatenated\n",
    "        try:\n",
    "            full_dataset = torch.utils.data.ConcatDataset([train_dataset, val_dataset])\n",
    "        except:\n",
    "            print(\"Warning: Could not concatenate datasets. Using training dataset for k-fold.\")\n",
    "            full_dataset = train_dataset\n",
    "\n",
    "    # Initialize k-fold cross validation\n",
    "    kfold = KFold(n_splits=n_splits, shuffle=True, random_state=42)\n",
    "\n",
    "    # Get batch size and num_workers from original loaders\n",
    "    batch_size = train_loader.batch_size\n",
    "    num_workers = train_loader.num_workers\n",
    "\n",
    "    # Track the best overall model across all folds based on the custom score\n",
    "    best_overall_score = -1.0\n",
    "    best_overall_fold = -1\n",
    "    best_overall_epoch = -1\n",
    "    best_overall_metrics = None\n",
    "    best_overall_model_state_dict = None\n",
    "\n",
    "\n",
    "    # Loop through each fold\n",
    "    for fold, (train_idx, val_idx) in enumerate(kfold.split(range(len(full_dataset)))):\n",
    "        print(f\"\\n{'='*20} FOLD {fold+1}/{n_splits} {'='*20}\")\n",
    "\n",
    "        # Create data loaders for this fold\n",
    "        train_subsampler = torch.utils.data.SubsetRandomSampler(train_idx)\n",
    "        val_subsampler = torch.utils.data.SubsetRandomSampler(val_idx)\n",
    "\n",
    "        fold_train_loader = torch.utils.data.DataLoader(\n",
    "            full_dataset,\n",
    "            batch_size=batch_size,\n",
    "            sampler=train_subsampler,\n",
    "            num_workers=num_workers\n",
    "        )\n",
    "\n",
    "        fold_val_loader = torch.utils.data.DataLoader(\n",
    "            full_dataset,\n",
    "            batch_size=batch_size,\n",
    "            sampler=val_subsampler,\n",
    "            num_workers=num_workers\n",
    "        )\n",
    "\n",
    "        # Reset model weights for each fold if possible\n",
    "        if hasattr(benchmark_run.model, 'reset_parameters'):\n",
    "            benchmark_run.model.reset_parameters()\n",
    "        else:\n",
    "            print(\"Warning: Model does not have reset_parameters method. Using current weights.\")\n",
    "\n",
    "        # Reset optimizer for the new model parameters\n",
    "        if hasattr(benchmark_run, 'optimizer_class') and hasattr(benchmark_run, 'optimizer_params'):\n",
    "            benchmark_run.optimizer = benchmark_run.optimizer_class(\n",
    "                benchmark_run.model.parameters(),\n",
    "                **benchmark_run.optimizer_params\n",
    "            )\n",
    "\n",
    "        # Initialize metrics for this fold\n",
    "        fold_benchmark_metrics = {\n",
    "            \"train_loss\": [],\n",
    "            \"val_loss\": [],\n",
    "            \"val_accuracy\": [],\n",
    "            \"val_miou\": [],\n",
    "            \"val_iou_background\": [],\n",
    "            \"val_iou_bleached\": [],\n",
    "            \"val_iou_non_bleached\": [],\n",
    "            \"val_custom_score\": []\n",
    "        }\n",
    "\n",
    "        # Track best performance for this fold\n",
    "        best_fold_score = -1.0\n",
    "\n",
    "        # Train for specified number of epochs\n",
    "        for epoch in range(start_epoch, end_epoch):\n",
    "            print(f\"EPOCH {epoch+1}/{end_epoch}:\")\n",
    "\n",
    "            # Train\n",
    "            benchmark_run.model.train()\n",
    "            train_loss = 0.0\n",
    "            num_batches = 0\n",
    "\n",
    "            for data in tqdm(fold_train_loader, desc=\"Training\"):\n",
    "                # Move data to device\n",
    "                inputs, labels = data\n",
    "                inputs = inputs.to(benchmark_run.device)\n",
    "                labels = labels.to(benchmark_run.device)\n",
    "\n",
    "                # Zero the parameter gradients\n",
    "                benchmark_run.optimizer.zero_grad()\n",
    "\n",
    "                # Forward pass\n",
    "                outputs = benchmark_run.model(inputs)\n",
    "\n",
    "                # Resize model output (logits) to match target size\n",
    "                resized_logits = F.interpolate(\n",
    "                    outputs.logits,\n",
    "                    size=labels.shape[-2:],\n",
    "                    mode='bilinear',\n",
    "                    align_corners=False\n",
    "                )\n",
    "\n",
    "                # Calculate loss\n",
    "                loss = criterion(resized_logits, labels.long())\n",
    "\n",
    "                # Backward pass and optimize\n",
    "                loss.backward()\n",
    "                benchmark_run.optimizer.step()\n",
    "\n",
    "                train_loss += loss.item()\n",
    "                num_batches += 1\n",
    "\n",
    "            if num_batches > 0:\n",
    "                train_loss /= num_batches\n",
    "\n",
    "            fold_benchmark_metrics[\"train_loss\"].append(train_loss)\n",
    "\n",
    "            if hasattr(benchmark_run, \"scheduler\"):\n",
    "                benchmark_run.scheduler.step()\n",
    "\n",
    "            print(f'LOSS train {train_loss:.4f}')\n",
    "\n",
    "            # Validation\n",
    "            benchmark_run.model.eval()\n",
    "            val_loss = 0.0\n",
    "            num_batches_val = 0\n",
    "            val_correct = 0\n",
    "            val_total = 0\n",
    "            val_ious = np.zeros(3)  # For 3 classes\n",
    "\n",
    "            with torch.no_grad():\n",
    "                for vdata in tqdm(fold_val_loader, desc=\"Validating\"):\n",
    "                    inputs, labels = vdata\n",
    "                    inputs = inputs.to(benchmark_run.device)\n",
    "                    labels = labels.to(benchmark_run.device)\n",
    "\n",
    "                    # Forward pass\n",
    "                    outputs = benchmark_run.model(inputs)\n",
    "\n",
    "                    # Resize model output (logits) to match target size\n",
    "                    resized_logits = F.interpolate(\n",
    "                        outputs.logits,\n",
    "                        size=labels.shape[-2:],\n",
    "                        mode='bilinear',\n",
    "                        align_corners=False\n",
    "                    )\n",
    "\n",
    "                    # Calculate loss\n",
    "                    loss = criterion(resized_logits, labels.long())\n",
    "\n",
    "                    # Calculate accuracy\n",
    "                    preds = torch.argmax(resized_logits, dim=1)\n",
    "                    val_correct += (preds == labels).sum().item()\n",
    "                    val_total += labels.numel()\n",
    "\n",
    "                    # Calculate IoU\n",
    "                    batch_ious, _ = calculate_iou(preds, labels)\n",
    "                    val_ious += np.array(batch_ious)\n",
    "\n",
    "                    val_loss += loss.item()\n",
    "                    num_batches_val += 1\n",
    "\n",
    "            if num_batches_val > 0:\n",
    "                val_loss /= num_batches_val\n",
    "                val_ious /= num_batches_val\n",
    "\n",
    "            val_accuracy = val_correct / val_total if val_total > 0 else 0\n",
    "            val_miou = np.mean(val_ious)\n",
    "\n",
    "            # Calculate custom ranking score\n",
    "            # rank = alpha * accuracy + beta * mIoU\n",
    "            # mIoU = 0.1 * iou_background + 0.45 * iou_bleached + 0.45 * iou_non_bleached\n",
    "            alpha = 0.2\n",
    "            beta = 0.8\n",
    "            miou_weighted = (0.1 * val_ious[0] + 0.45 * val_ious[1] + 0.45 * val_ious[2])\n",
    "            custom_score = alpha * val_accuracy + beta * miou_weighted\n",
    "\n",
    "            # Store metrics\n",
    "            fold_benchmark_metrics[\"val_loss\"].append(val_loss)\n",
    "            fold_benchmark_metrics[\"val_accuracy\"].append(val_accuracy)\n",
    "            fold_benchmark_metrics[\"val_miou\"].append(val_miou)\n",
    "            fold_benchmark_metrics[\"val_iou_background\"].append(val_ious[0])\n",
    "            fold_benchmark_metrics[\"val_iou_bleached\"].append(val_ious[1])\n",
    "            fold_benchmark_metrics[\"val_iou_non_bleached\"].append(val_ious[2])\n",
    "            fold_benchmark_metrics[\"val_custom_score\"].append(custom_score)\n",
    "\n",
    "\n",
    "            print(f'LOSS valid {val_loss:.4f}')\n",
    "            print(f'Accuracy valid {val_accuracy:.4f}')\n",
    "            print(f'mIoU valid {val_miou:.4f}')\n",
    "            print(f'IoU per class: Background={val_ious[0]:.4f}, Bleached={val_ious[1]:.4f}, Non-bleached={val_ious[2]:.4f}')\n",
    "            print(f'Custom Score valid {custom_score:.4f}')\n",
    "\n",
    "\n",
    "            # Log metrics if logger is provided\n",
    "            if logger and epoch % logger.log_epochs == 0:\n",
    "                logger.log({\n",
    "                    f\"fold_{fold+1}/train/loss\": train_loss,\n",
    "                    f\"fold_{fold+1}/val/loss\": val_loss,\n",
    "                    f\"fold_{fold+1}/val/accuracy\": val_accuracy,\n",
    "                    f\"fold_{fold+1}/val/miou\": val_miou,\n",
    "                    f\"fold_{fold+1}/val/iou_background\": val_ious[0],\n",
    "                    f\"fold_{fold+1}/val/iou_bleached\": val_ious[1],\n",
    "                    f\"fold_{fold+1}/val/iou_non_bleached\": val_ious[2],\n",
    "                    f\"fold_{fold+1}/val/custom_score\": custom_score\n",
    "                }, epoch)\n",
    "\n",
    "            # Save best model for this fold based on custom score\n",
    "            if save_best_only:\n",
    "                if custom_score > best_fold_score:\n",
    "                    best_fold_score = custom_score\n",
    "                    checkpoint_path = os.path.join(save_dir, f\"model_fold_{fold+1}_best_score.pth\")\n",
    "                    torch.save(benchmark_run.model.state_dict(), checkpoint_path)\n",
    "                    print(f\"Saved improved model checkpoint to {checkpoint_path} (Custom Score: {custom_score:.4f})\")\n",
    "\n",
    "            # Check if this is the best overall model\n",
    "            if custom_score > best_overall_score:\n",
    "                best_overall_score = custom_score\n",
    "                best_overall_fold = fold + 1\n",
    "                best_overall_epoch = epoch + 1\n",
    "                best_overall_metrics = {\n",
    "                    \"train_loss\": train_loss,\n",
    "                    \"val_loss\": val_loss,\n",
    "                    \"val_accuracy\": val_accuracy,\n",
    "                    \"val_miou\": val_miou,\n",
    "                    \"val_iou_background\": val_ious[0],\n",
    "                    \"val_iou_bleached\": val_ious[1],\n",
    "                    \"val_iou_non_bleached\": val_ious[2],\n",
    "                    \"val_custom_score\": custom_score\n",
    "                }\n",
    "                best_overall_model_state_dict = copy.deepcopy(benchmark_run.model.state_dict())\n",
    "\n",
    "\n",
    "        # Save metrics for this fold\n",
    "        fold_metrics.append(fold_benchmark_metrics)\n",
    "\n",
    "        # Save fold metrics\n",
    "        metrics_path = os.path.join(save_dir, f\"metrics_fold_{fold+1}.json\")\n",
    "        with open(metrics_path, \"w\") as f:\n",
    "            json.dump(fold_benchmark_metrics, f)\n",
    "\n",
    "    # Calculate and save average metrics across all folds\n",
    "    avg_metrics = {\n",
    "        \"avg_val_miou_final\": np.mean([metrics[\"val_miou\"][-1] for metrics in fold_metrics]),\n",
    "        \"avg_val_accuracy_final\": np.mean([metrics[\"val_accuracy\"][-1] for metrics in fold_metrics]),\n",
    "        \"avg_val_iou_background_final\": np.mean([metrics[\"val_iou_background\"][-1] for metrics in fold_metrics]),\n",
    "        \"avg_val_iou_bleached_final\": np.mean([metrics[\"val_iou_bleached\"][-1] for metrics in fold_metrics]),\n",
    "        \"avg_val_iou_non_bleached_final\": np.mean([metrics[\"val_iou_non_bleached\"][-1] for metrics in fold_metrics]),\n",
    "        \"avg_val_custom_score_final\": np.mean([metrics[\"val_custom_score\"][-1] for metrics in fold_metrics]),\n",
    "        \"best_val_miou_across_folds\": np.max([np.max(metrics[\"val_miou\"]) for metrics in fold_metrics]),\n",
    "        \"best_val_custom_score_across_folds\": np.max([np.max(metrics[\"val_custom_score\"]) for metrics in fold_metrics]),\n",
    "        \"fold_metrics\": fold_metrics,\n",
    "        \"best_overall_model\": {\n",
    "            \"fold\": best_overall_fold,\n",
    "            \"epoch\": best_overall_epoch,\n",
    "            \"metrics\": best_overall_metrics\n",
    "        }\n",
    "    }\n",
    "\n",
    "    # Save the best overall model checkpoint\n",
    "    if best_overall_model_state_dict is not None:\n",
    "        best_overall_checkpoint_path = os.path.join(save_dir, \"best_overall_model.pth\")\n",
    "        torch.save(best_overall_model_state_dict, best_overall_checkpoint_path)\n",
    "        print(f\"\\nSaved best overall model checkpoint to {best_overall_checkpoint_path} (Custom Score: {best_overall_score:.4f})\")\n",
    "\n",
    "\n",
    "    # Save overall metrics\n",
    "    overall_metrics_path = os.path.join(save_dir, \"kfold_metrics.json\")\n",
    "    with open(overall_metrics_path, \"w\") as f:\n",
    "        json.dump(avg_metrics, f)\n",
    "\n",
    "    print(f\"\\nAverage Final mIoU across folds: {avg_metrics['avg_val_miou_final']:.4f}\")\n",
    "    print(f\"Best mIoU across all folds: {avg_metrics['best_val_miou_across_folds']:.4f}\")\n",
    "    print(f\"Average Final Custom Score across folds: {avg_metrics['avg_val_custom_score_final']:.4f}\")\n",
    "    print(f\"Best Custom Score across all folds: {avg_metrics['best_val_custom_score_across_folds']:.4f}\")\n",
    "    print(f\"\\nBest overall model found in Fold {best_overall_fold}, Epoch {best_overall_epoch} with Custom Score: {best_overall_score:.4f}\")\n",
    "    print(\"=\"*50)\n",
    "\n",
    "    return avg_metrics"
   ],
   "metadata": {
    "id": "a8vgAprSh1jC"
   },
   "execution_count": null,
   "outputs": []
  },
  {
   "cell_type": "code",
   "metadata": {
    "colab": {
     "base_uri": "https://localhost:8080/"
    },
    "id": "d1e8d491",
    "outputId": "0942d596-eaa8-4bb1-a8cf-19aba18afec5",
    "collapsed": true
   },
   "source": [
    "criterion = nn.CrossEntropyLoss(weight=weight) # Use the calculated weight\n",
    "\n",
    "# benchmark_metrics = train_and_validate_simplified(\n",
    "#     train_loader,\n",
    "#     val_loader,\n",
    "#     benchmark_run,\n",
    "#     criterion=criterion,\n",
    "#     logger=logger,\n",
    "#     save_dir=save_directory,\n",
    "#     save_epochs=save_frequency_epochs # Pass the save frequency\n",
    "# )\n",
    "benchmark_metrics = train_and_validate_kfold(\n",
    "    train_loader,\n",
    "    val_loader,\n",
    "    benchmark_run,\n",
    "    criterion,\n",
    "    n_splits=5,\n",
    "    save_best_only=True\n",
    ")"
   ],
   "execution_count": null,
   "outputs": [
    {
     "output_type": "stream",
     "name": "stdout",
     "text": [
      "\n",
      "==================== FOLD 1/5 ====================\n",
      "Warning: Model does not have reset_parameters method. Using current weights.\n",
      "EPOCH 1/50:\n"
     ]
    },
    {
     "output_type": "stream",
     "name": "stderr",
     "text": [
      "Training: 100%|██████████| 112/112 [04:31<00:00,  2.42s/it]\n"
     ]
    },
    {
     "output_type": "stream",
     "name": "stdout",
     "text": [
      "LOSS train 0.6733\n"
     ]
    },
    {
     "output_type": "stream",
     "name": "stderr",
     "text": [
      "Validating: 100%|██████████| 28/28 [01:03<00:00,  2.28s/it]\n"
     ]
    },
    {
     "output_type": "stream",
     "name": "stdout",
     "text": [
      "LOSS valid 0.6194\n",
      "Accuracy valid 0.7715\n",
      "mIoU valid 0.5304\n",
      "IoU per class: Background=0.7591, Bleached=0.6120, Non-bleached=0.2201\n",
      "Custom Score valid 0.5146\n",
      "Saved improved model checkpoint to ./checkpoints_og_reefsupport/model_fold_1_best_score.pth (Custom Score: 0.5146)\n",
      "EPOCH 2/50:\n"
     ]
    },
    {
     "output_type": "stream",
     "name": "stderr",
     "text": [
      "Training: 100%|██████████| 112/112 [00:41<00:00,  2.72it/s]\n"
     ]
    },
    {
     "output_type": "stream",
     "name": "stdout",
     "text": [
      "LOSS train 0.5277\n"
     ]
    },
    {
     "output_type": "stream",
     "name": "stderr",
     "text": [
      "Validating: 100%|██████████| 28/28 [00:11<00:00,  2.54it/s]\n"
     ]
    },
    {
     "output_type": "stream",
     "name": "stdout",
     "text": [
      "LOSS valid 0.5647\n",
      "Accuracy valid 0.7865\n",
      "mIoU valid 0.5373\n",
      "IoU per class: Background=0.7877, Bleached=0.4780, Non-bleached=0.3461\n",
      "Custom Score valid 0.5170\n",
      "Saved improved model checkpoint to ./checkpoints_og_reefsupport/model_fold_1_best_score.pth (Custom Score: 0.5170)\n",
      "EPOCH 3/50:\n"
     ]
    },
    {
     "output_type": "stream",
     "name": "stderr",
     "text": [
      "Training: 100%|██████████| 112/112 [00:44<00:00,  2.54it/s]\n"
     ]
    },
    {
     "output_type": "stream",
     "name": "stdout",
     "text": [
      "LOSS train 0.4823\n"
     ]
    },
    {
     "output_type": "stream",
     "name": "stderr",
     "text": [
      "Validating: 100%|██████████| 28/28 [00:11<00:00,  2.40it/s]\n"
     ]
    },
    {
     "output_type": "stream",
     "name": "stdout",
     "text": [
      "LOSS valid 0.4757\n",
      "Accuracy valid 0.7940\n",
      "mIoU valid 0.5752\n",
      "IoU per class: Background=0.7831, Bleached=0.6192, Non-bleached=0.3232\n",
      "Custom Score valid 0.5607\n",
      "Saved improved model checkpoint to ./checkpoints_og_reefsupport/model_fold_1_best_score.pth (Custom Score: 0.5607)\n",
      "EPOCH 4/50:\n"
     ]
    },
    {
     "output_type": "stream",
     "name": "stderr",
     "text": [
      "Training: 100%|██████████| 112/112 [00:39<00:00,  2.84it/s]\n"
     ]
    },
    {
     "output_type": "stream",
     "name": "stdout",
     "text": [
      "LOSS train 0.4667\n"
     ]
    },
    {
     "output_type": "stream",
     "name": "stderr",
     "text": [
      "Validating: 100%|██████████| 28/28 [00:10<00:00,  2.66it/s]\n"
     ]
    },
    {
     "output_type": "stream",
     "name": "stdout",
     "text": [
      "LOSS valid 0.4642\n",
      "Accuracy valid 0.8026\n",
      "mIoU valid 0.5767\n",
      "IoU per class: Background=0.7994, Bleached=0.6213, Non-bleached=0.3093\n",
      "Custom Score valid 0.5595\n",
      "EPOCH 5/50:\n"
     ]
    },
    {
     "output_type": "stream",
     "name": "stderr",
     "text": [
      "Training: 100%|██████████| 112/112 [00:39<00:00,  2.86it/s]\n"
     ]
    },
    {
     "output_type": "stream",
     "name": "stdout",
     "text": [
      "LOSS train 0.4463\n"
     ]
    },
    {
     "output_type": "stream",
     "name": "stderr",
     "text": [
      "Validating: 100%|██████████| 28/28 [00:10<00:00,  2.65it/s]\n"
     ]
    },
    {
     "output_type": "stream",
     "name": "stdout",
     "text": [
      "LOSS valid 0.4633\n",
      "Accuracy valid 0.8098\n",
      "mIoU valid 0.5862\n",
      "IoU per class: Background=0.8049, Bleached=0.5720, Non-bleached=0.3817\n",
      "Custom Score valid 0.5697\n",
      "Saved improved model checkpoint to ./checkpoints_og_reefsupport/model_fold_1_best_score.pth (Custom Score: 0.5697)\n",
      "EPOCH 6/50:\n"
     ]
    },
    {
     "output_type": "stream",
     "name": "stderr",
     "text": [
      "Training: 100%|██████████| 112/112 [00:41<00:00,  2.67it/s]\n"
     ]
    },
    {
     "output_type": "stream",
     "name": "stdout",
     "text": [
      "LOSS train 0.4392\n"
     ]
    },
    {
     "output_type": "stream",
     "name": "stderr",
     "text": [
      "Validating: 100%|██████████| 28/28 [00:10<00:00,  2.69it/s]\n"
     ]
    },
    {
     "output_type": "stream",
     "name": "stdout",
     "text": [
      "LOSS valid 0.4299\n",
      "Accuracy valid 0.8147\n",
      "mIoU valid 0.6153\n",
      "IoU per class: Background=0.7988, Bleached=0.6480, Non-bleached=0.3991\n",
      "Custom Score valid 0.6038\n",
      "Saved improved model checkpoint to ./checkpoints_og_reefsupport/model_fold_1_best_score.pth (Custom Score: 0.6038)\n",
      "EPOCH 7/50:\n"
     ]
    },
    {
     "output_type": "stream",
     "name": "stderr",
     "text": [
      "Training: 100%|██████████| 112/112 [00:40<00:00,  2.76it/s]\n"
     ]
    },
    {
     "output_type": "stream",
     "name": "stdout",
     "text": [
      "LOSS train 0.4193\n"
     ]
    },
    {
     "output_type": "stream",
     "name": "stderr",
     "text": [
      "Validating: 100%|██████████| 28/28 [00:10<00:00,  2.66it/s]\n"
     ]
    },
    {
     "output_type": "stream",
     "name": "stdout",
     "text": [
      "LOSS valid 0.4305\n",
      "Accuracy valid 0.8087\n",
      "mIoU valid 0.6210\n",
      "IoU per class: Background=0.7890, Bleached=0.6311, Non-bleached=0.4428\n",
      "Custom Score valid 0.6115\n",
      "Saved improved model checkpoint to ./checkpoints_og_reefsupport/model_fold_1_best_score.pth (Custom Score: 0.6115)\n",
      "EPOCH 8/50:\n"
     ]
    },
    {
     "output_type": "stream",
     "name": "stderr",
     "text": [
      "Training: 100%|██████████| 112/112 [00:41<00:00,  2.72it/s]\n"
     ]
    },
    {
     "output_type": "stream",
     "name": "stdout",
     "text": [
      "LOSS train 0.3993\n"
     ]
    },
    {
     "output_type": "stream",
     "name": "stderr",
     "text": [
      "Validating: 100%|██████████| 28/28 [00:10<00:00,  2.65it/s]\n"
     ]
    },
    {
     "output_type": "stream",
     "name": "stdout",
     "text": [
      "LOSS valid 0.4342\n",
      "Accuracy valid 0.8101\n",
      "mIoU valid 0.5846\n",
      "IoU per class: Background=0.8007, Bleached=0.5581, Non-bleached=0.3950\n",
      "Custom Score valid 0.5692\n",
      "EPOCH 9/50:\n"
     ]
    },
    {
     "output_type": "stream",
     "name": "stderr",
     "text": [
      "Training: 100%|██████████| 112/112 [00:42<00:00,  2.64it/s]\n"
     ]
    },
    {
     "output_type": "stream",
     "name": "stdout",
     "text": [
      "LOSS train 0.3851\n"
     ]
    },
    {
     "output_type": "stream",
     "name": "stderr",
     "text": [
      "Validating: 100%|██████████| 28/28 [00:10<00:00,  2.68it/s]\n"
     ]
    },
    {
     "output_type": "stream",
     "name": "stdout",
     "text": [
      "LOSS valid 0.4247\n",
      "Accuracy valid 0.8145\n",
      "mIoU valid 0.6075\n",
      "IoU per class: Background=0.8002, Bleached=0.5908, Non-bleached=0.4315\n",
      "Custom Score valid 0.5949\n",
      "EPOCH 10/50:\n"
     ]
    },
    {
     "output_type": "stream",
     "name": "stderr",
     "text": [
      "Training: 100%|██████████| 112/112 [00:40<00:00,  2.76it/s]\n"
     ]
    },
    {
     "output_type": "stream",
     "name": "stdout",
     "text": [
      "LOSS train 0.3932\n"
     ]
    },
    {
     "output_type": "stream",
     "name": "stderr",
     "text": [
      "Validating: 100%|██████████| 28/28 [00:10<00:00,  2.57it/s]\n"
     ]
    },
    {
     "output_type": "stream",
     "name": "stdout",
     "text": [
      "LOSS valid 0.4754\n",
      "Accuracy valid 0.8106\n",
      "mIoU valid 0.6072\n",
      "IoU per class: Background=0.8010, Bleached=0.6425, Non-bleached=0.3780\n",
      "Custom Score valid 0.5936\n",
      "EPOCH 11/50:\n"
     ]
    },
    {
     "output_type": "stream",
     "name": "stderr",
     "text": [
      "Training: 100%|██████████| 112/112 [00:41<00:00,  2.69it/s]\n"
     ]
    },
    {
     "output_type": "stream",
     "name": "stdout",
     "text": [
      "LOSS train 0.3763\n"
     ]
    },
    {
     "output_type": "stream",
     "name": "stderr",
     "text": [
      "Validating: 100%|██████████| 28/28 [00:11<00:00,  2.51it/s]\n"
     ]
    },
    {
     "output_type": "stream",
     "name": "stdout",
     "text": [
      "LOSS valid 0.4761\n",
      "Accuracy valid 0.8134\n",
      "mIoU valid 0.6143\n",
      "IoU per class: Background=0.7967, Bleached=0.6202, Non-bleached=0.4259\n",
      "Custom Score valid 0.6030\n",
      "EPOCH 12/50:\n"
     ]
    },
    {
     "output_type": "stream",
     "name": "stderr",
     "text": [
      "Training: 100%|██████████| 112/112 [00:38<00:00,  2.93it/s]\n"
     ]
    },
    {
     "output_type": "stream",
     "name": "stdout",
     "text": [
      "LOSS train 0.3664\n"
     ]
    },
    {
     "output_type": "stream",
     "name": "stderr",
     "text": [
      "Validating: 100%|██████████| 28/28 [00:10<00:00,  2.65it/s]\n"
     ]
    },
    {
     "output_type": "stream",
     "name": "stdout",
     "text": [
      "LOSS valid 0.4629\n",
      "Accuracy valid 0.8146\n",
      "mIoU valid 0.5764\n",
      "IoU per class: Background=0.8123, Bleached=0.5077, Non-bleached=0.4091\n",
      "Custom Score valid 0.5580\n",
      "EPOCH 13/50:\n"
     ]
    },
    {
     "output_type": "stream",
     "name": "stderr",
     "text": [
      "Training: 100%|██████████| 112/112 [00:39<00:00,  2.81it/s]\n"
     ]
    },
    {
     "output_type": "stream",
     "name": "stdout",
     "text": [
      "LOSS train 0.3691\n"
     ]
    },
    {
     "output_type": "stream",
     "name": "stderr",
     "text": [
      "Validating: 100%|██████████| 28/28 [00:10<00:00,  2.71it/s]\n"
     ]
    },
    {
     "output_type": "stream",
     "name": "stdout",
     "text": [
      "LOSS valid 0.4958\n",
      "Accuracy valid 0.8165\n",
      "mIoU valid 0.6245\n",
      "IoU per class: Background=0.8037, Bleached=0.6330, Non-bleached=0.4369\n",
      "Custom Score valid 0.6128\n",
      "Saved improved model checkpoint to ./checkpoints_og_reefsupport/model_fold_1_best_score.pth (Custom Score: 0.6128)\n",
      "EPOCH 14/50:\n"
     ]
    },
    {
     "output_type": "stream",
     "name": "stderr",
     "text": [
      "Training: 100%|██████████| 112/112 [00:40<00:00,  2.79it/s]\n"
     ]
    },
    {
     "output_type": "stream",
     "name": "stdout",
     "text": [
      "LOSS train 0.3591\n"
     ]
    },
    {
     "output_type": "stream",
     "name": "stderr",
     "text": [
      "Validating: 100%|██████████| 28/28 [00:10<00:00,  2.65it/s]\n"
     ]
    },
    {
     "output_type": "stream",
     "name": "stdout",
     "text": [
      "LOSS valid 0.4369\n",
      "Accuracy valid 0.8225\n",
      "mIoU valid 0.6275\n",
      "IoU per class: Background=0.8013, Bleached=0.6450, Non-bleached=0.4362\n",
      "Custom Score valid 0.6178\n",
      "Saved improved model checkpoint to ./checkpoints_og_reefsupport/model_fold_1_best_score.pth (Custom Score: 0.6178)\n",
      "EPOCH 15/50:\n"
     ]
    },
    {
     "output_type": "stream",
     "name": "stderr",
     "text": [
      "Training: 100%|██████████| 112/112 [00:45<00:00,  2.46it/s]\n"
     ]
    },
    {
     "output_type": "stream",
     "name": "stdout",
     "text": [
      "LOSS train 0.3361\n"
     ]
    },
    {
     "output_type": "stream",
     "name": "stderr",
     "text": [
      "Validating: 100%|██████████| 28/28 [00:11<00:00,  2.37it/s]\n"
     ]
    },
    {
     "output_type": "stream",
     "name": "stdout",
     "text": [
      "LOSS valid 0.4906\n",
      "Accuracy valid 0.7822\n",
      "mIoU valid 0.5975\n",
      "IoU per class: Background=0.7323, Bleached=0.5974, Non-bleached=0.4629\n",
      "Custom Score valid 0.5967\n",
      "EPOCH 16/50:\n"
     ]
    },
    {
     "output_type": "stream",
     "name": "stderr",
     "text": [
      "Training: 100%|██████████| 112/112 [00:44<00:00,  2.52it/s]\n"
     ]
    },
    {
     "output_type": "stream",
     "name": "stdout",
     "text": [
      "LOSS train 0.3688\n"
     ]
    },
    {
     "output_type": "stream",
     "name": "stderr",
     "text": [
      "Validating: 100%|██████████| 28/28 [00:11<00:00,  2.38it/s]\n"
     ]
    },
    {
     "output_type": "stream",
     "name": "stdout",
     "text": [
      "LOSS valid 0.4111\n",
      "Accuracy valid 0.8255\n",
      "mIoU valid 0.6550\n",
      "IoU per class: Background=0.7943, Bleached=0.6864, Non-bleached=0.4842\n",
      "Custom Score valid 0.6501\n",
      "Saved improved model checkpoint to ./checkpoints_og_reefsupport/model_fold_1_best_score.pth (Custom Score: 0.6501)\n",
      "EPOCH 17/50:\n"
     ]
    },
    {
     "output_type": "stream",
     "name": "stderr",
     "text": [
      "Training: 100%|██████████| 112/112 [00:40<00:00,  2.76it/s]\n"
     ]
    },
    {
     "output_type": "stream",
     "name": "stdout",
     "text": [
      "LOSS train 0.3343\n"
     ]
    },
    {
     "output_type": "stream",
     "name": "stderr",
     "text": [
      "Validating: 100%|██████████| 28/28 [00:10<00:00,  2.58it/s]\n"
     ]
    },
    {
     "output_type": "stream",
     "name": "stdout",
     "text": [
      "LOSS valid 0.5015\n",
      "Accuracy valid 0.8072\n",
      "mIoU valid 0.6056\n",
      "IoU per class: Background=0.7927, Bleached=0.5703, Non-bleached=0.4537\n",
      "Custom Score valid 0.5935\n",
      "EPOCH 18/50:\n"
     ]
    },
    {
     "output_type": "stream",
     "name": "stderr",
     "text": [
      "Training: 100%|██████████| 112/112 [00:39<00:00,  2.81it/s]\n"
     ]
    },
    {
     "output_type": "stream",
     "name": "stdout",
     "text": [
      "LOSS train 0.3339\n"
     ]
    },
    {
     "output_type": "stream",
     "name": "stderr",
     "text": [
      "Validating: 100%|██████████| 28/28 [00:10<00:00,  2.64it/s]\n"
     ]
    },
    {
     "output_type": "stream",
     "name": "stdout",
     "text": [
      "LOSS valid 0.5258\n",
      "Accuracy valid 0.8070\n",
      "mIoU valid 0.6085\n",
      "IoU per class: Background=0.7930, Bleached=0.6132, Non-bleached=0.4195\n",
      "Custom Score valid 0.5966\n",
      "EPOCH 19/50:\n"
     ]
    },
    {
     "output_type": "stream",
     "name": "stderr",
     "text": [
      "Training: 100%|██████████| 112/112 [00:41<00:00,  2.73it/s]\n"
     ]
    },
    {
     "output_type": "stream",
     "name": "stdout",
     "text": [
      "LOSS train 0.3405\n"
     ]
    },
    {
     "output_type": "stream",
     "name": "stderr",
     "text": [
      "Validating: 100%|██████████| 28/28 [00:10<00:00,  2.60it/s]\n"
     ]
    },
    {
     "output_type": "stream",
     "name": "stdout",
     "text": [
      "LOSS valid 0.5096\n",
      "Accuracy valid 0.7975\n",
      "mIoU valid 0.6155\n",
      "IoU per class: Background=0.7635, Bleached=0.6168, Non-bleached=0.4661\n",
      "Custom Score valid 0.6105\n",
      "EPOCH 20/50:\n"
     ]
    },
    {
     "output_type": "stream",
     "name": "stderr",
     "text": [
      "Training: 100%|██████████| 112/112 [00:38<00:00,  2.89it/s]\n"
     ]
    },
    {
     "output_type": "stream",
     "name": "stdout",
     "text": [
      "LOSS train 0.3229\n"
     ]
    },
    {
     "output_type": "stream",
     "name": "stderr",
     "text": [
      "Validating: 100%|██████████| 28/28 [00:10<00:00,  2.57it/s]\n"
     ]
    },
    {
     "output_type": "stream",
     "name": "stdout",
     "text": [
      "LOSS valid 0.4842\n",
      "Accuracy valid 0.8067\n",
      "mIoU valid 0.6086\n",
      "IoU per class: Background=0.7888, Bleached=0.6183, Non-bleached=0.4188\n",
      "Custom Score valid 0.5978\n",
      "EPOCH 21/50:\n"
     ]
    },
    {
     "output_type": "stream",
     "name": "stderr",
     "text": [
      "Training: 100%|██████████| 112/112 [00:39<00:00,  2.82it/s]\n"
     ]
    },
    {
     "output_type": "stream",
     "name": "stdout",
     "text": [
      "LOSS train 0.3206\n"
     ]
    },
    {
     "output_type": "stream",
     "name": "stderr",
     "text": [
      "Validating: 100%|██████████| 28/28 [00:10<00:00,  2.65it/s]\n"
     ]
    },
    {
     "output_type": "stream",
     "name": "stdout",
     "text": [
      "LOSS valid 0.4300\n",
      "Accuracy valid 0.8234\n",
      "mIoU valid 0.6497\n",
      "IoU per class: Background=0.8169, Bleached=0.6486, Non-bleached=0.4837\n",
      "Custom Score valid 0.6377\n",
      "EPOCH 22/50:\n"
     ]
    },
    {
     "output_type": "stream",
     "name": "stderr",
     "text": [
      "Training: 100%|██████████| 112/112 [00:39<00:00,  2.80it/s]\n"
     ]
    },
    {
     "output_type": "stream",
     "name": "stdout",
     "text": [
      "LOSS train 0.3099\n"
     ]
    },
    {
     "output_type": "stream",
     "name": "stderr",
     "text": [
      "Validating: 100%|██████████| 28/28 [00:11<00:00,  2.39it/s]\n"
     ]
    },
    {
     "output_type": "stream",
     "name": "stdout",
     "text": [
      "LOSS valid 0.5012\n",
      "Accuracy valid 0.8191\n",
      "mIoU valid 0.6133\n",
      "IoU per class: Background=0.8010, Bleached=0.6329, Non-bleached=0.4060\n",
      "Custom Score valid 0.6019\n",
      "EPOCH 23/50:\n"
     ]
    },
    {
     "output_type": "stream",
     "name": "stderr",
     "text": [
      "Training: 100%|██████████| 112/112 [00:40<00:00,  2.76it/s]\n"
     ]
    },
    {
     "output_type": "stream",
     "name": "stdout",
     "text": [
      "LOSS train 0.3043\n"
     ]
    },
    {
     "output_type": "stream",
     "name": "stderr",
     "text": [
      "Validating: 100%|██████████| 28/28 [00:10<00:00,  2.57it/s]\n"
     ]
    },
    {
     "output_type": "stream",
     "name": "stdout",
     "text": [
      "LOSS valid 0.5576\n",
      "Accuracy valid 0.8116\n",
      "mIoU valid 0.6197\n",
      "IoU per class: Background=0.7943, Bleached=0.6182, Non-bleached=0.4468\n",
      "Custom Score valid 0.6092\n",
      "EPOCH 24/50:\n"
     ]
    },
    {
     "output_type": "stream",
     "name": "stderr",
     "text": [
      "Training: 100%|██████████| 112/112 [00:38<00:00,  2.91it/s]\n"
     ]
    },
    {
     "output_type": "stream",
     "name": "stdout",
     "text": [
      "LOSS train 0.3067\n"
     ]
    },
    {
     "output_type": "stream",
     "name": "stderr",
     "text": [
      "Validating: 100%|██████████| 28/28 [00:10<00:00,  2.69it/s]\n"
     ]
    },
    {
     "output_type": "stream",
     "name": "stdout",
     "text": [
      "LOSS valid 0.4773\n",
      "Accuracy valid 0.8268\n",
      "mIoU valid 0.6456\n",
      "IoU per class: Background=0.8064, Bleached=0.6784, Non-bleached=0.4522\n",
      "Custom Score valid 0.6369\n",
      "EPOCH 25/50:\n"
     ]
    },
    {
     "output_type": "stream",
     "name": "stderr",
     "text": [
      "Training: 100%|██████████| 112/112 [00:40<00:00,  2.80it/s]\n"
     ]
    },
    {
     "output_type": "stream",
     "name": "stdout",
     "text": [
      "LOSS train 0.2994\n"
     ]
    },
    {
     "output_type": "stream",
     "name": "stderr",
     "text": [
      "Validating: 100%|██████████| 28/28 [00:10<00:00,  2.66it/s]\n"
     ]
    },
    {
     "output_type": "stream",
     "name": "stdout",
     "text": [
      "LOSS valid 0.5161\n",
      "Accuracy valid 0.8254\n",
      "mIoU valid 0.6283\n",
      "IoU per class: Background=0.8120, Bleached=0.6658, Non-bleached=0.4073\n",
      "Custom Score valid 0.6163\n",
      "EPOCH 26/50:\n"
     ]
    },
    {
     "output_type": "stream",
     "name": "stderr",
     "text": [
      "Training: 100%|██████████| 112/112 [00:39<00:00,  2.85it/s]\n"
     ]
    },
    {
     "output_type": "stream",
     "name": "stdout",
     "text": [
      "LOSS train 0.2989\n"
     ]
    },
    {
     "output_type": "stream",
     "name": "stderr",
     "text": [
      "Validating: 100%|██████████| 28/28 [00:10<00:00,  2.67it/s]\n"
     ]
    },
    {
     "output_type": "stream",
     "name": "stdout",
     "text": [
      "LOSS valid 0.5319\n",
      "Accuracy valid 0.8153\n",
      "mIoU valid 0.6311\n",
      "IoU per class: Background=0.8072, Bleached=0.6658, Non-bleached=0.4202\n",
      "Custom Score valid 0.6186\n",
      "EPOCH 27/50:\n"
     ]
    },
    {
     "output_type": "stream",
     "name": "stderr",
     "text": [
      "Training: 100%|██████████| 112/112 [00:40<00:00,  2.74it/s]\n"
     ]
    },
    {
     "output_type": "stream",
     "name": "stdout",
     "text": [
      "LOSS train 0.2964\n"
     ]
    },
    {
     "output_type": "stream",
     "name": "stderr",
     "text": [
      "Validating: 100%|██████████| 28/28 [00:10<00:00,  2.66it/s]\n"
     ]
    },
    {
     "output_type": "stream",
     "name": "stdout",
     "text": [
      "LOSS valid 0.5914\n",
      "Accuracy valid 0.8060\n",
      "mIoU valid 0.5950\n",
      "IoU per class: Background=0.7862, Bleached=0.5835, Non-bleached=0.4154\n",
      "Custom Score valid 0.5837\n",
      "EPOCH 28/50:\n"
     ]
    },
    {
     "output_type": "stream",
     "name": "stderr",
     "text": [
      "Training: 100%|██████████| 112/112 [00:39<00:00,  2.84it/s]\n"
     ]
    },
    {
     "output_type": "stream",
     "name": "stdout",
     "text": [
      "LOSS train 0.3088\n"
     ]
    },
    {
     "output_type": "stream",
     "name": "stderr",
     "text": [
      "Validating: 100%|██████████| 28/28 [00:10<00:00,  2.55it/s]\n"
     ]
    },
    {
     "output_type": "stream",
     "name": "stdout",
     "text": [
      "LOSS valid 0.4675\n",
      "Accuracy valid 0.8123\n",
      "mIoU valid 0.6221\n",
      "IoU per class: Background=0.7955, Bleached=0.6831, Non-bleached=0.3877\n",
      "Custom Score valid 0.6116\n",
      "EPOCH 29/50:\n"
     ]
    },
    {
     "output_type": "stream",
     "name": "stderr",
     "text": [
      "Training: 100%|██████████| 112/112 [00:40<00:00,  2.79it/s]\n"
     ]
    },
    {
     "output_type": "stream",
     "name": "stdout",
     "text": [
      "LOSS train 0.3103\n"
     ]
    },
    {
     "output_type": "stream",
     "name": "stderr",
     "text": [
      "Validating: 100%|██████████| 28/28 [00:10<00:00,  2.60it/s]\n"
     ]
    },
    {
     "output_type": "stream",
     "name": "stdout",
     "text": [
      "LOSS valid 0.6113\n",
      "Accuracy valid 0.8168\n",
      "mIoU valid 0.6119\n",
      "IoU per class: Background=0.8202, Bleached=0.5691, Non-bleached=0.4464\n",
      "Custom Score valid 0.5946\n",
      "EPOCH 30/50:\n"
     ]
    },
    {
     "output_type": "stream",
     "name": "stderr",
     "text": [
      "Training: 100%|██████████| 112/112 [00:38<00:00,  2.88it/s]\n"
     ]
    },
    {
     "output_type": "stream",
     "name": "stdout",
     "text": [
      "LOSS train 0.2879\n"
     ]
    },
    {
     "output_type": "stream",
     "name": "stderr",
     "text": [
      "Validating: 100%|██████████| 28/28 [00:10<00:00,  2.68it/s]\n"
     ]
    },
    {
     "output_type": "stream",
     "name": "stdout",
     "text": [
      "LOSS valid 0.5392\n",
      "Accuracy valid 0.8142\n",
      "mIoU valid 0.6089\n",
      "IoU per class: Background=0.8103, Bleached=0.5458, Non-bleached=0.4706\n",
      "Custom Score valid 0.5936\n",
      "EPOCH 31/50:\n"
     ]
    },
    {
     "output_type": "stream",
     "name": "stderr",
     "text": [
      "Training: 100%|██████████| 112/112 [00:39<00:00,  2.86it/s]\n"
     ]
    },
    {
     "output_type": "stream",
     "name": "stdout",
     "text": [
      "LOSS train 0.2784\n"
     ]
    },
    {
     "output_type": "stream",
     "name": "stderr",
     "text": [
      "Validating: 100%|██████████| 28/28 [00:10<00:00,  2.62it/s]\n"
     ]
    },
    {
     "output_type": "stream",
     "name": "stdout",
     "text": [
      "LOSS valid 0.6792\n",
      "Accuracy valid 0.8089\n",
      "mIoU valid 0.5980\n",
      "IoU per class: Background=0.7996, Bleached=0.5605, Non-bleached=0.4339\n",
      "Custom Score valid 0.5837\n",
      "EPOCH 32/50:\n"
     ]
    },
    {
     "output_type": "stream",
     "name": "stderr",
     "text": [
      "Training: 100%|██████████| 112/112 [00:40<00:00,  2.78it/s]\n"
     ]
    },
    {
     "output_type": "stream",
     "name": "stdout",
     "text": [
      "LOSS train 0.2999\n"
     ]
    },
    {
     "output_type": "stream",
     "name": "stderr",
     "text": [
      "Validating: 100%|██████████| 28/28 [00:10<00:00,  2.72it/s]\n"
     ]
    },
    {
     "output_type": "stream",
     "name": "stdout",
     "text": [
      "LOSS valid 0.5195\n",
      "Accuracy valid 0.8153\n",
      "mIoU valid 0.6043\n",
      "IoU per class: Background=0.8021, Bleached=0.6205, Non-bleached=0.3903\n",
      "Custom Score valid 0.5911\n",
      "EPOCH 33/50:\n"
     ]
    },
    {
     "output_type": "stream",
     "name": "stderr",
     "text": [
      "Training: 100%|██████████| 112/112 [00:39<00:00,  2.84it/s]\n"
     ]
    },
    {
     "output_type": "stream",
     "name": "stdout",
     "text": [
      "LOSS train 0.2867\n"
     ]
    },
    {
     "output_type": "stream",
     "name": "stderr",
     "text": [
      "Validating: 100%|██████████| 28/28 [00:10<00:00,  2.59it/s]\n"
     ]
    },
    {
     "output_type": "stream",
     "name": "stdout",
     "text": [
      "LOSS valid 0.5466\n",
      "Accuracy valid 0.8046\n",
      "mIoU valid 0.5992\n",
      "IoU per class: Background=0.7880, Bleached=0.6180, Non-bleached=0.3917\n",
      "Custom Score valid 0.5875\n",
      "EPOCH 34/50:\n"
     ]
    },
    {
     "output_type": "stream",
     "name": "stderr",
     "text": [
      "Training: 100%|██████████| 112/112 [00:40<00:00,  2.77it/s]\n"
     ]
    },
    {
     "output_type": "stream",
     "name": "stdout",
     "text": [
      "LOSS train 0.2854\n"
     ]
    },
    {
     "output_type": "stream",
     "name": "stderr",
     "text": [
      "Validating: 100%|██████████| 28/28 [00:11<00:00,  2.54it/s]\n"
     ]
    },
    {
     "output_type": "stream",
     "name": "stdout",
     "text": [
      "LOSS valid 0.5871\n",
      "Accuracy valid 0.8206\n",
      "mIoU valid 0.6281\n",
      "IoU per class: Background=0.8094, Bleached=0.6535, Non-bleached=0.4214\n",
      "Custom Score valid 0.6158\n",
      "EPOCH 35/50:\n"
     ]
    },
    {
     "output_type": "stream",
     "name": "stderr",
     "text": [
      "Training: 100%|██████████| 112/112 [00:40<00:00,  2.77it/s]\n"
     ]
    },
    {
     "output_type": "stream",
     "name": "stdout",
     "text": [
      "LOSS train 0.2657\n"
     ]
    },
    {
     "output_type": "stream",
     "name": "stderr",
     "text": [
      "Validating: 100%|██████████| 28/28 [00:10<00:00,  2.66it/s]\n"
     ]
    },
    {
     "output_type": "stream",
     "name": "stdout",
     "text": [
      "LOSS valid 0.5157\n",
      "Accuracy valid 0.8281\n",
      "mIoU valid 0.6431\n",
      "IoU per class: Background=0.8163, Bleached=0.6436, Non-bleached=0.4693\n",
      "Custom Score valid 0.6316\n",
      "EPOCH 36/50:\n"
     ]
    },
    {
     "output_type": "stream",
     "name": "stderr",
     "text": [
      "Training: 100%|██████████| 112/112 [00:41<00:00,  2.71it/s]\n"
     ]
    },
    {
     "output_type": "stream",
     "name": "stdout",
     "text": [
      "LOSS train 0.2552\n"
     ]
    },
    {
     "output_type": "stream",
     "name": "stderr",
     "text": [
      "Validating: 100%|██████████| 28/28 [00:10<00:00,  2.58it/s]\n"
     ]
    },
    {
     "output_type": "stream",
     "name": "stdout",
     "text": [
      "LOSS valid 0.5936\n",
      "Accuracy valid 0.8191\n",
      "mIoU valid 0.6343\n",
      "IoU per class: Background=0.8034, Bleached=0.6371, Non-bleached=0.4623\n",
      "Custom Score valid 0.6239\n",
      "EPOCH 37/50:\n"
     ]
    },
    {
     "output_type": "stream",
     "name": "stderr",
     "text": [
      "Training: 100%|██████████| 112/112 [00:40<00:00,  2.73it/s]\n"
     ]
    },
    {
     "output_type": "stream",
     "name": "stdout",
     "text": [
      "LOSS train 0.2701\n"
     ]
    },
    {
     "output_type": "stream",
     "name": "stderr",
     "text": [
      "Validating: 100%|██████████| 28/28 [00:10<00:00,  2.55it/s]\n"
     ]
    },
    {
     "output_type": "stream",
     "name": "stdout",
     "text": [
      "LOSS valid 0.5923\n",
      "Accuracy valid 0.8136\n",
      "mIoU valid 0.6258\n",
      "IoU per class: Background=0.8002, Bleached=0.6393, Non-bleached=0.4380\n",
      "Custom Score valid 0.6145\n",
      "EPOCH 38/50:\n"
     ]
    },
    {
     "output_type": "stream",
     "name": "stderr",
     "text": [
      "Training: 100%|██████████| 112/112 [00:40<00:00,  2.78it/s]\n"
     ]
    },
    {
     "output_type": "stream",
     "name": "stdout",
     "text": [
      "LOSS train 0.2685\n"
     ]
    },
    {
     "output_type": "stream",
     "name": "stderr",
     "text": [
      "Validating: 100%|██████████| 28/28 [00:10<00:00,  2.61it/s]\n"
     ]
    },
    {
     "output_type": "stream",
     "name": "stdout",
     "text": [
      "LOSS valid 0.5924\n",
      "Accuracy valid 0.8273\n",
      "mIoU valid 0.6576\n",
      "IoU per class: Background=0.8090, Bleached=0.6950, Non-bleached=0.4687\n",
      "Custom Score valid 0.6491\n",
      "EPOCH 39/50:\n"
     ]
    },
    {
     "output_type": "stream",
     "name": "stderr",
     "text": [
      "Training: 100%|██████████| 112/112 [00:39<00:00,  2.82it/s]\n"
     ]
    },
    {
     "output_type": "stream",
     "name": "stdout",
     "text": [
      "LOSS train 0.2689\n"
     ]
    },
    {
     "output_type": "stream",
     "name": "stderr",
     "text": [
      "Validating: 100%|██████████| 28/28 [00:10<00:00,  2.59it/s]\n"
     ]
    },
    {
     "output_type": "stream",
     "name": "stdout",
     "text": [
      "LOSS valid 0.4674\n",
      "Accuracy valid 0.8212\n",
      "mIoU valid 0.6396\n",
      "IoU per class: Background=0.8062, Bleached=0.6274, Non-bleached=0.4851\n",
      "Custom Score valid 0.6293\n",
      "EPOCH 40/50:\n"
     ]
    },
    {
     "output_type": "stream",
     "name": "stderr",
     "text": [
      "Training: 100%|██████████| 112/112 [00:39<00:00,  2.85it/s]\n"
     ]
    },
    {
     "output_type": "stream",
     "name": "stdout",
     "text": [
      "LOSS train 0.2689\n"
     ]
    },
    {
     "output_type": "stream",
     "name": "stderr",
     "text": [
      "Validating: 100%|██████████| 28/28 [00:10<00:00,  2.62it/s]\n"
     ]
    },
    {
     "output_type": "stream",
     "name": "stdout",
     "text": [
      "LOSS valid 0.4893\n",
      "Accuracy valid 0.8223\n",
      "mIoU valid 0.6331\n",
      "IoU per class: Background=0.8092, Bleached=0.7037, Non-bleached=0.3863\n",
      "Custom Score valid 0.6216\n",
      "EPOCH 41/50:\n"
     ]
    },
    {
     "output_type": "stream",
     "name": "stderr",
     "text": [
      "Training: 100%|██████████| 112/112 [00:39<00:00,  2.85it/s]\n"
     ]
    },
    {
     "output_type": "stream",
     "name": "stdout",
     "text": [
      "LOSS train 0.2669\n"
     ]
    },
    {
     "output_type": "stream",
     "name": "stderr",
     "text": [
      "Validating: 100%|██████████| 28/28 [00:10<00:00,  2.58it/s]\n"
     ]
    },
    {
     "output_type": "stream",
     "name": "stdout",
     "text": [
      "LOSS valid 0.5956\n",
      "Accuracy valid 0.8255\n",
      "mIoU valid 0.6317\n",
      "IoU per class: Background=0.8053, Bleached=0.6367, Non-bleached=0.4530\n",
      "Custom Score valid 0.6218\n",
      "EPOCH 42/50:\n"
     ]
    },
    {
     "output_type": "stream",
     "name": "stderr",
     "text": [
      "Training: 100%|██████████| 112/112 [00:39<00:00,  2.83it/s]\n"
     ]
    },
    {
     "output_type": "stream",
     "name": "stdout",
     "text": [
      "LOSS train 0.2525\n"
     ]
    },
    {
     "output_type": "stream",
     "name": "stderr",
     "text": [
      "Validating: 100%|██████████| 28/28 [00:10<00:00,  2.56it/s]\n"
     ]
    },
    {
     "output_type": "stream",
     "name": "stdout",
     "text": [
      "LOSS valid 0.6336\n",
      "Accuracy valid 0.8254\n",
      "mIoU valid 0.6234\n",
      "IoU per class: Background=0.8153, Bleached=0.6002, Non-bleached=0.4548\n",
      "Custom Score valid 0.6101\n",
      "EPOCH 43/50:\n"
     ]
    },
    {
     "output_type": "stream",
     "name": "stderr",
     "text": [
      "Training: 100%|██████████| 112/112 [00:40<00:00,  2.77it/s]\n"
     ]
    },
    {
     "output_type": "stream",
     "name": "stdout",
     "text": [
      "LOSS train 0.2567\n"
     ]
    },
    {
     "output_type": "stream",
     "name": "stderr",
     "text": [
      "Validating: 100%|██████████| 28/28 [00:10<00:00,  2.64it/s]\n"
     ]
    },
    {
     "output_type": "stream",
     "name": "stdout",
     "text": [
      "LOSS valid 0.5707\n",
      "Accuracy valid 0.8113\n",
      "mIoU valid 0.6331\n",
      "IoU per class: Background=0.7768, Bleached=0.6110, Non-bleached=0.5114\n",
      "Custom Score valid 0.6285\n",
      "EPOCH 44/50:\n"
     ]
    },
    {
     "output_type": "stream",
     "name": "stderr",
     "text": [
      "Training: 100%|██████████| 112/112 [00:39<00:00,  2.84it/s]\n"
     ]
    },
    {
     "output_type": "stream",
     "name": "stdout",
     "text": [
      "LOSS train 0.2596\n"
     ]
    },
    {
     "output_type": "stream",
     "name": "stderr",
     "text": [
      "Validating: 100%|██████████| 28/28 [00:11<00:00,  2.53it/s]\n"
     ]
    },
    {
     "output_type": "stream",
     "name": "stdout",
     "text": [
      "LOSS valid 0.5716\n",
      "Accuracy valid 0.8227\n",
      "mIoU valid 0.6295\n",
      "IoU per class: Background=0.8119, Bleached=0.6456, Non-bleached=0.4311\n",
      "Custom Score valid 0.6171\n",
      "EPOCH 45/50:\n"
     ]
    },
    {
     "output_type": "stream",
     "name": "stderr",
     "text": [
      "Training: 100%|██████████| 112/112 [00:40<00:00,  2.77it/s]\n"
     ]
    },
    {
     "output_type": "stream",
     "name": "stdout",
     "text": [
      "LOSS train 0.2465\n"
     ]
    },
    {
     "output_type": "stream",
     "name": "stderr",
     "text": [
      "Validating: 100%|██████████| 28/28 [00:10<00:00,  2.61it/s]\n"
     ]
    },
    {
     "output_type": "stream",
     "name": "stdout",
     "text": [
      "LOSS valid 0.5301\n",
      "Accuracy valid 0.8294\n",
      "mIoU valid 0.6362\n",
      "IoU per class: Background=0.8104, Bleached=0.6619, Non-bleached=0.4363\n",
      "Custom Score valid 0.6261\n",
      "EPOCH 46/50:\n"
     ]
    },
    {
     "output_type": "stream",
     "name": "stderr",
     "text": [
      "Training: 100%|██████████| 112/112 [00:39<00:00,  2.81it/s]\n"
     ]
    },
    {
     "output_type": "stream",
     "name": "stdout",
     "text": [
      "LOSS train 0.2456\n"
     ]
    },
    {
     "output_type": "stream",
     "name": "stderr",
     "text": [
      "Validating: 100%|██████████| 28/28 [00:11<00:00,  2.53it/s]\n"
     ]
    },
    {
     "output_type": "stream",
     "name": "stdout",
     "text": [
      "LOSS valid 0.6171\n",
      "Accuracy valid 0.8204\n",
      "mIoU valid 0.6346\n",
      "IoU per class: Background=0.8034, Bleached=0.6713, Non-bleached=0.4291\n",
      "Custom Score valid 0.6245\n",
      "EPOCH 47/50:\n"
     ]
    },
    {
     "output_type": "stream",
     "name": "stderr",
     "text": [
      "Training: 100%|██████████| 112/112 [00:40<00:00,  2.79it/s]\n"
     ]
    },
    {
     "output_type": "stream",
     "name": "stdout",
     "text": [
      "LOSS train 0.2602\n"
     ]
    },
    {
     "output_type": "stream",
     "name": "stderr",
     "text": [
      "Validating: 100%|██████████| 28/28 [00:11<00:00,  2.47it/s]\n"
     ]
    },
    {
     "output_type": "stream",
     "name": "stdout",
     "text": [
      "LOSS valid 0.5423\n",
      "Accuracy valid 0.8202\n",
      "mIoU valid 0.6368\n",
      "IoU per class: Background=0.8078, Bleached=0.6419, Non-bleached=0.4608\n",
      "Custom Score valid 0.6256\n",
      "EPOCH 48/50:\n"
     ]
    },
    {
     "output_type": "stream",
     "name": "stderr",
     "text": [
      "Training: 100%|██████████| 112/112 [00:38<00:00,  2.88it/s]\n"
     ]
    },
    {
     "output_type": "stream",
     "name": "stdout",
     "text": [
      "LOSS train 0.2697\n"
     ]
    },
    {
     "output_type": "stream",
     "name": "stderr",
     "text": [
      "Validating: 100%|██████████| 28/28 [00:10<00:00,  2.59it/s]\n"
     ]
    },
    {
     "output_type": "stream",
     "name": "stdout",
     "text": [
      "LOSS valid 0.5442\n",
      "Accuracy valid 0.8269\n",
      "mIoU valid 0.6504\n",
      "IoU per class: Background=0.7959, Bleached=0.7092, Non-bleached=0.4462\n",
      "Custom Score valid 0.6450\n",
      "EPOCH 49/50:\n"
     ]
    },
    {
     "output_type": "stream",
     "name": "stderr",
     "text": [
      "Training: 100%|██████████| 112/112 [00:40<00:00,  2.79it/s]\n"
     ]
    },
    {
     "output_type": "stream",
     "name": "stdout",
     "text": [
      "LOSS train 0.2584\n"
     ]
    },
    {
     "output_type": "stream",
     "name": "stderr",
     "text": [
      "Validating: 100%|██████████| 28/28 [00:11<00:00,  2.53it/s]\n"
     ]
    },
    {
     "output_type": "stream",
     "name": "stdout",
     "text": [
      "LOSS valid 0.5914\n",
      "Accuracy valid 0.8204\n",
      "mIoU valid 0.6242\n",
      "IoU per class: Background=0.7991, Bleached=0.6065, Non-bleached=0.4670\n",
      "Custom Score valid 0.6145\n",
      "EPOCH 50/50:\n"
     ]
    },
    {
     "output_type": "stream",
     "name": "stderr",
     "text": [
      "Training: 100%|██████████| 112/112 [00:39<00:00,  2.85it/s]\n"
     ]
    },
    {
     "output_type": "stream",
     "name": "stdout",
     "text": [
      "LOSS train 0.2648\n"
     ]
    },
    {
     "output_type": "stream",
     "name": "stderr",
     "text": [
      "Validating: 100%|██████████| 28/28 [00:10<00:00,  2.68it/s]\n"
     ]
    },
    {
     "output_type": "stream",
     "name": "stdout",
     "text": [
      "LOSS valid 0.5292\n",
      "Accuracy valid 0.8305\n",
      "mIoU valid 0.6466\n",
      "IoU per class: Background=0.7997, Bleached=0.6546, Non-bleached=0.4855\n",
      "Custom Score valid 0.6405\n",
      "\n",
      "==================== FOLD 2/5 ====================\n",
      "Warning: Model does not have reset_parameters method. Using current weights.\n",
      "EPOCH 1/50:\n"
     ]
    },
    {
     "output_type": "stream",
     "name": "stderr",
     "text": [
      "Training: 100%|██████████| 112/112 [00:39<00:00,  2.81it/s]\n"
     ]
    },
    {
     "output_type": "stream",
     "name": "stdout",
     "text": [
      "LOSS train 0.3263\n"
     ]
    },
    {
     "output_type": "stream",
     "name": "stderr",
     "text": [
      "Validating: 100%|██████████| 28/28 [00:10<00:00,  2.75it/s]\n"
     ]
    },
    {
     "output_type": "stream",
     "name": "stdout",
     "text": [
      "LOSS valid 0.2905\n",
      "Accuracy valid 0.8751\n",
      "mIoU valid 0.7355\n",
      "IoU per class: Background=0.8280, Bleached=0.7257, Non-bleached=0.6529\n",
      "Custom Score valid 0.7375\n",
      "Saved improved model checkpoint to ./checkpoints_og_reefsupport/model_fold_2_best_score.pth (Custom Score: 0.7375)\n",
      "EPOCH 2/50:\n"
     ]
    },
    {
     "output_type": "stream",
     "name": "stderr",
     "text": [
      "Training: 100%|██████████| 112/112 [00:39<00:00,  2.83it/s]\n"
     ]
    },
    {
     "output_type": "stream",
     "name": "stdout",
     "text": [
      "LOSS train 0.3160\n"
     ]
    },
    {
     "output_type": "stream",
     "name": "stderr",
     "text": [
      "Validating: 100%|██████████| 28/28 [00:09<00:00,  2.86it/s]\n"
     ]
    },
    {
     "output_type": "stream",
     "name": "stdout",
     "text": [
      "LOSS valid 0.2650\n",
      "Accuracy valid 0.8975\n",
      "mIoU valid 0.7502\n",
      "IoU per class: Background=0.8631, Bleached=0.7132, Non-bleached=0.6745\n",
      "Custom Score valid 0.7481\n",
      "Saved improved model checkpoint to ./checkpoints_og_reefsupport/model_fold_2_best_score.pth (Custom Score: 0.7481)\n",
      "EPOCH 3/50:\n"
     ]
    },
    {
     "output_type": "stream",
     "name": "stderr",
     "text": [
      "Training: 100%|██████████| 112/112 [00:41<00:00,  2.68it/s]\n"
     ]
    },
    {
     "output_type": "stream",
     "name": "stdout",
     "text": [
      "LOSS train 0.2924\n"
     ]
    },
    {
     "output_type": "stream",
     "name": "stderr",
     "text": [
      "Validating: 100%|██████████| 28/28 [00:09<00:00,  2.86it/s]\n"
     ]
    },
    {
     "output_type": "stream",
     "name": "stdout",
     "text": [
      "LOSS valid 0.2608\n",
      "Accuracy valid 0.8962\n",
      "mIoU valid 0.7454\n",
      "IoU per class: Background=0.8640, Bleached=0.6750, Non-bleached=0.6973\n",
      "Custom Score valid 0.7424\n",
      "EPOCH 4/50:\n"
     ]
    },
    {
     "output_type": "stream",
     "name": "stderr",
     "text": [
      "Training: 100%|██████████| 112/112 [00:40<00:00,  2.75it/s]\n"
     ]
    },
    {
     "output_type": "stream",
     "name": "stdout",
     "text": [
      "LOSS train 0.2737\n"
     ]
    },
    {
     "output_type": "stream",
     "name": "stderr",
     "text": [
      "Validating: 100%|██████████| 28/28 [00:10<00:00,  2.61it/s]\n"
     ]
    },
    {
     "output_type": "stream",
     "name": "stdout",
     "text": [
      "LOSS valid 0.2748\n",
      "Accuracy valid 0.8860\n",
      "mIoU valid 0.7199\n",
      "IoU per class: Background=0.8450, Bleached=0.6534, Non-bleached=0.6612\n",
      "Custom Score valid 0.7181\n",
      "EPOCH 5/50:\n"
     ]
    },
    {
     "output_type": "stream",
     "name": "stderr",
     "text": [
      "Training: 100%|██████████| 112/112 [00:41<00:00,  2.72it/s]\n"
     ]
    },
    {
     "output_type": "stream",
     "name": "stdout",
     "text": [
      "LOSS train 0.2813\n"
     ]
    },
    {
     "output_type": "stream",
     "name": "stderr",
     "text": [
      "Validating: 100%|██████████| 28/28 [00:10<00:00,  2.67it/s]\n"
     ]
    },
    {
     "output_type": "stream",
     "name": "stdout",
     "text": [
      "LOSS valid 0.2902\n",
      "Accuracy valid 0.8782\n",
      "mIoU valid 0.7116\n",
      "IoU per class: Background=0.8572, Bleached=0.6348, Non-bleached=0.6428\n",
      "Custom Score valid 0.7041\n",
      "EPOCH 6/50:\n"
     ]
    },
    {
     "output_type": "stream",
     "name": "stderr",
     "text": [
      "Training: 100%|██████████| 112/112 [00:38<00:00,  2.90it/s]\n"
     ]
    },
    {
     "output_type": "stream",
     "name": "stdout",
     "text": [
      "LOSS train 0.3039\n"
     ]
    },
    {
     "output_type": "stream",
     "name": "stderr",
     "text": [
      "Validating: 100%|██████████| 28/28 [00:10<00:00,  2.71it/s]\n"
     ]
    },
    {
     "output_type": "stream",
     "name": "stdout",
     "text": [
      "LOSS valid 0.3104\n",
      "Accuracy valid 0.8602\n",
      "mIoU valid 0.7284\n",
      "IoU per class: Background=0.8061, Bleached=0.7347, Non-bleached=0.6443\n",
      "Custom Score valid 0.7330\n",
      "EPOCH 7/50:\n"
     ]
    },
    {
     "output_type": "stream",
     "name": "stderr",
     "text": [
      "Training: 100%|██████████| 112/112 [00:39<00:00,  2.81it/s]\n"
     ]
    },
    {
     "output_type": "stream",
     "name": "stdout",
     "text": [
      "LOSS train 0.2788\n"
     ]
    },
    {
     "output_type": "stream",
     "name": "stderr",
     "text": [
      "Validating: 100%|██████████| 28/28 [00:10<00:00,  2.69it/s]\n"
     ]
    },
    {
     "output_type": "stream",
     "name": "stdout",
     "text": [
      "LOSS valid 0.2502\n",
      "Accuracy valid 0.8968\n",
      "mIoU valid 0.7542\n",
      "IoU per class: Background=0.8592, Bleached=0.7068, Non-bleached=0.6967\n",
      "Custom Score valid 0.7534\n",
      "Saved improved model checkpoint to ./checkpoints_og_reefsupport/model_fold_2_best_score.pth (Custom Score: 0.7534)\n",
      "EPOCH 8/50:\n"
     ]
    },
    {
     "output_type": "stream",
     "name": "stderr",
     "text": [
      "Training: 100%|██████████| 112/112 [00:42<00:00,  2.65it/s]\n"
     ]
    },
    {
     "output_type": "stream",
     "name": "stdout",
     "text": [
      "LOSS train 0.2678\n"
     ]
    },
    {
     "output_type": "stream",
     "name": "stderr",
     "text": [
      "Validating: 100%|██████████| 28/28 [00:09<00:00,  2.81it/s]\n"
     ]
    },
    {
     "output_type": "stream",
     "name": "stdout",
     "text": [
      "LOSS valid 0.2503\n",
      "Accuracy valid 0.8965\n",
      "mIoU valid 0.7607\n",
      "IoU per class: Background=0.8668, Bleached=0.7313, Non-bleached=0.6840\n",
      "Custom Score valid 0.7582\n",
      "Saved improved model checkpoint to ./checkpoints_og_reefsupport/model_fold_2_best_score.pth (Custom Score: 0.7582)\n",
      "EPOCH 9/50:\n"
     ]
    },
    {
     "output_type": "stream",
     "name": "stderr",
     "text": [
      "Training: 100%|██████████| 112/112 [00:42<00:00,  2.62it/s]\n"
     ]
    },
    {
     "output_type": "stream",
     "name": "stdout",
     "text": [
      "LOSS train 0.2713\n"
     ]
    },
    {
     "output_type": "stream",
     "name": "stderr",
     "text": [
      "Validating: 100%|██████████| 28/28 [00:10<00:00,  2.76it/s]\n"
     ]
    },
    {
     "output_type": "stream",
     "name": "stdout",
     "text": [
      "LOSS valid 0.2724\n",
      "Accuracy valid 0.8826\n",
      "mIoU valid 0.7306\n",
      "IoU per class: Background=0.8467, Bleached=0.6810, Non-bleached=0.6641\n",
      "Custom Score valid 0.7285\n",
      "EPOCH 10/50:\n"
     ]
    },
    {
     "output_type": "stream",
     "name": "stderr",
     "text": [
      "Training: 100%|██████████| 112/112 [00:42<00:00,  2.63it/s]\n"
     ]
    },
    {
     "output_type": "stream",
     "name": "stdout",
     "text": [
      "LOSS train 0.2922\n"
     ]
    },
    {
     "output_type": "stream",
     "name": "stderr",
     "text": [
      "Validating: 100%|██████████| 28/28 [00:11<00:00,  2.52it/s]\n"
     ]
    },
    {
     "output_type": "stream",
     "name": "stdout",
     "text": [
      "LOSS valid 0.2828\n",
      "Accuracy valid 0.8767\n",
      "mIoU valid 0.7027\n",
      "IoU per class: Background=0.8325, Bleached=0.6462, Non-bleached=0.6293\n",
      "Custom Score valid 0.7011\n",
      "EPOCH 11/50:\n"
     ]
    },
    {
     "output_type": "stream",
     "name": "stderr",
     "text": [
      "Training: 100%|██████████| 112/112 [00:41<00:00,  2.69it/s]\n"
     ]
    },
    {
     "output_type": "stream",
     "name": "stdout",
     "text": [
      "LOSS train 0.2548\n"
     ]
    },
    {
     "output_type": "stream",
     "name": "stderr",
     "text": [
      "Validating: 100%|██████████| 28/28 [00:10<00:00,  2.75it/s]\n"
     ]
    },
    {
     "output_type": "stream",
     "name": "stdout",
     "text": [
      "LOSS valid 0.2608\n",
      "Accuracy valid 0.8921\n",
      "mIoU valid 0.7414\n",
      "IoU per class: Background=0.8652, Bleached=0.6830, Non-bleached=0.6761\n",
      "Custom Score valid 0.7369\n",
      "EPOCH 12/50:\n"
     ]
    },
    {
     "output_type": "stream",
     "name": "stderr",
     "text": [
      "Training: 100%|██████████| 112/112 [00:40<00:00,  2.78it/s]\n"
     ]
    },
    {
     "output_type": "stream",
     "name": "stdout",
     "text": [
      "LOSS train 0.2599\n"
     ]
    },
    {
     "output_type": "stream",
     "name": "stderr",
     "text": [
      "Validating: 100%|██████████| 28/28 [00:10<00:00,  2.63it/s]\n"
     ]
    },
    {
     "output_type": "stream",
     "name": "stdout",
     "text": [
      "LOSS valid 0.2658\n",
      "Accuracy valid 0.8900\n",
      "mIoU valid 0.7464\n",
      "IoU per class: Background=0.8507, Bleached=0.6989, Non-bleached=0.6898\n",
      "Custom Score valid 0.7460\n",
      "EPOCH 13/50:\n"
     ]
    },
    {
     "output_type": "stream",
     "name": "stderr",
     "text": [
      "Training: 100%|██████████| 112/112 [00:41<00:00,  2.67it/s]\n"
     ]
    },
    {
     "output_type": "stream",
     "name": "stdout",
     "text": [
      "LOSS train 0.2551\n"
     ]
    },
    {
     "output_type": "stream",
     "name": "stderr",
     "text": [
      "Validating: 100%|██████████| 28/28 [00:10<00:00,  2.74it/s]\n"
     ]
    },
    {
     "output_type": "stream",
     "name": "stdout",
     "text": [
      "LOSS valid 0.2493\n",
      "Accuracy valid 0.8933\n",
      "mIoU valid 0.7581\n",
      "IoU per class: Background=0.8516, Bleached=0.7461, Non-bleached=0.6767\n",
      "Custom Score valid 0.7590\n",
      "Saved improved model checkpoint to ./checkpoints_og_reefsupport/model_fold_2_best_score.pth (Custom Score: 0.7590)\n",
      "EPOCH 14/50:\n"
     ]
    },
    {
     "output_type": "stream",
     "name": "stderr",
     "text": [
      "Training: 100%|██████████| 112/112 [00:42<00:00,  2.61it/s]\n"
     ]
    },
    {
     "output_type": "stream",
     "name": "stdout",
     "text": [
      "LOSS train 0.2546\n"
     ]
    },
    {
     "output_type": "stream",
     "name": "stderr",
     "text": [
      "Validating: 100%|██████████| 28/28 [00:10<00:00,  2.71it/s]\n"
     ]
    },
    {
     "output_type": "stream",
     "name": "stdout",
     "text": [
      "LOSS valid 0.2819\n",
      "Accuracy valid 0.8795\n",
      "mIoU valid 0.7463\n",
      "IoU per class: Background=0.8440, Bleached=0.7421, Non-bleached=0.6529\n",
      "Custom Score valid 0.7456\n",
      "EPOCH 15/50:\n"
     ]
    },
    {
     "output_type": "stream",
     "name": "stderr",
     "text": [
      "Training: 100%|██████████| 112/112 [00:40<00:00,  2.76it/s]\n"
     ]
    },
    {
     "output_type": "stream",
     "name": "stdout",
     "text": [
      "LOSS train 0.2549\n"
     ]
    },
    {
     "output_type": "stream",
     "name": "stderr",
     "text": [
      "Validating: 100%|██████████| 28/28 [00:10<00:00,  2.69it/s]\n"
     ]
    },
    {
     "output_type": "stream",
     "name": "stdout",
     "text": [
      "LOSS valid 0.2577\n",
      "Accuracy valid 0.8973\n",
      "mIoU valid 0.7553\n",
      "IoU per class: Background=0.8633, Bleached=0.7391, Non-bleached=0.6637\n",
      "Custom Score valid 0.7535\n",
      "EPOCH 16/50:\n"
     ]
    },
    {
     "output_type": "stream",
     "name": "stderr",
     "text": [
      "Training: 100%|██████████| 112/112 [00:40<00:00,  2.75it/s]\n"
     ]
    },
    {
     "output_type": "stream",
     "name": "stdout",
     "text": [
      "LOSS train 0.2369\n"
     ]
    },
    {
     "output_type": "stream",
     "name": "stderr",
     "text": [
      "Validating: 100%|██████████| 28/28 [00:09<00:00,  2.82it/s]\n"
     ]
    },
    {
     "output_type": "stream",
     "name": "stdout",
     "text": [
      "LOSS valid 0.2562\n",
      "Accuracy valid 0.8975\n",
      "mIoU valid 0.7590\n",
      "IoU per class: Background=0.8693, Bleached=0.7059, Non-bleached=0.7018\n",
      "Custom Score valid 0.7558\n",
      "EPOCH 17/50:\n"
     ]
    },
    {
     "output_type": "stream",
     "name": "stderr",
     "text": [
      "Training: 100%|██████████| 112/112 [00:40<00:00,  2.74it/s]\n"
     ]
    },
    {
     "output_type": "stream",
     "name": "stdout",
     "text": [
      "LOSS train 0.2396\n"
     ]
    },
    {
     "output_type": "stream",
     "name": "stderr",
     "text": [
      "Validating: 100%|██████████| 28/28 [00:10<00:00,  2.71it/s]\n"
     ]
    },
    {
     "output_type": "stream",
     "name": "stdout",
     "text": [
      "LOSS valid 0.2624\n",
      "Accuracy valid 0.8929\n",
      "mIoU valid 0.7682\n",
      "IoU per class: Background=0.8627, Bleached=0.7725, Non-bleached=0.6696\n",
      "Custom Score valid 0.7667\n",
      "Saved improved model checkpoint to ./checkpoints_og_reefsupport/model_fold_2_best_score.pth (Custom Score: 0.7667)\n",
      "EPOCH 18/50:\n"
     ]
    },
    {
     "output_type": "stream",
     "name": "stderr",
     "text": [
      "Training: 100%|██████████| 112/112 [00:41<00:00,  2.72it/s]\n"
     ]
    },
    {
     "output_type": "stream",
     "name": "stdout",
     "text": [
      "LOSS train 0.2435\n"
     ]
    },
    {
     "output_type": "stream",
     "name": "stderr",
     "text": [
      "Validating: 100%|██████████| 28/28 [00:10<00:00,  2.67it/s]\n"
     ]
    },
    {
     "output_type": "stream",
     "name": "stdout",
     "text": [
      "LOSS valid 0.2784\n",
      "Accuracy valid 0.8886\n",
      "mIoU valid 0.7260\n",
      "IoU per class: Background=0.8650, Bleached=0.6575, Non-bleached=0.6555\n",
      "Custom Score valid 0.7196\n",
      "EPOCH 19/50:\n"
     ]
    },
    {
     "output_type": "stream",
     "name": "stderr",
     "text": [
      "Training: 100%|██████████| 112/112 [00:41<00:00,  2.71it/s]\n"
     ]
    },
    {
     "output_type": "stream",
     "name": "stdout",
     "text": [
      "LOSS train 0.2422\n"
     ]
    },
    {
     "output_type": "stream",
     "name": "stderr",
     "text": [
      "Validating: 100%|██████████| 28/28 [00:10<00:00,  2.69it/s]\n"
     ]
    },
    {
     "output_type": "stream",
     "name": "stdout",
     "text": [
      "LOSS valid 0.2875\n",
      "Accuracy valid 0.8836\n",
      "mIoU valid 0.7320\n",
      "IoU per class: Background=0.8472, Bleached=0.6748, Non-bleached=0.6741\n",
      "Custom Score valid 0.7301\n",
      "EPOCH 20/50:\n"
     ]
    },
    {
     "output_type": "stream",
     "name": "stderr",
     "text": [
      "Training: 100%|██████████| 112/112 [00:43<00:00,  2.58it/s]\n"
     ]
    },
    {
     "output_type": "stream",
     "name": "stdout",
     "text": [
      "LOSS train 0.2303\n"
     ]
    },
    {
     "output_type": "stream",
     "name": "stderr",
     "text": [
      "Validating: 100%|██████████| 28/28 [00:10<00:00,  2.63it/s]\n"
     ]
    },
    {
     "output_type": "stream",
     "name": "stdout",
     "text": [
      "LOSS valid 0.2625\n",
      "Accuracy valid 0.8937\n",
      "mIoU valid 0.7478\n",
      "IoU per class: Background=0.8599, Bleached=0.7152, Non-bleached=0.6683\n",
      "Custom Score valid 0.7456\n",
      "EPOCH 21/50:\n"
     ]
    },
    {
     "output_type": "stream",
     "name": "stderr",
     "text": [
      "Training: 100%|██████████| 112/112 [00:41<00:00,  2.73it/s]\n"
     ]
    },
    {
     "output_type": "stream",
     "name": "stdout",
     "text": [
      "LOSS train 0.2234\n"
     ]
    },
    {
     "output_type": "stream",
     "name": "stderr",
     "text": [
      "Validating: 100%|██████████| 28/28 [00:10<00:00,  2.76it/s]\n"
     ]
    },
    {
     "output_type": "stream",
     "name": "stdout",
     "text": [
      "LOSS valid 0.2627\n",
      "Accuracy valid 0.8912\n",
      "mIoU valid 0.7488\n",
      "IoU per class: Background=0.8512, Bleached=0.7122, Non-bleached=0.6829\n",
      "Custom Score valid 0.7486\n",
      "EPOCH 22/50:\n"
     ]
    },
    {
     "output_type": "stream",
     "name": "stderr",
     "text": [
      "Training: 100%|██████████| 112/112 [00:43<00:00,  2.57it/s]\n"
     ]
    },
    {
     "output_type": "stream",
     "name": "stdout",
     "text": [
      "LOSS train 0.2447\n"
     ]
    },
    {
     "output_type": "stream",
     "name": "stderr",
     "text": [
      "Validating: 100%|██████████| 28/28 [00:10<00:00,  2.70it/s]\n"
     ]
    },
    {
     "output_type": "stream",
     "name": "stdout",
     "text": [
      "LOSS valid 0.2870\n",
      "Accuracy valid 0.8824\n",
      "mIoU valid 0.7145\n",
      "IoU per class: Background=0.8533, Bleached=0.6372, Non-bleached=0.6532\n",
      "Custom Score valid 0.7093\n",
      "EPOCH 23/50:\n"
     ]
    },
    {
     "output_type": "stream",
     "name": "stderr",
     "text": [
      "Training: 100%|██████████| 112/112 [00:41<00:00,  2.71it/s]\n"
     ]
    },
    {
     "output_type": "stream",
     "name": "stdout",
     "text": [
      "LOSS train 0.2391\n"
     ]
    },
    {
     "output_type": "stream",
     "name": "stderr",
     "text": [
      "Validating: 100%|██████████| 28/28 [00:10<00:00,  2.75it/s]\n"
     ]
    },
    {
     "output_type": "stream",
     "name": "stdout",
     "text": [
      "LOSS valid 0.3890\n",
      "Accuracy valid 0.8677\n",
      "mIoU valid 0.6692\n",
      "IoU per class: Background=0.8490, Bleached=0.5783, Non-bleached=0.5803\n",
      "Custom Score valid 0.6586\n",
      "EPOCH 24/50:\n"
     ]
    },
    {
     "output_type": "stream",
     "name": "stderr",
     "text": [
      "Training: 100%|██████████| 112/112 [00:41<00:00,  2.71it/s]\n"
     ]
    },
    {
     "output_type": "stream",
     "name": "stdout",
     "text": [
      "LOSS train 0.2443\n"
     ]
    },
    {
     "output_type": "stream",
     "name": "stderr",
     "text": [
      "Validating: 100%|██████████| 28/28 [00:10<00:00,  2.67it/s]\n"
     ]
    },
    {
     "output_type": "stream",
     "name": "stdout",
     "text": [
      "LOSS valid 0.3205\n",
      "Accuracy valid 0.8630\n",
      "mIoU valid 0.6920\n",
      "IoU per class: Background=0.8386, Bleached=0.6205, Non-bleached=0.6168\n",
      "Custom Score valid 0.6851\n",
      "EPOCH 25/50:\n"
     ]
    },
    {
     "output_type": "stream",
     "name": "stderr",
     "text": [
      "Training: 100%|██████████| 112/112 [00:41<00:00,  2.73it/s]\n"
     ]
    },
    {
     "output_type": "stream",
     "name": "stdout",
     "text": [
      "LOSS train 0.2476\n"
     ]
    },
    {
     "output_type": "stream",
     "name": "stderr",
     "text": [
      "Validating: 100%|██████████| 28/28 [00:10<00:00,  2.62it/s]\n"
     ]
    },
    {
     "output_type": "stream",
     "name": "stdout",
     "text": [
      "LOSS valid 0.2836\n",
      "Accuracy valid 0.8851\n",
      "mIoU valid 0.7189\n",
      "IoU per class: Background=0.8583, Bleached=0.6261, Non-bleached=0.6722\n",
      "Custom Score valid 0.7131\n",
      "EPOCH 26/50:\n"
     ]
    },
    {
     "output_type": "stream",
     "name": "stderr",
     "text": [
      "Training: 100%|██████████| 112/112 [00:40<00:00,  2.76it/s]\n"
     ]
    },
    {
     "output_type": "stream",
     "name": "stdout",
     "text": [
      "LOSS train 0.2354\n"
     ]
    },
    {
     "output_type": "stream",
     "name": "stderr",
     "text": [
      "Validating: 100%|██████████| 28/28 [00:11<00:00,  2.44it/s]\n"
     ]
    },
    {
     "output_type": "stream",
     "name": "stdout",
     "text": [
      "LOSS valid 0.2942\n",
      "Accuracy valid 0.8868\n",
      "mIoU valid 0.7328\n",
      "IoU per class: Background=0.8491, Bleached=0.6857, Non-bleached=0.6636\n",
      "Custom Score valid 0.7310\n",
      "EPOCH 27/50:\n"
     ]
    },
    {
     "output_type": "stream",
     "name": "stderr",
     "text": [
      "Training: 100%|██████████| 112/112 [00:41<00:00,  2.67it/s]\n"
     ]
    },
    {
     "output_type": "stream",
     "name": "stdout",
     "text": [
      "LOSS train 0.2221\n"
     ]
    },
    {
     "output_type": "stream",
     "name": "stderr",
     "text": [
      "Validating: 100%|██████████| 28/28 [00:10<00:00,  2.66it/s]\n"
     ]
    },
    {
     "output_type": "stream",
     "name": "stdout",
     "text": [
      "LOSS valid 0.2938\n",
      "Accuracy valid 0.8782\n",
      "mIoU valid 0.7219\n",
      "IoU per class: Background=0.8451, Bleached=0.6682, Non-bleached=0.6524\n",
      "Custom Score valid 0.7186\n",
      "EPOCH 28/50:\n"
     ]
    },
    {
     "output_type": "stream",
     "name": "stderr",
     "text": [
      "Training: 100%|██████████| 112/112 [00:41<00:00,  2.67it/s]\n"
     ]
    },
    {
     "output_type": "stream",
     "name": "stdout",
     "text": [
      "LOSS train 0.2295\n"
     ]
    },
    {
     "output_type": "stream",
     "name": "stderr",
     "text": [
      "Validating: 100%|██████████| 28/28 [00:10<00:00,  2.62it/s]\n"
     ]
    },
    {
     "output_type": "stream",
     "name": "stdout",
     "text": [
      "LOSS valid 0.2861\n",
      "Accuracy valid 0.8816\n",
      "mIoU valid 0.7157\n",
      "IoU per class: Background=0.8559, Bleached=0.6637, Non-bleached=0.6274\n",
      "Custom Score valid 0.7096\n",
      "EPOCH 29/50:\n"
     ]
    },
    {
     "output_type": "stream",
     "name": "stderr",
     "text": [
      "Training: 100%|██████████| 112/112 [00:41<00:00,  2.69it/s]\n"
     ]
    },
    {
     "output_type": "stream",
     "name": "stdout",
     "text": [
      "LOSS train 0.2182\n"
     ]
    },
    {
     "output_type": "stream",
     "name": "stderr",
     "text": [
      "Validating: 100%|██████████| 28/28 [00:10<00:00,  2.64it/s]\n"
     ]
    },
    {
     "output_type": "stream",
     "name": "stdout",
     "text": [
      "LOSS valid 0.2956\n",
      "Accuracy valid 0.8823\n",
      "mIoU valid 0.7158\n",
      "IoU per class: Background=0.8565, Bleached=0.6189, Non-bleached=0.6721\n",
      "Custom Score valid 0.7097\n",
      "EPOCH 30/50:\n"
     ]
    },
    {
     "output_type": "stream",
     "name": "stderr",
     "text": [
      "Training: 100%|██████████| 112/112 [00:41<00:00,  2.69it/s]\n"
     ]
    },
    {
     "output_type": "stream",
     "name": "stdout",
     "text": [
      "LOSS train 0.2143\n"
     ]
    },
    {
     "output_type": "stream",
     "name": "stderr",
     "text": [
      "Validating: 100%|██████████| 28/28 [00:10<00:00,  2.63it/s]\n"
     ]
    },
    {
     "output_type": "stream",
     "name": "stdout",
     "text": [
      "LOSS valid 0.3148\n",
      "Accuracy valid 0.8827\n",
      "mIoU valid 0.7009\n",
      "IoU per class: Background=0.8629, Bleached=0.6142, Non-bleached=0.6256\n",
      "Custom Score valid 0.6919\n",
      "EPOCH 31/50:\n"
     ]
    },
    {
     "output_type": "stream",
     "name": "stderr",
     "text": [
      "Training: 100%|██████████| 112/112 [00:41<00:00,  2.71it/s]\n"
     ]
    },
    {
     "output_type": "stream",
     "name": "stdout",
     "text": [
      "LOSS train 0.2306\n"
     ]
    },
    {
     "output_type": "stream",
     "name": "stderr",
     "text": [
      "Validating: 100%|██████████| 28/28 [00:09<00:00,  2.82it/s]\n"
     ]
    },
    {
     "output_type": "stream",
     "name": "stdout",
     "text": [
      "LOSS valid 0.3213\n",
      "Accuracy valid 0.8605\n",
      "mIoU valid 0.6931\n",
      "IoU per class: Background=0.8151, Bleached=0.6576, Non-bleached=0.6066\n",
      "Custom Score valid 0.6924\n",
      "EPOCH 32/50:\n"
     ]
    },
    {
     "output_type": "stream",
     "name": "stderr",
     "text": [
      "Training: 100%|██████████| 112/112 [00:41<00:00,  2.73it/s]\n"
     ]
    },
    {
     "output_type": "stream",
     "name": "stdout",
     "text": [
      "LOSS train 0.2153\n"
     ]
    },
    {
     "output_type": "stream",
     "name": "stderr",
     "text": [
      "Validating: 100%|██████████| 28/28 [00:10<00:00,  2.67it/s]\n"
     ]
    },
    {
     "output_type": "stream",
     "name": "stdout",
     "text": [
      "LOSS valid 0.3417\n",
      "Accuracy valid 0.8771\n",
      "mIoU valid 0.7110\n",
      "IoU per class: Background=0.8486, Bleached=0.6557, Non-bleached=0.6287\n",
      "Custom Score valid 0.7057\n",
      "EPOCH 33/50:\n"
     ]
    },
    {
     "output_type": "stream",
     "name": "stderr",
     "text": [
      "Training: 100%|██████████| 112/112 [00:41<00:00,  2.73it/s]\n"
     ]
    },
    {
     "output_type": "stream",
     "name": "stdout",
     "text": [
      "LOSS train 0.2216\n"
     ]
    },
    {
     "output_type": "stream",
     "name": "stderr",
     "text": [
      "Validating: 100%|██████████| 28/28 [00:10<00:00,  2.68it/s]\n"
     ]
    },
    {
     "output_type": "stream",
     "name": "stdout",
     "text": [
      "LOSS valid 0.3085\n",
      "Accuracy valid 0.8741\n",
      "mIoU valid 0.7248\n",
      "IoU per class: Background=0.8409, Bleached=0.7083, Non-bleached=0.6251\n",
      "Custom Score valid 0.7221\n",
      "EPOCH 34/50:\n"
     ]
    },
    {
     "output_type": "stream",
     "name": "stderr",
     "text": [
      "Training: 100%|██████████| 112/112 [00:39<00:00,  2.81it/s]\n"
     ]
    },
    {
     "output_type": "stream",
     "name": "stdout",
     "text": [
      "LOSS train 0.2246\n"
     ]
    },
    {
     "output_type": "stream",
     "name": "stderr",
     "text": [
      "Validating: 100%|██████████| 28/28 [00:11<00:00,  2.53it/s]\n"
     ]
    },
    {
     "output_type": "stream",
     "name": "stdout",
     "text": [
      "LOSS valid 0.3251\n",
      "Accuracy valid 0.8640\n",
      "mIoU valid 0.7121\n",
      "IoU per class: Background=0.8235, Bleached=0.6827, Non-bleached=0.6303\n",
      "Custom Score valid 0.7113\n",
      "EPOCH 35/50:\n"
     ]
    },
    {
     "output_type": "stream",
     "name": "stderr",
     "text": [
      "Training: 100%|██████████| 112/112 [00:41<00:00,  2.71it/s]\n"
     ]
    },
    {
     "output_type": "stream",
     "name": "stdout",
     "text": [
      "LOSS train 0.2210\n"
     ]
    },
    {
     "output_type": "stream",
     "name": "stderr",
     "text": [
      "Validating: 100%|██████████| 28/28 [00:10<00:00,  2.58it/s]\n"
     ]
    },
    {
     "output_type": "stream",
     "name": "stdout",
     "text": [
      "LOSS valid 0.2858\n",
      "Accuracy valid 0.8887\n",
      "mIoU valid 0.7358\n",
      "IoU per class: Background=0.8566, Bleached=0.6794, Non-bleached=0.6714\n",
      "Custom Score valid 0.7326\n",
      "EPOCH 36/50:\n"
     ]
    },
    {
     "output_type": "stream",
     "name": "stderr",
     "text": [
      "Training: 100%|██████████| 112/112 [00:43<00:00,  2.57it/s]\n"
     ]
    },
    {
     "output_type": "stream",
     "name": "stdout",
     "text": [
      "LOSS train 0.2345\n"
     ]
    },
    {
     "output_type": "stream",
     "name": "stderr",
     "text": [
      "Validating: 100%|██████████| 28/28 [00:10<00:00,  2.60it/s]\n"
     ]
    },
    {
     "output_type": "stream",
     "name": "stdout",
     "text": [
      "LOSS valid 0.2980\n",
      "Accuracy valid 0.8814\n",
      "mIoU valid 0.7307\n",
      "IoU per class: Background=0.8504, Bleached=0.7095, Non-bleached=0.6321\n",
      "Custom Score valid 0.7273\n",
      "EPOCH 37/50:\n"
     ]
    },
    {
     "output_type": "stream",
     "name": "stderr",
     "text": [
      "Training: 100%|██████████| 112/112 [00:43<00:00,  2.56it/s]\n"
     ]
    },
    {
     "output_type": "stream",
     "name": "stdout",
     "text": [
      "LOSS train 0.2286\n"
     ]
    },
    {
     "output_type": "stream",
     "name": "stderr",
     "text": [
      "Validating: 100%|██████████| 28/28 [00:10<00:00,  2.66it/s]\n"
     ]
    },
    {
     "output_type": "stream",
     "name": "stdout",
     "text": [
      "LOSS valid 0.3120\n",
      "Accuracy valid 0.8833\n",
      "mIoU valid 0.7289\n",
      "IoU per class: Background=0.8514, Bleached=0.6771, Non-bleached=0.6582\n",
      "Custom Score valid 0.7255\n",
      "EPOCH 38/50:\n"
     ]
    },
    {
     "output_type": "stream",
     "name": "stderr",
     "text": [
      "Training: 100%|██████████| 112/112 [00:45<00:00,  2.47it/s]\n"
     ]
    },
    {
     "output_type": "stream",
     "name": "stdout",
     "text": [
      "LOSS train 0.2313\n"
     ]
    },
    {
     "output_type": "stream",
     "name": "stderr",
     "text": [
      "Validating: 100%|██████████| 28/28 [00:10<00:00,  2.73it/s]\n"
     ]
    },
    {
     "output_type": "stream",
     "name": "stdout",
     "text": [
      "LOSS valid 0.2875\n",
      "Accuracy valid 0.8785\n",
      "mIoU valid 0.7215\n",
      "IoU per class: Background=0.8477, Bleached=0.6610, Non-bleached=0.6558\n",
      "Custom Score valid 0.7175\n",
      "EPOCH 39/50:\n"
     ]
    },
    {
     "output_type": "stream",
     "name": "stderr",
     "text": [
      "Training: 100%|██████████| 112/112 [00:41<00:00,  2.71it/s]\n"
     ]
    },
    {
     "output_type": "stream",
     "name": "stdout",
     "text": [
      "LOSS train 0.2128\n"
     ]
    },
    {
     "output_type": "stream",
     "name": "stderr",
     "text": [
      "Validating: 100%|██████████| 28/28 [00:10<00:00,  2.72it/s]\n"
     ]
    },
    {
     "output_type": "stream",
     "name": "stdout",
     "text": [
      "LOSS valid 0.3033\n",
      "Accuracy valid 0.8781\n",
      "mIoU valid 0.7006\n",
      "IoU per class: Background=0.8337, Bleached=0.6280, Non-bleached=0.6399\n",
      "Custom Score valid 0.6988\n",
      "EPOCH 40/50:\n"
     ]
    },
    {
     "output_type": "stream",
     "name": "stderr",
     "text": [
      "Training: 100%|██████████| 112/112 [00:41<00:00,  2.71it/s]\n"
     ]
    },
    {
     "output_type": "stream",
     "name": "stdout",
     "text": [
      "LOSS train 0.2113\n"
     ]
    },
    {
     "output_type": "stream",
     "name": "stderr",
     "text": [
      "Validating: 100%|██████████| 28/28 [00:10<00:00,  2.64it/s]\n"
     ]
    },
    {
     "output_type": "stream",
     "name": "stdout",
     "text": [
      "LOSS valid 0.3297\n",
      "Accuracy valid 0.8715\n",
      "mIoU valid 0.7163\n",
      "IoU per class: Background=0.8329, Bleached=0.6694, Non-bleached=0.6467\n",
      "Custom Score valid 0.7147\n",
      "EPOCH 41/50:\n"
     ]
    },
    {
     "output_type": "stream",
     "name": "stderr",
     "text": [
      "Training: 100%|██████████| 112/112 [00:41<00:00,  2.69it/s]\n"
     ]
    },
    {
     "output_type": "stream",
     "name": "stdout",
     "text": [
      "LOSS train 0.2115\n"
     ]
    },
    {
     "output_type": "stream",
     "name": "stderr",
     "text": [
      "Validating: 100%|██████████| 28/28 [00:10<00:00,  2.62it/s]\n"
     ]
    },
    {
     "output_type": "stream",
     "name": "stdout",
     "text": [
      "LOSS valid 0.3228\n",
      "Accuracy valid 0.8740\n",
      "mIoU valid 0.7272\n",
      "IoU per class: Background=0.8339, Bleached=0.6946, Non-bleached=0.6531\n",
      "Custom Score valid 0.7267\n",
      "EPOCH 42/50:\n"
     ]
    },
    {
     "output_type": "stream",
     "name": "stderr",
     "text": [
      "Training: 100%|██████████| 112/112 [00:41<00:00,  2.69it/s]\n"
     ]
    },
    {
     "output_type": "stream",
     "name": "stdout",
     "text": [
      "LOSS train 0.2033\n"
     ]
    },
    {
     "output_type": "stream",
     "name": "stderr",
     "text": [
      "Validating: 100%|██████████| 28/28 [00:10<00:00,  2.74it/s]\n"
     ]
    },
    {
     "output_type": "stream",
     "name": "stdout",
     "text": [
      "LOSS valid 0.2764\n",
      "Accuracy valid 0.8878\n",
      "mIoU valid 0.7392\n",
      "IoU per class: Background=0.8533, Bleached=0.6921, Non-bleached=0.6723\n",
      "Custom Score valid 0.7370\n",
      "EPOCH 43/50:\n"
     ]
    },
    {
     "output_type": "stream",
     "name": "stderr",
     "text": [
      "Training: 100%|██████████| 112/112 [00:40<00:00,  2.78it/s]\n"
     ]
    },
    {
     "output_type": "stream",
     "name": "stdout",
     "text": [
      "LOSS train 0.2090\n"
     ]
    },
    {
     "output_type": "stream",
     "name": "stderr",
     "text": [
      "Validating: 100%|██████████| 28/28 [00:10<00:00,  2.61it/s]\n"
     ]
    },
    {
     "output_type": "stream",
     "name": "stdout",
     "text": [
      "LOSS valid 0.3341\n",
      "Accuracy valid 0.8783\n",
      "mIoU valid 0.7417\n",
      "IoU per class: Background=0.8448, Bleached=0.7174, Non-bleached=0.6629\n",
      "Custom Score valid 0.7401\n",
      "EPOCH 44/50:\n"
     ]
    },
    {
     "output_type": "stream",
     "name": "stderr",
     "text": [
      "Training: 100%|██████████| 112/112 [00:42<00:00,  2.65it/s]\n"
     ]
    },
    {
     "output_type": "stream",
     "name": "stdout",
     "text": [
      "LOSS train 0.2028\n"
     ]
    },
    {
     "output_type": "stream",
     "name": "stderr",
     "text": [
      "Validating: 100%|██████████| 28/28 [00:10<00:00,  2.60it/s]\n"
     ]
    },
    {
     "output_type": "stream",
     "name": "stdout",
     "text": [
      "LOSS valid 0.3247\n",
      "Accuracy valid 0.8790\n",
      "mIoU valid 0.7336\n",
      "IoU per class: Background=0.8449, Bleached=0.7033, Non-bleached=0.6527\n",
      "Custom Score valid 0.7315\n",
      "EPOCH 45/50:\n"
     ]
    },
    {
     "output_type": "stream",
     "name": "stderr",
     "text": [
      "Training: 100%|██████████| 112/112 [00:41<00:00,  2.68it/s]\n"
     ]
    },
    {
     "output_type": "stream",
     "name": "stdout",
     "text": [
      "LOSS train 0.2303\n"
     ]
    },
    {
     "output_type": "stream",
     "name": "stderr",
     "text": [
      "Validating: 100%|██████████| 28/28 [00:10<00:00,  2.57it/s]\n"
     ]
    },
    {
     "output_type": "stream",
     "name": "stdout",
     "text": [
      "LOSS valid 0.3871\n",
      "Accuracy valid 0.8623\n",
      "mIoU valid 0.6938\n",
      "IoU per class: Background=0.8265, Bleached=0.6517, Non-bleached=0.6033\n",
      "Custom Score valid 0.6904\n",
      "EPOCH 46/50:\n"
     ]
    },
    {
     "output_type": "stream",
     "name": "stderr",
     "text": [
      "Training: 100%|██████████| 112/112 [00:41<00:00,  2.70it/s]\n"
     ]
    },
    {
     "output_type": "stream",
     "name": "stdout",
     "text": [
      "LOSS train 0.2512\n"
     ]
    },
    {
     "output_type": "stream",
     "name": "stderr",
     "text": [
      "Validating: 100%|██████████| 28/28 [00:10<00:00,  2.58it/s]\n"
     ]
    },
    {
     "output_type": "stream",
     "name": "stdout",
     "text": [
      "LOSS valid 0.3161\n",
      "Accuracy valid 0.8719\n",
      "mIoU valid 0.7021\n",
      "IoU per class: Background=0.8332, Bleached=0.6443, Non-bleached=0.6289\n",
      "Custom Score valid 0.6994\n",
      "EPOCH 47/50:\n"
     ]
    },
    {
     "output_type": "stream",
     "name": "stderr",
     "text": [
      "Training: 100%|██████████| 112/112 [00:41<00:00,  2.68it/s]\n"
     ]
    },
    {
     "output_type": "stream",
     "name": "stdout",
     "text": [
      "LOSS train 0.2234\n"
     ]
    },
    {
     "output_type": "stream",
     "name": "stderr",
     "text": [
      "Validating: 100%|██████████| 28/28 [00:10<00:00,  2.74it/s]\n"
     ]
    },
    {
     "output_type": "stream",
     "name": "stdout",
     "text": [
      "LOSS valid 0.3134\n",
      "Accuracy valid 0.8818\n",
      "mIoU valid 0.7124\n",
      "IoU per class: Background=0.8403, Bleached=0.6637, Non-bleached=0.6332\n",
      "Custom Score valid 0.7105\n",
      "EPOCH 48/50:\n"
     ]
    },
    {
     "output_type": "stream",
     "name": "stderr",
     "text": [
      "Training: 100%|██████████| 112/112 [00:39<00:00,  2.82it/s]\n"
     ]
    },
    {
     "output_type": "stream",
     "name": "stdout",
     "text": [
      "LOSS train 0.2365\n"
     ]
    },
    {
     "output_type": "stream",
     "name": "stderr",
     "text": [
      "Validating: 100%|██████████| 28/28 [00:10<00:00,  2.66it/s]\n"
     ]
    },
    {
     "output_type": "stream",
     "name": "stdout",
     "text": [
      "LOSS valid 0.3249\n",
      "Accuracy valid 0.8695\n",
      "mIoU valid 0.7132\n",
      "IoU per class: Background=0.8314, Bleached=0.6871, Non-bleached=0.6212\n",
      "Custom Score valid 0.7114\n",
      "EPOCH 49/50:\n"
     ]
    },
    {
     "output_type": "stream",
     "name": "stderr",
     "text": [
      "Training: 100%|██████████| 112/112 [00:44<00:00,  2.53it/s]\n"
     ]
    },
    {
     "output_type": "stream",
     "name": "stdout",
     "text": [
      "LOSS train 0.2189\n"
     ]
    },
    {
     "output_type": "stream",
     "name": "stderr",
     "text": [
      "Validating: 100%|██████████| 28/28 [00:10<00:00,  2.57it/s]\n"
     ]
    },
    {
     "output_type": "stream",
     "name": "stdout",
     "text": [
      "LOSS valid 0.3235\n",
      "Accuracy valid 0.8715\n",
      "mIoU valid 0.7119\n",
      "IoU per class: Background=0.8469, Bleached=0.6707, Non-bleached=0.6181\n",
      "Custom Score valid 0.7060\n",
      "EPOCH 50/50:\n"
     ]
    },
    {
     "output_type": "stream",
     "name": "stderr",
     "text": [
      "Training: 100%|██████████| 112/112 [00:44<00:00,  2.49it/s]\n"
     ]
    },
    {
     "output_type": "stream",
     "name": "stdout",
     "text": [
      "LOSS train 0.2115\n"
     ]
    },
    {
     "output_type": "stream",
     "name": "stderr",
     "text": [
      "Validating: 100%|██████████| 28/28 [00:10<00:00,  2.69it/s]\n"
     ]
    },
    {
     "output_type": "stream",
     "name": "stdout",
     "text": [
      "LOSS valid 0.3245\n",
      "Accuracy valid 0.8720\n",
      "mIoU valid 0.7166\n",
      "IoU per class: Background=0.8390, Bleached=0.6622, Non-bleached=0.6485\n",
      "Custom Score valid 0.7134\n",
      "\n",
      "==================== FOLD 3/5 ====================\n",
      "Warning: Model does not have reset_parameters method. Using current weights.\n",
      "EPOCH 1/50:\n"
     ]
    },
    {
     "output_type": "stream",
     "name": "stderr",
     "text": [
      "Training: 100%|██████████| 112/112 [00:41<00:00,  2.67it/s]\n"
     ]
    },
    {
     "output_type": "stream",
     "name": "stdout",
     "text": [
      "LOSS train 0.2546\n"
     ]
    },
    {
     "output_type": "stream",
     "name": "stderr",
     "text": [
      "Validating: 100%|██████████| 28/28 [00:11<00:00,  2.42it/s]\n"
     ]
    },
    {
     "output_type": "stream",
     "name": "stdout",
     "text": [
      "LOSS valid 0.1801\n",
      "Accuracy valid 0.9243\n",
      "mIoU valid 0.8088\n",
      "IoU per class: Background=0.8951, Bleached=0.7954, Non-bleached=0.7358\n",
      "Custom Score valid 0.8077\n",
      "Saved improved model checkpoint to ./checkpoints_og_reefsupport/model_fold_3_best_score.pth (Custom Score: 0.8077)\n",
      "EPOCH 2/50:\n"
     ]
    },
    {
     "output_type": "stream",
     "name": "stderr",
     "text": [
      "Training: 100%|██████████| 112/112 [00:40<00:00,  2.78it/s]\n"
     ]
    },
    {
     "output_type": "stream",
     "name": "stdout",
     "text": [
      "LOSS train 0.2294\n"
     ]
    },
    {
     "output_type": "stream",
     "name": "stderr",
     "text": [
      "Validating: 100%|██████████| 28/28 [00:10<00:00,  2.73it/s]\n"
     ]
    },
    {
     "output_type": "stream",
     "name": "stdout",
     "text": [
      "LOSS valid 0.1813\n",
      "Accuracy valid 0.9241\n",
      "mIoU valid 0.8106\n",
      "IoU per class: Background=0.8978, Bleached=0.7922, Non-bleached=0.7417\n",
      "Custom Score valid 0.8089\n",
      "Saved improved model checkpoint to ./checkpoints_og_reefsupport/model_fold_3_best_score.pth (Custom Score: 0.8089)\n",
      "EPOCH 3/50:\n"
     ]
    },
    {
     "output_type": "stream",
     "name": "stderr",
     "text": [
      "Training: 100%|██████████| 112/112 [00:43<00:00,  2.60it/s]\n"
     ]
    },
    {
     "output_type": "stream",
     "name": "stdout",
     "text": [
      "LOSS train 0.2354\n"
     ]
    },
    {
     "output_type": "stream",
     "name": "stderr",
     "text": [
      "Validating: 100%|██████████| 28/28 [00:10<00:00,  2.59it/s]\n"
     ]
    },
    {
     "output_type": "stream",
     "name": "stdout",
     "text": [
      "LOSS valid 0.1824\n",
      "Accuracy valid 0.9264\n",
      "mIoU valid 0.8069\n",
      "IoU per class: Background=0.8970, Bleached=0.7997, Non-bleached=0.7241\n",
      "Custom Score valid 0.8056\n",
      "EPOCH 4/50:\n"
     ]
    },
    {
     "output_type": "stream",
     "name": "stderr",
     "text": [
      "Training: 100%|██████████| 112/112 [00:43<00:00,  2.55it/s]\n"
     ]
    },
    {
     "output_type": "stream",
     "name": "stdout",
     "text": [
      "LOSS train 0.2233\n"
     ]
    },
    {
     "output_type": "stream",
     "name": "stderr",
     "text": [
      "Validating: 100%|██████████| 28/28 [00:11<00:00,  2.47it/s]\n"
     ]
    },
    {
     "output_type": "stream",
     "name": "stdout",
     "text": [
      "LOSS valid 0.1796\n",
      "Accuracy valid 0.9260\n",
      "mIoU valid 0.7840\n",
      "IoU per class: Background=0.8935, Bleached=0.7657, Non-bleached=0.6928\n",
      "Custom Score valid 0.7817\n",
      "EPOCH 5/50:\n"
     ]
    },
    {
     "output_type": "stream",
     "name": "stderr",
     "text": [
      "Training: 100%|██████████| 112/112 [00:42<00:00,  2.63it/s]\n"
     ]
    },
    {
     "output_type": "stream",
     "name": "stdout",
     "text": [
      "LOSS train 0.2131\n"
     ]
    },
    {
     "output_type": "stream",
     "name": "stderr",
     "text": [
      "Validating: 100%|██████████| 28/28 [00:10<00:00,  2.65it/s]\n"
     ]
    },
    {
     "output_type": "stream",
     "name": "stdout",
     "text": [
      "LOSS valid 0.1927\n",
      "Accuracy valid 0.9185\n",
      "mIoU valid 0.7697\n",
      "IoU per class: Background=0.8816, Bleached=0.7058, Non-bleached=0.7217\n",
      "Custom Score valid 0.7681\n",
      "EPOCH 6/50:\n"
     ]
    },
    {
     "output_type": "stream",
     "name": "stderr",
     "text": [
      "Training: 100%|██████████| 112/112 [00:41<00:00,  2.69it/s]\n"
     ]
    },
    {
     "output_type": "stream",
     "name": "stdout",
     "text": [
      "LOSS train 0.2282\n"
     ]
    },
    {
     "output_type": "stream",
     "name": "stderr",
     "text": [
      "Validating: 100%|██████████| 28/28 [00:10<00:00,  2.69it/s]\n"
     ]
    },
    {
     "output_type": "stream",
     "name": "stdout",
     "text": [
      "LOSS valid 0.1964\n",
      "Accuracy valid 0.9177\n",
      "mIoU valid 0.8036\n",
      "IoU per class: Background=0.8860, Bleached=0.8025, Non-bleached=0.7222\n",
      "Custom Score valid 0.8033\n",
      "EPOCH 7/50:\n"
     ]
    },
    {
     "output_type": "stream",
     "name": "stderr",
     "text": [
      "Training: 100%|██████████| 112/112 [00:40<00:00,  2.77it/s]\n"
     ]
    },
    {
     "output_type": "stream",
     "name": "stdout",
     "text": [
      "LOSS train 0.2150\n"
     ]
    },
    {
     "output_type": "stream",
     "name": "stderr",
     "text": [
      "Validating: 100%|██████████| 28/28 [00:11<00:00,  2.46it/s]\n"
     ]
    },
    {
     "output_type": "stream",
     "name": "stdout",
     "text": [
      "LOSS valid 0.2120\n",
      "Accuracy valid 0.9201\n",
      "mIoU valid 0.8070\n",
      "IoU per class: Background=0.8879, Bleached=0.8100, Non-bleached=0.7231\n",
      "Custom Score valid 0.8070\n",
      "EPOCH 8/50:\n"
     ]
    },
    {
     "output_type": "stream",
     "name": "stderr",
     "text": [
      "Training: 100%|██████████| 112/112 [00:40<00:00,  2.73it/s]\n"
     ]
    },
    {
     "output_type": "stream",
     "name": "stdout",
     "text": [
      "LOSS train 0.2250\n"
     ]
    },
    {
     "output_type": "stream",
     "name": "stderr",
     "text": [
      "Validating: 100%|██████████| 28/28 [00:11<00:00,  2.48it/s]\n"
     ]
    },
    {
     "output_type": "stream",
     "name": "stdout",
     "text": [
      "LOSS valid 0.1932\n",
      "Accuracy valid 0.9210\n",
      "mIoU valid 0.8156\n",
      "IoU per class: Background=0.8849, Bleached=0.8400, Non-bleached=0.7220\n",
      "Custom Score valid 0.8173\n",
      "Saved improved model checkpoint to ./checkpoints_og_reefsupport/model_fold_3_best_score.pth (Custom Score: 0.8173)\n",
      "EPOCH 9/50:\n"
     ]
    },
    {
     "output_type": "stream",
     "name": "stderr",
     "text": [
      "Training: 100%|██████████| 112/112 [00:42<00:00,  2.65it/s]\n"
     ]
    },
    {
     "output_type": "stream",
     "name": "stdout",
     "text": [
      "LOSS train 0.2063\n"
     ]
    },
    {
     "output_type": "stream",
     "name": "stderr",
     "text": [
      "Validating: 100%|██████████| 28/28 [00:10<00:00,  2.71it/s]\n"
     ]
    },
    {
     "output_type": "stream",
     "name": "stdout",
     "text": [
      "LOSS valid 0.2125\n",
      "Accuracy valid 0.9122\n",
      "mIoU valid 0.7913\n",
      "IoU per class: Background=0.8898, Bleached=0.7626, Non-bleached=0.7215\n",
      "Custom Score valid 0.7879\n",
      "EPOCH 10/50:\n"
     ]
    },
    {
     "output_type": "stream",
     "name": "stderr",
     "text": [
      "Training: 100%|██████████| 112/112 [00:40<00:00,  2.76it/s]\n"
     ]
    },
    {
     "output_type": "stream",
     "name": "stdout",
     "text": [
      "LOSS train 0.2089\n"
     ]
    },
    {
     "output_type": "stream",
     "name": "stderr",
     "text": [
      "Validating: 100%|██████████| 28/28 [00:10<00:00,  2.75it/s]\n"
     ]
    },
    {
     "output_type": "stream",
     "name": "stdout",
     "text": [
      "LOSS valid 0.1881\n",
      "Accuracy valid 0.9231\n",
      "mIoU valid 0.7669\n",
      "IoU per class: Background=0.8949, Bleached=0.6894, Non-bleached=0.7163\n",
      "Custom Score valid 0.7623\n",
      "EPOCH 11/50:\n"
     ]
    },
    {
     "output_type": "stream",
     "name": "stderr",
     "text": [
      "Training: 100%|██████████| 112/112 [00:39<00:00,  2.81it/s]\n"
     ]
    },
    {
     "output_type": "stream",
     "name": "stdout",
     "text": [
      "LOSS train 0.2066\n"
     ]
    },
    {
     "output_type": "stream",
     "name": "stderr",
     "text": [
      "Validating: 100%|██████████| 28/28 [00:10<00:00,  2.61it/s]\n"
     ]
    },
    {
     "output_type": "stream",
     "name": "stdout",
     "text": [
      "LOSS valid 0.1796\n",
      "Accuracy valid 0.9277\n",
      "mIoU valid 0.7994\n",
      "IoU per class: Background=0.9036, Bleached=0.7666, Non-bleached=0.7279\n",
      "Custom Score valid 0.7959\n",
      "EPOCH 12/50:\n"
     ]
    },
    {
     "output_type": "stream",
     "name": "stderr",
     "text": [
      "Training: 100%|██████████| 112/112 [00:41<00:00,  2.72it/s]\n"
     ]
    },
    {
     "output_type": "stream",
     "name": "stdout",
     "text": [
      "LOSS train 0.2030\n"
     ]
    },
    {
     "output_type": "stream",
     "name": "stderr",
     "text": [
      "Validating: 100%|██████████| 28/28 [00:10<00:00,  2.60it/s]\n"
     ]
    },
    {
     "output_type": "stream",
     "name": "stdout",
     "text": [
      "LOSS valid 0.1904\n",
      "Accuracy valid 0.9228\n",
      "mIoU valid 0.8129\n",
      "IoU per class: Background=0.8942, Bleached=0.8043, Non-bleached=0.7402\n",
      "Custom Score valid 0.8121\n",
      "EPOCH 13/50:\n"
     ]
    },
    {
     "output_type": "stream",
     "name": "stderr",
     "text": [
      "Training: 100%|██████████| 112/112 [00:41<00:00,  2.68it/s]\n"
     ]
    },
    {
     "output_type": "stream",
     "name": "stdout",
     "text": [
      "LOSS train 0.2055\n"
     ]
    },
    {
     "output_type": "stream",
     "name": "stderr",
     "text": [
      "Validating: 100%|██████████| 28/28 [00:10<00:00,  2.69it/s]\n"
     ]
    },
    {
     "output_type": "stream",
     "name": "stdout",
     "text": [
      "LOSS valid 0.2072\n",
      "Accuracy valid 0.9174\n",
      "mIoU valid 0.7894\n",
      "IoU per class: Background=0.8887, Bleached=0.7622, Non-bleached=0.7172\n",
      "Custom Score valid 0.7872\n",
      "EPOCH 14/50:\n"
     ]
    },
    {
     "output_type": "stream",
     "name": "stderr",
     "text": [
      "Training: 100%|██████████| 112/112 [00:40<00:00,  2.73it/s]\n"
     ]
    },
    {
     "output_type": "stream",
     "name": "stdout",
     "text": [
      "LOSS train 0.2094\n"
     ]
    },
    {
     "output_type": "stream",
     "name": "stderr",
     "text": [
      "Validating: 100%|██████████| 28/28 [00:10<00:00,  2.67it/s]\n"
     ]
    },
    {
     "output_type": "stream",
     "name": "stdout",
     "text": [
      "LOSS valid 0.1833\n",
      "Accuracy valid 0.9236\n",
      "mIoU valid 0.8012\n",
      "IoU per class: Background=0.8983, Bleached=0.7648, Non-bleached=0.7403\n",
      "Custom Score valid 0.7984\n",
      "EPOCH 15/50:\n"
     ]
    },
    {
     "output_type": "stream",
     "name": "stderr",
     "text": [
      "Training: 100%|██████████| 112/112 [00:39<00:00,  2.81it/s]\n"
     ]
    },
    {
     "output_type": "stream",
     "name": "stdout",
     "text": [
      "LOSS train 0.2064\n"
     ]
    },
    {
     "output_type": "stream",
     "name": "stderr",
     "text": [
      "Validating: 100%|██████████| 28/28 [00:10<00:00,  2.56it/s]\n"
     ]
    },
    {
     "output_type": "stream",
     "name": "stdout",
     "text": [
      "LOSS valid 0.1967\n",
      "Accuracy valid 0.9189\n",
      "mIoU valid 0.7711\n",
      "IoU per class: Background=0.8806, Bleached=0.7215, Non-bleached=0.7113\n",
      "Custom Score valid 0.7700\n",
      "EPOCH 16/50:\n"
     ]
    },
    {
     "output_type": "stream",
     "name": "stderr",
     "text": [
      "Training: 100%|██████████| 112/112 [00:40<00:00,  2.79it/s]\n"
     ]
    },
    {
     "output_type": "stream",
     "name": "stdout",
     "text": [
      "LOSS train 0.2472\n"
     ]
    },
    {
     "output_type": "stream",
     "name": "stderr",
     "text": [
      "Validating: 100%|██████████| 28/28 [00:10<00:00,  2.69it/s]\n"
     ]
    },
    {
     "output_type": "stream",
     "name": "stdout",
     "text": [
      "LOSS valid 0.2440\n",
      "Accuracy valid 0.9008\n",
      "mIoU valid 0.7608\n",
      "IoU per class: Background=0.8686, Bleached=0.7457, Non-bleached=0.6682\n",
      "Custom Score valid 0.7586\n",
      "EPOCH 17/50:\n"
     ]
    },
    {
     "output_type": "stream",
     "name": "stderr",
     "text": [
      "Training: 100%|██████████| 112/112 [00:41<00:00,  2.72it/s]\n"
     ]
    },
    {
     "output_type": "stream",
     "name": "stdout",
     "text": [
      "LOSS train 0.2206\n"
     ]
    },
    {
     "output_type": "stream",
     "name": "stderr",
     "text": [
      "Validating: 100%|██████████| 28/28 [00:10<00:00,  2.63it/s]\n"
     ]
    },
    {
     "output_type": "stream",
     "name": "stdout",
     "text": [
      "LOSS valid 0.2176\n",
      "Accuracy valid 0.9107\n",
      "mIoU valid 0.7694\n",
      "IoU per class: Background=0.8781, Bleached=0.7438, Non-bleached=0.6862\n",
      "Custom Score valid 0.7672\n",
      "EPOCH 18/50:\n"
     ]
    },
    {
     "output_type": "stream",
     "name": "stderr",
     "text": [
      "Training: 100%|██████████| 112/112 [00:42<00:00,  2.64it/s]\n"
     ]
    },
    {
     "output_type": "stream",
     "name": "stdout",
     "text": [
      "LOSS train 0.2278\n"
     ]
    },
    {
     "output_type": "stream",
     "name": "stderr",
     "text": [
      "Validating: 100%|██████████| 28/28 [00:10<00:00,  2.75it/s]\n"
     ]
    },
    {
     "output_type": "stream",
     "name": "stdout",
     "text": [
      "LOSS valid 0.2241\n",
      "Accuracy valid 0.9091\n",
      "mIoU valid 0.7555\n",
      "IoU per class: Background=0.8732, Bleached=0.6949, Non-bleached=0.6984\n",
      "Custom Score valid 0.7533\n",
      "EPOCH 19/50:\n"
     ]
    },
    {
     "output_type": "stream",
     "name": "stderr",
     "text": [
      "Training: 100%|██████████| 112/112 [00:39<00:00,  2.83it/s]\n"
     ]
    },
    {
     "output_type": "stream",
     "name": "stdout",
     "text": [
      "LOSS train 0.2209\n"
     ]
    },
    {
     "output_type": "stream",
     "name": "stderr",
     "text": [
      "Validating: 100%|██████████| 28/28 [00:10<00:00,  2.59it/s]\n"
     ]
    },
    {
     "output_type": "stream",
     "name": "stdout",
     "text": [
      "LOSS valid 0.2498\n",
      "Accuracy valid 0.8996\n",
      "mIoU valid 0.7502\n",
      "IoU per class: Background=0.8662, Bleached=0.7271, Non-bleached=0.6574\n",
      "Custom Score valid 0.7476\n",
      "EPOCH 20/50:\n"
     ]
    },
    {
     "output_type": "stream",
     "name": "stderr",
     "text": [
      "Training: 100%|██████████| 112/112 [00:41<00:00,  2.70it/s]\n"
     ]
    },
    {
     "output_type": "stream",
     "name": "stdout",
     "text": [
      "LOSS train 0.2280\n"
     ]
    },
    {
     "output_type": "stream",
     "name": "stderr",
     "text": [
      "Validating: 100%|██████████| 28/28 [00:10<00:00,  2.62it/s]\n"
     ]
    },
    {
     "output_type": "stream",
     "name": "stdout",
     "text": [
      "LOSS valid 0.2251\n",
      "Accuracy valid 0.9118\n",
      "mIoU valid 0.7803\n",
      "IoU per class: Background=0.8821, Bleached=0.7895, Non-bleached=0.6692\n",
      "Custom Score valid 0.7781\n",
      "EPOCH 21/50:\n"
     ]
    },
    {
     "output_type": "stream",
     "name": "stderr",
     "text": [
      "Training: 100%|██████████| 112/112 [00:40<00:00,  2.77it/s]\n"
     ]
    },
    {
     "output_type": "stream",
     "name": "stdout",
     "text": [
      "LOSS train 0.1987\n"
     ]
    },
    {
     "output_type": "stream",
     "name": "stderr",
     "text": [
      "Validating: 100%|██████████| 28/28 [00:11<00:00,  2.54it/s]\n"
     ]
    },
    {
     "output_type": "stream",
     "name": "stdout",
     "text": [
      "LOSS valid 0.1991\n",
      "Accuracy valid 0.9180\n",
      "mIoU valid 0.7770\n",
      "IoU per class: Background=0.8903, Bleached=0.7199, Non-bleached=0.7207\n",
      "Custom Score valid 0.7734\n",
      "EPOCH 22/50:\n"
     ]
    },
    {
     "output_type": "stream",
     "name": "stderr",
     "text": [
      "Training: 100%|██████████| 112/112 [00:39<00:00,  2.81it/s]\n"
     ]
    },
    {
     "output_type": "stream",
     "name": "stdout",
     "text": [
      "LOSS train 0.2090\n"
     ]
    },
    {
     "output_type": "stream",
     "name": "stderr",
     "text": [
      "Validating: 100%|██████████| 28/28 [00:10<00:00,  2.60it/s]\n"
     ]
    },
    {
     "output_type": "stream",
     "name": "stdout",
     "text": [
      "LOSS valid 0.1971\n",
      "Accuracy valid 0.9211\n",
      "mIoU valid 0.7965\n",
      "IoU per class: Background=0.8869, Bleached=0.7835, Non-bleached=0.7191\n",
      "Custom Score valid 0.7961\n",
      "EPOCH 23/50:\n"
     ]
    },
    {
     "output_type": "stream",
     "name": "stderr",
     "text": [
      "Training: 100%|██████████| 112/112 [00:39<00:00,  2.82it/s]\n"
     ]
    },
    {
     "output_type": "stream",
     "name": "stdout",
     "text": [
      "LOSS train 0.2061\n"
     ]
    },
    {
     "output_type": "stream",
     "name": "stderr",
     "text": [
      "Validating: 100%|██████████| 28/28 [00:10<00:00,  2.77it/s]\n"
     ]
    },
    {
     "output_type": "stream",
     "name": "stdout",
     "text": [
      "LOSS valid 0.2211\n",
      "Accuracy valid 0.9080\n",
      "mIoU valid 0.7670\n",
      "IoU per class: Background=0.8696, Bleached=0.7421, Non-bleached=0.6894\n",
      "Custom Score valid 0.7665\n",
      "EPOCH 24/50:\n"
     ]
    },
    {
     "output_type": "stream",
     "name": "stderr",
     "text": [
      "Training: 100%|██████████| 112/112 [00:41<00:00,  2.69it/s]\n"
     ]
    },
    {
     "output_type": "stream",
     "name": "stdout",
     "text": [
      "LOSS train 0.2033\n"
     ]
    },
    {
     "output_type": "stream",
     "name": "stderr",
     "text": [
      "Validating: 100%|██████████| 28/28 [00:10<00:00,  2.59it/s]\n"
     ]
    },
    {
     "output_type": "stream",
     "name": "stdout",
     "text": [
      "LOSS valid 0.1963\n",
      "Accuracy valid 0.9174\n",
      "mIoU valid 0.7935\n",
      "IoU per class: Background=0.8914, Bleached=0.7512, Non-bleached=0.7378\n",
      "Custom Score valid 0.7909\n",
      "EPOCH 25/50:\n"
     ]
    },
    {
     "output_type": "stream",
     "name": "stderr",
     "text": [
      "Training: 100%|██████████| 112/112 [00:40<00:00,  2.76it/s]\n"
     ]
    },
    {
     "output_type": "stream",
     "name": "stdout",
     "text": [
      "LOSS train 0.1989\n"
     ]
    },
    {
     "output_type": "stream",
     "name": "stderr",
     "text": [
      "Validating: 100%|██████████| 28/28 [00:10<00:00,  2.61it/s]\n"
     ]
    },
    {
     "output_type": "stream",
     "name": "stdout",
     "text": [
      "LOSS valid 0.2039\n",
      "Accuracy valid 0.9159\n",
      "mIoU valid 0.8017\n",
      "IoU per class: Background=0.8922, Bleached=0.7864, Non-bleached=0.7265\n",
      "Custom Score valid 0.7992\n",
      "EPOCH 26/50:\n"
     ]
    },
    {
     "output_type": "stream",
     "name": "stderr",
     "text": [
      "Training: 100%|██████████| 112/112 [00:40<00:00,  2.79it/s]\n"
     ]
    },
    {
     "output_type": "stream",
     "name": "stdout",
     "text": [
      "LOSS train 0.2044\n"
     ]
    },
    {
     "output_type": "stream",
     "name": "stderr",
     "text": [
      "Validating: 100%|██████████| 28/28 [00:10<00:00,  2.66it/s]\n"
     ]
    },
    {
     "output_type": "stream",
     "name": "stdout",
     "text": [
      "LOSS valid 0.1975\n",
      "Accuracy valid 0.9187\n",
      "mIoU valid 0.7951\n",
      "IoU per class: Background=0.8845, Bleached=0.7868, Non-bleached=0.7140\n",
      "Custom Score valid 0.7948\n",
      "EPOCH 27/50:\n"
     ]
    },
    {
     "output_type": "stream",
     "name": "stderr",
     "text": [
      "Training: 100%|██████████| 112/112 [00:40<00:00,  2.76it/s]\n"
     ]
    },
    {
     "output_type": "stream",
     "name": "stdout",
     "text": [
      "LOSS train 0.1921\n"
     ]
    },
    {
     "output_type": "stream",
     "name": "stderr",
     "text": [
      "Validating: 100%|██████████| 28/28 [00:10<00:00,  2.65it/s]\n"
     ]
    },
    {
     "output_type": "stream",
     "name": "stdout",
     "text": [
      "LOSS valid 0.1941\n",
      "Accuracy valid 0.9189\n",
      "mIoU valid 0.7872\n",
      "IoU per class: Background=0.8866, Bleached=0.7622, Non-bleached=0.7127\n",
      "Custom Score valid 0.7857\n",
      "EPOCH 28/50:\n"
     ]
    },
    {
     "output_type": "stream",
     "name": "stderr",
     "text": [
      "Training: 100%|██████████| 112/112 [00:42<00:00,  2.66it/s]\n"
     ]
    },
    {
     "output_type": "stream",
     "name": "stdout",
     "text": [
      "LOSS train 0.1919\n"
     ]
    },
    {
     "output_type": "stream",
     "name": "stderr",
     "text": [
      "Validating: 100%|██████████| 28/28 [00:10<00:00,  2.68it/s]\n"
     ]
    },
    {
     "output_type": "stream",
     "name": "stdout",
     "text": [
      "LOSS valid 0.2098\n",
      "Accuracy valid 0.9152\n",
      "mIoU valid 0.7788\n",
      "IoU per class: Background=0.8788, Bleached=0.7498, Non-bleached=0.7079\n",
      "Custom Score valid 0.7781\n",
      "EPOCH 29/50:\n"
     ]
    },
    {
     "output_type": "stream",
     "name": "stderr",
     "text": [
      "Training: 100%|██████████| 112/112 [00:41<00:00,  2.69it/s]\n"
     ]
    },
    {
     "output_type": "stream",
     "name": "stdout",
     "text": [
      "LOSS train 0.1892\n"
     ]
    },
    {
     "output_type": "stream",
     "name": "stderr",
     "text": [
      "Validating: 100%|██████████| 28/28 [00:10<00:00,  2.72it/s]\n"
     ]
    },
    {
     "output_type": "stream",
     "name": "stdout",
     "text": [
      "LOSS valid 0.2173\n",
      "Accuracy valid 0.9128\n",
      "mIoU valid 0.7825\n",
      "IoU per class: Background=0.8782, Bleached=0.7732, Non-bleached=0.6961\n",
      "Custom Score valid 0.7818\n",
      "EPOCH 30/50:\n"
     ]
    },
    {
     "output_type": "stream",
     "name": "stderr",
     "text": [
      "Training: 100%|██████████| 112/112 [00:39<00:00,  2.85it/s]\n"
     ]
    },
    {
     "output_type": "stream",
     "name": "stdout",
     "text": [
      "LOSS train 0.1953\n"
     ]
    },
    {
     "output_type": "stream",
     "name": "stderr",
     "text": [
      "Validating: 100%|██████████| 28/28 [00:10<00:00,  2.62it/s]\n"
     ]
    },
    {
     "output_type": "stream",
     "name": "stdout",
     "text": [
      "LOSS valid 0.2080\n",
      "Accuracy valid 0.9139\n",
      "mIoU valid 0.7831\n",
      "IoU per class: Background=0.8837, Bleached=0.7553, Non-bleached=0.7102\n",
      "Custom Score valid 0.7811\n",
      "EPOCH 31/50:\n"
     ]
    },
    {
     "output_type": "stream",
     "name": "stderr",
     "text": [
      "Training: 100%|██████████| 112/112 [00:41<00:00,  2.69it/s]\n"
     ]
    },
    {
     "output_type": "stream",
     "name": "stdout",
     "text": [
      "LOSS train 0.2242\n"
     ]
    },
    {
     "output_type": "stream",
     "name": "stderr",
     "text": [
      "Validating: 100%|██████████| 28/28 [00:10<00:00,  2.64it/s]\n"
     ]
    },
    {
     "output_type": "stream",
     "name": "stdout",
     "text": [
      "LOSS valid 0.2743\n",
      "Accuracy valid 0.8857\n",
      "mIoU valid 0.7389\n",
      "IoU per class: Background=0.8509, Bleached=0.7574, Non-bleached=0.6084\n",
      "Custom Score valid 0.7369\n",
      "EPOCH 32/50:\n"
     ]
    },
    {
     "output_type": "stream",
     "name": "stderr",
     "text": [
      "Training: 100%|██████████| 112/112 [00:39<00:00,  2.81it/s]\n"
     ]
    },
    {
     "output_type": "stream",
     "name": "stdout",
     "text": [
      "LOSS train 0.2090\n"
     ]
    },
    {
     "output_type": "stream",
     "name": "stderr",
     "text": [
      "Validating: 100%|██████████| 28/28 [00:10<00:00,  2.76it/s]\n"
     ]
    },
    {
     "output_type": "stream",
     "name": "stdout",
     "text": [
      "LOSS valid 0.2770\n",
      "Accuracy valid 0.8897\n",
      "mIoU valid 0.7569\n",
      "IoU per class: Background=0.8627, Bleached=0.7805, Non-bleached=0.6276\n",
      "Custom Score valid 0.7539\n",
      "EPOCH 33/50:\n"
     ]
    },
    {
     "output_type": "stream",
     "name": "stderr",
     "text": [
      "Training: 100%|██████████| 112/112 [00:40<00:00,  2.78it/s]\n"
     ]
    },
    {
     "output_type": "stream",
     "name": "stdout",
     "text": [
      "LOSS train 0.2399\n"
     ]
    },
    {
     "output_type": "stream",
     "name": "stderr",
     "text": [
      "Validating: 100%|██████████| 28/28 [00:10<00:00,  2.57it/s]\n"
     ]
    },
    {
     "output_type": "stream",
     "name": "stdout",
     "text": [
      "LOSS valid 0.2276\n",
      "Accuracy valid 0.9065\n",
      "mIoU valid 0.7606\n",
      "IoU per class: Background=0.8756, Bleached=0.7208, Non-bleached=0.6853\n",
      "Custom Score valid 0.7576\n",
      "EPOCH 34/50:\n"
     ]
    },
    {
     "output_type": "stream",
     "name": "stderr",
     "text": [
      "Training: 100%|██████████| 112/112 [00:42<00:00,  2.66it/s]\n"
     ]
    },
    {
     "output_type": "stream",
     "name": "stdout",
     "text": [
      "LOSS train 0.1967\n"
     ]
    },
    {
     "output_type": "stream",
     "name": "stderr",
     "text": [
      "Validating: 100%|██████████| 28/28 [00:10<00:00,  2.60it/s]\n"
     ]
    },
    {
     "output_type": "stream",
     "name": "stdout",
     "text": [
      "LOSS valid 0.2095\n",
      "Accuracy valid 0.9172\n",
      "mIoU valid 0.7899\n",
      "IoU per class: Background=0.8879, Bleached=0.7618, Non-bleached=0.7199\n",
      "Custom Score valid 0.7879\n",
      "EPOCH 35/50:\n"
     ]
    },
    {
     "output_type": "stream",
     "name": "stderr",
     "text": [
      "Training: 100%|██████████| 112/112 [00:40<00:00,  2.79it/s]\n"
     ]
    },
    {
     "output_type": "stream",
     "name": "stdout",
     "text": [
      "LOSS train 0.1953\n"
     ]
    },
    {
     "output_type": "stream",
     "name": "stderr",
     "text": [
      "Validating: 100%|██████████| 28/28 [00:10<00:00,  2.62it/s]\n"
     ]
    },
    {
     "output_type": "stream",
     "name": "stdout",
     "text": [
      "LOSS valid 0.2160\n",
      "Accuracy valid 0.9102\n",
      "mIoU valid 0.7705\n",
      "IoU per class: Background=0.8730, Bleached=0.7519, Non-bleached=0.6867\n",
      "Custom Score valid 0.7698\n",
      "EPOCH 36/50:\n"
     ]
    },
    {
     "output_type": "stream",
     "name": "stderr",
     "text": [
      "Training: 100%|██████████| 112/112 [00:41<00:00,  2.70it/s]\n"
     ]
    },
    {
     "output_type": "stream",
     "name": "stdout",
     "text": [
      "LOSS train 0.2021\n"
     ]
    },
    {
     "output_type": "stream",
     "name": "stderr",
     "text": [
      "Validating: 100%|██████████| 28/28 [00:10<00:00,  2.67it/s]\n"
     ]
    },
    {
     "output_type": "stream",
     "name": "stdout",
     "text": [
      "LOSS valid 0.2146\n",
      "Accuracy valid 0.9120\n",
      "mIoU valid 0.7898\n",
      "IoU per class: Background=0.8773, Bleached=0.7674, Non-bleached=0.7247\n",
      "Custom Score valid 0.7897\n",
      "EPOCH 37/50:\n"
     ]
    },
    {
     "output_type": "stream",
     "name": "stderr",
     "text": [
      "Training: 100%|██████████| 112/112 [00:42<00:00,  2.63it/s]\n"
     ]
    },
    {
     "output_type": "stream",
     "name": "stdout",
     "text": [
      "LOSS train 0.1935\n"
     ]
    },
    {
     "output_type": "stream",
     "name": "stderr",
     "text": [
      "Validating: 100%|██████████| 28/28 [00:10<00:00,  2.75it/s]\n"
     ]
    },
    {
     "output_type": "stream",
     "name": "stdout",
     "text": [
      "LOSS valid 0.2072\n",
      "Accuracy valid 0.9152\n",
      "mIoU valid 0.7767\n",
      "IoU per class: Background=0.8825, Bleached=0.7323, Non-bleached=0.7154\n",
      "Custom Score valid 0.7748\n",
      "EPOCH 38/50:\n"
     ]
    },
    {
     "output_type": "stream",
     "name": "stderr",
     "text": [
      "Training: 100%|██████████| 112/112 [00:39<00:00,  2.83it/s]\n"
     ]
    },
    {
     "output_type": "stream",
     "name": "stdout",
     "text": [
      "LOSS train 0.1866\n"
     ]
    },
    {
     "output_type": "stream",
     "name": "stderr",
     "text": [
      "Validating: 100%|██████████| 28/28 [00:10<00:00,  2.66it/s]\n"
     ]
    },
    {
     "output_type": "stream",
     "name": "stdout",
     "text": [
      "LOSS valid 0.2084\n",
      "Accuracy valid 0.9143\n",
      "mIoU valid 0.7772\n",
      "IoU per class: Background=0.8847, Bleached=0.7302, Non-bleached=0.7166\n",
      "Custom Score valid 0.7745\n",
      "EPOCH 39/50:\n"
     ]
    },
    {
     "output_type": "stream",
     "name": "stderr",
     "text": [
      "Training: 100%|██████████| 112/112 [00:40<00:00,  2.74it/s]\n"
     ]
    },
    {
     "output_type": "stream",
     "name": "stdout",
     "text": [
      "LOSS train 0.1873\n"
     ]
    },
    {
     "output_type": "stream",
     "name": "stderr",
     "text": [
      "Validating: 100%|██████████| 28/28 [00:10<00:00,  2.63it/s]\n"
     ]
    },
    {
     "output_type": "stream",
     "name": "stdout",
     "text": [
      "LOSS valid 0.2148\n",
      "Accuracy valid 0.9100\n",
      "mIoU valid 0.7791\n",
      "IoU per class: Background=0.8781, Bleached=0.7630, Non-bleached=0.6962\n",
      "Custom Score valid 0.7776\n",
      "EPOCH 40/50:\n"
     ]
    },
    {
     "output_type": "stream",
     "name": "stderr",
     "text": [
      "Training: 100%|██████████| 112/112 [00:40<00:00,  2.79it/s]\n"
     ]
    },
    {
     "output_type": "stream",
     "name": "stdout",
     "text": [
      "LOSS train 0.1902\n"
     ]
    },
    {
     "output_type": "stream",
     "name": "stderr",
     "text": [
      "Validating: 100%|██████████| 28/28 [00:10<00:00,  2.69it/s]\n"
     ]
    },
    {
     "output_type": "stream",
     "name": "stdout",
     "text": [
      "LOSS valid 0.2061\n",
      "Accuracy valid 0.9176\n",
      "mIoU valid 0.7774\n",
      "IoU per class: Background=0.8881, Bleached=0.7576, Non-bleached=0.6864\n",
      "Custom Score valid 0.7744\n",
      "EPOCH 41/50:\n"
     ]
    },
    {
     "output_type": "stream",
     "name": "stderr",
     "text": [
      "Training: 100%|██████████| 112/112 [00:40<00:00,  2.74it/s]\n"
     ]
    },
    {
     "output_type": "stream",
     "name": "stdout",
     "text": [
      "LOSS train 0.1855\n"
     ]
    },
    {
     "output_type": "stream",
     "name": "stderr",
     "text": [
      "Validating: 100%|██████████| 28/28 [00:10<00:00,  2.73it/s]\n"
     ]
    },
    {
     "output_type": "stream",
     "name": "stdout",
     "text": [
      "LOSS valid 0.2064\n",
      "Accuracy valid 0.9139\n",
      "mIoU valid 0.7826\n",
      "IoU per class: Background=0.8837, Bleached=0.7603, Non-bleached=0.7038\n",
      "Custom Score valid 0.7805\n",
      "EPOCH 42/50:\n"
     ]
    },
    {
     "output_type": "stream",
     "name": "stderr",
     "text": [
      "Training: 100%|██████████| 112/112 [00:39<00:00,  2.80it/s]\n"
     ]
    },
    {
     "output_type": "stream",
     "name": "stdout",
     "text": [
      "LOSS train 0.1936\n"
     ]
    },
    {
     "output_type": "stream",
     "name": "stderr",
     "text": [
      "Validating: 100%|██████████| 28/28 [00:10<00:00,  2.69it/s]\n"
     ]
    },
    {
     "output_type": "stream",
     "name": "stdout",
     "text": [
      "LOSS valid 0.2199\n",
      "Accuracy valid 0.9088\n",
      "mIoU valid 0.7722\n",
      "IoU per class: Background=0.8751, Bleached=0.7364, Non-bleached=0.7050\n",
      "Custom Score valid 0.7707\n",
      "EPOCH 43/50:\n"
     ]
    },
    {
     "output_type": "stream",
     "name": "stderr",
     "text": [
      "Training: 100%|██████████| 112/112 [00:38<00:00,  2.88it/s]\n"
     ]
    },
    {
     "output_type": "stream",
     "name": "stdout",
     "text": [
      "LOSS train 0.1856\n"
     ]
    },
    {
     "output_type": "stream",
     "name": "stderr",
     "text": [
      "Validating: 100%|██████████| 28/28 [00:10<00:00,  2.57it/s]\n"
     ]
    },
    {
     "output_type": "stream",
     "name": "stdout",
     "text": [
      "LOSS valid 0.2380\n",
      "Accuracy valid 0.9010\n",
      "mIoU valid 0.7532\n",
      "IoU per class: Background=0.8709, Bleached=0.6981, Non-bleached=0.6904\n",
      "Custom Score valid 0.7498\n",
      "EPOCH 44/50:\n"
     ]
    },
    {
     "output_type": "stream",
     "name": "stderr",
     "text": [
      "Training: 100%|██████████| 112/112 [00:40<00:00,  2.75it/s]\n"
     ]
    },
    {
     "output_type": "stream",
     "name": "stdout",
     "text": [
      "LOSS train 0.1900\n"
     ]
    },
    {
     "output_type": "stream",
     "name": "stderr",
     "text": [
      "Validating: 100%|██████████| 28/28 [00:10<00:00,  2.64it/s]\n"
     ]
    },
    {
     "output_type": "stream",
     "name": "stdout",
     "text": [
      "LOSS valid 0.2376\n",
      "Accuracy valid 0.9059\n",
      "mIoU valid 0.7634\n",
      "IoU per class: Background=0.8733, Bleached=0.7504, Non-bleached=0.6665\n",
      "Custom Score valid 0.7611\n",
      "EPOCH 45/50:\n"
     ]
    },
    {
     "output_type": "stream",
     "name": "stderr",
     "text": [
      "Training: 100%|██████████| 112/112 [00:38<00:00,  2.87it/s]\n"
     ]
    },
    {
     "output_type": "stream",
     "name": "stdout",
     "text": [
      "LOSS train 0.1928\n"
     ]
    },
    {
     "output_type": "stream",
     "name": "stderr",
     "text": [
      "Validating: 100%|██████████| 28/28 [00:10<00:00,  2.75it/s]\n"
     ]
    },
    {
     "output_type": "stream",
     "name": "stdout",
     "text": [
      "LOSS valid 0.2332\n",
      "Accuracy valid 0.9003\n",
      "mIoU valid 0.7601\n",
      "IoU per class: Background=0.8682, Bleached=0.7344, Non-bleached=0.6779\n",
      "Custom Score valid 0.7579\n",
      "EPOCH 46/50:\n"
     ]
    },
    {
     "output_type": "stream",
     "name": "stderr",
     "text": [
      "Training: 100%|██████████| 112/112 [00:40<00:00,  2.78it/s]\n"
     ]
    },
    {
     "output_type": "stream",
     "name": "stdout",
     "text": [
      "LOSS train 0.1825\n"
     ]
    },
    {
     "output_type": "stream",
     "name": "stderr",
     "text": [
      "Validating: 100%|██████████| 28/28 [00:10<00:00,  2.63it/s]\n"
     ]
    },
    {
     "output_type": "stream",
     "name": "stdout",
     "text": [
      "LOSS valid 0.2169\n",
      "Accuracy valid 0.9104\n",
      "mIoU valid 0.7784\n",
      "IoU per class: Background=0.8832, Bleached=0.7284, Non-bleached=0.7237\n",
      "Custom Score valid 0.7755\n",
      "EPOCH 47/50:\n"
     ]
    },
    {
     "output_type": "stream",
     "name": "stderr",
     "text": [
      "Training: 100%|██████████| 112/112 [00:41<00:00,  2.68it/s]\n"
     ]
    },
    {
     "output_type": "stream",
     "name": "stdout",
     "text": [
      "LOSS train 0.1911\n"
     ]
    },
    {
     "output_type": "stream",
     "name": "stderr",
     "text": [
      "Validating: 100%|██████████| 28/28 [00:10<00:00,  2.64it/s]\n"
     ]
    },
    {
     "output_type": "stream",
     "name": "stdout",
     "text": [
      "LOSS valid 0.2226\n",
      "Accuracy valid 0.9088\n",
      "mIoU valid 0.7567\n",
      "IoU per class: Background=0.8861, Bleached=0.7096, Non-bleached=0.6745\n",
      "Custom Score valid 0.7509\n",
      "EPOCH 48/50:\n"
     ]
    },
    {
     "output_type": "stream",
     "name": "stderr",
     "text": [
      "Training: 100%|██████████| 112/112 [00:40<00:00,  2.77it/s]\n"
     ]
    },
    {
     "output_type": "stream",
     "name": "stdout",
     "text": [
      "LOSS train 0.1860\n"
     ]
    },
    {
     "output_type": "stream",
     "name": "stderr",
     "text": [
      "Validating: 100%|██████████| 28/28 [00:10<00:00,  2.60it/s]\n"
     ]
    },
    {
     "output_type": "stream",
     "name": "stdout",
     "text": [
      "LOSS valid 0.2323\n",
      "Accuracy valid 0.9060\n",
      "mIoU valid 0.7753\n",
      "IoU per class: Background=0.8809, Bleached=0.7285, Non-bleached=0.7164\n",
      "Custom Score valid 0.7718\n",
      "EPOCH 49/50:\n"
     ]
    },
    {
     "output_type": "stream",
     "name": "stderr",
     "text": [
      "Training: 100%|██████████| 112/112 [00:39<00:00,  2.82it/s]\n"
     ]
    },
    {
     "output_type": "stream",
     "name": "stdout",
     "text": [
      "LOSS train 0.1878\n"
     ]
    },
    {
     "output_type": "stream",
     "name": "stderr",
     "text": [
      "Validating: 100%|██████████| 28/28 [00:10<00:00,  2.55it/s]\n"
     ]
    },
    {
     "output_type": "stream",
     "name": "stdout",
     "text": [
      "LOSS valid 0.2317\n",
      "Accuracy valid 0.9008\n",
      "mIoU valid 0.7503\n",
      "IoU per class: Background=0.8670, Bleached=0.6936, Non-bleached=0.6904\n",
      "Custom Score valid 0.7478\n",
      "EPOCH 50/50:\n"
     ]
    },
    {
     "output_type": "stream",
     "name": "stderr",
     "text": [
      "Training: 100%|██████████| 112/112 [00:40<00:00,  2.79it/s]\n"
     ]
    },
    {
     "output_type": "stream",
     "name": "stdout",
     "text": [
      "LOSS train 0.1923\n"
     ]
    },
    {
     "output_type": "stream",
     "name": "stderr",
     "text": [
      "Validating: 100%|██████████| 28/28 [00:10<00:00,  2.71it/s]\n"
     ]
    },
    {
     "output_type": "stream",
     "name": "stdout",
     "text": [
      "LOSS valid 0.2474\n",
      "Accuracy valid 0.8993\n",
      "mIoU valid 0.7468\n",
      "IoU per class: Background=0.8672, Bleached=0.6843, Non-bleached=0.6890\n",
      "Custom Score valid 0.7436\n",
      "\n",
      "==================== FOLD 4/5 ====================\n",
      "Warning: Model does not have reset_parameters method. Using current weights.\n",
      "EPOCH 1/50:\n"
     ]
    },
    {
     "output_type": "stream",
     "name": "stderr",
     "text": [
      "Training: 100%|██████████| 112/112 [00:41<00:00,  2.73it/s]\n"
     ]
    },
    {
     "output_type": "stream",
     "name": "stdout",
     "text": [
      "LOSS train 0.2103\n"
     ]
    },
    {
     "output_type": "stream",
     "name": "stderr",
     "text": [
      "Validating: 100%|██████████| 28/28 [00:10<00:00,  2.65it/s]\n"
     ]
    },
    {
     "output_type": "stream",
     "name": "stdout",
     "text": [
      "LOSS valid 0.1596\n",
      "Accuracy valid 0.9356\n",
      "mIoU valid 0.8387\n",
      "IoU per class: Background=0.9119, Bleached=0.8261, Non-bleached=0.7780\n",
      "Custom Score valid 0.8376\n",
      "Saved improved model checkpoint to ./checkpoints_og_reefsupport/model_fold_4_best_score.pth (Custom Score: 0.8376)\n",
      "EPOCH 2/50:\n"
     ]
    },
    {
     "output_type": "stream",
     "name": "stderr",
     "text": [
      "Training: 100%|██████████| 112/112 [00:43<00:00,  2.59it/s]\n"
     ]
    },
    {
     "output_type": "stream",
     "name": "stdout",
     "text": [
      "LOSS train 0.2154\n"
     ]
    },
    {
     "output_type": "stream",
     "name": "stderr",
     "text": [
      "Validating: 100%|██████████| 28/28 [00:10<00:00,  2.59it/s]\n"
     ]
    },
    {
     "output_type": "stream",
     "name": "stdout",
     "text": [
      "LOSS valid 0.1641\n",
      "Accuracy valid 0.9327\n",
      "mIoU valid 0.8402\n",
      "IoU per class: Background=0.9044, Bleached=0.8486, Non-bleached=0.7677\n",
      "Custom Score valid 0.8408\n",
      "Saved improved model checkpoint to ./checkpoints_og_reefsupport/model_fold_4_best_score.pth (Custom Score: 0.8408)\n",
      "EPOCH 3/50:\n"
     ]
    },
    {
     "output_type": "stream",
     "name": "stderr",
     "text": [
      "Training: 100%|██████████| 112/112 [00:45<00:00,  2.45it/s]\n"
     ]
    },
    {
     "output_type": "stream",
     "name": "stdout",
     "text": [
      "LOSS train 0.2104\n"
     ]
    },
    {
     "output_type": "stream",
     "name": "stderr",
     "text": [
      "Validating: 100%|██████████| 28/28 [00:11<00:00,  2.43it/s]\n"
     ]
    },
    {
     "output_type": "stream",
     "name": "stdout",
     "text": [
      "LOSS valid 0.1718\n",
      "Accuracy valid 0.9290\n",
      "mIoU valid 0.8253\n",
      "IoU per class: Background=0.9076, Bleached=0.7952, Non-bleached=0.7730\n",
      "Custom Score valid 0.8230\n",
      "EPOCH 4/50:\n"
     ]
    },
    {
     "output_type": "stream",
     "name": "stderr",
     "text": [
      "Training: 100%|██████████| 112/112 [00:44<00:00,  2.52it/s]\n"
     ]
    },
    {
     "output_type": "stream",
     "name": "stdout",
     "text": [
      "LOSS train 0.1951\n"
     ]
    },
    {
     "output_type": "stream",
     "name": "stderr",
     "text": [
      "Validating: 100%|██████████| 28/28 [00:11<00:00,  2.39it/s]\n"
     ]
    },
    {
     "output_type": "stream",
     "name": "stdout",
     "text": [
      "LOSS valid 0.1624\n",
      "Accuracy valid 0.9358\n",
      "mIoU valid 0.8347\n",
      "IoU per class: Background=0.9114, Bleached=0.8305, Non-bleached=0.7622\n",
      "Custom Score valid 0.8335\n",
      "EPOCH 5/50:\n"
     ]
    },
    {
     "output_type": "stream",
     "name": "stderr",
     "text": [
      "Training: 100%|██████████| 112/112 [00:44<00:00,  2.52it/s]\n"
     ]
    },
    {
     "output_type": "stream",
     "name": "stdout",
     "text": [
      "LOSS train 0.2087\n"
     ]
    },
    {
     "output_type": "stream",
     "name": "stderr",
     "text": [
      "Validating: 100%|██████████| 28/28 [00:11<00:00,  2.46it/s]\n"
     ]
    },
    {
     "output_type": "stream",
     "name": "stdout",
     "text": [
      "LOSS valid 0.1753\n",
      "Accuracy valid 0.9296\n",
      "mIoU valid 0.8335\n",
      "IoU per class: Background=0.9005, Bleached=0.8397, Non-bleached=0.7603\n",
      "Custom Score valid 0.8339\n",
      "EPOCH 6/50:\n"
     ]
    },
    {
     "output_type": "stream",
     "name": "stderr",
     "text": [
      "Training: 100%|██████████| 112/112 [00:44<00:00,  2.50it/s]\n"
     ]
    },
    {
     "output_type": "stream",
     "name": "stdout",
     "text": [
      "LOSS train 0.1940\n"
     ]
    },
    {
     "output_type": "stream",
     "name": "stderr",
     "text": [
      "Validating: 100%|██████████| 28/28 [00:11<00:00,  2.45it/s]\n"
     ]
    },
    {
     "output_type": "stream",
     "name": "stdout",
     "text": [
      "LOSS valid 0.1614\n",
      "Accuracy valid 0.9365\n",
      "mIoU valid 0.8411\n",
      "IoU per class: Background=0.9060, Bleached=0.8262, Non-bleached=0.7910\n",
      "Custom Score valid 0.8420\n",
      "Saved improved model checkpoint to ./checkpoints_og_reefsupport/model_fold_4_best_score.pth (Custom Score: 0.8420)\n",
      "EPOCH 7/50:\n"
     ]
    },
    {
     "output_type": "stream",
     "name": "stderr",
     "text": [
      "Training: 100%|██████████| 112/112 [00:41<00:00,  2.67it/s]\n"
     ]
    },
    {
     "output_type": "stream",
     "name": "stdout",
     "text": [
      "LOSS train 0.1995\n"
     ]
    },
    {
     "output_type": "stream",
     "name": "stderr",
     "text": [
      "Validating: 100%|██████████| 28/28 [00:10<00:00,  2.55it/s]\n"
     ]
    },
    {
     "output_type": "stream",
     "name": "stdout",
     "text": [
      "LOSS valid 0.1626\n",
      "Accuracy valid 0.9350\n",
      "mIoU valid 0.8441\n",
      "IoU per class: Background=0.9103, Bleached=0.8269, Non-bleached=0.7950\n",
      "Custom Score valid 0.8437\n",
      "Saved improved model checkpoint to ./checkpoints_og_reefsupport/model_fold_4_best_score.pth (Custom Score: 0.8437)\n",
      "EPOCH 8/50:\n"
     ]
    },
    {
     "output_type": "stream",
     "name": "stderr",
     "text": [
      "Training: 100%|██████████| 112/112 [00:45<00:00,  2.46it/s]\n"
     ]
    },
    {
     "output_type": "stream",
     "name": "stdout",
     "text": [
      "LOSS train 0.1969\n"
     ]
    },
    {
     "output_type": "stream",
     "name": "stderr",
     "text": [
      "Validating: 100%|██████████| 28/28 [00:11<00:00,  2.41it/s]\n"
     ]
    },
    {
     "output_type": "stream",
     "name": "stdout",
     "text": [
      "LOSS valid 0.1776\n",
      "Accuracy valid 0.9275\n",
      "mIoU valid 0.8210\n",
      "IoU per class: Background=0.9062, Bleached=0.7961, Non-bleached=0.7608\n",
      "Custom Score valid 0.8185\n",
      "EPOCH 9/50:\n"
     ]
    },
    {
     "output_type": "stream",
     "name": "stderr",
     "text": [
      "Training: 100%|██████████| 112/112 [00:44<00:00,  2.52it/s]\n"
     ]
    },
    {
     "output_type": "stream",
     "name": "stdout",
     "text": [
      "LOSS train 0.2070\n"
     ]
    },
    {
     "output_type": "stream",
     "name": "stderr",
     "text": [
      "Validating: 100%|██████████| 28/28 [00:11<00:00,  2.39it/s]\n"
     ]
    },
    {
     "output_type": "stream",
     "name": "stdout",
     "text": [
      "LOSS valid 0.1699\n",
      "Accuracy valid 0.9318\n",
      "mIoU valid 0.8282\n",
      "IoU per class: Background=0.9042, Bleached=0.8213, Non-bleached=0.7592\n",
      "Custom Score valid 0.8277\n",
      "EPOCH 10/50:\n"
     ]
    },
    {
     "output_type": "stream",
     "name": "stderr",
     "text": [
      "Training: 100%|██████████| 112/112 [00:43<00:00,  2.57it/s]\n"
     ]
    },
    {
     "output_type": "stream",
     "name": "stdout",
     "text": [
      "LOSS train 0.1975\n"
     ]
    },
    {
     "output_type": "stream",
     "name": "stderr",
     "text": [
      "Validating: 100%|██████████| 28/28 [00:11<00:00,  2.38it/s]\n"
     ]
    },
    {
     "output_type": "stream",
     "name": "stdout",
     "text": [
      "LOSS valid 0.1604\n",
      "Accuracy valid 0.9365\n",
      "mIoU valid 0.8445\n",
      "IoU per class: Background=0.9106, Bleached=0.8413, Non-bleached=0.7815\n",
      "Custom Score valid 0.8444\n",
      "Saved improved model checkpoint to ./checkpoints_og_reefsupport/model_fold_4_best_score.pth (Custom Score: 0.8444)\n",
      "EPOCH 11/50:\n"
     ]
    },
    {
     "output_type": "stream",
     "name": "stderr",
     "text": [
      "Training: 100%|██████████| 112/112 [00:40<00:00,  2.75it/s]\n"
     ]
    },
    {
     "output_type": "stream",
     "name": "stdout",
     "text": [
      "LOSS train 0.1891\n"
     ]
    },
    {
     "output_type": "stream",
     "name": "stderr",
     "text": [
      "Validating: 100%|██████████| 28/28 [00:10<00:00,  2.59it/s]\n"
     ]
    },
    {
     "output_type": "stream",
     "name": "stdout",
     "text": [
      "LOSS valid 0.1588\n",
      "Accuracy valid 0.9356\n",
      "mIoU valid 0.8418\n",
      "IoU per class: Background=0.9139, Bleached=0.8293, Non-bleached=0.7820\n",
      "Custom Score valid 0.8403\n",
      "EPOCH 12/50:\n"
     ]
    },
    {
     "output_type": "stream",
     "name": "stderr",
     "text": [
      "Training: 100%|██████████| 112/112 [00:38<00:00,  2.88it/s]\n"
     ]
    },
    {
     "output_type": "stream",
     "name": "stdout",
     "text": [
      "LOSS train 0.1920\n"
     ]
    },
    {
     "output_type": "stream",
     "name": "stderr",
     "text": [
      "Validating: 100%|██████████| 28/28 [00:10<00:00,  2.58it/s]\n"
     ]
    },
    {
     "output_type": "stream",
     "name": "stdout",
     "text": [
      "LOSS valid 0.1822\n",
      "Accuracy valid 0.9307\n",
      "mIoU valid 0.8408\n",
      "IoU per class: Background=0.9052, Bleached=0.8348, Non-bleached=0.7823\n",
      "Custom Score valid 0.8407\n",
      "EPOCH 13/50:\n"
     ]
    },
    {
     "output_type": "stream",
     "name": "stderr",
     "text": [
      "Training: 100%|██████████| 112/112 [00:39<00:00,  2.81it/s]\n"
     ]
    },
    {
     "output_type": "stream",
     "name": "stdout",
     "text": [
      "LOSS train 0.1785\n"
     ]
    },
    {
     "output_type": "stream",
     "name": "stderr",
     "text": [
      "Validating: 100%|██████████| 28/28 [00:10<00:00,  2.75it/s]\n"
     ]
    },
    {
     "output_type": "stream",
     "name": "stdout",
     "text": [
      "LOSS valid 0.1611\n",
      "Accuracy valid 0.9351\n",
      "mIoU valid 0.8410\n",
      "IoU per class: Background=0.9122, Bleached=0.8277, Non-bleached=0.7829\n",
      "Custom Score valid 0.8398\n",
      "EPOCH 14/50:\n"
     ]
    },
    {
     "output_type": "stream",
     "name": "stderr",
     "text": [
      "Training: 100%|██████████| 112/112 [00:39<00:00,  2.84it/s]\n"
     ]
    },
    {
     "output_type": "stream",
     "name": "stdout",
     "text": [
      "LOSS train 0.1803\n"
     ]
    },
    {
     "output_type": "stream",
     "name": "stderr",
     "text": [
      "Validating: 100%|██████████| 28/28 [00:10<00:00,  2.64it/s]\n"
     ]
    },
    {
     "output_type": "stream",
     "name": "stdout",
     "text": [
      "LOSS valid 0.1689\n",
      "Accuracy valid 0.9322\n",
      "mIoU valid 0.8400\n",
      "IoU per class: Background=0.9083, Bleached=0.8307, Non-bleached=0.7810\n",
      "Custom Score valid 0.8393\n",
      "EPOCH 15/50:\n"
     ]
    },
    {
     "output_type": "stream",
     "name": "stderr",
     "text": [
      "Training: 100%|██████████| 112/112 [00:39<00:00,  2.82it/s]\n"
     ]
    },
    {
     "output_type": "stream",
     "name": "stdout",
     "text": [
      "LOSS train 0.1883\n"
     ]
    },
    {
     "output_type": "stream",
     "name": "stderr",
     "text": [
      "Validating: 100%|██████████| 28/28 [00:10<00:00,  2.75it/s]\n"
     ]
    },
    {
     "output_type": "stream",
     "name": "stdout",
     "text": [
      "LOSS valid 0.1800\n",
      "Accuracy valid 0.9287\n",
      "mIoU valid 0.8259\n",
      "IoU per class: Background=0.9059, Bleached=0.8199, Non-bleached=0.7519\n",
      "Custom Score valid 0.8240\n",
      "EPOCH 16/50:\n"
     ]
    },
    {
     "output_type": "stream",
     "name": "stderr",
     "text": [
      "Training: 100%|██████████| 112/112 [00:40<00:00,  2.75it/s]\n"
     ]
    },
    {
     "output_type": "stream",
     "name": "stdout",
     "text": [
      "LOSS train 0.1871\n"
     ]
    },
    {
     "output_type": "stream",
     "name": "stderr",
     "text": [
      "Validating: 100%|██████████| 28/28 [00:10<00:00,  2.68it/s]\n"
     ]
    },
    {
     "output_type": "stream",
     "name": "stdout",
     "text": [
      "LOSS valid 0.1676\n",
      "Accuracy valid 0.9326\n",
      "mIoU valid 0.8390\n",
      "IoU per class: Background=0.9040, Bleached=0.8590, Non-bleached=0.7539\n",
      "Custom Score valid 0.8395\n",
      "EPOCH 17/50:\n"
     ]
    },
    {
     "output_type": "stream",
     "name": "stderr",
     "text": [
      "Training: 100%|██████████| 112/112 [00:41<00:00,  2.72it/s]\n"
     ]
    },
    {
     "output_type": "stream",
     "name": "stdout",
     "text": [
      "LOSS train 0.1865\n"
     ]
    },
    {
     "output_type": "stream",
     "name": "stderr",
     "text": [
      "Validating: 100%|██████████| 28/28 [00:10<00:00,  2.70it/s]\n"
     ]
    },
    {
     "output_type": "stream",
     "name": "stdout",
     "text": [
      "LOSS valid 0.1644\n",
      "Accuracy valid 0.9339\n",
      "mIoU valid 0.8311\n",
      "IoU per class: Background=0.9046, Bleached=0.8244, Non-bleached=0.7642\n",
      "Custom Score valid 0.8311\n",
      "EPOCH 18/50:\n"
     ]
    },
    {
     "output_type": "stream",
     "name": "stderr",
     "text": [
      "Training: 100%|██████████| 112/112 [00:40<00:00,  2.76it/s]\n"
     ]
    },
    {
     "output_type": "stream",
     "name": "stdout",
     "text": [
      "LOSS train 0.1937\n"
     ]
    },
    {
     "output_type": "stream",
     "name": "stderr",
     "text": [
      "Validating: 100%|██████████| 28/28 [00:10<00:00,  2.77it/s]\n"
     ]
    },
    {
     "output_type": "stream",
     "name": "stdout",
     "text": [
      "LOSS valid 0.1695\n",
      "Accuracy valid 0.9332\n",
      "mIoU valid 0.8332\n",
      "IoU per class: Background=0.9072, Bleached=0.8355, Non-bleached=0.7570\n",
      "Custom Score valid 0.8325\n",
      "EPOCH 19/50:\n"
     ]
    },
    {
     "output_type": "stream",
     "name": "stderr",
     "text": [
      "Training: 100%|██████████| 112/112 [00:40<00:00,  2.80it/s]\n"
     ]
    },
    {
     "output_type": "stream",
     "name": "stdout",
     "text": [
      "LOSS train 0.1830\n"
     ]
    },
    {
     "output_type": "stream",
     "name": "stderr",
     "text": [
      "Validating: 100%|██████████| 28/28 [00:10<00:00,  2.74it/s]\n"
     ]
    },
    {
     "output_type": "stream",
     "name": "stdout",
     "text": [
      "LOSS valid 0.1757\n",
      "Accuracy valid 0.9291\n",
      "mIoU valid 0.8308\n",
      "IoU per class: Background=0.9032, Bleached=0.8227, Non-bleached=0.7667\n",
      "Custom Score valid 0.8302\n",
      "EPOCH 20/50:\n"
     ]
    },
    {
     "output_type": "stream",
     "name": "stderr",
     "text": [
      "Training: 100%|██████████| 112/112 [00:40<00:00,  2.77it/s]\n"
     ]
    },
    {
     "output_type": "stream",
     "name": "stdout",
     "text": [
      "LOSS train 0.1802\n"
     ]
    },
    {
     "output_type": "stream",
     "name": "stderr",
     "text": [
      "Validating: 100%|██████████| 28/28 [00:10<00:00,  2.75it/s]\n"
     ]
    },
    {
     "output_type": "stream",
     "name": "stdout",
     "text": [
      "LOSS valid 0.1674\n",
      "Accuracy valid 0.9319\n",
      "mIoU valid 0.8426\n",
      "IoU per class: Background=0.9005, Bleached=0.8434, Non-bleached=0.7840\n",
      "Custom Score valid 0.8443\n",
      "EPOCH 21/50:\n"
     ]
    },
    {
     "output_type": "stream",
     "name": "stderr",
     "text": [
      "Training: 100%|██████████| 112/112 [00:39<00:00,  2.81it/s]\n"
     ]
    },
    {
     "output_type": "stream",
     "name": "stdout",
     "text": [
      "LOSS train 0.1759\n"
     ]
    },
    {
     "output_type": "stream",
     "name": "stderr",
     "text": [
      "Validating: 100%|██████████| 28/28 [00:10<00:00,  2.71it/s]\n"
     ]
    },
    {
     "output_type": "stream",
     "name": "stdout",
     "text": [
      "LOSS valid 0.1684\n",
      "Accuracy valid 0.9349\n",
      "mIoU valid 0.8428\n",
      "IoU per class: Background=0.9104, Bleached=0.8267, Non-bleached=0.7912\n",
      "Custom Score valid 0.8422\n",
      "EPOCH 22/50:\n"
     ]
    },
    {
     "output_type": "stream",
     "name": "stderr",
     "text": [
      "Training: 100%|██████████| 112/112 [00:41<00:00,  2.71it/s]\n"
     ]
    },
    {
     "output_type": "stream",
     "name": "stdout",
     "text": [
      "LOSS train 0.1762\n"
     ]
    },
    {
     "output_type": "stream",
     "name": "stderr",
     "text": [
      "Validating: 100%|██████████| 28/28 [00:10<00:00,  2.67it/s]\n"
     ]
    },
    {
     "output_type": "stream",
     "name": "stdout",
     "text": [
      "LOSS valid 0.1692\n",
      "Accuracy valid 0.9320\n",
      "mIoU valid 0.8261\n",
      "IoU per class: Background=0.9008, Bleached=0.8233, Non-bleached=0.7543\n",
      "Custom Score valid 0.8264\n",
      "EPOCH 23/50:\n"
     ]
    },
    {
     "output_type": "stream",
     "name": "stderr",
     "text": [
      "Training: 100%|██████████| 112/112 [00:42<00:00,  2.66it/s]\n"
     ]
    },
    {
     "output_type": "stream",
     "name": "stdout",
     "text": [
      "LOSS train 0.1922\n"
     ]
    },
    {
     "output_type": "stream",
     "name": "stderr",
     "text": [
      "Validating: 100%|██████████| 28/28 [00:10<00:00,  2.60it/s]\n"
     ]
    },
    {
     "output_type": "stream",
     "name": "stdout",
     "text": [
      "LOSS valid 0.1809\n",
      "Accuracy valid 0.9271\n",
      "mIoU valid 0.8276\n",
      "IoU per class: Background=0.8972, Bleached=0.8298, Non-bleached=0.7557\n",
      "Custom Score valid 0.8280\n",
      "EPOCH 24/50:\n"
     ]
    },
    {
     "output_type": "stream",
     "name": "stderr",
     "text": [
      "Training: 100%|██████████| 112/112 [00:41<00:00,  2.69it/s]\n"
     ]
    },
    {
     "output_type": "stream",
     "name": "stdout",
     "text": [
      "LOSS train 0.1953\n"
     ]
    },
    {
     "output_type": "stream",
     "name": "stderr",
     "text": [
      "Validating: 100%|██████████| 28/28 [00:10<00:00,  2.63it/s]\n"
     ]
    },
    {
     "output_type": "stream",
     "name": "stdout",
     "text": [
      "LOSS valid 0.2185\n",
      "Accuracy valid 0.9137\n",
      "mIoU valid 0.8093\n",
      "IoU per class: Background=0.8832, Bleached=0.8173, Non-bleached=0.7272\n",
      "Custom Score valid 0.8094\n",
      "EPOCH 25/50:\n"
     ]
    },
    {
     "output_type": "stream",
     "name": "stderr",
     "text": [
      "Training: 100%|██████████| 112/112 [00:39<00:00,  2.86it/s]\n"
     ]
    },
    {
     "output_type": "stream",
     "name": "stdout",
     "text": [
      "LOSS train 0.1877\n"
     ]
    },
    {
     "output_type": "stream",
     "name": "stderr",
     "text": [
      "Validating: 100%|██████████| 28/28 [00:10<00:00,  2.73it/s]\n"
     ]
    },
    {
     "output_type": "stream",
     "name": "stdout",
     "text": [
      "LOSS valid 0.1954\n",
      "Accuracy valid 0.9218\n",
      "mIoU valid 0.8187\n",
      "IoU per class: Background=0.8880, Bleached=0.8279, Non-bleached=0.7404\n",
      "Custom Score valid 0.8200\n",
      "EPOCH 26/50:\n"
     ]
    },
    {
     "output_type": "stream",
     "name": "stderr",
     "text": [
      "Training: 100%|██████████| 112/112 [00:39<00:00,  2.86it/s]\n"
     ]
    },
    {
     "output_type": "stream",
     "name": "stdout",
     "text": [
      "LOSS train 0.1810\n"
     ]
    },
    {
     "output_type": "stream",
     "name": "stderr",
     "text": [
      "Validating: 100%|██████████| 28/28 [00:10<00:00,  2.69it/s]\n"
     ]
    },
    {
     "output_type": "stream",
     "name": "stdout",
     "text": [
      "LOSS valid 0.1716\n",
      "Accuracy valid 0.9326\n",
      "mIoU valid 0.8403\n",
      "IoU per class: Background=0.9070, Bleached=0.8484, Non-bleached=0.7654\n",
      "Custom Score valid 0.8400\n",
      "EPOCH 27/50:\n"
     ]
    },
    {
     "output_type": "stream",
     "name": "stderr",
     "text": [
      "Training: 100%|██████████| 112/112 [00:39<00:00,  2.85it/s]\n"
     ]
    },
    {
     "output_type": "stream",
     "name": "stdout",
     "text": [
      "LOSS train 0.1859\n"
     ]
    },
    {
     "output_type": "stream",
     "name": "stderr",
     "text": [
      "Validating: 100%|██████████| 28/28 [00:10<00:00,  2.73it/s]\n"
     ]
    },
    {
     "output_type": "stream",
     "name": "stdout",
     "text": [
      "LOSS valid 0.2408\n",
      "Accuracy valid 0.9100\n",
      "mIoU valid 0.7948\n",
      "IoU per class: Background=0.8732, Bleached=0.8077, Non-bleached=0.7036\n",
      "Custom Score valid 0.7959\n",
      "EPOCH 28/50:\n"
     ]
    },
    {
     "output_type": "stream",
     "name": "stderr",
     "text": [
      "Training: 100%|██████████| 112/112 [00:39<00:00,  2.86it/s]\n"
     ]
    },
    {
     "output_type": "stream",
     "name": "stdout",
     "text": [
      "LOSS train 0.1860\n"
     ]
    },
    {
     "output_type": "stream",
     "name": "stderr",
     "text": [
      "Validating: 100%|██████████| 28/28 [00:10<00:00,  2.76it/s]\n"
     ]
    },
    {
     "output_type": "stream",
     "name": "stdout",
     "text": [
      "LOSS valid 0.2017\n",
      "Accuracy valid 0.9192\n",
      "mIoU valid 0.8235\n",
      "IoU per class: Background=0.8879, Bleached=0.8334, Non-bleached=0.7493\n",
      "Custom Score valid 0.8247\n",
      "EPOCH 29/50:\n"
     ]
    },
    {
     "output_type": "stream",
     "name": "stderr",
     "text": [
      "Training: 100%|██████████| 112/112 [00:41<00:00,  2.73it/s]\n"
     ]
    },
    {
     "output_type": "stream",
     "name": "stdout",
     "text": [
      "LOSS train 0.1797\n"
     ]
    },
    {
     "output_type": "stream",
     "name": "stderr",
     "text": [
      "Validating: 100%|██████████| 28/28 [00:10<00:00,  2.68it/s]\n"
     ]
    },
    {
     "output_type": "stream",
     "name": "stdout",
     "text": [
      "LOSS valid 0.1753\n",
      "Accuracy valid 0.9310\n",
      "mIoU valid 0.8306\n",
      "IoU per class: Background=0.8990, Bleached=0.8338, Non-bleached=0.7591\n",
      "Custom Score valid 0.8316\n",
      "EPOCH 30/50:\n"
     ]
    },
    {
     "output_type": "stream",
     "name": "stderr",
     "text": [
      "Training: 100%|██████████| 112/112 [00:40<00:00,  2.78it/s]\n"
     ]
    },
    {
     "output_type": "stream",
     "name": "stdout",
     "text": [
      "LOSS train 0.1764\n"
     ]
    },
    {
     "output_type": "stream",
     "name": "stderr",
     "text": [
      "Validating: 100%|██████████| 28/28 [00:10<00:00,  2.69it/s]\n"
     ]
    },
    {
     "output_type": "stream",
     "name": "stdout",
     "text": [
      "LOSS valid 0.1846\n",
      "Accuracy valid 0.9273\n",
      "mIoU valid 0.8297\n",
      "IoU per class: Background=0.8983, Bleached=0.8326, Non-bleached=0.7582\n",
      "Custom Score valid 0.8300\n",
      "EPOCH 31/50:\n"
     ]
    },
    {
     "output_type": "stream",
     "name": "stderr",
     "text": [
      "Training: 100%|██████████| 112/112 [00:41<00:00,  2.69it/s]\n"
     ]
    },
    {
     "output_type": "stream",
     "name": "stdout",
     "text": [
      "LOSS train 0.1853\n"
     ]
    },
    {
     "output_type": "stream",
     "name": "stderr",
     "text": [
      "Validating: 100%|██████████| 28/28 [00:10<00:00,  2.70it/s]\n"
     ]
    },
    {
     "output_type": "stream",
     "name": "stdout",
     "text": [
      "LOSS valid 0.1678\n",
      "Accuracy valid 0.9314\n",
      "mIoU valid 0.8404\n",
      "IoU per class: Background=0.9031, Bleached=0.8470, Non-bleached=0.7711\n",
      "Custom Score valid 0.8411\n",
      "EPOCH 32/50:\n"
     ]
    },
    {
     "output_type": "stream",
     "name": "stderr",
     "text": [
      "Training: 100%|██████████| 112/112 [00:40<00:00,  2.80it/s]\n"
     ]
    },
    {
     "output_type": "stream",
     "name": "stdout",
     "text": [
      "LOSS train 0.1768\n"
     ]
    },
    {
     "output_type": "stream",
     "name": "stderr",
     "text": [
      "Validating: 100%|██████████| 28/28 [00:10<00:00,  2.60it/s]\n"
     ]
    },
    {
     "output_type": "stream",
     "name": "stdout",
     "text": [
      "LOSS valid 0.1778\n",
      "Accuracy valid 0.9281\n",
      "mIoU valid 0.8229\n",
      "IoU per class: Background=0.8960, Bleached=0.8445, Non-bleached=0.7284\n",
      "Custom Score valid 0.8235\n",
      "EPOCH 33/50:\n"
     ]
    },
    {
     "output_type": "stream",
     "name": "stderr",
     "text": [
      "Training: 100%|██████████| 112/112 [00:40<00:00,  2.74it/s]\n"
     ]
    },
    {
     "output_type": "stream",
     "name": "stdout",
     "text": [
      "LOSS train 0.1732\n"
     ]
    },
    {
     "output_type": "stream",
     "name": "stderr",
     "text": [
      "Validating: 100%|██████████| 28/28 [00:10<00:00,  2.77it/s]\n"
     ]
    },
    {
     "output_type": "stream",
     "name": "stdout",
     "text": [
      "LOSS valid 0.1737\n",
      "Accuracy valid 0.9297\n",
      "mIoU valid 0.8277\n",
      "IoU per class: Background=0.9063, Bleached=0.8328, Non-bleached=0.7440\n",
      "Custom Score valid 0.8261\n",
      "EPOCH 34/50:\n"
     ]
    },
    {
     "output_type": "stream",
     "name": "stderr",
     "text": [
      "Training: 100%|██████████| 112/112 [00:39<00:00,  2.87it/s]\n"
     ]
    },
    {
     "output_type": "stream",
     "name": "stdout",
     "text": [
      "LOSS train 0.1655\n"
     ]
    },
    {
     "output_type": "stream",
     "name": "stderr",
     "text": [
      "Validating: 100%|██████████| 28/28 [00:10<00:00,  2.69it/s]\n"
     ]
    },
    {
     "output_type": "stream",
     "name": "stdout",
     "text": [
      "LOSS valid 0.1712\n",
      "Accuracy valid 0.9318\n",
      "mIoU valid 0.8410\n",
      "IoU per class: Background=0.9074, Bleached=0.8502, Non-bleached=0.7653\n",
      "Custom Score valid 0.8406\n",
      "EPOCH 35/50:\n"
     ]
    },
    {
     "output_type": "stream",
     "name": "stderr",
     "text": [
      "Training: 100%|██████████| 112/112 [00:41<00:00,  2.72it/s]\n"
     ]
    },
    {
     "output_type": "stream",
     "name": "stdout",
     "text": [
      "LOSS train 0.1733\n"
     ]
    },
    {
     "output_type": "stream",
     "name": "stderr",
     "text": [
      "Validating: 100%|██████████| 28/28 [00:09<00:00,  2.82it/s]\n"
     ]
    },
    {
     "output_type": "stream",
     "name": "stdout",
     "text": [
      "LOSS valid 0.1790\n",
      "Accuracy valid 0.9299\n",
      "mIoU valid 0.8370\n",
      "IoU per class: Background=0.9021, Bleached=0.8551, Non-bleached=0.7537\n",
      "Custom Score valid 0.8373\n",
      "EPOCH 36/50:\n"
     ]
    },
    {
     "output_type": "stream",
     "name": "stderr",
     "text": [
      "Training: 100%|██████████| 112/112 [00:41<00:00,  2.72it/s]\n"
     ]
    },
    {
     "output_type": "stream",
     "name": "stdout",
     "text": [
      "LOSS train 0.1808\n"
     ]
    },
    {
     "output_type": "stream",
     "name": "stderr",
     "text": [
      "Validating: 100%|██████████| 28/28 [00:10<00:00,  2.68it/s]\n"
     ]
    },
    {
     "output_type": "stream",
     "name": "stdout",
     "text": [
      "LOSS valid 0.2061\n",
      "Accuracy valid 0.9219\n",
      "mIoU valid 0.7987\n",
      "IoU per class: Background=0.9035, Bleached=0.7426, Non-bleached=0.7501\n",
      "Custom Score valid 0.7940\n",
      "EPOCH 37/50:\n"
     ]
    },
    {
     "output_type": "stream",
     "name": "stderr",
     "text": [
      "Training: 100%|██████████| 112/112 [00:42<00:00,  2.64it/s]\n"
     ]
    },
    {
     "output_type": "stream",
     "name": "stdout",
     "text": [
      "LOSS train 0.1840\n"
     ]
    },
    {
     "output_type": "stream",
     "name": "stderr",
     "text": [
      "Validating: 100%|██████████| 28/28 [00:10<00:00,  2.66it/s]\n"
     ]
    },
    {
     "output_type": "stream",
     "name": "stdout",
     "text": [
      "LOSS valid 0.1996\n",
      "Accuracy valid 0.9225\n",
      "mIoU valid 0.8175\n",
      "IoU per class: Background=0.9014, Bleached=0.8078, Non-bleached=0.7434\n",
      "Custom Score valid 0.8150\n",
      "EPOCH 38/50:\n"
     ]
    },
    {
     "output_type": "stream",
     "name": "stderr",
     "text": [
      "Training: 100%|██████████| 112/112 [00:40<00:00,  2.80it/s]\n"
     ]
    },
    {
     "output_type": "stream",
     "name": "stdout",
     "text": [
      "LOSS train 0.1776\n"
     ]
    },
    {
     "output_type": "stream",
     "name": "stderr",
     "text": [
      "Validating: 100%|██████████| 28/28 [00:10<00:00,  2.64it/s]\n"
     ]
    },
    {
     "output_type": "stream",
     "name": "stdout",
     "text": [
      "LOSS valid 0.1912\n",
      "Accuracy valid 0.9224\n",
      "mIoU valid 0.8146\n",
      "IoU per class: Background=0.8891, Bleached=0.8065, Non-bleached=0.7482\n",
      "Custom Score valid 0.8153\n",
      "EPOCH 39/50:\n"
     ]
    },
    {
     "output_type": "stream",
     "name": "stderr",
     "text": [
      "Training: 100%|██████████| 112/112 [00:41<00:00,  2.68it/s]\n"
     ]
    },
    {
     "output_type": "stream",
     "name": "stdout",
     "text": [
      "LOSS train 0.1790\n"
     ]
    },
    {
     "output_type": "stream",
     "name": "stderr",
     "text": [
      "Validating: 100%|██████████| 28/28 [00:10<00:00,  2.59it/s]\n"
     ]
    },
    {
     "output_type": "stream",
     "name": "stdout",
     "text": [
      "LOSS valid 0.1864\n",
      "Accuracy valid 0.9249\n",
      "mIoU valid 0.8078\n",
      "IoU per class: Background=0.8985, Bleached=0.7793, Non-bleached=0.7455\n",
      "Custom Score valid 0.8058\n",
      "EPOCH 40/50:\n"
     ]
    },
    {
     "output_type": "stream",
     "name": "stderr",
     "text": [
      "Training: 100%|██████████| 112/112 [00:42<00:00,  2.63it/s]\n"
     ]
    },
    {
     "output_type": "stream",
     "name": "stdout",
     "text": [
      "LOSS train 0.1741\n"
     ]
    },
    {
     "output_type": "stream",
     "name": "stderr",
     "text": [
      "Validating: 100%|██████████| 28/28 [00:10<00:00,  2.70it/s]\n"
     ]
    },
    {
     "output_type": "stream",
     "name": "stdout",
     "text": [
      "LOSS valid 0.1838\n",
      "Accuracy valid 0.9277\n",
      "mIoU valid 0.8283\n",
      "IoU per class: Background=0.9011, Bleached=0.8189, Non-bleached=0.7648\n",
      "Custom Score valid 0.8277\n",
      "EPOCH 41/50:\n"
     ]
    },
    {
     "output_type": "stream",
     "name": "stderr",
     "text": [
      "Training: 100%|██████████| 112/112 [00:39<00:00,  2.84it/s]\n"
     ]
    },
    {
     "output_type": "stream",
     "name": "stdout",
     "text": [
      "LOSS train 0.1734\n"
     ]
    },
    {
     "output_type": "stream",
     "name": "stderr",
     "text": [
      "Validating: 100%|██████████| 28/28 [00:10<00:00,  2.65it/s]\n"
     ]
    },
    {
     "output_type": "stream",
     "name": "stdout",
     "text": [
      "LOSS valid 0.1952\n",
      "Accuracy valid 0.9241\n",
      "mIoU valid 0.8169\n",
      "IoU per class: Background=0.8925, Bleached=0.7953, Non-bleached=0.7627\n",
      "Custom Score valid 0.8171\n",
      "EPOCH 42/50:\n"
     ]
    },
    {
     "output_type": "stream",
     "name": "stderr",
     "text": [
      "Training: 100%|██████████| 112/112 [00:39<00:00,  2.81it/s]\n"
     ]
    },
    {
     "output_type": "stream",
     "name": "stdout",
     "text": [
      "LOSS train 0.1745\n"
     ]
    },
    {
     "output_type": "stream",
     "name": "stderr",
     "text": [
      "Validating: 100%|██████████| 28/28 [00:10<00:00,  2.62it/s]\n"
     ]
    },
    {
     "output_type": "stream",
     "name": "stdout",
     "text": [
      "LOSS valid 0.1883\n",
      "Accuracy valid 0.9254\n",
      "mIoU valid 0.8054\n",
      "IoU per class: Background=0.8971, Bleached=0.7661, Non-bleached=0.7529\n",
      "Custom Score valid 0.8037\n",
      "EPOCH 43/50:\n"
     ]
    },
    {
     "output_type": "stream",
     "name": "stderr",
     "text": [
      "Training: 100%|██████████| 112/112 [00:40<00:00,  2.78it/s]\n"
     ]
    },
    {
     "output_type": "stream",
     "name": "stdout",
     "text": [
      "LOSS train 0.1708\n"
     ]
    },
    {
     "output_type": "stream",
     "name": "stderr",
     "text": [
      "Validating: 100%|██████████| 28/28 [00:10<00:00,  2.68it/s]\n"
     ]
    },
    {
     "output_type": "stream",
     "name": "stdout",
     "text": [
      "LOSS valid 0.1860\n",
      "Accuracy valid 0.9259\n",
      "mIoU valid 0.8170\n",
      "IoU per class: Background=0.8991, Bleached=0.7978, Non-bleached=0.7540\n",
      "Custom Score valid 0.8157\n",
      "EPOCH 44/50:\n"
     ]
    },
    {
     "output_type": "stream",
     "name": "stderr",
     "text": [
      "Training: 100%|██████████| 112/112 [00:40<00:00,  2.79it/s]\n"
     ]
    },
    {
     "output_type": "stream",
     "name": "stdout",
     "text": [
      "LOSS train 0.1681\n"
     ]
    },
    {
     "output_type": "stream",
     "name": "stderr",
     "text": [
      "Validating: 100%|██████████| 28/28 [00:10<00:00,  2.77it/s]\n"
     ]
    },
    {
     "output_type": "stream",
     "name": "stdout",
     "text": [
      "LOSS valid 0.1836\n",
      "Accuracy valid 0.9271\n",
      "mIoU valid 0.8275\n",
      "IoU per class: Background=0.8974, Bleached=0.8253, Non-bleached=0.7598\n",
      "Custom Score valid 0.8279\n",
      "EPOCH 45/50:\n"
     ]
    },
    {
     "output_type": "stream",
     "name": "stderr",
     "text": [
      "Training: 100%|██████████| 112/112 [00:40<00:00,  2.79it/s]\n"
     ]
    },
    {
     "output_type": "stream",
     "name": "stdout",
     "text": [
      "LOSS train 0.1627\n"
     ]
    },
    {
     "output_type": "stream",
     "name": "stderr",
     "text": [
      "Validating: 100%|██████████| 28/28 [00:10<00:00,  2.65it/s]\n"
     ]
    },
    {
     "output_type": "stream",
     "name": "stdout",
     "text": [
      "LOSS valid 0.1799\n",
      "Accuracy valid 0.9280\n",
      "mIoU valid 0.8233\n",
      "IoU per class: Background=0.8975, Bleached=0.7912, Non-bleached=0.7811\n",
      "Custom Score valid 0.8234\n",
      "EPOCH 46/50:\n"
     ]
    },
    {
     "output_type": "stream",
     "name": "stderr",
     "text": [
      "Training: 100%|██████████| 112/112 [00:39<00:00,  2.84it/s]\n"
     ]
    },
    {
     "output_type": "stream",
     "name": "stdout",
     "text": [
      "LOSS train 0.1681\n"
     ]
    },
    {
     "output_type": "stream",
     "name": "stderr",
     "text": [
      "Validating: 100%|██████████| 28/28 [00:10<00:00,  2.72it/s]\n"
     ]
    },
    {
     "output_type": "stream",
     "name": "stdout",
     "text": [
      "LOSS valid 0.1751\n",
      "Accuracy valid 0.9307\n",
      "mIoU valid 0.8281\n",
      "IoU per class: Background=0.9010, Bleached=0.8230, Non-bleached=0.7605\n",
      "Custom Score valid 0.8283\n",
      "EPOCH 47/50:\n"
     ]
    },
    {
     "output_type": "stream",
     "name": "stderr",
     "text": [
      "Training: 100%|██████████| 112/112 [00:40<00:00,  2.75it/s]\n"
     ]
    },
    {
     "output_type": "stream",
     "name": "stdout",
     "text": [
      "LOSS train 0.1613\n"
     ]
    },
    {
     "output_type": "stream",
     "name": "stderr",
     "text": [
      "Validating: 100%|██████████| 28/28 [00:10<00:00,  2.72it/s]\n"
     ]
    },
    {
     "output_type": "stream",
     "name": "stdout",
     "text": [
      "LOSS valid 0.1818\n",
      "Accuracy valid 0.9251\n",
      "mIoU valid 0.8153\n",
      "IoU per class: Background=0.8944, Bleached=0.8101, Non-bleached=0.7415\n",
      "Custom Score valid 0.8151\n",
      "EPOCH 48/50:\n"
     ]
    },
    {
     "output_type": "stream",
     "name": "stderr",
     "text": [
      "Training: 100%|██████████| 112/112 [00:39<00:00,  2.81it/s]\n"
     ]
    },
    {
     "output_type": "stream",
     "name": "stdout",
     "text": [
      "LOSS train 0.1643\n"
     ]
    },
    {
     "output_type": "stream",
     "name": "stderr",
     "text": [
      "Validating: 100%|██████████| 28/28 [00:10<00:00,  2.60it/s]\n"
     ]
    },
    {
     "output_type": "stream",
     "name": "stdout",
     "text": [
      "LOSS valid 0.1910\n",
      "Accuracy valid 0.9253\n",
      "mIoU valid 0.8202\n",
      "IoU per class: Background=0.8974, Bleached=0.8231, Non-bleached=0.7400\n",
      "Custom Score valid 0.8196\n",
      "EPOCH 49/50:\n"
     ]
    },
    {
     "output_type": "stream",
     "name": "stderr",
     "text": [
      "Training: 100%|██████████| 112/112 [00:40<00:00,  2.76it/s]\n"
     ]
    },
    {
     "output_type": "stream",
     "name": "stdout",
     "text": [
      "LOSS train 0.1703\n"
     ]
    },
    {
     "output_type": "stream",
     "name": "stderr",
     "text": [
      "Validating: 100%|██████████| 28/28 [00:10<00:00,  2.68it/s]\n"
     ]
    },
    {
     "output_type": "stream",
     "name": "stdout",
     "text": [
      "LOSS valid 0.1813\n",
      "Accuracy valid 0.9296\n",
      "mIoU valid 0.8192\n",
      "IoU per class: Background=0.9028, Bleached=0.7951, Non-bleached=0.7596\n",
      "Custom Score valid 0.8179\n",
      "EPOCH 50/50:\n"
     ]
    },
    {
     "output_type": "stream",
     "name": "stderr",
     "text": [
      "Training: 100%|██████████| 112/112 [00:39<00:00,  2.80it/s]\n"
     ]
    },
    {
     "output_type": "stream",
     "name": "stdout",
     "text": [
      "LOSS train 0.1632\n"
     ]
    },
    {
     "output_type": "stream",
     "name": "stderr",
     "text": [
      "Validating: 100%|██████████| 28/28 [00:10<00:00,  2.76it/s]\n"
     ]
    },
    {
     "output_type": "stream",
     "name": "stdout",
     "text": [
      "LOSS valid 0.2014\n",
      "Accuracy valid 0.9212\n",
      "mIoU valid 0.8107\n",
      "IoU per class: Background=0.8838, Bleached=0.8120, Non-bleached=0.7362\n",
      "Custom Score valid 0.8123\n",
      "\n",
      "==================== FOLD 5/5 ====================\n",
      "Warning: Model does not have reset_parameters method. Using current weights.\n",
      "EPOCH 1/50:\n"
     ]
    },
    {
     "output_type": "stream",
     "name": "stderr",
     "text": [
      "Training: 100%|██████████| 112/112 [00:41<00:00,  2.72it/s]\n"
     ]
    },
    {
     "output_type": "stream",
     "name": "stdout",
     "text": [
      "LOSS train 0.1844\n"
     ]
    },
    {
     "output_type": "stream",
     "name": "stderr",
     "text": [
      "Validating: 100%|██████████| 28/28 [00:10<00:00,  2.76it/s]\n"
     ]
    },
    {
     "output_type": "stream",
     "name": "stdout",
     "text": [
      "LOSS valid 0.1558\n",
      "Accuracy valid 0.9363\n",
      "mIoU valid 0.8420\n",
      "IoU per class: Background=0.9126, Bleached=0.8174, Non-bleached=0.7959\n",
      "Custom Score valid 0.8411\n",
      "Saved improved model checkpoint to ./checkpoints_og_reefsupport/model_fold_5_best_score.pth (Custom Score: 0.8411)\n",
      "EPOCH 2/50:\n"
     ]
    },
    {
     "output_type": "stream",
     "name": "stderr",
     "text": [
      "Training: 100%|██████████| 112/112 [00:38<00:00,  2.89it/s]\n"
     ]
    },
    {
     "output_type": "stream",
     "name": "stdout",
     "text": [
      "LOSS train 0.1685\n"
     ]
    },
    {
     "output_type": "stream",
     "name": "stderr",
     "text": [
      "Validating: 100%|██████████| 28/28 [00:09<00:00,  2.80it/s]\n"
     ]
    },
    {
     "output_type": "stream",
     "name": "stdout",
     "text": [
      "LOSS valid 0.1506\n",
      "Accuracy valid 0.9383\n",
      "mIoU valid 0.8520\n",
      "IoU per class: Background=0.9145, Bleached=0.8423, Non-bleached=0.7990\n",
      "Custom Score valid 0.8517\n",
      "Saved improved model checkpoint to ./checkpoints_og_reefsupport/model_fold_5_best_score.pth (Custom Score: 0.8517)\n",
      "EPOCH 3/50:\n"
     ]
    },
    {
     "output_type": "stream",
     "name": "stderr",
     "text": [
      "Training: 100%|██████████| 112/112 [00:42<00:00,  2.65it/s]\n"
     ]
    },
    {
     "output_type": "stream",
     "name": "stdout",
     "text": [
      "LOSS train 0.1668\n"
     ]
    },
    {
     "output_type": "stream",
     "name": "stderr",
     "text": [
      "Validating: 100%|██████████| 28/28 [00:10<00:00,  2.72it/s]\n"
     ]
    },
    {
     "output_type": "stream",
     "name": "stdout",
     "text": [
      "LOSS valid 0.1495\n",
      "Accuracy valid 0.9379\n",
      "mIoU valid 0.8303\n",
      "IoU per class: Background=0.9091, Bleached=0.8112, Non-bleached=0.7706\n",
      "Custom Score valid 0.8298\n",
      "EPOCH 4/50:\n"
     ]
    },
    {
     "output_type": "stream",
     "name": "stderr",
     "text": [
      "Training: 100%|██████████| 112/112 [00:41<00:00,  2.69it/s]\n"
     ]
    },
    {
     "output_type": "stream",
     "name": "stdout",
     "text": [
      "LOSS train 0.1611\n"
     ]
    },
    {
     "output_type": "stream",
     "name": "stderr",
     "text": [
      "Validating: 100%|██████████| 28/28 [00:09<00:00,  2.84it/s]\n"
     ]
    },
    {
     "output_type": "stream",
     "name": "stdout",
     "text": [
      "LOSS valid 0.1597\n",
      "Accuracy valid 0.9350\n",
      "mIoU valid 0.8432\n",
      "IoU per class: Background=0.9113, Bleached=0.8367, Non-bleached=0.7816\n",
      "Custom Score valid 0.8425\n",
      "EPOCH 5/50:\n"
     ]
    },
    {
     "output_type": "stream",
     "name": "stderr",
     "text": [
      "Training: 100%|██████████| 112/112 [00:41<00:00,  2.72it/s]\n"
     ]
    },
    {
     "output_type": "stream",
     "name": "stdout",
     "text": [
      "LOSS train 0.1715\n"
     ]
    },
    {
     "output_type": "stream",
     "name": "stderr",
     "text": [
      "Validating: 100%|██████████| 28/28 [00:10<00:00,  2.75it/s]\n"
     ]
    },
    {
     "output_type": "stream",
     "name": "stdout",
     "text": [
      "LOSS valid 0.1555\n",
      "Accuracy valid 0.9362\n",
      "mIoU valid 0.8350\n",
      "IoU per class: Background=0.9069, Bleached=0.8100, Non-bleached=0.7880\n",
      "Custom Score valid 0.8351\n",
      "EPOCH 6/50:\n"
     ]
    },
    {
     "output_type": "stream",
     "name": "stderr",
     "text": [
      "Training: 100%|██████████| 112/112 [00:41<00:00,  2.71it/s]\n"
     ]
    },
    {
     "output_type": "stream",
     "name": "stdout",
     "text": [
      "LOSS train 0.1695\n"
     ]
    },
    {
     "output_type": "stream",
     "name": "stderr",
     "text": [
      "Validating: 100%|██████████| 28/28 [00:10<00:00,  2.80it/s]\n"
     ]
    },
    {
     "output_type": "stream",
     "name": "stdout",
     "text": [
      "LOSS valid 0.1557\n",
      "Accuracy valid 0.9356\n",
      "mIoU valid 0.8454\n",
      "IoU per class: Background=0.9106, Bleached=0.8345, Non-bleached=0.7910\n",
      "Custom Score valid 0.8452\n",
      "EPOCH 7/50:\n"
     ]
    },
    {
     "output_type": "stream",
     "name": "stderr",
     "text": [
      "Training: 100%|██████████| 112/112 [00:43<00:00,  2.56it/s]\n"
     ]
    },
    {
     "output_type": "stream",
     "name": "stdout",
     "text": [
      "LOSS train 0.1678\n"
     ]
    },
    {
     "output_type": "stream",
     "name": "stderr",
     "text": [
      "Validating: 100%|██████████| 28/28 [00:10<00:00,  2.76it/s]\n"
     ]
    },
    {
     "output_type": "stream",
     "name": "stdout",
     "text": [
      "LOSS valid 0.1626\n",
      "Accuracy valid 0.9331\n",
      "mIoU valid 0.8202\n",
      "IoU per class: Background=0.9045, Bleached=0.7843, Non-bleached=0.7719\n",
      "Custom Score valid 0.8192\n",
      "EPOCH 8/50:\n"
     ]
    },
    {
     "output_type": "stream",
     "name": "stderr",
     "text": [
      "Training: 100%|██████████| 112/112 [00:41<00:00,  2.73it/s]\n"
     ]
    },
    {
     "output_type": "stream",
     "name": "stdout",
     "text": [
      "LOSS train 0.1694\n"
     ]
    },
    {
     "output_type": "stream",
     "name": "stderr",
     "text": [
      "Validating: 100%|██████████| 28/28 [00:10<00:00,  2.71it/s]\n"
     ]
    },
    {
     "output_type": "stream",
     "name": "stdout",
     "text": [
      "LOSS valid 0.1593\n",
      "Accuracy valid 0.9338\n",
      "mIoU valid 0.8431\n",
      "IoU per class: Background=0.9080, Bleached=0.8477, Non-bleached=0.7736\n",
      "Custom Score valid 0.8431\n",
      "EPOCH 9/50:\n"
     ]
    },
    {
     "output_type": "stream",
     "name": "stderr",
     "text": [
      "Training: 100%|██████████| 112/112 [00:42<00:00,  2.62it/s]\n"
     ]
    },
    {
     "output_type": "stream",
     "name": "stdout",
     "text": [
      "LOSS train 0.1604\n"
     ]
    },
    {
     "output_type": "stream",
     "name": "stderr",
     "text": [
      "Validating: 100%|██████████| 28/28 [00:10<00:00,  2.74it/s]\n"
     ]
    },
    {
     "output_type": "stream",
     "name": "stdout",
     "text": [
      "LOSS valid 0.1606\n",
      "Accuracy valid 0.9347\n",
      "mIoU valid 0.8416\n",
      "IoU per class: Background=0.9052, Bleached=0.8455, Non-bleached=0.7742\n",
      "Custom Score valid 0.8425\n",
      "EPOCH 10/50:\n"
     ]
    },
    {
     "output_type": "stream",
     "name": "stderr",
     "text": [
      "Training: 100%|██████████| 112/112 [00:42<00:00,  2.64it/s]\n"
     ]
    },
    {
     "output_type": "stream",
     "name": "stdout",
     "text": [
      "LOSS train 0.1668\n"
     ]
    },
    {
     "output_type": "stream",
     "name": "stderr",
     "text": [
      "Validating: 100%|██████████| 28/28 [00:09<00:00,  2.86it/s]\n"
     ]
    },
    {
     "output_type": "stream",
     "name": "stdout",
     "text": [
      "LOSS valid 0.1539\n",
      "Accuracy valid 0.9369\n",
      "mIoU valid 0.8277\n",
      "IoU per class: Background=0.9081, Bleached=0.7832, Non-bleached=0.7920\n",
      "Custom Score valid 0.8271\n",
      "EPOCH 11/50:\n"
     ]
    },
    {
     "output_type": "stream",
     "name": "stderr",
     "text": [
      "Training: 100%|██████████| 112/112 [00:42<00:00,  2.62it/s]\n"
     ]
    },
    {
     "output_type": "stream",
     "name": "stdout",
     "text": [
      "LOSS train 0.1601\n"
     ]
    },
    {
     "output_type": "stream",
     "name": "stderr",
     "text": [
      "Validating: 100%|██████████| 28/28 [00:10<00:00,  2.78it/s]\n"
     ]
    },
    {
     "output_type": "stream",
     "name": "stdout",
     "text": [
      "LOSS valid 0.1629\n",
      "Accuracy valid 0.9339\n",
      "mIoU valid 0.8260\n",
      "IoU per class: Background=0.9076, Bleached=0.7974, Non-bleached=0.7729\n",
      "Custom Score valid 0.8247\n",
      "EPOCH 12/50:\n"
     ]
    },
    {
     "output_type": "stream",
     "name": "stderr",
     "text": [
      "Training: 100%|██████████| 112/112 [00:44<00:00,  2.54it/s]\n"
     ]
    },
    {
     "output_type": "stream",
     "name": "stdout",
     "text": [
      "LOSS train 0.1717\n"
     ]
    },
    {
     "output_type": "stream",
     "name": "stderr",
     "text": [
      "Validating: 100%|██████████| 28/28 [00:10<00:00,  2.80it/s]\n"
     ]
    },
    {
     "output_type": "stream",
     "name": "stdout",
     "text": [
      "LOSS valid 0.1625\n",
      "Accuracy valid 0.9347\n",
      "mIoU valid 0.8327\n",
      "IoU per class: Background=0.9109, Bleached=0.8092, Non-bleached=0.7782\n",
      "Custom Score valid 0.8313\n",
      "EPOCH 13/50:\n"
     ]
    },
    {
     "output_type": "stream",
     "name": "stderr",
     "text": [
      "Training: 100%|██████████| 112/112 [00:41<00:00,  2.69it/s]\n"
     ]
    },
    {
     "output_type": "stream",
     "name": "stdout",
     "text": [
      "LOSS train 0.1691\n"
     ]
    },
    {
     "output_type": "stream",
     "name": "stderr",
     "text": [
      "Validating: 100%|██████████| 28/28 [00:10<00:00,  2.64it/s]\n"
     ]
    },
    {
     "output_type": "stream",
     "name": "stdout",
     "text": [
      "LOSS valid 0.1646\n",
      "Accuracy valid 0.9313\n",
      "mIoU valid 0.8257\n",
      "IoU per class: Background=0.9018, Bleached=0.8045, Non-bleached=0.7708\n",
      "Custom Score valid 0.8255\n",
      "EPOCH 14/50:\n"
     ]
    },
    {
     "output_type": "stream",
     "name": "stderr",
     "text": [
      "Training: 100%|██████████| 112/112 [00:39<00:00,  2.83it/s]\n"
     ]
    },
    {
     "output_type": "stream",
     "name": "stdout",
     "text": [
      "LOSS train 0.1623\n"
     ]
    },
    {
     "output_type": "stream",
     "name": "stderr",
     "text": [
      "Validating: 100%|██████████| 28/28 [00:10<00:00,  2.57it/s]\n"
     ]
    },
    {
     "output_type": "stream",
     "name": "stdout",
     "text": [
      "LOSS valid 0.1617\n",
      "Accuracy valid 0.9346\n",
      "mIoU valid 0.8337\n",
      "IoU per class: Background=0.9054, Bleached=0.8211, Non-bleached=0.7748\n",
      "Custom Score valid 0.8338\n",
      "EPOCH 15/50:\n"
     ]
    },
    {
     "output_type": "stream",
     "name": "stderr",
     "text": [
      "Training: 100%|██████████| 112/112 [00:42<00:00,  2.62it/s]\n"
     ]
    },
    {
     "output_type": "stream",
     "name": "stdout",
     "text": [
      "LOSS train 0.1585\n"
     ]
    },
    {
     "output_type": "stream",
     "name": "stderr",
     "text": [
      "Validating: 100%|██████████| 28/28 [00:10<00:00,  2.76it/s]\n"
     ]
    },
    {
     "output_type": "stream",
     "name": "stdout",
     "text": [
      "LOSS valid 0.1730\n",
      "Accuracy valid 0.9311\n",
      "mIoU valid 0.8268\n",
      "IoU per class: Background=0.9028, Bleached=0.8350, Non-bleached=0.7427\n",
      "Custom Score valid 0.8264\n",
      "EPOCH 16/50:\n"
     ]
    },
    {
     "output_type": "stream",
     "name": "stderr",
     "text": [
      "Training: 100%|██████████| 112/112 [00:46<00:00,  2.40it/s]\n"
     ]
    },
    {
     "output_type": "stream",
     "name": "stdout",
     "text": [
      "LOSS train 0.1698\n"
     ]
    },
    {
     "output_type": "stream",
     "name": "stderr",
     "text": [
      "Validating: 100%|██████████| 28/28 [00:09<00:00,  2.81it/s]\n"
     ]
    },
    {
     "output_type": "stream",
     "name": "stdout",
     "text": [
      "LOSS valid 0.1573\n",
      "Accuracy valid 0.9356\n",
      "mIoU valid 0.8434\n",
      "IoU per class: Background=0.9098, Bleached=0.8360, Non-bleached=0.7845\n",
      "Custom Score valid 0.8433\n",
      "EPOCH 17/50:\n"
     ]
    },
    {
     "output_type": "stream",
     "name": "stderr",
     "text": [
      "Training: 100%|██████████| 112/112 [00:41<00:00,  2.72it/s]\n"
     ]
    },
    {
     "output_type": "stream",
     "name": "stdout",
     "text": [
      "LOSS train 0.1550\n"
     ]
    },
    {
     "output_type": "stream",
     "name": "stderr",
     "text": [
      "Validating: 100%|██████████| 28/28 [00:10<00:00,  2.76it/s]\n"
     ]
    },
    {
     "output_type": "stream",
     "name": "stdout",
     "text": [
      "LOSS valid 0.1655\n",
      "Accuracy valid 0.9329\n",
      "mIoU valid 0.8293\n",
      "IoU per class: Background=0.9064, Bleached=0.8245, Non-bleached=0.7570\n",
      "Custom Score valid 0.8284\n",
      "EPOCH 18/50:\n"
     ]
    },
    {
     "output_type": "stream",
     "name": "stderr",
     "text": [
      "Training: 100%|██████████| 112/112 [00:39<00:00,  2.80it/s]\n"
     ]
    },
    {
     "output_type": "stream",
     "name": "stdout",
     "text": [
      "LOSS train 0.1631\n"
     ]
    },
    {
     "output_type": "stream",
     "name": "stderr",
     "text": [
      "Validating: 100%|██████████| 28/28 [00:09<00:00,  2.82it/s]\n"
     ]
    },
    {
     "output_type": "stream",
     "name": "stdout",
     "text": [
      "LOSS valid 0.1750\n",
      "Accuracy valid 0.9245\n",
      "mIoU valid 0.8074\n",
      "IoU per class: Background=0.8892, Bleached=0.7842, Non-bleached=0.7487\n",
      "Custom Score valid 0.8079\n",
      "EPOCH 19/50:\n"
     ]
    },
    {
     "output_type": "stream",
     "name": "stderr",
     "text": [
      "Training: 100%|██████████| 112/112 [00:41<00:00,  2.70it/s]\n"
     ]
    },
    {
     "output_type": "stream",
     "name": "stdout",
     "text": [
      "LOSS train 0.1681\n"
     ]
    },
    {
     "output_type": "stream",
     "name": "stderr",
     "text": [
      "Validating: 100%|██████████| 28/28 [00:10<00:00,  2.75it/s]\n"
     ]
    },
    {
     "output_type": "stream",
     "name": "stdout",
     "text": [
      "LOSS valid 0.1622\n",
      "Accuracy valid 0.9339\n",
      "mIoU valid 0.8362\n",
      "IoU per class: Background=0.9063, Bleached=0.8242, Non-bleached=0.7782\n",
      "Custom Score valid 0.8362\n",
      "EPOCH 20/50:\n"
     ]
    },
    {
     "output_type": "stream",
     "name": "stderr",
     "text": [
      "Training: 100%|██████████| 112/112 [00:41<00:00,  2.68it/s]\n"
     ]
    },
    {
     "output_type": "stream",
     "name": "stdout",
     "text": [
      "LOSS train 0.1583\n"
     ]
    },
    {
     "output_type": "stream",
     "name": "stderr",
     "text": [
      "Validating: 100%|██████████| 28/28 [00:10<00:00,  2.73it/s]\n"
     ]
    },
    {
     "output_type": "stream",
     "name": "stdout",
     "text": [
      "LOSS valid 0.1611\n",
      "Accuracy valid 0.9349\n",
      "mIoU valid 0.8424\n",
      "IoU per class: Background=0.9091, Bleached=0.8406, Non-bleached=0.7776\n",
      "Custom Score valid 0.8422\n",
      "EPOCH 21/50:\n"
     ]
    },
    {
     "output_type": "stream",
     "name": "stderr",
     "text": [
      "Training: 100%|██████████| 112/112 [00:41<00:00,  2.72it/s]\n"
     ]
    },
    {
     "output_type": "stream",
     "name": "stdout",
     "text": [
      "LOSS train 0.1618\n"
     ]
    },
    {
     "output_type": "stream",
     "name": "stderr",
     "text": [
      "Validating: 100%|██████████| 28/28 [00:09<00:00,  2.87it/s]\n"
     ]
    },
    {
     "output_type": "stream",
     "name": "stdout",
     "text": [
      "LOSS valid 0.1659\n",
      "Accuracy valid 0.9312\n",
      "mIoU valid 0.8332\n",
      "IoU per class: Background=0.8969, Bleached=0.8122, Non-bleached=0.7903\n",
      "Custom Score valid 0.8349\n",
      "EPOCH 22/50:\n"
     ]
    },
    {
     "output_type": "stream",
     "name": "stderr",
     "text": [
      "Training: 100%|██████████| 112/112 [00:41<00:00,  2.72it/s]\n"
     ]
    },
    {
     "output_type": "stream",
     "name": "stdout",
     "text": [
      "LOSS train 0.1537\n"
     ]
    },
    {
     "output_type": "stream",
     "name": "stderr",
     "text": [
      "Validating: 100%|██████████| 28/28 [00:10<00:00,  2.72it/s]\n"
     ]
    },
    {
     "output_type": "stream",
     "name": "stdout",
     "text": [
      "LOSS valid 0.1719\n",
      "Accuracy valid 0.9300\n",
      "mIoU valid 0.8122\n",
      "IoU per class: Background=0.8991, Bleached=0.7683, Non-bleached=0.7692\n",
      "Custom Score valid 0.8114\n",
      "EPOCH 23/50:\n"
     ]
    },
    {
     "output_type": "stream",
     "name": "stderr",
     "text": [
      "Training: 100%|██████████| 112/112 [00:41<00:00,  2.70it/s]\n"
     ]
    },
    {
     "output_type": "stream",
     "name": "stdout",
     "text": [
      "LOSS train 0.1554\n"
     ]
    },
    {
     "output_type": "stream",
     "name": "stderr",
     "text": [
      "Validating: 100%|██████████| 28/28 [00:10<00:00,  2.77it/s]\n"
     ]
    },
    {
     "output_type": "stream",
     "name": "stdout",
     "text": [
      "LOSS valid 0.1729\n",
      "Accuracy valid 0.9302\n",
      "mIoU valid 0.8110\n",
      "IoU per class: Background=0.9059, Bleached=0.7899, Non-bleached=0.7371\n",
      "Custom Score valid 0.8083\n",
      "EPOCH 24/50:\n"
     ]
    },
    {
     "output_type": "stream",
     "name": "stderr",
     "text": [
      "Training: 100%|██████████| 112/112 [00:44<00:00,  2.53it/s]\n"
     ]
    },
    {
     "output_type": "stream",
     "name": "stdout",
     "text": [
      "LOSS train 0.1531\n"
     ]
    },
    {
     "output_type": "stream",
     "name": "stderr",
     "text": [
      "Validating: 100%|██████████| 28/28 [00:10<00:00,  2.66it/s]\n"
     ]
    },
    {
     "output_type": "stream",
     "name": "stdout",
     "text": [
      "LOSS valid 0.1794\n",
      "Accuracy valid 0.9280\n",
      "mIoU valid 0.8193\n",
      "IoU per class: Background=0.9026, Bleached=0.7981, Non-bleached=0.7572\n",
      "Custom Score valid 0.8177\n",
      "EPOCH 25/50:\n"
     ]
    },
    {
     "output_type": "stream",
     "name": "stderr",
     "text": [
      "Training: 100%|██████████| 112/112 [00:40<00:00,  2.74it/s]\n"
     ]
    },
    {
     "output_type": "stream",
     "name": "stdout",
     "text": [
      "LOSS train 0.1531\n"
     ]
    },
    {
     "output_type": "stream",
     "name": "stderr",
     "text": [
      "Validating: 100%|██████████| 28/28 [00:09<00:00,  2.82it/s]\n"
     ]
    },
    {
     "output_type": "stream",
     "name": "stdout",
     "text": [
      "LOSS valid 0.1765\n",
      "Accuracy valid 0.9304\n",
      "mIoU valid 0.8205\n",
      "IoU per class: Background=0.9002, Bleached=0.8004, Non-bleached=0.7608\n",
      "Custom Score valid 0.8201\n",
      "EPOCH 26/50:\n"
     ]
    },
    {
     "output_type": "stream",
     "name": "stderr",
     "text": [
      "Training: 100%|██████████| 112/112 [00:42<00:00,  2.66it/s]\n"
     ]
    },
    {
     "output_type": "stream",
     "name": "stdout",
     "text": [
      "LOSS train 0.1615\n"
     ]
    },
    {
     "output_type": "stream",
     "name": "stderr",
     "text": [
      "Validating: 100%|██████████| 28/28 [00:09<00:00,  2.86it/s]\n"
     ]
    },
    {
     "output_type": "stream",
     "name": "stdout",
     "text": [
      "LOSS valid 0.1675\n",
      "Accuracy valid 0.9333\n",
      "mIoU valid 0.8321\n",
      "IoU per class: Background=0.9085, Bleached=0.8116, Non-bleached=0.7762\n",
      "Custom Score valid 0.8309\n",
      "EPOCH 27/50:\n"
     ]
    },
    {
     "output_type": "stream",
     "name": "stderr",
     "text": [
      "Training: 100%|██████████| 112/112 [00:43<00:00,  2.56it/s]\n"
     ]
    },
    {
     "output_type": "stream",
     "name": "stdout",
     "text": [
      "LOSS train 0.1583\n"
     ]
    },
    {
     "output_type": "stream",
     "name": "stderr",
     "text": [
      "Validating: 100%|██████████| 28/28 [00:10<00:00,  2.77it/s]\n"
     ]
    },
    {
     "output_type": "stream",
     "name": "stdout",
     "text": [
      "LOSS valid 0.1779\n",
      "Accuracy valid 0.9289\n",
      "mIoU valid 0.8298\n",
      "IoU per class: Background=0.9030, Bleached=0.8223, Non-bleached=0.7642\n",
      "Custom Score valid 0.8292\n",
      "EPOCH 28/50:\n"
     ]
    },
    {
     "output_type": "stream",
     "name": "stderr",
     "text": [
      "Training: 100%|██████████| 112/112 [00:41<00:00,  2.68it/s]\n"
     ]
    },
    {
     "output_type": "stream",
     "name": "stdout",
     "text": [
      "LOSS train 0.1564\n"
     ]
    },
    {
     "output_type": "stream",
     "name": "stderr",
     "text": [
      "Validating: 100%|██████████| 28/28 [00:10<00:00,  2.58it/s]\n"
     ]
    },
    {
     "output_type": "stream",
     "name": "stdout",
     "text": [
      "LOSS valid 0.1868\n",
      "Accuracy valid 0.9232\n",
      "mIoU valid 0.8039\n",
      "IoU per class: Background=0.8899, Bleached=0.7920, Non-bleached=0.7299\n",
      "Custom Score valid 0.8037\n",
      "EPOCH 29/50:\n"
     ]
    },
    {
     "output_type": "stream",
     "name": "stderr",
     "text": [
      "Training: 100%|██████████| 112/112 [00:45<00:00,  2.49it/s]\n"
     ]
    },
    {
     "output_type": "stream",
     "name": "stdout",
     "text": [
      "LOSS train 0.1551\n"
     ]
    },
    {
     "output_type": "stream",
     "name": "stderr",
     "text": [
      "Validating: 100%|██████████| 28/28 [00:10<00:00,  2.70it/s]\n"
     ]
    },
    {
     "output_type": "stream",
     "name": "stdout",
     "text": [
      "LOSS valid 0.1664\n",
      "Accuracy valid 0.9316\n",
      "mIoU valid 0.8110\n",
      "IoU per class: Background=0.9075, Bleached=0.7514, Non-bleached=0.7741\n",
      "Custom Score valid 0.8081\n",
      "EPOCH 30/50:\n"
     ]
    },
    {
     "output_type": "stream",
     "name": "stderr",
     "text": [
      "Training: 100%|██████████| 112/112 [00:41<00:00,  2.73it/s]\n"
     ]
    },
    {
     "output_type": "stream",
     "name": "stdout",
     "text": [
      "LOSS train 0.1636\n"
     ]
    },
    {
     "output_type": "stream",
     "name": "stderr",
     "text": [
      "Validating: 100%|██████████| 28/28 [00:09<00:00,  2.85it/s]\n"
     ]
    },
    {
     "output_type": "stream",
     "name": "stdout",
     "text": [
      "LOSS valid 0.1808\n",
      "Accuracy valid 0.9265\n",
      "mIoU valid 0.8224\n",
      "IoU per class: Background=0.8977, Bleached=0.8221, Non-bleached=0.7473\n",
      "Custom Score valid 0.8221\n",
      "EPOCH 31/50:\n"
     ]
    },
    {
     "output_type": "stream",
     "name": "stderr",
     "text": [
      "Training: 100%|██████████| 112/112 [00:41<00:00,  2.72it/s]\n"
     ]
    },
    {
     "output_type": "stream",
     "name": "stdout",
     "text": [
      "LOSS train 0.1578\n"
     ]
    },
    {
     "output_type": "stream",
     "name": "stderr",
     "text": [
      "Validating: 100%|██████████| 28/28 [00:10<00:00,  2.80it/s]\n"
     ]
    },
    {
     "output_type": "stream",
     "name": "stdout",
     "text": [
      "LOSS valid 0.1825\n",
      "Accuracy valid 0.9253\n",
      "mIoU valid 0.8143\n",
      "IoU per class: Background=0.8991, Bleached=0.7939, Non-bleached=0.7499\n",
      "Custom Score valid 0.8128\n",
      "EPOCH 32/50:\n"
     ]
    },
    {
     "output_type": "stream",
     "name": "stderr",
     "text": [
      "Training: 100%|██████████| 112/112 [00:41<00:00,  2.73it/s]\n"
     ]
    },
    {
     "output_type": "stream",
     "name": "stdout",
     "text": [
      "LOSS train 0.1496\n"
     ]
    },
    {
     "output_type": "stream",
     "name": "stderr",
     "text": [
      "Validating: 100%|██████████| 28/28 [00:10<00:00,  2.76it/s]\n"
     ]
    },
    {
     "output_type": "stream",
     "name": "stdout",
     "text": [
      "LOSS valid 0.1777\n",
      "Accuracy valid 0.9292\n",
      "mIoU valid 0.8354\n",
      "IoU per class: Background=0.8991, Bleached=0.8277, Non-bleached=0.7794\n",
      "Custom Score valid 0.8363\n",
      "EPOCH 33/50:\n"
     ]
    },
    {
     "output_type": "stream",
     "name": "stderr",
     "text": [
      "Training: 100%|██████████| 112/112 [00:41<00:00,  2.72it/s]\n"
     ]
    },
    {
     "output_type": "stream",
     "name": "stdout",
     "text": [
      "LOSS train 0.1528\n"
     ]
    },
    {
     "output_type": "stream",
     "name": "stderr",
     "text": [
      "Validating: 100%|██████████| 28/28 [00:10<00:00,  2.71it/s]\n"
     ]
    },
    {
     "output_type": "stream",
     "name": "stdout",
     "text": [
      "LOSS valid 0.1978\n",
      "Accuracy valid 0.9238\n",
      "mIoU valid 0.8025\n",
      "IoU per class: Background=0.8993, Bleached=0.7634, Non-bleached=0.7446\n",
      "Custom Score valid 0.7996\n",
      "EPOCH 34/50:\n"
     ]
    },
    {
     "output_type": "stream",
     "name": "stderr",
     "text": [
      "Training: 100%|██████████| 112/112 [00:41<00:00,  2.68it/s]\n"
     ]
    },
    {
     "output_type": "stream",
     "name": "stdout",
     "text": [
      "LOSS train 0.1925\n"
     ]
    },
    {
     "output_type": "stream",
     "name": "stderr",
     "text": [
      "Validating: 100%|██████████| 28/28 [00:10<00:00,  2.64it/s]\n"
     ]
    },
    {
     "output_type": "stream",
     "name": "stdout",
     "text": [
      "LOSS valid 0.1825\n",
      "Accuracy valid 0.9262\n",
      "mIoU valid 0.8019\n",
      "IoU per class: Background=0.9000, Bleached=0.7645, Non-bleached=0.7411\n",
      "Custom Score valid 0.7993\n",
      "EPOCH 35/50:\n"
     ]
    },
    {
     "output_type": "stream",
     "name": "stderr",
     "text": [
      "Training: 100%|██████████| 112/112 [00:41<00:00,  2.72it/s]\n"
     ]
    },
    {
     "output_type": "stream",
     "name": "stdout",
     "text": [
      "LOSS train 0.1562\n"
     ]
    },
    {
     "output_type": "stream",
     "name": "stderr",
     "text": [
      "Validating: 100%|██████████| 28/28 [00:10<00:00,  2.60it/s]\n"
     ]
    },
    {
     "output_type": "stream",
     "name": "stdout",
     "text": [
      "LOSS valid 0.2009\n",
      "Accuracy valid 0.9188\n",
      "mIoU valid 0.8034\n",
      "IoU per class: Background=0.8834, Bleached=0.7765, Non-bleached=0.7502\n",
      "Custom Score valid 0.8040\n",
      "EPOCH 36/50:\n"
     ]
    },
    {
     "output_type": "stream",
     "name": "stderr",
     "text": [
      "Training: 100%|██████████| 112/112 [00:40<00:00,  2.76it/s]\n"
     ]
    },
    {
     "output_type": "stream",
     "name": "stdout",
     "text": [
      "LOSS train 0.1790\n"
     ]
    },
    {
     "output_type": "stream",
     "name": "stderr",
     "text": [
      "Validating: 100%|██████████| 28/28 [00:10<00:00,  2.69it/s]\n"
     ]
    },
    {
     "output_type": "stream",
     "name": "stdout",
     "text": [
      "LOSS valid 0.2415\n",
      "Accuracy valid 0.9147\n",
      "mIoU valid 0.7808\n",
      "IoU per class: Background=0.8855, Bleached=0.7575, Non-bleached=0.6995\n",
      "Custom Score valid 0.7783\n",
      "EPOCH 37/50:\n"
     ]
    },
    {
     "output_type": "stream",
     "name": "stderr",
     "text": [
      "Training: 100%|██████████| 112/112 [00:41<00:00,  2.67it/s]\n"
     ]
    },
    {
     "output_type": "stream",
     "name": "stdout",
     "text": [
      "LOSS train 0.1820\n"
     ]
    },
    {
     "output_type": "stream",
     "name": "stderr",
     "text": [
      "Validating: 100%|██████████| 28/28 [00:10<00:00,  2.68it/s]\n"
     ]
    },
    {
     "output_type": "stream",
     "name": "stdout",
     "text": [
      "LOSS valid 0.2287\n",
      "Accuracy valid 0.9166\n",
      "mIoU valid 0.8033\n",
      "IoU per class: Background=0.8832, Bleached=0.7952, Non-bleached=0.7314\n",
      "Custom Score valid 0.8036\n",
      "EPOCH 38/50:\n"
     ]
    },
    {
     "output_type": "stream",
     "name": "stderr",
     "text": [
      "Training: 100%|██████████| 112/112 [00:42<00:00,  2.62it/s]\n"
     ]
    },
    {
     "output_type": "stream",
     "name": "stdout",
     "text": [
      "LOSS train 0.1621\n"
     ]
    },
    {
     "output_type": "stream",
     "name": "stderr",
     "text": [
      "Validating: 100%|██████████| 28/28 [00:10<00:00,  2.69it/s]\n"
     ]
    },
    {
     "output_type": "stream",
     "name": "stdout",
     "text": [
      "LOSS valid 0.2091\n",
      "Accuracy valid 0.9170\n",
      "mIoU valid 0.8013\n",
      "IoU per class: Background=0.8843, Bleached=0.7882, Non-bleached=0.7314\n",
      "Custom Score valid 0.8012\n",
      "EPOCH 39/50:\n"
     ]
    },
    {
     "output_type": "stream",
     "name": "stderr",
     "text": [
      "Training: 100%|██████████| 112/112 [00:42<00:00,  2.65it/s]\n"
     ]
    },
    {
     "output_type": "stream",
     "name": "stdout",
     "text": [
      "LOSS train 0.1630\n"
     ]
    },
    {
     "output_type": "stream",
     "name": "stderr",
     "text": [
      "Validating: 100%|██████████| 28/28 [00:09<00:00,  2.83it/s]\n"
     ]
    },
    {
     "output_type": "stream",
     "name": "stdout",
     "text": [
      "LOSS valid 0.1863\n",
      "Accuracy valid 0.9255\n",
      "mIoU valid 0.8219\n",
      "IoU per class: Background=0.8919, Bleached=0.8115, Non-bleached=0.7622\n",
      "Custom Score valid 0.8230\n",
      "EPOCH 40/50:\n"
     ]
    },
    {
     "output_type": "stream",
     "name": "stderr",
     "text": [
      "Training: 100%|██████████| 112/112 [00:40<00:00,  2.77it/s]\n"
     ]
    },
    {
     "output_type": "stream",
     "name": "stdout",
     "text": [
      "LOSS train 0.1555\n"
     ]
    },
    {
     "output_type": "stream",
     "name": "stderr",
     "text": [
      "Validating: 100%|██████████| 28/28 [00:09<00:00,  2.81it/s]\n"
     ]
    },
    {
     "output_type": "stream",
     "name": "stdout",
     "text": [
      "LOSS valid 0.2249\n",
      "Accuracy valid 0.9200\n",
      "mIoU valid 0.7997\n",
      "IoU per class: Background=0.8793, Bleached=0.7803, Non-bleached=0.7395\n",
      "Custom Score valid 0.8015\n",
      "EPOCH 41/50:\n"
     ]
    },
    {
     "output_type": "stream",
     "name": "stderr",
     "text": [
      "Training: 100%|██████████| 112/112 [00:41<00:00,  2.67it/s]\n"
     ]
    },
    {
     "output_type": "stream",
     "name": "stdout",
     "text": [
      "LOSS train 0.1569\n"
     ]
    },
    {
     "output_type": "stream",
     "name": "stderr",
     "text": [
      "Validating: 100%|██████████| 28/28 [00:09<00:00,  2.85it/s]\n"
     ]
    },
    {
     "output_type": "stream",
     "name": "stdout",
     "text": [
      "LOSS valid 0.2213\n",
      "Accuracy valid 0.9139\n",
      "mIoU valid 0.7961\n",
      "IoU per class: Background=0.8793, Bleached=0.7622, Non-bleached=0.7466\n",
      "Custom Score valid 0.7963\n",
      "EPOCH 42/50:\n"
     ]
    },
    {
     "output_type": "stream",
     "name": "stderr",
     "text": [
      "Training: 100%|██████████| 112/112 [00:41<00:00,  2.67it/s]\n"
     ]
    },
    {
     "output_type": "stream",
     "name": "stdout",
     "text": [
      "LOSS train 0.1540\n"
     ]
    },
    {
     "output_type": "stream",
     "name": "stderr",
     "text": [
      "Validating: 100%|██████████| 28/28 [00:10<00:00,  2.62it/s]\n"
     ]
    },
    {
     "output_type": "stream",
     "name": "stdout",
     "text": [
      "LOSS valid 0.1807\n",
      "Accuracy valid 0.9281\n",
      "mIoU valid 0.8116\n",
      "IoU per class: Background=0.8963, Bleached=0.7604, Non-bleached=0.7782\n",
      "Custom Score valid 0.8112\n",
      "EPOCH 43/50:\n"
     ]
    },
    {
     "output_type": "stream",
     "name": "stderr",
     "text": [
      "Training: 100%|██████████| 112/112 [00:46<00:00,  2.43it/s]\n"
     ]
    },
    {
     "output_type": "stream",
     "name": "stdout",
     "text": [
      "LOSS train 0.1563\n"
     ]
    },
    {
     "output_type": "stream",
     "name": "stderr",
     "text": [
      "Validating: 100%|██████████| 28/28 [00:10<00:00,  2.73it/s]\n"
     ]
    },
    {
     "output_type": "stream",
     "name": "stdout",
     "text": [
      "LOSS valid 0.2415\n",
      "Accuracy valid 0.9105\n",
      "mIoU valid 0.7709\n",
      "IoU per class: Background=0.8934, Bleached=0.6996, Non-bleached=0.7198\n",
      "Custom Score valid 0.7645\n",
      "EPOCH 44/50:\n"
     ]
    },
    {
     "output_type": "stream",
     "name": "stderr",
     "text": [
      "Training: 100%|██████████| 112/112 [00:43<00:00,  2.59it/s]\n"
     ]
    },
    {
     "output_type": "stream",
     "name": "stdout",
     "text": [
      "LOSS train 0.1591\n"
     ]
    },
    {
     "output_type": "stream",
     "name": "stderr",
     "text": [
      "Validating: 100%|██████████| 28/28 [00:09<00:00,  2.84it/s]\n"
     ]
    },
    {
     "output_type": "stream",
     "name": "stdout",
     "text": [
      "LOSS valid 0.1997\n",
      "Accuracy valid 0.9252\n",
      "mIoU valid 0.8132\n",
      "IoU per class: Background=0.8918, Bleached=0.7848, Non-bleached=0.7631\n",
      "Custom Score valid 0.8136\n",
      "EPOCH 45/50:\n"
     ]
    },
    {
     "output_type": "stream",
     "name": "stderr",
     "text": [
      "Training: 100%|██████████| 112/112 [00:41<00:00,  2.70it/s]\n"
     ]
    },
    {
     "output_type": "stream",
     "name": "stdout",
     "text": [
      "LOSS train 0.1519\n"
     ]
    },
    {
     "output_type": "stream",
     "name": "stderr",
     "text": [
      "Validating: 100%|██████████| 28/28 [00:10<00:00,  2.71it/s]\n"
     ]
    },
    {
     "output_type": "stream",
     "name": "stdout",
     "text": [
      "LOSS valid 0.2908\n",
      "Accuracy valid 0.8937\n",
      "mIoU valid 0.7638\n",
      "IoU per class: Background=0.8610, Bleached=0.7324, Non-bleached=0.6982\n",
      "Custom Score valid 0.7626\n",
      "EPOCH 46/50:\n"
     ]
    },
    {
     "output_type": "stream",
     "name": "stderr",
     "text": [
      "Training: 100%|██████████| 112/112 [00:43<00:00,  2.59it/s]\n"
     ]
    },
    {
     "output_type": "stream",
     "name": "stdout",
     "text": [
      "LOSS train 0.1653\n"
     ]
    },
    {
     "output_type": "stream",
     "name": "stderr",
     "text": [
      "Validating: 100%|██████████| 28/28 [00:10<00:00,  2.79it/s]\n"
     ]
    },
    {
     "output_type": "stream",
     "name": "stdout",
     "text": [
      "LOSS valid 0.2052\n",
      "Accuracy valid 0.9181\n",
      "mIoU valid 0.8065\n",
      "IoU per class: Background=0.8834, Bleached=0.7993, Non-bleached=0.7369\n",
      "Custom Score valid 0.8073\n",
      "EPOCH 47/50:\n"
     ]
    },
    {
     "output_type": "stream",
     "name": "stderr",
     "text": [
      "Training: 100%|██████████| 112/112 [00:40<00:00,  2.75it/s]\n"
     ]
    },
    {
     "output_type": "stream",
     "name": "stdout",
     "text": [
      "LOSS train 0.1519\n"
     ]
    },
    {
     "output_type": "stream",
     "name": "stderr",
     "text": [
      "Validating: 100%|██████████| 28/28 [00:09<00:00,  2.90it/s]\n"
     ]
    },
    {
     "output_type": "stream",
     "name": "stdout",
     "text": [
      "LOSS valid 0.1718\n",
      "Accuracy valid 0.9298\n",
      "mIoU valid 0.8142\n",
      "IoU per class: Background=0.9028, Bleached=0.7728, Non-bleached=0.7670\n",
      "Custom Score valid 0.8125\n",
      "EPOCH 48/50:\n"
     ]
    },
    {
     "output_type": "stream",
     "name": "stderr",
     "text": [
      "Training: 100%|██████████| 112/112 [00:40<00:00,  2.76it/s]\n"
     ]
    },
    {
     "output_type": "stream",
     "name": "stdout",
     "text": [
      "LOSS train 0.1475\n"
     ]
    },
    {
     "output_type": "stream",
     "name": "stderr",
     "text": [
      "Validating: 100%|██████████| 28/28 [00:10<00:00,  2.78it/s]\n"
     ]
    },
    {
     "output_type": "stream",
     "name": "stdout",
     "text": [
      "LOSS valid 0.1991\n",
      "Accuracy valid 0.9242\n",
      "mIoU valid 0.7968\n",
      "IoU per class: Background=0.8970, Bleached=0.7536, Non-bleached=0.7399\n",
      "Custom Score valid 0.7942\n",
      "EPOCH 49/50:\n"
     ]
    },
    {
     "output_type": "stream",
     "name": "stderr",
     "text": [
      "Training: 100%|██████████| 112/112 [00:40<00:00,  2.74it/s]\n"
     ]
    },
    {
     "output_type": "stream",
     "name": "stdout",
     "text": [
      "LOSS train 0.1460\n"
     ]
    },
    {
     "output_type": "stream",
     "name": "stderr",
     "text": [
      "Validating: 100%|██████████| 28/28 [00:10<00:00,  2.77it/s]\n"
     ]
    },
    {
     "output_type": "stream",
     "name": "stdout",
     "text": [
      "LOSS valid 0.2105\n",
      "Accuracy valid 0.9133\n",
      "mIoU valid 0.7815\n",
      "IoU per class: Background=0.8779, Bleached=0.7797, Non-bleached=0.6869\n",
      "Custom Score valid 0.7809\n",
      "EPOCH 50/50:\n"
     ]
    },
    {
     "output_type": "stream",
     "name": "stderr",
     "text": [
      "Training: 100%|██████████| 112/112 [00:44<00:00,  2.54it/s]\n"
     ]
    },
    {
     "output_type": "stream",
     "name": "stdout",
     "text": [
      "LOSS train 0.1495\n"
     ]
    },
    {
     "output_type": "stream",
     "name": "stderr",
     "text": [
      "Validating: 100%|██████████| 28/28 [00:10<00:00,  2.76it/s]\n"
     ]
    },
    {
     "output_type": "stream",
     "name": "stdout",
     "text": [
      "LOSS valid 0.1824\n",
      "Accuracy valid 0.9276\n",
      "mIoU valid 0.8269\n",
      "IoU per class: Background=0.8990, Bleached=0.8175, Non-bleached=0.7640\n",
      "Custom Score valid 0.8268\n",
      "\n",
      "Saved best overall model checkpoint to ./checkpoints_og_reefsupport/best_overall_model.pth (Custom Score: 0.8517)\n",
      "\n",
      "Average Final mIoU across folds: 0.7495\n",
      "Best mIoU across all folds: 0.8520\n",
      "Average Final Custom Score across folds: 0.7473\n",
      "Best Custom Score across all folds: 0.8517\n",
      "\n",
      "Best overall model found in Fold 5, Epoch 2 with Custom Score: 0.8517\n",
      "==================================================\n"
     ]
    }
   ]
  },
  {
   "cell_type": "code",
   "source": [],
   "metadata": {
    "id": "dyoGbgfSepHG"
   },
   "execution_count": null,
   "outputs": []
  },
  {
   "cell_type": "markdown",
   "source": [
    "**Inference Elvir**"
   ],
   "metadata": {
    "id": "FQxKat0yPIaK"
   }
  },
  {
   "cell_type": "code",
   "source": [
    "from google.colab import drive\n",
    "drive.mount('/content/drive')\n",
    "%cd /content/drive/MyDrive/Data\\ Challenge\\ 3\\ Group\\ 3\n",
    "!git clone https://github.com/eceo-epfl/coralscapesScripts.git\n",
    "%cd coralscapesScripts\n",
    "!pip install albumentations transformers torch segmentation_models_pytorch torchmetrics peft matplotlib\n",
    "import sys\n",
    "import os\n",
    "cur = os.path.join(os.getcwd(), '..')\n",
    "print(cur)\n",
    "proj_path = os.path.abspath(\n",
    "    os.path.join(os.getcwd(), '..')\n",
    ")\n",
    "coralpath = os.path.join(proj_path, 'coralscapesScripts')\n",
    "print(coralpath)\n",
    "sys.path.insert(0, coralpath)\n",
    "print(\n",
    "    sys.path\n",
    ")\n",
    "!ls\n",
    "%cd coralscapesScripts\n",
    "from coralscapesScripts.datasets.dataset import Coralscapes\n",
    "from coralscapesScripts.datasets.preprocess import get_preprocessor\n",
    "from coralscapesScripts.datasets.utils import calculate_weights\n",
    "from coralscapesScripts.segmentation.model import Benchmark_Run\n",
    "from coralscapesScripts.segmentation.benchmarking import launch_benchmark\n",
    "from coralscapesScripts.visualization import show_samples\n",
    "from coralscapesScripts.logger import Logger, save_benchmark_run\n",
    "from coralscapesScripts.io import setup_config, get_parser, update_config_with_args\n",
    "import copy\n",
    "from collections import namedtuple\n",
    "import json\n",
    "import torch\n",
    "\n",
    "seed = 42\n",
    "torch.manual_seed(seed)\n",
    "torch.cuda.manual_seed(seed)\n",
    "torch.backends.cudnn.deterministic = True\n",
    "torch.backends.cudnn.benchmark = True\n",
    "device_count = torch.cuda.device_count()\n",
    "for i in range(device_count):\n",
    "    print(f\"CUDA Device {i}: {torch.cuda.get_device_name(i)}\")\n",
    "device = torch.device(\"cuda\") if torch.cuda.is_available() else torch.device(\"cpu\")\n",
    "device\n",
    "cfg = setup_config(config_path='configs/segformer-mit-b2_lora.yaml', config_base_path='configs/base.yaml')\n",
    "args_input = \"--run-name=fine_tune_notebook --batch-size=4 --batch-size-eval=2 --epochs=50\"\n",
    "args_input = args_input.split(\" \")\n",
    "parser = get_parser()\n",
    "args = parser.parse_args(args_input)\n",
    "cfg = update_config_with_args(cfg, args)\n",
    "cfg_logger = copy.deepcopy(cfg)"
   ],
   "metadata": {
    "colab": {
     "base_uri": "https://localhost:8080/"
    },
    "id": "cfiGa1Q4-pLy",
    "outputId": "6a6d26ad-67ab-4faf-ecc0-ae4a8fe0cae9"
   },
   "execution_count": 1,
   "outputs": [
    {
     "output_type": "stream",
     "name": "stdout",
     "text": [
      "Mounted at /content/drive\n",
      "/content/drive/.shortcut-targets-by-id/15pPCEVRFyHb3JQkFSnP8L6a0_nfm8ijp/Data Challenge 3 Group 3\n",
      "fatal: destination path 'coralscapesScripts' already exists and is not an empty directory.\n",
      "/content/drive/.shortcut-targets-by-id/15pPCEVRFyHb3JQkFSnP8L6a0_nfm8ijp/Data Challenge 3 Group 3/coralscapesScripts\n",
      "Requirement already satisfied: albumentations in /usr/local/lib/python3.12/dist-packages (2.0.8)\n",
      "Requirement already satisfied: transformers in /usr/local/lib/python3.12/dist-packages (4.57.1)\n",
      "Requirement already satisfied: torch in /usr/local/lib/python3.12/dist-packages (2.8.0+cu126)\n",
      "Collecting segmentation_models_pytorch\n",
      "  Downloading segmentation_models_pytorch-0.5.0-py3-none-any.whl.metadata (17 kB)\n",
      "Collecting torchmetrics\n",
      "  Downloading torchmetrics-1.8.2-py3-none-any.whl.metadata (22 kB)\n",
      "Requirement already satisfied: peft in /usr/local/lib/python3.12/dist-packages (0.17.1)\n",
      "Requirement already satisfied: matplotlib in /usr/local/lib/python3.12/dist-packages (3.10.0)\n",
      "Requirement already satisfied: numpy>=1.24.4 in /usr/local/lib/python3.12/dist-packages (from albumentations) (2.0.2)\n",
      "Requirement already satisfied: scipy>=1.10.0 in /usr/local/lib/python3.12/dist-packages (from albumentations) (1.16.2)\n",
      "Requirement already satisfied: PyYAML in /usr/local/lib/python3.12/dist-packages (from albumentations) (6.0.3)\n",
      "Requirement already satisfied: pydantic>=2.9.2 in /usr/local/lib/python3.12/dist-packages (from albumentations) (2.11.10)\n",
      "Requirement already satisfied: albucore==0.0.24 in /usr/local/lib/python3.12/dist-packages (from albumentations) (0.0.24)\n",
      "Requirement already satisfied: opencv-python-headless>=4.9.0.80 in /usr/local/lib/python3.12/dist-packages (from albumentations) (4.12.0.88)\n",
      "Requirement already satisfied: stringzilla>=3.10.4 in /usr/local/lib/python3.12/dist-packages (from albucore==0.0.24->albumentations) (4.2.1)\n",
      "Requirement already satisfied: simsimd>=5.9.2 in /usr/local/lib/python3.12/dist-packages (from albucore==0.0.24->albumentations) (6.5.3)\n",
      "Requirement already satisfied: filelock in /usr/local/lib/python3.12/dist-packages (from transformers) (3.20.0)\n",
      "Requirement already satisfied: huggingface-hub<1.0,>=0.34.0 in /usr/local/lib/python3.12/dist-packages (from transformers) (0.35.3)\n",
      "Requirement already satisfied: packaging>=20.0 in /usr/local/lib/python3.12/dist-packages (from transformers) (25.0)\n",
      "Requirement already satisfied: regex!=2019.12.17 in /usr/local/lib/python3.12/dist-packages (from transformers) (2024.11.6)\n",
      "Requirement already satisfied: requests in /usr/local/lib/python3.12/dist-packages (from transformers) (2.32.4)\n",
      "Requirement already satisfied: tokenizers<=0.23.0,>=0.22.0 in /usr/local/lib/python3.12/dist-packages (from transformers) (0.22.1)\n",
      "Requirement already satisfied: safetensors>=0.4.3 in /usr/local/lib/python3.12/dist-packages (from transformers) (0.6.2)\n",
      "Requirement already satisfied: tqdm>=4.27 in /usr/local/lib/python3.12/dist-packages (from transformers) (4.67.1)\n",
      "Requirement already satisfied: typing-extensions>=4.10.0 in /usr/local/lib/python3.12/dist-packages (from torch) (4.15.0)\n",
      "Requirement already satisfied: setuptools in /usr/local/lib/python3.12/dist-packages (from torch) (75.2.0)\n",
      "Requirement already satisfied: sympy>=1.13.3 in /usr/local/lib/python3.12/dist-packages (from torch) (1.13.3)\n",
      "Requirement already satisfied: networkx in /usr/local/lib/python3.12/dist-packages (from torch) (3.5)\n",
      "Requirement already satisfied: jinja2 in /usr/local/lib/python3.12/dist-packages (from torch) (3.1.6)\n",
      "Requirement already satisfied: fsspec in /usr/local/lib/python3.12/dist-packages (from torch) (2025.3.0)\n",
      "Requirement already satisfied: nvidia-cuda-nvrtc-cu12==12.6.77 in /usr/local/lib/python3.12/dist-packages (from torch) (12.6.77)\n",
      "Requirement already satisfied: nvidia-cuda-runtime-cu12==12.6.77 in /usr/local/lib/python3.12/dist-packages (from torch) (12.6.77)\n",
      "Requirement already satisfied: nvidia-cuda-cupti-cu12==12.6.80 in /usr/local/lib/python3.12/dist-packages (from torch) (12.6.80)\n",
      "Requirement already satisfied: nvidia-cudnn-cu12==9.10.2.21 in /usr/local/lib/python3.12/dist-packages (from torch) (9.10.2.21)\n",
      "Requirement already satisfied: nvidia-cublas-cu12==12.6.4.1 in /usr/local/lib/python3.12/dist-packages (from torch) (12.6.4.1)\n",
      "Requirement already satisfied: nvidia-cufft-cu12==11.3.0.4 in /usr/local/lib/python3.12/dist-packages (from torch) (11.3.0.4)\n",
      "Requirement already satisfied: nvidia-curand-cu12==10.3.7.77 in /usr/local/lib/python3.12/dist-packages (from torch) (10.3.7.77)\n",
      "Requirement already satisfied: nvidia-cusolver-cu12==11.7.1.2 in /usr/local/lib/python3.12/dist-packages (from torch) (11.7.1.2)\n",
      "Requirement already satisfied: nvidia-cusparse-cu12==12.5.4.2 in /usr/local/lib/python3.12/dist-packages (from torch) (12.5.4.2)\n",
      "Requirement already satisfied: nvidia-cusparselt-cu12==0.7.1 in /usr/local/lib/python3.12/dist-packages (from torch) (0.7.1)\n",
      "Requirement already satisfied: nvidia-nccl-cu12==2.27.3 in /usr/local/lib/python3.12/dist-packages (from torch) (2.27.3)\n",
      "Requirement already satisfied: nvidia-nvtx-cu12==12.6.77 in /usr/local/lib/python3.12/dist-packages (from torch) (12.6.77)\n",
      "Requirement already satisfied: nvidia-nvjitlink-cu12==12.6.85 in /usr/local/lib/python3.12/dist-packages (from torch) (12.6.85)\n",
      "Requirement already satisfied: nvidia-cufile-cu12==1.11.1.6 in /usr/local/lib/python3.12/dist-packages (from torch) (1.11.1.6)\n",
      "Requirement already satisfied: triton==3.4.0 in /usr/local/lib/python3.12/dist-packages (from torch) (3.4.0)\n",
      "Requirement already satisfied: pillow>=8 in /usr/local/lib/python3.12/dist-packages (from segmentation_models_pytorch) (11.3.0)\n",
      "Requirement already satisfied: timm>=0.9 in /usr/local/lib/python3.12/dist-packages (from segmentation_models_pytorch) (1.0.20)\n",
      "Requirement already satisfied: torchvision>=0.9 in /usr/local/lib/python3.12/dist-packages (from segmentation_models_pytorch) (0.23.0+cu126)\n",
      "Collecting lightning-utilities>=0.8.0 (from torchmetrics)\n",
      "  Downloading lightning_utilities-0.15.2-py3-none-any.whl.metadata (5.7 kB)\n",
      "Requirement already satisfied: psutil in /usr/local/lib/python3.12/dist-packages (from peft) (5.9.5)\n",
      "Requirement already satisfied: accelerate>=0.21.0 in /usr/local/lib/python3.12/dist-packages (from peft) (1.10.1)\n",
      "Requirement already satisfied: contourpy>=1.0.1 in /usr/local/lib/python3.12/dist-packages (from matplotlib) (1.3.3)\n",
      "Requirement already satisfied: cycler>=0.10 in /usr/local/lib/python3.12/dist-packages (from matplotlib) (0.12.1)\n",
      "Requirement already satisfied: fonttools>=4.22.0 in /usr/local/lib/python3.12/dist-packages (from matplotlib) (4.60.1)\n",
      "Requirement already satisfied: kiwisolver>=1.3.1 in /usr/local/lib/python3.12/dist-packages (from matplotlib) (1.4.9)\n",
      "Requirement already satisfied: pyparsing>=2.3.1 in /usr/local/lib/python3.12/dist-packages (from matplotlib) (3.2.5)\n",
      "Requirement already satisfied: python-dateutil>=2.7 in /usr/local/lib/python3.12/dist-packages (from matplotlib) (2.9.0.post0)\n",
      "Requirement already satisfied: hf-xet<2.0.0,>=1.1.3 in /usr/local/lib/python3.12/dist-packages (from huggingface-hub<1.0,>=0.34.0->transformers) (1.1.10)\n",
      "Requirement already satisfied: annotated-types>=0.6.0 in /usr/local/lib/python3.12/dist-packages (from pydantic>=2.9.2->albumentations) (0.7.0)\n",
      "Requirement already satisfied: pydantic-core==2.33.2 in /usr/local/lib/python3.12/dist-packages (from pydantic>=2.9.2->albumentations) (2.33.2)\n",
      "Requirement already satisfied: typing-inspection>=0.4.0 in /usr/local/lib/python3.12/dist-packages (from pydantic>=2.9.2->albumentations) (0.4.2)\n",
      "Requirement already satisfied: six>=1.5 in /usr/local/lib/python3.12/dist-packages (from python-dateutil>=2.7->matplotlib) (1.17.0)\n",
      "Requirement already satisfied: mpmath<1.4,>=1.1.0 in /usr/local/lib/python3.12/dist-packages (from sympy>=1.13.3->torch) (1.3.0)\n",
      "Requirement already satisfied: MarkupSafe>=2.0 in /usr/local/lib/python3.12/dist-packages (from jinja2->torch) (3.0.3)\n",
      "Requirement already satisfied: charset_normalizer<4,>=2 in /usr/local/lib/python3.12/dist-packages (from requests->transformers) (3.4.4)\n",
      "Requirement already satisfied: idna<4,>=2.5 in /usr/local/lib/python3.12/dist-packages (from requests->transformers) (3.11)\n",
      "Requirement already satisfied: urllib3<3,>=1.21.1 in /usr/local/lib/python3.12/dist-packages (from requests->transformers) (2.5.0)\n",
      "Requirement already satisfied: certifi>=2017.4.17 in /usr/local/lib/python3.12/dist-packages (from requests->transformers) (2025.10.5)\n",
      "Downloading segmentation_models_pytorch-0.5.0-py3-none-any.whl (154 kB)\n",
      "\u001B[2K   \u001B[90m━━━━━━━━━━━━━━━━━━━━━━━━━━━━━━━━━━━━━━━━\u001B[0m \u001B[32m154.8/154.8 kB\u001B[0m \u001B[31m5.0 MB/s\u001B[0m eta \u001B[36m0:00:00\u001B[0m\n",
      "\u001B[?25hDownloading torchmetrics-1.8.2-py3-none-any.whl (983 kB)\n",
      "\u001B[2K   \u001B[90m━━━━━━━━━━━━━━━━━━━━━━━━━━━━━━━━━━━━━━━━\u001B[0m \u001B[32m983.2/983.2 kB\u001B[0m \u001B[31m32.7 MB/s\u001B[0m eta \u001B[36m0:00:00\u001B[0m\n",
      "\u001B[?25hDownloading lightning_utilities-0.15.2-py3-none-any.whl (29 kB)\n",
      "Installing collected packages: lightning-utilities, torchmetrics, segmentation_models_pytorch\n",
      "Successfully installed lightning-utilities-0.15.2 segmentation_models_pytorch-0.5.0 torchmetrics-1.8.2\n",
      "/content/drive/.shortcut-targets-by-id/15pPCEVRFyHb3JQkFSnP8L6a0_nfm8ijp/Data Challenge 3 Group 3/coralscapesScripts/..\n",
      "/content/drive/.shortcut-targets-by-id/15pPCEVRFyHb3JQkFSnP8L6a0_nfm8ijp/Data Challenge 3 Group 3/coralscapesScripts\n",
      "['/content/drive/.shortcut-targets-by-id/15pPCEVRFyHb3JQkFSnP8L6a0_nfm8ijp/Data Challenge 3 Group 3/coralscapesScripts', '/content', '/env/python', '/usr/lib/python312.zip', '/usr/lib/python3.12', '/usr/lib/python3.12/lib-dynload', '', '/usr/local/lib/python3.12/dist-packages', '/usr/lib/python3/dist-packages', '/usr/local/lib/python3.12/dist-packages/IPython/extensions', '/root/.ipython']\n",
      "assets\t\tconfigs\t\t      environment.yml  README.md\n",
      "benchmark_runs\tcoralscapes.egg-info  nbs\t       scripts\n",
      "bin\t\tcoralscapesScripts    pyproject.toml\n",
      "/content/drive/.shortcut-targets-by-id/15pPCEVRFyHb3JQkFSnP8L6a0_nfm8ijp/Data Challenge 3 Group 3/coralscapesScripts/coralscapesScripts\n",
      "CUDA Device 0: Tesla T4\n"
     ]
    }
   ]
  },
  {
   "cell_type": "code",
   "source": [
    "\n",
    "import os\n",
    "import torch\n",
    "import torch.nn.functional as F\n",
    "from torch.utils.data import DataLoader, Dataset, Subset\n",
    "from torchmetrics.classification import MulticlassJaccardIndex, MulticlassAccuracy\n",
    "import numpy as np\n",
    "from PIL import Image, ImageDraw, ImageFont\n",
    "from tqdm import tqdm\n",
    "import albumentations as A\n",
    "import cv2\n",
    "from transformers import SegformerConfig, SegformerForSemanticSegmentation\n",
    "from peft import PeftModel, LoraConfig\n",
    "import pandas as pd\n",
    "import math\n",
    "import random\n",
    "\n",
    "N_CLASSES = 3\n",
    "MODEL_NAME = \"nvidia/mit-b2\"\n",
    "INPUT_SIZE = (512, 512)"
   ],
   "metadata": {
    "id": "zHPp9J6jj8HN"
   },
   "execution_count": 2,
   "outputs": []
  },
  {
   "cell_type": "code",
   "source": [
    "class CoralBleachingDataset(Dataset):\n",
    "\n",
    "    def __init__(self, root, transform=None):\n",
    "        self.root = os.path.expanduser(root)\n",
    "        self.transform = transform\n",
    "\n",
    "        self.images_dir = os.path.join(self.root, 'images')\n",
    "        self.masks_bleached_dir = os.path.join(self.root, 'masks_bleached')\n",
    "        self.masks_non_bleached_dir = os.path.join(self.root, 'masks_non_bleached')\n",
    "\n",
    "        if not os.path.isdir(self.images_dir):\n",
    "            raise FileNotFoundError(f\"Image directory not found: {self.images_dir}\")\n",
    "\n",
    "        all_images = [f for f in os.listdir(self.images_dir)\n",
    "                     if f.lower().endswith(('.jpg', '.jpeg', '.png'))]\n",
    "\n",
    "        self.images = []\n",
    "\n",
    "        for img_name in all_images:\n",
    "            base_name, ext = os.path.splitext(img_name)\n",
    "\n",
    "            bleached_mask_name = f\"{base_name}_bleached.png\"\n",
    "            non_bleached_mask_name = f\"{base_name}_non_bleached.png\"\n",
    "\n",
    "            bleached_mask_path = os.path.join(self.masks_bleached_dir, bleached_mask_name)\n",
    "            non_bleached_mask_path = os.path.join(self.masks_non_bleached_dir, non_bleached_mask_name)\n",
    "\n",
    "            if os.path.exists(bleached_mask_path) and os.path.exists(non_bleached_mask_path):\n",
    "                 self.images.append(img_name)\n",
    "\n",
    "        print(f\"Found {len(self.images)} image-mask pairs for inference.\")\n",
    "        if not self.images:\n",
    "            print(f\"CRITICAL: Found 0 pairs in {self.root}. Check naming and file extensions.\")\n",
    "\n",
    "    def __getitem__(self, index):\n",
    "        img_name = self.images[index]\n",
    "        base_name, ext = os.path.splitext(img_name)\n",
    "\n",
    "        image_path = os.path.join(self.root, 'images', img_name)\n",
    "        bleached_mask_path = os.path.join(self.root, 'masks_bleached', f\"{base_name}_bleached.png\")\n",
    "        non_bleached_mask_path = os.path.join(self.root, 'masks_non_bleached', f\"{base_name}_non_bleached.png\")\n",
    "\n",
    "        image = np.array(Image.open(image_path).convert('RGB'))\n",
    "        bleached_mask = np.array(Image.open(bleached_mask_path).convert('L'))\n",
    "        non_bleached_mask = np.array(Image.open(non_bleached_mask_path).convert('L'))\n",
    "\n",
    "        target = np.zeros_like(bleached_mask, dtype=np.uint8)\n",
    "        target[non_bleached_mask > 128] = 2\n",
    "        target[bleached_mask > 128] = 1\n",
    "\n",
    "        if self.transform:\n",
    "            transformed = self.transform(image=image, mask=target)\n",
    "            image = transformed[\"image\"]\n",
    "            target = transformed[\"mask\"]\n",
    "\n",
    "        image = image.transpose(2, 0, 1)\n",
    "        image = torch.tensor(image, dtype=torch.float32) / 255.0\n",
    "        target = torch.tensor(target, dtype=torch.long)\n",
    "\n",
    "        return image, target, img_name\n",
    "\n",
    "    def __len__(self):\n",
    "        return len(self.images)\n",
    "\n",
    "def load_lora_segformer_model(checkpoint_path, model_name, n_classes, device):\n",
    "    config = SegformerConfig.from_pretrained(model_name, num_labels=n_classes)\n",
    "    model = SegformerForSemanticSegmentation.from_pretrained(\n",
    "        model_name, config=config, ignore_mismatched_sizes=True\n",
    "    ).to(device)\n",
    "\n",
    "    lora_config = LoraConfig(r=128, lora_alpha=16, target_modules=[\"query\", \"value\"],\n",
    "                             lora_dropout=0.1, bias=\"none\", modules_to_save=[\"decode_head\"])\n",
    "\n",
    "    model = PeftModel(model, lora_config)\n",
    "\n",
    "    try:\n",
    "        checkpoint = torch.load(checkpoint_path, map_location=device)\n",
    "        state_dict_to_load = checkpoint.get('model_state_dict', checkpoint)\n",
    "        model.load_state_dict(state_dict_to_load, strict=False)\n",
    "    except Exception as e:\n",
    "        print(f\"FATAL ERROR during model loading for {checkpoint_path}: {e}\")\n",
    "        return None\n",
    "\n",
    "    model.to(device)\n",
    "    model.eval()\n",
    "    return model\n",
    "\n",
    "def run_inference_and_metrics(model, dataloader, device, n_classes):\n",
    "\n",
    "    jaccard = MulticlassJaccardIndex(num_classes=n_classes, average='macro', ignore_index=None).to(device)\n",
    "    accuracy = MulticlassAccuracy(num_classes=n_classes, average='macro', ignore_index=None).to(device)\n",
    "    jaccard_per_class = MulticlassJaccardIndex(num_classes=n_classes, average='none', ignore_index=None).to(device)\n",
    "\n",
    "    model.eval()\n",
    "    with torch.no_grad():\n",
    "        for inputs, labels, _ in dataloader:\n",
    "            inputs = inputs.to(device)\n",
    "            labels = labels.to(device)\n",
    "\n",
    "            outputs = model(inputs)\n",
    "\n",
    "            resized_logits = F.interpolate(outputs.logits, size=labels.shape[-2:], mode='bilinear', align_corners=False)\n",
    "            preds = torch.argmax(resized_logits, dim=1)\n",
    "\n",
    "            jaccard.update(preds, labels)\n",
    "            accuracy.update(preds, labels)\n",
    "            jaccard_per_class.update(preds, labels)\n",
    "\n",
    "    results = {\n",
    "        \"Accuracy\": accuracy.compute().item(),\n",
    "        \"mIoU\": jaccard.compute().item(),\n",
    "        \"IoU - Background\": jaccard_per_class.compute()[0].item(),\n",
    "        \"IoU - Bleached\": jaccard_per_class.compute()[1].item(),\n",
    "        \"IoU - Non-Bleached\": jaccard_per_class.compute()[2].item()\n",
    "    }\n",
    "\n",
    "    return results\n",
    "\n",
    "def calculate_custom_metrics(metrics):\n",
    "    acc = metrics['Accuracy']\n",
    "    iou_bg = metrics['IoU - Background']\n",
    "    iou_bl = metrics['IoU - Bleached']\n",
    "    iou_nbl = metrics['IoU - Non-Bleached']\n",
    "    mIoU_weighted = (0.1 * iou_bg) + (0.45 * iou_bl) + (0.45 * iou_nbl)\n",
    "    coral_rank_score = (0.2 * acc) + (0.8 * mIoU_weighted)\n",
    "    return mIoU_weighted, coral_rank_score"
   ],
   "metadata": {
    "id": "TXVfPGKCj8kp"
   },
   "execution_count": 3,
   "outputs": []
  },
  {
   "cell_type": "code",
   "source": [
    "def visualize_single_sample_canvas(model, full_dataset, index, run_name, vis_dir):\n",
    "\n",
    "    COLOR_MAP_RGB = np.array([\n",
    "        [0, 0, 0],\n",
    "        [255, 153, 153],\n",
    "        [229, 255, 204]\n",
    "    ], dtype=np.uint8)\n",
    "\n",
    "    COLOR_MAP_RGBA_OVERLAY = np.array([\n",
    "        [0, 0, 0, 0],\n",
    "        [255, 153, 153, 180],\n",
    "        [229, 255, 204, 180]\n",
    "    ], dtype=np.uint8)\n",
    "\n",
    "    IMAGE_W, IMAGE_H = INPUT_SIZE\n",
    "    MARGIN = 60\n",
    "    PANEL_GAP = 40\n",
    "    LEGEND_HEIGHT = 80\n",
    "\n",
    "    try:\n",
    "        font_path_title = \"/usr/share/fonts/truetype/dejavu/DejaVuSans-Bold.ttf\"\n",
    "        font_path_legend = \"/usr/share/fonts/truetype/dejavu/DejaVuSans.ttf\"\n",
    "        font_size_title = 45\n",
    "        font_size_legend = 35\n",
    "        font_title = ImageFont.truetype(font_path_title, font_size_title)\n",
    "        font_legend = ImageFont.truetype(font_path_legend, font_size_legend)\n",
    "    except IOError:\n",
    "        font_size_title = 35\n",
    "        font_size_legend = 25\n",
    "        font_title = ImageFont.load_default()\n",
    "        font_legend = ImageFont.load_default()\n",
    "        print(f\"  Warning: mwah, fond not found. Using default font with size {font_size_title} for tltles \")\n",
    "\n",
    "\n",
    "    CANVAS_W = (IMAGE_W * 4) + (PANEL_GAP * 3) + (MARGIN * 2)\n",
    "    CANVAS_H = IMAGE_H + (MARGIN * 2) + LEGEND_HEIGHT\n",
    "\n",
    "    CANVAS_COLOR = (255, 255, 255)\n",
    "\n",
    "    image_tensor, label_tensor, img_name = full_dataset[index]\n",
    "    inputs = image_tensor.unsqueeze(0).to(DEVICE)\n",
    "\n",
    "    model.eval()\n",
    "    with torch.no_grad():\n",
    "        outputs = model(inputs)\n",
    "        resized_logits = F.interpolate(\n",
    "            outputs.logits, size=label_tensor.shape[-2:], mode='bilinear', align_corners=False\n",
    "        )\n",
    "        preds = torch.argmax(resized_logits, dim=1)\n",
    "\n",
    "    image_np = (image_tensor.cpu().numpy().transpose(1, 2, 0) * 255).astype(np.uint8)\n",
    "\n",
    "    label_indices = label_tensor.cpu().numpy()\n",
    "    gt_mask_color_np = COLOR_MAP_RGB[label_indices]\n",
    "\n",
    "    pred_indices = preds[0].cpu().numpy()\n",
    "    pred_mask_color_np = COLOR_MAP_RGB[pred_indices]\n",
    "\n",
    "    overlay_image_pil = Image.fromarray(image_np).convert(\"RGBA\")\n",
    "    overlay_mask_rgba = COLOR_MAP_RGBA_OVERLAY[pred_indices]\n",
    "    overlay_mask_pil = Image.fromarray(overlay_mask_rgba)\n",
    "    final_overlay_pil = Image.alpha_composite(overlay_image_pil, overlay_mask_pil)\n",
    "    final_overlay_np = np.array(final_overlay_pil.convert(\"RGB\"))\n",
    "\n",
    "    panels = [\n",
    "        Image.fromarray(image_np),\n",
    "        Image.fromarray(gt_mask_color_np),\n",
    "        Image.fromarray(pred_mask_color_np),\n",
    "        Image.fromarray(final_overlay_np)\n",
    "    ]\n",
    "\n",
    "    canvas = Image.new('RGB', (CANVAS_W, CANVAS_H), color=CANVAS_COLOR)\n",
    "    draw = ImageDraw.Draw(canvas)\n",
    "\n",
    "    titles = [\"Input Image\", \"Ground Truth Mask\", \"Prediction Mask\", \"Prediction Overlay\"]\n",
    "    text_color = (0, 0, 0)\n",
    "\n",
    "    current_x = MARGIN\n",
    "\n",
    "    for idx, panel in enumerate(panels):\n",
    "\n",
    "        title = titles[idx]\n",
    "\n",
    "        text_w = draw.textlength(title, font=font_title)\n",
    "\n",
    "        title_x = current_x + (IMAGE_W - text_w) / 2\n",
    "        try:\n",
    "            _, _, _, title_bbox_h = font_title.getbbox(title)\n",
    "            title_y = (MARGIN - title_bbox_h) / 2\n",
    "        except:\n",
    "            title_y = (MARGIN - font_size_title) / 2\n",
    "\n",
    "        draw.text((title_x, title_y), title, font=font_title, fill=text_color)\n",
    "\n",
    "        image_y = MARGIN\n",
    "        canvas.paste(panel, (current_x, image_y))\n",
    "\n",
    "        current_x += IMAGE_W + PANEL_GAP\n",
    "\n",
    "    legend_items = [\n",
    "        (\"Background (Class 0)\", COLOR_MAP_RGB[0]),\n",
    "        (\"Bleached Coral (Class 1)\", COLOR_MAP_RGB[1]),\n",
    "        (\"Non-Bleached Coral (Class 2)\", COLOR_MAP_RGB[2])\n",
    "    ]\n",
    "\n",
    "    legend_title = \"LEGEND:\"\n",
    "    color_box_size = 30\n",
    "    spacing = 50\n",
    "\n",
    "    total_legend_width = draw.textlength(legend_title, font=font_legend) + 30\n",
    "    for text, _ in legend_items:\n",
    "        total_legend_width += color_box_size + 10\n",
    "        total_legend_width += draw.textlength(text, font=font_legend) + spacing\n",
    "    total_legend_width -= spacing\n",
    "\n",
    "    legend_start_x = (CANVAS_W - total_legend_width) / 2\n",
    "\n",
    "    text_bbox = font_legend.getbbox(\"A\")\n",
    "    text_height = text_bbox[3] - text_bbox[1]\n",
    "\n",
    "    legend_y = CANVAS_H - LEGEND_HEIGHT + (LEGEND_HEIGHT - text_height) / 2\n",
    "\n",
    "    current_x = legend_start_x\n",
    "\n",
    "    draw.text((current_x, legend_y), legend_title, font=font_legend, fill=text_color)\n",
    "    current_x += draw.textlength(legend_title, font=font_legend) + 20\n",
    "\n",
    "    for text, color_rgb in legend_items:\n",
    "        rect_y_start = legend_y - 2\n",
    "        draw.rectangle([current_x, rect_y_start, current_x + color_box_size, rect_y_start + color_box_size], fill=tuple(color_rgb))\n",
    "        current_x += color_box_size + 10\n",
    "        draw.text((current_x, legend_y), text, font=font_legend, fill=text_color)\n",
    "        current_x += draw.textlength(text, font=font_legend) + spacing\n",
    "\n",
    "    clean_run_name = run_name.replace(\" \", \"_\").replace(\"(\", \"\").replace(\")\", \"\")\n",
    "    output_filename = f\"{clean_run_name}_sample_canvas_{os.path.splitext(img_name)[0]}.png\"\n",
    "    canvas.save(os.path.join(vis_dir, output_filename))\n",
    "\n",
    "    print(f\"  -> Saved final canvas visualization for: {run_name} ({img_name})\")"
   ],
   "metadata": {
    "id": "ahMmdGjnj9pu"
   },
   "execution_count": 4,
   "outputs": []
  },
  {
   "cell_type": "code",
   "source": [
    "DRIVE_BASE_PATH = \"/content/drive/MyDrive/\"\n",
    "PROJECT_DIR = os.path.join(DRIVE_BASE_PATH, 'Data Challenge 3 Group 3')\n",
    "\n",
    "CHECKPOINT_BASE_DIR = os.path.join(\n",
    "    PROJECT_DIR,\n",
    "    'coralscapesScripts',\n",
    "    'coralscapesScripts'\n",
    ")\n",
    "VIS_DIR = os.path.join(PROJECT_DIR, 'inference_visualization_final_layout')\n",
    "os.makedirs(VIS_DIR, exist_ok=True)\n",
    "print(f\"Final canvas visualizations will be saved to: {VIS_DIR}\")\n",
    "\n",
    "BATCH_SIZE = 4\n",
    "DEVICE = torch.device(\"cuda\" if torch.cuda.is_available() else \"cpu\")\n",
    "\n",
    "inference_runs = [\n",
    "    ('Cyan 0', 'data_cyan_0', 'checkpoints_cluster_0_cyan'),\n",
    "    ('Cyan 1', 'data_cyan_1', 'checkpoints_cluster_1_cyan'),\n",
    "    ('Cyan 2', 'data_cyan_2', 'checkpoints_cluster_2_cyan'),\n",
    "    ('Magenta 0', 'data_magenta_0', 'checkpoints_cluster_0_magenta'),\n",
    "    ('Magenta 1', 'data_magenta_1', 'checkpoints_cluster_1_magenta'),\n",
    "    ('Magenta 2', 'data_magenta_2', 'checkpoints_cluster_2_magenta'),\n",
    "    ('Yellow 0', 'data_yellow_0', 'checkpoints_yellow_0'),\n",
    "    ('Yellow 1', 'data_yellow_1', 'checkpoints_yellow_1'),\n",
    "    ('Yellow 2', 'data_yellow_2', 'checkpoints_yellow_2'),\n",
    "    ('Cluster 0 (Base)', 'cluster_0', 'checkpoints_cluster_0_base_model'),\n",
    "    ('Cluster 1 (Base)', 'cluster_1', 'checkpoints_cluster_1_base_model'),\n",
    "    ('Cluster 2 (Base)', 'cluster_2', 'checkpoints_cluster_2_base_model'),\n",
    "    ('Baseline 5)', '01_data/coral_bleaching/reef_support/UNAL_BLEACHING_TAYRONA', 'checkpoints_og_reefsupport'),\n",
    "]\n",
    "\n",
    "all_results = []\n",
    "inference_transform = A.Compose([\n",
    "    A.Resize(height=INPUT_SIZE[0], width=INPUT_SIZE[1], interpolation=cv2.INTER_NEAREST),\n",
    "])\n",
    "\n",
    "print(f\"Starting 13-run inference loop using device: {DEVICE}\")\n",
    "print(\"=\"*70)\n",
    "\n",
    "for run_name, dataset_folder, checkpoint_folder in tqdm(inference_runs, desc=\"Overall Inference Runs\"):\n",
    "\n",
    "    DATASET_ROOT = os.path.join(PROJECT_DIR, dataset_folder)\n",
    "    CHECKPOINT_PATH = os.path.join(CHECKPOINT_BASE_DIR, checkpoint_folder, 'best_overall_model.pth')\n",
    "\n",
    "    print(f\"\\n--- Running: {run_name} (Data: {dataset_folder}) ---\")\n",
    "\n",
    "    if not os.path.isdir(DATASET_ROOT) or not os.path.exists(CHECKPOINT_PATH):\n",
    "        print(f\"Skipping {run_name}: Data or Checkpoint path not found.\")\n",
    "        continue\n",
    "\n",
    "    try:\n",
    "        full_dataset = CoralBleachingDataset(root=DATASET_ROOT, transform=inference_transform)\n",
    "\n",
    "        total_size = len(full_dataset)\n",
    "        if total_size == 0:\n",
    "            print(f\"Skipping {run_name}: Dataset size is 0.\")\n",
    "            continue\n",
    "\n",
    "        subset_start_index = math.floor(total_size * 0.85)\n",
    "        subset_indices = list(range(subset_start_index, total_size))\n",
    "\n",
    "        inference_subset = Subset(full_dataset, subset_indices)\n",
    "\n",
    "        print(f\"Using the last 15% of images: {len(inference_subset)}/{total_size} images.\")\n",
    "\n",
    "        inference_dataloader = DataLoader(\n",
    "            inference_subset,\n",
    "            batch_size=BATCH_SIZE,\n",
    "            shuffle=False,\n",
    "            num_workers=2,\n",
    "            pin_memory=True\n",
    "        )\n",
    "\n",
    "        model = load_lora_segformer_model(CHECKPOINT_PATH, MODEL_NAME, N_CLASSES, DEVICE)\n",
    "        if model is None:\n",
    "            continue\n",
    "\n",
    "        metrics = run_inference_and_metrics(model, inference_dataloader, DEVICE, N_CLASSES)\n",
    "\n",
    "        mIoU_weighted, coral_rank_score = calculate_custom_metrics(metrics)\n",
    "\n",
    "        all_results.append({\n",
    "            \"Run Name\": run_name,\n",
    "            \"Accuracy\": metrics['Accuracy'],\n",
    "            \"mIoU\": metrics['mIoU'],\n",
    "            \"IoU (Background)\": metrics['IoU - Background'],\n",
    "            \"IoU (Bleached)\": metrics['IoU - Bleached'],\n",
    "            \"IoU (Non-Bleached)\": metrics['IoU - Non-Bleached'],\n",
    "            \"Rank Score\": coral_rank_score,\n",
    "            \"Test Images\": len(inference_subset),\n",
    "        })\n",
    "\n",
    "        if len(inference_subset) > 0:\n",
    "            random_index_in_subset = random.choice(subset_indices)\n",
    "            visualize_single_sample_canvas(model, full_dataset, random_index_in_subset, run_name, VIS_DIR)\n",
    "\n",
    "    except FileNotFoundError as e:\n",
    "        print(f\"Skipping {run_name}: File not found error: {e}\")\n",
    "    except Exception as e:\n",
    "        print(f\"An unexpected error occurred during {run_name}: {e}\")\n",
    "\n",
    "print(\"\\n\" + \"=\"*70)\n",
    "print(\"COMPREHENSIVE INFERENCE RESULTS TABLE\")\n",
    "print(\"=\"*70)\n",
    "print(f\"Final Canvas Visualizations saved to: {VIS_DIR}\")\n",
    "print(\"-\" * 70)\n",
    "\n",
    "if all_results:\n",
    "    results_df = pd.DataFrame(all_results)\n",
    "\n",
    "    float_cols = results_df.columns.drop(['Run Name', 'Test Images'])\n",
    "    results_df[float_cols] = results_df[float_cols].apply(lambda x: pd.to_numeric(x, errors='coerce').round(4))\n",
    "\n",
    "    results_df['Cluster'] = results_df['Run Name'].str.extract('(\\d+)').astype(int)\n",
    "\n",
    "    final_table = results_df.sort_values(by=[\"Cluster\", \"Rank Score\"], ascending=[True, False])\n",
    "\n",
    "    final_table = final_table[[\n",
    "        \"Run Name\",\n",
    "        \"Test Images\",\n",
    "        \"Accuracy\",\n",
    "        \"mIoU\",\n",
    "        \"IoU (Background)\",\n",
    "        \"IoU (Bleached)\",\n",
    "        \"IoU (Non-Bleached)\",\n",
    "        \"Rank Score\",\n",
    "    ]]\n",
    "\n",
    "    print(final_table.to_markdown(index=False))\n",
    "else:\n",
    "    print(\"No results were generated. Please check all paths and data contents.\")\n",
    "print(\"=\"*70)"
   ],
   "metadata": {
    "colab": {
     "base_uri": "https://localhost:8080/",
     "height": 689,
     "referenced_widgets": [
      "30cfcaedc5ac4dd583dce996f27bceff",
      "b4d6356a72ee4c8d8706011efba676cb",
      "bcedd5cd0e07435192857dbe620e28c6",
      "135ca866b30d487cb8a7781d3637cec2",
      "3d5628254c37431fa98a4e284250abc7",
      "79878ba63e4e40ad9fb0254e0abdf951",
      "1a6908f0949c42ddb7f55d8dc3898f98",
      "bafecdc794444e49a6a8f66c60d9821c",
      "75d9a06564e0426fac955eab003e3ae5",
      "d19a97ec79c14796b2ba076146ed56ae",
      "7541c1048db84095a79bd8c8b2d6c608",
      "04aa31d0edd14ba295ad1fcafcc6d267",
      "a32d396e8d23483a823959ee8dc9e5b3",
      "46ae8e60600c44d3a6c49c434e3dcd44",
      "786d45ccfc794f87b944a00f0b4e1635",
      "e0170762ca3a41c7a237acf0dc40d424",
      "f43f11646b4e43fa80d6b85ca02af977",
      "ee72d3be77c34204928d142cd4ece2e9",
      "a538a4bdd54a437a87e21900193f1cc9",
      "6908cbe63c5e4a1dbde95358bb7d0a16",
      "08b8a8d932344c76b4e3422e30981e62",
      "9b4db6c3e702439e9f3da82c64ec9e0c",
      "33dc0625da344f5c8cc667bcf2e89874",
      "7a56cb5f33c54bd189f8aa9a6ae7e1df",
      "54f34769f31a480faceec0944f28bef9",
      "eb1a28a294bc4b82868d3d0206b6a447",
      "61adf26924f645caa52f6bdb9d45a84d",
      "ecdf803f5ae34104aca8f93964c843ab",
      "25a6cb07701144bd9077e53075011a30",
      "454df4e5c1c14b8781b80c8211d87545",
      "3237f426e7ba4159acedf903c669bf76",
      "18f02523e4ff4a359a4c94d4d4cfc1a9",
      "33c5529c6fdc44a1824b3a189db49f4e"
     ]
    },
    "id": "Io0LM6C0j_vr",
    "outputId": "da5d746f-c3f9-49d9-d502-dfc4e89b6698"
   },
   "execution_count": 5,
   "outputs": [
    {
     "output_type": "stream",
     "name": "stderr",
     "text": [
      "<>:114: SyntaxWarning: invalid escape sequence '\\d'\n",
      "<>:114: SyntaxWarning: invalid escape sequence '\\d'\n",
      "/tmp/ipython-input-2441536708.py:114: SyntaxWarning: invalid escape sequence '\\d'\n",
      "  results_df['Cluster'] = results_df['Run Name'].str.extract('(\\d+)').astype(int)\n"
     ]
    },
    {
     "output_type": "stream",
     "name": "stdout",
     "text": [
      "Final canvas visualizations will be saved to: /content/drive/MyDrive/Data Challenge 3 Group 3/inference_visualization_final_layout\n",
      "Starting 13-run inference loop using device: cuda\n",
      "======================================================================\n"
     ]
    },
    {
     "output_type": "stream",
     "name": "stderr",
     "text": [
      "\rOverall Inference Runs:   0%|          | 0/1 [00:00<?, ?it/s]"
     ]
    },
    {
     "output_type": "stream",
     "name": "stdout",
     "text": [
      "\n",
      "--- Running: Cyan 0 (Data: data_cyan_0) ---\n",
      "Found 256 image-mask pairs for inference.\n",
      "Using the last 15% of images: 39/256 images.\n"
     ]
    },
    {
     "output_type": "stream",
     "name": "stderr",
     "text": [
      "/usr/local/lib/python3.12/dist-packages/huggingface_hub/utils/_auth.py:94: UserWarning: \n",
      "The secret `HF_TOKEN` does not exist in your Colab secrets.\n",
      "To authenticate with the Hugging Face Hub, create a token in your settings tab (https://huggingface.co/settings/tokens), set it as secret in your Google Colab and restart your session.\n",
      "You will be able to reuse this secret in all of your notebooks.\n",
      "Please note that authentication is recommended but still optional to access public models or datasets.\n",
      "  warnings.warn(\n"
     ]
    },
    {
     "output_type": "display_data",
     "data": {
      "text/plain": [
       "config.json: 0.00B [00:00, ?B/s]"
      ],
      "application/vnd.jupyter.widget-view+json": {
       "version_major": 2,
       "version_minor": 0,
       "model_id": "30cfcaedc5ac4dd583dce996f27bceff"
      }
     },
     "metadata": {}
    },
    {
     "output_type": "display_data",
     "data": {
      "text/plain": [
       "pytorch_model.bin:   0%|          | 0.00/99.0M [00:00<?, ?B/s]"
      ],
      "application/vnd.jupyter.widget-view+json": {
       "version_major": 2,
       "version_minor": 0,
       "model_id": "04aa31d0edd14ba295ad1fcafcc6d267"
      }
     },
     "metadata": {}
    },
    {
     "output_type": "stream",
     "name": "stderr",
     "text": [
      "Some weights of SegformerForSemanticSegmentation were not initialized from the model checkpoint at nvidia/mit-b2 and are newly initialized: ['decode_head.batch_norm.bias', 'decode_head.batch_norm.num_batches_tracked', 'decode_head.batch_norm.running_mean', 'decode_head.batch_norm.running_var', 'decode_head.batch_norm.weight', 'decode_head.classifier.bias', 'decode_head.classifier.weight', 'decode_head.linear_c.0.proj.bias', 'decode_head.linear_c.0.proj.weight', 'decode_head.linear_c.1.proj.bias', 'decode_head.linear_c.1.proj.weight', 'decode_head.linear_c.2.proj.bias', 'decode_head.linear_c.2.proj.weight', 'decode_head.linear_c.3.proj.bias', 'decode_head.linear_c.3.proj.weight', 'decode_head.linear_fuse.weight']\n",
      "You should probably TRAIN this model on a down-stream task to be able to use it for predictions and inference.\n"
     ]
    },
    {
     "output_type": "display_data",
     "data": {
      "text/plain": [
       "model.safetensors:   0%|          | 0.00/98.9M [00:00<?, ?B/s]"
      ],
      "application/vnd.jupyter.widget-view+json": {
       "version_major": 2,
       "version_minor": 0,
       "model_id": "33dc0625da344f5c8cc667bcf2e89874"
      }
     },
     "metadata": {}
    },
    {
     "output_type": "stream",
     "name": "stdout",
     "text": [
      "  Warning: mwah, fond not found. Using default font with size 35 for tltles \n"
     ]
    },
    {
     "output_type": "stream",
     "name": "stderr",
     "text": [
      "Overall Inference Runs: 100%|██████████| 1/1 [00:59<00:00, 59.52s/it]"
     ]
    },
    {
     "output_type": "stream",
     "name": "stdout",
     "text": [
      "  -> Saved final canvas visualization for: Cyan 0 (C9_BC_ESb_T3_29nov24_CGomez_corr.jpg)\n",
      "\n",
      "======================================================================\n",
      "COMPREHENSIVE INFERENCE RESULTS TABLE\n",
      "======================================================================\n",
      "Final Canvas Visualizations saved to: /content/drive/MyDrive/Data Challenge 3 Group 3/inference_visualization_final_layout\n",
      "----------------------------------------------------------------------\n",
      "| Run Name   |   Test Images |   Accuracy |   mIoU |   IoU (Background) |   IoU (Bleached) |   IoU (Non-Bleached) |   Rank Score |\n",
      "|:-----------|--------------:|-----------:|-------:|-------------------:|-----------------:|---------------------:|-------------:|\n",
      "| Cyan 0     |            39 |     0.8035 | 0.6478 |             0.8318 |           0.6121 |               0.4995 |       0.6274 |\n",
      "======================================================================\n"
     ]
    },
    {
     "output_type": "stream",
     "name": "stderr",
     "text": [
      "\n"
     ]
    }
   ]
  }
 ],
 "metadata": {
  "kernelspec": {
   "display_name": "Python 3",
   "name": "python3"
  },
  "language_info": {
   "codemirror_mode": {
    "name": "ipython",
    "version": 3
   },
   "file_extension": ".py",
   "mimetype": "text/x-python",
   "name": "python",
   "nbconvert_exporter": "python",
   "pygments_lexer": "ipython3",
   "version": "3.11.13"
  },
  "colab": {
   "provenance": [],
   "gpuType": "T4"
  },
  "accelerator": "GPU",
  "widgets": {
   "application/vnd.jupyter.widget-state+json": {
    "502259edf02b449c9bb88409fa8980c1": {
     "model_module": "@jupyter-widgets/controls",
     "model_name": "HBoxModel",
     "model_module_version": "1.5.0",
     "state": {
      "_dom_classes": [],
      "_model_module": "@jupyter-widgets/controls",
      "_model_module_version": "1.5.0",
      "_model_name": "HBoxModel",
      "_view_count": null,
      "_view_module": "@jupyter-widgets/controls",
      "_view_module_version": "1.5.0",
      "_view_name": "HBoxView",
      "box_style": "",
      "children": [
       "IPY_MODEL_d577f0673a194048be0afb93608d4a1a",
       "IPY_MODEL_8188d52bbf634b8ca535f2f657b99c58",
       "IPY_MODEL_82045f8fd0d14570b1d579174207ca2b"
      ],
      "layout": "IPY_MODEL_4b1b938b88f74cf38f056f7ed5959d1d"
     }
    },
    "d577f0673a194048be0afb93608d4a1a": {
     "model_module": "@jupyter-widgets/controls",
     "model_name": "HTMLModel",
     "model_module_version": "1.5.0",
     "state": {
      "_dom_classes": [],
      "_model_module": "@jupyter-widgets/controls",
      "_model_module_version": "1.5.0",
      "_model_name": "HTMLModel",
      "_view_count": null,
      "_view_module": "@jupyter-widgets/controls",
      "_view_module_version": "1.5.0",
      "_view_name": "HTMLView",
      "description": "",
      "description_tooltip": null,
      "layout": "IPY_MODEL_3b3aaf3eaade497bb5a75a06edfc032b",
      "placeholder": "​",
      "style": "IPY_MODEL_4380c01cc2c44dc7b00aa9a3ed456dee",
      "value": "config.json: "
     }
    },
    "8188d52bbf634b8ca535f2f657b99c58": {
     "model_module": "@jupyter-widgets/controls",
     "model_name": "FloatProgressModel",
     "model_module_version": "1.5.0",
     "state": {
      "_dom_classes": [],
      "_model_module": "@jupyter-widgets/controls",
      "_model_module_version": "1.5.0",
      "_model_name": "FloatProgressModel",
      "_view_count": null,
      "_view_module": "@jupyter-widgets/controls",
      "_view_module_version": "1.5.0",
      "_view_name": "ProgressView",
      "bar_style": "success",
      "description": "",
      "description_tooltip": null,
      "layout": "IPY_MODEL_f3ffa0db522148e3a7135b62db7d757d",
      "max": 1,
      "min": 0,
      "orientation": "horizontal",
      "style": "IPY_MODEL_7b197085bc5440ff9a51d85f60fb88a0",
      "value": 1
     }
    },
    "82045f8fd0d14570b1d579174207ca2b": {
     "model_module": "@jupyter-widgets/controls",
     "model_name": "HTMLModel",
     "model_module_version": "1.5.0",
     "state": {
      "_dom_classes": [],
      "_model_module": "@jupyter-widgets/controls",
      "_model_module_version": "1.5.0",
      "_model_name": "HTMLModel",
      "_view_count": null,
      "_view_module": "@jupyter-widgets/controls",
      "_view_module_version": "1.5.0",
      "_view_name": "HTMLView",
      "description": "",
      "description_tooltip": null,
      "layout": "IPY_MODEL_6fedaa4730d04a3dbd06a4f5b45b2c4d",
      "placeholder": "​",
      "style": "IPY_MODEL_3a9b249be8e14675b1c00a8d39b69c26",
      "value": " 70.0k/? [00:00&lt;00:00, 5.65MB/s]"
     }
    },
    "4b1b938b88f74cf38f056f7ed5959d1d": {
     "model_module": "@jupyter-widgets/base",
     "model_name": "LayoutModel",
     "model_module_version": "1.2.0",
     "state": {
      "_model_module": "@jupyter-widgets/base",
      "_model_module_version": "1.2.0",
      "_model_name": "LayoutModel",
      "_view_count": null,
      "_view_module": "@jupyter-widgets/base",
      "_view_module_version": "1.2.0",
      "_view_name": "LayoutView",
      "align_content": null,
      "align_items": null,
      "align_self": null,
      "border": null,
      "bottom": null,
      "display": null,
      "flex": null,
      "flex_flow": null,
      "grid_area": null,
      "grid_auto_columns": null,
      "grid_auto_flow": null,
      "grid_auto_rows": null,
      "grid_column": null,
      "grid_gap": null,
      "grid_row": null,
      "grid_template_areas": null,
      "grid_template_columns": null,
      "grid_template_rows": null,
      "height": null,
      "justify_content": null,
      "justify_items": null,
      "left": null,
      "margin": null,
      "max_height": null,
      "max_width": null,
      "min_height": null,
      "min_width": null,
      "object_fit": null,
      "object_position": null,
      "order": null,
      "overflow": null,
      "overflow_x": null,
      "overflow_y": null,
      "padding": null,
      "right": null,
      "top": null,
      "visibility": null,
      "width": null
     }
    },
    "3b3aaf3eaade497bb5a75a06edfc032b": {
     "model_module": "@jupyter-widgets/base",
     "model_name": "LayoutModel",
     "model_module_version": "1.2.0",
     "state": {
      "_model_module": "@jupyter-widgets/base",
      "_model_module_version": "1.2.0",
      "_model_name": "LayoutModel",
      "_view_count": null,
      "_view_module": "@jupyter-widgets/base",
      "_view_module_version": "1.2.0",
      "_view_name": "LayoutView",
      "align_content": null,
      "align_items": null,
      "align_self": null,
      "border": null,
      "bottom": null,
      "display": null,
      "flex": null,
      "flex_flow": null,
      "grid_area": null,
      "grid_auto_columns": null,
      "grid_auto_flow": null,
      "grid_auto_rows": null,
      "grid_column": null,
      "grid_gap": null,
      "grid_row": null,
      "grid_template_areas": null,
      "grid_template_columns": null,
      "grid_template_rows": null,
      "height": null,
      "justify_content": null,
      "justify_items": null,
      "left": null,
      "margin": null,
      "max_height": null,
      "max_width": null,
      "min_height": null,
      "min_width": null,
      "object_fit": null,
      "object_position": null,
      "order": null,
      "overflow": null,
      "overflow_x": null,
      "overflow_y": null,
      "padding": null,
      "right": null,
      "top": null,
      "visibility": null,
      "width": null
     }
    },
    "4380c01cc2c44dc7b00aa9a3ed456dee": {
     "model_module": "@jupyter-widgets/controls",
     "model_name": "DescriptionStyleModel",
     "model_module_version": "1.5.0",
     "state": {
      "_model_module": "@jupyter-widgets/controls",
      "_model_module_version": "1.5.0",
      "_model_name": "DescriptionStyleModel",
      "_view_count": null,
      "_view_module": "@jupyter-widgets/base",
      "_view_module_version": "1.2.0",
      "_view_name": "StyleView",
      "description_width": ""
     }
    },
    "f3ffa0db522148e3a7135b62db7d757d": {
     "model_module": "@jupyter-widgets/base",
     "model_name": "LayoutModel",
     "model_module_version": "1.2.0",
     "state": {
      "_model_module": "@jupyter-widgets/base",
      "_model_module_version": "1.2.0",
      "_model_name": "LayoutModel",
      "_view_count": null,
      "_view_module": "@jupyter-widgets/base",
      "_view_module_version": "1.2.0",
      "_view_name": "LayoutView",
      "align_content": null,
      "align_items": null,
      "align_self": null,
      "border": null,
      "bottom": null,
      "display": null,
      "flex": null,
      "flex_flow": null,
      "grid_area": null,
      "grid_auto_columns": null,
      "grid_auto_flow": null,
      "grid_auto_rows": null,
      "grid_column": null,
      "grid_gap": null,
      "grid_row": null,
      "grid_template_areas": null,
      "grid_template_columns": null,
      "grid_template_rows": null,
      "height": null,
      "justify_content": null,
      "justify_items": null,
      "left": null,
      "margin": null,
      "max_height": null,
      "max_width": null,
      "min_height": null,
      "min_width": null,
      "object_fit": null,
      "object_position": null,
      "order": null,
      "overflow": null,
      "overflow_x": null,
      "overflow_y": null,
      "padding": null,
      "right": null,
      "top": null,
      "visibility": null,
      "width": "20px"
     }
    },
    "7b197085bc5440ff9a51d85f60fb88a0": {
     "model_module": "@jupyter-widgets/controls",
     "model_name": "ProgressStyleModel",
     "model_module_version": "1.5.0",
     "state": {
      "_model_module": "@jupyter-widgets/controls",
      "_model_module_version": "1.5.0",
      "_model_name": "ProgressStyleModel",
      "_view_count": null,
      "_view_module": "@jupyter-widgets/base",
      "_view_module_version": "1.2.0",
      "_view_name": "StyleView",
      "bar_color": null,
      "description_width": ""
     }
    },
    "6fedaa4730d04a3dbd06a4f5b45b2c4d": {
     "model_module": "@jupyter-widgets/base",
     "model_name": "LayoutModel",
     "model_module_version": "1.2.0",
     "state": {
      "_model_module": "@jupyter-widgets/base",
      "_model_module_version": "1.2.0",
      "_model_name": "LayoutModel",
      "_view_count": null,
      "_view_module": "@jupyter-widgets/base",
      "_view_module_version": "1.2.0",
      "_view_name": "LayoutView",
      "align_content": null,
      "align_items": null,
      "align_self": null,
      "border": null,
      "bottom": null,
      "display": null,
      "flex": null,
      "flex_flow": null,
      "grid_area": null,
      "grid_auto_columns": null,
      "grid_auto_flow": null,
      "grid_auto_rows": null,
      "grid_column": null,
      "grid_gap": null,
      "grid_row": null,
      "grid_template_areas": null,
      "grid_template_columns": null,
      "grid_template_rows": null,
      "height": null,
      "justify_content": null,
      "justify_items": null,
      "left": null,
      "margin": null,
      "max_height": null,
      "max_width": null,
      "min_height": null,
      "min_width": null,
      "object_fit": null,
      "object_position": null,
      "order": null,
      "overflow": null,
      "overflow_x": null,
      "overflow_y": null,
      "padding": null,
      "right": null,
      "top": null,
      "visibility": null,
      "width": null
     }
    },
    "3a9b249be8e14675b1c00a8d39b69c26": {
     "model_module": "@jupyter-widgets/controls",
     "model_name": "DescriptionStyleModel",
     "model_module_version": "1.5.0",
     "state": {
      "_model_module": "@jupyter-widgets/controls",
      "_model_module_version": "1.5.0",
      "_model_name": "DescriptionStyleModel",
      "_view_count": null,
      "_view_module": "@jupyter-widgets/base",
      "_view_module_version": "1.2.0",
      "_view_name": "StyleView",
      "description_width": ""
     }
    },
    "f5e303bf79ba4be28818c017d5d9aa2d": {
     "model_module": "@jupyter-widgets/controls",
     "model_name": "HBoxModel",
     "model_module_version": "1.5.0",
     "state": {
      "_dom_classes": [],
      "_model_module": "@jupyter-widgets/controls",
      "_model_module_version": "1.5.0",
      "_model_name": "HBoxModel",
      "_view_count": null,
      "_view_module": "@jupyter-widgets/controls",
      "_view_module_version": "1.5.0",
      "_view_name": "HBoxView",
      "box_style": "",
      "children": [
       "IPY_MODEL_8926a518d9604f9182b65c672df16f2b",
       "IPY_MODEL_ae7fb0290fce4dd3ada7dd6643a736aa",
       "IPY_MODEL_113a59620bdc48b3af64136ae2cd96c1"
      ],
      "layout": "IPY_MODEL_55d8bcbe60bb400c81e3257dabd15ad1"
     }
    },
    "8926a518d9604f9182b65c672df16f2b": {
     "model_module": "@jupyter-widgets/controls",
     "model_name": "HTMLModel",
     "model_module_version": "1.5.0",
     "state": {
      "_dom_classes": [],
      "_model_module": "@jupyter-widgets/controls",
      "_model_module_version": "1.5.0",
      "_model_name": "HTMLModel",
      "_view_count": null,
      "_view_module": "@jupyter-widgets/controls",
      "_view_module_version": "1.5.0",
      "_view_name": "HTMLView",
      "description": "",
      "description_tooltip": null,
      "layout": "IPY_MODEL_7bdbe3e00679401da0a877b442f1dcfe",
      "placeholder": "​",
      "style": "IPY_MODEL_b0df2f7de6cb442aa9f783ff38b035fc",
      "value": "pytorch_model.bin: 100%"
     }
    },
    "ae7fb0290fce4dd3ada7dd6643a736aa": {
     "model_module": "@jupyter-widgets/controls",
     "model_name": "FloatProgressModel",
     "model_module_version": "1.5.0",
     "state": {
      "_dom_classes": [],
      "_model_module": "@jupyter-widgets/controls",
      "_model_module_version": "1.5.0",
      "_model_name": "FloatProgressModel",
      "_view_count": null,
      "_view_module": "@jupyter-widgets/controls",
      "_view_module_version": "1.5.0",
      "_view_name": "ProgressView",
      "bar_style": "success",
      "description": "",
      "description_tooltip": null,
      "layout": "IPY_MODEL_70e04e01e00d4231be460baf8c4d4043",
      "max": 98978917,
      "min": 0,
      "orientation": "horizontal",
      "style": "IPY_MODEL_6d1622e21a4740feb04f2a97e16a653d",
      "value": 98978917
     }
    },
    "113a59620bdc48b3af64136ae2cd96c1": {
     "model_module": "@jupyter-widgets/controls",
     "model_name": "HTMLModel",
     "model_module_version": "1.5.0",
     "state": {
      "_dom_classes": [],
      "_model_module": "@jupyter-widgets/controls",
      "_model_module_version": "1.5.0",
      "_model_name": "HTMLModel",
      "_view_count": null,
      "_view_module": "@jupyter-widgets/controls",
      "_view_module_version": "1.5.0",
      "_view_name": "HTMLView",
      "description": "",
      "description_tooltip": null,
      "layout": "IPY_MODEL_0586a15b494949459d5b29a28af86935",
      "placeholder": "​",
      "style": "IPY_MODEL_89babad0978b41f78acdceaa8fef76f9",
      "value": " 99.0M/99.0M [00:01&lt;00:00, 90.1MB/s]"
     }
    },
    "55d8bcbe60bb400c81e3257dabd15ad1": {
     "model_module": "@jupyter-widgets/base",
     "model_name": "LayoutModel",
     "model_module_version": "1.2.0",
     "state": {
      "_model_module": "@jupyter-widgets/base",
      "_model_module_version": "1.2.0",
      "_model_name": "LayoutModel",
      "_view_count": null,
      "_view_module": "@jupyter-widgets/base",
      "_view_module_version": "1.2.0",
      "_view_name": "LayoutView",
      "align_content": null,
      "align_items": null,
      "align_self": null,
      "border": null,
      "bottom": null,
      "display": null,
      "flex": null,
      "flex_flow": null,
      "grid_area": null,
      "grid_auto_columns": null,
      "grid_auto_flow": null,
      "grid_auto_rows": null,
      "grid_column": null,
      "grid_gap": null,
      "grid_row": null,
      "grid_template_areas": null,
      "grid_template_columns": null,
      "grid_template_rows": null,
      "height": null,
      "justify_content": null,
      "justify_items": null,
      "left": null,
      "margin": null,
      "max_height": null,
      "max_width": null,
      "min_height": null,
      "min_width": null,
      "object_fit": null,
      "object_position": null,
      "order": null,
      "overflow": null,
      "overflow_x": null,
      "overflow_y": null,
      "padding": null,
      "right": null,
      "top": null,
      "visibility": null,
      "width": null
     }
    },
    "7bdbe3e00679401da0a877b442f1dcfe": {
     "model_module": "@jupyter-widgets/base",
     "model_name": "LayoutModel",
     "model_module_version": "1.2.0",
     "state": {
      "_model_module": "@jupyter-widgets/base",
      "_model_module_version": "1.2.0",
      "_model_name": "LayoutModel",
      "_view_count": null,
      "_view_module": "@jupyter-widgets/base",
      "_view_module_version": "1.2.0",
      "_view_name": "LayoutView",
      "align_content": null,
      "align_items": null,
      "align_self": null,
      "border": null,
      "bottom": null,
      "display": null,
      "flex": null,
      "flex_flow": null,
      "grid_area": null,
      "grid_auto_columns": null,
      "grid_auto_flow": null,
      "grid_auto_rows": null,
      "grid_column": null,
      "grid_gap": null,
      "grid_row": null,
      "grid_template_areas": null,
      "grid_template_columns": null,
      "grid_template_rows": null,
      "height": null,
      "justify_content": null,
      "justify_items": null,
      "left": null,
      "margin": null,
      "max_height": null,
      "max_width": null,
      "min_height": null,
      "min_width": null,
      "object_fit": null,
      "object_position": null,
      "order": null,
      "overflow": null,
      "overflow_x": null,
      "overflow_y": null,
      "padding": null,
      "right": null,
      "top": null,
      "visibility": null,
      "width": null
     }
    },
    "b0df2f7de6cb442aa9f783ff38b035fc": {
     "model_module": "@jupyter-widgets/controls",
     "model_name": "DescriptionStyleModel",
     "model_module_version": "1.5.0",
     "state": {
      "_model_module": "@jupyter-widgets/controls",
      "_model_module_version": "1.5.0",
      "_model_name": "DescriptionStyleModel",
      "_view_count": null,
      "_view_module": "@jupyter-widgets/base",
      "_view_module_version": "1.2.0",
      "_view_name": "StyleView",
      "description_width": ""
     }
    },
    "70e04e01e00d4231be460baf8c4d4043": {
     "model_module": "@jupyter-widgets/base",
     "model_name": "LayoutModel",
     "model_module_version": "1.2.0",
     "state": {
      "_model_module": "@jupyter-widgets/base",
      "_model_module_version": "1.2.0",
      "_model_name": "LayoutModel",
      "_view_count": null,
      "_view_module": "@jupyter-widgets/base",
      "_view_module_version": "1.2.0",
      "_view_name": "LayoutView",
      "align_content": null,
      "align_items": null,
      "align_self": null,
      "border": null,
      "bottom": null,
      "display": null,
      "flex": null,
      "flex_flow": null,
      "grid_area": null,
      "grid_auto_columns": null,
      "grid_auto_flow": null,
      "grid_auto_rows": null,
      "grid_column": null,
      "grid_gap": null,
      "grid_row": null,
      "grid_template_areas": null,
      "grid_template_columns": null,
      "grid_template_rows": null,
      "height": null,
      "justify_content": null,
      "justify_items": null,
      "left": null,
      "margin": null,
      "max_height": null,
      "max_width": null,
      "min_height": null,
      "min_width": null,
      "object_fit": null,
      "object_position": null,
      "order": null,
      "overflow": null,
      "overflow_x": null,
      "overflow_y": null,
      "padding": null,
      "right": null,
      "top": null,
      "visibility": null,
      "width": null
     }
    },
    "6d1622e21a4740feb04f2a97e16a653d": {
     "model_module": "@jupyter-widgets/controls",
     "model_name": "ProgressStyleModel",
     "model_module_version": "1.5.0",
     "state": {
      "_model_module": "@jupyter-widgets/controls",
      "_model_module_version": "1.5.0",
      "_model_name": "ProgressStyleModel",
      "_view_count": null,
      "_view_module": "@jupyter-widgets/base",
      "_view_module_version": "1.2.0",
      "_view_name": "StyleView",
      "bar_color": null,
      "description_width": ""
     }
    },
    "0586a15b494949459d5b29a28af86935": {
     "model_module": "@jupyter-widgets/base",
     "model_name": "LayoutModel",
     "model_module_version": "1.2.0",
     "state": {
      "_model_module": "@jupyter-widgets/base",
      "_model_module_version": "1.2.0",
      "_model_name": "LayoutModel",
      "_view_count": null,
      "_view_module": "@jupyter-widgets/base",
      "_view_module_version": "1.2.0",
      "_view_name": "LayoutView",
      "align_content": null,
      "align_items": null,
      "align_self": null,
      "border": null,
      "bottom": null,
      "display": null,
      "flex": null,
      "flex_flow": null,
      "grid_area": null,
      "grid_auto_columns": null,
      "grid_auto_flow": null,
      "grid_auto_rows": null,
      "grid_column": null,
      "grid_gap": null,
      "grid_row": null,
      "grid_template_areas": null,
      "grid_template_columns": null,
      "grid_template_rows": null,
      "height": null,
      "justify_content": null,
      "justify_items": null,
      "left": null,
      "margin": null,
      "max_height": null,
      "max_width": null,
      "min_height": null,
      "min_width": null,
      "object_fit": null,
      "object_position": null,
      "order": null,
      "overflow": null,
      "overflow_x": null,
      "overflow_y": null,
      "padding": null,
      "right": null,
      "top": null,
      "visibility": null,
      "width": null
     }
    },
    "89babad0978b41f78acdceaa8fef76f9": {
     "model_module": "@jupyter-widgets/controls",
     "model_name": "DescriptionStyleModel",
     "model_module_version": "1.5.0",
     "state": {
      "_model_module": "@jupyter-widgets/controls",
      "_model_module_version": "1.5.0",
      "_model_name": "DescriptionStyleModel",
      "_view_count": null,
      "_view_module": "@jupyter-widgets/base",
      "_view_module_version": "1.2.0",
      "_view_name": "StyleView",
      "description_width": ""
     }
    },
    "30cfcaedc5ac4dd583dce996f27bceff": {
     "model_module": "@jupyter-widgets/controls",
     "model_name": "HBoxModel",
     "model_module_version": "1.5.0",
     "state": {
      "_dom_classes": [],
      "_model_module": "@jupyter-widgets/controls",
      "_model_module_version": "1.5.0",
      "_model_name": "HBoxModel",
      "_view_count": null,
      "_view_module": "@jupyter-widgets/controls",
      "_view_module_version": "1.5.0",
      "_view_name": "HBoxView",
      "box_style": "",
      "children": [
       "IPY_MODEL_b4d6356a72ee4c8d8706011efba676cb",
       "IPY_MODEL_bcedd5cd0e07435192857dbe620e28c6",
       "IPY_MODEL_135ca866b30d487cb8a7781d3637cec2"
      ],
      "layout": "IPY_MODEL_3d5628254c37431fa98a4e284250abc7"
     }
    },
    "b4d6356a72ee4c8d8706011efba676cb": {
     "model_module": "@jupyter-widgets/controls",
     "model_name": "HTMLModel",
     "model_module_version": "1.5.0",
     "state": {
      "_dom_classes": [],
      "_model_module": "@jupyter-widgets/controls",
      "_model_module_version": "1.5.0",
      "_model_name": "HTMLModel",
      "_view_count": null,
      "_view_module": "@jupyter-widgets/controls",
      "_view_module_version": "1.5.0",
      "_view_name": "HTMLView",
      "description": "",
      "description_tooltip": null,
      "layout": "IPY_MODEL_79878ba63e4e40ad9fb0254e0abdf951",
      "placeholder": "​",
      "style": "IPY_MODEL_1a6908f0949c42ddb7f55d8dc3898f98",
      "value": "config.json: "
     }
    },
    "bcedd5cd0e07435192857dbe620e28c6": {
     "model_module": "@jupyter-widgets/controls",
     "model_name": "FloatProgressModel",
     "model_module_version": "1.5.0",
     "state": {
      "_dom_classes": [],
      "_model_module": "@jupyter-widgets/controls",
      "_model_module_version": "1.5.0",
      "_model_name": "FloatProgressModel",
      "_view_count": null,
      "_view_module": "@jupyter-widgets/controls",
      "_view_module_version": "1.5.0",
      "_view_name": "ProgressView",
      "bar_style": "success",
      "description": "",
      "description_tooltip": null,
      "layout": "IPY_MODEL_bafecdc794444e49a6a8f66c60d9821c",
      "max": 1,
      "min": 0,
      "orientation": "horizontal",
      "style": "IPY_MODEL_75d9a06564e0426fac955eab003e3ae5",
      "value": 1
     }
    },
    "135ca866b30d487cb8a7781d3637cec2": {
     "model_module": "@jupyter-widgets/controls",
     "model_name": "HTMLModel",
     "model_module_version": "1.5.0",
     "state": {
      "_dom_classes": [],
      "_model_module": "@jupyter-widgets/controls",
      "_model_module_version": "1.5.0",
      "_model_name": "HTMLModel",
      "_view_count": null,
      "_view_module": "@jupyter-widgets/controls",
      "_view_module_version": "1.5.0",
      "_view_name": "HTMLView",
      "description": "",
      "description_tooltip": null,
      "layout": "IPY_MODEL_d19a97ec79c14796b2ba076146ed56ae",
      "placeholder": "​",
      "style": "IPY_MODEL_7541c1048db84095a79bd8c8b2d6c608",
      "value": " 70.0k/? [00:00&lt;00:00, 1.07MB/s]"
     }
    },
    "3d5628254c37431fa98a4e284250abc7": {
     "model_module": "@jupyter-widgets/base",
     "model_name": "LayoutModel",
     "model_module_version": "1.2.0",
     "state": {
      "_model_module": "@jupyter-widgets/base",
      "_model_module_version": "1.2.0",
      "_model_name": "LayoutModel",
      "_view_count": null,
      "_view_module": "@jupyter-widgets/base",
      "_view_module_version": "1.2.0",
      "_view_name": "LayoutView",
      "align_content": null,
      "align_items": null,
      "align_self": null,
      "border": null,
      "bottom": null,
      "display": null,
      "flex": null,
      "flex_flow": null,
      "grid_area": null,
      "grid_auto_columns": null,
      "grid_auto_flow": null,
      "grid_auto_rows": null,
      "grid_column": null,
      "grid_gap": null,
      "grid_row": null,
      "grid_template_areas": null,
      "grid_template_columns": null,
      "grid_template_rows": null,
      "height": null,
      "justify_content": null,
      "justify_items": null,
      "left": null,
      "margin": null,
      "max_height": null,
      "max_width": null,
      "min_height": null,
      "min_width": null,
      "object_fit": null,
      "object_position": null,
      "order": null,
      "overflow": null,
      "overflow_x": null,
      "overflow_y": null,
      "padding": null,
      "right": null,
      "top": null,
      "visibility": null,
      "width": null
     }
    },
    "79878ba63e4e40ad9fb0254e0abdf951": {
     "model_module": "@jupyter-widgets/base",
     "model_name": "LayoutModel",
     "model_module_version": "1.2.0",
     "state": {
      "_model_module": "@jupyter-widgets/base",
      "_model_module_version": "1.2.0",
      "_model_name": "LayoutModel",
      "_view_count": null,
      "_view_module": "@jupyter-widgets/base",
      "_view_module_version": "1.2.0",
      "_view_name": "LayoutView",
      "align_content": null,
      "align_items": null,
      "align_self": null,
      "border": null,
      "bottom": null,
      "display": null,
      "flex": null,
      "flex_flow": null,
      "grid_area": null,
      "grid_auto_columns": null,
      "grid_auto_flow": null,
      "grid_auto_rows": null,
      "grid_column": null,
      "grid_gap": null,
      "grid_row": null,
      "grid_template_areas": null,
      "grid_template_columns": null,
      "grid_template_rows": null,
      "height": null,
      "justify_content": null,
      "justify_items": null,
      "left": null,
      "margin": null,
      "max_height": null,
      "max_width": null,
      "min_height": null,
      "min_width": null,
      "object_fit": null,
      "object_position": null,
      "order": null,
      "overflow": null,
      "overflow_x": null,
      "overflow_y": null,
      "padding": null,
      "right": null,
      "top": null,
      "visibility": null,
      "width": null
     }
    },
    "1a6908f0949c42ddb7f55d8dc3898f98": {
     "model_module": "@jupyter-widgets/controls",
     "model_name": "DescriptionStyleModel",
     "model_module_version": "1.5.0",
     "state": {
      "_model_module": "@jupyter-widgets/controls",
      "_model_module_version": "1.5.0",
      "_model_name": "DescriptionStyleModel",
      "_view_count": null,
      "_view_module": "@jupyter-widgets/base",
      "_view_module_version": "1.2.0",
      "_view_name": "StyleView",
      "description_width": ""
     }
    },
    "bafecdc794444e49a6a8f66c60d9821c": {
     "model_module": "@jupyter-widgets/base",
     "model_name": "LayoutModel",
     "model_module_version": "1.2.0",
     "state": {
      "_model_module": "@jupyter-widgets/base",
      "_model_module_version": "1.2.0",
      "_model_name": "LayoutModel",
      "_view_count": null,
      "_view_module": "@jupyter-widgets/base",
      "_view_module_version": "1.2.0",
      "_view_name": "LayoutView",
      "align_content": null,
      "align_items": null,
      "align_self": null,
      "border": null,
      "bottom": null,
      "display": null,
      "flex": null,
      "flex_flow": null,
      "grid_area": null,
      "grid_auto_columns": null,
      "grid_auto_flow": null,
      "grid_auto_rows": null,
      "grid_column": null,
      "grid_gap": null,
      "grid_row": null,
      "grid_template_areas": null,
      "grid_template_columns": null,
      "grid_template_rows": null,
      "height": null,
      "justify_content": null,
      "justify_items": null,
      "left": null,
      "margin": null,
      "max_height": null,
      "max_width": null,
      "min_height": null,
      "min_width": null,
      "object_fit": null,
      "object_position": null,
      "order": null,
      "overflow": null,
      "overflow_x": null,
      "overflow_y": null,
      "padding": null,
      "right": null,
      "top": null,
      "visibility": null,
      "width": "20px"
     }
    },
    "75d9a06564e0426fac955eab003e3ae5": {
     "model_module": "@jupyter-widgets/controls",
     "model_name": "ProgressStyleModel",
     "model_module_version": "1.5.0",
     "state": {
      "_model_module": "@jupyter-widgets/controls",
      "_model_module_version": "1.5.0",
      "_model_name": "ProgressStyleModel",
      "_view_count": null,
      "_view_module": "@jupyter-widgets/base",
      "_view_module_version": "1.2.0",
      "_view_name": "StyleView",
      "bar_color": null,
      "description_width": ""
     }
    },
    "d19a97ec79c14796b2ba076146ed56ae": {
     "model_module": "@jupyter-widgets/base",
     "model_name": "LayoutModel",
     "model_module_version": "1.2.0",
     "state": {
      "_model_module": "@jupyter-widgets/base",
      "_model_module_version": "1.2.0",
      "_model_name": "LayoutModel",
      "_view_count": null,
      "_view_module": "@jupyter-widgets/base",
      "_view_module_version": "1.2.0",
      "_view_name": "LayoutView",
      "align_content": null,
      "align_items": null,
      "align_self": null,
      "border": null,
      "bottom": null,
      "display": null,
      "flex": null,
      "flex_flow": null,
      "grid_area": null,
      "grid_auto_columns": null,
      "grid_auto_flow": null,
      "grid_auto_rows": null,
      "grid_column": null,
      "grid_gap": null,
      "grid_row": null,
      "grid_template_areas": null,
      "grid_template_columns": null,
      "grid_template_rows": null,
      "height": null,
      "justify_content": null,
      "justify_items": null,
      "left": null,
      "margin": null,
      "max_height": null,
      "max_width": null,
      "min_height": null,
      "min_width": null,
      "object_fit": null,
      "object_position": null,
      "order": null,
      "overflow": null,
      "overflow_x": null,
      "overflow_y": null,
      "padding": null,
      "right": null,
      "top": null,
      "visibility": null,
      "width": null
     }
    },
    "7541c1048db84095a79bd8c8b2d6c608": {
     "model_module": "@jupyter-widgets/controls",
     "model_name": "DescriptionStyleModel",
     "model_module_version": "1.5.0",
     "state": {
      "_model_module": "@jupyter-widgets/controls",
      "_model_module_version": "1.5.0",
      "_model_name": "DescriptionStyleModel",
      "_view_count": null,
      "_view_module": "@jupyter-widgets/base",
      "_view_module_version": "1.2.0",
      "_view_name": "StyleView",
      "description_width": ""
     }
    },
    "04aa31d0edd14ba295ad1fcafcc6d267": {
     "model_module": "@jupyter-widgets/controls",
     "model_name": "HBoxModel",
     "model_module_version": "1.5.0",
     "state": {
      "_dom_classes": [],
      "_model_module": "@jupyter-widgets/controls",
      "_model_module_version": "1.5.0",
      "_model_name": "HBoxModel",
      "_view_count": null,
      "_view_module": "@jupyter-widgets/controls",
      "_view_module_version": "1.5.0",
      "_view_name": "HBoxView",
      "box_style": "",
      "children": [
       "IPY_MODEL_a32d396e8d23483a823959ee8dc9e5b3",
       "IPY_MODEL_46ae8e60600c44d3a6c49c434e3dcd44",
       "IPY_MODEL_786d45ccfc794f87b944a00f0b4e1635"
      ],
      "layout": "IPY_MODEL_e0170762ca3a41c7a237acf0dc40d424"
     }
    },
    "a32d396e8d23483a823959ee8dc9e5b3": {
     "model_module": "@jupyter-widgets/controls",
     "model_name": "HTMLModel",
     "model_module_version": "1.5.0",
     "state": {
      "_dom_classes": [],
      "_model_module": "@jupyter-widgets/controls",
      "_model_module_version": "1.5.0",
      "_model_name": "HTMLModel",
      "_view_count": null,
      "_view_module": "@jupyter-widgets/controls",
      "_view_module_version": "1.5.0",
      "_view_name": "HTMLView",
      "description": "",
      "description_tooltip": null,
      "layout": "IPY_MODEL_f43f11646b4e43fa80d6b85ca02af977",
      "placeholder": "​",
      "style": "IPY_MODEL_ee72d3be77c34204928d142cd4ece2e9",
      "value": "pytorch_model.bin: 100%"
     }
    },
    "46ae8e60600c44d3a6c49c434e3dcd44": {
     "model_module": "@jupyter-widgets/controls",
     "model_name": "FloatProgressModel",
     "model_module_version": "1.5.0",
     "state": {
      "_dom_classes": [],
      "_model_module": "@jupyter-widgets/controls",
      "_model_module_version": "1.5.0",
      "_model_name": "FloatProgressModel",
      "_view_count": null,
      "_view_module": "@jupyter-widgets/controls",
      "_view_module_version": "1.5.0",
      "_view_name": "ProgressView",
      "bar_style": "success",
      "description": "",
      "description_tooltip": null,
      "layout": "IPY_MODEL_a538a4bdd54a437a87e21900193f1cc9",
      "max": 98978917,
      "min": 0,
      "orientation": "horizontal",
      "style": "IPY_MODEL_6908cbe63c5e4a1dbde95358bb7d0a16",
      "value": 98978917
     }
    },
    "786d45ccfc794f87b944a00f0b4e1635": {
     "model_module": "@jupyter-widgets/controls",
     "model_name": "HTMLModel",
     "model_module_version": "1.5.0",
     "state": {
      "_dom_classes": [],
      "_model_module": "@jupyter-widgets/controls",
      "_model_module_version": "1.5.0",
      "_model_name": "HTMLModel",
      "_view_count": null,
      "_view_module": "@jupyter-widgets/controls",
      "_view_module_version": "1.5.0",
      "_view_name": "HTMLView",
      "description": "",
      "description_tooltip": null,
      "layout": "IPY_MODEL_08b8a8d932344c76b4e3422e30981e62",
      "placeholder": "​",
      "style": "IPY_MODEL_9b4db6c3e702439e9f3da82c64ec9e0c",
      "value": " 99.0M/99.0M [00:02&lt;00:00, 73.0MB/s]"
     }
    },
    "e0170762ca3a41c7a237acf0dc40d424": {
     "model_module": "@jupyter-widgets/base",
     "model_name": "LayoutModel",
     "model_module_version": "1.2.0",
     "state": {
      "_model_module": "@jupyter-widgets/base",
      "_model_module_version": "1.2.0",
      "_model_name": "LayoutModel",
      "_view_count": null,
      "_view_module": "@jupyter-widgets/base",
      "_view_module_version": "1.2.0",
      "_view_name": "LayoutView",
      "align_content": null,
      "align_items": null,
      "align_self": null,
      "border": null,
      "bottom": null,
      "display": null,
      "flex": null,
      "flex_flow": null,
      "grid_area": null,
      "grid_auto_columns": null,
      "grid_auto_flow": null,
      "grid_auto_rows": null,
      "grid_column": null,
      "grid_gap": null,
      "grid_row": null,
      "grid_template_areas": null,
      "grid_template_columns": null,
      "grid_template_rows": null,
      "height": null,
      "justify_content": null,
      "justify_items": null,
      "left": null,
      "margin": null,
      "max_height": null,
      "max_width": null,
      "min_height": null,
      "min_width": null,
      "object_fit": null,
      "object_position": null,
      "order": null,
      "overflow": null,
      "overflow_x": null,
      "overflow_y": null,
      "padding": null,
      "right": null,
      "top": null,
      "visibility": null,
      "width": null
     }
    },
    "f43f11646b4e43fa80d6b85ca02af977": {
     "model_module": "@jupyter-widgets/base",
     "model_name": "LayoutModel",
     "model_module_version": "1.2.0",
     "state": {
      "_model_module": "@jupyter-widgets/base",
      "_model_module_version": "1.2.0",
      "_model_name": "LayoutModel",
      "_view_count": null,
      "_view_module": "@jupyter-widgets/base",
      "_view_module_version": "1.2.0",
      "_view_name": "LayoutView",
      "align_content": null,
      "align_items": null,
      "align_self": null,
      "border": null,
      "bottom": null,
      "display": null,
      "flex": null,
      "flex_flow": null,
      "grid_area": null,
      "grid_auto_columns": null,
      "grid_auto_flow": null,
      "grid_auto_rows": null,
      "grid_column": null,
      "grid_gap": null,
      "grid_row": null,
      "grid_template_areas": null,
      "grid_template_columns": null,
      "grid_template_rows": null,
      "height": null,
      "justify_content": null,
      "justify_items": null,
      "left": null,
      "margin": null,
      "max_height": null,
      "max_width": null,
      "min_height": null,
      "min_width": null,
      "object_fit": null,
      "object_position": null,
      "order": null,
      "overflow": null,
      "overflow_x": null,
      "overflow_y": null,
      "padding": null,
      "right": null,
      "top": null,
      "visibility": null,
      "width": null
     }
    },
    "ee72d3be77c34204928d142cd4ece2e9": {
     "model_module": "@jupyter-widgets/controls",
     "model_name": "DescriptionStyleModel",
     "model_module_version": "1.5.0",
     "state": {
      "_model_module": "@jupyter-widgets/controls",
      "_model_module_version": "1.5.0",
      "_model_name": "DescriptionStyleModel",
      "_view_count": null,
      "_view_module": "@jupyter-widgets/base",
      "_view_module_version": "1.2.0",
      "_view_name": "StyleView",
      "description_width": ""
     }
    },
    "a538a4bdd54a437a87e21900193f1cc9": {
     "model_module": "@jupyter-widgets/base",
     "model_name": "LayoutModel",
     "model_module_version": "1.2.0",
     "state": {
      "_model_module": "@jupyter-widgets/base",
      "_model_module_version": "1.2.0",
      "_model_name": "LayoutModel",
      "_view_count": null,
      "_view_module": "@jupyter-widgets/base",
      "_view_module_version": "1.2.0",
      "_view_name": "LayoutView",
      "align_content": null,
      "align_items": null,
      "align_self": null,
      "border": null,
      "bottom": null,
      "display": null,
      "flex": null,
      "flex_flow": null,
      "grid_area": null,
      "grid_auto_columns": null,
      "grid_auto_flow": null,
      "grid_auto_rows": null,
      "grid_column": null,
      "grid_gap": null,
      "grid_row": null,
      "grid_template_areas": null,
      "grid_template_columns": null,
      "grid_template_rows": null,
      "height": null,
      "justify_content": null,
      "justify_items": null,
      "left": null,
      "margin": null,
      "max_height": null,
      "max_width": null,
      "min_height": null,
      "min_width": null,
      "object_fit": null,
      "object_position": null,
      "order": null,
      "overflow": null,
      "overflow_x": null,
      "overflow_y": null,
      "padding": null,
      "right": null,
      "top": null,
      "visibility": null,
      "width": null
     }
    },
    "6908cbe63c5e4a1dbde95358bb7d0a16": {
     "model_module": "@jupyter-widgets/controls",
     "model_name": "ProgressStyleModel",
     "model_module_version": "1.5.0",
     "state": {
      "_model_module": "@jupyter-widgets/controls",
      "_model_module_version": "1.5.0",
      "_model_name": "ProgressStyleModel",
      "_view_count": null,
      "_view_module": "@jupyter-widgets/base",
      "_view_module_version": "1.2.0",
      "_view_name": "StyleView",
      "bar_color": null,
      "description_width": ""
     }
    },
    "08b8a8d932344c76b4e3422e30981e62": {
     "model_module": "@jupyter-widgets/base",
     "model_name": "LayoutModel",
     "model_module_version": "1.2.0",
     "state": {
      "_model_module": "@jupyter-widgets/base",
      "_model_module_version": "1.2.0",
      "_model_name": "LayoutModel",
      "_view_count": null,
      "_view_module": "@jupyter-widgets/base",
      "_view_module_version": "1.2.0",
      "_view_name": "LayoutView",
      "align_content": null,
      "align_items": null,
      "align_self": null,
      "border": null,
      "bottom": null,
      "display": null,
      "flex": null,
      "flex_flow": null,
      "grid_area": null,
      "grid_auto_columns": null,
      "grid_auto_flow": null,
      "grid_auto_rows": null,
      "grid_column": null,
      "grid_gap": null,
      "grid_row": null,
      "grid_template_areas": null,
      "grid_template_columns": null,
      "grid_template_rows": null,
      "height": null,
      "justify_content": null,
      "justify_items": null,
      "left": null,
      "margin": null,
      "max_height": null,
      "max_width": null,
      "min_height": null,
      "min_width": null,
      "object_fit": null,
      "object_position": null,
      "order": null,
      "overflow": null,
      "overflow_x": null,
      "overflow_y": null,
      "padding": null,
      "right": null,
      "top": null,
      "visibility": null,
      "width": null
     }
    },
    "9b4db6c3e702439e9f3da82c64ec9e0c": {
     "model_module": "@jupyter-widgets/controls",
     "model_name": "DescriptionStyleModel",
     "model_module_version": "1.5.0",
     "state": {
      "_model_module": "@jupyter-widgets/controls",
      "_model_module_version": "1.5.0",
      "_model_name": "DescriptionStyleModel",
      "_view_count": null,
      "_view_module": "@jupyter-widgets/base",
      "_view_module_version": "1.2.0",
      "_view_name": "StyleView",
      "description_width": ""
     }
    },
    "33dc0625da344f5c8cc667bcf2e89874": {
     "model_module": "@jupyter-widgets/controls",
     "model_name": "HBoxModel",
     "model_module_version": "1.5.0",
     "state": {
      "_dom_classes": [],
      "_model_module": "@jupyter-widgets/controls",
      "_model_module_version": "1.5.0",
      "_model_name": "HBoxModel",
      "_view_count": null,
      "_view_module": "@jupyter-widgets/controls",
      "_view_module_version": "1.5.0",
      "_view_name": "HBoxView",
      "box_style": "",
      "children": [
       "IPY_MODEL_7a56cb5f33c54bd189f8aa9a6ae7e1df",
       "IPY_MODEL_54f34769f31a480faceec0944f28bef9",
       "IPY_MODEL_eb1a28a294bc4b82868d3d0206b6a447"
      ],
      "layout": "IPY_MODEL_61adf26924f645caa52f6bdb9d45a84d"
     }
    },
    "7a56cb5f33c54bd189f8aa9a6ae7e1df": {
     "model_module": "@jupyter-widgets/controls",
     "model_name": "HTMLModel",
     "model_module_version": "1.5.0",
     "state": {
      "_dom_classes": [],
      "_model_module": "@jupyter-widgets/controls",
      "_model_module_version": "1.5.0",
      "_model_name": "HTMLModel",
      "_view_count": null,
      "_view_module": "@jupyter-widgets/controls",
      "_view_module_version": "1.5.0",
      "_view_name": "HTMLView",
      "description": "",
      "description_tooltip": null,
      "layout": "IPY_MODEL_ecdf803f5ae34104aca8f93964c843ab",
      "placeholder": "​",
      "style": "IPY_MODEL_25a6cb07701144bd9077e53075011a30",
      "value": "model.safetensors: 100%"
     }
    },
    "54f34769f31a480faceec0944f28bef9": {
     "model_module": "@jupyter-widgets/controls",
     "model_name": "FloatProgressModel",
     "model_module_version": "1.5.0",
     "state": {
      "_dom_classes": [],
      "_model_module": "@jupyter-widgets/controls",
      "_model_module_version": "1.5.0",
      "_model_name": "FloatProgressModel",
      "_view_count": null,
      "_view_module": "@jupyter-widgets/controls",
      "_view_module_version": "1.5.0",
      "_view_name": "ProgressView",
      "bar_style": "success",
      "description": "",
      "description_tooltip": null,
      "layout": "IPY_MODEL_454df4e5c1c14b8781b80c8211d87545",
      "max": 98880702,
      "min": 0,
      "orientation": "horizontal",
      "style": "IPY_MODEL_3237f426e7ba4159acedf903c669bf76",
      "value": 98880702
     }
    },
    "eb1a28a294bc4b82868d3d0206b6a447": {
     "model_module": "@jupyter-widgets/controls",
     "model_name": "HTMLModel",
     "model_module_version": "1.5.0",
     "state": {
      "_dom_classes": [],
      "_model_module": "@jupyter-widgets/controls",
      "_model_module_version": "1.5.0",
      "_model_name": "HTMLModel",
      "_view_count": null,
      "_view_module": "@jupyter-widgets/controls",
      "_view_module_version": "1.5.0",
      "_view_name": "HTMLView",
      "description": "",
      "description_tooltip": null,
      "layout": "IPY_MODEL_18f02523e4ff4a359a4c94d4d4cfc1a9",
      "placeholder": "​",
      "style": "IPY_MODEL_33c5529c6fdc44a1824b3a189db49f4e",
      "value": " 98.9M/98.9M [00:01&lt;00:00, 109MB/s]"
     }
    },
    "61adf26924f645caa52f6bdb9d45a84d": {
     "model_module": "@jupyter-widgets/base",
     "model_name": "LayoutModel",
     "model_module_version": "1.2.0",
     "state": {
      "_model_module": "@jupyter-widgets/base",
      "_model_module_version": "1.2.0",
      "_model_name": "LayoutModel",
      "_view_count": null,
      "_view_module": "@jupyter-widgets/base",
      "_view_module_version": "1.2.0",
      "_view_name": "LayoutView",
      "align_content": null,
      "align_items": null,
      "align_self": null,
      "border": null,
      "bottom": null,
      "display": null,
      "flex": null,
      "flex_flow": null,
      "grid_area": null,
      "grid_auto_columns": null,
      "grid_auto_flow": null,
      "grid_auto_rows": null,
      "grid_column": null,
      "grid_gap": null,
      "grid_row": null,
      "grid_template_areas": null,
      "grid_template_columns": null,
      "grid_template_rows": null,
      "height": null,
      "justify_content": null,
      "justify_items": null,
      "left": null,
      "margin": null,
      "max_height": null,
      "max_width": null,
      "min_height": null,
      "min_width": null,
      "object_fit": null,
      "object_position": null,
      "order": null,
      "overflow": null,
      "overflow_x": null,
      "overflow_y": null,
      "padding": null,
      "right": null,
      "top": null,
      "visibility": null,
      "width": null
     }
    },
    "ecdf803f5ae34104aca8f93964c843ab": {
     "model_module": "@jupyter-widgets/base",
     "model_name": "LayoutModel",
     "model_module_version": "1.2.0",
     "state": {
      "_model_module": "@jupyter-widgets/base",
      "_model_module_version": "1.2.0",
      "_model_name": "LayoutModel",
      "_view_count": null,
      "_view_module": "@jupyter-widgets/base",
      "_view_module_version": "1.2.0",
      "_view_name": "LayoutView",
      "align_content": null,
      "align_items": null,
      "align_self": null,
      "border": null,
      "bottom": null,
      "display": null,
      "flex": null,
      "flex_flow": null,
      "grid_area": null,
      "grid_auto_columns": null,
      "grid_auto_flow": null,
      "grid_auto_rows": null,
      "grid_column": null,
      "grid_gap": null,
      "grid_row": null,
      "grid_template_areas": null,
      "grid_template_columns": null,
      "grid_template_rows": null,
      "height": null,
      "justify_content": null,
      "justify_items": null,
      "left": null,
      "margin": null,
      "max_height": null,
      "max_width": null,
      "min_height": null,
      "min_width": null,
      "object_fit": null,
      "object_position": null,
      "order": null,
      "overflow": null,
      "overflow_x": null,
      "overflow_y": null,
      "padding": null,
      "right": null,
      "top": null,
      "visibility": null,
      "width": null
     }
    },
    "25a6cb07701144bd9077e53075011a30": {
     "model_module": "@jupyter-widgets/controls",
     "model_name": "DescriptionStyleModel",
     "model_module_version": "1.5.0",
     "state": {
      "_model_module": "@jupyter-widgets/controls",
      "_model_module_version": "1.5.0",
      "_model_name": "DescriptionStyleModel",
      "_view_count": null,
      "_view_module": "@jupyter-widgets/base",
      "_view_module_version": "1.2.0",
      "_view_name": "StyleView",
      "description_width": ""
     }
    },
    "454df4e5c1c14b8781b80c8211d87545": {
     "model_module": "@jupyter-widgets/base",
     "model_name": "LayoutModel",
     "model_module_version": "1.2.0",
     "state": {
      "_model_module": "@jupyter-widgets/base",
      "_model_module_version": "1.2.0",
      "_model_name": "LayoutModel",
      "_view_count": null,
      "_view_module": "@jupyter-widgets/base",
      "_view_module_version": "1.2.0",
      "_view_name": "LayoutView",
      "align_content": null,
      "align_items": null,
      "align_self": null,
      "border": null,
      "bottom": null,
      "display": null,
      "flex": null,
      "flex_flow": null,
      "grid_area": null,
      "grid_auto_columns": null,
      "grid_auto_flow": null,
      "grid_auto_rows": null,
      "grid_column": null,
      "grid_gap": null,
      "grid_row": null,
      "grid_template_areas": null,
      "grid_template_columns": null,
      "grid_template_rows": null,
      "height": null,
      "justify_content": null,
      "justify_items": null,
      "left": null,
      "margin": null,
      "max_height": null,
      "max_width": null,
      "min_height": null,
      "min_width": null,
      "object_fit": null,
      "object_position": null,
      "order": null,
      "overflow": null,
      "overflow_x": null,
      "overflow_y": null,
      "padding": null,
      "right": null,
      "top": null,
      "visibility": null,
      "width": null
     }
    },
    "3237f426e7ba4159acedf903c669bf76": {
     "model_module": "@jupyter-widgets/controls",
     "model_name": "ProgressStyleModel",
     "model_module_version": "1.5.0",
     "state": {
      "_model_module": "@jupyter-widgets/controls",
      "_model_module_version": "1.5.0",
      "_model_name": "ProgressStyleModel",
      "_view_count": null,
      "_view_module": "@jupyter-widgets/base",
      "_view_module_version": "1.2.0",
      "_view_name": "StyleView",
      "bar_color": null,
      "description_width": ""
     }
    },
    "18f02523e4ff4a359a4c94d4d4cfc1a9": {
     "model_module": "@jupyter-widgets/base",
     "model_name": "LayoutModel",
     "model_module_version": "1.2.0",
     "state": {
      "_model_module": "@jupyter-widgets/base",
      "_model_module_version": "1.2.0",
      "_model_name": "LayoutModel",
      "_view_count": null,
      "_view_module": "@jupyter-widgets/base",
      "_view_module_version": "1.2.0",
      "_view_name": "LayoutView",
      "align_content": null,
      "align_items": null,
      "align_self": null,
      "border": null,
      "bottom": null,
      "display": null,
      "flex": null,
      "flex_flow": null,
      "grid_area": null,
      "grid_auto_columns": null,
      "grid_auto_flow": null,
      "grid_auto_rows": null,
      "grid_column": null,
      "grid_gap": null,
      "grid_row": null,
      "grid_template_areas": null,
      "grid_template_columns": null,
      "grid_template_rows": null,
      "height": null,
      "justify_content": null,
      "justify_items": null,
      "left": null,
      "margin": null,
      "max_height": null,
      "max_width": null,
      "min_height": null,
      "min_width": null,
      "object_fit": null,
      "object_position": null,
      "order": null,
      "overflow": null,
      "overflow_x": null,
      "overflow_y": null,
      "padding": null,
      "right": null,
      "top": null,
      "visibility": null,
      "width": null
     }
    },
    "33c5529c6fdc44a1824b3a189db49f4e": {
     "model_module": "@jupyter-widgets/controls",
     "model_name": "DescriptionStyleModel",
     "model_module_version": "1.5.0",
     "state": {
      "_model_module": "@jupyter-widgets/controls",
      "_model_module_version": "1.5.0",
      "_model_name": "DescriptionStyleModel",
      "_view_count": null,
      "_view_module": "@jupyter-widgets/base",
      "_view_module_version": "1.2.0",
      "_view_name": "StyleView",
      "description_width": ""
     }
    }
   }
  }
 },
 "nbformat": 4,
 "nbformat_minor": 0
}
