{
 "cells": [
  {
   "metadata": {},
   "cell_type": "markdown",
   "source": [
    "# Group 3 - Coral Bleaching Detection\n",
    "## JBG060 Capstone Data Challenge 2025-2026 Q1\n",
    "This file runs the SegFormer - MiT-B2 model on the dataset specified in `root` in the file `config.py`.\n",
    "\n",
    "After training, inference is run on the test set where evaluation metrics will be calculated and printed in a table format.\n",
    "\n",
    "Additionally, an image will be sampled from the dataset where a Grad-CAM heatmap is placed over the image.\n",
    "The heatmap shows the regions that the model found most important for its output."
   ],
   "id": "289a9a460c1c604f"
  },
  {
   "metadata": {},
   "cell_type": "code",
   "source": [
    "# imports\n",
    "import torch\n",
    "from image_preprocessing import ImagePreprocessing\n",
    "from config import __RANDOM_STATE__, root, input_path, output_path\n",
    "from fine_tune import fine_tune, color_cluster\n",
    "from inference import inference\n",
    "from gradcam import grad_cam"
   ],
   "id": "b185b58dd93292ac",
   "outputs": [],
   "execution_count": null
  },
  {
   "metadata": {},
   "cell_type": "code",
   "source": [
    "# set seed for reproducibility\n",
    "torch.manual_seed(__RANDOM_STATE__)\n",
    "torch.cuda.manual_seed(__RANDOM_STATE__)\n",
    "torch.backends.cudnn.deterministic = True\n",
    "torch.backends.cudnn.benchmark = True"
   ],
   "id": "61a0fa1b22014f0f",
   "outputs": [],
   "execution_count": null
  },
  {
   "metadata": {},
   "cell_type": "markdown",
   "source": [
    "### Perform Image Preprocessing\n",
    "The code for these functions can be found in `image_preprocessing.py`."
   ],
   "id": "6b074707f99d3565"
  },
  {
   "metadata": {},
   "cell_type": "code",
   "outputs": [],
   "execution_count": null,
   "source": [
    "# preprocess images\n",
    "processed_images = ImagePreprocessing(input_path, output_path)\n",
    "processed_images.cluster_images()  # cluster images\n",
    "processed_images.apply_filters()  # apply CMY filters to each cluster\n",
    "color, cluster = color_cluster(root)  # to name the checkpoints folder"
   ],
   "id": "ac2a576a747fccb4"
  },
  {
   "metadata": {},
   "cell_type": "code",
   "source": [
    "# connect to GPU, else use CPU\n",
    "device_count = torch.cuda.device_count()  # connect to GPU\n",
    "device = torch.device(\"cuda\") if torch.cuda.is_available() else torch.device(\"cpu\")\n",
    "for i in range(device_count):\n",
    "    print(f\"CUDA device {i}: {torch.cuda.get_device_name(i)}\")"
   ],
   "id": "5ffb7feaf621fc81",
   "outputs": [],
   "execution_count": null
  },
  {
   "metadata": {},
   "cell_type": "markdown",
   "source": [
    "### Fine-tune the Model\n",
    "The code can be found in `fine_tune.py`."
   ],
   "id": "c8bd424587838953"
  },
  {
   "metadata": {},
   "cell_type": "code",
   "source": [
    "# fine-tune model on dataset specified in `root` variable in `config.py` file\n",
    "fine_tune(device=device, color=color, cluster=cluster, num_classes=3)"
   ],
   "id": "cee6532743709bd5",
   "outputs": [],
   "execution_count": null
  },
  {
   "metadata": {},
   "cell_type": "markdown",
   "source": [
    "### Obtain Evaluation Metrics on the Test Set\n",
    "The code can be found in `inference.py`."
   ],
   "id": "360e8c4e8f22caac"
  },
  {
   "metadata": {},
   "cell_type": "code",
   "source": [
    "# inference: get evaluation metrics on test set\n",
    "inference(N_CLASSES=3, device=device)"
   ],
   "id": "d7968f3125cb52c8",
   "outputs": [],
   "execution_count": null
  },
  {
   "metadata": {},
   "cell_type": "markdown",
   "source": [
    "### Explainability of the Model\n",
    "The code can be found in `gradcam.py`."
   ],
   "id": "81e3331f45ad640a"
  },
  {
   "metadata": {},
   "cell_type": "code",
   "source": [
    "# run Grad-CAM on a sample image\n",
    "grad_cam(N_CLASSES=3, DEVICE=device)"
   ],
   "id": "31cdd9721548281f",
   "outputs": [],
   "execution_count": null
  }
 ],
 "metadata": {
  "kernelspec": {
   "display_name": "Python 3",
   "language": "python",
   "name": "python3"
  },
  "language_info": {
   "codemirror_mode": {
    "name": "ipython",
    "version": 2
   },
   "file_extension": ".py",
   "mimetype": "text/x-python",
   "name": "python",
   "nbconvert_exporter": "python",
   "pygments_lexer": "ipython2",
   "version": "2.7.6"
  }
 },
 "nbformat": 4,
 "nbformat_minor": 5
}
