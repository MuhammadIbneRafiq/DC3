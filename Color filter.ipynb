{
 "cells": [
  {
   "cell_type": "code",
   "execution_count": 3,
   "id": "b69df1f9",
   "metadata": {},
   "outputs": [
    {
     "name": "stdout",
     "output_type": "stream",
     "text": [
      "Collecting Pillow\n",
      "  Downloading pillow-11.3.0-cp311-cp311-win_amd64.whl.metadata (9.2 kB)\n",
      "Downloading pillow-11.3.0-cp311-cp311-win_amd64.whl (7.0 MB)\n",
      "   ---------------------------------------- 0.0/7.0 MB ? eta -:--:--\n",
      "   ------------ --------------------------- 2.1/7.0 MB 19.7 MB/s eta 0:00:01\n",
      "   ------------------------------ --------- 5.2/7.0 MB 13.3 MB/s eta 0:00:01\n",
      "   ---------------------------------------- 7.0/7.0 MB 13.9 MB/s  0:00:00\n",
      "Installing collected packages: Pillow\n",
      "Successfully installed Pillow-11.3.0\n"
     ]
    }
   ],
   "source": [
    "!pip install Pillow"
   ]
  },
  {
   "cell_type": "code",
   "execution_count": 4,
   "id": "3557c80a7187e724",
   "metadata": {
    "ExecuteTime": {
     "end_time": "2025-10-08T13:02:12.918929Z",
     "start_time": "2025-10-08T13:02:12.886602Z"
    }
   },
   "outputs": [],
   "source": [
    "from PIL import Image\n",
    "import os"
   ]
  },
  {
   "cell_type": "code",
   "execution_count": null,
   "id": "f272b8bb17c3cd98",
   "metadata": {
    "ExecuteTime": {
     "end_time": "2025-10-08T13:02:12.921939Z",
     "start_time": "2025-10-08T13:02:12.918929Z"
    }
   },
   "outputs": [],
   "source": [
    "input_folder = \"./similar_images\"         #change file path if needed\n",
    "output_base = \"/DC3/test_filtered_image\"    \n",
    "intensity = 0.4           # Adjust 0.0–1.0 (higher = stronger red overlay)"
   ]
  },
  {
   "cell_type": "code",
   "execution_count": 6,
   "id": "703ebf837f318f9d",
   "metadata": {
    "ExecuteTime": {
     "end_time": "2025-10-08T13:02:12.926151Z",
     "start_time": "2025-10-08T13:02:12.921939Z"
    }
   },
   "outputs": [],
   "source": [
    "color_filters = {\n",
    "    \"red\": (255, 0, 0),\n",
    "    \"green\": (0, 255, 0),\n",
    "    \"blue\": (0, 0, 255),\n",
    "    \"cyan\": (0, 255, 255),\n",
    "    \"magenta\": (255, 0, 255),\n",
    "    \"yellow\": (255, 255, 0),\n",
    "}"
   ]
  },
  {
   "cell_type": "code",
   "execution_count": 7,
   "id": "initial_id",
   "metadata": {
    "ExecuteTime": {
     "end_time": "2025-10-08T13:02:20.161660Z",
     "start_time": "2025-10-08T13:02:12.926151Z"
    }
   },
   "outputs": [
    {
     "ename": "FileNotFoundError",
     "evalue": "[WinError 3] The system cannot find the path specified: '/DC3/similar_images'",
     "output_type": "error",
     "traceback": [
      "\u001b[31m---------------------------------------------------------------------------\u001b[39m",
      "\u001b[31mFileNotFoundError\u001b[39m                         Traceback (most recent call last)",
      "\u001b[36mCell\u001b[39m\u001b[36m \u001b[39m\u001b[32mIn[7]\u001b[39m\u001b[32m, line 10\u001b[39m\n\u001b[32m      7\u001b[39m output_folder = os.path.join(output_base, color_name)\n\u001b[32m      8\u001b[39m os.makedirs(output_folder, exist_ok=\u001b[38;5;28;01mTrue\u001b[39;00m)\n\u001b[32m---> \u001b[39m\u001b[32m10\u001b[39m \u001b[38;5;28;01mfor\u001b[39;00m filename \u001b[38;5;129;01min\u001b[39;00m \u001b[43mos\u001b[49m\u001b[43m.\u001b[49m\u001b[43mlistdir\u001b[49m\u001b[43m(\u001b[49m\u001b[43minput_folder\u001b[49m\u001b[43m)\u001b[49m:\n\u001b[32m     11\u001b[39m     \u001b[38;5;28;01mif\u001b[39;00m filename.lower().endswith((\u001b[33m\"\u001b[39m\u001b[33m.jpg\u001b[39m\u001b[33m\"\u001b[39m, \u001b[33m\"\u001b[39m\u001b[33m.jpeg\u001b[39m\u001b[33m\"\u001b[39m, \u001b[33m\"\u001b[39m\u001b[33m.png\u001b[39m\u001b[33m\"\u001b[39m, \u001b[33m\"\u001b[39m\u001b[33m.bmp\u001b[39m\u001b[33m\"\u001b[39m, \u001b[33m\"\u001b[39m\u001b[33m.tiff\u001b[39m\u001b[33m\"\u001b[39m)):\n\u001b[32m     12\u001b[39m         img_path = os.path.join(input_folder, filename)\n",
      "\u001b[31mFileNotFoundError\u001b[39m: [WinError 3] The system cannot find the path specified: '/DC3/similar_images'"
     ]
    }
   ],
   "source": [
    "def apply_color_filter(image, color, intensity):\n",
    "    \"\"\"Apply semi-transparent color overlay.\"\"\"\n",
    "    overlay = Image.new(\"RGBA\", image.size, color + (int(255 * intensity),))\n",
    "    return Image.alpha_composite(image.convert(\"RGBA\"), overlay).convert(\"RGB\")\n",
    "\n",
    "for color_name, rgb in color_filters.items():\n",
    "    output_folder = os.path.join(output_base, color_name)\n",
    "    os.makedirs(output_folder, exist_ok=True)\n",
    "\n",
    "    for filename in os.listdir(input_folder):\n",
    "        if filename.lower().endswith((\".jpg\", \".jpeg\", \".png\", \".bmp\", \".tiff\")):\n",
    "            img_path = os.path.join(input_folder, filename)\n",
    "            img = Image.open(img_path)\n",
    "\n",
    "            filtered_img = apply_color_filter(img, rgb, intensity)\n",
    "\n",
    "            output_path = os.path.join(output_folder, filename)\n",
    "            filtered_img.save(output_path)\n",
    "\n",
    "            print(f\"{color_name.capitalize()} filter applied to {filename}\")\n",
    "\n",
    "print(\"Done\")\n"
   ]
  }
 ],
 "metadata": {
  "kernelspec": {
   "display_name": "Python 3",
   "language": "python",
   "name": "python3"
  },
  "language_info": {
   "codemirror_mode": {
    "name": "ipython",
    "version": 3
   },
   "file_extension": ".py",
   "mimetype": "text/x-python",
   "name": "python",
   "nbconvert_exporter": "python",
   "pygments_lexer": "ipython3",
   "version": "3.11.13"
  }
 },
 "nbformat": 4,
 "nbformat_minor": 5
}
