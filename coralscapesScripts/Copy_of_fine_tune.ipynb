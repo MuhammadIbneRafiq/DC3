{
 "cells": [
  {
   "cell_type": "markdown",
   "metadata": {
    "id": "CRJVLuDR_TTl"
   },
   "source": [
    "## Note\n",
    "This notebook serves as a mini tutorial on what you need to fine tune the model on a custom dataset in the simplest way.\n",
    "\n",
    "The main things that need to be done to do so is to create a dataset class following the implementation of the Coralscapes class and to add the model checkpoint in the arguments of the training script or in the configuration file."
   ]
  },
  {
   "cell_type": "markdown",
   "source": [
    "### Running the finetune script on top of this"
   ],
   "metadata": {
    "id": "T8nc8abMAXPv"
   }
  },
  {
   "cell_type": "code",
   "source": [
    "# from google.colab import drive\n",
    "# drive.mount('/content/drive')"
   ],
   "metadata": {
    "colab": {
     "base_uri": "https://localhost:8080/"
    },
    "id": "hyl3wBc-_5TQ",
    "outputId": "70e461c3-ad18-4d97-a0cd-940417adf24f",
    "ExecuteTime": {
     "end_time": "2025-10-14T08:41:11.414407Z",
     "start_time": "2025-10-14T08:41:11.405544Z"
    }
   },
   "outputs": [],
   "execution_count": 1
  },
  {
   "cell_type": "code",
   "source": [
    "# %cd /content/drive/MyDrive/Data\\ Challenge\\ 3\\ Group\\ 3\n",
    "# !git clone https://github.com/eceo-epfl/coralscapesScripts.git"
   ],
   "metadata": {
    "id": "aU7aY_5v_UyZ",
    "colab": {
     "base_uri": "https://localhost:8080/"
    },
    "outputId": "4c8d9ca0-f1b6-4803-cd62-385963d96fa6",
    "ExecuteTime": {
     "end_time": "2025-10-14T08:41:11.452393Z",
     "start_time": "2025-10-14T08:41:11.444051Z"
    }
   },
   "outputs": [],
   "execution_count": 2
  },
  {
   "cell_type": "code",
   "source": "# %cd coralscapesScripts",
   "metadata": {
    "colab": {
     "base_uri": "https://localhost:8080/"
    },
    "id": "SmSodjNLZ4YA",
    "outputId": "9c3f795a-aba5-4803-d08f-ac9f38ad3be1",
    "ExecuteTime": {
     "end_time": "2025-10-14T08:41:11.467362Z",
     "start_time": "2025-10-14T08:41:11.459746Z"
    }
   },
   "outputs": [],
   "execution_count": 3
  },
  {
   "cell_type": "code",
   "source": "# !pip install albumentations transformers torch segmentation_models_pytorch torchmetrics peft matplotlib\n",
   "metadata": {
    "colab": {
     "base_uri": "https://localhost:8080/"
    },
    "collapsed": true,
    "id": "_0VpRgoli8Mh",
    "outputId": "ddff1d7b-e352-4288-c051-79f095fd934d",
    "ExecuteTime": {
     "end_time": "2025-10-14T08:41:11.476827Z",
     "start_time": "2025-10-14T08:41:11.473271Z"
    }
   },
   "outputs": [],
   "execution_count": 4
  },
  {
   "cell_type": "markdown",
   "metadata": {
    "id": "HDgtkKb7_TTo"
   },
   "source": [
    "# Setup"
   ]
  },
  {
   "cell_type": "code",
   "metadata": {
    "id": "Je2z41FU_TTo",
    "colab": {
     "base_uri": "https://localhost:8080/"
    },
    "outputId": "ecee23f8-d73f-4315-bbe7-86910ff9ddfb",
    "ExecuteTime": {
     "end_time": "2025-10-14T08:41:11.487550Z",
     "start_time": "2025-10-14T08:41:11.481519Z"
    }
   },
   "source": [
    "import sys\n",
    "import os\n",
    "\n",
    "# cur = os.path.join(os.getcwd(), '..')\n",
    "# print(cur)\n",
    "# proj_path = os.path.abspath(\n",
    "#     os.path.join(os.getcwd(), '..')\n",
    "# )\n",
    "# coralpath = os.path.join(proj_path, 'coralscapesScripts')\n",
    "# print(coralpath)\n",
    "#\n",
    "# sys.path.insert(0, coralpath)\n",
    "# print(\n",
    "#     sys.path\n",
    "# )# # Assume your notebook is in <project_root>/coralscapes/, and coralscapesScripts is in <project_root>/\n",
    "# # project_root = os.path.abspath(os.path.join(os.getcwd(), '..'))\n",
    "# # if project_root not in sys.path:\n",
    "# #     sys.path.insert(0, project_root)\n"
   ],
   "outputs": [],
   "execution_count": 5
  },
  {
   "cell_type": "code",
   "source": [
    "# !ls\n",
    "# %cd coralscapesScripts\n",
    "# TODO: specify paths\n",
    "root = \"data_yellow_1\"\n",
    "root_copy = \"data_yellow_1\"\n",
    "color = \"yellow\"  # these are to name the checkpoints folder\n",
    "cluster = \"1\"\n"
   ],
   "metadata": {
    "colab": {
     "base_uri": "https://localhost:8080/"
    },
    "id": "LjEK6iQdaMlD",
    "outputId": "7f0dd353-1478-44ff-8e6c-fbcff60161c4",
    "ExecuteTime": {
     "end_time": "2025-10-14T08:41:11.496581Z",
     "start_time": "2025-10-14T08:41:11.492544Z"
    }
   },
   "outputs": [],
   "execution_count": 6
  },
  {
   "cell_type": "code",
   "metadata": {
    "id": "dms1Nh1a_TTo",
    "ExecuteTime": {
     "end_time": "2025-10-14T08:41:30.957027Z",
     "start_time": "2025-10-14T08:41:11.503676Z"
    }
   },
   "source": [
    "import torch\n",
    "\n",
    "import albumentations as A\n",
    "\n",
    "from torch.utils.data import DataLoader, Dataset\n",
    "from coralscapesScripts.datasets.dataset import Coralscapes\n",
    "from coralscapesScripts.datasets.preprocess import get_preprocessor\n",
    "from coralscapesScripts.datasets.utils import calculate_weights\n",
    "\n",
    "from coralscapesScripts.segmentation.model import Benchmark_Run\n",
    "from coralscapesScripts.segmentation.benchmarking import launch_benchmark\n",
    "\n",
    "from coralscapesScripts.visualization import show_samples\n",
    "\n",
    "from coralscapesScripts.logger import Logger, save_benchmark_run\n",
    "from coralscapesScripts.io import setup_config, get_parser, update_config_with_args\n",
    "import copy\n",
    "\n",
    "from collections import namedtuple\n",
    "import os\n",
    "import numpy as np\n",
    "from PIL import Image\n",
    "import json\n",
    "\n",
    "#their eval sucks coz its bloated so using simpligied on\n",
    "import torch\n",
    "# from tqdm import tqdm\n",
    "from tqdm.autonotebook import tqdm\n",
    "import torch.nn as nn # Import the neural network module\n",
    "import torch.nn.functional as F # Import functional for interpolation\n"
   ],
   "outputs": [
    {
     "name": "stderr",
     "output_type": "stream",
     "text": [
      "C:\\Users\\20223018\\.conda\\envs\\jbg060_4\\Lib\\site-packages\\tqdm\\auto.py:21: TqdmWarning: IProgress not found. Please update jupyter and ipywidgets. See https://ipywidgets.readthedocs.io/en/stable/user_install.html\n",
      "  from .autonotebook import tqdm as notebook_tqdm\n",
      "C:\\Users\\20223018\\.conda\\envs\\jbg060_4\\Lib\\site-packages\\pydantic\\_internal\\_generate_schema.py:2249: UnsupportedFieldAttributeWarning: The 'repr' attribute with value False was provided to the `Field()` function, which has no effect in the context it was used. 'repr' is field-specific metadata, and can only be attached to a model field using `Annotated` metadata or by assignment. This may have happened because an `Annotated` type alias using the `type` statement was used, or if the `Field()` function was attached to a single member of a union type.\n",
      "  warnings.warn(\n",
      "C:\\Users\\20223018\\.conda\\envs\\jbg060_4\\Lib\\site-packages\\pydantic\\_internal\\_generate_schema.py:2249: UnsupportedFieldAttributeWarning: The 'frozen' attribute with value True was provided to the `Field()` function, which has no effect in the context it was used. 'frozen' is field-specific metadata, and can only be attached to a model field using `Annotated` metadata or by assignment. This may have happened because an `Annotated` type alias using the `type` statement was used, or if the `Field()` function was attached to a single member of a union type.\n",
      "  warnings.warn(\n"
     ]
    }
   ],
   "execution_count": 7
  },
  {
   "cell_type": "code",
   "metadata": {
    "id": "8Ois-qOM_TTo",
    "ExecuteTime": {
     "end_time": "2025-10-14T08:41:31.093424Z",
     "start_time": "2025-10-14T08:41:31.072322Z"
    }
   },
   "source": [
    "seed = 42\n",
    "torch.manual_seed(seed)\n",
    "torch.cuda.manual_seed(seed)\n",
    "torch.backends.cudnn.deterministic = True\n",
    "torch.backends.cudnn.benchmark = True"
   ],
   "outputs": [],
   "execution_count": 8
  },
  {
   "cell_type": "code",
   "metadata": {
    "id": "GCZBHx8E_TTp",
    "colab": {
     "base_uri": "https://localhost:8080/"
    },
    "outputId": "a901eb8c-3b98-4674-f778-683aafb8c128",
    "ExecuteTime": {
     "end_time": "2025-10-14T08:41:31.212545Z",
     "start_time": "2025-10-14T08:41:31.147248Z"
    }
   },
   "source": [
    "device_count = torch.cuda.device_count()\n",
    "for i in range(device_count):\n",
    "    print(f\"CUDA Device {i}: {torch.cuda.get_device_name(i)}\")\n",
    "\n",
    "device = torch.device(\"cuda\") if torch.cuda.is_available() else torch.device(\"cpu\")\n",
    "device"
   ],
   "outputs": [
    {
     "name": "stdout",
     "output_type": "stream",
     "text": [
      "CUDA Device 0: NVIDIA RTX A2000 Laptop GPU\n"
     ]
    },
    {
     "data": {
      "text/plain": [
       "device(type='cuda')"
      ]
     },
     "execution_count": 9,
     "metadata": {},
     "output_type": "execute_result"
    }
   ],
   "execution_count": 9
  },
  {
   "cell_type": "markdown",
   "metadata": {
    "id": "5HgwbOAz_TTp"
   },
   "source": [
    "## Config\n",
    "\n",
    "- Currently the Benchmark_Run takes the cfg and pops out the different parts (meaning the cfg file is **changed** after the object initialization).\n",
    "- If you want to look at the cfg after that, use the cfg_logger copy which will contain the original configuration.\n",
    "- Keep in mind due to this that if you try to \"recreate\" the Benchmark_Run object without rerunning the configuration it will most likely result in an error, so better to start over (or at least just rerun the config part of the script)."
   ]
  },
  {
   "cell_type": "markdown",
   "source": [
    "# dont really get wtvr the fuck they r tryna so imma just roll w it for now\n",
    "# UPDATE- u just have to rerun the whole thing coz it changes teh cfg. nothing major. ignoe"
   ],
   "metadata": {
    "id": "Ckhqz9CvFZQQ"
   }
  },
  {
   "cell_type": "code",
   "metadata": {
    "id": "1XZVYuyq_TTp",
    "ExecuteTime": {
     "end_time": "2025-10-14T08:41:31.240069Z",
     "start_time": "2025-10-14T08:41:31.223728Z"
    }
   },
   "source": "cfg = setup_config(config_path='configs/segformer-mit-b2_lora.yaml', config_base_path='configs/base.yaml')",
   "outputs": [],
   "execution_count": 10
  },
  {
   "cell_type": "markdown",
   "metadata": {
    "id": "uOtX8lJT_TTp"
   },
   "source": [
    "## Args"
   ]
  },
  {
   "cell_type": "markdown",
   "metadata": {
    "id": "OirnEfnk_TTp"
   },
   "source": [
    "### Note\n",
    "- As in the command line, here the arguments take presedence over the config file, so here you can overwrite/test out some parameters without directly changing the cfg.\n",
    "- Keep in mind not all parameters of the config can be changed through cmd (you can see which ones in the get_parser and update_config_with_args function)."
   ]
  },
  {
   "cell_type": "code",
   "source": [],
   "metadata": {
    "id": "b8uUNdeXqAee",
    "ExecuteTime": {
     "end_time": "2025-10-14T08:41:31.251185Z",
     "start_time": "2025-10-14T08:41:31.241961Z"
    }
   },
   "outputs": [],
   "execution_count": null
  },
  {
   "cell_type": "code",
   "metadata": {
    "id": "CK8SwNWD_TTp",
    "ExecuteTime": {
     "end_time": "2025-10-14T08:41:31.262593Z",
     "start_time": "2025-10-14T08:41:31.258268Z"
    }
   },
   "source": [
    "args_input = \"--run-name=fine_tune_notebook --batch-size=1 --batch-size-eval=1 --epochs=50\"\n",
    "args_input = args_input.split(\" \")\n",
    "\n",
    "parser = get_parser()\n",
    "args = parser.parse_args(args_input)\n",
    "\n",
    "cfg = update_config_with_args(cfg, args)\n",
    "cfg_logger = copy.deepcopy(cfg)"
   ],
   "outputs": [],
   "execution_count": 11
  },
  {
   "cell_type": "markdown",
   "metadata": {
    "id": "l11O4atK_TTq"
   },
   "source": [
    "# Data"
   ]
  },
  {
   "cell_type": "markdown",
   "metadata": {
    "id": "WSTD-Biq_TTq"
   },
   "source": [
    "### Note\n",
    "Make a new dataset class using the Coralscapes class in coralscapesScripts.datasets.dataset as an example. Importantly, it needs to contain the following as arguments\n",
    "- transform (albumentations)\n",
    "- transform_target\n",
    "- N_classes\n",
    "- id2label  "
   ]
  },
  {
   "cell_type": "code",
   "source": [
    "# root=\"/content/drive/MyDrive/Data Challenge 3 Group 3/01_data/coral_bleaching/reef_support/UNAL_BLEACHING_TAYRONA\"\n",
    "# root=\"/content/drive/MyDrive/Data Challenge 3 Group 3/cluster_2\"\n",
    "\n",
    "id2classes = {\n",
    "    # Background classes -> 0 (background)\n",
    "    #ignore the label name from here, i jut saw it from the class.json we can play around w it but meh\n",
    "    0: 0,   # background\n",
    "    1: 0,   # seagrass\n",
    "    2: 0,   # sand OR WTVR\n",
    "    5: 0,   # sand or wtvr\n",
    "    6: 0,   # rubble or wtvr\n",
    "    7: 0,   # algae_covered_substrate\n",
    "    8: 0,   # algae_covered_substrate\n",
    "    9: 0,   # fish\n",
    "    10: 0,  # algae_covered_substrate\n",
    "    11: 0,  # algae_covered_substrate\n",
    "    12: 0,  # algae_covered_substrate\n",
    "    13: 0,  # background\n",
    "    14: 0,  # dark\n",
    "    15: 0,  # algae_covered_substrate\n",
    "\n",
    "    # Bleached coral classes -> 1 (bleached)\n",
    "    3: 1,   # other_coral_bleached\n",
    "    4: 1,   # other_coral_bleached\n",
    "    16: 1,  # massive_meandering_bleached -> bleached\n",
    "    19: 1,  # branching_bleached -> bleached\n",
    "    33: 1,  # meandering_bleached -> bleached\n",
    "\n",
    "    # Non-bleached coral classes -> 2 (non-bleached)\n",
    "    17: 2,  # massive_meandering_alive -> non-bleached\n",
    "    18: 2,  # rubble (coral rubble) -> non-bleached\n",
    "    20: 2,  # branching_dead -> non-bleached (dead but not bleached)\n",
    "    21: 2,  # millepora -> non-bleached\n",
    "    22: 2,  # branching_alive -> non-bleached\n",
    "    23: 2,  # massive_meandering_dead -> non-bleached (dead but not bleached)\n",
    "    24: 2,  # clam -> non-bleached\n",
    "    25: 2,  # acropora_alive -> non-bleached\n",
    "    26: 2,  # sea_cucumber -> non-bleached\n",
    "    27: 2,  # turbinaria -> non-bleached\n",
    "    28: 2,  # table_acropora_alive -> non-bleached\n",
    "    29: 2,  # sponge -> non-bleached\n",
    "    30: 2,  # anemone -> non-bleached\n",
    "    31: 2,  # pocillopora_alive -> non-bleached\n",
    "    32: 2,  # table_acropora_dead -> non-bleached (dead but not bleached)\n",
    "    34: 2,  # stylophora_alive -> non-bleached\n",
    "    35: 2,  # sea_urchin -> non-bleached\n",
    "    36: 2,  # meandering_alive -> non-bleached\n",
    "    37: 2,  # meandering_dead -> non-bleached (dead but not bleached)\n",
    "    38: 2,  # crown_of_thorn -> non-bleached\n",
    "    39: 2,  # dead_clam -> non-bleached\n",
    "}"
   ],
   "metadata": {
    "id": "m91sFkHSMuee",
    "ExecuteTime": {
     "end_time": "2025-10-14T08:41:31.276613Z",
     "start_time": "2025-10-14T08:41:31.272227Z"
    }
   },
   "outputs": [],
   "execution_count": 12
  },
  {
   "cell_type": "code",
   "source": [
    "# Helper function to map 40-class predictions back to 3 classes\n",
    "def map_40_to_3_classes(predictions):\n",
    "    \"\"\"\n",
    "    Map 40-class predictions back to 3 classes:\n",
    "    - 0: Background (classes 0, 1, 2, 5, 6, 7, 8, 9, 10, 11, 12, 13, 14, 15)\n",
    "    - 1: Bleached (classes 3, 4, 16, 19, 33)\n",
    "    - 2: Non-bleached (classes 17, 18, 20-32, 34-39)\n",
    "    \"\"\"\n",
    "    # Create a mapping array\n",
    "    mapping = np.zeros(40, dtype=np.uint8)\n",
    "\n",
    "    # Set bleached classes\n",
    "    bleached_classes = [3, 4, 16, 19, 33]\n",
    "    for cls in bleached_classes:\n",
    "        mapping[cls] = 1\n",
    "\n",
    "    # Set non-bleached classes\n",
    "    non_bleached_classes = [17, 18, 20, 21, 22, 23, 24, 25, 26, 27, 28, 29, 30, 31, 32, 34, 35, 36, 37, 38, 39]\n",
    "    for cls in non_bleached_classes:\n",
    "        mapping[cls] = 2\n",
    "\n",
    "    # Apply mapping\n",
    "    if isinstance(predictions, torch.Tensor):\n",
    "        predictions = predictions.cpu().numpy()\n",
    "\n",
    "    mapped_predictions = mapping[predictions]\n",
    "    return mapped_predictions"
   ],
   "metadata": {
    "id": "g9Eul-oVyfTv",
    "ExecuteTime": {
     "end_time": "2025-10-14T08:41:31.289465Z",
     "start_time": "2025-10-14T08:41:31.284635Z"
    }
   },
   "outputs": [],
   "execution_count": 13
  },
  {
   "cell_type": "code",
   "source": [
    "# for root, dirs, files in os.walk('/content/drive/MyDrive/Data Challenge 3 Group 3/01_data/coral_bleaching/reef_support/UNAL_BLEACHING_TAYRONA'):\n",
    "for root, dirs, files in os.walk(root):\n",
    "    for name in dirs:\n",
    "        print(os.path.join(root, name), 'idoes it exist?')\n"
   ],
   "metadata": {
    "id": "r95vuEmrI_14",
    "colab": {
     "base_uri": "https://localhost:8080/"
    },
    "outputId": "8450b3f5-7cb5-45e4-ce30-71d6a041d303",
    "ExecuteTime": {
     "end_time": "2025-10-14T08:41:31.319044Z",
     "start_time": "2025-10-14T08:41:31.298471Z"
    }
   },
   "outputs": [
    {
     "name": "stdout",
     "output_type": "stream",
     "text": [
      "data_yellow_1\\images idoes it exist?\n",
      "data_yellow_1\\masks_bleached idoes it exist?\n",
      "data_yellow_1\\masks_non_bleached idoes it exist?\n"
     ]
    }
   ],
   "execution_count": 14
  },
  {
   "cell_type": "code",
   "source": [
    "class CoralBleachingDataset(Dataset):\n",
    "    \"\"\"\n",
    "    Dataset for coral bleaching segmentation.\n",
    "    Expects data structure:\n",
    "    - images/: RGB images\n",
    "    - masks_bleached/: Masks for bleached corals\n",
    "    - masks_non_bleached/: Masks for non-bleached corals\n",
    "\n",
    "    This class follows the structure of the original Coralscapes class but works with our 3-class setup.\n",
    "    \"\"\"\n",
    "    def __init__(self, root=root, split='train', transform=None, transform_target=True):\n",
    "        \"\"\"\n",
    "        Args:\n",
    "            transform (callable): A function/transform that takes in an image and returns a transformed version.\n",
    "            transform_target (bool): Whether to also transform the segmentation mask.\n",
    "        \"\"\"\n",
    "        self.root = os.path.expanduser(root)\n",
    "        self.transform = transform\n",
    "        self.transform_target = transform_target\n",
    "        self.split = split\n",
    "\n",
    "        self.CoralClass = namedtuple('CoralClass', ['name', 'id', 'train_id', 'category', 'category_id', 'ignore_in_eval', 'color'])\n",
    "\n",
    "        self.classes = []\n",
    "        self.classes.append(self.CoralClass('background', 0, 0, 'background', 0, True, (0, 0, 0)))      # Black - background\n",
    "        self.classes.append(self.CoralClass('bleached', 1, 1, 'bleached', 1, False, (255, 255, 255)))    # White - bleached coral\n",
    "        self.classes.append(self.CoralClass('non_bleached', 2, 2, 'non_bleached', 2, False, (128, 128, 128)))  # Gray - non-bleached coral\n",
    "\n",
    "        # Set number of classes - follow the same logic as the original Coralscapes class\n",
    "        self.N_classes = 3  # We have 3 classes: background, bleached, non-bleached\n",
    "\n",
    "        self.id2label = {0: \"background\", 1: \"bleached\", 2: \"non_bleached\"}\n",
    "        self.label2id = {v: k for k, v in self.id2label.items()}\n",
    "\n",
    "        self.train_id_to_color = np.array([c.color for c in self.classes])\n",
    "\n",
    "        # juliette double check these.\n",
    "        # Define mapping from original 40 classes to our 3 classes\n",
    "        # This mapping is critical for interfacing with the model\n",
    "        self.class_mapping = {  #Mo\n",
    "            # Background classes -> 0\n",
    "            0: 0, 1: 0, 2: 0, 5: 0, 6: 0, 7: 0, 8: 0, 9: 0, 10: 0, 11: 0, 12: 0, 13: 0, 14: 0, 15: 0,\n",
    "            # Bleached coral classes -> 1\n",
    "            3: 1, 4: 1, 16: 1, 19: 1, 33: 1,\n",
    "            # Non-bleached coral classes -> 2\n",
    "            17: 2, 18: 2, 20: 2, 21: 2, 22: 2, 23: 2, 24: 2, 25: 2, 26: 2, 27: 2, 28: 2, 29: 2,\n",
    "            30: 2, 31: 2, 32: 2, 34: 2, 35: 2, 36: 2, 37: 2, 38: 2, 39: 2\n",
    "        }\n",
    "        # self.class_mapping = {  #mine\n",
    "        #     # Background classes -> 0\n",
    "        #     0: 0, 1: 0, 2: 0, 5: 0, 7: 0, 8: 0, 9: 0, 10: 0, 11: 0, 12: 0, 13: 0, 14: 0, 15: 0, 18: 2,\n",
    "        #     # Bleached coral classes -> 1\n",
    "        #     3: 1, 4: 1, 16: 1, 19: 1, 33: 1,\n",
    "        #     # Non-bleached coral classes -> 2\n",
    "        #     6: 2,\n",
    "        #     17: 2, 20: 2, 21: 2, 22: 2, 23: 2, 24: 2, 25: 2, 26: 2, 27: 2, 28: 2, 29: 2,\n",
    "        #     30: 2, 31: 2, 32: 2, 34: 2, 35: 2, 36: 2, 37: 2, 38: 2, 39: 2\n",
    "        # }\n",
    "        # Create reverse mapping for model output interpretation\n",
    "        self.reverse_class_mapping = {}\n",
    "        for original_class, our_class in self.class_mapping.items():\n",
    "            if our_class not in self.reverse_class_mapping:\n",
    "                self.reverse_class_mapping[our_class] = []\n",
    "            self.reverse_class_mapping[our_class].append(original_class)\n",
    "\n",
    "        # Create train/val/test splits\n",
    "        self.images_dir = os.path.join(self.root, 'images')\n",
    "        all_images = [f for f in os.listdir(self.images_dir)\n",
    "                     if f.endswith(('.jpg', '.jpeg', '.png', '.JPG', '.JPEG', '.PNG'))]\n",
    "\n",
    "        np.random.seed(42)\n",
    "        np.random.shuffle(all_images)\n",
    "\n",
    "        if split == 'train':\n",
    "            self.images = all_images[:int(0.7*len(all_images))]\n",
    "        elif split == 'val':\n",
    "            self.images = all_images[int(0.7*len(all_images)):int(0.85*len(all_images))]\n",
    "        elif split == 'test':\n",
    "            self.images = all_images[int(0.85*len(all_images)):]\n",
    "\n",
    "        print(f\"Loaded {len(self.images)} images for {split} split\")\n",
    "\n",
    "    def __getitem__(self, index):\n",
    "        \"\"\"\n",
    "        Retrieve and transform an image and its corresponding segmentation maps.\n",
    "        \"\"\"\n",
    "        img_name = self.images[index]\n",
    "        image_path = os.path.join(self.root, 'images', img_name)\n",
    "\n",
    "        # Get the base name without extension\n",
    "        base_name = os.path.splitext(img_name)[0]\n",
    "\n",
    "        # Load image\n",
    "        image = np.array(Image.open(image_path).convert('RGB'))\n",
    "\n",
    "        # Load bleached and non-bleached masks\n",
    "        bleached_mask_path = os.path.join(self.root, 'masks_bleached', f\"{base_name}_bleached.png\")\n",
    "        non_bleached_mask_path = os.path.join(self.root, 'masks_non_bleached', f\"{base_name}_non_bleached.png\")\n",
    "\n",
    "        try:\n",
    "            bleached_mask = np.array(Image.open(bleached_mask_path).convert('L'))\n",
    "            non_bleached_mask = np.array(Image.open(non_bleached_mask_path).convert('L'))\n",
    "        except FileNotFoundError as e:\n",
    "            print(f\"Error loading mask for {img_name}: {e}\")\n",
    "            raise\n",
    "\n",
    "        # Create a combined mask where:\n",
    "        # 0 = background, 1 = bleached, 2 = non-bleached\n",
    "        target = np.zeros_like(bleached_mask, dtype=np.uint8)\n",
    "        target[bleached_mask > 128] = 1      # White pixels in bleached mask -> class 1\n",
    "        target[non_bleached_mask > 128] = 2  # White pixels in non-bleached mask -> class 2\n",
    "        # Background remains 0 (black pixels)\n",
    "\n",
    "        # ADD THIS: Resize both image and mask to the same size\n",
    "        target_size = (512, 512)  # or whatever size you want\n",
    "\n",
    "        # Resize image\n",
    "        image_pil = Image.fromarray(image)\n",
    "        image_resized = image_pil.resize(target_size)\n",
    "        image = np.array(image_resized)\n",
    "\n",
    "        # Resize mask\n",
    "        target_pil = Image.fromarray(target)\n",
    "        target_resized = target_pil.resize(target_size, Image.NEAREST)  # Use NEAREST for masks\n",
    "        target = np.array(target_resized)\n",
    "\n",
    "        if self.transform:\n",
    "            if self.transform_target:\n",
    "                transformed = self.transform(image=image, mask=target)\n",
    "                image = transformed[\"image\"]\n",
    "                target = transformed[\"mask\"]\n",
    "            else:\n",
    "                transformed = self.transform(image=image)\n",
    "                image = transformed[\"image\"]\n",
    "\n",
    "        # Convert image to PyTorch format (C, H, W) if it's still a numpy array\n",
    "        if isinstance(image, np.ndarray):\n",
    "            image = image.transpose(2, 0, 1)\n",
    "\n",
    "        return image, target\n",
    "\n",
    "    def __len__(self):\n",
    "        return len(self.images)"
   ],
   "metadata": {
    "id": "PIjQ-zERFvGB",
    "ExecuteTime": {
     "end_time": "2025-10-14T08:41:31.353384Z",
     "start_time": "2025-10-14T08:41:31.338583Z"
    }
   },
   "outputs": [],
   "execution_count": 15
  },
  {
   "cell_type": "code",
   "metadata": {
    "id": "C7xrsEyc_TTq",
    "colab": {
     "base_uri": "https://localhost:8080/"
    },
    "outputId": "c48eaf99-ea0b-4b0c-a349-f5df431233f2",
    "ExecuteTime": {
     "end_time": "2025-10-14T08:41:31.377878Z",
     "start_time": "2025-10-14T08:41:31.361720Z"
    }
   },
   "source": [
    "#resizing ffs coz images are shite.\n",
    "transforms = {}\n",
    "for split in cfg.augmentation:\n",
    "    transform_list = [A.Resize(height=512, width=512)] # start with resize to ensure consistent size\n",
    "\n",
    "    for transform_name, transform_params in cfg.augmentation[split].items():\n",
    "        if \"Crop\" in transform_name and \"height\" in transform_params and \"width\" in transform_params:# skipping any crop operations that would be larger than our resize\n",
    "            if transform_params[\"height\"] > 512 or transform_params[\"width\"] > 512:\n",
    "                print(f\"Warning: Adjusting '{transform_name}' to match 512x512 size in split '{split}'\")\n",
    "                transform_params[\"height\"] = min(transform_params[\"height\"], 512)\n",
    "                transform_params[\"width\"] = min(transform_params[\"width\"], 512)\n",
    "\n",
    "        transform_list.append(getattr(A, transform_name)(**transform_params))\n",
    "\n",
    "    transforms[split] = A.Compose(transform_list)"
   ],
   "outputs": [
    {
     "name": "stdout",
     "output_type": "stream",
     "text": [
      "Warning: Adjusting 'RandomCrop' to match 512x512 size in split 'train'\n"
     ]
    }
   ],
   "execution_count": 16
  },
  {
   "cell_type": "code",
   "source": [
    "# cfg.data.root = '/content/drive/MyDrive/Data Challenge 3 Group 3/01_data/coral_bleaching/reef_support/UNAL_BLEACHING_TAYRONA'\n",
    "  # Adjust this path to your data directory FOR EACH OF THE CLUSTER/ this is v important or wasted gpu hours...\n",
    "# cfg.data.root=\"/content/drive/MyDrive/Data Challenge 3 Group 3/cluster_2\"\n",
    "cfg.data.root = root_copy\n"
   ],
   "metadata": {
    "id": "Jnsp08Z4KT0q",
    "ExecuteTime": {
     "end_time": "2025-10-14T08:41:31.392992Z",
     "start_time": "2025-10-14T08:41:31.388714Z"
    }
   },
   "outputs": [],
   "execution_count": 17
  },
  {
   "cell_type": "code",
   "metadata": {
    "id": "nbUEn99B_TTq",
    "colab": {
     "base_uri": "https://localhost:8080/"
    },
    "outputId": "524a70f5-c24f-4012-81f7-160f0a133be8",
    "ExecuteTime": {
     "end_time": "2025-10-14T08:41:31.420459Z",
     "start_time": "2025-10-14T08:41:31.410007Z"
    }
   },
   "source": [
    "train_dataset = CoralBleachingDataset(root=cfg.data.root, split='train', transform=transforms[\"train\"])\n",
    "\n",
    "transform_target = cfg.training.eval.transform_target if cfg.training.eval is not None and cfg.training.eval.transform_target is not None else True\n",
    "\n",
    "val_dataset = CoralBleachingDataset(root=cfg.data.root, split='val', transform=transforms[\"val\"], transform_target=transform_target)\n",
    "test_dataset = CoralBleachingDataset(root=cfg.data.root, split='test', transform=transforms[\"test\"], transform_target=transform_target)\n",
    "\n",
    "print(f\"Classes: {train_dataset.id2label}\")\n",
    "print(f\"Number of classes: {train_dataset.N_classes}\")\n",
    "print(f\"Train dataset has {len(train_dataset)} samples\")\n",
    "print(f\"Validation dataset has {len(val_dataset)} samples\")\n",
    "print(f\"Test dataset has {len(test_dataset)} samples\")"
   ],
   "outputs": [
    {
     "name": "stdout",
     "output_type": "stream",
     "text": [
      "Loaded 203 images for train split\n",
      "Loaded 44 images for val split\n",
      "Loaded 44 images for test split\n",
      "Classes: {0: 'background', 1: 'bleached', 2: 'non_bleached'}\n",
      "Number of classes: 3\n",
      "Train dataset has 203 samples\n",
      "Validation dataset has 44 samples\n",
      "Test dataset has 44 samples\n"
     ]
    }
   ],
   "execution_count": 18
  },
  {
   "cell_type": "code",
   "metadata": {
    "id": "zwIFsgsu_TTq",
    "ExecuteTime": {
     "end_time": "2025-10-14T08:41:31.439437Z",
     "start_time": "2025-10-14T08:41:31.435264Z"
    }
   },
   "source": [
    "train_loader = DataLoader(train_dataset, batch_size=cfg.data.batch_size, shuffle=True, num_workers=0, drop_last=True)\n",
    "val_loader = DataLoader(val_dataset, batch_size=cfg.data.batch_size_eval, shuffle=False, num_workers=0)\n",
    "test_loader = DataLoader(test_dataset, batch_size=cfg.data.batch_size_eval, shuffle=False, num_workers=0)"
   ],
   "outputs": [],
   "execution_count": 19
  },
  {
   "cell_type": "code",
   "metadata": {
    "id": "S80fDtZF_TTq",
    "colab": {
     "base_uri": "https://localhost:8080/"
    },
    "outputId": "606dbf6a-79bc-4932-e6ca-4f7e600e4917",
    "ExecuteTime": {
     "end_time": "2025-10-14T08:41:31.458351Z",
     "start_time": "2025-10-14T08:41:31.453970Z"
    }
   },
   "source": [
    "print(len(train_loader), len(val_loader), len(test_loader))"
   ],
   "outputs": [
    {
     "name": "stdout",
     "output_type": "stream",
     "text": [
      "203 44 44\n"
     ]
    }
   ],
   "execution_count": 20
  },
  {
   "cell_type": "code",
   "metadata": {
    "id": "JQJfxQZr_TTq",
    "ExecuteTime": {
     "end_time": "2025-10-14T08:41:31.480642Z",
     "start_time": "2025-10-14T08:41:31.475280Z"
    }
   },
   "source": [
    "weight = calculate_weights(train_dataset).to(device) if(cfg.data.weight) else None"
   ],
   "outputs": [],
   "execution_count": 21
  },
  {
   "cell_type": "markdown",
   "source": [
    "# Some masks folder sanity checks"
   ],
   "metadata": {
    "id": "Ljq0HuVZRjW0"
   }
  },
  {
   "cell_type": "markdown",
   "metadata": {
    "id": "_yl8QIRQ_TTr"
   },
   "source": [
    "## Visualizations"
   ]
  },
  {
   "cell_type": "code",
   "metadata": {
    "id": "i7NbAFeh_TTr",
    "ExecuteTime": {
     "end_time": "2025-10-14T08:41:31.498344Z",
     "start_time": "2025-10-14T08:41:31.494697Z"
    }
   },
   "source": [
    "# show_samples(train_dataset, n=2)\n",
    "# wont run coz i changed the class to coralscapebleachingdataset but can be visualized another way, not important yet."
   ],
   "outputs": [],
   "execution_count": 22
  },
  {
   "cell_type": "code",
   "metadata": {
    "id": "xdTFpqwB_TTr",
    "ExecuteTime": {
     "end_time": "2025-10-14T08:41:31.507775Z",
     "start_time": "2025-10-14T08:41:31.498344Z"
    }
   },
   "source": [
    "# show_samples(val_dataset, n=2)"
   ],
   "outputs": [],
   "execution_count": 23
  },
  {
   "cell_type": "code",
   "metadata": {
    "id": "Qxp97wx__TTr",
    "ExecuteTime": {
     "end_time": "2025-10-14T08:41:31.515658Z",
     "start_time": "2025-10-14T08:41:31.512426Z"
    }
   },
   "source": [
    "# show_samples(test_dataset, n=2)"
   ],
   "outputs": [],
   "execution_count": 24
  },
  {
   "cell_type": "markdown",
   "metadata": {
    "id": "XhwnAI9s_TTr"
   },
   "source": [
    "# Benchmarking"
   ]
  },
  {
   "cell_type": "markdown",
   "metadata": {
    "id": "NGQdggBG_TTr"
   },
   "source": [
    "## Model"
   ]
  },
  {
   "cell_type": "code",
   "metadata": {
    "id": "GDTafi9E_TTr",
    "colab": {
     "base_uri": "https://localhost:8080/"
    },
    "outputId": "4abbd076-f0e5-45cd-b60d-e3fbb323138e",
    "ExecuteTime": {
     "end_time": "2025-10-14T08:41:32.855517Z",
     "start_time": "2025-10-14T08:41:31.524966Z"
    }
   },
   "source": [
    "benchmark_run = Benchmark_Run(run_name=cfg.run_name,\n",
    "                             model_name=cfg.model.name,\n",
    "                             N_classes=3,\n",
    "                             device=device,\n",
    "                             model_kwargs=cfg.model.kwargs,\n",
    "                             model_checkpoint=cfg.model.checkpoint,\n",
    "                             lora_kwargs=cfg.lora,\n",
    "                             training_hyperparameters=cfg.training)"
   ],
   "outputs": [
    {
     "name": "stderr",
     "output_type": "stream",
     "text": [
      "C:\\Users\\20223018\\.conda\\envs\\jbg060_4\\Lib\\site-packages\\transformers\\utils\\deprecation.py:172: UserWarning: The following named arguments are not valid for `SegformerImageProcessor.__init__` and were ignored: 'ignore_index', 'num_labels'\n",
      "  return func(*args, **kwargs)\n",
      "Some weights of SegformerForSemanticSegmentation were not initialized from the model checkpoint at nvidia/mit-b2 and are newly initialized: ['decode_head.batch_norm.bias', 'decode_head.batch_norm.num_batches_tracked', 'decode_head.batch_norm.running_mean', 'decode_head.batch_norm.running_var', 'decode_head.batch_norm.weight', 'decode_head.classifier.bias', 'decode_head.classifier.weight', 'decode_head.linear_c.0.proj.bias', 'decode_head.linear_c.0.proj.weight', 'decode_head.linear_c.1.proj.bias', 'decode_head.linear_c.1.proj.weight', 'decode_head.linear_c.2.proj.bias', 'decode_head.linear_c.2.proj.weight', 'decode_head.linear_c.3.proj.bias', 'decode_head.linear_c.3.proj.weight', 'decode_head.linear_fuse.weight']\n",
      "You should probably TRAIN this model on a down-stream task to be able to use it for predictions and inference.\n"
     ]
    }
   ],
   "execution_count": 25
  },
  {
   "cell_type": "code",
   "source": [
    "benchmark_run.print_trainable_parameters()"
   ],
   "metadata": {
    "id": "wt12XyOCOsom",
    "colab": {
     "base_uri": "https://localhost:8080/"
    },
    "outputId": "7f29739b-c63f-4729-c8f9-bb2141bb3f83",
    "ExecuteTime": {
     "end_time": "2025-10-14T08:41:32.906823Z",
     "start_time": "2025-10-14T08:41:32.900386Z"
    }
   },
   "outputs": [
    {
     "name": "stdout",
     "output_type": "stream",
     "text": [
      "trainable params: 5290883 || all params: 32631494 || trainable%: 16.21\n"
     ]
    }
   ],
   "execution_count": 26
  },
  {
   "cell_type": "markdown",
   "metadata": {
    "id": "i9KDuTbb_TTs"
   },
   "source": [
    "### Note\n",
    "- If you want to use a LoRA approach, as long as you have it in the config (as in this case) with the correct parameters, you are good to go to the training script, no other changes need to be made.  \n",
    "- If you want to freeze a specific layer, the easiest start is to just look at the model here and freeze the parameters you prefer."
   ]
  },
  {
   "cell_type": "code",
   "metadata": {
    "id": "Dj5N9iTe_TTs",
    "collapsed": true,
    "colab": {
     "base_uri": "https://localhost:8080/"
    },
    "outputId": "96c60900-4f9a-4f3b-a17e-b973ef690806",
    "ExecuteTime": {
     "end_time": "2025-10-14T08:41:32.936173Z",
     "start_time": "2025-10-14T08:41:32.924133Z"
    }
   },
   "source": [
    "benchmark_run.model"
   ],
   "outputs": [
    {
     "data": {
      "text/plain": [
       "PeftModel(\n",
       "  (base_model): LoraModel(\n",
       "    (model): SegformerForSemanticSegmentation(\n",
       "      (segformer): SegformerModel(\n",
       "        (encoder): SegformerEncoder(\n",
       "          (patch_embeddings): ModuleList(\n",
       "            (0): SegformerOverlapPatchEmbeddings(\n",
       "              (proj): Conv2d(3, 64, kernel_size=(7, 7), stride=(4, 4), padding=(3, 3))\n",
       "              (layer_norm): LayerNorm((64,), eps=1e-05, elementwise_affine=True)\n",
       "            )\n",
       "            (1): SegformerOverlapPatchEmbeddings(\n",
       "              (proj): Conv2d(64, 128, kernel_size=(3, 3), stride=(2, 2), padding=(1, 1))\n",
       "              (layer_norm): LayerNorm((128,), eps=1e-05, elementwise_affine=True)\n",
       "            )\n",
       "            (2): SegformerOverlapPatchEmbeddings(\n",
       "              (proj): Conv2d(128, 320, kernel_size=(3, 3), stride=(2, 2), padding=(1, 1))\n",
       "              (layer_norm): LayerNorm((320,), eps=1e-05, elementwise_affine=True)\n",
       "            )\n",
       "            (3): SegformerOverlapPatchEmbeddings(\n",
       "              (proj): Conv2d(320, 512, kernel_size=(3, 3), stride=(2, 2), padding=(1, 1))\n",
       "              (layer_norm): LayerNorm((512,), eps=1e-05, elementwise_affine=True)\n",
       "            )\n",
       "          )\n",
       "          (block): ModuleList(\n",
       "            (0): ModuleList(\n",
       "              (0): SegformerLayer(\n",
       "                (layer_norm_1): LayerNorm((64,), eps=1e-05, elementwise_affine=True)\n",
       "                (attention): SegformerAttention(\n",
       "                  (self): SegformerEfficientSelfAttention(\n",
       "                    (query): lora.Linear(\n",
       "                      (base_layer): Linear(in_features=64, out_features=64, bias=True)\n",
       "                      (lora_dropout): ModuleDict(\n",
       "                        (default): Dropout(p=0.1, inplace=False)\n",
       "                      )\n",
       "                      (lora_A): ModuleDict(\n",
       "                        (default): Linear(in_features=64, out_features=128, bias=False)\n",
       "                      )\n",
       "                      (lora_B): ModuleDict(\n",
       "                        (default): Linear(in_features=128, out_features=64, bias=False)\n",
       "                      )\n",
       "                      (lora_embedding_A): ParameterDict()\n",
       "                      (lora_embedding_B): ParameterDict()\n",
       "                      (lora_magnitude_vector): ModuleDict()\n",
       "                    )\n",
       "                    (key): Linear(in_features=64, out_features=64, bias=True)\n",
       "                    (value): lora.Linear(\n",
       "                      (base_layer): Linear(in_features=64, out_features=64, bias=True)\n",
       "                      (lora_dropout): ModuleDict(\n",
       "                        (default): Dropout(p=0.1, inplace=False)\n",
       "                      )\n",
       "                      (lora_A): ModuleDict(\n",
       "                        (default): Linear(in_features=64, out_features=128, bias=False)\n",
       "                      )\n",
       "                      (lora_B): ModuleDict(\n",
       "                        (default): Linear(in_features=128, out_features=64, bias=False)\n",
       "                      )\n",
       "                      (lora_embedding_A): ParameterDict()\n",
       "                      (lora_embedding_B): ParameterDict()\n",
       "                      (lora_magnitude_vector): ModuleDict()\n",
       "                    )\n",
       "                    (dropout): Dropout(p=0.0, inplace=False)\n",
       "                    (sr): Conv2d(64, 64, kernel_size=(8, 8), stride=(8, 8))\n",
       "                    (layer_norm): LayerNorm((64,), eps=1e-05, elementwise_affine=True)\n",
       "                  )\n",
       "                  (output): SegformerSelfOutput(\n",
       "                    (dense): Linear(in_features=64, out_features=64, bias=True)\n",
       "                    (dropout): Dropout(p=0.0, inplace=False)\n",
       "                  )\n",
       "                )\n",
       "                (drop_path): Identity()\n",
       "                (layer_norm_2): LayerNorm((64,), eps=1e-05, elementwise_affine=True)\n",
       "                (mlp): SegformerMixFFN(\n",
       "                  (dense1): Linear(in_features=64, out_features=256, bias=True)\n",
       "                  (dwconv): SegformerDWConv(\n",
       "                    (dwconv): Conv2d(256, 256, kernel_size=(3, 3), stride=(1, 1), padding=(1, 1), groups=256)\n",
       "                  )\n",
       "                  (intermediate_act_fn): GELUActivation()\n",
       "                  (dense2): Linear(in_features=256, out_features=64, bias=True)\n",
       "                  (dropout): Dropout(p=0.0, inplace=False)\n",
       "                )\n",
       "              )\n",
       "              (1): SegformerLayer(\n",
       "                (layer_norm_1): LayerNorm((64,), eps=1e-05, elementwise_affine=True)\n",
       "                (attention): SegformerAttention(\n",
       "                  (self): SegformerEfficientSelfAttention(\n",
       "                    (query): lora.Linear(\n",
       "                      (base_layer): Linear(in_features=64, out_features=64, bias=True)\n",
       "                      (lora_dropout): ModuleDict(\n",
       "                        (default): Dropout(p=0.1, inplace=False)\n",
       "                      )\n",
       "                      (lora_A): ModuleDict(\n",
       "                        (default): Linear(in_features=64, out_features=128, bias=False)\n",
       "                      )\n",
       "                      (lora_B): ModuleDict(\n",
       "                        (default): Linear(in_features=128, out_features=64, bias=False)\n",
       "                      )\n",
       "                      (lora_embedding_A): ParameterDict()\n",
       "                      (lora_embedding_B): ParameterDict()\n",
       "                      (lora_magnitude_vector): ModuleDict()\n",
       "                    )\n",
       "                    (key): Linear(in_features=64, out_features=64, bias=True)\n",
       "                    (value): lora.Linear(\n",
       "                      (base_layer): Linear(in_features=64, out_features=64, bias=True)\n",
       "                      (lora_dropout): ModuleDict(\n",
       "                        (default): Dropout(p=0.1, inplace=False)\n",
       "                      )\n",
       "                      (lora_A): ModuleDict(\n",
       "                        (default): Linear(in_features=64, out_features=128, bias=False)\n",
       "                      )\n",
       "                      (lora_B): ModuleDict(\n",
       "                        (default): Linear(in_features=128, out_features=64, bias=False)\n",
       "                      )\n",
       "                      (lora_embedding_A): ParameterDict()\n",
       "                      (lora_embedding_B): ParameterDict()\n",
       "                      (lora_magnitude_vector): ModuleDict()\n",
       "                    )\n",
       "                    (dropout): Dropout(p=0.0, inplace=False)\n",
       "                    (sr): Conv2d(64, 64, kernel_size=(8, 8), stride=(8, 8))\n",
       "                    (layer_norm): LayerNorm((64,), eps=1e-05, elementwise_affine=True)\n",
       "                  )\n",
       "                  (output): SegformerSelfOutput(\n",
       "                    (dense): Linear(in_features=64, out_features=64, bias=True)\n",
       "                    (dropout): Dropout(p=0.0, inplace=False)\n",
       "                  )\n",
       "                )\n",
       "                (drop_path): SegformerDropPath(p=0.006666666828095913)\n",
       "                (layer_norm_2): LayerNorm((64,), eps=1e-05, elementwise_affine=True)\n",
       "                (mlp): SegformerMixFFN(\n",
       "                  (dense1): Linear(in_features=64, out_features=256, bias=True)\n",
       "                  (dwconv): SegformerDWConv(\n",
       "                    (dwconv): Conv2d(256, 256, kernel_size=(3, 3), stride=(1, 1), padding=(1, 1), groups=256)\n",
       "                  )\n",
       "                  (intermediate_act_fn): GELUActivation()\n",
       "                  (dense2): Linear(in_features=256, out_features=64, bias=True)\n",
       "                  (dropout): Dropout(p=0.0, inplace=False)\n",
       "                )\n",
       "              )\n",
       "              (2): SegformerLayer(\n",
       "                (layer_norm_1): LayerNorm((64,), eps=1e-05, elementwise_affine=True)\n",
       "                (attention): SegformerAttention(\n",
       "                  (self): SegformerEfficientSelfAttention(\n",
       "                    (query): lora.Linear(\n",
       "                      (base_layer): Linear(in_features=64, out_features=64, bias=True)\n",
       "                      (lora_dropout): ModuleDict(\n",
       "                        (default): Dropout(p=0.1, inplace=False)\n",
       "                      )\n",
       "                      (lora_A): ModuleDict(\n",
       "                        (default): Linear(in_features=64, out_features=128, bias=False)\n",
       "                      )\n",
       "                      (lora_B): ModuleDict(\n",
       "                        (default): Linear(in_features=128, out_features=64, bias=False)\n",
       "                      )\n",
       "                      (lora_embedding_A): ParameterDict()\n",
       "                      (lora_embedding_B): ParameterDict()\n",
       "                      (lora_magnitude_vector): ModuleDict()\n",
       "                    )\n",
       "                    (key): Linear(in_features=64, out_features=64, bias=True)\n",
       "                    (value): lora.Linear(\n",
       "                      (base_layer): Linear(in_features=64, out_features=64, bias=True)\n",
       "                      (lora_dropout): ModuleDict(\n",
       "                        (default): Dropout(p=0.1, inplace=False)\n",
       "                      )\n",
       "                      (lora_A): ModuleDict(\n",
       "                        (default): Linear(in_features=64, out_features=128, bias=False)\n",
       "                      )\n",
       "                      (lora_B): ModuleDict(\n",
       "                        (default): Linear(in_features=128, out_features=64, bias=False)\n",
       "                      )\n",
       "                      (lora_embedding_A): ParameterDict()\n",
       "                      (lora_embedding_B): ParameterDict()\n",
       "                      (lora_magnitude_vector): ModuleDict()\n",
       "                    )\n",
       "                    (dropout): Dropout(p=0.0, inplace=False)\n",
       "                    (sr): Conv2d(64, 64, kernel_size=(8, 8), stride=(8, 8))\n",
       "                    (layer_norm): LayerNorm((64,), eps=1e-05, elementwise_affine=True)\n",
       "                  )\n",
       "                  (output): SegformerSelfOutput(\n",
       "                    (dense): Linear(in_features=64, out_features=64, bias=True)\n",
       "                    (dropout): Dropout(p=0.0, inplace=False)\n",
       "                  )\n",
       "                )\n",
       "                (drop_path): SegformerDropPath(p=0.013333333656191826)\n",
       "                (layer_norm_2): LayerNorm((64,), eps=1e-05, elementwise_affine=True)\n",
       "                (mlp): SegformerMixFFN(\n",
       "                  (dense1): Linear(in_features=64, out_features=256, bias=True)\n",
       "                  (dwconv): SegformerDWConv(\n",
       "                    (dwconv): Conv2d(256, 256, kernel_size=(3, 3), stride=(1, 1), padding=(1, 1), groups=256)\n",
       "                  )\n",
       "                  (intermediate_act_fn): GELUActivation()\n",
       "                  (dense2): Linear(in_features=256, out_features=64, bias=True)\n",
       "                  (dropout): Dropout(p=0.0, inplace=False)\n",
       "                )\n",
       "              )\n",
       "            )\n",
       "            (1): ModuleList(\n",
       "              (0): SegformerLayer(\n",
       "                (layer_norm_1): LayerNorm((128,), eps=1e-05, elementwise_affine=True)\n",
       "                (attention): SegformerAttention(\n",
       "                  (self): SegformerEfficientSelfAttention(\n",
       "                    (query): lora.Linear(\n",
       "                      (base_layer): Linear(in_features=128, out_features=128, bias=True)\n",
       "                      (lora_dropout): ModuleDict(\n",
       "                        (default): Dropout(p=0.1, inplace=False)\n",
       "                      )\n",
       "                      (lora_A): ModuleDict(\n",
       "                        (default): Linear(in_features=128, out_features=128, bias=False)\n",
       "                      )\n",
       "                      (lora_B): ModuleDict(\n",
       "                        (default): Linear(in_features=128, out_features=128, bias=False)\n",
       "                      )\n",
       "                      (lora_embedding_A): ParameterDict()\n",
       "                      (lora_embedding_B): ParameterDict()\n",
       "                      (lora_magnitude_vector): ModuleDict()\n",
       "                    )\n",
       "                    (key): Linear(in_features=128, out_features=128, bias=True)\n",
       "                    (value): lora.Linear(\n",
       "                      (base_layer): Linear(in_features=128, out_features=128, bias=True)\n",
       "                      (lora_dropout): ModuleDict(\n",
       "                        (default): Dropout(p=0.1, inplace=False)\n",
       "                      )\n",
       "                      (lora_A): ModuleDict(\n",
       "                        (default): Linear(in_features=128, out_features=128, bias=False)\n",
       "                      )\n",
       "                      (lora_B): ModuleDict(\n",
       "                        (default): Linear(in_features=128, out_features=128, bias=False)\n",
       "                      )\n",
       "                      (lora_embedding_A): ParameterDict()\n",
       "                      (lora_embedding_B): ParameterDict()\n",
       "                      (lora_magnitude_vector): ModuleDict()\n",
       "                    )\n",
       "                    (dropout): Dropout(p=0.0, inplace=False)\n",
       "                    (sr): Conv2d(128, 128, kernel_size=(4, 4), stride=(4, 4))\n",
       "                    (layer_norm): LayerNorm((128,), eps=1e-05, elementwise_affine=True)\n",
       "                  )\n",
       "                  (output): SegformerSelfOutput(\n",
       "                    (dense): Linear(in_features=128, out_features=128, bias=True)\n",
       "                    (dropout): Dropout(p=0.0, inplace=False)\n",
       "                  )\n",
       "                )\n",
       "                (drop_path): SegformerDropPath(p=0.019999999552965164)\n",
       "                (layer_norm_2): LayerNorm((128,), eps=1e-05, elementwise_affine=True)\n",
       "                (mlp): SegformerMixFFN(\n",
       "                  (dense1): Linear(in_features=128, out_features=512, bias=True)\n",
       "                  (dwconv): SegformerDWConv(\n",
       "                    (dwconv): Conv2d(512, 512, kernel_size=(3, 3), stride=(1, 1), padding=(1, 1), groups=512)\n",
       "                  )\n",
       "                  (intermediate_act_fn): GELUActivation()\n",
       "                  (dense2): Linear(in_features=512, out_features=128, bias=True)\n",
       "                  (dropout): Dropout(p=0.0, inplace=False)\n",
       "                )\n",
       "              )\n",
       "              (1): SegformerLayer(\n",
       "                (layer_norm_1): LayerNorm((128,), eps=1e-05, elementwise_affine=True)\n",
       "                (attention): SegformerAttention(\n",
       "                  (self): SegformerEfficientSelfAttention(\n",
       "                    (query): lora.Linear(\n",
       "                      (base_layer): Linear(in_features=128, out_features=128, bias=True)\n",
       "                      (lora_dropout): ModuleDict(\n",
       "                        (default): Dropout(p=0.1, inplace=False)\n",
       "                      )\n",
       "                      (lora_A): ModuleDict(\n",
       "                        (default): Linear(in_features=128, out_features=128, bias=False)\n",
       "                      )\n",
       "                      (lora_B): ModuleDict(\n",
       "                        (default): Linear(in_features=128, out_features=128, bias=False)\n",
       "                      )\n",
       "                      (lora_embedding_A): ParameterDict()\n",
       "                      (lora_embedding_B): ParameterDict()\n",
       "                      (lora_magnitude_vector): ModuleDict()\n",
       "                    )\n",
       "                    (key): Linear(in_features=128, out_features=128, bias=True)\n",
       "                    (value): lora.Linear(\n",
       "                      (base_layer): Linear(in_features=128, out_features=128, bias=True)\n",
       "                      (lora_dropout): ModuleDict(\n",
       "                        (default): Dropout(p=0.1, inplace=False)\n",
       "                      )\n",
       "                      (lora_A): ModuleDict(\n",
       "                        (default): Linear(in_features=128, out_features=128, bias=False)\n",
       "                      )\n",
       "                      (lora_B): ModuleDict(\n",
       "                        (default): Linear(in_features=128, out_features=128, bias=False)\n",
       "                      )\n",
       "                      (lora_embedding_A): ParameterDict()\n",
       "                      (lora_embedding_B): ParameterDict()\n",
       "                      (lora_magnitude_vector): ModuleDict()\n",
       "                    )\n",
       "                    (dropout): Dropout(p=0.0, inplace=False)\n",
       "                    (sr): Conv2d(128, 128, kernel_size=(4, 4), stride=(4, 4))\n",
       "                    (layer_norm): LayerNorm((128,), eps=1e-05, elementwise_affine=True)\n",
       "                  )\n",
       "                  (output): SegformerSelfOutput(\n",
       "                    (dense): Linear(in_features=128, out_features=128, bias=True)\n",
       "                    (dropout): Dropout(p=0.0, inplace=False)\n",
       "                  )\n",
       "                )\n",
       "                (drop_path): SegformerDropPath(p=0.02666666731238365)\n",
       "                (layer_norm_2): LayerNorm((128,), eps=1e-05, elementwise_affine=True)\n",
       "                (mlp): SegformerMixFFN(\n",
       "                  (dense1): Linear(in_features=128, out_features=512, bias=True)\n",
       "                  (dwconv): SegformerDWConv(\n",
       "                    (dwconv): Conv2d(512, 512, kernel_size=(3, 3), stride=(1, 1), padding=(1, 1), groups=512)\n",
       "                  )\n",
       "                  (intermediate_act_fn): GELUActivation()\n",
       "                  (dense2): Linear(in_features=512, out_features=128, bias=True)\n",
       "                  (dropout): Dropout(p=0.0, inplace=False)\n",
       "                )\n",
       "              )\n",
       "              (2): SegformerLayer(\n",
       "                (layer_norm_1): LayerNorm((128,), eps=1e-05, elementwise_affine=True)\n",
       "                (attention): SegformerAttention(\n",
       "                  (self): SegformerEfficientSelfAttention(\n",
       "                    (query): lora.Linear(\n",
       "                      (base_layer): Linear(in_features=128, out_features=128, bias=True)\n",
       "                      (lora_dropout): ModuleDict(\n",
       "                        (default): Dropout(p=0.1, inplace=False)\n",
       "                      )\n",
       "                      (lora_A): ModuleDict(\n",
       "                        (default): Linear(in_features=128, out_features=128, bias=False)\n",
       "                      )\n",
       "                      (lora_B): ModuleDict(\n",
       "                        (default): Linear(in_features=128, out_features=128, bias=False)\n",
       "                      )\n",
       "                      (lora_embedding_A): ParameterDict()\n",
       "                      (lora_embedding_B): ParameterDict()\n",
       "                      (lora_magnitude_vector): ModuleDict()\n",
       "                    )\n",
       "                    (key): Linear(in_features=128, out_features=128, bias=True)\n",
       "                    (value): lora.Linear(\n",
       "                      (base_layer): Linear(in_features=128, out_features=128, bias=True)\n",
       "                      (lora_dropout): ModuleDict(\n",
       "                        (default): Dropout(p=0.1, inplace=False)\n",
       "                      )\n",
       "                      (lora_A): ModuleDict(\n",
       "                        (default): Linear(in_features=128, out_features=128, bias=False)\n",
       "                      )\n",
       "                      (lora_B): ModuleDict(\n",
       "                        (default): Linear(in_features=128, out_features=128, bias=False)\n",
       "                      )\n",
       "                      (lora_embedding_A): ParameterDict()\n",
       "                      (lora_embedding_B): ParameterDict()\n",
       "                      (lora_magnitude_vector): ModuleDict()\n",
       "                    )\n",
       "                    (dropout): Dropout(p=0.0, inplace=False)\n",
       "                    (sr): Conv2d(128, 128, kernel_size=(4, 4), stride=(4, 4))\n",
       "                    (layer_norm): LayerNorm((128,), eps=1e-05, elementwise_affine=True)\n",
       "                  )\n",
       "                  (output): SegformerSelfOutput(\n",
       "                    (dense): Linear(in_features=128, out_features=128, bias=True)\n",
       "                    (dropout): Dropout(p=0.0, inplace=False)\n",
       "                  )\n",
       "                )\n",
       "                (drop_path): SegformerDropPath(p=0.03333333507180214)\n",
       "                (layer_norm_2): LayerNorm((128,), eps=1e-05, elementwise_affine=True)\n",
       "                (mlp): SegformerMixFFN(\n",
       "                  (dense1): Linear(in_features=128, out_features=512, bias=True)\n",
       "                  (dwconv): SegformerDWConv(\n",
       "                    (dwconv): Conv2d(512, 512, kernel_size=(3, 3), stride=(1, 1), padding=(1, 1), groups=512)\n",
       "                  )\n",
       "                  (intermediate_act_fn): GELUActivation()\n",
       "                  (dense2): Linear(in_features=512, out_features=128, bias=True)\n",
       "                  (dropout): Dropout(p=0.0, inplace=False)\n",
       "                )\n",
       "              )\n",
       "              (3): SegformerLayer(\n",
       "                (layer_norm_1): LayerNorm((128,), eps=1e-05, elementwise_affine=True)\n",
       "                (attention): SegformerAttention(\n",
       "                  (self): SegformerEfficientSelfAttention(\n",
       "                    (query): lora.Linear(\n",
       "                      (base_layer): Linear(in_features=128, out_features=128, bias=True)\n",
       "                      (lora_dropout): ModuleDict(\n",
       "                        (default): Dropout(p=0.1, inplace=False)\n",
       "                      )\n",
       "                      (lora_A): ModuleDict(\n",
       "                        (default): Linear(in_features=128, out_features=128, bias=False)\n",
       "                      )\n",
       "                      (lora_B): ModuleDict(\n",
       "                        (default): Linear(in_features=128, out_features=128, bias=False)\n",
       "                      )\n",
       "                      (lora_embedding_A): ParameterDict()\n",
       "                      (lora_embedding_B): ParameterDict()\n",
       "                      (lora_magnitude_vector): ModuleDict()\n",
       "                    )\n",
       "                    (key): Linear(in_features=128, out_features=128, bias=True)\n",
       "                    (value): lora.Linear(\n",
       "                      (base_layer): Linear(in_features=128, out_features=128, bias=True)\n",
       "                      (lora_dropout): ModuleDict(\n",
       "                        (default): Dropout(p=0.1, inplace=False)\n",
       "                      )\n",
       "                      (lora_A): ModuleDict(\n",
       "                        (default): Linear(in_features=128, out_features=128, bias=False)\n",
       "                      )\n",
       "                      (lora_B): ModuleDict(\n",
       "                        (default): Linear(in_features=128, out_features=128, bias=False)\n",
       "                      )\n",
       "                      (lora_embedding_A): ParameterDict()\n",
       "                      (lora_embedding_B): ParameterDict()\n",
       "                      (lora_magnitude_vector): ModuleDict()\n",
       "                    )\n",
       "                    (dropout): Dropout(p=0.0, inplace=False)\n",
       "                    (sr): Conv2d(128, 128, kernel_size=(4, 4), stride=(4, 4))\n",
       "                    (layer_norm): LayerNorm((128,), eps=1e-05, elementwise_affine=True)\n",
       "                  )\n",
       "                  (output): SegformerSelfOutput(\n",
       "                    (dense): Linear(in_features=128, out_features=128, bias=True)\n",
       "                    (dropout): Dropout(p=0.0, inplace=False)\n",
       "                  )\n",
       "                )\n",
       "                (drop_path): SegformerDropPath(p=0.03999999910593033)\n",
       "                (layer_norm_2): LayerNorm((128,), eps=1e-05, elementwise_affine=True)\n",
       "                (mlp): SegformerMixFFN(\n",
       "                  (dense1): Linear(in_features=128, out_features=512, bias=True)\n",
       "                  (dwconv): SegformerDWConv(\n",
       "                    (dwconv): Conv2d(512, 512, kernel_size=(3, 3), stride=(1, 1), padding=(1, 1), groups=512)\n",
       "                  )\n",
       "                  (intermediate_act_fn): GELUActivation()\n",
       "                  (dense2): Linear(in_features=512, out_features=128, bias=True)\n",
       "                  (dropout): Dropout(p=0.0, inplace=False)\n",
       "                )\n",
       "              )\n",
       "            )\n",
       "            (2): ModuleList(\n",
       "              (0): SegformerLayer(\n",
       "                (layer_norm_1): LayerNorm((320,), eps=1e-05, elementwise_affine=True)\n",
       "                (attention): SegformerAttention(\n",
       "                  (self): SegformerEfficientSelfAttention(\n",
       "                    (query): lora.Linear(\n",
       "                      (base_layer): Linear(in_features=320, out_features=320, bias=True)\n",
       "                      (lora_dropout): ModuleDict(\n",
       "                        (default): Dropout(p=0.1, inplace=False)\n",
       "                      )\n",
       "                      (lora_A): ModuleDict(\n",
       "                        (default): Linear(in_features=320, out_features=128, bias=False)\n",
       "                      )\n",
       "                      (lora_B): ModuleDict(\n",
       "                        (default): Linear(in_features=128, out_features=320, bias=False)\n",
       "                      )\n",
       "                      (lora_embedding_A): ParameterDict()\n",
       "                      (lora_embedding_B): ParameterDict()\n",
       "                      (lora_magnitude_vector): ModuleDict()\n",
       "                    )\n",
       "                    (key): Linear(in_features=320, out_features=320, bias=True)\n",
       "                    (value): lora.Linear(\n",
       "                      (base_layer): Linear(in_features=320, out_features=320, bias=True)\n",
       "                      (lora_dropout): ModuleDict(\n",
       "                        (default): Dropout(p=0.1, inplace=False)\n",
       "                      )\n",
       "                      (lora_A): ModuleDict(\n",
       "                        (default): Linear(in_features=320, out_features=128, bias=False)\n",
       "                      )\n",
       "                      (lora_B): ModuleDict(\n",
       "                        (default): Linear(in_features=128, out_features=320, bias=False)\n",
       "                      )\n",
       "                      (lora_embedding_A): ParameterDict()\n",
       "                      (lora_embedding_B): ParameterDict()\n",
       "                      (lora_magnitude_vector): ModuleDict()\n",
       "                    )\n",
       "                    (dropout): Dropout(p=0.0, inplace=False)\n",
       "                    (sr): Conv2d(320, 320, kernel_size=(2, 2), stride=(2, 2))\n",
       "                    (layer_norm): LayerNorm((320,), eps=1e-05, elementwise_affine=True)\n",
       "                  )\n",
       "                  (output): SegformerSelfOutput(\n",
       "                    (dense): Linear(in_features=320, out_features=320, bias=True)\n",
       "                    (dropout): Dropout(p=0.0, inplace=False)\n",
       "                  )\n",
       "                )\n",
       "                (drop_path): SegformerDropPath(p=0.046666666865348816)\n",
       "                (layer_norm_2): LayerNorm((320,), eps=1e-05, elementwise_affine=True)\n",
       "                (mlp): SegformerMixFFN(\n",
       "                  (dense1): Linear(in_features=320, out_features=1280, bias=True)\n",
       "                  (dwconv): SegformerDWConv(\n",
       "                    (dwconv): Conv2d(1280, 1280, kernel_size=(3, 3), stride=(1, 1), padding=(1, 1), groups=1280)\n",
       "                  )\n",
       "                  (intermediate_act_fn): GELUActivation()\n",
       "                  (dense2): Linear(in_features=1280, out_features=320, bias=True)\n",
       "                  (dropout): Dropout(p=0.0, inplace=False)\n",
       "                )\n",
       "              )\n",
       "              (1): SegformerLayer(\n",
       "                (layer_norm_1): LayerNorm((320,), eps=1e-05, elementwise_affine=True)\n",
       "                (attention): SegformerAttention(\n",
       "                  (self): SegformerEfficientSelfAttention(\n",
       "                    (query): lora.Linear(\n",
       "                      (base_layer): Linear(in_features=320, out_features=320, bias=True)\n",
       "                      (lora_dropout): ModuleDict(\n",
       "                        (default): Dropout(p=0.1, inplace=False)\n",
       "                      )\n",
       "                      (lora_A): ModuleDict(\n",
       "                        (default): Linear(in_features=320, out_features=128, bias=False)\n",
       "                      )\n",
       "                      (lora_B): ModuleDict(\n",
       "                        (default): Linear(in_features=128, out_features=320, bias=False)\n",
       "                      )\n",
       "                      (lora_embedding_A): ParameterDict()\n",
       "                      (lora_embedding_B): ParameterDict()\n",
       "                      (lora_magnitude_vector): ModuleDict()\n",
       "                    )\n",
       "                    (key): Linear(in_features=320, out_features=320, bias=True)\n",
       "                    (value): lora.Linear(\n",
       "                      (base_layer): Linear(in_features=320, out_features=320, bias=True)\n",
       "                      (lora_dropout): ModuleDict(\n",
       "                        (default): Dropout(p=0.1, inplace=False)\n",
       "                      )\n",
       "                      (lora_A): ModuleDict(\n",
       "                        (default): Linear(in_features=320, out_features=128, bias=False)\n",
       "                      )\n",
       "                      (lora_B): ModuleDict(\n",
       "                        (default): Linear(in_features=128, out_features=320, bias=False)\n",
       "                      )\n",
       "                      (lora_embedding_A): ParameterDict()\n",
       "                      (lora_embedding_B): ParameterDict()\n",
       "                      (lora_magnitude_vector): ModuleDict()\n",
       "                    )\n",
       "                    (dropout): Dropout(p=0.0, inplace=False)\n",
       "                    (sr): Conv2d(320, 320, kernel_size=(2, 2), stride=(2, 2))\n",
       "                    (layer_norm): LayerNorm((320,), eps=1e-05, elementwise_affine=True)\n",
       "                  )\n",
       "                  (output): SegformerSelfOutput(\n",
       "                    (dense): Linear(in_features=320, out_features=320, bias=True)\n",
       "                    (dropout): Dropout(p=0.0, inplace=False)\n",
       "                  )\n",
       "                )\n",
       "                (drop_path): SegformerDropPath(p=0.0533333346247673)\n",
       "                (layer_norm_2): LayerNorm((320,), eps=1e-05, elementwise_affine=True)\n",
       "                (mlp): SegformerMixFFN(\n",
       "                  (dense1): Linear(in_features=320, out_features=1280, bias=True)\n",
       "                  (dwconv): SegformerDWConv(\n",
       "                    (dwconv): Conv2d(1280, 1280, kernel_size=(3, 3), stride=(1, 1), padding=(1, 1), groups=1280)\n",
       "                  )\n",
       "                  (intermediate_act_fn): GELUActivation()\n",
       "                  (dense2): Linear(in_features=1280, out_features=320, bias=True)\n",
       "                  (dropout): Dropout(p=0.0, inplace=False)\n",
       "                )\n",
       "              )\n",
       "              (2): SegformerLayer(\n",
       "                (layer_norm_1): LayerNorm((320,), eps=1e-05, elementwise_affine=True)\n",
       "                (attention): SegformerAttention(\n",
       "                  (self): SegformerEfficientSelfAttention(\n",
       "                    (query): lora.Linear(\n",
       "                      (base_layer): Linear(in_features=320, out_features=320, bias=True)\n",
       "                      (lora_dropout): ModuleDict(\n",
       "                        (default): Dropout(p=0.1, inplace=False)\n",
       "                      )\n",
       "                      (lora_A): ModuleDict(\n",
       "                        (default): Linear(in_features=320, out_features=128, bias=False)\n",
       "                      )\n",
       "                      (lora_B): ModuleDict(\n",
       "                        (default): Linear(in_features=128, out_features=320, bias=False)\n",
       "                      )\n",
       "                      (lora_embedding_A): ParameterDict()\n",
       "                      (lora_embedding_B): ParameterDict()\n",
       "                      (lora_magnitude_vector): ModuleDict()\n",
       "                    )\n",
       "                    (key): Linear(in_features=320, out_features=320, bias=True)\n",
       "                    (value): lora.Linear(\n",
       "                      (base_layer): Linear(in_features=320, out_features=320, bias=True)\n",
       "                      (lora_dropout): ModuleDict(\n",
       "                        (default): Dropout(p=0.1, inplace=False)\n",
       "                      )\n",
       "                      (lora_A): ModuleDict(\n",
       "                        (default): Linear(in_features=320, out_features=128, bias=False)\n",
       "                      )\n",
       "                      (lora_B): ModuleDict(\n",
       "                        (default): Linear(in_features=128, out_features=320, bias=False)\n",
       "                      )\n",
       "                      (lora_embedding_A): ParameterDict()\n",
       "                      (lora_embedding_B): ParameterDict()\n",
       "                      (lora_magnitude_vector): ModuleDict()\n",
       "                    )\n",
       "                    (dropout): Dropout(p=0.0, inplace=False)\n",
       "                    (sr): Conv2d(320, 320, kernel_size=(2, 2), stride=(2, 2))\n",
       "                    (layer_norm): LayerNorm((320,), eps=1e-05, elementwise_affine=True)\n",
       "                  )\n",
       "                  (output): SegformerSelfOutput(\n",
       "                    (dense): Linear(in_features=320, out_features=320, bias=True)\n",
       "                    (dropout): Dropout(p=0.0, inplace=False)\n",
       "                  )\n",
       "                )\n",
       "                (drop_path): SegformerDropPath(p=0.06000000238418579)\n",
       "                (layer_norm_2): LayerNorm((320,), eps=1e-05, elementwise_affine=True)\n",
       "                (mlp): SegformerMixFFN(\n",
       "                  (dense1): Linear(in_features=320, out_features=1280, bias=True)\n",
       "                  (dwconv): SegformerDWConv(\n",
       "                    (dwconv): Conv2d(1280, 1280, kernel_size=(3, 3), stride=(1, 1), padding=(1, 1), groups=1280)\n",
       "                  )\n",
       "                  (intermediate_act_fn): GELUActivation()\n",
       "                  (dense2): Linear(in_features=1280, out_features=320, bias=True)\n",
       "                  (dropout): Dropout(p=0.0, inplace=False)\n",
       "                )\n",
       "              )\n",
       "              (3): SegformerLayer(\n",
       "                (layer_norm_1): LayerNorm((320,), eps=1e-05, elementwise_affine=True)\n",
       "                (attention): SegformerAttention(\n",
       "                  (self): SegformerEfficientSelfAttention(\n",
       "                    (query): lora.Linear(\n",
       "                      (base_layer): Linear(in_features=320, out_features=320, bias=True)\n",
       "                      (lora_dropout): ModuleDict(\n",
       "                        (default): Dropout(p=0.1, inplace=False)\n",
       "                      )\n",
       "                      (lora_A): ModuleDict(\n",
       "                        (default): Linear(in_features=320, out_features=128, bias=False)\n",
       "                      )\n",
       "                      (lora_B): ModuleDict(\n",
       "                        (default): Linear(in_features=128, out_features=320, bias=False)\n",
       "                      )\n",
       "                      (lora_embedding_A): ParameterDict()\n",
       "                      (lora_embedding_B): ParameterDict()\n",
       "                      (lora_magnitude_vector): ModuleDict()\n",
       "                    )\n",
       "                    (key): Linear(in_features=320, out_features=320, bias=True)\n",
       "                    (value): lora.Linear(\n",
       "                      (base_layer): Linear(in_features=320, out_features=320, bias=True)\n",
       "                      (lora_dropout): ModuleDict(\n",
       "                        (default): Dropout(p=0.1, inplace=False)\n",
       "                      )\n",
       "                      (lora_A): ModuleDict(\n",
       "                        (default): Linear(in_features=320, out_features=128, bias=False)\n",
       "                      )\n",
       "                      (lora_B): ModuleDict(\n",
       "                        (default): Linear(in_features=128, out_features=320, bias=False)\n",
       "                      )\n",
       "                      (lora_embedding_A): ParameterDict()\n",
       "                      (lora_embedding_B): ParameterDict()\n",
       "                      (lora_magnitude_vector): ModuleDict()\n",
       "                    )\n",
       "                    (dropout): Dropout(p=0.0, inplace=False)\n",
       "                    (sr): Conv2d(320, 320, kernel_size=(2, 2), stride=(2, 2))\n",
       "                    (layer_norm): LayerNorm((320,), eps=1e-05, elementwise_affine=True)\n",
       "                  )\n",
       "                  (output): SegformerSelfOutput(\n",
       "                    (dense): Linear(in_features=320, out_features=320, bias=True)\n",
       "                    (dropout): Dropout(p=0.0, inplace=False)\n",
       "                  )\n",
       "                )\n",
       "                (drop_path): SegformerDropPath(p=0.06666666269302368)\n",
       "                (layer_norm_2): LayerNorm((320,), eps=1e-05, elementwise_affine=True)\n",
       "                (mlp): SegformerMixFFN(\n",
       "                  (dense1): Linear(in_features=320, out_features=1280, bias=True)\n",
       "                  (dwconv): SegformerDWConv(\n",
       "                    (dwconv): Conv2d(1280, 1280, kernel_size=(3, 3), stride=(1, 1), padding=(1, 1), groups=1280)\n",
       "                  )\n",
       "                  (intermediate_act_fn): GELUActivation()\n",
       "                  (dense2): Linear(in_features=1280, out_features=320, bias=True)\n",
       "                  (dropout): Dropout(p=0.0, inplace=False)\n",
       "                )\n",
       "              )\n",
       "              (4): SegformerLayer(\n",
       "                (layer_norm_1): LayerNorm((320,), eps=1e-05, elementwise_affine=True)\n",
       "                (attention): SegformerAttention(\n",
       "                  (self): SegformerEfficientSelfAttention(\n",
       "                    (query): lora.Linear(\n",
       "                      (base_layer): Linear(in_features=320, out_features=320, bias=True)\n",
       "                      (lora_dropout): ModuleDict(\n",
       "                        (default): Dropout(p=0.1, inplace=False)\n",
       "                      )\n",
       "                      (lora_A): ModuleDict(\n",
       "                        (default): Linear(in_features=320, out_features=128, bias=False)\n",
       "                      )\n",
       "                      (lora_B): ModuleDict(\n",
       "                        (default): Linear(in_features=128, out_features=320, bias=False)\n",
       "                      )\n",
       "                      (lora_embedding_A): ParameterDict()\n",
       "                      (lora_embedding_B): ParameterDict()\n",
       "                      (lora_magnitude_vector): ModuleDict()\n",
       "                    )\n",
       "                    (key): Linear(in_features=320, out_features=320, bias=True)\n",
       "                    (value): lora.Linear(\n",
       "                      (base_layer): Linear(in_features=320, out_features=320, bias=True)\n",
       "                      (lora_dropout): ModuleDict(\n",
       "                        (default): Dropout(p=0.1, inplace=False)\n",
       "                      )\n",
       "                      (lora_A): ModuleDict(\n",
       "                        (default): Linear(in_features=320, out_features=128, bias=False)\n",
       "                      )\n",
       "                      (lora_B): ModuleDict(\n",
       "                        (default): Linear(in_features=128, out_features=320, bias=False)\n",
       "                      )\n",
       "                      (lora_embedding_A): ParameterDict()\n",
       "                      (lora_embedding_B): ParameterDict()\n",
       "                      (lora_magnitude_vector): ModuleDict()\n",
       "                    )\n",
       "                    (dropout): Dropout(p=0.0, inplace=False)\n",
       "                    (sr): Conv2d(320, 320, kernel_size=(2, 2), stride=(2, 2))\n",
       "                    (layer_norm): LayerNorm((320,), eps=1e-05, elementwise_affine=True)\n",
       "                  )\n",
       "                  (output): SegformerSelfOutput(\n",
       "                    (dense): Linear(in_features=320, out_features=320, bias=True)\n",
       "                    (dropout): Dropout(p=0.0, inplace=False)\n",
       "                  )\n",
       "                )\n",
       "                (drop_path): SegformerDropPath(p=0.07333333790302277)\n",
       "                (layer_norm_2): LayerNorm((320,), eps=1e-05, elementwise_affine=True)\n",
       "                (mlp): SegformerMixFFN(\n",
       "                  (dense1): Linear(in_features=320, out_features=1280, bias=True)\n",
       "                  (dwconv): SegformerDWConv(\n",
       "                    (dwconv): Conv2d(1280, 1280, kernel_size=(3, 3), stride=(1, 1), padding=(1, 1), groups=1280)\n",
       "                  )\n",
       "                  (intermediate_act_fn): GELUActivation()\n",
       "                  (dense2): Linear(in_features=1280, out_features=320, bias=True)\n",
       "                  (dropout): Dropout(p=0.0, inplace=False)\n",
       "                )\n",
       "              )\n",
       "              (5): SegformerLayer(\n",
       "                (layer_norm_1): LayerNorm((320,), eps=1e-05, elementwise_affine=True)\n",
       "                (attention): SegformerAttention(\n",
       "                  (self): SegformerEfficientSelfAttention(\n",
       "                    (query): lora.Linear(\n",
       "                      (base_layer): Linear(in_features=320, out_features=320, bias=True)\n",
       "                      (lora_dropout): ModuleDict(\n",
       "                        (default): Dropout(p=0.1, inplace=False)\n",
       "                      )\n",
       "                      (lora_A): ModuleDict(\n",
       "                        (default): Linear(in_features=320, out_features=128, bias=False)\n",
       "                      )\n",
       "                      (lora_B): ModuleDict(\n",
       "                        (default): Linear(in_features=128, out_features=320, bias=False)\n",
       "                      )\n",
       "                      (lora_embedding_A): ParameterDict()\n",
       "                      (lora_embedding_B): ParameterDict()\n",
       "                      (lora_magnitude_vector): ModuleDict()\n",
       "                    )\n",
       "                    (key): Linear(in_features=320, out_features=320, bias=True)\n",
       "                    (value): lora.Linear(\n",
       "                      (base_layer): Linear(in_features=320, out_features=320, bias=True)\n",
       "                      (lora_dropout): ModuleDict(\n",
       "                        (default): Dropout(p=0.1, inplace=False)\n",
       "                      )\n",
       "                      (lora_A): ModuleDict(\n",
       "                        (default): Linear(in_features=320, out_features=128, bias=False)\n",
       "                      )\n",
       "                      (lora_B): ModuleDict(\n",
       "                        (default): Linear(in_features=128, out_features=320, bias=False)\n",
       "                      )\n",
       "                      (lora_embedding_A): ParameterDict()\n",
       "                      (lora_embedding_B): ParameterDict()\n",
       "                      (lora_magnitude_vector): ModuleDict()\n",
       "                    )\n",
       "                    (dropout): Dropout(p=0.0, inplace=False)\n",
       "                    (sr): Conv2d(320, 320, kernel_size=(2, 2), stride=(2, 2))\n",
       "                    (layer_norm): LayerNorm((320,), eps=1e-05, elementwise_affine=True)\n",
       "                  )\n",
       "                  (output): SegformerSelfOutput(\n",
       "                    (dense): Linear(in_features=320, out_features=320, bias=True)\n",
       "                    (dropout): Dropout(p=0.0, inplace=False)\n",
       "                  )\n",
       "                )\n",
       "                (drop_path): SegformerDropPath(p=0.07999999821186066)\n",
       "                (layer_norm_2): LayerNorm((320,), eps=1e-05, elementwise_affine=True)\n",
       "                (mlp): SegformerMixFFN(\n",
       "                  (dense1): Linear(in_features=320, out_features=1280, bias=True)\n",
       "                  (dwconv): SegformerDWConv(\n",
       "                    (dwconv): Conv2d(1280, 1280, kernel_size=(3, 3), stride=(1, 1), padding=(1, 1), groups=1280)\n",
       "                  )\n",
       "                  (intermediate_act_fn): GELUActivation()\n",
       "                  (dense2): Linear(in_features=1280, out_features=320, bias=True)\n",
       "                  (dropout): Dropout(p=0.0, inplace=False)\n",
       "                )\n",
       "              )\n",
       "            )\n",
       "            (3): ModuleList(\n",
       "              (0): SegformerLayer(\n",
       "                (layer_norm_1): LayerNorm((512,), eps=1e-05, elementwise_affine=True)\n",
       "                (attention): SegformerAttention(\n",
       "                  (self): SegformerEfficientSelfAttention(\n",
       "                    (query): lora.Linear(\n",
       "                      (base_layer): Linear(in_features=512, out_features=512, bias=True)\n",
       "                      (lora_dropout): ModuleDict(\n",
       "                        (default): Dropout(p=0.1, inplace=False)\n",
       "                      )\n",
       "                      (lora_A): ModuleDict(\n",
       "                        (default): Linear(in_features=512, out_features=128, bias=False)\n",
       "                      )\n",
       "                      (lora_B): ModuleDict(\n",
       "                        (default): Linear(in_features=128, out_features=512, bias=False)\n",
       "                      )\n",
       "                      (lora_embedding_A): ParameterDict()\n",
       "                      (lora_embedding_B): ParameterDict()\n",
       "                      (lora_magnitude_vector): ModuleDict()\n",
       "                    )\n",
       "                    (key): Linear(in_features=512, out_features=512, bias=True)\n",
       "                    (value): lora.Linear(\n",
       "                      (base_layer): Linear(in_features=512, out_features=512, bias=True)\n",
       "                      (lora_dropout): ModuleDict(\n",
       "                        (default): Dropout(p=0.1, inplace=False)\n",
       "                      )\n",
       "                      (lora_A): ModuleDict(\n",
       "                        (default): Linear(in_features=512, out_features=128, bias=False)\n",
       "                      )\n",
       "                      (lora_B): ModuleDict(\n",
       "                        (default): Linear(in_features=128, out_features=512, bias=False)\n",
       "                      )\n",
       "                      (lora_embedding_A): ParameterDict()\n",
       "                      (lora_embedding_B): ParameterDict()\n",
       "                      (lora_magnitude_vector): ModuleDict()\n",
       "                    )\n",
       "                    (dropout): Dropout(p=0.0, inplace=False)\n",
       "                  )\n",
       "                  (output): SegformerSelfOutput(\n",
       "                    (dense): Linear(in_features=512, out_features=512, bias=True)\n",
       "                    (dropout): Dropout(p=0.0, inplace=False)\n",
       "                  )\n",
       "                )\n",
       "                (drop_path): SegformerDropPath(p=0.08666666597127914)\n",
       "                (layer_norm_2): LayerNorm((512,), eps=1e-05, elementwise_affine=True)\n",
       "                (mlp): SegformerMixFFN(\n",
       "                  (dense1): Linear(in_features=512, out_features=2048, bias=True)\n",
       "                  (dwconv): SegformerDWConv(\n",
       "                    (dwconv): Conv2d(2048, 2048, kernel_size=(3, 3), stride=(1, 1), padding=(1, 1), groups=2048)\n",
       "                  )\n",
       "                  (intermediate_act_fn): GELUActivation()\n",
       "                  (dense2): Linear(in_features=2048, out_features=512, bias=True)\n",
       "                  (dropout): Dropout(p=0.0, inplace=False)\n",
       "                )\n",
       "              )\n",
       "              (1): SegformerLayer(\n",
       "                (layer_norm_1): LayerNorm((512,), eps=1e-05, elementwise_affine=True)\n",
       "                (attention): SegformerAttention(\n",
       "                  (self): SegformerEfficientSelfAttention(\n",
       "                    (query): lora.Linear(\n",
       "                      (base_layer): Linear(in_features=512, out_features=512, bias=True)\n",
       "                      (lora_dropout): ModuleDict(\n",
       "                        (default): Dropout(p=0.1, inplace=False)\n",
       "                      )\n",
       "                      (lora_A): ModuleDict(\n",
       "                        (default): Linear(in_features=512, out_features=128, bias=False)\n",
       "                      )\n",
       "                      (lora_B): ModuleDict(\n",
       "                        (default): Linear(in_features=128, out_features=512, bias=False)\n",
       "                      )\n",
       "                      (lora_embedding_A): ParameterDict()\n",
       "                      (lora_embedding_B): ParameterDict()\n",
       "                      (lora_magnitude_vector): ModuleDict()\n",
       "                    )\n",
       "                    (key): Linear(in_features=512, out_features=512, bias=True)\n",
       "                    (value): lora.Linear(\n",
       "                      (base_layer): Linear(in_features=512, out_features=512, bias=True)\n",
       "                      (lora_dropout): ModuleDict(\n",
       "                        (default): Dropout(p=0.1, inplace=False)\n",
       "                      )\n",
       "                      (lora_A): ModuleDict(\n",
       "                        (default): Linear(in_features=512, out_features=128, bias=False)\n",
       "                      )\n",
       "                      (lora_B): ModuleDict(\n",
       "                        (default): Linear(in_features=128, out_features=512, bias=False)\n",
       "                      )\n",
       "                      (lora_embedding_A): ParameterDict()\n",
       "                      (lora_embedding_B): ParameterDict()\n",
       "                      (lora_magnitude_vector): ModuleDict()\n",
       "                    )\n",
       "                    (dropout): Dropout(p=0.0, inplace=False)\n",
       "                  )\n",
       "                  (output): SegformerSelfOutput(\n",
       "                    (dense): Linear(in_features=512, out_features=512, bias=True)\n",
       "                    (dropout): Dropout(p=0.0, inplace=False)\n",
       "                  )\n",
       "                )\n",
       "                (drop_path): SegformerDropPath(p=0.09333333373069763)\n",
       "                (layer_norm_2): LayerNorm((512,), eps=1e-05, elementwise_affine=True)\n",
       "                (mlp): SegformerMixFFN(\n",
       "                  (dense1): Linear(in_features=512, out_features=2048, bias=True)\n",
       "                  (dwconv): SegformerDWConv(\n",
       "                    (dwconv): Conv2d(2048, 2048, kernel_size=(3, 3), stride=(1, 1), padding=(1, 1), groups=2048)\n",
       "                  )\n",
       "                  (intermediate_act_fn): GELUActivation()\n",
       "                  (dense2): Linear(in_features=2048, out_features=512, bias=True)\n",
       "                  (dropout): Dropout(p=0.0, inplace=False)\n",
       "                )\n",
       "              )\n",
       "              (2): SegformerLayer(\n",
       "                (layer_norm_1): LayerNorm((512,), eps=1e-05, elementwise_affine=True)\n",
       "                (attention): SegformerAttention(\n",
       "                  (self): SegformerEfficientSelfAttention(\n",
       "                    (query): lora.Linear(\n",
       "                      (base_layer): Linear(in_features=512, out_features=512, bias=True)\n",
       "                      (lora_dropout): ModuleDict(\n",
       "                        (default): Dropout(p=0.1, inplace=False)\n",
       "                      )\n",
       "                      (lora_A): ModuleDict(\n",
       "                        (default): Linear(in_features=512, out_features=128, bias=False)\n",
       "                      )\n",
       "                      (lora_B): ModuleDict(\n",
       "                        (default): Linear(in_features=128, out_features=512, bias=False)\n",
       "                      )\n",
       "                      (lora_embedding_A): ParameterDict()\n",
       "                      (lora_embedding_B): ParameterDict()\n",
       "                      (lora_magnitude_vector): ModuleDict()\n",
       "                    )\n",
       "                    (key): Linear(in_features=512, out_features=512, bias=True)\n",
       "                    (value): lora.Linear(\n",
       "                      (base_layer): Linear(in_features=512, out_features=512, bias=True)\n",
       "                      (lora_dropout): ModuleDict(\n",
       "                        (default): Dropout(p=0.1, inplace=False)\n",
       "                      )\n",
       "                      (lora_A): ModuleDict(\n",
       "                        (default): Linear(in_features=512, out_features=128, bias=False)\n",
       "                      )\n",
       "                      (lora_B): ModuleDict(\n",
       "                        (default): Linear(in_features=128, out_features=512, bias=False)\n",
       "                      )\n",
       "                      (lora_embedding_A): ParameterDict()\n",
       "                      (lora_embedding_B): ParameterDict()\n",
       "                      (lora_magnitude_vector): ModuleDict()\n",
       "                    )\n",
       "                    (dropout): Dropout(p=0.0, inplace=False)\n",
       "                  )\n",
       "                  (output): SegformerSelfOutput(\n",
       "                    (dense): Linear(in_features=512, out_features=512, bias=True)\n",
       "                    (dropout): Dropout(p=0.0, inplace=False)\n",
       "                  )\n",
       "                )\n",
       "                (drop_path): SegformerDropPath(p=0.10000000149011612)\n",
       "                (layer_norm_2): LayerNorm((512,), eps=1e-05, elementwise_affine=True)\n",
       "                (mlp): SegformerMixFFN(\n",
       "                  (dense1): Linear(in_features=512, out_features=2048, bias=True)\n",
       "                  (dwconv): SegformerDWConv(\n",
       "                    (dwconv): Conv2d(2048, 2048, kernel_size=(3, 3), stride=(1, 1), padding=(1, 1), groups=2048)\n",
       "                  )\n",
       "                  (intermediate_act_fn): GELUActivation()\n",
       "                  (dense2): Linear(in_features=2048, out_features=512, bias=True)\n",
       "                  (dropout): Dropout(p=0.0, inplace=False)\n",
       "                )\n",
       "              )\n",
       "            )\n",
       "          )\n",
       "          (layer_norm): ModuleList(\n",
       "            (0): LayerNorm((64,), eps=1e-05, elementwise_affine=True)\n",
       "            (1): LayerNorm((128,), eps=1e-05, elementwise_affine=True)\n",
       "            (2): LayerNorm((320,), eps=1e-05, elementwise_affine=True)\n",
       "            (3): LayerNorm((512,), eps=1e-05, elementwise_affine=True)\n",
       "          )\n",
       "        )\n",
       "      )\n",
       "      (decode_head): ModulesToSaveWrapper(\n",
       "        (original_module): SegformerDecodeHead(\n",
       "          (linear_c): ModuleList(\n",
       "            (0): SegformerMLP(\n",
       "              (proj): Linear(in_features=64, out_features=768, bias=True)\n",
       "            )\n",
       "            (1): SegformerMLP(\n",
       "              (proj): Linear(in_features=128, out_features=768, bias=True)\n",
       "            )\n",
       "            (2): SegformerMLP(\n",
       "              (proj): Linear(in_features=320, out_features=768, bias=True)\n",
       "            )\n",
       "            (3): SegformerMLP(\n",
       "              (proj): Linear(in_features=512, out_features=768, bias=True)\n",
       "            )\n",
       "          )\n",
       "          (linear_fuse): Conv2d(3072, 768, kernel_size=(1, 1), stride=(1, 1), bias=False)\n",
       "          (batch_norm): BatchNorm2d(768, eps=1e-05, momentum=0.1, affine=True, track_running_stats=True)\n",
       "          (activation): ReLU()\n",
       "          (dropout): Dropout(p=0.1, inplace=False)\n",
       "          (classifier): Conv2d(768, 3, kernel_size=(1, 1), stride=(1, 1))\n",
       "        )\n",
       "        (modules_to_save): ModuleDict(\n",
       "          (default): SegformerDecodeHead(\n",
       "            (linear_c): ModuleList(\n",
       "              (0): SegformerMLP(\n",
       "                (proj): Linear(in_features=64, out_features=768, bias=True)\n",
       "              )\n",
       "              (1): SegformerMLP(\n",
       "                (proj): Linear(in_features=128, out_features=768, bias=True)\n",
       "              )\n",
       "              (2): SegformerMLP(\n",
       "                (proj): Linear(in_features=320, out_features=768, bias=True)\n",
       "              )\n",
       "              (3): SegformerMLP(\n",
       "                (proj): Linear(in_features=512, out_features=768, bias=True)\n",
       "              )\n",
       "            )\n",
       "            (linear_fuse): Conv2d(3072, 768, kernel_size=(1, 1), stride=(1, 1), bias=False)\n",
       "            (batch_norm): BatchNorm2d(768, eps=1e-05, momentum=0.1, affine=True, track_running_stats=True)\n",
       "            (activation): ReLU()\n",
       "            (dropout): Dropout(p=0.1, inplace=False)\n",
       "            (classifier): Conv2d(768, 3, kernel_size=(1, 1), stride=(1, 1))\n",
       "          )\n",
       "        )\n",
       "      )\n",
       "    )\n",
       "  )\n",
       ")"
      ]
     },
     "execution_count": 27,
     "metadata": {},
     "output_type": "execute_result"
    }
   ],
   "execution_count": 27
  },
  {
   "cell_type": "markdown",
   "metadata": {
    "id": "iflqvAxw_TTs"
   },
   "source": [
    "## Logger"
   ]
  },
  {
   "cell_type": "code",
   "source": [
    "# !pip install --upgrade wandb\n",
    "# import wandb\n"
   ],
   "metadata": {
    "id": "xwuBVKUHo60w",
    "ExecuteTime": {
     "end_time": "2025-10-14T08:41:32.956229Z",
     "start_time": "2025-10-14T08:41:32.952205Z"
    }
   },
   "outputs": [],
   "execution_count": 28
  },
  {
   "cell_type": "code",
   "metadata": {
    "id": "wpnknyyI_TTs",
    "colab": {
     "base_uri": "https://localhost:8080/",
     "height": 161
    },
    "outputId": "ae3c52e4-5ccc-4a1d-945e-67262b0a8d1b",
    "ExecuteTime": {
     "end_time": "2025-10-14T08:41:37.998646Z",
     "start_time": "2025-10-14T08:41:32.973932Z"
    }
   },
   "source": [
    "logger = Logger(\n",
    "    project = cfg.logger.wandb_project,\n",
    "    benchmark_run = benchmark_run,\n",
    "    log_epochs = cfg.logger.log_epochs,\n",
    "    config = cfg_logger,\n",
    "    checkpoint_dir = \"./\"\n",
    ")\n",
    "# wandb api key if they ask for it, put this 9770552259c029b0835547eed1ed7173e8c8eccf"
   ],
   "outputs": [
    {
     "name": "stderr",
     "output_type": "stream",
     "text": [
      "wandb: Currently logged in as: muhammadibnerafiq (muhammadibnerafiq-tilburg-university) to https://api.wandb.ai. Use `wandb login --relogin` to force relogin\n"
     ]
    },
    {
     "data": {
      "text/plain": [
       "<IPython.core.display.HTML object>"
      ],
      "text/html": []
     },
     "metadata": {},
     "output_type": "display_data",
     "jetTransient": {
      "display_id": "fb0a505471c102abd81287c4f813638c"
     }
    },
    {
     "data": {
      "text/plain": [
       "<IPython.core.display.HTML object>"
      ],
      "text/html": [
       "Tracking run with wandb version 0.22.2"
      ]
     },
     "metadata": {},
     "output_type": "display_data",
     "jetTransient": {
      "display_id": null
     }
    },
    {
     "data": {
      "text/plain": [
       "<IPython.core.display.HTML object>"
      ],
      "text/html": [
       "Run data is saved locally in <code>C:\\Users\\20223018\\PycharmProjects\\DC3\\coralscapesScripts\\wandb\\run-20251014_104134-cjd2qdcq</code>"
      ]
     },
     "metadata": {},
     "output_type": "display_data",
     "jetTransient": {
      "display_id": null
     }
    },
    {
     "data": {
      "text/plain": [
       "<IPython.core.display.HTML object>"
      ],
      "text/html": [
       "Syncing run <strong><a href='https://wandb.ai/muhammadibnerafiq-tilburg-university/coralscapes/runs/cjd2qdcq' target=\"_blank\">fine_tune_notebook</a></strong> to <a href='https://wandb.ai/muhammadibnerafiq-tilburg-university/coralscapes' target=\"_blank\">Weights & Biases</a> (<a href='https://wandb.me/developer-guide' target=\"_blank\">docs</a>)<br>"
      ]
     },
     "metadata": {},
     "output_type": "display_data",
     "jetTransient": {
      "display_id": null
     }
    },
    {
     "data": {
      "text/plain": [
       "<IPython.core.display.HTML object>"
      ],
      "text/html": [
       " View project at <a href='https://wandb.ai/muhammadibnerafiq-tilburg-university/coralscapes' target=\"_blank\">https://wandb.ai/muhammadibnerafiq-tilburg-university/coralscapes</a>"
      ]
     },
     "metadata": {},
     "output_type": "display_data",
     "jetTransient": {
      "display_id": null
     }
    },
    {
     "data": {
      "text/plain": [
       "<IPython.core.display.HTML object>"
      ],
      "text/html": [
       " View run at <a href='https://wandb.ai/muhammadibnerafiq-tilburg-university/coralscapes/runs/cjd2qdcq' target=\"_blank\">https://wandb.ai/muhammadibnerafiq-tilburg-university/coralscapes/runs/cjd2qdcq</a>"
      ]
     },
     "metadata": {},
     "output_type": "display_data",
     "jetTransient": {
      "display_id": null
     }
    }
   ],
   "execution_count": 29
  },
  {
   "cell_type": "markdown",
   "metadata": {
    "id": "XL_mk3W4_TTs"
   },
   "source": [
    "## Run"
   ]
  },
  {
   "cell_type": "code",
   "metadata": {
    "id": "7X7tkPAM_TTs",
    "colab": {
     "base_uri": "https://localhost:8080/"
    },
    "outputId": "8ef5d0f7-d168-4f19-bff1-465cd77650e0",
    "ExecuteTime": {
     "end_time": "2025-10-14T08:41:38.522601Z",
     "start_time": "2025-10-14T08:41:38.511319Z"
    }
   },
   "source": [
    "benchmark_run.print_trainable_parameters()"
   ],
   "outputs": [
    {
     "name": "stdout",
     "output_type": "stream",
     "text": [
      "trainable params: 5290883 || all params: 32631494 || trainable%: 16.21\n"
     ]
    }
   ],
   "execution_count": 30
  },
  {
   "cell_type": "code",
   "metadata": {
    "colab": {
     "base_uri": "https://localhost:8080/"
    },
    "id": "3e951540",
    "outputId": "342bea9c-57ff-45ef-ff6c-fd4a6503b77d",
    "ExecuteTime": {
     "end_time": "2025-10-14T08:41:39.007045Z",
     "start_time": "2025-10-14T08:41:38.542052Z"
    }
   },
   "source": [
    "data_batch = next(iter(train_loader))\n",
    "labels_batch = data_batch[1] # Access labels using index 1\n",
    "\n",
    "print(\"Shape of labels batch:\", labels_batch.shape)\n",
    "print(\"Unique values in labels batch:\", torch.unique(labels_batch))"
   ],
   "outputs": [
    {
     "name": "stdout",
     "output_type": "stream",
     "text": [
      "Shape of labels batch: torch.Size([1, 512, 512])\n",
      "Unique values in labels batch: tensor([0, 1, 2], dtype=torch.uint8)\n"
     ]
    }
   ],
   "execution_count": 31
  },
  {
   "cell_type": "code",
   "metadata": {
    "id": "f0199d45",
    "ExecuteTime": {
     "end_time": "2025-10-14T08:41:39.020519Z",
     "start_time": "2025-10-14T08:41:39.015052Z"
    }
   },
   "source": [
    "# benchmark_metrics = launch_benchmark(train_loader, val_loader, test_loader, benchmark_run, logger = logger)\n",
    "# save_benchmark_run(benchmark_run, benchmark_metrics)"
   ],
   "outputs": [],
   "execution_count": 32
  },
  {
   "cell_type": "markdown",
   "source": [
    "WITHOUT K-FOLD COZ K-FOLD IS TOO MUCH..."
   ],
   "metadata": {
    "id": "wkSfCoTmOcL9"
   }
  },
  {
   "cell_type": "code",
   "source": [
    "def calculate_iou(pred, target, num_classes=3):\n",
    "    ious = []\n",
    "    pred = pred.view(-1)\n",
    "    target = target.view(-1)\n",
    "\n",
    "    for cls in range(num_classes):\n",
    "        pred_inds = pred == cls\n",
    "        target_inds = target == cls\n",
    "        intersection = (pred_inds & target_inds).sum().float().item()\n",
    "        union = (pred_inds | target_inds).sum().float().item()\n",
    "        iou = intersection / union if union > 0 else 0\n",
    "        ious.append(iou)\n",
    "\n",
    "    return ious, np.mean(ious)\n",
    "\n",
    "def train_and_validate_simplified(train_loader, val_loader, benchmark_run, criterion, logger=None, start_epoch=0, end_epoch=None, save_dir=\"./checkpoints\", save_epochs=None):\n",
    "    if end_epoch is None:\n",
    "        end_epoch = benchmark_run.training_hyperparameters.epochs\n",
    "\n",
    "    benchmark_metrics = {\n",
    "        \"train_loss\": [],\n",
    "        \"val_loss\": [],\n",
    "        \"val_accuracy\": [],\n",
    "        \"val_miou\": [],\n",
    "        \"val_iou_background\": [],\n",
    "        \"val_iou_bleached\": [],\n",
    "        \"val_iou_non_bleached\": []\n",
    "    }\n",
    "\n",
    "    # Create save directory if it doesn't exist\n",
    "    if not os.path.exists(save_dir):\n",
    "        os.makedirs(save_dir)\n",
    "\n",
    "    for epoch in range(start_epoch, end_epoch):\n",
    "        print(f\"EPOCH {epoch+1}:\")\n",
    "\n",
    "        # Train\n",
    "        benchmark_run.model.train() # Ensure model is in training mode\n",
    "\n",
    "        train_loss = 0.0\n",
    "        num_batches = 0\n",
    "        for data in tqdm(train_loader, desc=\"Training\"):\n",
    "            # Move data to device\n",
    "            inputs, labels = data\n",
    "            inputs = inputs.to(benchmark_run.device)\n",
    "            labels = labels.to(benchmark_run.device)\n",
    "\n",
    "            # Zero the parameter gradients\n",
    "            benchmark_run.optimizer.zero_grad()\n",
    "\n",
    "            # Forward pass\n",
    "            outputs = benchmark_run.model(inputs)\n",
    "\n",
    "            # Resize model output (logits) to match target size\n",
    "            # Assuming outputs.logits has shape (N, C, H_out, W_out) and labels have shape (N, H_target, W_target)\n",
    "            # We want to resize outputs.logits to (N, C, H_target, W_target)\n",
    "            resized_logits = F.interpolate(\n",
    "                outputs.logits,\n",
    "                size=labels.shape[-2:], # Target spatial size (H, W)\n",
    "                mode='bilinear', # Use bilinear interpolation for resizing logits\n",
    "                align_corners=False # Avoid alignment issues\n",
    "            )\n",
    "\n",
    "            # Calculate loss\n",
    "            loss = criterion(resized_logits, labels.long())\n",
    "\n",
    "            # Backward pass and optimize\n",
    "            loss.backward()\n",
    "            benchmark_run.optimizer.step()\n",
    "\n",
    "            train_loss += loss.item()\n",
    "            num_batches += 1\n",
    "\n",
    "        if num_batches > 0:\n",
    "            train_loss /= num_batches\n",
    "\n",
    "        benchmark_metrics[\"train_loss\"].append(train_loss)\n",
    "\n",
    "        if hasattr(benchmark_run, \"scheduler\"):\n",
    "            benchmark_run.scheduler.step()\n",
    "\n",
    "        print(f'LOSS train {train_loss}')\n",
    "\n",
    "        # Simple validation pass\n",
    "        benchmark_run.model.eval()\n",
    "        val_loss = 0.0\n",
    "        num_batches_val = 0\n",
    "        val_loss = 0.0\n",
    "        val_correct = 0\n",
    "        val_total = 0\n",
    "        val_ious = np.zeros(3)  # For 3 classes\n",
    "\n",
    "        with torch.no_grad():\n",
    "            for vdata in tqdm(val_loader, desc=\"Validating\"):\n",
    "                inputs, labels = vdata\n",
    "                inputs = inputs.to(benchmark_run.device)\n",
    "                labels = labels.to(benchmark_run.device)\n",
    "\n",
    "                # Forward pass\n",
    "                outputs = benchmark_run.model(inputs)\n",
    "\n",
    "                # Resize model output (logits) to match target size\n",
    "                resized_logits = F.interpolate(\n",
    "                    outputs.logits,\n",
    "                    size=labels.shape[-2:], # Target spatial size (H, W)\n",
    "                    mode='bilinear', # Use bilinear interpolation for resizing logits\n",
    "                    align_corners=False # Avoid alignment issues\n",
    "                )\n",
    "\n",
    "                # Calculate loss\n",
    "                loss = criterion(resized_logits, labels.long())\n",
    "\n",
    "                # Calculate accuracy\n",
    "                preds = torch.argmax(resized_logits, dim=1)\n",
    "                val_correct += (preds == labels).sum().item()\n",
    "                val_total += labels.numel()\n",
    "\n",
    "                # Calculate IoU\n",
    "                batch_ious, _ = calculate_iou(preds, labels)\n",
    "                val_ious += np.array(batch_ious)\n",
    "\n",
    "                val_loss += loss.item()\n",
    "                num_batches_val += 1\n",
    "\n",
    "        if num_batches_val > 0:\n",
    "            val_loss /= num_batches_val\n",
    "            val_ious /= num_batches_val\n",
    "\n",
    "        val_accuracy = val_correct / val_total if val_total > 0 else 0\n",
    "        val_miou = np.mean(val_ious)\n",
    "\n",
    "\n",
    "        benchmark_metrics[\"val_loss\"].append(val_loss)\n",
    "        benchmark_metrics[\"val_accuracy\"].append(val_accuracy)\n",
    "        benchmark_metrics[\"val_miou\"].append(val_miou)\n",
    "        benchmark_metrics[\"val_iou_background\"].append(val_ious[0])\n",
    "        benchmark_metrics[\"val_iou_bleached\"].append(val_ious[1])\n",
    "        benchmark_metrics[\"val_iou_non_bleached\"].append(val_ious[2])\n",
    "\n",
    "        print(f'LOSS valid {val_loss:.4f}')\n",
    "        print(f'Accuracy valid {val_accuracy:.4f}')\n",
    "        print(f'mIoU valid {val_miou:.4f}')\n",
    "        print(f'IoU per class: Background={val_ious[0]:.4f}, Bleached={val_ious[1]:.4f}, Non-bleached={val_ious[2]:.4f}')\n",
    "\n",
    "        if logger and epoch % logger.log_epochs == 0:\n",
    "            logger.log({\n",
    "                \"train/loss\": train_loss,\n",
    "                \"val/loss\": val_loss,\n",
    "                \"val/accuracy\": val_accuracy,\n",
    "                \"val/miou\": val_miou,\n",
    "                \"val/iou_background\": val_ious[0],\n",
    "                \"val/iou_bleached\": val_ious[1],\n",
    "                \"val/iou_non_bleached\": val_ious[2]\n",
    "            }, epoch)\n",
    "\n",
    "        # Save checkpoint periodically\n",
    "        if save_epochs is not None and (epoch + 1) % save_epochs == 0:\n",
    "            checkpoint_path = os.path.join(save_dir, f\"model_epoch_{epoch+1}.pth\")\n",
    "            torch.save(benchmark_run.model.state_dict(), checkpoint_path)\n",
    "            print(f\"Saved model checkpoint to {checkpoint_path}\")\n",
    "\n",
    "\n",
    "    metrics_path = os.path.join(save_dir, \"benchmark_metrics.json\")\n",
    "    with open(metrics_path, \"w\") as f:\n",
    "        json.dump(benchmark_metrics, f)\n",
    "    return benchmark_metrics"
   ],
   "metadata": {
    "id": "4w1CraC_fI0c",
    "ExecuteTime": {
     "end_time": "2025-10-14T08:41:39.052555Z",
     "start_time": "2025-10-14T08:41:39.031560Z"
    }
   },
   "outputs": [],
   "execution_count": 33
  },
  {
   "cell_type": "code",
   "source": [
    "# chatgpt version of k-fold should be used ideally\n",
    "from sklearn.model_selection import KFold\n",
    "\n",
    "def calculate_iou(pred, target, num_classes=3):\n",
    "    ious = []\n",
    "    pred = pred.view(-1)\n",
    "    target = target.view(-1)\n",
    "\n",
    "    for cls in range(num_classes):\n",
    "        pred_inds = pred == cls\n",
    "        target_inds = target == cls\n",
    "        intersection = (pred_inds & target_inds).sum().float().item()\n",
    "        union = (pred_inds | target_inds).sum().float().item()\n",
    "        iou = intersection / union if union > 0 else 0\n",
    "        ious.append(iou)\n",
    "\n",
    "    return ious, np.mean(ious)\n",
    "\n",
    "def train_and_validate_kfold(train_loader, val_loader, benchmark_run, criterion, n_splits=5, logger=None,\n",
    "                            start_epoch=0, end_epoch=None, save_dir=f\"./checkpoints_{color}_{cluster}\", save_best_only=True):\n",
    "    \"\"\"\n",
    "    Perform k-fold cross-validation training and validation.\n",
    "\n",
    "    Args:\n",
    "        train_loader: DataLoader for training data\n",
    "        val_loader: DataLoader for validation data\n",
    "        benchmark_run: Object containing model, optimizer, device, etc.\n",
    "        criterion: Loss function\n",
    "        n_splits: Number of folds for k-fold cross-validation\n",
    "        logger: Optional logger for metrics\n",
    "        start_epoch: Starting epoch number\n",
    "        end_epoch: Ending epoch number\n",
    "        save_dir: Directory to save model checkpoints\n",
    "        save_best_only: If True, only save model when validation performance improves\n",
    "    \"\"\"\n",
    "    if end_epoch is None:\n",
    "        end_epoch = benchmark_run.training_hyperparameters.epochs\n",
    "\n",
    "    # Create save directory if it doesn't exist\n",
    "    if not os.path.exists(save_dir):\n",
    "        os.makedirs(save_dir)\n",
    "\n",
    "    # Store metrics for each fold\n",
    "    fold_metrics = []\n",
    "\n",
    "    # Get the dataset from the train loader\n",
    "    train_dataset = train_loader.dataset\n",
    "    val_dataset = val_loader.dataset\n",
    "\n",
    "    # Combine datasets for k-fold splitting\n",
    "    # If they're the same dataset with different samplers, just use one\n",
    "    if train_dataset == val_dataset:\n",
    "        full_dataset = train_dataset\n",
    "    else:\n",
    "        # This assumes both datasets have the same structure and can be concatenated\n",
    "        try:\n",
    "            full_dataset = torch.utils.data.ConcatDataset([train_dataset, val_dataset])\n",
    "        except:\n",
    "            print(\"Warning: Could not concatenate datasets. Using training dataset for k-fold.\")\n",
    "            full_dataset = train_dataset\n",
    "\n",
    "    # Initialize k-fold cross validation\n",
    "    kfold = KFold(n_splits=n_splits, shuffle=True, random_state=42)\n",
    "\n",
    "    # Get batch size and num_workers from original loaders\n",
    "    batch_size = train_loader.batch_size\n",
    "    num_workers = train_loader.num_workers\n",
    "\n",
    "    # Track the best overall model across all folds based on the custom score\n",
    "    best_overall_score = -1.0\n",
    "    best_overall_fold = -1\n",
    "    best_overall_epoch = -1\n",
    "    best_overall_metrics = None\n",
    "    best_overall_model_state_dict = None\n",
    "\n",
    "\n",
    "    # Loop through each fold\n",
    "    for fold, (train_idx, val_idx) in enumerate(kfold.split(range(len(full_dataset)))):\n",
    "        print(f\"\\n{'='*20} FOLD {fold+1}/{n_splits} {'='*20}\")\n",
    "\n",
    "        # Create data loaders for this fold\n",
    "        train_subsampler = torch.utils.data.SubsetRandomSampler(train_idx)\n",
    "        val_subsampler = torch.utils.data.SubsetRandomSampler(val_idx)\n",
    "\n",
    "        fold_train_loader = torch.utils.data.DataLoader(\n",
    "            full_dataset,\n",
    "            batch_size=batch_size,\n",
    "            sampler=train_subsampler,\n",
    "            num_workers=num_workers\n",
    "        )\n",
    "\n",
    "        fold_val_loader = torch.utils.data.DataLoader(\n",
    "            full_dataset,\n",
    "            batch_size=batch_size,\n",
    "            sampler=val_subsampler,\n",
    "            num_workers=num_workers\n",
    "        )\n",
    "\n",
    "        # Reset model weights for each fold if possible\n",
    "        if hasattr(benchmark_run.model, 'reset_parameters'):\n",
    "            benchmark_run.model.reset_parameters()\n",
    "        else:\n",
    "            print(\"Warning: Model does not have reset_parameters method. Using current weights.\")\n",
    "\n",
    "        # Reset optimizer for the new model parameters\n",
    "        if hasattr(benchmark_run, 'optimizer_class') and hasattr(benchmark_run, 'optimizer_params'):\n",
    "            benchmark_run.optimizer = benchmark_run.optimizer_class(\n",
    "                benchmark_run.model.parameters(),\n",
    "                **benchmark_run.optimizer_params\n",
    "            )\n",
    "\n",
    "        # Initialize metrics for this fold\n",
    "        fold_benchmark_metrics = {\n",
    "            \"train_loss\": [],\n",
    "            \"val_loss\": [],\n",
    "            \"val_accuracy\": [],\n",
    "            \"val_miou\": [],\n",
    "            \"val_iou_background\": [],\n",
    "            \"val_iou_bleached\": [],\n",
    "            \"val_iou_non_bleached\": [],\n",
    "            \"val_custom_score\": []\n",
    "        }\n",
    "\n",
    "        # Track best performance for this fold\n",
    "        best_fold_score = -1.0\n",
    "\n",
    "        # Train for specified number of epochs\n",
    "        for epoch in range(start_epoch, end_epoch):\n",
    "            print(f\"EPOCH {epoch+1}/{end_epoch}:\")\n",
    "\n",
    "            # Train\n",
    "            benchmark_run.model.train()\n",
    "            train_loss = 0.0\n",
    "            num_batches = 0\n",
    "\n",
    "            for data in tqdm(fold_train_loader, desc=\"Training\"):\n",
    "                # Move data to device\n",
    "                inputs, labels = data\n",
    "                inputs = inputs.to(benchmark_run.device)\n",
    "                labels = labels.to(benchmark_run.device)\n",
    "\n",
    "                # Zero the parameter gradients\n",
    "                benchmark_run.optimizer.zero_grad()\n",
    "\n",
    "                # Forward pass\n",
    "                outputs = benchmark_run.model(inputs)\n",
    "\n",
    "                # Resize model output (logits) to match target size\n",
    "                resized_logits = F.interpolate(\n",
    "                    outputs.logits,\n",
    "                    size=labels.shape[-2:],\n",
    "                    mode='bilinear',\n",
    "                    align_corners=False\n",
    "                )\n",
    "\n",
    "                # Calculate loss\n",
    "                loss = criterion(resized_logits, labels.long())\n",
    "\n",
    "                # Backward pass and optimize\n",
    "                loss.backward()\n",
    "                benchmark_run.optimizer.step()\n",
    "\n",
    "                train_loss += loss.item()\n",
    "                num_batches += 1\n",
    "\n",
    "            if num_batches > 0:\n",
    "                train_loss /= num_batches\n",
    "\n",
    "            fold_benchmark_metrics[\"train_loss\"].append(train_loss)\n",
    "\n",
    "            if hasattr(benchmark_run, \"scheduler\"):\n",
    "                benchmark_run.scheduler.step()\n",
    "\n",
    "            print(f'LOSS train {train_loss:.4f}')\n",
    "\n",
    "            # Validation\n",
    "            benchmark_run.model.eval()\n",
    "            val_loss = 0.0\n",
    "            num_batches_val = 0\n",
    "            val_correct = 0\n",
    "            val_total = 0\n",
    "            val_ious = np.zeros(3)  # For 3 classes\n",
    "\n",
    "            with torch.no_grad():\n",
    "                for vdata in tqdm(fold_val_loader, desc=\"Validating\"):\n",
    "                    inputs, labels = vdata\n",
    "                    inputs = inputs.to(benchmark_run.device)\n",
    "                    labels = labels.to(benchmark_run.device)\n",
    "\n",
    "                    # Forward pass\n",
    "                    outputs = benchmark_run.model(inputs)\n",
    "\n",
    "                    # Resize model output (logits) to match target size\n",
    "                    resized_logits = F.interpolate(\n",
    "                        outputs.logits,\n",
    "                        size=labels.shape[-2:],\n",
    "                        mode='bilinear',\n",
    "                        align_corners=False\n",
    "                    )\n",
    "\n",
    "                    # Calculate loss\n",
    "                    loss = criterion(resized_logits, labels.long())\n",
    "\n",
    "                    # Calculate accuracy\n",
    "                    preds = torch.argmax(resized_logits, dim=1)\n",
    "                    val_correct += (preds == labels).sum().item()\n",
    "                    val_total += labels.numel()\n",
    "\n",
    "                    # Calculate IoU\n",
    "                    batch_ious, _ = calculate_iou(preds, labels)\n",
    "                    val_ious += np.array(batch_ious)\n",
    "\n",
    "                    val_loss += loss.item()\n",
    "                    num_batches_val += 1\n",
    "\n",
    "            if num_batches_val > 0:\n",
    "                val_loss /= num_batches_val\n",
    "                val_ious /= num_batches_val\n",
    "\n",
    "            val_accuracy = val_correct / val_total if val_total > 0 else 0\n",
    "            val_miou = np.mean(val_ious)\n",
    "\n",
    "            # Calculate custom ranking score\n",
    "            # rank = alpha * accuracy + beta * mIoU\n",
    "            # mIoU = 0.1 * iou_background + 0.45 * iou_bleached + 0.45 * iou_non_bleached\n",
    "            alpha = 0.2\n",
    "            beta = 0.8\n",
    "            miou_weighted = (0.1 * val_ious[0] + 0.45 * val_ious[1] + 0.45 * val_ious[2])\n",
    "            custom_score = alpha * val_accuracy + beta * miou_weighted\n",
    "\n",
    "            # Store metrics\n",
    "            fold_benchmark_metrics[\"val_loss\"].append(val_loss)\n",
    "            fold_benchmark_metrics[\"val_accuracy\"].append(val_accuracy)\n",
    "            fold_benchmark_metrics[\"val_miou\"].append(val_miou)\n",
    "            fold_benchmark_metrics[\"val_iou_background\"].append(val_ious[0])\n",
    "            fold_benchmark_metrics[\"val_iou_bleached\"].append(val_ious[1])\n",
    "            fold_benchmark_metrics[\"val_iou_non_bleached\"].append(val_ious[2])\n",
    "            fold_benchmark_metrics[\"val_custom_score\"].append(custom_score)\n",
    "\n",
    "\n",
    "            print(f'LOSS valid {val_loss:.4f}')\n",
    "            print(f'Accuracy valid {val_accuracy:.4f}')\n",
    "            print(f'mIoU valid {val_miou:.4f}')\n",
    "            print(f'IoU per class: Background={val_ious[0]:.4f}, Bleached={val_ious[1]:.4f}, Non-bleached={val_ious[2]:.4f}')\n",
    "            print(f'Custom Score valid {custom_score:.4f}')\n",
    "\n",
    "\n",
    "            # Log metrics if logger is provided\n",
    "            if logger and epoch % logger.log_epochs == 0:\n",
    "                logger.log({\n",
    "                    f\"fold_{fold+1}/train/loss\": train_loss,\n",
    "                    f\"fold_{fold+1}/val/loss\": val_loss,\n",
    "                    f\"fold_{fold+1}/val/accuracy\": val_accuracy,\n",
    "                    f\"fold_{fold+1}/val/miou\": val_miou,\n",
    "                    f\"fold_{fold+1}/val/iou_background\": val_ious[0],\n",
    "                    f\"fold_{fold+1}/val/iou_bleached\": val_ious[1],\n",
    "                    f\"fold_{fold+1}/val/iou_non_bleached\": val_ious[2],\n",
    "                    f\"fold_{fold+1}/val/custom_score\": custom_score\n",
    "                }, epoch)\n",
    "\n",
    "            # Save best model for this fold based on custom score\n",
    "            if save_best_only:\n",
    "                if custom_score > best_fold_score:\n",
    "                    best_fold_score = custom_score\n",
    "                    checkpoint_path = os.path.join(save_dir, f\"model_fold_{fold+1}_best_score.pth\")\n",
    "                    torch.save(benchmark_run.model.state_dict(), checkpoint_path)\n",
    "                    print(f\"Saved improved model checkpoint to {checkpoint_path} (Custom Score: {custom_score:.4f})\")\n",
    "\n",
    "            # Check if this is the best overall model\n",
    "            if custom_score > best_overall_score:\n",
    "                best_overall_score = custom_score\n",
    "                best_overall_fold = fold + 1\n",
    "                best_overall_epoch = epoch + 1\n",
    "                best_overall_metrics = {\n",
    "                    \"train_loss\": train_loss,\n",
    "                    \"val_loss\": val_loss,\n",
    "                    \"val_accuracy\": val_accuracy,\n",
    "                    \"val_miou\": val_miou,\n",
    "                    \"val_iou_background\": val_ious[0],\n",
    "                    \"val_iou_bleached\": val_ious[1],\n",
    "                    \"val_iou_non_bleached\": val_ious[2],\n",
    "                    \"val_custom_score\": custom_score\n",
    "                }\n",
    "                best_overall_model_state_dict = copy.deepcopy(benchmark_run.model.state_dict())\n",
    "\n",
    "\n",
    "        # Save metrics for this fold\n",
    "        fold_metrics.append(fold_benchmark_metrics)\n",
    "\n",
    "        # Save fold metrics\n",
    "        metrics_path = os.path.join(save_dir, f\"metrics_fold_{fold+1}.json\")\n",
    "        with open(metrics_path, \"w\") as f:\n",
    "            json.dump(fold_benchmark_metrics, f)\n",
    "\n",
    "    # Calculate and save average metrics across all folds\n",
    "    avg_metrics = {\n",
    "        \"avg_val_miou_final\": np.mean([metrics[\"val_miou\"][-1] for metrics in fold_metrics]),\n",
    "        \"avg_val_accuracy_final\": np.mean([metrics[\"val_accuracy\"][-1] for metrics in fold_metrics]),\n",
    "        \"avg_val_iou_background_final\": np.mean([metrics[\"val_iou_background\"][-1] for metrics in fold_metrics]),\n",
    "        \"avg_val_iou_bleached_final\": np.mean([metrics[\"val_iou_bleached\"][-1] for metrics in fold_metrics]),\n",
    "        \"avg_val_iou_non_bleached_final\": np.mean([metrics[\"val_iou_non_bleached\"][-1] for metrics in fold_metrics]),\n",
    "        \"avg_val_custom_score_final\": np.mean([metrics[\"val_custom_score\"][-1] for metrics in fold_metrics]),\n",
    "        \"best_val_miou_across_folds\": np.max([np.max(metrics[\"val_miou\"]) for metrics in fold_metrics]),\n",
    "        \"best_val_custom_score_across_folds\": np.max([np.max(metrics[\"val_custom_score\"]) for metrics in fold_metrics]),\n",
    "        \"fold_metrics\": fold_metrics,\n",
    "        \"best_overall_model\": {\n",
    "            \"fold\": best_overall_fold,\n",
    "            \"epoch\": best_overall_epoch,\n",
    "            \"metrics\": best_overall_metrics\n",
    "        }\n",
    "    }\n",
    "\n",
    "    # Save the best overall model checkpoint\n",
    "    if best_overall_model_state_dict is not None:\n",
    "        best_overall_checkpoint_path = os.path.join(save_dir, \"best_overall_model.pth\")\n",
    "        torch.save(best_overall_model_state_dict, best_overall_checkpoint_path)\n",
    "        print(f\"\\nSaved best overall model checkpoint to {best_overall_checkpoint_path} (Custom Score: {best_overall_score:.4f})\")\n",
    "\n",
    "\n",
    "    # Save overall metrics\n",
    "    overall_metrics_path = os.path.join(save_dir, \"kfold_metrics.json\")\n",
    "    with open(overall_metrics_path, \"w\") as f:\n",
    "        json.dump(avg_metrics, f)\n",
    "\n",
    "    print(f\"\\nAverage Final mIoU across folds: {avg_metrics['avg_val_miou_final']:.4f}\")\n",
    "    print(f\"Best mIoU across all folds: {avg_metrics['best_val_miou_across_folds']:.4f}\")\n",
    "    print(f\"Average Final Custom Score across folds: {avg_metrics['avg_val_custom_score_final']:.4f}\")\n",
    "    print(f\"Best Custom Score across all folds: {avg_metrics['best_val_custom_score_across_folds']:.4f}\")\n",
    "    print(f\"\\nBest overall model found in Fold {best_overall_fold}, Epoch {best_overall_epoch} with Custom Score: {best_overall_score:.4f}\")\n",
    "    print(\"=\"*50)\n",
    "\n",
    "    return avg_metrics"
   ],
   "metadata": {
    "id": "a8vgAprSh1jC",
    "ExecuteTime": {
     "end_time": "2025-10-14T08:41:39.171782Z",
     "start_time": "2025-10-14T08:41:39.067560Z"
    }
   },
   "outputs": [],
   "execution_count": 34
  },
  {
   "cell_type": "code",
   "metadata": {
    "colab": {
     "base_uri": "https://localhost:8080/"
    },
    "id": "d1e8d491",
    "outputId": "87d006a7-bf35-4a61-e108-0cb5def91acf",
    "collapsed": true,
    "ExecuteTime": {
     "end_time": "2025-10-14T17:04:12.884455Z",
     "start_time": "2025-10-14T08:41:39.181293Z"
    }
   },
   "source": [
    "%%time\n",
    "criterion = nn.CrossEntropyLoss(weight=weight) # Use the calculated weight\n",
    "save_directory = \"./custom_checkpoints\"\n",
    "save_frequency_epochs = 1 # Set to an integer to save checkpoints\n",
    "\n",
    "# benchmark_metrics = train_and_validate_simplified(\n",
    "#     train_loader,\n",
    "#     val_loader,\n",
    "#     benchmark_run,\n",
    "#     criterion=criterion,\n",
    "#     logger=logger,\n",
    "#     save_dir=save_directory,\n",
    "#     save_epochs=save_frequency_epochs # Pass the save frequency\n",
    "# )\n",
    "benchmark_metrics = train_and_validate_kfold(\n",
    "    train_loader,\n",
    "    val_loader,\n",
    "    benchmark_run,\n",
    "    criterion,\n",
    "    n_splits=5,\n",
    "    save_best_only=True\n",
    ")"
   ],
   "outputs": [
    {
     "name": "stdout",
     "output_type": "stream",
     "text": [
      "\n",
      "==================== FOLD 1/5 ====================\n",
      "Warning: Model does not have reset_parameters method. Using current weights.\n",
      "EPOCH 1/50:\n"
     ]
    },
    {
     "name": "stderr",
     "output_type": "stream",
     "text": [
      "Training: 100%|██████████| 197/197 [01:28<00:00,  2.22it/s]\n"
     ]
    },
    {
     "name": "stdout",
     "output_type": "stream",
     "text": [
      "LOSS train 0.7815\n"
     ]
    },
    {
     "name": "stderr",
     "output_type": "stream",
     "text": [
      "Validating: 100%|██████████| 50/50 [00:20<00:00,  2.39it/s]\n"
     ]
    },
    {
     "name": "stdout",
     "output_type": "stream",
     "text": [
      "LOSS valid 0.5588\n",
      "Accuracy valid 0.7599\n",
      "mIoU valid 0.4921\n",
      "IoU per class: Background=0.6940, Bleached=0.4108, Non-bleached=0.3715\n",
      "Custom Score valid 0.4892\n",
      "Saved improved model checkpoint to ./checkpoints_yellow_0\\model_fold_1_best_score.pth (Custom Score: 0.4892)\n",
      "EPOCH 2/50:\n"
     ]
    },
    {
     "name": "stderr",
     "output_type": "stream",
     "text": [
      "Training: 100%|██████████| 197/197 [01:43<00:00,  1.91it/s]\n"
     ]
    },
    {
     "name": "stdout",
     "output_type": "stream",
     "text": [
      "LOSS train 0.6514\n"
     ]
    },
    {
     "name": "stderr",
     "output_type": "stream",
     "text": [
      "Validating: 100%|██████████| 50/50 [00:19<00:00,  2.51it/s]\n"
     ]
    },
    {
     "name": "stdout",
     "output_type": "stream",
     "text": [
      "LOSS valid 0.6662\n",
      "Accuracy valid 0.7248\n",
      "mIoU valid 0.4427\n",
      "IoU per class: Background=0.6550, Bleached=0.2742, Non-bleached=0.3988\n",
      "Custom Score valid 0.4396\n",
      "EPOCH 3/50:\n"
     ]
    },
    {
     "name": "stderr",
     "output_type": "stream",
     "text": [
      "Training: 100%|██████████| 197/197 [01:43<00:00,  1.90it/s]\n"
     ]
    },
    {
     "name": "stdout",
     "output_type": "stream",
     "text": [
      "LOSS train 0.6006\n"
     ]
    },
    {
     "name": "stderr",
     "output_type": "stream",
     "text": [
      "Validating: 100%|██████████| 50/50 [00:19<00:00,  2.58it/s]\n"
     ]
    },
    {
     "name": "stdout",
     "output_type": "stream",
     "text": [
      "LOSS valid 0.5608\n",
      "Accuracy valid 0.7637\n",
      "mIoU valid 0.5061\n",
      "IoU per class: Background=0.7176, Bleached=0.4300, Non-bleached=0.3707\n",
      "Custom Score valid 0.4984\n",
      "Saved improved model checkpoint to ./checkpoints_yellow_0\\model_fold_1_best_score.pth (Custom Score: 0.4984)\n",
      "EPOCH 4/50:\n"
     ]
    },
    {
     "name": "stderr",
     "output_type": "stream",
     "text": [
      "Training: 100%|██████████| 197/197 [01:32<00:00,  2.12it/s]\n"
     ]
    },
    {
     "name": "stdout",
     "output_type": "stream",
     "text": [
      "LOSS train 0.5577\n"
     ]
    },
    {
     "name": "stderr",
     "output_type": "stream",
     "text": [
      "Validating: 100%|██████████| 50/50 [00:18<00:00,  2.66it/s]\n"
     ]
    },
    {
     "name": "stdout",
     "output_type": "stream",
     "text": [
      "LOSS valid 0.5471\n",
      "Accuracy valid 0.7505\n",
      "mIoU valid 0.4919\n",
      "IoU per class: Background=0.6815, Bleached=0.3979, Non-bleached=0.3965\n",
      "Custom Score valid 0.4906\n",
      "EPOCH 5/50:\n"
     ]
    },
    {
     "name": "stderr",
     "output_type": "stream",
     "text": [
      "Training: 100%|██████████| 197/197 [01:27<00:00,  2.26it/s]\n"
     ]
    },
    {
     "name": "stdout",
     "output_type": "stream",
     "text": [
      "LOSS train 0.5117\n"
     ]
    },
    {
     "name": "stderr",
     "output_type": "stream",
     "text": [
      "Validating: 100%|██████████| 50/50 [00:20<00:00,  2.48it/s]\n"
     ]
    },
    {
     "name": "stdout",
     "output_type": "stream",
     "text": [
      "LOSS valid 0.5951\n",
      "Accuracy valid 0.7320\n",
      "mIoU valid 0.4688\n",
      "IoU per class: Background=0.6727, Bleached=0.3714, Non-bleached=0.3623\n",
      "Custom Score valid 0.4644\n",
      "EPOCH 6/50:\n"
     ]
    },
    {
     "name": "stderr",
     "output_type": "stream",
     "text": [
      "Training: 100%|██████████| 197/197 [01:25<00:00,  2.30it/s]\n"
     ]
    },
    {
     "name": "stdout",
     "output_type": "stream",
     "text": [
      "LOSS train 0.5108\n"
     ]
    },
    {
     "name": "stderr",
     "output_type": "stream",
     "text": [
      "Validating: 100%|██████████| 50/50 [00:21<00:00,  2.31it/s]\n"
     ]
    },
    {
     "name": "stdout",
     "output_type": "stream",
     "text": [
      "LOSS valid 0.6061\n",
      "Accuracy valid 0.7615\n",
      "mIoU valid 0.4928\n",
      "IoU per class: Background=0.6858, Bleached=0.3530, Non-bleached=0.4397\n",
      "Custom Score valid 0.4925\n",
      "EPOCH 7/50:\n"
     ]
    },
    {
     "name": "stderr",
     "output_type": "stream",
     "text": [
      "Training: 100%|██████████| 197/197 [01:24<00:00,  2.32it/s]\n"
     ]
    },
    {
     "name": "stdout",
     "output_type": "stream",
     "text": [
      "LOSS train 0.4865\n"
     ]
    },
    {
     "name": "stderr",
     "output_type": "stream",
     "text": [
      "Validating: 100%|██████████| 50/50 [00:18<00:00,  2.65it/s]\n"
     ]
    },
    {
     "name": "stdout",
     "output_type": "stream",
     "text": [
      "LOSS valid 0.7558\n",
      "Accuracy valid 0.6512\n",
      "mIoU valid 0.3873\n",
      "IoU per class: Background=0.6182, Bleached=0.3251, Non-bleached=0.2185\n",
      "Custom Score valid 0.3754\n",
      "EPOCH 8/50:\n"
     ]
    },
    {
     "name": "stderr",
     "output_type": "stream",
     "text": [
      "Training: 100%|██████████| 197/197 [01:27<00:00,  2.26it/s]\n"
     ]
    },
    {
     "name": "stdout",
     "output_type": "stream",
     "text": [
      "LOSS train 0.4475\n"
     ]
    },
    {
     "name": "stderr",
     "output_type": "stream",
     "text": [
      "Validating: 100%|██████████| 50/50 [00:19<00:00,  2.57it/s]\n"
     ]
    },
    {
     "name": "stdout",
     "output_type": "stream",
     "text": [
      "LOSS valid 0.5132\n",
      "Accuracy valid 0.7785\n",
      "mIoU valid 0.5158\n",
      "IoU per class: Background=0.7023, Bleached=0.3854, Non-bleached=0.4596\n",
      "Custom Score valid 0.5161\n",
      "Saved improved model checkpoint to ./checkpoints_yellow_0\\model_fold_1_best_score.pth (Custom Score: 0.5161)\n",
      "EPOCH 9/50:\n"
     ]
    },
    {
     "name": "stderr",
     "output_type": "stream",
     "text": [
      "Training: 100%|██████████| 197/197 [01:27<00:00,  2.24it/s]\n"
     ]
    },
    {
     "name": "stdout",
     "output_type": "stream",
     "text": [
      "LOSS train 0.4654\n"
     ]
    },
    {
     "name": "stderr",
     "output_type": "stream",
     "text": [
      "Validating: 100%|██████████| 50/50 [00:19<00:00,  2.53it/s]\n"
     ]
    },
    {
     "name": "stdout",
     "output_type": "stream",
     "text": [
      "LOSS valid 0.6129\n",
      "Accuracy valid 0.7276\n",
      "mIoU valid 0.4731\n",
      "IoU per class: Background=0.6632, Bleached=0.3554, Non-bleached=0.4006\n",
      "Custom Score valid 0.4707\n",
      "EPOCH 10/50:\n"
     ]
    },
    {
     "name": "stderr",
     "output_type": "stream",
     "text": [
      "Training: 100%|██████████| 197/197 [01:26<00:00,  2.28it/s]\n"
     ]
    },
    {
     "name": "stdout",
     "output_type": "stream",
     "text": [
      "LOSS train 0.4343\n"
     ]
    },
    {
     "name": "stderr",
     "output_type": "stream",
     "text": [
      "Validating: 100%|██████████| 50/50 [00:18<00:00,  2.65it/s]\n"
     ]
    },
    {
     "name": "stdout",
     "output_type": "stream",
     "text": [
      "LOSS valid 0.9790\n",
      "Accuracy valid 0.6375\n",
      "mIoU valid 0.3637\n",
      "IoU per class: Background=0.5959, Bleached=0.2006, Non-bleached=0.2945\n",
      "Custom Score valid 0.3534\n",
      "EPOCH 11/50:\n"
     ]
    },
    {
     "name": "stderr",
     "output_type": "stream",
     "text": [
      "Training: 100%|██████████| 197/197 [01:32<00:00,  2.12it/s]\n"
     ]
    },
    {
     "name": "stdout",
     "output_type": "stream",
     "text": [
      "LOSS train 0.4187\n"
     ]
    },
    {
     "name": "stderr",
     "output_type": "stream",
     "text": [
      "Validating: 100%|██████████| 50/50 [00:21<00:00,  2.33it/s]\n"
     ]
    },
    {
     "name": "stdout",
     "output_type": "stream",
     "text": [
      "LOSS valid 0.6627\n",
      "Accuracy valid 0.7220\n",
      "mIoU valid 0.4575\n",
      "IoU per class: Background=0.6741, Bleached=0.3516, Non-bleached=0.3468\n",
      "Custom Score valid 0.4498\n",
      "EPOCH 12/50:\n"
     ]
    },
    {
     "name": "stderr",
     "output_type": "stream",
     "text": [
      "Training: 100%|██████████| 197/197 [01:27<00:00,  2.26it/s]\n"
     ]
    },
    {
     "name": "stdout",
     "output_type": "stream",
     "text": [
      "LOSS train 0.4258\n"
     ]
    },
    {
     "name": "stderr",
     "output_type": "stream",
     "text": [
      "Validating: 100%|██████████| 50/50 [00:23<00:00,  2.11it/s]\n"
     ]
    },
    {
     "name": "stdout",
     "output_type": "stream",
     "text": [
      "LOSS valid 0.6028\n",
      "Accuracy valid 0.7499\n",
      "mIoU valid 0.4923\n",
      "IoU per class: Background=0.6871, Bleached=0.3852, Non-bleached=0.4046\n",
      "Custom Score valid 0.4893\n",
      "EPOCH 13/50:\n"
     ]
    },
    {
     "name": "stderr",
     "output_type": "stream",
     "text": [
      "Training: 100%|██████████| 197/197 [01:42<00:00,  1.93it/s]\n"
     ]
    },
    {
     "name": "stdout",
     "output_type": "stream",
     "text": [
      "LOSS train 0.3797\n"
     ]
    },
    {
     "name": "stderr",
     "output_type": "stream",
     "text": [
      "Validating: 100%|██████████| 50/50 [00:24<00:00,  2.04it/s]\n"
     ]
    },
    {
     "name": "stdout",
     "output_type": "stream",
     "text": [
      "LOSS valid 0.8677\n",
      "Accuracy valid 0.6715\n",
      "mIoU valid 0.4336\n",
      "IoU per class: Background=0.6409, Bleached=0.3683, Non-bleached=0.2915\n",
      "Custom Score valid 0.4231\n",
      "EPOCH 14/50:\n"
     ]
    },
    {
     "name": "stderr",
     "output_type": "stream",
     "text": [
      "Training: 100%|██████████| 197/197 [01:32<00:00,  2.12it/s]\n"
     ]
    },
    {
     "name": "stdout",
     "output_type": "stream",
     "text": [
      "LOSS train 0.3717\n"
     ]
    },
    {
     "name": "stderr",
     "output_type": "stream",
     "text": [
      "Validating: 100%|██████████| 50/50 [00:24<00:00,  2.02it/s]\n"
     ]
    },
    {
     "name": "stdout",
     "output_type": "stream",
     "text": [
      "LOSS valid 0.6679\n",
      "Accuracy valid 0.7355\n",
      "mIoU valid 0.4670\n",
      "IoU per class: Background=0.6651, Bleached=0.3265, Non-bleached=0.4095\n",
      "Custom Score valid 0.4653\n",
      "EPOCH 15/50:\n"
     ]
    },
    {
     "name": "stderr",
     "output_type": "stream",
     "text": [
      "Training: 100%|██████████| 197/197 [01:34<00:00,  2.09it/s]\n"
     ]
    },
    {
     "name": "stdout",
     "output_type": "stream",
     "text": [
      "LOSS train 0.3623\n"
     ]
    },
    {
     "name": "stderr",
     "output_type": "stream",
     "text": [
      "Validating: 100%|██████████| 50/50 [00:24<00:00,  2.04it/s]\n"
     ]
    },
    {
     "name": "stdout",
     "output_type": "stream",
     "text": [
      "LOSS valid 0.8140\n",
      "Accuracy valid 0.6608\n",
      "mIoU valid 0.4014\n",
      "IoU per class: Background=0.6186, Bleached=0.3722, Non-bleached=0.2134\n",
      "Custom Score valid 0.3925\n",
      "EPOCH 16/50:\n"
     ]
    },
    {
     "name": "stderr",
     "output_type": "stream",
     "text": [
      "Training: 100%|██████████| 197/197 [01:36<00:00,  2.05it/s]\n"
     ]
    },
    {
     "name": "stdout",
     "output_type": "stream",
     "text": [
      "LOSS train 0.3804\n"
     ]
    },
    {
     "name": "stderr",
     "output_type": "stream",
     "text": [
      "Validating: 100%|██████████| 50/50 [00:23<00:00,  2.08it/s]\n"
     ]
    },
    {
     "name": "stdout",
     "output_type": "stream",
     "text": [
      "LOSS valid 0.7455\n",
      "Accuracy valid 0.6859\n",
      "mIoU valid 0.4513\n",
      "IoU per class: Background=0.6140, Bleached=0.3039, Non-bleached=0.4359\n",
      "Custom Score valid 0.4527\n",
      "EPOCH 17/50:\n"
     ]
    },
    {
     "name": "stderr",
     "output_type": "stream",
     "text": [
      "Training: 100%|██████████| 197/197 [01:28<00:00,  2.23it/s]\n"
     ]
    },
    {
     "name": "stdout",
     "output_type": "stream",
     "text": [
      "LOSS train 0.3895\n"
     ]
    },
    {
     "name": "stderr",
     "output_type": "stream",
     "text": [
      "Validating: 100%|██████████| 50/50 [00:21<00:00,  2.33it/s]\n"
     ]
    },
    {
     "name": "stdout",
     "output_type": "stream",
     "text": [
      "LOSS valid 0.7024\n",
      "Accuracy valid 0.7014\n",
      "mIoU valid 0.4561\n",
      "IoU per class: Background=0.6484, Bleached=0.3796, Non-bleached=0.3404\n",
      "Custom Score valid 0.4514\n",
      "EPOCH 18/50:\n"
     ]
    },
    {
     "name": "stderr",
     "output_type": "stream",
     "text": [
      "Training: 100%|██████████| 197/197 [01:30<00:00,  2.17it/s]\n"
     ]
    },
    {
     "name": "stdout",
     "output_type": "stream",
     "text": [
      "LOSS train 0.3497\n"
     ]
    },
    {
     "name": "stderr",
     "output_type": "stream",
     "text": [
      "Validating: 100%|██████████| 50/50 [00:22<00:00,  2.18it/s]\n"
     ]
    },
    {
     "name": "stdout",
     "output_type": "stream",
     "text": [
      "LOSS valid 0.8524\n",
      "Accuracy valid 0.6874\n",
      "mIoU valid 0.4322\n",
      "IoU per class: Background=0.6269, Bleached=0.2894, Non-bleached=0.3804\n",
      "Custom Score valid 0.4287\n",
      "EPOCH 19/50:\n"
     ]
    },
    {
     "name": "stderr",
     "output_type": "stream",
     "text": [
      "Training: 100%|██████████| 197/197 [01:28<00:00,  2.22it/s]\n"
     ]
    },
    {
     "name": "stdout",
     "output_type": "stream",
     "text": [
      "LOSS train 0.3737\n"
     ]
    },
    {
     "name": "stderr",
     "output_type": "stream",
     "text": [
      "Validating: 100%|██████████| 50/50 [00:23<00:00,  2.11it/s]\n"
     ]
    },
    {
     "name": "stdout",
     "output_type": "stream",
     "text": [
      "LOSS valid 0.8638\n",
      "Accuracy valid 0.6618\n",
      "mIoU valid 0.4083\n",
      "IoU per class: Background=0.6203, Bleached=0.3454, Non-bleached=0.2592\n",
      "Custom Score valid 0.3996\n",
      "EPOCH 20/50:\n"
     ]
    },
    {
     "name": "stderr",
     "output_type": "stream",
     "text": [
      "Training: 100%|██████████| 197/197 [01:40<00:00,  1.97it/s]\n"
     ]
    },
    {
     "name": "stdout",
     "output_type": "stream",
     "text": [
      "LOSS train 0.3603\n"
     ]
    },
    {
     "name": "stderr",
     "output_type": "stream",
     "text": [
      "Validating: 100%|██████████| 50/50 [00:22<00:00,  2.21it/s]\n"
     ]
    },
    {
     "name": "stdout",
     "output_type": "stream",
     "text": [
      "LOSS valid 0.7482\n",
      "Accuracy valid 0.7289\n",
      "mIoU valid 0.4645\n",
      "IoU per class: Background=0.6527, Bleached=0.3075, Non-bleached=0.4332\n",
      "Custom Score valid 0.4647\n",
      "EPOCH 21/50:\n"
     ]
    },
    {
     "name": "stderr",
     "output_type": "stream",
     "text": [
      "Training: 100%|██████████| 197/197 [01:39<00:00,  1.98it/s]\n"
     ]
    },
    {
     "name": "stdout",
     "output_type": "stream",
     "text": [
      "LOSS train 0.3418\n"
     ]
    },
    {
     "name": "stderr",
     "output_type": "stream",
     "text": [
      "Validating: 100%|██████████| 50/50 [00:21<00:00,  2.32it/s]\n"
     ]
    },
    {
     "name": "stdout",
     "output_type": "stream",
     "text": [
      "LOSS valid 0.6263\n",
      "Accuracy valid 0.7609\n",
      "mIoU valid 0.4983\n",
      "IoU per class: Background=0.7006, Bleached=0.3542, Non-bleached=0.4399\n",
      "Custom Score valid 0.4941\n",
      "EPOCH 22/50:\n"
     ]
    },
    {
     "name": "stderr",
     "output_type": "stream",
     "text": [
      "Training: 100%|██████████| 197/197 [01:36<00:00,  2.03it/s]\n"
     ]
    },
    {
     "name": "stdout",
     "output_type": "stream",
     "text": [
      "LOSS train 0.3279\n"
     ]
    },
    {
     "name": "stderr",
     "output_type": "stream",
     "text": [
      "Validating: 100%|██████████| 50/50 [00:21<00:00,  2.38it/s]\n"
     ]
    },
    {
     "name": "stdout",
     "output_type": "stream",
     "text": [
      "LOSS valid 0.7689\n",
      "Accuracy valid 0.6946\n",
      "mIoU valid 0.4436\n",
      "IoU per class: Background=0.6505, Bleached=0.3581, Non-bleached=0.3223\n",
      "Custom Score valid 0.4359\n",
      "EPOCH 23/50:\n"
     ]
    },
    {
     "name": "stderr",
     "output_type": "stream",
     "text": [
      "Training: 100%|██████████| 197/197 [01:37<00:00,  2.02it/s]\n"
     ]
    },
    {
     "name": "stdout",
     "output_type": "stream",
     "text": [
      "LOSS train 0.3463\n"
     ]
    },
    {
     "name": "stderr",
     "output_type": "stream",
     "text": [
      "Validating: 100%|██████████| 50/50 [00:19<00:00,  2.53it/s]\n"
     ]
    },
    {
     "name": "stdout",
     "output_type": "stream",
     "text": [
      "LOSS valid 0.7492\n",
      "Accuracy valid 0.6990\n",
      "mIoU valid 0.4757\n",
      "IoU per class: Background=0.6457, Bleached=0.3766, Non-bleached=0.4047\n",
      "Custom Score valid 0.4727\n",
      "EPOCH 24/50:\n"
     ]
    },
    {
     "name": "stderr",
     "output_type": "stream",
     "text": [
      "Training: 100%|██████████| 197/197 [01:38<00:00,  2.01it/s]\n"
     ]
    },
    {
     "name": "stdout",
     "output_type": "stream",
     "text": [
      "LOSS train 0.3367\n"
     ]
    },
    {
     "name": "stderr",
     "output_type": "stream",
     "text": [
      "Validating: 100%|██████████| 50/50 [00:20<00:00,  2.45it/s]\n"
     ]
    },
    {
     "name": "stdout",
     "output_type": "stream",
     "text": [
      "LOSS valid 1.0449\n",
      "Accuracy valid 0.6627\n",
      "mIoU valid 0.4069\n",
      "IoU per class: Background=0.6241, Bleached=0.3228, Non-bleached=0.2738\n",
      "Custom Score valid 0.3972\n",
      "EPOCH 25/50:\n"
     ]
    },
    {
     "name": "stderr",
     "output_type": "stream",
     "text": [
      "Training: 100%|██████████| 197/197 [01:42<00:00,  1.92it/s]\n"
     ]
    },
    {
     "name": "stdout",
     "output_type": "stream",
     "text": [
      "LOSS train 0.3879\n"
     ]
    },
    {
     "name": "stderr",
     "output_type": "stream",
     "text": [
      "Validating: 100%|██████████| 50/50 [00:19<00:00,  2.54it/s]\n"
     ]
    },
    {
     "name": "stdout",
     "output_type": "stream",
     "text": [
      "LOSS valid 0.6925\n",
      "Accuracy valid 0.7062\n",
      "mIoU valid 0.4541\n",
      "IoU per class: Background=0.6412, Bleached=0.3825, Non-bleached=0.3387\n",
      "Custom Score valid 0.4522\n",
      "EPOCH 26/50:\n"
     ]
    },
    {
     "name": "stderr",
     "output_type": "stream",
     "text": [
      "Training: 100%|██████████| 197/197 [01:42<00:00,  1.92it/s]\n"
     ]
    },
    {
     "name": "stdout",
     "output_type": "stream",
     "text": [
      "LOSS train 0.3267\n"
     ]
    },
    {
     "name": "stderr",
     "output_type": "stream",
     "text": [
      "Validating: 100%|██████████| 50/50 [00:21<00:00,  2.38it/s]\n"
     ]
    },
    {
     "name": "stdout",
     "output_type": "stream",
     "text": [
      "LOSS valid 0.8794\n",
      "Accuracy valid 0.6996\n",
      "mIoU valid 0.4458\n",
      "IoU per class: Background=0.6394, Bleached=0.2923, Non-bleached=0.4056\n",
      "Custom Score valid 0.4423\n",
      "EPOCH 27/50:\n"
     ]
    },
    {
     "name": "stderr",
     "output_type": "stream",
     "text": [
      "Training: 100%|██████████| 197/197 [01:42<00:00,  1.93it/s]\n"
     ]
    },
    {
     "name": "stdout",
     "output_type": "stream",
     "text": [
      "LOSS train 0.3164\n"
     ]
    },
    {
     "name": "stderr",
     "output_type": "stream",
     "text": [
      "Validating: 100%|██████████| 50/50 [00:20<00:00,  2.41it/s]\n"
     ]
    },
    {
     "name": "stdout",
     "output_type": "stream",
     "text": [
      "LOSS valid 0.9294\n",
      "Accuracy valid 0.6766\n",
      "mIoU valid 0.4317\n",
      "IoU per class: Background=0.6209, Bleached=0.3025, Non-bleached=0.3716\n",
      "Custom Score valid 0.4277\n",
      "EPOCH 28/50:\n"
     ]
    },
    {
     "name": "stderr",
     "output_type": "stream",
     "text": [
      "Training: 100%|██████████| 197/197 [01:34<00:00,  2.09it/s]\n"
     ]
    },
    {
     "name": "stdout",
     "output_type": "stream",
     "text": [
      "LOSS train 0.3447\n"
     ]
    },
    {
     "name": "stderr",
     "output_type": "stream",
     "text": [
      "Validating: 100%|██████████| 50/50 [00:23<00:00,  2.16it/s]\n"
     ]
    },
    {
     "name": "stdout",
     "output_type": "stream",
     "text": [
      "LOSS valid 0.7341\n",
      "Accuracy valid 0.6824\n",
      "mIoU valid 0.4384\n",
      "IoU per class: Background=0.6407, Bleached=0.3326, Non-bleached=0.3418\n",
      "Custom Score valid 0.4305\n",
      "EPOCH 29/50:\n"
     ]
    },
    {
     "name": "stderr",
     "output_type": "stream",
     "text": [
      "Training: 100%|██████████| 197/197 [01:29<00:00,  2.21it/s]\n"
     ]
    },
    {
     "name": "stdout",
     "output_type": "stream",
     "text": [
      "LOSS train 0.3040\n"
     ]
    },
    {
     "name": "stderr",
     "output_type": "stream",
     "text": [
      "Validating: 100%|██████████| 50/50 [00:21<00:00,  2.31it/s]\n"
     ]
    },
    {
     "name": "stdout",
     "output_type": "stream",
     "text": [
      "LOSS valid 0.6938\n",
      "Accuracy valid 0.7635\n",
      "mIoU valid 0.5023\n",
      "IoU per class: Background=0.6977, Bleached=0.3793, Non-bleached=0.4299\n",
      "Custom Score valid 0.4998\n",
      "EPOCH 30/50:\n"
     ]
    },
    {
     "name": "stderr",
     "output_type": "stream",
     "text": [
      "Training: 100%|██████████| 197/197 [01:33<00:00,  2.11it/s]\n"
     ]
    },
    {
     "name": "stdout",
     "output_type": "stream",
     "text": [
      "LOSS train 0.2839\n"
     ]
    },
    {
     "name": "stderr",
     "output_type": "stream",
     "text": [
      "Validating: 100%|██████████| 50/50 [00:21<00:00,  2.31it/s]\n"
     ]
    },
    {
     "name": "stdout",
     "output_type": "stream",
     "text": [
      "LOSS valid 1.0775\n",
      "Accuracy valid 0.6724\n",
      "mIoU valid 0.4104\n",
      "IoU per class: Background=0.6273, Bleached=0.2687, Non-bleached=0.3352\n",
      "Custom Score valid 0.4021\n",
      "EPOCH 31/50:\n"
     ]
    },
    {
     "name": "stderr",
     "output_type": "stream",
     "text": [
      "Training: 100%|██████████| 197/197 [01:34<00:00,  2.08it/s]\n"
     ]
    },
    {
     "name": "stdout",
     "output_type": "stream",
     "text": [
      "LOSS train 0.3156\n"
     ]
    },
    {
     "name": "stderr",
     "output_type": "stream",
     "text": [
      "Validating: 100%|██████████| 50/50 [00:21<00:00,  2.28it/s]\n"
     ]
    },
    {
     "name": "stdout",
     "output_type": "stream",
     "text": [
      "LOSS valid 0.8903\n",
      "Accuracy valid 0.7000\n",
      "mIoU valid 0.4547\n",
      "IoU per class: Background=0.6399, Bleached=0.3514, Non-bleached=0.3728\n",
      "Custom Score valid 0.4519\n",
      "EPOCH 32/50:\n"
     ]
    },
    {
     "name": "stderr",
     "output_type": "stream",
     "text": [
      "Training: 100%|██████████| 197/197 [01:39<00:00,  1.97it/s]\n"
     ]
    },
    {
     "name": "stdout",
     "output_type": "stream",
     "text": [
      "LOSS train 0.2935\n"
     ]
    },
    {
     "name": "stderr",
     "output_type": "stream",
     "text": [
      "Validating: 100%|██████████| 50/50 [00:21<00:00,  2.30it/s]\n"
     ]
    },
    {
     "name": "stdout",
     "output_type": "stream",
     "text": [
      "LOSS valid 1.1519\n",
      "Accuracy valid 0.6851\n",
      "mIoU valid 0.4171\n",
      "IoU per class: Background=0.6424, Bleached=0.2203, Non-bleached=0.3887\n",
      "Custom Score valid 0.4077\n",
      "EPOCH 33/50:\n"
     ]
    },
    {
     "name": "stderr",
     "output_type": "stream",
     "text": [
      "Training: 100%|██████████| 197/197 [01:33<00:00,  2.11it/s]\n"
     ]
    },
    {
     "name": "stdout",
     "output_type": "stream",
     "text": [
      "LOSS train 0.2818\n"
     ]
    },
    {
     "name": "stderr",
     "output_type": "stream",
     "text": [
      "Validating: 100%|██████████| 50/50 [00:23<00:00,  2.11it/s]\n"
     ]
    },
    {
     "name": "stdout",
     "output_type": "stream",
     "text": [
      "LOSS valid 0.8440\n",
      "Accuracy valid 0.7064\n",
      "mIoU valid 0.4666\n",
      "IoU per class: Background=0.6580, Bleached=0.3387, Non-bleached=0.4031\n",
      "Custom Score valid 0.4610\n",
      "EPOCH 34/50:\n"
     ]
    },
    {
     "name": "stderr",
     "output_type": "stream",
     "text": [
      "Training: 100%|██████████| 197/197 [01:32<00:00,  2.14it/s]\n"
     ]
    },
    {
     "name": "stdout",
     "output_type": "stream",
     "text": [
      "LOSS train 0.2627\n"
     ]
    },
    {
     "name": "stderr",
     "output_type": "stream",
     "text": [
      "Validating: 100%|██████████| 50/50 [00:22<00:00,  2.19it/s]\n"
     ]
    },
    {
     "name": "stdout",
     "output_type": "stream",
     "text": [
      "LOSS valid 0.6917\n",
      "Accuracy valid 0.7262\n",
      "mIoU valid 0.4832\n",
      "IoU per class: Background=0.6496, Bleached=0.3895, Non-bleached=0.4105\n",
      "Custom Score valid 0.4852\n",
      "EPOCH 35/50:\n"
     ]
    },
    {
     "name": "stderr",
     "output_type": "stream",
     "text": [
      "Training: 100%|██████████| 197/197 [01:34<00:00,  2.08it/s]\n"
     ]
    },
    {
     "name": "stdout",
     "output_type": "stream",
     "text": [
      "LOSS train 0.2954\n"
     ]
    },
    {
     "name": "stderr",
     "output_type": "stream",
     "text": [
      "Validating: 100%|██████████| 50/50 [00:20<00:00,  2.41it/s]\n"
     ]
    },
    {
     "name": "stdout",
     "output_type": "stream",
     "text": [
      "LOSS valid 0.6486\n",
      "Accuracy valid 0.7580\n",
      "mIoU valid 0.4992\n",
      "IoU per class: Background=0.6602, Bleached=0.3768, Non-bleached=0.4605\n",
      "Custom Score valid 0.5058\n",
      "EPOCH 36/50:\n"
     ]
    },
    {
     "name": "stderr",
     "output_type": "stream",
     "text": [
      "Training: 100%|██████████| 197/197 [01:35<00:00,  2.07it/s]\n"
     ]
    },
    {
     "name": "stdout",
     "output_type": "stream",
     "text": [
      "LOSS train 0.3681\n"
     ]
    },
    {
     "name": "stderr",
     "output_type": "stream",
     "text": [
      "Validating: 100%|██████████| 50/50 [00:21<00:00,  2.30it/s]\n"
     ]
    },
    {
     "name": "stdout",
     "output_type": "stream",
     "text": [
      "LOSS valid 1.7765\n",
      "Accuracy valid 0.6504\n",
      "mIoU valid 0.3910\n",
      "IoU per class: Background=0.6203, Bleached=0.2691, Non-bleached=0.2836\n",
      "Custom Score valid 0.3787\n",
      "EPOCH 37/50:\n"
     ]
    },
    {
     "name": "stderr",
     "output_type": "stream",
     "text": [
      "Training: 100%|██████████| 197/197 [01:28<00:00,  2.24it/s]\n"
     ]
    },
    {
     "name": "stdout",
     "output_type": "stream",
     "text": [
      "LOSS train 0.3235\n"
     ]
    },
    {
     "name": "stderr",
     "output_type": "stream",
     "text": [
      "Validating: 100%|██████████| 50/50 [00:21<00:00,  2.32it/s]\n"
     ]
    },
    {
     "name": "stdout",
     "output_type": "stream",
     "text": [
      "LOSS valid 1.2147\n",
      "Accuracy valid 0.6903\n",
      "mIoU valid 0.4406\n",
      "IoU per class: Background=0.6512, Bleached=0.3014, Non-bleached=0.3691\n",
      "Custom Score valid 0.4315\n",
      "EPOCH 38/50:\n"
     ]
    },
    {
     "name": "stderr",
     "output_type": "stream",
     "text": [
      "Training: 100%|██████████| 197/197 [01:30<00:00,  2.17it/s]\n"
     ]
    },
    {
     "name": "stdout",
     "output_type": "stream",
     "text": [
      "LOSS train 0.3072\n"
     ]
    },
    {
     "name": "stderr",
     "output_type": "stream",
     "text": [
      "Validating: 100%|██████████| 50/50 [00:25<00:00,  1.96it/s]\n"
     ]
    },
    {
     "name": "stdout",
     "output_type": "stream",
     "text": [
      "LOSS valid 0.8280\n",
      "Accuracy valid 0.7160\n",
      "mIoU valid 0.4732\n",
      "IoU per class: Background=0.6580, Bleached=0.3557, Non-bleached=0.4059\n",
      "Custom Score valid 0.4700\n",
      "EPOCH 39/50:\n"
     ]
    },
    {
     "name": "stderr",
     "output_type": "stream",
     "text": [
      "Training: 100%|██████████| 197/197 [01:26<00:00,  2.27it/s]\n"
     ]
    },
    {
     "name": "stdout",
     "output_type": "stream",
     "text": [
      "LOSS train 0.2755\n"
     ]
    },
    {
     "name": "stderr",
     "output_type": "stream",
     "text": [
      "Validating: 100%|██████████| 50/50 [00:21<00:00,  2.28it/s]\n"
     ]
    },
    {
     "name": "stdout",
     "output_type": "stream",
     "text": [
      "LOSS valid 1.3042\n",
      "Accuracy valid 0.6632\n",
      "mIoU valid 0.4107\n",
      "IoU per class: Background=0.6224, Bleached=0.2738, Non-bleached=0.3358\n",
      "Custom Score valid 0.4019\n",
      "EPOCH 40/50:\n"
     ]
    },
    {
     "name": "stderr",
     "output_type": "stream",
     "text": [
      "Training: 100%|██████████| 197/197 [01:34<00:00,  2.08it/s]\n"
     ]
    },
    {
     "name": "stdout",
     "output_type": "stream",
     "text": [
      "LOSS train 0.2909\n"
     ]
    },
    {
     "name": "stderr",
     "output_type": "stream",
     "text": [
      "Validating: 100%|██████████| 50/50 [00:21<00:00,  2.34it/s]\n"
     ]
    },
    {
     "name": "stdout",
     "output_type": "stream",
     "text": [
      "LOSS valid 1.3253\n",
      "Accuracy valid 0.6523\n",
      "mIoU valid 0.3996\n",
      "IoU per class: Background=0.6289, Bleached=0.3262, Non-bleached=0.2436\n",
      "Custom Score valid 0.3859\n",
      "EPOCH 41/50:\n"
     ]
    },
    {
     "name": "stderr",
     "output_type": "stream",
     "text": [
      "Training: 100%|██████████| 197/197 [01:25<00:00,  2.30it/s]\n"
     ]
    },
    {
     "name": "stdout",
     "output_type": "stream",
     "text": [
      "LOSS train 0.3374\n"
     ]
    },
    {
     "name": "stderr",
     "output_type": "stream",
     "text": [
      "Validating: 100%|██████████| 50/50 [00:21<00:00,  2.32it/s]\n"
     ]
    },
    {
     "name": "stdout",
     "output_type": "stream",
     "text": [
      "LOSS valid 1.1262\n",
      "Accuracy valid 0.6466\n",
      "mIoU valid 0.3961\n",
      "IoU per class: Background=0.6123, Bleached=0.2871, Non-bleached=0.2890\n",
      "Custom Score valid 0.3857\n",
      "EPOCH 42/50:\n"
     ]
    },
    {
     "name": "stderr",
     "output_type": "stream",
     "text": [
      "Training: 100%|██████████| 197/197 [01:38<00:00,  2.00it/s]\n"
     ]
    },
    {
     "name": "stdout",
     "output_type": "stream",
     "text": [
      "LOSS train 0.2852\n"
     ]
    },
    {
     "name": "stderr",
     "output_type": "stream",
     "text": [
      "Validating: 100%|██████████| 50/50 [00:22<00:00,  2.21it/s]\n"
     ]
    },
    {
     "name": "stdout",
     "output_type": "stream",
     "text": [
      "LOSS valid 1.4578\n",
      "Accuracy valid 0.6610\n",
      "mIoU valid 0.3986\n",
      "IoU per class: Background=0.6386, Bleached=0.2718, Non-bleached=0.2853\n",
      "Custom Score valid 0.3839\n",
      "EPOCH 43/50:\n"
     ]
    },
    {
     "name": "stderr",
     "output_type": "stream",
     "text": [
      "Training: 100%|██████████| 197/197 [01:37<00:00,  2.03it/s]\n"
     ]
    },
    {
     "name": "stdout",
     "output_type": "stream",
     "text": [
      "LOSS train 0.2833\n"
     ]
    },
    {
     "name": "stderr",
     "output_type": "stream",
     "text": [
      "Validating: 100%|██████████| 50/50 [00:23<00:00,  2.10it/s]\n"
     ]
    },
    {
     "name": "stdout",
     "output_type": "stream",
     "text": [
      "LOSS valid 0.9330\n",
      "Accuracy valid 0.6726\n",
      "mIoU valid 0.4326\n",
      "IoU per class: Background=0.6225, Bleached=0.3749, Non-bleached=0.3003\n",
      "Custom Score valid 0.4274\n",
      "EPOCH 44/50:\n"
     ]
    },
    {
     "name": "stderr",
     "output_type": "stream",
     "text": [
      "Training: 100%|██████████| 197/197 [01:28<00:00,  2.22it/s]\n"
     ]
    },
    {
     "name": "stdout",
     "output_type": "stream",
     "text": [
      "LOSS train 0.2577\n"
     ]
    },
    {
     "name": "stderr",
     "output_type": "stream",
     "text": [
      "Validating: 100%|██████████| 50/50 [00:22<00:00,  2.17it/s]\n"
     ]
    },
    {
     "name": "stdout",
     "output_type": "stream",
     "text": [
      "LOSS valid 0.9177\n",
      "Accuracy valid 0.7144\n",
      "mIoU valid 0.4590\n",
      "IoU per class: Background=0.6659, Bleached=0.4008, Non-bleached=0.3102\n",
      "Custom Score valid 0.4521\n",
      "EPOCH 45/50:\n"
     ]
    },
    {
     "name": "stderr",
     "output_type": "stream",
     "text": [
      "Training: 100%|██████████| 197/197 [01:29<00:00,  2.20it/s]\n"
     ]
    },
    {
     "name": "stdout",
     "output_type": "stream",
     "text": [
      "LOSS train 0.2656\n"
     ]
    },
    {
     "name": "stderr",
     "output_type": "stream",
     "text": [
      "Validating: 100%|██████████| 50/50 [00:23<00:00,  2.13it/s]\n"
     ]
    },
    {
     "name": "stdout",
     "output_type": "stream",
     "text": [
      "LOSS valid 1.0121\n",
      "Accuracy valid 0.6705\n",
      "mIoU valid 0.4263\n",
      "IoU per class: Background=0.6306, Bleached=0.2785, Non-bleached=0.3697\n",
      "Custom Score valid 0.4179\n",
      "EPOCH 46/50:\n"
     ]
    },
    {
     "name": "stderr",
     "output_type": "stream",
     "text": [
      "Training: 100%|██████████| 197/197 [01:36<00:00,  2.05it/s]\n"
     ]
    },
    {
     "name": "stdout",
     "output_type": "stream",
     "text": [
      "LOSS train 0.2523\n"
     ]
    },
    {
     "name": "stderr",
     "output_type": "stream",
     "text": [
      "Validating: 100%|██████████| 50/50 [00:21<00:00,  2.36it/s]\n"
     ]
    },
    {
     "name": "stdout",
     "output_type": "stream",
     "text": [
      "LOSS valid 0.9243\n",
      "Accuracy valid 0.6906\n",
      "mIoU valid 0.4259\n",
      "IoU per class: Background=0.6524, Bleached=0.3190, Non-bleached=0.3063\n",
      "Custom Score valid 0.4154\n",
      "EPOCH 47/50:\n"
     ]
    },
    {
     "name": "stderr",
     "output_type": "stream",
     "text": [
      "Training: 100%|██████████| 197/197 [01:28<00:00,  2.24it/s]\n"
     ]
    },
    {
     "name": "stdout",
     "output_type": "stream",
     "text": [
      "LOSS train 0.2582\n"
     ]
    },
    {
     "name": "stderr",
     "output_type": "stream",
     "text": [
      "Validating: 100%|██████████| 50/50 [00:25<00:00,  1.98it/s]\n"
     ]
    },
    {
     "name": "stdout",
     "output_type": "stream",
     "text": [
      "LOSS valid 1.1111\n",
      "Accuracy valid 0.6878\n",
      "mIoU valid 0.4374\n",
      "IoU per class: Background=0.6407, Bleached=0.3087, Non-bleached=0.3628\n",
      "Custom Score valid 0.4305\n",
      "EPOCH 48/50:\n"
     ]
    },
    {
     "name": "stderr",
     "output_type": "stream",
     "text": [
      "Training: 100%|██████████| 197/197 [01:37<00:00,  2.02it/s]\n"
     ]
    },
    {
     "name": "stdout",
     "output_type": "stream",
     "text": [
      "LOSS train 0.2442\n"
     ]
    },
    {
     "name": "stderr",
     "output_type": "stream",
     "text": [
      "Validating: 100%|██████████| 50/50 [00:28<00:00,  1.78it/s]\n"
     ]
    },
    {
     "name": "stdout",
     "output_type": "stream",
     "text": [
      "LOSS valid 0.8718\n",
      "Accuracy valid 0.7435\n",
      "mIoU valid 0.5049\n",
      "IoU per class: Background=0.6863, Bleached=0.3735, Non-bleached=0.4550\n",
      "Custom Score valid 0.5018\n",
      "EPOCH 49/50:\n"
     ]
    },
    {
     "name": "stderr",
     "output_type": "stream",
     "text": [
      "Training: 100%|██████████| 197/197 [01:52<00:00,  1.76it/s]\n"
     ]
    },
    {
     "name": "stdout",
     "output_type": "stream",
     "text": [
      "LOSS train 0.2835\n"
     ]
    },
    {
     "name": "stderr",
     "output_type": "stream",
     "text": [
      "Validating: 100%|██████████| 50/50 [00:21<00:00,  2.33it/s]\n"
     ]
    },
    {
     "name": "stdout",
     "output_type": "stream",
     "text": [
      "LOSS valid 0.7733\n",
      "Accuracy valid 0.7130\n",
      "mIoU valid 0.4733\n",
      "IoU per class: Background=0.6571, Bleached=0.4169, Non-bleached=0.3458\n",
      "Custom Score valid 0.4698\n",
      "EPOCH 50/50:\n"
     ]
    },
    {
     "name": "stderr",
     "output_type": "stream",
     "text": [
      "Training: 100%|██████████| 197/197 [01:46<00:00,  1.84it/s]\n"
     ]
    },
    {
     "name": "stdout",
     "output_type": "stream",
     "text": [
      "LOSS train 0.2621\n"
     ]
    },
    {
     "name": "stderr",
     "output_type": "stream",
     "text": [
      "Validating: 100%|██████████| 50/50 [00:19<00:00,  2.59it/s]\n"
     ]
    },
    {
     "name": "stdout",
     "output_type": "stream",
     "text": [
      "LOSS valid 0.8411\n",
      "Accuracy valid 0.7108\n",
      "mIoU valid 0.4698\n",
      "IoU per class: Background=0.6581, Bleached=0.3660, Non-bleached=0.3853\n",
      "Custom Score valid 0.4653\n",
      "\n",
      "==================== FOLD 2/5 ====================\n",
      "Warning: Model does not have reset_parameters method. Using current weights.\n",
      "EPOCH 1/50:\n"
     ]
    },
    {
     "name": "stderr",
     "output_type": "stream",
     "text": [
      "Training: 100%|██████████| 197/197 [01:35<00:00,  2.07it/s]\n"
     ]
    },
    {
     "name": "stdout",
     "output_type": "stream",
     "text": [
      "LOSS train 0.3696\n"
     ]
    },
    {
     "name": "stderr",
     "output_type": "stream",
     "text": [
      "Validating: 100%|██████████| 50/50 [00:18<00:00,  2.65it/s]\n"
     ]
    },
    {
     "name": "stdout",
     "output_type": "stream",
     "text": [
      "LOSS valid 0.4426\n",
      "Accuracy valid 0.8339\n",
      "mIoU valid 0.5249\n",
      "IoU per class: Background=0.7853, Bleached=0.2353, Non-bleached=0.5539\n",
      "Custom Score valid 0.5137\n",
      "Saved improved model checkpoint to ./checkpoints_yellow_0\\model_fold_2_best_score.pth (Custom Score: 0.5137)\n",
      "EPOCH 2/50:\n"
     ]
    },
    {
     "name": "stderr",
     "output_type": "stream",
     "text": [
      "Training: 100%|██████████| 197/197 [01:38<00:00,  1.99it/s]\n"
     ]
    },
    {
     "name": "stdout",
     "output_type": "stream",
     "text": [
      "LOSS train 0.3252\n"
     ]
    },
    {
     "name": "stderr",
     "output_type": "stream",
     "text": [
      "Validating: 100%|██████████| 50/50 [00:21<00:00,  2.31it/s]\n"
     ]
    },
    {
     "name": "stdout",
     "output_type": "stream",
     "text": [
      "LOSS valid 0.4021\n",
      "Accuracy valid 0.8402\n",
      "mIoU valid 0.5483\n",
      "IoU per class: Background=0.7417, Bleached=0.3159, Non-bleached=0.5873\n",
      "Custom Score valid 0.5525\n",
      "Saved improved model checkpoint to ./checkpoints_yellow_0\\model_fold_2_best_score.pth (Custom Score: 0.5525)\n",
      "EPOCH 3/50:\n"
     ]
    },
    {
     "name": "stderr",
     "output_type": "stream",
     "text": [
      "Training: 100%|██████████| 197/197 [01:35<00:00,  2.07it/s]\n"
     ]
    },
    {
     "name": "stdout",
     "output_type": "stream",
     "text": [
      "LOSS train 0.2954\n"
     ]
    },
    {
     "name": "stderr",
     "output_type": "stream",
     "text": [
      "Validating: 100%|██████████| 50/50 [00:22<00:00,  2.19it/s]\n"
     ]
    },
    {
     "name": "stdout",
     "output_type": "stream",
     "text": [
      "LOSS valid 0.5332\n",
      "Accuracy valid 0.8297\n",
      "mIoU valid 0.5587\n",
      "IoU per class: Background=0.7545, Bleached=0.3527, Non-bleached=0.5691\n",
      "Custom Score valid 0.5581\n",
      "Saved improved model checkpoint to ./checkpoints_yellow_0\\model_fold_2_best_score.pth (Custom Score: 0.5581)\n",
      "EPOCH 4/50:\n"
     ]
    },
    {
     "name": "stderr",
     "output_type": "stream",
     "text": [
      "Training: 100%|██████████| 197/197 [01:32<00:00,  2.12it/s]\n"
     ]
    },
    {
     "name": "stdout",
     "output_type": "stream",
     "text": [
      "LOSS train 0.2760\n"
     ]
    },
    {
     "name": "stderr",
     "output_type": "stream",
     "text": [
      "Validating: 100%|██████████| 50/50 [00:22<00:00,  2.26it/s]\n"
     ]
    },
    {
     "name": "stdout",
     "output_type": "stream",
     "text": [
      "LOSS valid 0.3461\n",
      "Accuracy valid 0.8559\n",
      "mIoU valid 0.5779\n",
      "IoU per class: Background=0.7809, Bleached=0.3782, Non-bleached=0.5746\n",
      "Custom Score valid 0.5767\n",
      "Saved improved model checkpoint to ./checkpoints_yellow_0\\model_fold_2_best_score.pth (Custom Score: 0.5767)\n",
      "EPOCH 5/50:\n"
     ]
    },
    {
     "name": "stderr",
     "output_type": "stream",
     "text": [
      "Training: 100%|██████████| 197/197 [01:34<00:00,  2.09it/s]\n"
     ]
    },
    {
     "name": "stdout",
     "output_type": "stream",
     "text": [
      "LOSS train 0.2832\n"
     ]
    },
    {
     "name": "stderr",
     "output_type": "stream",
     "text": [
      "Validating: 100%|██████████| 50/50 [00:21<00:00,  2.28it/s]\n"
     ]
    },
    {
     "name": "stdout",
     "output_type": "stream",
     "text": [
      "LOSS valid 0.4713\n",
      "Accuracy valid 0.8448\n",
      "mIoU valid 0.5916\n",
      "IoU per class: Background=0.7619, Bleached=0.4096, Non-bleached=0.6033\n",
      "Custom Score valid 0.5946\n",
      "Saved improved model checkpoint to ./checkpoints_yellow_0\\model_fold_2_best_score.pth (Custom Score: 0.5946)\n",
      "EPOCH 6/50:\n"
     ]
    },
    {
     "name": "stderr",
     "output_type": "stream",
     "text": [
      "Training: 100%|██████████| 197/197 [01:33<00:00,  2.11it/s]\n"
     ]
    },
    {
     "name": "stdout",
     "output_type": "stream",
     "text": [
      "LOSS train 0.2968\n"
     ]
    },
    {
     "name": "stderr",
     "output_type": "stream",
     "text": [
      "Validating: 100%|██████████| 50/50 [00:23<00:00,  2.09it/s]\n"
     ]
    },
    {
     "name": "stdout",
     "output_type": "stream",
     "text": [
      "LOSS valid 0.4303\n",
      "Accuracy valid 0.8326\n",
      "mIoU valid 0.5817\n",
      "IoU per class: Background=0.7863, Bleached=0.4358, Non-bleached=0.5230\n",
      "Custom Score valid 0.5746\n",
      "EPOCH 7/50:\n"
     ]
    },
    {
     "name": "stderr",
     "output_type": "stream",
     "text": [
      "Training: 100%|██████████| 197/197 [01:33<00:00,  2.11it/s]\n"
     ]
    },
    {
     "name": "stdout",
     "output_type": "stream",
     "text": [
      "LOSS train 0.2832\n"
     ]
    },
    {
     "name": "stderr",
     "output_type": "stream",
     "text": [
      "Validating: 100%|██████████| 50/50 [00:22<00:00,  2.26it/s]\n"
     ]
    },
    {
     "name": "stdout",
     "output_type": "stream",
     "text": [
      "LOSS valid 0.4084\n",
      "Accuracy valid 0.8388\n",
      "mIoU valid 0.5384\n",
      "IoU per class: Background=0.7485, Bleached=0.3110, Non-bleached=0.5558\n",
      "Custom Score valid 0.5397\n",
      "EPOCH 8/50:\n"
     ]
    },
    {
     "name": "stderr",
     "output_type": "stream",
     "text": [
      "Training: 100%|██████████| 197/197 [01:35<00:00,  2.05it/s]\n"
     ]
    },
    {
     "name": "stdout",
     "output_type": "stream",
     "text": [
      "LOSS train 0.2657\n"
     ]
    },
    {
     "name": "stderr",
     "output_type": "stream",
     "text": [
      "Validating: 100%|██████████| 50/50 [00:21<00:00,  2.30it/s]\n"
     ]
    },
    {
     "name": "stdout",
     "output_type": "stream",
     "text": [
      "LOSS valid 0.5227\n",
      "Accuracy valid 0.7855\n",
      "mIoU valid 0.4987\n",
      "IoU per class: Background=0.7154, Bleached=0.3069, Non-bleached=0.4737\n",
      "Custom Score valid 0.4954\n",
      "EPOCH 9/50:\n"
     ]
    },
    {
     "name": "stderr",
     "output_type": "stream",
     "text": [
      "Training: 100%|██████████| 197/197 [01:34<00:00,  2.09it/s]\n"
     ]
    },
    {
     "name": "stdout",
     "output_type": "stream",
     "text": [
      "LOSS train 0.2604\n"
     ]
    },
    {
     "name": "stderr",
     "output_type": "stream",
     "text": [
      "Validating: 100%|██████████| 50/50 [00:20<00:00,  2.40it/s]\n"
     ]
    },
    {
     "name": "stdout",
     "output_type": "stream",
     "text": [
      "LOSS valid 0.4602\n",
      "Accuracy valid 0.8177\n",
      "mIoU valid 0.5670\n",
      "IoU per class: Background=0.7596, Bleached=0.4112, Non-bleached=0.5301\n",
      "Custom Score valid 0.5632\n",
      "EPOCH 10/50:\n"
     ]
    },
    {
     "name": "stderr",
     "output_type": "stream",
     "text": [
      "Training: 100%|██████████| 197/197 [01:26<00:00,  2.27it/s]\n"
     ]
    },
    {
     "name": "stdout",
     "output_type": "stream",
     "text": [
      "LOSS train 0.2585\n"
     ]
    },
    {
     "name": "stderr",
     "output_type": "stream",
     "text": [
      "Validating: 100%|██████████| 50/50 [00:22<00:00,  2.18it/s]\n"
     ]
    },
    {
     "name": "stdout",
     "output_type": "stream",
     "text": [
      "LOSS valid 0.3735\n",
      "Accuracy valid 0.8441\n",
      "mIoU valid 0.6023\n",
      "IoU per class: Background=0.7737, Bleached=0.4538, Non-bleached=0.5792\n",
      "Custom Score valid 0.6026\n",
      "Saved improved model checkpoint to ./checkpoints_yellow_0\\model_fold_2_best_score.pth (Custom Score: 0.6026)\n",
      "EPOCH 11/50:\n"
     ]
    },
    {
     "name": "stderr",
     "output_type": "stream",
     "text": [
      "Training: 100%|██████████| 197/197 [01:40<00:00,  1.95it/s]\n"
     ]
    },
    {
     "name": "stdout",
     "output_type": "stream",
     "text": [
      "LOSS train 0.3612\n"
     ]
    },
    {
     "name": "stderr",
     "output_type": "stream",
     "text": [
      "Validating: 100%|██████████| 50/50 [00:23<00:00,  2.17it/s]\n"
     ]
    },
    {
     "name": "stdout",
     "output_type": "stream",
     "text": [
      "LOSS valid 0.6640\n",
      "Accuracy valid 0.7644\n",
      "mIoU valid 0.5223\n",
      "IoU per class: Background=0.7063, Bleached=0.4054, Non-bleached=0.4553\n",
      "Custom Score valid 0.5192\n",
      "EPOCH 12/50:\n"
     ]
    },
    {
     "name": "stderr",
     "output_type": "stream",
     "text": [
      "Training: 100%|██████████| 197/197 [01:33<00:00,  2.10it/s]\n"
     ]
    },
    {
     "name": "stdout",
     "output_type": "stream",
     "text": [
      "LOSS train 0.2740\n"
     ]
    },
    {
     "name": "stderr",
     "output_type": "stream",
     "text": [
      "Validating: 100%|██████████| 50/50 [00:25<00:00,  1.93it/s]\n"
     ]
    },
    {
     "name": "stdout",
     "output_type": "stream",
     "text": [
      "LOSS valid 0.4902\n",
      "Accuracy valid 0.8000\n",
      "mIoU valid 0.5336\n",
      "IoU per class: Background=0.7270, Bleached=0.4037, Non-bleached=0.4702\n",
      "Custom Score valid 0.5328\n",
      "EPOCH 13/50:\n"
     ]
    },
    {
     "name": "stderr",
     "output_type": "stream",
     "text": [
      "Training: 100%|██████████| 197/197 [01:31<00:00,  2.14it/s]\n"
     ]
    },
    {
     "name": "stdout",
     "output_type": "stream",
     "text": [
      "LOSS train 0.2571\n"
     ]
    },
    {
     "name": "stderr",
     "output_type": "stream",
     "text": [
      "Validating: 100%|██████████| 50/50 [00:23<00:00,  2.12it/s]\n"
     ]
    },
    {
     "name": "stdout",
     "output_type": "stream",
     "text": [
      "LOSS valid 0.6296\n",
      "Accuracy valid 0.7824\n",
      "mIoU valid 0.5032\n",
      "IoU per class: Background=0.7158, Bleached=0.3261, Non-bleached=0.4679\n",
      "Custom Score valid 0.4996\n",
      "EPOCH 14/50:\n"
     ]
    },
    {
     "name": "stderr",
     "output_type": "stream",
     "text": [
      "Training: 100%|██████████| 197/197 [01:35<00:00,  2.07it/s]\n"
     ]
    },
    {
     "name": "stdout",
     "output_type": "stream",
     "text": [
      "LOSS train 0.2522\n"
     ]
    },
    {
     "name": "stderr",
     "output_type": "stream",
     "text": [
      "Validating: 100%|██████████| 50/50 [00:22<00:00,  2.21it/s]\n"
     ]
    },
    {
     "name": "stdout",
     "output_type": "stream",
     "text": [
      "LOSS valid 0.3988\n",
      "Accuracy valid 0.8406\n",
      "mIoU valid 0.5759\n",
      "IoU per class: Background=0.7700, Bleached=0.4036, Non-bleached=0.5542\n",
      "Custom Score valid 0.5745\n",
      "EPOCH 15/50:\n"
     ]
    },
    {
     "name": "stderr",
     "output_type": "stream",
     "text": [
      "Training: 100%|██████████| 197/197 [01:34<00:00,  2.09it/s]\n"
     ]
    },
    {
     "name": "stdout",
     "output_type": "stream",
     "text": [
      "LOSS train 0.2433\n"
     ]
    },
    {
     "name": "stderr",
     "output_type": "stream",
     "text": [
      "Validating: 100%|██████████| 50/50 [00:23<00:00,  2.09it/s]\n"
     ]
    },
    {
     "name": "stdout",
     "output_type": "stream",
     "text": [
      "LOSS valid 0.4144\n",
      "Accuracy valid 0.8447\n",
      "mIoU valid 0.5384\n",
      "IoU per class: Background=0.7500, Bleached=0.2893, Non-bleached=0.5759\n",
      "Custom Score valid 0.5404\n",
      "EPOCH 16/50:\n"
     ]
    },
    {
     "name": "stderr",
     "output_type": "stream",
     "text": [
      "Training: 100%|██████████| 197/197 [01:51<00:00,  1.77it/s]\n"
     ]
    },
    {
     "name": "stdout",
     "output_type": "stream",
     "text": [
      "LOSS train 0.2507\n"
     ]
    },
    {
     "name": "stderr",
     "output_type": "stream",
     "text": [
      "Validating: 100%|██████████| 50/50 [00:27<00:00,  1.79it/s]\n"
     ]
    },
    {
     "name": "stdout",
     "output_type": "stream",
     "text": [
      "LOSS valid 0.7046\n",
      "Accuracy valid 0.7924\n",
      "mIoU valid 0.5346\n",
      "IoU per class: Background=0.7333, Bleached=0.3777, Non-bleached=0.4928\n",
      "Custom Score valid 0.5305\n",
      "EPOCH 17/50:\n"
     ]
    },
    {
     "name": "stderr",
     "output_type": "stream",
     "text": [
      "Training: 100%|██████████| 197/197 [01:36<00:00,  2.04it/s]\n"
     ]
    },
    {
     "name": "stdout",
     "output_type": "stream",
     "text": [
      "LOSS train 0.2430\n"
     ]
    },
    {
     "name": "stderr",
     "output_type": "stream",
     "text": [
      "Validating: 100%|██████████| 50/50 [00:21<00:00,  2.30it/s]\n"
     ]
    },
    {
     "name": "stdout",
     "output_type": "stream",
     "text": [
      "LOSS valid 0.9303\n",
      "Accuracy valid 0.7214\n",
      "mIoU valid 0.4086\n",
      "IoU per class: Background=0.6858, Bleached=0.2390, Non-bleached=0.3008\n",
      "Custom Score valid 0.3935\n",
      "EPOCH 18/50:\n"
     ]
    },
    {
     "name": "stderr",
     "output_type": "stream",
     "text": [
      "Training: 100%|██████████| 197/197 [01:36<00:00,  2.04it/s]\n"
     ]
    },
    {
     "name": "stdout",
     "output_type": "stream",
     "text": [
      "LOSS train 0.2885\n"
     ]
    },
    {
     "name": "stderr",
     "output_type": "stream",
     "text": [
      "Validating: 100%|██████████| 50/50 [00:21<00:00,  2.29it/s]\n"
     ]
    },
    {
     "name": "stdout",
     "output_type": "stream",
     "text": [
      "LOSS valid 0.4275\n",
      "Accuracy valid 0.8190\n",
      "mIoU valid 0.5649\n",
      "IoU per class: Background=0.7425, Bleached=0.4231, Non-bleached=0.5291\n",
      "Custom Score valid 0.5660\n",
      "EPOCH 19/50:\n"
     ]
    },
    {
     "name": "stderr",
     "output_type": "stream",
     "text": [
      "Training: 100%|██████████| 197/197 [01:39<00:00,  1.99it/s]\n"
     ]
    },
    {
     "name": "stdout",
     "output_type": "stream",
     "text": [
      "LOSS train 0.2875\n"
     ]
    },
    {
     "name": "stderr",
     "output_type": "stream",
     "text": [
      "Validating: 100%|██████████| 50/50 [00:22<00:00,  2.18it/s]\n"
     ]
    },
    {
     "name": "stdout",
     "output_type": "stream",
     "text": [
      "LOSS valid 0.4753\n",
      "Accuracy valid 0.8049\n",
      "mIoU valid 0.5300\n",
      "IoU per class: Background=0.7473, Bleached=0.3287, Non-bleached=0.5141\n",
      "Custom Score valid 0.5242\n",
      "EPOCH 20/50:\n"
     ]
    },
    {
     "name": "stderr",
     "output_type": "stream",
     "text": [
      "Training: 100%|██████████| 197/197 [01:34<00:00,  2.08it/s]\n"
     ]
    },
    {
     "name": "stdout",
     "output_type": "stream",
     "text": [
      "LOSS train 0.2484\n"
     ]
    },
    {
     "name": "stderr",
     "output_type": "stream",
     "text": [
      "Validating: 100%|██████████| 50/50 [00:23<00:00,  2.09it/s]\n"
     ]
    },
    {
     "name": "stdout",
     "output_type": "stream",
     "text": [
      "LOSS valid 0.4767\n",
      "Accuracy valid 0.7968\n",
      "mIoU valid 0.5364\n",
      "IoU per class: Background=0.7318, Bleached=0.3778, Non-bleached=0.4996\n",
      "Custom Score valid 0.5338\n",
      "EPOCH 21/50:\n"
     ]
    },
    {
     "name": "stderr",
     "output_type": "stream",
     "text": [
      "Training: 100%|██████████| 197/197 [01:39<00:00,  1.99it/s]\n"
     ]
    },
    {
     "name": "stdout",
     "output_type": "stream",
     "text": [
      "LOSS train 0.2372\n"
     ]
    },
    {
     "name": "stderr",
     "output_type": "stream",
     "text": [
      "Validating: 100%|██████████| 50/50 [00:25<00:00,  1.96it/s]\n"
     ]
    },
    {
     "name": "stdout",
     "output_type": "stream",
     "text": [
      "LOSS valid 0.3890\n",
      "Accuracy valid 0.8439\n",
      "mIoU valid 0.5735\n",
      "IoU per class: Background=0.7530, Bleached=0.3753, Non-bleached=0.5920\n",
      "Custom Score valid 0.5773\n",
      "EPOCH 22/50:\n"
     ]
    },
    {
     "name": "stderr",
     "output_type": "stream",
     "text": [
      "Training: 100%|██████████| 197/197 [01:33<00:00,  2.11it/s]\n"
     ]
    },
    {
     "name": "stdout",
     "output_type": "stream",
     "text": [
      "LOSS train 0.2515\n"
     ]
    },
    {
     "name": "stderr",
     "output_type": "stream",
     "text": [
      "Validating: 100%|██████████| 50/50 [00:24<00:00,  2.00it/s]\n"
     ]
    },
    {
     "name": "stdout",
     "output_type": "stream",
     "text": [
      "LOSS valid 0.7672\n",
      "Accuracy valid 0.7376\n",
      "mIoU valid 0.5049\n",
      "IoU per class: Background=0.6875, Bleached=0.3519, Non-bleached=0.4754\n",
      "Custom Score valid 0.5003\n",
      "EPOCH 23/50:\n"
     ]
    },
    {
     "name": "stderr",
     "output_type": "stream",
     "text": [
      "Training: 100%|██████████| 197/197 [01:33<00:00,  2.11it/s]\n"
     ]
    },
    {
     "name": "stdout",
     "output_type": "stream",
     "text": [
      "LOSS train 0.2379\n"
     ]
    },
    {
     "name": "stderr",
     "output_type": "stream",
     "text": [
      "Validating: 100%|██████████| 50/50 [00:22<00:00,  2.18it/s]\n"
     ]
    },
    {
     "name": "stdout",
     "output_type": "stream",
     "text": [
      "LOSS valid 0.4148\n",
      "Accuracy valid 0.8248\n",
      "mIoU valid 0.5603\n",
      "IoU per class: Background=0.7477, Bleached=0.3597, Non-bleached=0.5736\n",
      "Custom Score valid 0.5608\n",
      "EPOCH 24/50:\n"
     ]
    },
    {
     "name": "stderr",
     "output_type": "stream",
     "text": [
      "Training: 100%|██████████| 197/197 [01:36<00:00,  2.04it/s]\n"
     ]
    },
    {
     "name": "stdout",
     "output_type": "stream",
     "text": [
      "LOSS train 0.2768\n"
     ]
    },
    {
     "name": "stderr",
     "output_type": "stream",
     "text": [
      "Validating: 100%|██████████| 50/50 [00:22<00:00,  2.25it/s]\n"
     ]
    },
    {
     "name": "stdout",
     "output_type": "stream",
     "text": [
      "LOSS valid 0.6409\n",
      "Accuracy valid 0.8137\n",
      "mIoU valid 0.5236\n",
      "IoU per class: Background=0.7109, Bleached=0.3404, Non-bleached=0.5195\n",
      "Custom Score valid 0.5292\n",
      "EPOCH 25/50:\n"
     ]
    },
    {
     "name": "stderr",
     "output_type": "stream",
     "text": [
      "Training: 100%|██████████| 197/197 [01:34<00:00,  2.08it/s]\n"
     ]
    },
    {
     "name": "stdout",
     "output_type": "stream",
     "text": [
      "LOSS train 0.2356\n"
     ]
    },
    {
     "name": "stderr",
     "output_type": "stream",
     "text": [
      "Validating: 100%|██████████| 50/50 [00:22<00:00,  2.22it/s]\n"
     ]
    },
    {
     "name": "stdout",
     "output_type": "stream",
     "text": [
      "LOSS valid 0.4414\n",
      "Accuracy valid 0.8402\n",
      "mIoU valid 0.5587\n",
      "IoU per class: Background=0.7615, Bleached=0.3455, Non-bleached=0.5691\n",
      "Custom Score valid 0.5582\n",
      "EPOCH 26/50:\n"
     ]
    },
    {
     "name": "stderr",
     "output_type": "stream",
     "text": [
      "Training: 100%|██████████| 197/197 [01:42<00:00,  1.91it/s]\n"
     ]
    },
    {
     "name": "stdout",
     "output_type": "stream",
     "text": [
      "LOSS train 0.2395\n"
     ]
    },
    {
     "name": "stderr",
     "output_type": "stream",
     "text": [
      "Validating: 100%|██████████| 50/50 [00:24<00:00,  2.01it/s]\n"
     ]
    },
    {
     "name": "stdout",
     "output_type": "stream",
     "text": [
      "LOSS valid 0.6065\n",
      "Accuracy valid 0.7929\n",
      "mIoU valid 0.5493\n",
      "IoU per class: Background=0.7377, Bleached=0.4043, Non-bleached=0.5058\n",
      "Custom Score valid 0.5452\n",
      "EPOCH 27/50:\n"
     ]
    },
    {
     "name": "stderr",
     "output_type": "stream",
     "text": [
      "Training: 100%|██████████| 197/197 [01:44<00:00,  1.88it/s]\n"
     ]
    },
    {
     "name": "stdout",
     "output_type": "stream",
     "text": [
      "LOSS train 0.2392\n"
     ]
    },
    {
     "name": "stderr",
     "output_type": "stream",
     "text": [
      "Validating: 100%|██████████| 50/50 [00:22<00:00,  2.18it/s]\n"
     ]
    },
    {
     "name": "stdout",
     "output_type": "stream",
     "text": [
      "LOSS valid 0.5866\n",
      "Accuracy valid 0.7676\n",
      "mIoU valid 0.5245\n",
      "IoU per class: Background=0.7095, Bleached=0.4073, Non-bleached=0.4566\n",
      "Custom Score valid 0.5213\n",
      "EPOCH 28/50:\n"
     ]
    },
    {
     "name": "stderr",
     "output_type": "stream",
     "text": [
      "Training: 100%|██████████| 197/197 [01:39<00:00,  1.98it/s]\n"
     ]
    },
    {
     "name": "stdout",
     "output_type": "stream",
     "text": [
      "LOSS train 0.2187\n"
     ]
    },
    {
     "name": "stderr",
     "output_type": "stream",
     "text": [
      "Validating: 100%|██████████| 50/50 [00:23<00:00,  2.11it/s]\n"
     ]
    },
    {
     "name": "stdout",
     "output_type": "stream",
     "text": [
      "LOSS valid 0.4410\n",
      "Accuracy valid 0.8261\n",
      "mIoU valid 0.5665\n",
      "IoU per class: Background=0.7459, Bleached=0.4078, Non-bleached=0.5459\n",
      "Custom Score valid 0.5682\n",
      "EPOCH 29/50:\n"
     ]
    },
    {
     "name": "stderr",
     "output_type": "stream",
     "text": [
      "Training: 100%|██████████| 197/197 [01:43<00:00,  1.90it/s]\n"
     ]
    },
    {
     "name": "stdout",
     "output_type": "stream",
     "text": [
      "LOSS train 0.2165\n"
     ]
    },
    {
     "name": "stderr",
     "output_type": "stream",
     "text": [
      "Validating: 100%|██████████| 50/50 [00:21<00:00,  2.33it/s]\n"
     ]
    },
    {
     "name": "stdout",
     "output_type": "stream",
     "text": [
      "LOSS valid 0.4888\n",
      "Accuracy valid 0.8131\n",
      "mIoU valid 0.5638\n",
      "IoU per class: Background=0.7502, Bleached=0.4008, Non-bleached=0.5405\n",
      "Custom Score valid 0.5615\n",
      "EPOCH 30/50:\n"
     ]
    },
    {
     "name": "stderr",
     "output_type": "stream",
     "text": [
      "Training: 100%|██████████| 197/197 [01:41<00:00,  1.95it/s]\n"
     ]
    },
    {
     "name": "stdout",
     "output_type": "stream",
     "text": [
      "LOSS train 0.2114\n"
     ]
    },
    {
     "name": "stderr",
     "output_type": "stream",
     "text": [
      "Validating: 100%|██████████| 50/50 [00:22<00:00,  2.25it/s]\n"
     ]
    },
    {
     "name": "stdout",
     "output_type": "stream",
     "text": [
      "LOSS valid 0.6239\n",
      "Accuracy valid 0.7619\n",
      "mIoU valid 0.5216\n",
      "IoU per class: Background=0.6966, Bleached=0.3950, Non-bleached=0.4733\n",
      "Custom Score valid 0.5207\n",
      "EPOCH 31/50:\n"
     ]
    },
    {
     "name": "stderr",
     "output_type": "stream",
     "text": [
      "Training: 100%|██████████| 197/197 [01:37<00:00,  2.02it/s]\n"
     ]
    },
    {
     "name": "stdout",
     "output_type": "stream",
     "text": [
      "LOSS train 0.2148\n"
     ]
    },
    {
     "name": "stderr",
     "output_type": "stream",
     "text": [
      "Validating: 100%|██████████| 50/50 [00:21<00:00,  2.28it/s]\n"
     ]
    },
    {
     "name": "stdout",
     "output_type": "stream",
     "text": [
      "LOSS valid 0.4083\n",
      "Accuracy valid 0.8447\n",
      "mIoU valid 0.6002\n",
      "IoU per class: Background=0.7863, Bleached=0.4104, Non-bleached=0.6039\n",
      "Custom Score valid 0.5970\n",
      "EPOCH 32/50:\n"
     ]
    },
    {
     "name": "stderr",
     "output_type": "stream",
     "text": [
      "Training: 100%|██████████| 197/197 [01:37<00:00,  2.01it/s]\n"
     ]
    },
    {
     "name": "stdout",
     "output_type": "stream",
     "text": [
      "LOSS train 0.2294\n"
     ]
    },
    {
     "name": "stderr",
     "output_type": "stream",
     "text": [
      "Validating: 100%|██████████| 50/50 [00:21<00:00,  2.37it/s]\n"
     ]
    },
    {
     "name": "stdout",
     "output_type": "stream",
     "text": [
      "LOSS valid 0.4917\n",
      "Accuracy valid 0.7951\n",
      "mIoU valid 0.5378\n",
      "IoU per class: Background=0.7215, Bleached=0.3882, Non-bleached=0.5036\n",
      "Custom Score valid 0.5378\n",
      "EPOCH 33/50:\n"
     ]
    },
    {
     "name": "stderr",
     "output_type": "stream",
     "text": [
      "Training: 100%|██████████| 197/197 [01:33<00:00,  2.10it/s]\n"
     ]
    },
    {
     "name": "stdout",
     "output_type": "stream",
     "text": [
      "LOSS train 0.2152\n"
     ]
    },
    {
     "name": "stderr",
     "output_type": "stream",
     "text": [
      "Validating: 100%|██████████| 50/50 [00:21<00:00,  2.33it/s]\n"
     ]
    },
    {
     "name": "stdout",
     "output_type": "stream",
     "text": [
      "LOSS valid 0.5406\n",
      "Accuracy valid 0.7909\n",
      "mIoU valid 0.5439\n",
      "IoU per class: Background=0.7258, Bleached=0.3720, Non-bleached=0.5340\n",
      "Custom Score valid 0.5424\n",
      "EPOCH 34/50:\n"
     ]
    },
    {
     "name": "stderr",
     "output_type": "stream",
     "text": [
      "Training: 100%|██████████| 197/197 [01:38<00:00,  1.99it/s]\n"
     ]
    },
    {
     "name": "stdout",
     "output_type": "stream",
     "text": [
      "LOSS train 0.2354\n"
     ]
    },
    {
     "name": "stderr",
     "output_type": "stream",
     "text": [
      "Validating: 100%|██████████| 50/50 [00:20<00:00,  2.46it/s]\n"
     ]
    },
    {
     "name": "stdout",
     "output_type": "stream",
     "text": [
      "LOSS valid 0.5507\n",
      "Accuracy valid 0.8109\n",
      "mIoU valid 0.5609\n",
      "IoU per class: Background=0.7207, Bleached=0.3926, Non-bleached=0.5696\n",
      "Custom Score valid 0.5662\n",
      "EPOCH 35/50:\n"
     ]
    },
    {
     "name": "stderr",
     "output_type": "stream",
     "text": [
      "Training: 100%|██████████| 197/197 [01:34<00:00,  2.09it/s]\n"
     ]
    },
    {
     "name": "stdout",
     "output_type": "stream",
     "text": [
      "LOSS train 0.2220\n"
     ]
    },
    {
     "name": "stderr",
     "output_type": "stream",
     "text": [
      "Validating: 100%|██████████| 50/50 [00:22<00:00,  2.19it/s]\n"
     ]
    },
    {
     "name": "stdout",
     "output_type": "stream",
     "text": [
      "LOSS valid 0.4499\n",
      "Accuracy valid 0.8417\n",
      "mIoU valid 0.5735\n",
      "IoU per class: Background=0.7477, Bleached=0.3749, Non-bleached=0.5979\n",
      "Custom Score valid 0.5783\n",
      "EPOCH 36/50:\n"
     ]
    },
    {
     "name": "stderr",
     "output_type": "stream",
     "text": [
      "Training: 100%|██████████| 197/197 [01:34<00:00,  2.09it/s]\n"
     ]
    },
    {
     "name": "stdout",
     "output_type": "stream",
     "text": [
      "LOSS train 0.2174\n"
     ]
    },
    {
     "name": "stderr",
     "output_type": "stream",
     "text": [
      "Validating: 100%|██████████| 50/50 [00:22<00:00,  2.24it/s]\n"
     ]
    },
    {
     "name": "stdout",
     "output_type": "stream",
     "text": [
      "LOSS valid 0.4891\n",
      "Accuracy valid 0.8201\n",
      "mIoU valid 0.5568\n",
      "IoU per class: Background=0.7524, Bleached=0.3726, Non-bleached=0.5455\n",
      "Custom Score valid 0.5547\n",
      "EPOCH 37/50:\n"
     ]
    },
    {
     "name": "stderr",
     "output_type": "stream",
     "text": [
      "Training: 100%|██████████| 197/197 [01:34<00:00,  2.08it/s]\n"
     ]
    },
    {
     "name": "stdout",
     "output_type": "stream",
     "text": [
      "LOSS train 0.2634\n"
     ]
    },
    {
     "name": "stderr",
     "output_type": "stream",
     "text": [
      "Validating: 100%|██████████| 50/50 [00:22<00:00,  2.20it/s]\n"
     ]
    },
    {
     "name": "stdout",
     "output_type": "stream",
     "text": [
      "LOSS valid 0.4681\n",
      "Accuracy valid 0.8386\n",
      "mIoU valid 0.5544\n",
      "IoU per class: Background=0.7583, Bleached=0.3647, Non-bleached=0.5402\n",
      "Custom Score valid 0.5541\n",
      "EPOCH 38/50:\n"
     ]
    },
    {
     "name": "stderr",
     "output_type": "stream",
     "text": [
      "Training: 100%|██████████| 197/197 [01:37<00:00,  2.01it/s]\n"
     ]
    },
    {
     "name": "stdout",
     "output_type": "stream",
     "text": [
      "LOSS train 0.2292\n"
     ]
    },
    {
     "name": "stderr",
     "output_type": "stream",
     "text": [
      "Validating: 100%|██████████| 50/50 [00:22<00:00,  2.26it/s]\n"
     ]
    },
    {
     "name": "stdout",
     "output_type": "stream",
     "text": [
      "LOSS valid 0.7215\n",
      "Accuracy valid 0.7853\n",
      "mIoU valid 0.5222\n",
      "IoU per class: Background=0.7048, Bleached=0.3843, Non-bleached=0.4775\n",
      "Custom Score valid 0.5237\n",
      "EPOCH 39/50:\n"
     ]
    },
    {
     "name": "stderr",
     "output_type": "stream",
     "text": [
      "Training: 100%|██████████| 197/197 [01:37<00:00,  2.01it/s]\n"
     ]
    },
    {
     "name": "stdout",
     "output_type": "stream",
     "text": [
      "LOSS train 0.2300\n"
     ]
    },
    {
     "name": "stderr",
     "output_type": "stream",
     "text": [
      "Validating: 100%|██████████| 50/50 [00:22<00:00,  2.25it/s]\n"
     ]
    },
    {
     "name": "stdout",
     "output_type": "stream",
     "text": [
      "LOSS valid 0.5704\n",
      "Accuracy valid 0.8072\n",
      "mIoU valid 0.5392\n",
      "IoU per class: Background=0.7374, Bleached=0.3340, Non-bleached=0.5461\n",
      "Custom Score valid 0.5373\n",
      "EPOCH 40/50:\n"
     ]
    },
    {
     "name": "stderr",
     "output_type": "stream",
     "text": [
      "Training: 100%|██████████| 197/197 [01:43<00:00,  1.90it/s]\n"
     ]
    },
    {
     "name": "stdout",
     "output_type": "stream",
     "text": [
      "LOSS train 0.2228\n"
     ]
    },
    {
     "name": "stderr",
     "output_type": "stream",
     "text": [
      "Validating: 100%|██████████| 50/50 [00:25<00:00,  1.96it/s]\n"
     ]
    },
    {
     "name": "stdout",
     "output_type": "stream",
     "text": [
      "LOSS valid 0.6112\n",
      "Accuracy valid 0.7778\n",
      "mIoU valid 0.4980\n",
      "IoU per class: Background=0.7312, Bleached=0.2801, Non-bleached=0.4828\n",
      "Custom Score valid 0.4887\n",
      "EPOCH 41/50:\n"
     ]
    },
    {
     "name": "stderr",
     "output_type": "stream",
     "text": [
      "Training: 100%|██████████| 197/197 [01:51<00:00,  1.76it/s]\n"
     ]
    },
    {
     "name": "stdout",
     "output_type": "stream",
     "text": [
      "LOSS train 0.2455\n"
     ]
    },
    {
     "name": "stderr",
     "output_type": "stream",
     "text": [
      "Validating: 100%|██████████| 50/50 [00:24<00:00,  2.04it/s]\n"
     ]
    },
    {
     "name": "stdout",
     "output_type": "stream",
     "text": [
      "LOSS valid 0.3852\n",
      "Accuracy valid 0.8532\n",
      "mIoU valid 0.5834\n",
      "IoU per class: Background=0.7822, Bleached=0.3871, Non-bleached=0.5809\n",
      "Custom Score valid 0.5817\n",
      "EPOCH 42/50:\n"
     ]
    },
    {
     "name": "stderr",
     "output_type": "stream",
     "text": [
      "Training: 100%|██████████| 197/197 [01:53<00:00,  1.74it/s]\n"
     ]
    },
    {
     "name": "stdout",
     "output_type": "stream",
     "text": [
      "LOSS train 0.2267\n"
     ]
    },
    {
     "name": "stderr",
     "output_type": "stream",
     "text": [
      "Validating: 100%|██████████| 50/50 [00:26<00:00,  1.90it/s]\n"
     ]
    },
    {
     "name": "stdout",
     "output_type": "stream",
     "text": [
      "LOSS valid 0.7475\n",
      "Accuracy valid 0.7379\n",
      "mIoU valid 0.4827\n",
      "IoU per class: Background=0.6905, Bleached=0.3156, Non-bleached=0.4421\n",
      "Custom Score valid 0.4756\n",
      "EPOCH 43/50:\n"
     ]
    },
    {
     "name": "stderr",
     "output_type": "stream",
     "text": [
      "Training: 100%|██████████| 197/197 [01:49<00:00,  1.80it/s]\n"
     ]
    },
    {
     "name": "stdout",
     "output_type": "stream",
     "text": [
      "LOSS train 0.2134\n"
     ]
    },
    {
     "name": "stderr",
     "output_type": "stream",
     "text": [
      "Validating: 100%|██████████| 50/50 [00:23<00:00,  2.12it/s]\n"
     ]
    },
    {
     "name": "stdout",
     "output_type": "stream",
     "text": [
      "LOSS valid 0.5639\n",
      "Accuracy valid 0.8058\n",
      "mIoU valid 0.5138\n",
      "IoU per class: Background=0.7378, Bleached=0.3314, Non-bleached=0.4721\n",
      "Custom Score valid 0.5095\n",
      "EPOCH 44/50:\n"
     ]
    },
    {
     "name": "stderr",
     "output_type": "stream",
     "text": [
      "Training: 100%|██████████| 197/197 [01:42<00:00,  1.93it/s]\n"
     ]
    },
    {
     "name": "stdout",
     "output_type": "stream",
     "text": [
      "LOSS train 0.2099\n"
     ]
    },
    {
     "name": "stderr",
     "output_type": "stream",
     "text": [
      "Validating: 100%|██████████| 50/50 [00:19<00:00,  2.50it/s]\n"
     ]
    },
    {
     "name": "stdout",
     "output_type": "stream",
     "text": [
      "LOSS valid 0.7101\n",
      "Accuracy valid 0.7998\n",
      "mIoU valid 0.5161\n",
      "IoU per class: Background=0.7217, Bleached=0.3259, Non-bleached=0.5007\n",
      "Custom Score valid 0.5153\n",
      "EPOCH 45/50:\n"
     ]
    },
    {
     "name": "stderr",
     "output_type": "stream",
     "text": [
      "Training: 100%|██████████| 197/197 [01:43<00:00,  1.91it/s]\n"
     ]
    },
    {
     "name": "stdout",
     "output_type": "stream",
     "text": [
      "LOSS train 0.2005\n"
     ]
    },
    {
     "name": "stderr",
     "output_type": "stream",
     "text": [
      "Validating: 100%|██████████| 50/50 [00:20<00:00,  2.49it/s]\n"
     ]
    },
    {
     "name": "stdout",
     "output_type": "stream",
     "text": [
      "LOSS valid 0.5620\n",
      "Accuracy valid 0.8167\n",
      "mIoU valid 0.5441\n",
      "IoU per class: Background=0.7429, Bleached=0.3094, Non-bleached=0.5799\n",
      "Custom Score valid 0.5429\n",
      "EPOCH 46/50:\n"
     ]
    },
    {
     "name": "stderr",
     "output_type": "stream",
     "text": [
      "Training: 100%|██████████| 197/197 [01:41<00:00,  1.94it/s]\n"
     ]
    },
    {
     "name": "stdout",
     "output_type": "stream",
     "text": [
      "LOSS train 0.2515\n"
     ]
    },
    {
     "name": "stderr",
     "output_type": "stream",
     "text": [
      "Validating: 100%|██████████| 50/50 [00:20<00:00,  2.40it/s]\n"
     ]
    },
    {
     "name": "stdout",
     "output_type": "stream",
     "text": [
      "LOSS valid 0.4609\n",
      "Accuracy valid 0.8238\n",
      "mIoU valid 0.5612\n",
      "IoU per class: Background=0.7463, Bleached=0.3829, Non-bleached=0.5546\n",
      "Custom Score valid 0.5619\n",
      "EPOCH 47/50:\n"
     ]
    },
    {
     "name": "stderr",
     "output_type": "stream",
     "text": [
      "Training: 100%|██████████| 197/197 [01:46<00:00,  1.85it/s]\n"
     ]
    },
    {
     "name": "stdout",
     "output_type": "stream",
     "text": [
      "LOSS train 0.2227\n"
     ]
    },
    {
     "name": "stderr",
     "output_type": "stream",
     "text": [
      "Validating: 100%|██████████| 50/50 [00:20<00:00,  2.42it/s]\n"
     ]
    },
    {
     "name": "stdout",
     "output_type": "stream",
     "text": [
      "LOSS valid 0.4566\n",
      "Accuracy valid 0.8270\n",
      "mIoU valid 0.5439\n",
      "IoU per class: Background=0.7359, Bleached=0.3345, Non-bleached=0.5612\n",
      "Custom Score valid 0.5467\n",
      "EPOCH 48/50:\n"
     ]
    },
    {
     "name": "stderr",
     "output_type": "stream",
     "text": [
      "Training: 100%|██████████| 197/197 [01:45<00:00,  1.86it/s]\n"
     ]
    },
    {
     "name": "stdout",
     "output_type": "stream",
     "text": [
      "LOSS train 0.2004\n"
     ]
    },
    {
     "name": "stderr",
     "output_type": "stream",
     "text": [
      "Validating: 100%|██████████| 50/50 [00:21<00:00,  2.31it/s]\n"
     ]
    },
    {
     "name": "stdout",
     "output_type": "stream",
     "text": [
      "LOSS valid 0.4867\n",
      "Accuracy valid 0.8353\n",
      "mIoU valid 0.5569\n",
      "IoU per class: Background=0.7651, Bleached=0.3607, Non-bleached=0.5447\n",
      "Custom Score valid 0.5542\n",
      "EPOCH 49/50:\n"
     ]
    },
    {
     "name": "stderr",
     "output_type": "stream",
     "text": [
      "Training: 100%|██████████| 197/197 [01:37<00:00,  2.01it/s]\n"
     ]
    },
    {
     "name": "stdout",
     "output_type": "stream",
     "text": [
      "LOSS train 0.2132\n"
     ]
    },
    {
     "name": "stderr",
     "output_type": "stream",
     "text": [
      "Validating: 100%|██████████| 50/50 [00:21<00:00,  2.31it/s]\n"
     ]
    },
    {
     "name": "stdout",
     "output_type": "stream",
     "text": [
      "LOSS valid 0.6045\n",
      "Accuracy valid 0.7879\n",
      "mIoU valid 0.5170\n",
      "IoU per class: Background=0.7186, Bleached=0.3456, Non-bleached=0.4868\n",
      "Custom Score valid 0.5147\n",
      "EPOCH 50/50:\n"
     ]
    },
    {
     "name": "stderr",
     "output_type": "stream",
     "text": [
      "Training: 100%|██████████| 197/197 [01:40<00:00,  1.97it/s]\n"
     ]
    },
    {
     "name": "stdout",
     "output_type": "stream",
     "text": [
      "LOSS train 0.1963\n"
     ]
    },
    {
     "name": "stderr",
     "output_type": "stream",
     "text": [
      "Validating: 100%|██████████| 50/50 [00:23<00:00,  2.16it/s]\n"
     ]
    },
    {
     "name": "stdout",
     "output_type": "stream",
     "text": [
      "LOSS valid 0.6051\n",
      "Accuracy valid 0.8163\n",
      "mIoU valid 0.5531\n",
      "IoU per class: Background=0.7481, Bleached=0.3722, Non-bleached=0.5391\n",
      "Custom Score valid 0.5512\n",
      "\n",
      "==================== FOLD 3/5 ====================\n",
      "Warning: Model does not have reset_parameters method. Using current weights.\n",
      "EPOCH 1/50:\n"
     ]
    },
    {
     "name": "stderr",
     "output_type": "stream",
     "text": [
      "Training: 100%|██████████| 198/198 [01:43<00:00,  1.91it/s]\n"
     ]
    },
    {
     "name": "stdout",
     "output_type": "stream",
     "text": [
      "LOSS train 0.2329\n"
     ]
    },
    {
     "name": "stderr",
     "output_type": "stream",
     "text": [
      "Validating: 100%|██████████| 49/49 [00:23<00:00,  2.06it/s]\n"
     ]
    },
    {
     "name": "stdout",
     "output_type": "stream",
     "text": [
      "LOSS valid 1.0323\n",
      "Accuracy valid 0.7838\n",
      "mIoU valid 0.5687\n",
      "IoU per class: Background=0.7405, Bleached=0.4747, Non-bleached=0.4908\n",
      "Custom Score valid 0.5636\n",
      "Saved improved model checkpoint to ./checkpoints_yellow_0\\model_fold_3_best_score.pth (Custom Score: 0.5636)\n",
      "EPOCH 2/50:\n"
     ]
    },
    {
     "name": "stderr",
     "output_type": "stream",
     "text": [
      "Training: 100%|██████████| 198/198 [01:51<00:00,  1.77it/s]\n"
     ]
    },
    {
     "name": "stdout",
     "output_type": "stream",
     "text": [
      "LOSS train 0.2289\n"
     ]
    },
    {
     "name": "stderr",
     "output_type": "stream",
     "text": [
      "Validating: 100%|██████████| 49/49 [00:23<00:00,  2.10it/s]\n"
     ]
    },
    {
     "name": "stdout",
     "output_type": "stream",
     "text": [
      "LOSS valid 0.7831\n",
      "Accuracy valid 0.8105\n",
      "mIoU valid 0.5844\n",
      "IoU per class: Background=0.7576, Bleached=0.4708, Non-bleached=0.5248\n",
      "Custom Score valid 0.5811\n",
      "Saved improved model checkpoint to ./checkpoints_yellow_0\\model_fold_3_best_score.pth (Custom Score: 0.5811)\n",
      "EPOCH 3/50:\n"
     ]
    },
    {
     "name": "stderr",
     "output_type": "stream",
     "text": [
      "Training: 100%|██████████| 198/198 [01:51<00:00,  1.78it/s]\n"
     ]
    },
    {
     "name": "stdout",
     "output_type": "stream",
     "text": [
      "LOSS train 0.2456\n"
     ]
    },
    {
     "name": "stderr",
     "output_type": "stream",
     "text": [
      "Validating: 100%|██████████| 49/49 [00:22<00:00,  2.22it/s]\n"
     ]
    },
    {
     "name": "stdout",
     "output_type": "stream",
     "text": [
      "LOSS valid 0.7027\n",
      "Accuracy valid 0.7938\n",
      "mIoU valid 0.5655\n",
      "IoU per class: Background=0.7413, Bleached=0.4569, Non-bleached=0.4982\n",
      "Custom Score valid 0.5619\n",
      "EPOCH 4/50:\n"
     ]
    },
    {
     "name": "stderr",
     "output_type": "stream",
     "text": [
      "Training: 100%|██████████| 198/198 [01:51<00:00,  1.78it/s]\n"
     ]
    },
    {
     "name": "stdout",
     "output_type": "stream",
     "text": [
      "LOSS train 0.2264\n"
     ]
    },
    {
     "name": "stderr",
     "output_type": "stream",
     "text": [
      "Validating: 100%|██████████| 49/49 [00:22<00:00,  2.19it/s]\n"
     ]
    },
    {
     "name": "stdout",
     "output_type": "stream",
     "text": [
      "LOSS valid 0.7283\n",
      "Accuracy valid 0.7752\n",
      "mIoU valid 0.5710\n",
      "IoU per class: Background=0.7567, Bleached=0.4826, Non-bleached=0.4736\n",
      "Custom Score valid 0.5598\n",
      "EPOCH 5/50:\n"
     ]
    },
    {
     "name": "stderr",
     "output_type": "stream",
     "text": [
      "Training: 100%|██████████| 198/198 [01:50<00:00,  1.79it/s]\n"
     ]
    },
    {
     "name": "stdout",
     "output_type": "stream",
     "text": [
      "LOSS train 0.2321\n"
     ]
    },
    {
     "name": "stderr",
     "output_type": "stream",
     "text": [
      "Validating: 100%|██████████| 49/49 [00:23<00:00,  2.11it/s]\n"
     ]
    },
    {
     "name": "stdout",
     "output_type": "stream",
     "text": [
      "LOSS valid 0.6927\n",
      "Accuracy valid 0.8059\n",
      "mIoU valid 0.5598\n",
      "IoU per class: Background=0.7425, Bleached=0.5104, Non-bleached=0.4264\n",
      "Custom Score valid 0.5578\n",
      "EPOCH 6/50:\n"
     ]
    },
    {
     "name": "stderr",
     "output_type": "stream",
     "text": [
      "Training: 100%|██████████| 198/198 [01:46<00:00,  1.85it/s]\n"
     ]
    },
    {
     "name": "stdout",
     "output_type": "stream",
     "text": [
      "LOSS train 0.2278\n"
     ]
    },
    {
     "name": "stderr",
     "output_type": "stream",
     "text": [
      "Validating: 100%|██████████| 49/49 [00:19<00:00,  2.57it/s]\n"
     ]
    },
    {
     "name": "stdout",
     "output_type": "stream",
     "text": [
      "LOSS valid 1.2050\n",
      "Accuracy valid 0.7504\n",
      "mIoU valid 0.5111\n",
      "IoU per class: Background=0.7024, Bleached=0.4216, Non-bleached=0.4092\n",
      "Custom Score valid 0.5054\n",
      "EPOCH 7/50:\n"
     ]
    },
    {
     "name": "stderr",
     "output_type": "stream",
     "text": [
      "Training: 100%|██████████| 198/198 [01:43<00:00,  1.90it/s]\n"
     ]
    },
    {
     "name": "stdout",
     "output_type": "stream",
     "text": [
      "LOSS train 0.2179\n"
     ]
    },
    {
     "name": "stderr",
     "output_type": "stream",
     "text": [
      "Validating: 100%|██████████| 49/49 [00:19<00:00,  2.54it/s]\n"
     ]
    },
    {
     "name": "stdout",
     "output_type": "stream",
     "text": [
      "LOSS valid 0.6749\n",
      "Accuracy valid 0.8082\n",
      "mIoU valid 0.5777\n",
      "IoU per class: Background=0.7781, Bleached=0.4567, Non-bleached=0.4983\n",
      "Custom Score valid 0.5677\n",
      "EPOCH 8/50:\n"
     ]
    },
    {
     "name": "stderr",
     "output_type": "stream",
     "text": [
      "Training: 100%|██████████| 198/198 [01:42<00:00,  1.94it/s]\n"
     ]
    },
    {
     "name": "stdout",
     "output_type": "stream",
     "text": [
      "LOSS train 0.2132\n"
     ]
    },
    {
     "name": "stderr",
     "output_type": "stream",
     "text": [
      "Validating: 100%|██████████| 49/49 [00:19<00:00,  2.50it/s]\n"
     ]
    },
    {
     "name": "stdout",
     "output_type": "stream",
     "text": [
      "LOSS valid 1.1364\n",
      "Accuracy valid 0.7369\n",
      "mIoU valid 0.5018\n",
      "IoU per class: Background=0.7004, Bleached=0.4267, Non-bleached=0.3782\n",
      "Custom Score valid 0.4932\n",
      "EPOCH 9/50:\n"
     ]
    },
    {
     "name": "stderr",
     "output_type": "stream",
     "text": [
      "Training: 100%|██████████| 198/198 [01:37<00:00,  2.02it/s]\n"
     ]
    },
    {
     "name": "stdout",
     "output_type": "stream",
     "text": [
      "LOSS train 0.2023\n"
     ]
    },
    {
     "name": "stderr",
     "output_type": "stream",
     "text": [
      "Validating: 100%|██████████| 49/49 [00:19<00:00,  2.54it/s]\n"
     ]
    },
    {
     "name": "stdout",
     "output_type": "stream",
     "text": [
      "LOSS valid 0.6805\n",
      "Accuracy valid 0.7973\n",
      "mIoU valid 0.5707\n",
      "IoU per class: Background=0.7529, Bleached=0.4803, Non-bleached=0.4788\n",
      "Custom Score valid 0.5650\n",
      "EPOCH 10/50:\n"
     ]
    },
    {
     "name": "stderr",
     "output_type": "stream",
     "text": [
      "Training: 100%|██████████| 198/198 [01:40<00:00,  1.98it/s]\n"
     ]
    },
    {
     "name": "stdout",
     "output_type": "stream",
     "text": [
      "LOSS train 0.2181\n"
     ]
    },
    {
     "name": "stderr",
     "output_type": "stream",
     "text": [
      "Validating: 100%|██████████| 49/49 [00:19<00:00,  2.52it/s]\n"
     ]
    },
    {
     "name": "stdout",
     "output_type": "stream",
     "text": [
      "LOSS valid 0.5318\n",
      "Accuracy valid 0.8020\n",
      "mIoU valid 0.5723\n",
      "IoU per class: Background=0.7623, Bleached=0.4675, Non-bleached=0.4872\n",
      "Custom Score valid 0.5651\n",
      "EPOCH 11/50:\n"
     ]
    },
    {
     "name": "stderr",
     "output_type": "stream",
     "text": [
      "Training: 100%|██████████| 198/198 [01:43<00:00,  1.92it/s]\n"
     ]
    },
    {
     "name": "stdout",
     "output_type": "stream",
     "text": [
      "LOSS train 0.2092\n"
     ]
    },
    {
     "name": "stderr",
     "output_type": "stream",
     "text": [
      "Validating: 100%|██████████| 49/49 [00:20<00:00,  2.40it/s]\n"
     ]
    },
    {
     "name": "stdout",
     "output_type": "stream",
     "text": [
      "LOSS valid 0.5890\n",
      "Accuracy valid 0.7855\n",
      "mIoU valid 0.5621\n",
      "IoU per class: Background=0.7356, Bleached=0.4784, Non-bleached=0.4723\n",
      "Custom Score valid 0.5582\n",
      "EPOCH 12/50:\n"
     ]
    },
    {
     "name": "stderr",
     "output_type": "stream",
     "text": [
      "Training: 100%|██████████| 198/198 [01:55<00:00,  1.71it/s]\n"
     ]
    },
    {
     "name": "stdout",
     "output_type": "stream",
     "text": [
      "LOSS train 0.2361\n"
     ]
    },
    {
     "name": "stderr",
     "output_type": "stream",
     "text": [
      "Validating: 100%|██████████| 49/49 [00:21<00:00,  2.30it/s]\n"
     ]
    },
    {
     "name": "stdout",
     "output_type": "stream",
     "text": [
      "LOSS valid 0.8356\n",
      "Accuracy valid 0.7953\n",
      "mIoU valid 0.5634\n",
      "IoU per class: Background=0.7433, Bleached=0.4590, Non-bleached=0.4879\n",
      "Custom Score valid 0.5594\n",
      "EPOCH 13/50:\n"
     ]
    },
    {
     "name": "stderr",
     "output_type": "stream",
     "text": [
      "Training: 100%|██████████| 198/198 [01:45<00:00,  1.88it/s]\n"
     ]
    },
    {
     "name": "stdout",
     "output_type": "stream",
     "text": [
      "LOSS train 0.2247\n"
     ]
    },
    {
     "name": "stderr",
     "output_type": "stream",
     "text": [
      "Validating: 100%|██████████| 49/49 [00:22<00:00,  2.20it/s]\n"
     ]
    },
    {
     "name": "stdout",
     "output_type": "stream",
     "text": [
      "LOSS valid 1.1647\n",
      "Accuracy valid 0.7381\n",
      "mIoU valid 0.5156\n",
      "IoU per class: Background=0.7078, Bleached=0.4334, Non-bleached=0.4055\n",
      "Custom Score valid 0.5062\n",
      "EPOCH 14/50:\n"
     ]
    },
    {
     "name": "stderr",
     "output_type": "stream",
     "text": [
      "Training: 100%|██████████| 198/198 [01:44<00:00,  1.89it/s]\n"
     ]
    },
    {
     "name": "stdout",
     "output_type": "stream",
     "text": [
      "LOSS train 0.2138\n"
     ]
    },
    {
     "name": "stderr",
     "output_type": "stream",
     "text": [
      "Validating: 100%|██████████| 49/49 [00:20<00:00,  2.42it/s]\n"
     ]
    },
    {
     "name": "stdout",
     "output_type": "stream",
     "text": [
      "LOSS valid 0.8045\n",
      "Accuracy valid 0.8113\n",
      "mIoU valid 0.5874\n",
      "IoU per class: Background=0.7691, Bleached=0.4903, Non-bleached=0.5028\n",
      "Custom Score valid 0.5813\n",
      "Saved improved model checkpoint to ./checkpoints_yellow_0\\model_fold_3_best_score.pth (Custom Score: 0.5813)\n",
      "EPOCH 15/50:\n"
     ]
    },
    {
     "name": "stderr",
     "output_type": "stream",
     "text": [
      "Training: 100%|██████████| 198/198 [01:45<00:00,  1.88it/s]\n"
     ]
    },
    {
     "name": "stdout",
     "output_type": "stream",
     "text": [
      "LOSS train 0.2053\n"
     ]
    },
    {
     "name": "stderr",
     "output_type": "stream",
     "text": [
      "Validating: 100%|██████████| 49/49 [00:20<00:00,  2.38it/s]\n"
     ]
    },
    {
     "name": "stdout",
     "output_type": "stream",
     "text": [
      "LOSS valid 0.8689\n",
      "Accuracy valid 0.7889\n",
      "mIoU valid 0.5744\n",
      "IoU per class: Background=0.7570, Bleached=0.5022, Non-bleached=0.4642\n",
      "Custom Score valid 0.5662\n",
      "EPOCH 16/50:\n"
     ]
    },
    {
     "name": "stderr",
     "output_type": "stream",
     "text": [
      "Training: 100%|██████████| 198/198 [01:42<00:00,  1.93it/s]\n"
     ]
    },
    {
     "name": "stdout",
     "output_type": "stream",
     "text": [
      "LOSS train 0.2052\n"
     ]
    },
    {
     "name": "stderr",
     "output_type": "stream",
     "text": [
      "Validating: 100%|██████████| 49/49 [00:20<00:00,  2.38it/s]\n"
     ]
    },
    {
     "name": "stdout",
     "output_type": "stream",
     "text": [
      "LOSS valid 1.2853\n",
      "Accuracy valid 0.7690\n",
      "mIoU valid 0.5630\n",
      "IoU per class: Background=0.7285, Bleached=0.4845, Non-bleached=0.4760\n",
      "Custom Score valid 0.5579\n",
      "EPOCH 17/50:\n"
     ]
    },
    {
     "name": "stderr",
     "output_type": "stream",
     "text": [
      "Training: 100%|██████████| 198/198 [01:41<00:00,  1.95it/s]\n"
     ]
    },
    {
     "name": "stdout",
     "output_type": "stream",
     "text": [
      "LOSS train 0.2097\n"
     ]
    },
    {
     "name": "stderr",
     "output_type": "stream",
     "text": [
      "Validating: 100%|██████████| 49/49 [00:23<00:00,  2.12it/s]\n"
     ]
    },
    {
     "name": "stdout",
     "output_type": "stream",
     "text": [
      "LOSS valid 0.6098\n",
      "Accuracy valid 0.8403\n",
      "mIoU valid 0.6185\n",
      "IoU per class: Background=0.7923, Bleached=0.5027, Non-bleached=0.5606\n",
      "Custom Score valid 0.6142\n",
      "Saved improved model checkpoint to ./checkpoints_yellow_0\\model_fold_3_best_score.pth (Custom Score: 0.6142)\n",
      "EPOCH 18/50:\n"
     ]
    },
    {
     "name": "stderr",
     "output_type": "stream",
     "text": [
      "Training: 100%|██████████| 198/198 [01:50<00:00,  1.79it/s]\n"
     ]
    },
    {
     "name": "stdout",
     "output_type": "stream",
     "text": [
      "LOSS train 0.2091\n"
     ]
    },
    {
     "name": "stderr",
     "output_type": "stream",
     "text": [
      "Validating: 100%|██████████| 49/49 [00:21<00:00,  2.30it/s]\n"
     ]
    },
    {
     "name": "stdout",
     "output_type": "stream",
     "text": [
      "LOSS valid 0.9066\n",
      "Accuracy valid 0.7837\n",
      "mIoU valid 0.5613\n",
      "IoU per class: Background=0.7316, Bleached=0.4983, Non-bleached=0.4542\n",
      "Custom Score valid 0.5581\n",
      "EPOCH 19/50:\n"
     ]
    },
    {
     "name": "stderr",
     "output_type": "stream",
     "text": [
      "Training: 100%|██████████| 198/198 [01:40<00:00,  1.96it/s]\n"
     ]
    },
    {
     "name": "stdout",
     "output_type": "stream",
     "text": [
      "LOSS train 0.2001\n"
     ]
    },
    {
     "name": "stderr",
     "output_type": "stream",
     "text": [
      "Validating: 100%|██████████| 49/49 [00:20<00:00,  2.40it/s]\n"
     ]
    },
    {
     "name": "stdout",
     "output_type": "stream",
     "text": [
      "LOSS valid 1.1085\n",
      "Accuracy valid 0.7892\n",
      "mIoU valid 0.5439\n",
      "IoU per class: Background=0.7400, Bleached=0.4307, Non-bleached=0.4610\n",
      "Custom Score valid 0.5381\n",
      "EPOCH 20/50:\n"
     ]
    },
    {
     "name": "stderr",
     "output_type": "stream",
     "text": [
      "Training: 100%|██████████| 198/198 [01:36<00:00,  2.05it/s]\n"
     ]
    },
    {
     "name": "stdout",
     "output_type": "stream",
     "text": [
      "LOSS train 0.2010\n"
     ]
    },
    {
     "name": "stderr",
     "output_type": "stream",
     "text": [
      "Validating: 100%|██████████| 49/49 [00:20<00:00,  2.42it/s]\n"
     ]
    },
    {
     "name": "stdout",
     "output_type": "stream",
     "text": [
      "LOSS valid 0.9991\n",
      "Accuracy valid 0.7813\n",
      "mIoU valid 0.5568\n",
      "IoU per class: Background=0.7370, Bleached=0.4705, Non-bleached=0.4630\n",
      "Custom Score valid 0.5512\n",
      "EPOCH 21/50:\n"
     ]
    },
    {
     "name": "stderr",
     "output_type": "stream",
     "text": [
      "Training: 100%|██████████| 198/198 [01:36<00:00,  2.06it/s]\n"
     ]
    },
    {
     "name": "stdout",
     "output_type": "stream",
     "text": [
      "LOSS train 0.2081\n"
     ]
    },
    {
     "name": "stderr",
     "output_type": "stream",
     "text": [
      "Validating: 100%|██████████| 49/49 [00:20<00:00,  2.36it/s]\n"
     ]
    },
    {
     "name": "stdout",
     "output_type": "stream",
     "text": [
      "LOSS valid 1.1301\n",
      "Accuracy valid 0.7762\n",
      "mIoU valid 0.5539\n",
      "IoU per class: Background=0.7191, Bleached=0.4819, Non-bleached=0.4608\n",
      "Custom Score valid 0.5521\n",
      "EPOCH 22/50:\n"
     ]
    },
    {
     "name": "stderr",
     "output_type": "stream",
     "text": [
      "Training: 100%|██████████| 198/198 [01:39<00:00,  1.99it/s]\n"
     ]
    },
    {
     "name": "stdout",
     "output_type": "stream",
     "text": [
      "LOSS train 0.1881\n"
     ]
    },
    {
     "name": "stderr",
     "output_type": "stream",
     "text": [
      "Validating: 100%|██████████| 49/49 [00:20<00:00,  2.39it/s]\n"
     ]
    },
    {
     "name": "stdout",
     "output_type": "stream",
     "text": [
      "LOSS valid 1.3159\n",
      "Accuracy valid 0.7856\n",
      "mIoU valid 0.5616\n",
      "IoU per class: Background=0.7422, Bleached=0.4733, Non-bleached=0.4695\n",
      "Custom Score valid 0.5559\n",
      "EPOCH 23/50:\n"
     ]
    },
    {
     "name": "stderr",
     "output_type": "stream",
     "text": [
      "Training: 100%|██████████| 198/198 [01:45<00:00,  1.87it/s]\n"
     ]
    },
    {
     "name": "stdout",
     "output_type": "stream",
     "text": [
      "LOSS train 0.2145\n"
     ]
    },
    {
     "name": "stderr",
     "output_type": "stream",
     "text": [
      "Validating: 100%|██████████| 49/49 [00:22<00:00,  2.17it/s]\n"
     ]
    },
    {
     "name": "stdout",
     "output_type": "stream",
     "text": [
      "LOSS valid 2.4575\n",
      "Accuracy valid 0.6590\n",
      "mIoU valid 0.4350\n",
      "IoU per class: Background=0.6540, Bleached=0.3645, Non-bleached=0.2864\n",
      "Custom Score valid 0.4184\n",
      "EPOCH 24/50:\n"
     ]
    },
    {
     "name": "stderr",
     "output_type": "stream",
     "text": [
      "Training: 100%|██████████| 198/198 [01:49<00:00,  1.81it/s]\n"
     ]
    },
    {
     "name": "stdout",
     "output_type": "stream",
     "text": [
      "LOSS train 0.2282\n"
     ]
    },
    {
     "name": "stderr",
     "output_type": "stream",
     "text": [
      "Validating: 100%|██████████| 49/49 [00:20<00:00,  2.35it/s]\n"
     ]
    },
    {
     "name": "stdout",
     "output_type": "stream",
     "text": [
      "LOSS valid 1.0822\n",
      "Accuracy valid 0.7782\n",
      "mIoU valid 0.5340\n",
      "IoU per class: Background=0.7400, Bleached=0.3989, Non-bleached=0.4632\n",
      "Custom Score valid 0.5252\n",
      "EPOCH 25/50:\n"
     ]
    },
    {
     "name": "stderr",
     "output_type": "stream",
     "text": [
      "Training: 100%|██████████| 198/198 [01:48<00:00,  1.82it/s]\n"
     ]
    },
    {
     "name": "stdout",
     "output_type": "stream",
     "text": [
      "LOSS train 0.2057\n"
     ]
    },
    {
     "name": "stderr",
     "output_type": "stream",
     "text": [
      "Validating: 100%|██████████| 49/49 [00:19<00:00,  2.52it/s]\n"
     ]
    },
    {
     "name": "stdout",
     "output_type": "stream",
     "text": [
      "LOSS valid 1.0153\n",
      "Accuracy valid 0.7765\n",
      "mIoU valid 0.5271\n",
      "IoU per class: Background=0.7370, Bleached=0.4212, Non-bleached=0.4231\n",
      "Custom Score valid 0.5182\n",
      "EPOCH 26/50:\n"
     ]
    },
    {
     "name": "stderr",
     "output_type": "stream",
     "text": [
      "Training: 100%|██████████| 198/198 [01:38<00:00,  2.00it/s]\n"
     ]
    },
    {
     "name": "stdout",
     "output_type": "stream",
     "text": [
      "LOSS train 0.2289\n"
     ]
    },
    {
     "name": "stderr",
     "output_type": "stream",
     "text": [
      "Validating: 100%|██████████| 49/49 [00:22<00:00,  2.13it/s]\n"
     ]
    },
    {
     "name": "stdout",
     "output_type": "stream",
     "text": [
      "LOSS valid 1.2412\n",
      "Accuracy valid 0.7585\n",
      "mIoU valid 0.5030\n",
      "IoU per class: Background=0.7288, Bleached=0.3588, Non-bleached=0.4215\n",
      "Custom Score valid 0.4909\n",
      "EPOCH 27/50:\n"
     ]
    },
    {
     "name": "stderr",
     "output_type": "stream",
     "text": [
      "Training: 100%|██████████| 198/198 [01:43<00:00,  1.90it/s]\n"
     ]
    },
    {
     "name": "stdout",
     "output_type": "stream",
     "text": [
      "LOSS train 0.2180\n"
     ]
    },
    {
     "name": "stderr",
     "output_type": "stream",
     "text": [
      "Validating: 100%|██████████| 49/49 [00:23<00:00,  2.12it/s]\n"
     ]
    },
    {
     "name": "stdout",
     "output_type": "stream",
     "text": [
      "LOSS valid 1.3263\n",
      "Accuracy valid 0.7834\n",
      "mIoU valid 0.5621\n",
      "IoU per class: Background=0.7319, Bleached=0.5070, Non-bleached=0.4473\n",
      "Custom Score valid 0.5588\n",
      "EPOCH 28/50:\n"
     ]
    },
    {
     "name": "stderr",
     "output_type": "stream",
     "text": [
      "Training: 100%|██████████| 198/198 [01:46<00:00,  1.86it/s]\n"
     ]
    },
    {
     "name": "stdout",
     "output_type": "stream",
     "text": [
      "LOSS train 0.1987\n"
     ]
    },
    {
     "name": "stderr",
     "output_type": "stream",
     "text": [
      "Validating: 100%|██████████| 49/49 [00:22<00:00,  2.14it/s]\n"
     ]
    },
    {
     "name": "stdout",
     "output_type": "stream",
     "text": [
      "LOSS valid 0.7942\n",
      "Accuracy valid 0.7964\n",
      "mIoU valid 0.5620\n",
      "IoU per class: Background=0.7441, Bleached=0.4790, Non-bleached=0.4629\n",
      "Custom Score valid 0.5579\n",
      "EPOCH 29/50:\n"
     ]
    },
    {
     "name": "stderr",
     "output_type": "stream",
     "text": [
      "Training: 100%|██████████| 198/198 [01:45<00:00,  1.87it/s]\n"
     ]
    },
    {
     "name": "stdout",
     "output_type": "stream",
     "text": [
      "LOSS train 0.2264\n"
     ]
    },
    {
     "name": "stderr",
     "output_type": "stream",
     "text": [
      "Validating: 100%|██████████| 49/49 [00:20<00:00,  2.37it/s]\n"
     ]
    },
    {
     "name": "stdout",
     "output_type": "stream",
     "text": [
      "LOSS valid 1.5235\n",
      "Accuracy valid 0.7978\n",
      "mIoU valid 0.5678\n",
      "IoU per class: Background=0.7437, Bleached=0.4528, Non-bleached=0.5068\n",
      "Custom Score valid 0.5645\n",
      "EPOCH 30/50:\n"
     ]
    },
    {
     "name": "stderr",
     "output_type": "stream",
     "text": [
      "Training: 100%|██████████| 198/198 [01:45<00:00,  1.88it/s]\n"
     ]
    },
    {
     "name": "stdout",
     "output_type": "stream",
     "text": [
      "LOSS train 0.1943\n"
     ]
    },
    {
     "name": "stderr",
     "output_type": "stream",
     "text": [
      "Validating: 100%|██████████| 49/49 [00:20<00:00,  2.41it/s]\n"
     ]
    },
    {
     "name": "stdout",
     "output_type": "stream",
     "text": [
      "LOSS valid 1.6890\n",
      "Accuracy valid 0.7810\n",
      "mIoU valid 0.5448\n",
      "IoU per class: Background=0.7321, Bleached=0.4374, Non-bleached=0.4648\n",
      "Custom Score valid 0.5396\n",
      "EPOCH 31/50:\n"
     ]
    },
    {
     "name": "stderr",
     "output_type": "stream",
     "text": [
      "Training: 100%|██████████| 198/198 [01:44<00:00,  1.89it/s]\n"
     ]
    },
    {
     "name": "stdout",
     "output_type": "stream",
     "text": [
      "LOSS train 0.1850\n"
     ]
    },
    {
     "name": "stderr",
     "output_type": "stream",
     "text": [
      "Validating: 100%|██████████| 49/49 [00:19<00:00,  2.52it/s]\n"
     ]
    },
    {
     "name": "stdout",
     "output_type": "stream",
     "text": [
      "LOSS valid 1.2830\n",
      "Accuracy valid 0.7971\n",
      "mIoU valid 0.5538\n",
      "IoU per class: Background=0.7486, Bleached=0.4375, Non-bleached=0.4754\n",
      "Custom Score valid 0.5479\n",
      "EPOCH 32/50:\n"
     ]
    },
    {
     "name": "stderr",
     "output_type": "stream",
     "text": [
      "Training: 100%|██████████| 198/198 [01:46<00:00,  1.86it/s]\n"
     ]
    },
    {
     "name": "stdout",
     "output_type": "stream",
     "text": [
      "LOSS train 0.2031\n"
     ]
    },
    {
     "name": "stderr",
     "output_type": "stream",
     "text": [
      "Validating: 100%|██████████| 49/49 [00:20<00:00,  2.34it/s]\n"
     ]
    },
    {
     "name": "stdout",
     "output_type": "stream",
     "text": [
      "LOSS valid 1.2233\n",
      "Accuracy valid 0.8075\n",
      "mIoU valid 0.5733\n",
      "IoU per class: Background=0.7642, Bleached=0.4483, Non-bleached=0.5073\n",
      "Custom Score valid 0.5667\n",
      "EPOCH 33/50:\n"
     ]
    },
    {
     "name": "stderr",
     "output_type": "stream",
     "text": [
      "Training: 100%|██████████| 198/198 [01:43<00:00,  1.92it/s]\n"
     ]
    },
    {
     "name": "stdout",
     "output_type": "stream",
     "text": [
      "LOSS train 0.2048\n"
     ]
    },
    {
     "name": "stderr",
     "output_type": "stream",
     "text": [
      "Validating: 100%|██████████| 49/49 [00:19<00:00,  2.50it/s]\n"
     ]
    },
    {
     "name": "stdout",
     "output_type": "stream",
     "text": [
      "LOSS valid 1.1631\n",
      "Accuracy valid 0.7695\n",
      "mIoU valid 0.5396\n",
      "IoU per class: Background=0.7220, Bleached=0.4417, Non-bleached=0.4551\n",
      "Custom Score valid 0.5345\n",
      "EPOCH 34/50:\n"
     ]
    },
    {
     "name": "stderr",
     "output_type": "stream",
     "text": [
      "Training: 100%|██████████| 198/198 [01:42<00:00,  1.92it/s]\n"
     ]
    },
    {
     "name": "stdout",
     "output_type": "stream",
     "text": [
      "LOSS train 0.1966\n"
     ]
    },
    {
     "name": "stderr",
     "output_type": "stream",
     "text": [
      "Validating: 100%|██████████| 49/49 [00:20<00:00,  2.37it/s]\n"
     ]
    },
    {
     "name": "stdout",
     "output_type": "stream",
     "text": [
      "LOSS valid 1.4727\n",
      "Accuracy valid 0.7563\n",
      "mIoU valid 0.5279\n",
      "IoU per class: Background=0.7186, Bleached=0.4245, Non-bleached=0.4405\n",
      "Custom Score valid 0.5202\n",
      "EPOCH 35/50:\n"
     ]
    },
    {
     "name": "stderr",
     "output_type": "stream",
     "text": [
      "Training: 100%|██████████| 198/198 [01:45<00:00,  1.87it/s]\n"
     ]
    },
    {
     "name": "stdout",
     "output_type": "stream",
     "text": [
      "LOSS train 0.1873\n"
     ]
    },
    {
     "name": "stderr",
     "output_type": "stream",
     "text": [
      "Validating: 100%|██████████| 49/49 [00:18<00:00,  2.58it/s]\n"
     ]
    },
    {
     "name": "stdout",
     "output_type": "stream",
     "text": [
      "LOSS valid 1.1947\n",
      "Accuracy valid 0.7788\n",
      "mIoU valid 0.5410\n",
      "IoU per class: Background=0.7244, Bleached=0.4395, Non-bleached=0.4592\n",
      "Custom Score valid 0.5372\n",
      "EPOCH 36/50:\n"
     ]
    },
    {
     "name": "stderr",
     "output_type": "stream",
     "text": [
      "Training: 100%|██████████| 198/198 [01:40<00:00,  1.98it/s]\n"
     ]
    },
    {
     "name": "stdout",
     "output_type": "stream",
     "text": [
      "LOSS train 0.1835\n"
     ]
    },
    {
     "name": "stderr",
     "output_type": "stream",
     "text": [
      "Validating: 100%|██████████| 49/49 [00:19<00:00,  2.56it/s]\n"
     ]
    },
    {
     "name": "stdout",
     "output_type": "stream",
     "text": [
      "LOSS valid 1.1075\n",
      "Accuracy valid 0.8048\n",
      "mIoU valid 0.5734\n",
      "IoU per class: Background=0.7593, Bleached=0.4555, Non-bleached=0.5056\n",
      "Custom Score valid 0.5677\n",
      "EPOCH 37/50:\n"
     ]
    },
    {
     "name": "stderr",
     "output_type": "stream",
     "text": [
      "Training: 100%|██████████| 198/198 [01:42<00:00,  1.93it/s]\n"
     ]
    },
    {
     "name": "stdout",
     "output_type": "stream",
     "text": [
      "LOSS train 0.1892\n"
     ]
    },
    {
     "name": "stderr",
     "output_type": "stream",
     "text": [
      "Validating: 100%|██████████| 49/49 [00:19<00:00,  2.53it/s]\n"
     ]
    },
    {
     "name": "stdout",
     "output_type": "stream",
     "text": [
      "LOSS valid 1.2780\n",
      "Accuracy valid 0.7985\n",
      "mIoU valid 0.5754\n",
      "IoU per class: Background=0.7441, Bleached=0.4904, Non-bleached=0.4918\n",
      "Custom Score valid 0.5728\n",
      "EPOCH 38/50:\n"
     ]
    },
    {
     "name": "stderr",
     "output_type": "stream",
     "text": [
      "Training: 100%|██████████| 198/198 [01:40<00:00,  1.98it/s]\n"
     ]
    },
    {
     "name": "stdout",
     "output_type": "stream",
     "text": [
      "LOSS train 0.1820\n"
     ]
    },
    {
     "name": "stderr",
     "output_type": "stream",
     "text": [
      "Validating: 100%|██████████| 49/49 [00:22<00:00,  2.13it/s]\n"
     ]
    },
    {
     "name": "stdout",
     "output_type": "stream",
     "text": [
      "LOSS valid 1.0214\n",
      "Accuracy valid 0.8121\n",
      "mIoU valid 0.5789\n",
      "IoU per class: Background=0.7473, Bleached=0.4605, Non-bleached=0.5290\n",
      "Custom Score valid 0.5784\n",
      "EPOCH 39/50:\n"
     ]
    },
    {
     "name": "stderr",
     "output_type": "stream",
     "text": [
      "Training: 100%|██████████| 198/198 [01:43<00:00,  1.91it/s]\n"
     ]
    },
    {
     "name": "stdout",
     "output_type": "stream",
     "text": [
      "LOSS train 0.1717\n"
     ]
    },
    {
     "name": "stderr",
     "output_type": "stream",
     "text": [
      "Validating: 100%|██████████| 49/49 [00:22<00:00,  2.17it/s]\n"
     ]
    },
    {
     "name": "stdout",
     "output_type": "stream",
     "text": [
      "LOSS valid 0.9355\n",
      "Accuracy valid 0.7728\n",
      "mIoU valid 0.5535\n",
      "IoU per class: Background=0.7239, Bleached=0.4792, Non-bleached=0.4575\n",
      "Custom Score valid 0.5497\n",
      "EPOCH 40/50:\n"
     ]
    },
    {
     "name": "stderr",
     "output_type": "stream",
     "text": [
      "Training: 100%|██████████| 198/198 [01:38<00:00,  2.01it/s]\n"
     ]
    },
    {
     "name": "stdout",
     "output_type": "stream",
     "text": [
      "LOSS train 0.1808\n"
     ]
    },
    {
     "name": "stderr",
     "output_type": "stream",
     "text": [
      "Validating: 100%|██████████| 49/49 [00:24<00:00,  2.03it/s]\n"
     ]
    },
    {
     "name": "stdout",
     "output_type": "stream",
     "text": [
      "LOSS valid 1.1806\n",
      "Accuracy valid 0.8045\n",
      "mIoU valid 0.5646\n",
      "IoU per class: Background=0.7499, Bleached=0.4630, Non-bleached=0.4810\n",
      "Custom Score valid 0.5607\n",
      "EPOCH 41/50:\n"
     ]
    },
    {
     "name": "stderr",
     "output_type": "stream",
     "text": [
      "Training: 100%|██████████| 198/198 [01:36<00:00,  2.04it/s]\n"
     ]
    },
    {
     "name": "stdout",
     "output_type": "stream",
     "text": [
      "LOSS train 0.1838\n"
     ]
    },
    {
     "name": "stderr",
     "output_type": "stream",
     "text": [
      "Validating: 100%|██████████| 49/49 [00:21<00:00,  2.33it/s]\n"
     ]
    },
    {
     "name": "stdout",
     "output_type": "stream",
     "text": [
      "LOSS valid 1.3075\n",
      "Accuracy valid 0.7928\n",
      "mIoU valid 0.5659\n",
      "IoU per class: Background=0.7588, Bleached=0.4751, Non-bleached=0.4638\n",
      "Custom Score valid 0.5573\n",
      "EPOCH 42/50:\n"
     ]
    },
    {
     "name": "stderr",
     "output_type": "stream",
     "text": [
      "Training: 100%|██████████| 198/198 [01:43<00:00,  1.92it/s]\n"
     ]
    },
    {
     "name": "stdout",
     "output_type": "stream",
     "text": [
      "LOSS train 0.1783\n"
     ]
    },
    {
     "name": "stderr",
     "output_type": "stream",
     "text": [
      "Validating: 100%|██████████| 49/49 [00:20<00:00,  2.41it/s]\n"
     ]
    },
    {
     "name": "stdout",
     "output_type": "stream",
     "text": [
      "LOSS valid 1.0092\n",
      "Accuracy valid 0.8021\n",
      "mIoU valid 0.5632\n",
      "IoU per class: Background=0.7464, Bleached=0.4659, Non-bleached=0.4772\n",
      "Custom Score valid 0.5597\n",
      "EPOCH 43/50:\n"
     ]
    },
    {
     "name": "stderr",
     "output_type": "stream",
     "text": [
      "Training: 100%|██████████| 198/198 [01:39<00:00,  2.00it/s]\n"
     ]
    },
    {
     "name": "stdout",
     "output_type": "stream",
     "text": [
      "LOSS train 0.2283\n"
     ]
    },
    {
     "name": "stderr",
     "output_type": "stream",
     "text": [
      "Validating: 100%|██████████| 49/49 [00:22<00:00,  2.20it/s]\n"
     ]
    },
    {
     "name": "stdout",
     "output_type": "stream",
     "text": [
      "LOSS valid 1.3600\n",
      "Accuracy valid 0.7713\n",
      "mIoU valid 0.5532\n",
      "IoU per class: Background=0.7172, Bleached=0.4748, Non-bleached=0.4678\n",
      "Custom Score valid 0.5510\n",
      "EPOCH 44/50:\n"
     ]
    },
    {
     "name": "stderr",
     "output_type": "stream",
     "text": [
      "Training: 100%|██████████| 198/198 [01:40<00:00,  1.98it/s]\n"
     ]
    },
    {
     "name": "stdout",
     "output_type": "stream",
     "text": [
      "LOSS train 0.1881\n"
     ]
    },
    {
     "name": "stderr",
     "output_type": "stream",
     "text": [
      "Validating: 100%|██████████| 49/49 [00:20<00:00,  2.44it/s]\n"
     ]
    },
    {
     "name": "stdout",
     "output_type": "stream",
     "text": [
      "LOSS valid 1.5319\n",
      "Accuracy valid 0.7667\n",
      "mIoU valid 0.5269\n",
      "IoU per class: Background=0.7149, Bleached=0.4478, Non-bleached=0.4180\n",
      "Custom Score valid 0.5222\n",
      "EPOCH 45/50:\n"
     ]
    },
    {
     "name": "stderr",
     "output_type": "stream",
     "text": [
      "Training: 100%|██████████| 198/198 [01:40<00:00,  1.97it/s]\n"
     ]
    },
    {
     "name": "stdout",
     "output_type": "stream",
     "text": [
      "LOSS train 0.1846\n"
     ]
    },
    {
     "name": "stderr",
     "output_type": "stream",
     "text": [
      "Validating: 100%|██████████| 49/49 [00:19<00:00,  2.57it/s]\n"
     ]
    },
    {
     "name": "stdout",
     "output_type": "stream",
     "text": [
      "LOSS valid 1.0013\n",
      "Accuracy valid 0.7999\n",
      "mIoU valid 0.5792\n",
      "IoU per class: Background=0.7530, Bleached=0.4918, Non-bleached=0.4928\n",
      "Custom Score valid 0.5747\n",
      "EPOCH 46/50:\n"
     ]
    },
    {
     "name": "stderr",
     "output_type": "stream",
     "text": [
      "Training: 100%|██████████| 198/198 [01:39<00:00,  1.99it/s]\n"
     ]
    },
    {
     "name": "stdout",
     "output_type": "stream",
     "text": [
      "LOSS train 0.1870\n"
     ]
    },
    {
     "name": "stderr",
     "output_type": "stream",
     "text": [
      "Validating: 100%|██████████| 49/49 [00:21<00:00,  2.25it/s]\n"
     ]
    },
    {
     "name": "stdout",
     "output_type": "stream",
     "text": [
      "LOSS valid 0.8982\n",
      "Accuracy valid 0.7831\n",
      "mIoU valid 0.5304\n",
      "IoU per class: Background=0.7180, Bleached=0.4140, Non-bleached=0.4591\n",
      "Custom Score valid 0.5284\n",
      "EPOCH 47/50:\n"
     ]
    },
    {
     "name": "stderr",
     "output_type": "stream",
     "text": [
      "Training: 100%|██████████| 198/198 [01:44<00:00,  1.89it/s]\n"
     ]
    },
    {
     "name": "stdout",
     "output_type": "stream",
     "text": [
      "LOSS train 0.1839\n"
     ]
    },
    {
     "name": "stderr",
     "output_type": "stream",
     "text": [
      "Validating: 100%|██████████| 49/49 [00:19<00:00,  2.57it/s]\n"
     ]
    },
    {
     "name": "stdout",
     "output_type": "stream",
     "text": [
      "LOSS valid 1.0991\n",
      "Accuracy valid 0.7852\n",
      "mIoU valid 0.5369\n",
      "IoU per class: Background=0.7302, Bleached=0.4062, Non-bleached=0.4742\n",
      "Custom Score valid 0.5324\n",
      "EPOCH 48/50:\n"
     ]
    },
    {
     "name": "stderr",
     "output_type": "stream",
     "text": [
      "Training: 100%|██████████| 198/198 [01:38<00:00,  2.01it/s]\n"
     ]
    },
    {
     "name": "stdout",
     "output_type": "stream",
     "text": [
      "LOSS train 0.1764\n"
     ]
    },
    {
     "name": "stderr",
     "output_type": "stream",
     "text": [
      "Validating: 100%|██████████| 49/49 [00:22<00:00,  2.21it/s]\n"
     ]
    },
    {
     "name": "stdout",
     "output_type": "stream",
     "text": [
      "LOSS valid 0.7077\n",
      "Accuracy valid 0.8295\n",
      "mIoU valid 0.5824\n",
      "IoU per class: Background=0.7757, Bleached=0.4513, Non-bleached=0.5203\n",
      "Custom Score valid 0.5777\n",
      "EPOCH 49/50:\n"
     ]
    },
    {
     "name": "stderr",
     "output_type": "stream",
     "text": [
      "Training: 100%|██████████| 198/198 [01:42<00:00,  1.93it/s]\n"
     ]
    },
    {
     "name": "stdout",
     "output_type": "stream",
     "text": [
      "LOSS train 0.1804\n"
     ]
    },
    {
     "name": "stderr",
     "output_type": "stream",
     "text": [
      "Validating: 100%|██████████| 49/49 [00:22<00:00,  2.17it/s]\n"
     ]
    },
    {
     "name": "stdout",
     "output_type": "stream",
     "text": [
      "LOSS valid 1.4009\n",
      "Accuracy valid 0.7820\n",
      "mIoU valid 0.5508\n",
      "IoU per class: Background=0.7291, Bleached=0.4530, Non-bleached=0.4702\n",
      "Custom Score valid 0.5471\n",
      "EPOCH 50/50:\n"
     ]
    },
    {
     "name": "stderr",
     "output_type": "stream",
     "text": [
      "Training: 100%|██████████| 198/198 [01:38<00:00,  2.01it/s]\n"
     ]
    },
    {
     "name": "stdout",
     "output_type": "stream",
     "text": [
      "LOSS train 0.1810\n"
     ]
    },
    {
     "name": "stderr",
     "output_type": "stream",
     "text": [
      "Validating: 100%|██████████| 49/49 [00:20<00:00,  2.37it/s]\n"
     ]
    },
    {
     "name": "stdout",
     "output_type": "stream",
     "text": [
      "LOSS valid 0.7514\n",
      "Accuracy valid 0.8136\n",
      "mIoU valid 0.5608\n",
      "IoU per class: Background=0.7618, Bleached=0.4225, Non-bleached=0.4981\n",
      "Custom Score valid 0.5551\n",
      "\n",
      "==================== FOLD 4/5 ====================\n",
      "Warning: Model does not have reset_parameters method. Using current weights.\n",
      "EPOCH 1/50:\n"
     ]
    },
    {
     "name": "stderr",
     "output_type": "stream",
     "text": [
      "Training: 100%|██████████| 198/198 [01:37<00:00,  2.03it/s]\n"
     ]
    },
    {
     "name": "stdout",
     "output_type": "stream",
     "text": [
      "LOSS train 0.2016\n"
     ]
    },
    {
     "name": "stderr",
     "output_type": "stream",
     "text": [
      "Validating: 100%|██████████| 49/49 [00:19<00:00,  2.46it/s]\n"
     ]
    },
    {
     "name": "stdout",
     "output_type": "stream",
     "text": [
      "LOSS valid 1.4255\n",
      "Accuracy valid 0.7128\n",
      "mIoU valid 0.5228\n",
      "IoU per class: Background=0.6638, Bleached=0.4934, Non-bleached=0.4112\n",
      "Custom Score valid 0.5213\n",
      "Saved improved model checkpoint to ./checkpoints_yellow_0\\model_fold_4_best_score.pth (Custom Score: 0.5213)\n",
      "EPOCH 2/50:\n"
     ]
    },
    {
     "name": "stderr",
     "output_type": "stream",
     "text": [
      "Training: 100%|██████████| 198/198 [01:48<00:00,  1.82it/s]\n"
     ]
    },
    {
     "name": "stdout",
     "output_type": "stream",
     "text": [
      "LOSS train 0.1929\n"
     ]
    },
    {
     "name": "stderr",
     "output_type": "stream",
     "text": [
      "Validating: 100%|██████████| 49/49 [00:21<00:00,  2.27it/s]\n"
     ]
    },
    {
     "name": "stdout",
     "output_type": "stream",
     "text": [
      "LOSS valid 1.0144\n",
      "Accuracy valid 0.7973\n",
      "mIoU valid 0.5939\n",
      "IoU per class: Background=0.7276, Bleached=0.5923, Non-bleached=0.4619\n",
      "Custom Score valid 0.5972\n",
      "Saved improved model checkpoint to ./checkpoints_yellow_0\\model_fold_4_best_score.pth (Custom Score: 0.5972)\n",
      "EPOCH 3/50:\n"
     ]
    },
    {
     "name": "stderr",
     "output_type": "stream",
     "text": [
      "Training: 100%|██████████| 198/198 [01:41<00:00,  1.95it/s]\n"
     ]
    },
    {
     "name": "stdout",
     "output_type": "stream",
     "text": [
      "LOSS train 0.1853\n"
     ]
    },
    {
     "name": "stderr",
     "output_type": "stream",
     "text": [
      "Validating: 100%|██████████| 49/49 [00:19<00:00,  2.56it/s]\n"
     ]
    },
    {
     "name": "stdout",
     "output_type": "stream",
     "text": [
      "LOSS valid 1.2028\n",
      "Accuracy valid 0.7552\n",
      "mIoU valid 0.5656\n",
      "IoU per class: Background=0.6980, Bleached=0.5155, Non-bleached=0.4835\n",
      "Custom Score valid 0.5665\n",
      "EPOCH 4/50:\n"
     ]
    },
    {
     "name": "stderr",
     "output_type": "stream",
     "text": [
      "Training: 100%|██████████| 198/198 [01:41<00:00,  1.94it/s]\n"
     ]
    },
    {
     "name": "stdout",
     "output_type": "stream",
     "text": [
      "LOSS train 0.1908\n"
     ]
    },
    {
     "name": "stderr",
     "output_type": "stream",
     "text": [
      "Validating: 100%|██████████| 49/49 [00:20<00:00,  2.44it/s]\n"
     ]
    },
    {
     "name": "stdout",
     "output_type": "stream",
     "text": [
      "LOSS valid 1.5465\n",
      "Accuracy valid 0.7556\n",
      "mIoU valid 0.5525\n",
      "IoU per class: Background=0.7063, Bleached=0.4697, Non-bleached=0.4815\n",
      "Custom Score valid 0.5500\n",
      "EPOCH 5/50:\n"
     ]
    },
    {
     "name": "stderr",
     "output_type": "stream",
     "text": [
      "Training: 100%|██████████| 198/198 [01:42<00:00,  1.93it/s]\n"
     ]
    },
    {
     "name": "stdout",
     "output_type": "stream",
     "text": [
      "LOSS train 0.1906\n"
     ]
    },
    {
     "name": "stderr",
     "output_type": "stream",
     "text": [
      "Validating: 100%|██████████| 49/49 [00:19<00:00,  2.50it/s]\n"
     ]
    },
    {
     "name": "stdout",
     "output_type": "stream",
     "text": [
      "LOSS valid 1.0367\n",
      "Accuracy valid 0.7443\n",
      "mIoU valid 0.5506\n",
      "IoU per class: Background=0.6910, Bleached=0.5317, Non-bleached=0.4292\n",
      "Custom Score valid 0.5501\n",
      "EPOCH 6/50:\n"
     ]
    },
    {
     "name": "stderr",
     "output_type": "stream",
     "text": [
      "Training: 100%|██████████| 198/198 [01:37<00:00,  2.03it/s]\n"
     ]
    },
    {
     "name": "stdout",
     "output_type": "stream",
     "text": [
      "LOSS train 0.1889\n"
     ]
    },
    {
     "name": "stderr",
     "output_type": "stream",
     "text": [
      "Validating: 100%|██████████| 49/49 [00:19<00:00,  2.51it/s]\n"
     ]
    },
    {
     "name": "stdout",
     "output_type": "stream",
     "text": [
      "LOSS valid 0.9472\n",
      "Accuracy valid 0.8007\n",
      "mIoU valid 0.6030\n",
      "IoU per class: Background=0.7426, Bleached=0.5005, Non-bleached=0.5659\n",
      "Custom Score valid 0.6035\n",
      "Saved improved model checkpoint to ./checkpoints_yellow_0\\model_fold_4_best_score.pth (Custom Score: 0.6035)\n",
      "EPOCH 7/50:\n"
     ]
    },
    {
     "name": "stderr",
     "output_type": "stream",
     "text": [
      "Training: 100%|██████████| 198/198 [01:33<00:00,  2.11it/s]\n"
     ]
    },
    {
     "name": "stdout",
     "output_type": "stream",
     "text": [
      "LOSS train 0.1723\n"
     ]
    },
    {
     "name": "stderr",
     "output_type": "stream",
     "text": [
      "Validating: 100%|██████████| 49/49 [00:18<00:00,  2.64it/s]\n"
     ]
    },
    {
     "name": "stdout",
     "output_type": "stream",
     "text": [
      "LOSS valid 1.1520\n",
      "Accuracy valid 0.7270\n",
      "mIoU valid 0.5101\n",
      "IoU per class: Background=0.6718, Bleached=0.4354, Non-bleached=0.4232\n",
      "Custom Score valid 0.5083\n",
      "EPOCH 8/50:\n"
     ]
    },
    {
     "name": "stderr",
     "output_type": "stream",
     "text": [
      "Training: 100%|██████████| 198/198 [01:33<00:00,  2.11it/s]\n"
     ]
    },
    {
     "name": "stdout",
     "output_type": "stream",
     "text": [
      "LOSS train 0.1776\n"
     ]
    },
    {
     "name": "stderr",
     "output_type": "stream",
     "text": [
      "Validating: 100%|██████████| 49/49 [00:19<00:00,  2.57it/s]\n"
     ]
    },
    {
     "name": "stdout",
     "output_type": "stream",
     "text": [
      "LOSS valid 1.1522\n",
      "Accuracy valid 0.7256\n",
      "mIoU valid 0.5234\n",
      "IoU per class: Background=0.6813, Bleached=0.4308, Non-bleached=0.4580\n",
      "Custom Score valid 0.5196\n",
      "EPOCH 9/50:\n"
     ]
    },
    {
     "name": "stderr",
     "output_type": "stream",
     "text": [
      "Training: 100%|██████████| 198/198 [01:29<00:00,  2.22it/s]\n"
     ]
    },
    {
     "name": "stdout",
     "output_type": "stream",
     "text": [
      "LOSS train 0.2245\n"
     ]
    },
    {
     "name": "stderr",
     "output_type": "stream",
     "text": [
      "Validating: 100%|██████████| 49/49 [00:20<00:00,  2.39it/s]\n"
     ]
    },
    {
     "name": "stdout",
     "output_type": "stream",
     "text": [
      "LOSS valid 0.9026\n",
      "Accuracy valid 0.7894\n",
      "mIoU valid 0.5824\n",
      "IoU per class: Background=0.7250, Bleached=0.5040, Non-bleached=0.5182\n",
      "Custom Score valid 0.5839\n",
      "EPOCH 10/50:\n"
     ]
    },
    {
     "name": "stderr",
     "output_type": "stream",
     "text": [
      "Training: 100%|██████████| 198/198 [01:28<00:00,  2.25it/s]\n"
     ]
    },
    {
     "name": "stdout",
     "output_type": "stream",
     "text": [
      "LOSS train 0.2169\n"
     ]
    },
    {
     "name": "stderr",
     "output_type": "stream",
     "text": [
      "Validating: 100%|██████████| 49/49 [00:18<00:00,  2.58it/s]\n"
     ]
    },
    {
     "name": "stdout",
     "output_type": "stream",
     "text": [
      "LOSS valid 1.0611\n",
      "Accuracy valid 0.7183\n",
      "mIoU valid 0.4967\n",
      "IoU per class: Background=0.6728, Bleached=0.4769, Non-bleached=0.3403\n",
      "Custom Score valid 0.4917\n",
      "EPOCH 11/50:\n"
     ]
    },
    {
     "name": "stderr",
     "output_type": "stream",
     "text": [
      "Training: 100%|██████████| 198/198 [01:28<00:00,  2.25it/s]\n"
     ]
    },
    {
     "name": "stdout",
     "output_type": "stream",
     "text": [
      "LOSS train 0.1775\n"
     ]
    },
    {
     "name": "stderr",
     "output_type": "stream",
     "text": [
      "Validating: 100%|██████████| 49/49 [00:18<00:00,  2.63it/s]\n"
     ]
    },
    {
     "name": "stdout",
     "output_type": "stream",
     "text": [
      "LOSS valid 1.0837\n",
      "Accuracy valid 0.7352\n",
      "mIoU valid 0.5384\n",
      "IoU per class: Background=0.6930, Bleached=0.4894, Non-bleached=0.4328\n",
      "Custom Score valid 0.5344\n",
      "EPOCH 12/50:\n"
     ]
    },
    {
     "name": "stderr",
     "output_type": "stream",
     "text": [
      "Training: 100%|██████████| 198/198 [01:31<00:00,  2.17it/s]\n"
     ]
    },
    {
     "name": "stdout",
     "output_type": "stream",
     "text": [
      "LOSS train 0.2025\n"
     ]
    },
    {
     "name": "stderr",
     "output_type": "stream",
     "text": [
      "Validating: 100%|██████████| 49/49 [00:19<00:00,  2.48it/s]\n"
     ]
    },
    {
     "name": "stdout",
     "output_type": "stream",
     "text": [
      "LOSS valid 1.2139\n",
      "Accuracy valid 0.7480\n",
      "mIoU valid 0.5701\n",
      "IoU per class: Background=0.6903, Bleached=0.5365, Non-bleached=0.4834\n",
      "Custom Score valid 0.5720\n",
      "EPOCH 13/50:\n"
     ]
    },
    {
     "name": "stderr",
     "output_type": "stream",
     "text": [
      "Training: 100%|██████████| 198/198 [01:30<00:00,  2.18it/s]\n"
     ]
    },
    {
     "name": "stdout",
     "output_type": "stream",
     "text": [
      "LOSS train 0.1792\n"
     ]
    },
    {
     "name": "stderr",
     "output_type": "stream",
     "text": [
      "Validating: 100%|██████████| 49/49 [00:19<00:00,  2.47it/s]\n"
     ]
    },
    {
     "name": "stdout",
     "output_type": "stream",
     "text": [
      "LOSS valid 1.1077\n",
      "Accuracy valid 0.7564\n",
      "mIoU valid 0.5846\n",
      "IoU per class: Background=0.6962, Bleached=0.5479, Non-bleached=0.5098\n",
      "Custom Score valid 0.5877\n",
      "EPOCH 14/50:\n"
     ]
    },
    {
     "name": "stderr",
     "output_type": "stream",
     "text": [
      "Training: 100%|██████████| 198/198 [01:29<00:00,  2.21it/s]\n"
     ]
    },
    {
     "name": "stdout",
     "output_type": "stream",
     "text": [
      "LOSS train 0.1661\n"
     ]
    },
    {
     "name": "stderr",
     "output_type": "stream",
     "text": [
      "Validating: 100%|██████████| 49/49 [00:20<00:00,  2.42it/s]\n"
     ]
    },
    {
     "name": "stdout",
     "output_type": "stream",
     "text": [
      "LOSS valid 1.1120\n",
      "Accuracy valid 0.7399\n",
      "mIoU valid 0.5472\n",
      "IoU per class: Background=0.6903, Bleached=0.4959, Non-bleached=0.4555\n",
      "Custom Score valid 0.5457\n",
      "EPOCH 15/50:\n"
     ]
    },
    {
     "name": "stderr",
     "output_type": "stream",
     "text": [
      "Training: 100%|██████████| 198/198 [01:34<00:00,  2.10it/s]\n"
     ]
    },
    {
     "name": "stdout",
     "output_type": "stream",
     "text": [
      "LOSS train 0.1599\n"
     ]
    },
    {
     "name": "stderr",
     "output_type": "stream",
     "text": [
      "Validating: 100%|██████████| 49/49 [00:22<00:00,  2.20it/s]\n"
     ]
    },
    {
     "name": "stdout",
     "output_type": "stream",
     "text": [
      "LOSS valid 0.8973\n",
      "Accuracy valid 0.8055\n",
      "mIoU valid 0.6150\n",
      "IoU per class: Background=0.7285, Bleached=0.5205, Non-bleached=0.5960\n",
      "Custom Score valid 0.6213\n",
      "Saved improved model checkpoint to ./checkpoints_yellow_0\\model_fold_4_best_score.pth (Custom Score: 0.6213)\n",
      "EPOCH 16/50:\n"
     ]
    },
    {
     "name": "stderr",
     "output_type": "stream",
     "text": [
      "Training: 100%|██████████| 198/198 [01:29<00:00,  2.20it/s]\n"
     ]
    },
    {
     "name": "stdout",
     "output_type": "stream",
     "text": [
      "LOSS train 0.1595\n"
     ]
    },
    {
     "name": "stderr",
     "output_type": "stream",
     "text": [
      "Validating: 100%|██████████| 49/49 [00:21<00:00,  2.28it/s]\n"
     ]
    },
    {
     "name": "stdout",
     "output_type": "stream",
     "text": [
      "LOSS valid 1.3322\n",
      "Accuracy valid 0.7426\n",
      "mIoU valid 0.5381\n",
      "IoU per class: Background=0.6970, Bleached=0.4627, Non-bleached=0.4547\n",
      "Custom Score valid 0.5345\n",
      "EPOCH 17/50:\n"
     ]
    },
    {
     "name": "stderr",
     "output_type": "stream",
     "text": [
      "Training: 100%|██████████| 198/198 [01:34<00:00,  2.10it/s]\n"
     ]
    },
    {
     "name": "stdout",
     "output_type": "stream",
     "text": [
      "LOSS train 0.1772\n"
     ]
    },
    {
     "name": "stderr",
     "output_type": "stream",
     "text": [
      "Validating: 100%|██████████| 49/49 [00:20<00:00,  2.39it/s]\n"
     ]
    },
    {
     "name": "stdout",
     "output_type": "stream",
     "text": [
      "LOSS valid 1.6405\n",
      "Accuracy valid 0.7097\n",
      "mIoU valid 0.5027\n",
      "IoU per class: Background=0.6678, Bleached=0.4442, Non-bleached=0.3960\n",
      "Custom Score valid 0.4978\n",
      "EPOCH 18/50:\n"
     ]
    },
    {
     "name": "stderr",
     "output_type": "stream",
     "text": [
      "Training: 100%|██████████| 198/198 [01:34<00:00,  2.09it/s]\n"
     ]
    },
    {
     "name": "stdout",
     "output_type": "stream",
     "text": [
      "LOSS train 0.1652\n"
     ]
    },
    {
     "name": "stderr",
     "output_type": "stream",
     "text": [
      "Validating: 100%|██████████| 49/49 [00:18<00:00,  2.63it/s]\n"
     ]
    },
    {
     "name": "stdout",
     "output_type": "stream",
     "text": [
      "LOSS valid 1.1267\n",
      "Accuracy valid 0.7398\n",
      "mIoU valid 0.5461\n",
      "IoU per class: Background=0.6915, Bleached=0.5045, Non-bleached=0.4424\n",
      "Custom Score valid 0.5442\n",
      "EPOCH 19/50:\n"
     ]
    },
    {
     "name": "stderr",
     "output_type": "stream",
     "text": [
      "Training: 100%|██████████| 198/198 [01:28<00:00,  2.24it/s]\n"
     ]
    },
    {
     "name": "stdout",
     "output_type": "stream",
     "text": [
      "LOSS train 0.1493\n"
     ]
    },
    {
     "name": "stderr",
     "output_type": "stream",
     "text": [
      "Validating: 100%|██████████| 49/49 [00:19<00:00,  2.47it/s]\n"
     ]
    },
    {
     "name": "stdout",
     "output_type": "stream",
     "text": [
      "LOSS valid 1.1242\n",
      "Accuracy valid 0.7727\n",
      "mIoU valid 0.5782\n",
      "IoU per class: Background=0.7124, Bleached=0.5177, Non-bleached=0.5045\n",
      "Custom Score valid 0.5795\n",
      "EPOCH 20/50:\n"
     ]
    },
    {
     "name": "stderr",
     "output_type": "stream",
     "text": [
      "Training: 100%|██████████| 198/198 [01:25<00:00,  2.33it/s]\n"
     ]
    },
    {
     "name": "stdout",
     "output_type": "stream",
     "text": [
      "LOSS train 0.1675\n"
     ]
    },
    {
     "name": "stderr",
     "output_type": "stream",
     "text": [
      "Validating: 100%|██████████| 49/49 [00:19<00:00,  2.46it/s]\n"
     ]
    },
    {
     "name": "stdout",
     "output_type": "stream",
     "text": [
      "LOSS valid 1.1181\n",
      "Accuracy valid 0.7400\n",
      "mIoU valid 0.5502\n",
      "IoU per class: Background=0.6902, Bleached=0.5225, Non-bleached=0.4379\n",
      "Custom Score valid 0.5490\n",
      "EPOCH 21/50:\n"
     ]
    },
    {
     "name": "stderr",
     "output_type": "stream",
     "text": [
      "Training: 100%|██████████| 198/198 [01:26<00:00,  2.29it/s]\n"
     ]
    },
    {
     "name": "stdout",
     "output_type": "stream",
     "text": [
      "LOSS train 0.1652\n"
     ]
    },
    {
     "name": "stderr",
     "output_type": "stream",
     "text": [
      "Validating: 100%|██████████| 49/49 [00:20<00:00,  2.41it/s]\n"
     ]
    },
    {
     "name": "stdout",
     "output_type": "stream",
     "text": [
      "LOSS valid 0.8967\n",
      "Accuracy valid 0.7788\n",
      "mIoU valid 0.5597\n",
      "IoU per class: Background=0.7147, Bleached=0.5104, Non-bleached=0.4539\n",
      "Custom Score valid 0.5601\n",
      "EPOCH 22/50:\n"
     ]
    },
    {
     "name": "stderr",
     "output_type": "stream",
     "text": [
      "Training: 100%|██████████| 198/198 [01:27<00:00,  2.27it/s]\n"
     ]
    },
    {
     "name": "stdout",
     "output_type": "stream",
     "text": [
      "LOSS train 0.1909\n"
     ]
    },
    {
     "name": "stderr",
     "output_type": "stream",
     "text": [
      "Validating: 100%|██████████| 49/49 [00:22<00:00,  2.19it/s]\n"
     ]
    },
    {
     "name": "stdout",
     "output_type": "stream",
     "text": [
      "LOSS valid 0.8791\n",
      "Accuracy valid 0.7910\n",
      "mIoU valid 0.5913\n",
      "IoU per class: Background=0.7319, Bleached=0.5210, Non-bleached=0.5208\n",
      "Custom Score valid 0.5918\n",
      "EPOCH 23/50:\n"
     ]
    },
    {
     "name": "stderr",
     "output_type": "stream",
     "text": [
      "Training: 100%|██████████| 198/198 [01:45<00:00,  1.87it/s]\n"
     ]
    },
    {
     "name": "stdout",
     "output_type": "stream",
     "text": [
      "LOSS train 0.1748\n"
     ]
    },
    {
     "name": "stderr",
     "output_type": "stream",
     "text": [
      "Validating: 100%|██████████| 49/49 [00:24<00:00,  1.97it/s]\n"
     ]
    },
    {
     "name": "stdout",
     "output_type": "stream",
     "text": [
      "LOSS valid 1.6843\n",
      "Accuracy valid 0.7214\n",
      "mIoU valid 0.5219\n",
      "IoU per class: Background=0.6693, Bleached=0.4681, Non-bleached=0.4281\n",
      "Custom Score valid 0.5205\n",
      "EPOCH 24/50:\n"
     ]
    },
    {
     "name": "stderr",
     "output_type": "stream",
     "text": [
      "Training: 100%|██████████| 198/198 [01:41<00:00,  1.95it/s]\n"
     ]
    },
    {
     "name": "stdout",
     "output_type": "stream",
     "text": [
      "LOSS train 0.1614\n"
     ]
    },
    {
     "name": "stderr",
     "output_type": "stream",
     "text": [
      "Validating: 100%|██████████| 49/49 [00:25<00:00,  1.93it/s]\n"
     ]
    },
    {
     "name": "stdout",
     "output_type": "stream",
     "text": [
      "LOSS valid 0.8798\n",
      "Accuracy valid 0.7730\n",
      "mIoU valid 0.5787\n",
      "IoU per class: Background=0.7117, Bleached=0.5315, Non-bleached=0.4927\n",
      "Custom Score valid 0.5803\n",
      "EPOCH 25/50:\n"
     ]
    },
    {
     "name": "stderr",
     "output_type": "stream",
     "text": [
      "Training: 100%|██████████| 198/198 [01:58<00:00,  1.67it/s]\n"
     ]
    },
    {
     "name": "stdout",
     "output_type": "stream",
     "text": [
      "LOSS train 0.2283\n"
     ]
    },
    {
     "name": "stderr",
     "output_type": "stream",
     "text": [
      "Validating: 100%|██████████| 49/49 [00:23<00:00,  2.11it/s]\n"
     ]
    },
    {
     "name": "stdout",
     "output_type": "stream",
     "text": [
      "LOSS valid 1.4848\n",
      "Accuracy valid 0.7179\n",
      "mIoU valid 0.4971\n",
      "IoU per class: Background=0.6735, Bleached=0.4241, Non-bleached=0.3938\n",
      "Custom Score valid 0.4919\n",
      "EPOCH 26/50:\n"
     ]
    },
    {
     "name": "stderr",
     "output_type": "stream",
     "text": [
      "Training: 100%|██████████| 198/198 [01:45<00:00,  1.87it/s]\n"
     ]
    },
    {
     "name": "stdout",
     "output_type": "stream",
     "text": [
      "LOSS train 0.1830\n"
     ]
    },
    {
     "name": "stderr",
     "output_type": "stream",
     "text": [
      "Validating: 100%|██████████| 49/49 [00:19<00:00,  2.47it/s]\n"
     ]
    },
    {
     "name": "stdout",
     "output_type": "stream",
     "text": [
      "LOSS valid 1.7844\n",
      "Accuracy valid 0.6784\n",
      "mIoU valid 0.4769\n",
      "IoU per class: Background=0.6367, Bleached=0.4483, Non-bleached=0.3456\n",
      "Custom Score valid 0.4724\n",
      "EPOCH 27/50:\n"
     ]
    },
    {
     "name": "stderr",
     "output_type": "stream",
     "text": [
      "Training: 100%|██████████| 198/198 [01:47<00:00,  1.84it/s]\n"
     ]
    },
    {
     "name": "stdout",
     "output_type": "stream",
     "text": [
      "LOSS train 0.1743\n"
     ]
    },
    {
     "name": "stderr",
     "output_type": "stream",
     "text": [
      "Validating: 100%|██████████| 49/49 [00:21<00:00,  2.32it/s]\n"
     ]
    },
    {
     "name": "stdout",
     "output_type": "stream",
     "text": [
      "LOSS valid 1.9603\n",
      "Accuracy valid 0.6839\n",
      "mIoU valid 0.4861\n",
      "IoU per class: Background=0.6440, Bleached=0.4385, Non-bleached=0.3759\n",
      "Custom Score valid 0.4815\n",
      "EPOCH 28/50:\n"
     ]
    },
    {
     "name": "stderr",
     "output_type": "stream",
     "text": [
      "Training: 100%|██████████| 198/198 [01:50<00:00,  1.79it/s]\n"
     ]
    },
    {
     "name": "stdout",
     "output_type": "stream",
     "text": [
      "LOSS train 0.1742\n"
     ]
    },
    {
     "name": "stderr",
     "output_type": "stream",
     "text": [
      "Validating: 100%|██████████| 49/49 [00:21<00:00,  2.25it/s]\n"
     ]
    },
    {
     "name": "stdout",
     "output_type": "stream",
     "text": [
      "LOSS valid 0.9583\n",
      "Accuracy valid 0.7986\n",
      "mIoU valid 0.5747\n",
      "IoU per class: Background=0.7347, Bleached=0.4698, Non-bleached=0.5198\n",
      "Custom Score valid 0.5747\n",
      "EPOCH 29/50:\n"
     ]
    },
    {
     "name": "stderr",
     "output_type": "stream",
     "text": [
      "Training: 100%|██████████| 198/198 [01:46<00:00,  1.85it/s]\n"
     ]
    },
    {
     "name": "stdout",
     "output_type": "stream",
     "text": [
      "LOSS train 0.1646\n"
     ]
    },
    {
     "name": "stderr",
     "output_type": "stream",
     "text": [
      "Validating: 100%|██████████| 49/49 [00:21<00:00,  2.31it/s]\n"
     ]
    },
    {
     "name": "stdout",
     "output_type": "stream",
     "text": [
      "LOSS valid 1.0724\n",
      "Accuracy valid 0.7822\n",
      "mIoU valid 0.5747\n",
      "IoU per class: Background=0.7141, Bleached=0.5273, Non-bleached=0.4828\n",
      "Custom Score valid 0.5772\n",
      "EPOCH 30/50:\n"
     ]
    },
    {
     "name": "stderr",
     "output_type": "stream",
     "text": [
      "Training: 100%|██████████| 198/198 [01:49<00:00,  1.81it/s]\n"
     ]
    },
    {
     "name": "stdout",
     "output_type": "stream",
     "text": [
      "LOSS train 0.1534\n"
     ]
    },
    {
     "name": "stderr",
     "output_type": "stream",
     "text": [
      "Validating: 100%|██████████| 49/49 [00:19<00:00,  2.47it/s]\n"
     ]
    },
    {
     "name": "stdout",
     "output_type": "stream",
     "text": [
      "LOSS valid 0.9894\n",
      "Accuracy valid 0.7374\n",
      "mIoU valid 0.5227\n",
      "IoU per class: Background=0.6789, Bleached=0.4919, Non-bleached=0.3971\n",
      "Custom Score valid 0.5219\n",
      "EPOCH 31/50:\n"
     ]
    },
    {
     "name": "stderr",
     "output_type": "stream",
     "text": [
      "Training: 100%|██████████| 198/198 [01:49<00:00,  1.81it/s]\n"
     ]
    },
    {
     "name": "stdout",
     "output_type": "stream",
     "text": [
      "LOSS train 0.1562\n"
     ]
    },
    {
     "name": "stderr",
     "output_type": "stream",
     "text": [
      "Validating: 100%|██████████| 49/49 [00:20<00:00,  2.35it/s]\n"
     ]
    },
    {
     "name": "stdout",
     "output_type": "stream",
     "text": [
      "LOSS valid 1.2236\n",
      "Accuracy valid 0.7731\n",
      "mIoU valid 0.5742\n",
      "IoU per class: Background=0.7122, Bleached=0.5167, Non-bleached=0.4937\n",
      "Custom Score valid 0.5753\n",
      "EPOCH 32/50:\n"
     ]
    },
    {
     "name": "stderr",
     "output_type": "stream",
     "text": [
      "Training: 100%|██████████| 198/198 [01:50<00:00,  1.80it/s]\n"
     ]
    },
    {
     "name": "stdout",
     "output_type": "stream",
     "text": [
      "LOSS train 0.1470\n"
     ]
    },
    {
     "name": "stderr",
     "output_type": "stream",
     "text": [
      "Validating: 100%|██████████| 49/49 [00:27<00:00,  1.80it/s]\n"
     ]
    },
    {
     "name": "stdout",
     "output_type": "stream",
     "text": [
      "LOSS valid 1.1650\n",
      "Accuracy valid 0.7430\n",
      "mIoU valid 0.5466\n",
      "IoU per class: Background=0.6810, Bleached=0.5129, Non-bleached=0.4460\n",
      "Custom Score valid 0.5483\n",
      "EPOCH 33/50:\n"
     ]
    },
    {
     "name": "stderr",
     "output_type": "stream",
     "text": [
      "Training: 100%|██████████| 198/198 [01:54<00:00,  1.74it/s]\n"
     ]
    },
    {
     "name": "stdout",
     "output_type": "stream",
     "text": [
      "LOSS train 0.1615\n"
     ]
    },
    {
     "name": "stderr",
     "output_type": "stream",
     "text": [
      "Validating: 100%|██████████| 49/49 [00:21<00:00,  2.31it/s]\n"
     ]
    },
    {
     "name": "stdout",
     "output_type": "stream",
     "text": [
      "LOSS valid 1.1034\n",
      "Accuracy valid 0.7697\n",
      "mIoU valid 0.5574\n",
      "IoU per class: Background=0.7156, Bleached=0.4688, Non-bleached=0.4879\n",
      "Custom Score valid 0.5556\n",
      "EPOCH 34/50:\n"
     ]
    },
    {
     "name": "stderr",
     "output_type": "stream",
     "text": [
      "Training: 100%|██████████| 198/198 [01:47<00:00,  1.85it/s]\n"
     ]
    },
    {
     "name": "stdout",
     "output_type": "stream",
     "text": [
      "LOSS train 0.1538\n"
     ]
    },
    {
     "name": "stderr",
     "output_type": "stream",
     "text": [
      "Validating: 100%|██████████| 49/49 [00:20<00:00,  2.35it/s]\n"
     ]
    },
    {
     "name": "stdout",
     "output_type": "stream",
     "text": [
      "LOSS valid 1.3548\n",
      "Accuracy valid 0.7354\n",
      "mIoU valid 0.5415\n",
      "IoU per class: Background=0.6868, Bleached=0.4966, Non-bleached=0.4410\n",
      "Custom Score valid 0.5395\n",
      "EPOCH 35/50:\n"
     ]
    },
    {
     "name": "stderr",
     "output_type": "stream",
     "text": [
      "Training: 100%|██████████| 198/198 [01:46<00:00,  1.86it/s]\n"
     ]
    },
    {
     "name": "stdout",
     "output_type": "stream",
     "text": [
      "LOSS train 0.1557\n"
     ]
    },
    {
     "name": "stderr",
     "output_type": "stream",
     "text": [
      "Validating: 100%|██████████| 49/49 [00:20<00:00,  2.41it/s]\n"
     ]
    },
    {
     "name": "stdout",
     "output_type": "stream",
     "text": [
      "LOSS valid 1.0772\n",
      "Accuracy valid 0.7360\n",
      "mIoU valid 0.5278\n",
      "IoU per class: Background=0.6903, Bleached=0.4692, Non-bleached=0.4239\n",
      "Custom Score valid 0.5240\n",
      "EPOCH 36/50:\n"
     ]
    },
    {
     "name": "stderr",
     "output_type": "stream",
     "text": [
      "Training: 100%|██████████| 198/198 [01:46<00:00,  1.86it/s]\n"
     ]
    },
    {
     "name": "stdout",
     "output_type": "stream",
     "text": [
      "LOSS train 0.1500\n"
     ]
    },
    {
     "name": "stderr",
     "output_type": "stream",
     "text": [
      "Validating: 100%|██████████| 49/49 [00:19<00:00,  2.45it/s]\n"
     ]
    },
    {
     "name": "stdout",
     "output_type": "stream",
     "text": [
      "LOSS valid 1.0203\n",
      "Accuracy valid 0.7722\n",
      "mIoU valid 0.5643\n",
      "IoU per class: Background=0.7277, Bleached=0.5188, Non-bleached=0.4465\n",
      "Custom Score valid 0.5602\n",
      "EPOCH 37/50:\n"
     ]
    },
    {
     "name": "stderr",
     "output_type": "stream",
     "text": [
      "Training: 100%|██████████| 198/198 [01:48<00:00,  1.83it/s]\n"
     ]
    },
    {
     "name": "stdout",
     "output_type": "stream",
     "text": [
      "LOSS train 0.1707\n"
     ]
    },
    {
     "name": "stderr",
     "output_type": "stream",
     "text": [
      "Validating: 100%|██████████| 49/49 [00:21<00:00,  2.26it/s]\n"
     ]
    },
    {
     "name": "stdout",
     "output_type": "stream",
     "text": [
      "LOSS valid 1.9680\n",
      "Accuracy valid 0.7016\n",
      "mIoU valid 0.4933\n",
      "IoU per class: Background=0.6618, Bleached=0.4451, Non-bleached=0.3729\n",
      "Custom Score valid 0.4877\n",
      "EPOCH 38/50:\n"
     ]
    },
    {
     "name": "stderr",
     "output_type": "stream",
     "text": [
      "Training: 100%|██████████| 198/198 [01:50<00:00,  1.79it/s]\n"
     ]
    },
    {
     "name": "stdout",
     "output_type": "stream",
     "text": [
      "LOSS train 0.1736\n"
     ]
    },
    {
     "name": "stderr",
     "output_type": "stream",
     "text": [
      "Validating: 100%|██████████| 49/49 [00:24<00:00,  2.01it/s]\n"
     ]
    },
    {
     "name": "stdout",
     "output_type": "stream",
     "text": [
      "LOSS valid 1.0889\n",
      "Accuracy valid 0.7868\n",
      "mIoU valid 0.5827\n",
      "IoU per class: Background=0.7329, Bleached=0.5310, Non-bleached=0.4842\n",
      "Custom Score valid 0.5815\n",
      "EPOCH 39/50:\n"
     ]
    },
    {
     "name": "stderr",
     "output_type": "stream",
     "text": [
      "Training: 100%|██████████| 198/198 [01:52<00:00,  1.76it/s]\n"
     ]
    },
    {
     "name": "stdout",
     "output_type": "stream",
     "text": [
      "LOSS train 0.1670\n"
     ]
    },
    {
     "name": "stderr",
     "output_type": "stream",
     "text": [
      "Validating: 100%|██████████| 49/49 [00:21<00:00,  2.23it/s]\n"
     ]
    },
    {
     "name": "stdout",
     "output_type": "stream",
     "text": [
      "LOSS valid 2.3507\n",
      "Accuracy valid 0.6662\n",
      "mIoU valid 0.4645\n",
      "IoU per class: Background=0.6345, Bleached=0.4275, Non-bleached=0.3314\n",
      "Custom Score valid 0.4572\n",
      "EPOCH 40/50:\n"
     ]
    },
    {
     "name": "stderr",
     "output_type": "stream",
     "text": [
      "Training: 100%|██████████| 198/198 [01:53<00:00,  1.74it/s]\n"
     ]
    },
    {
     "name": "stdout",
     "output_type": "stream",
     "text": [
      "LOSS train 0.1545\n"
     ]
    },
    {
     "name": "stderr",
     "output_type": "stream",
     "text": [
      "Validating: 100%|██████████| 49/49 [00:20<00:00,  2.37it/s]\n"
     ]
    },
    {
     "name": "stdout",
     "output_type": "stream",
     "text": [
      "LOSS valid 1.4132\n",
      "Accuracy valid 0.7291\n",
      "mIoU valid 0.4961\n",
      "IoU per class: Background=0.6728, Bleached=0.3914, Non-bleached=0.4241\n",
      "Custom Score valid 0.4932\n",
      "EPOCH 41/50:\n"
     ]
    },
    {
     "name": "stderr",
     "output_type": "stream",
     "text": [
      "Training: 100%|██████████| 198/198 [01:51<00:00,  1.77it/s]\n"
     ]
    },
    {
     "name": "stdout",
     "output_type": "stream",
     "text": [
      "LOSS train 0.1629\n"
     ]
    },
    {
     "name": "stderr",
     "output_type": "stream",
     "text": [
      "Validating: 100%|██████████| 49/49 [00:21<00:00,  2.25it/s]\n"
     ]
    },
    {
     "name": "stdout",
     "output_type": "stream",
     "text": [
      "LOSS valid 1.5576\n",
      "Accuracy valid 0.7381\n",
      "mIoU valid 0.5328\n",
      "IoU per class: Background=0.6962, Bleached=0.4581, Non-bleached=0.4441\n",
      "Custom Score valid 0.5281\n",
      "EPOCH 42/50:\n"
     ]
    },
    {
     "name": "stderr",
     "output_type": "stream",
     "text": [
      "Training: 100%|██████████| 198/198 [01:52<00:00,  1.76it/s]\n"
     ]
    },
    {
     "name": "stdout",
     "output_type": "stream",
     "text": [
      "LOSS train 0.1522\n"
     ]
    },
    {
     "name": "stderr",
     "output_type": "stream",
     "text": [
      "Validating: 100%|██████████| 49/49 [00:23<00:00,  2.07it/s]\n"
     ]
    },
    {
     "name": "stdout",
     "output_type": "stream",
     "text": [
      "LOSS valid 0.5990\n",
      "Accuracy valid 0.7971\n",
      "mIoU valid 0.5970\n",
      "IoU per class: Background=0.7388, Bleached=0.5520, Non-bleached=0.5002\n",
      "Custom Score valid 0.5973\n",
      "EPOCH 43/50:\n"
     ]
    },
    {
     "name": "stderr",
     "output_type": "stream",
     "text": [
      "Training: 100%|██████████| 198/198 [01:48<00:00,  1.82it/s]\n"
     ]
    },
    {
     "name": "stdout",
     "output_type": "stream",
     "text": [
      "LOSS train 0.1591\n"
     ]
    },
    {
     "name": "stderr",
     "output_type": "stream",
     "text": [
      "Validating: 100%|██████████| 49/49 [00:21<00:00,  2.24it/s]\n"
     ]
    },
    {
     "name": "stdout",
     "output_type": "stream",
     "text": [
      "LOSS valid 1.4356\n",
      "Accuracy valid 0.7065\n",
      "mIoU valid 0.5060\n",
      "IoU per class: Background=0.6530, Bleached=0.4897, Non-bleached=0.3753\n",
      "Custom Score valid 0.5050\n",
      "EPOCH 44/50:\n"
     ]
    },
    {
     "name": "stderr",
     "output_type": "stream",
     "text": [
      "Training: 100%|██████████| 198/198 [01:56<00:00,  1.70it/s]\n"
     ]
    },
    {
     "name": "stdout",
     "output_type": "stream",
     "text": [
      "LOSS train 0.1668\n"
     ]
    },
    {
     "name": "stderr",
     "output_type": "stream",
     "text": [
      "Validating: 100%|██████████| 49/49 [00:30<00:00,  1.60it/s]\n"
     ]
    },
    {
     "name": "stdout",
     "output_type": "stream",
     "text": [
      "LOSS valid 1.6617\n",
      "Accuracy valid 0.7247\n",
      "mIoU valid 0.5354\n",
      "IoU per class: Background=0.6788, Bleached=0.5017, Non-bleached=0.4258\n",
      "Custom Score valid 0.5331\n",
      "EPOCH 45/50:\n"
     ]
    },
    {
     "name": "stderr",
     "output_type": "stream",
     "text": [
      "Training: 100%|██████████| 198/198 [02:09<00:00,  1.53it/s]\n"
     ]
    },
    {
     "name": "stdout",
     "output_type": "stream",
     "text": [
      "LOSS train 0.1572\n"
     ]
    },
    {
     "name": "stderr",
     "output_type": "stream",
     "text": [
      "Validating: 100%|██████████| 49/49 [00:23<00:00,  2.05it/s]\n"
     ]
    },
    {
     "name": "stdout",
     "output_type": "stream",
     "text": [
      "LOSS valid 1.1692\n",
      "Accuracy valid 0.7421\n",
      "mIoU valid 0.5269\n",
      "IoU per class: Background=0.6892, Bleached=0.4994, Non-bleached=0.3922\n",
      "Custom Score valid 0.5245\n",
      "EPOCH 46/50:\n"
     ]
    },
    {
     "name": "stderr",
     "output_type": "stream",
     "text": [
      "Training: 100%|██████████| 198/198 [01:56<00:00,  1.70it/s]\n"
     ]
    },
    {
     "name": "stdout",
     "output_type": "stream",
     "text": [
      "LOSS train 0.1524\n"
     ]
    },
    {
     "name": "stderr",
     "output_type": "stream",
     "text": [
      "Validating: 100%|██████████| 49/49 [00:26<00:00,  1.84it/s]\n"
     ]
    },
    {
     "name": "stdout",
     "output_type": "stream",
     "text": [
      "LOSS valid 0.9186\n",
      "Accuracy valid 0.7637\n",
      "mIoU valid 0.5711\n",
      "IoU per class: Background=0.7101, Bleached=0.5200, Non-bleached=0.4830\n",
      "Custom Score valid 0.5706\n",
      "EPOCH 47/50:\n"
     ]
    },
    {
     "name": "stderr",
     "output_type": "stream",
     "text": [
      "Training: 100%|██████████| 198/198 [01:59<00:00,  1.65it/s]\n"
     ]
    },
    {
     "name": "stdout",
     "output_type": "stream",
     "text": [
      "LOSS train 0.1513\n"
     ]
    },
    {
     "name": "stderr",
     "output_type": "stream",
     "text": [
      "Validating: 100%|██████████| 49/49 [00:25<00:00,  1.92it/s]\n"
     ]
    },
    {
     "name": "stdout",
     "output_type": "stream",
     "text": [
      "LOSS valid 1.4874\n",
      "Accuracy valid 0.6992\n",
      "mIoU valid 0.4969\n",
      "IoU per class: Background=0.6481, Bleached=0.4898, Non-bleached=0.3529\n",
      "Custom Score valid 0.4951\n",
      "EPOCH 48/50:\n"
     ]
    },
    {
     "name": "stderr",
     "output_type": "stream",
     "text": [
      "Training: 100%|██████████| 198/198 [01:59<00:00,  1.66it/s]\n"
     ]
    },
    {
     "name": "stdout",
     "output_type": "stream",
     "text": [
      "LOSS train 0.1357\n"
     ]
    },
    {
     "name": "stderr",
     "output_type": "stream",
     "text": [
      "Validating: 100%|██████████| 49/49 [00:21<00:00,  2.28it/s]\n"
     ]
    },
    {
     "name": "stdout",
     "output_type": "stream",
     "text": [
      "LOSS valid 0.9356\n",
      "Accuracy valid 0.7671\n",
      "mIoU valid 0.5683\n",
      "IoU per class: Background=0.7106, Bleached=0.5128, Non-bleached=0.4814\n",
      "Custom Score valid 0.5682\n",
      "EPOCH 49/50:\n"
     ]
    },
    {
     "name": "stderr",
     "output_type": "stream",
     "text": [
      "Training: 100%|██████████| 198/198 [01:51<00:00,  1.78it/s]\n"
     ]
    },
    {
     "name": "stdout",
     "output_type": "stream",
     "text": [
      "LOSS train 0.1629\n"
     ]
    },
    {
     "name": "stderr",
     "output_type": "stream",
     "text": [
      "Validating: 100%|██████████| 49/49 [00:21<00:00,  2.28it/s]\n"
     ]
    },
    {
     "name": "stdout",
     "output_type": "stream",
     "text": [
      "LOSS valid 1.2152\n",
      "Accuracy valid 0.7110\n",
      "mIoU valid 0.5035\n",
      "IoU per class: Background=0.6583, Bleached=0.4642, Non-bleached=0.3881\n",
      "Custom Score valid 0.5017\n",
      "EPOCH 50/50:\n"
     ]
    },
    {
     "name": "stderr",
     "output_type": "stream",
     "text": [
      "Training: 100%|██████████| 198/198 [02:06<00:00,  1.57it/s]\n"
     ]
    },
    {
     "name": "stdout",
     "output_type": "stream",
     "text": [
      "LOSS train 0.1617\n"
     ]
    },
    {
     "name": "stderr",
     "output_type": "stream",
     "text": [
      "Validating: 100%|██████████| 49/49 [00:22<00:00,  2.14it/s]\n"
     ]
    },
    {
     "name": "stdout",
     "output_type": "stream",
     "text": [
      "LOSS valid 1.8918\n",
      "Accuracy valid 0.7080\n",
      "mIoU valid 0.5020\n",
      "IoU per class: Background=0.6666, Bleached=0.4513, Non-bleached=0.3882\n",
      "Custom Score valid 0.4971\n",
      "\n",
      "==================== FOLD 5/5 ====================\n",
      "Warning: Model does not have reset_parameters method. Using current weights.\n",
      "EPOCH 1/50:\n"
     ]
    },
    {
     "name": "stderr",
     "output_type": "stream",
     "text": [
      "Training: 100%|██████████| 198/198 [01:49<00:00,  1.81it/s]\n"
     ]
    },
    {
     "name": "stdout",
     "output_type": "stream",
     "text": [
      "LOSS train 0.1911\n"
     ]
    },
    {
     "name": "stderr",
     "output_type": "stream",
     "text": [
      "Validating: 100%|██████████| 49/49 [00:22<00:00,  2.20it/s]\n"
     ]
    },
    {
     "name": "stdout",
     "output_type": "stream",
     "text": [
      "LOSS valid 1.7725\n",
      "Accuracy valid 0.7362\n",
      "mIoU valid 0.5393\n",
      "IoU per class: Background=0.7086, Bleached=0.4817, Non-bleached=0.4277\n",
      "Custom Score valid 0.5313\n",
      "Saved improved model checkpoint to ./checkpoints_yellow_0\\model_fold_5_best_score.pth (Custom Score: 0.5313)\n",
      "EPOCH 2/50:\n"
     ]
    },
    {
     "name": "stderr",
     "output_type": "stream",
     "text": [
      "Training: 100%|██████████| 198/198 [01:45<00:00,  1.89it/s]\n"
     ]
    },
    {
     "name": "stdout",
     "output_type": "stream",
     "text": [
      "LOSS train 0.1750\n"
     ]
    },
    {
     "name": "stderr",
     "output_type": "stream",
     "text": [
      "Validating: 100%|██████████| 49/49 [00:22<00:00,  2.20it/s]\n"
     ]
    },
    {
     "name": "stdout",
     "output_type": "stream",
     "text": [
      "LOSS valid 1.9688\n",
      "Accuracy valid 0.7257\n",
      "mIoU valid 0.5493\n",
      "IoU per class: Background=0.6950, Bleached=0.5426, Non-bleached=0.4101\n",
      "Custom Score valid 0.5437\n",
      "Saved improved model checkpoint to ./checkpoints_yellow_0\\model_fold_5_best_score.pth (Custom Score: 0.5437)\n",
      "EPOCH 3/50:\n"
     ]
    },
    {
     "name": "stderr",
     "output_type": "stream",
     "text": [
      "Training: 100%|██████████| 198/198 [01:49<00:00,  1.81it/s]\n"
     ]
    },
    {
     "name": "stdout",
     "output_type": "stream",
     "text": [
      "LOSS train 0.1691\n"
     ]
    },
    {
     "name": "stderr",
     "output_type": "stream",
     "text": [
      "Validating: 100%|██████████| 49/49 [00:25<00:00,  1.93it/s]\n"
     ]
    },
    {
     "name": "stdout",
     "output_type": "stream",
     "text": [
      "LOSS valid 2.1332\n",
      "Accuracy valid 0.7536\n",
      "mIoU valid 0.5687\n",
      "IoU per class: Background=0.7191, Bleached=0.5144, Non-bleached=0.4725\n",
      "Custom Score valid 0.5635\n",
      "Saved improved model checkpoint to ./checkpoints_yellow_0\\model_fold_5_best_score.pth (Custom Score: 0.5635)\n",
      "EPOCH 4/50:\n"
     ]
    },
    {
     "name": "stderr",
     "output_type": "stream",
     "text": [
      "Training: 100%|██████████| 198/198 [01:53<00:00,  1.74it/s]\n"
     ]
    },
    {
     "name": "stdout",
     "output_type": "stream",
     "text": [
      "LOSS train 0.1678\n"
     ]
    },
    {
     "name": "stderr",
     "output_type": "stream",
     "text": [
      "Validating: 100%|██████████| 49/49 [00:20<00:00,  2.33it/s]\n"
     ]
    },
    {
     "name": "stdout",
     "output_type": "stream",
     "text": [
      "LOSS valid 1.8513\n",
      "Accuracy valid 0.7947\n",
      "mIoU valid 0.6131\n",
      "IoU per class: Background=0.7561, Bleached=0.5522, Non-bleached=0.5309\n",
      "Custom Score valid 0.6094\n",
      "Saved improved model checkpoint to ./checkpoints_yellow_0\\model_fold_5_best_score.pth (Custom Score: 0.6094)\n",
      "EPOCH 5/50:\n"
     ]
    },
    {
     "name": "stderr",
     "output_type": "stream",
     "text": [
      "Training: 100%|██████████| 198/198 [01:43<00:00,  1.92it/s]\n"
     ]
    },
    {
     "name": "stdout",
     "output_type": "stream",
     "text": [
      "LOSS train 0.1683\n"
     ]
    },
    {
     "name": "stderr",
     "output_type": "stream",
     "text": [
      "Validating: 100%|██████████| 49/49 [00:23<00:00,  2.09it/s]\n"
     ]
    },
    {
     "name": "stdout",
     "output_type": "stream",
     "text": [
      "LOSS valid 1.0803\n",
      "Accuracy valid 0.8224\n",
      "mIoU valid 0.6345\n",
      "IoU per class: Background=0.7735, Bleached=0.5659, Non-bleached=0.5642\n",
      "Custom Score valid 0.6332\n",
      "Saved improved model checkpoint to ./checkpoints_yellow_0\\model_fold_5_best_score.pth (Custom Score: 0.6332)\n",
      "EPOCH 6/50:\n"
     ]
    },
    {
     "name": "stderr",
     "output_type": "stream",
     "text": [
      "Training: 100%|██████████| 198/198 [01:44<00:00,  1.89it/s]\n"
     ]
    },
    {
     "name": "stdout",
     "output_type": "stream",
     "text": [
      "LOSS train 0.1652\n"
     ]
    },
    {
     "name": "stderr",
     "output_type": "stream",
     "text": [
      "Validating: 100%|██████████| 49/49 [00:22<00:00,  2.21it/s]\n"
     ]
    },
    {
     "name": "stdout",
     "output_type": "stream",
     "text": [
      "LOSS valid 1.4739\n",
      "Accuracy valid 0.7720\n",
      "mIoU valid 0.5880\n",
      "IoU per class: Background=0.7273, Bleached=0.5404, Non-bleached=0.4964\n",
      "Custom Score valid 0.5858\n",
      "EPOCH 7/50:\n"
     ]
    },
    {
     "name": "stderr",
     "output_type": "stream",
     "text": [
      "Training: 100%|██████████| 198/198 [01:44<00:00,  1.89it/s]\n"
     ]
    },
    {
     "name": "stdout",
     "output_type": "stream",
     "text": [
      "LOSS train 0.1560\n"
     ]
    },
    {
     "name": "stderr",
     "output_type": "stream",
     "text": [
      "Validating: 100%|██████████| 49/49 [00:24<00:00,  2.01it/s]\n"
     ]
    },
    {
     "name": "stdout",
     "output_type": "stream",
     "text": [
      "LOSS valid 1.0301\n",
      "Accuracy valid 0.8279\n",
      "mIoU valid 0.6682\n",
      "IoU per class: Background=0.7777, Bleached=0.6238, Non-bleached=0.6031\n",
      "Custom Score valid 0.6694\n",
      "Saved improved model checkpoint to ./checkpoints_yellow_0\\model_fold_5_best_score.pth (Custom Score: 0.6694)\n",
      "EPOCH 8/50:\n"
     ]
    },
    {
     "name": "stderr",
     "output_type": "stream",
     "text": [
      "Training: 100%|██████████| 198/198 [01:46<00:00,  1.86it/s]\n"
     ]
    },
    {
     "name": "stdout",
     "output_type": "stream",
     "text": [
      "LOSS train 0.1535\n"
     ]
    },
    {
     "name": "stderr",
     "output_type": "stream",
     "text": [
      "Validating: 100%|██████████| 49/49 [00:25<00:00,  1.95it/s]\n"
     ]
    },
    {
     "name": "stdout",
     "output_type": "stream",
     "text": [
      "LOSS valid 1.4062\n",
      "Accuracy valid 0.7495\n",
      "mIoU valid 0.5702\n",
      "IoU per class: Background=0.7037, Bleached=0.5233, Non-bleached=0.4836\n",
      "Custom Score valid 0.5687\n",
      "EPOCH 9/50:\n"
     ]
    },
    {
     "name": "stderr",
     "output_type": "stream",
     "text": [
      "Training: 100%|██████████| 198/198 [01:42<00:00,  1.93it/s]\n"
     ]
    },
    {
     "name": "stdout",
     "output_type": "stream",
     "text": [
      "LOSS train 0.1549\n"
     ]
    },
    {
     "name": "stderr",
     "output_type": "stream",
     "text": [
      "Validating: 100%|██████████| 49/49 [00:19<00:00,  2.49it/s]\n"
     ]
    },
    {
     "name": "stdout",
     "output_type": "stream",
     "text": [
      "LOSS valid 2.0100\n",
      "Accuracy valid 0.7587\n",
      "mIoU valid 0.5684\n",
      "IoU per class: Background=0.7238, Bleached=0.5363, Non-bleached=0.4453\n",
      "Custom Score valid 0.5630\n",
      "EPOCH 10/50:\n"
     ]
    },
    {
     "name": "stderr",
     "output_type": "stream",
     "text": [
      "Training: 100%|██████████| 198/198 [01:42<00:00,  1.92it/s]\n"
     ]
    },
    {
     "name": "stdout",
     "output_type": "stream",
     "text": [
      "LOSS train 0.1550\n"
     ]
    },
    {
     "name": "stderr",
     "output_type": "stream",
     "text": [
      "Validating: 100%|██████████| 49/49 [00:21<00:00,  2.26it/s]\n"
     ]
    },
    {
     "name": "stdout",
     "output_type": "stream",
     "text": [
      "LOSS valid 1.0589\n",
      "Accuracy valid 0.8021\n",
      "mIoU valid 0.6326\n",
      "IoU per class: Background=0.7647, Bleached=0.5780, Non-bleached=0.5550\n",
      "Custom Score valid 0.6295\n",
      "EPOCH 11/50:\n"
     ]
    },
    {
     "name": "stderr",
     "output_type": "stream",
     "text": [
      "Training: 100%|██████████| 198/198 [01:35<00:00,  2.07it/s]\n"
     ]
    },
    {
     "name": "stdout",
     "output_type": "stream",
     "text": [
      "LOSS train 0.1548\n"
     ]
    },
    {
     "name": "stderr",
     "output_type": "stream",
     "text": [
      "Validating: 100%|██████████| 49/49 [00:22<00:00,  2.21it/s]\n"
     ]
    },
    {
     "name": "stdout",
     "output_type": "stream",
     "text": [
      "LOSS valid 1.4856\n",
      "Accuracy valid 0.7650\n",
      "mIoU valid 0.5729\n",
      "IoU per class: Background=0.7229, Bleached=0.5221, Non-bleached=0.4735\n",
      "Custom Score valid 0.5693\n",
      "EPOCH 12/50:\n"
     ]
    },
    {
     "name": "stderr",
     "output_type": "stream",
     "text": [
      "Training: 100%|██████████| 198/198 [01:29<00:00,  2.21it/s]\n"
     ]
    },
    {
     "name": "stdout",
     "output_type": "stream",
     "text": [
      "LOSS train 0.1572\n"
     ]
    },
    {
     "name": "stderr",
     "output_type": "stream",
     "text": [
      "Validating: 100%|██████████| 49/49 [00:22<00:00,  2.16it/s]\n"
     ]
    },
    {
     "name": "stdout",
     "output_type": "stream",
     "text": [
      "LOSS valid 1.0069\n",
      "Accuracy valid 0.8061\n",
      "mIoU valid 0.6237\n",
      "IoU per class: Background=0.7657, Bleached=0.5620, Non-bleached=0.5435\n",
      "Custom Score valid 0.6205\n",
      "EPOCH 13/50:\n"
     ]
    },
    {
     "name": "stderr",
     "output_type": "stream",
     "text": [
      "Training: 100%|██████████| 198/198 [01:56<00:00,  1.69it/s]\n"
     ]
    },
    {
     "name": "stdout",
     "output_type": "stream",
     "text": [
      "LOSS train 0.1653\n"
     ]
    },
    {
     "name": "stderr",
     "output_type": "stream",
     "text": [
      "Validating: 100%|██████████| 49/49 [00:28<00:00,  1.69it/s]\n"
     ]
    },
    {
     "name": "stdout",
     "output_type": "stream",
     "text": [
      "LOSS valid 1.1919\n",
      "Accuracy valid 0.7916\n",
      "mIoU valid 0.6139\n",
      "IoU per class: Background=0.7556, Bleached=0.5527, Non-bleached=0.5335\n",
      "Custom Score valid 0.6098\n",
      "EPOCH 14/50:\n"
     ]
    },
    {
     "name": "stderr",
     "output_type": "stream",
     "text": [
      "Training: 100%|██████████| 198/198 [01:39<00:00,  1.99it/s]\n"
     ]
    },
    {
     "name": "stdout",
     "output_type": "stream",
     "text": [
      "LOSS train 0.1590\n"
     ]
    },
    {
     "name": "stderr",
     "output_type": "stream",
     "text": [
      "Validating: 100%|██████████| 49/49 [00:22<00:00,  2.21it/s]\n"
     ]
    },
    {
     "name": "stdout",
     "output_type": "stream",
     "text": [
      "LOSS valid 1.4724\n",
      "Accuracy valid 0.7553\n",
      "mIoU valid 0.5705\n",
      "IoU per class: Background=0.7165, Bleached=0.5173, Non-bleached=0.4777\n",
      "Custom Score valid 0.5666\n",
      "EPOCH 15/50:\n"
     ]
    },
    {
     "name": "stderr",
     "output_type": "stream",
     "text": [
      "Training: 100%|██████████| 198/198 [01:38<00:00,  2.01it/s]\n"
     ]
    },
    {
     "name": "stdout",
     "output_type": "stream",
     "text": [
      "LOSS train 0.1470\n"
     ]
    },
    {
     "name": "stderr",
     "output_type": "stream",
     "text": [
      "Validating: 100%|██████████| 49/49 [00:22<00:00,  2.21it/s]\n"
     ]
    },
    {
     "name": "stdout",
     "output_type": "stream",
     "text": [
      "LOSS valid 0.9577\n",
      "Accuracy valid 0.8332\n",
      "mIoU valid 0.6476\n",
      "IoU per class: Background=0.7984, Bleached=0.5564, Non-bleached=0.5881\n",
      "Custom Score valid 0.6425\n",
      "EPOCH 16/50:\n"
     ]
    },
    {
     "name": "stderr",
     "output_type": "stream",
     "text": [
      "Training: 100%|██████████| 198/198 [01:29<00:00,  2.21it/s]\n"
     ]
    },
    {
     "name": "stdout",
     "output_type": "stream",
     "text": [
      "LOSS train 0.1548\n"
     ]
    },
    {
     "name": "stderr",
     "output_type": "stream",
     "text": [
      "Validating: 100%|██████████| 49/49 [00:20<00:00,  2.35it/s]\n"
     ]
    },
    {
     "name": "stdout",
     "output_type": "stream",
     "text": [
      "LOSS valid 1.3471\n",
      "Accuracy valid 0.7886\n",
      "mIoU valid 0.6032\n",
      "IoU per class: Background=0.7495, Bleached=0.5150, Non-bleached=0.5450\n",
      "Custom Score valid 0.5993\n",
      "EPOCH 17/50:\n"
     ]
    },
    {
     "name": "stderr",
     "output_type": "stream",
     "text": [
      "Training: 100%|██████████| 198/198 [01:28<00:00,  2.24it/s]\n"
     ]
    },
    {
     "name": "stdout",
     "output_type": "stream",
     "text": [
      "LOSS train 0.1543\n"
     ]
    },
    {
     "name": "stderr",
     "output_type": "stream",
     "text": [
      "Validating: 100%|██████████| 49/49 [00:20<00:00,  2.40it/s]\n"
     ]
    },
    {
     "name": "stdout",
     "output_type": "stream",
     "text": [
      "LOSS valid 1.0367\n",
      "Accuracy valid 0.8229\n",
      "mIoU valid 0.6499\n",
      "IoU per class: Background=0.7868, Bleached=0.5943, Non-bleached=0.5685\n",
      "Custom Score valid 0.6461\n",
      "EPOCH 18/50:\n"
     ]
    },
    {
     "name": "stderr",
     "output_type": "stream",
     "text": [
      "Training: 100%|██████████| 198/198 [01:29<00:00,  2.22it/s]\n"
     ]
    },
    {
     "name": "stdout",
     "output_type": "stream",
     "text": [
      "LOSS train 0.1458\n"
     ]
    },
    {
     "name": "stderr",
     "output_type": "stream",
     "text": [
      "Validating: 100%|██████████| 49/49 [00:20<00:00,  2.41it/s]\n"
     ]
    },
    {
     "name": "stdout",
     "output_type": "stream",
     "text": [
      "LOSS valid 0.9534\n",
      "Accuracy valid 0.8194\n",
      "mIoU valid 0.6460\n",
      "IoU per class: Background=0.7758, Bleached=0.5804, Non-bleached=0.5817\n",
      "Custom Score valid 0.6443\n",
      "EPOCH 19/50:\n"
     ]
    },
    {
     "name": "stderr",
     "output_type": "stream",
     "text": [
      "Training: 100%|██████████| 198/198 [01:28<00:00,  2.24it/s]\n"
     ]
    },
    {
     "name": "stdout",
     "output_type": "stream",
     "text": [
      "LOSS train 0.1641\n"
     ]
    },
    {
     "name": "stderr",
     "output_type": "stream",
     "text": [
      "Validating: 100%|██████████| 49/49 [00:21<00:00,  2.30it/s]\n"
     ]
    },
    {
     "name": "stdout",
     "output_type": "stream",
     "text": [
      "LOSS valid 1.2241\n",
      "Accuracy valid 0.7669\n",
      "mIoU valid 0.5861\n",
      "IoU per class: Background=0.7332, Bleached=0.5628, Non-bleached=0.4623\n",
      "Custom Score valid 0.5811\n",
      "EPOCH 20/50:\n"
     ]
    },
    {
     "name": "stderr",
     "output_type": "stream",
     "text": [
      "Training: 100%|██████████| 198/198 [01:30<00:00,  2.18it/s]\n"
     ]
    },
    {
     "name": "stdout",
     "output_type": "stream",
     "text": [
      "LOSS train 0.1610\n"
     ]
    },
    {
     "name": "stderr",
     "output_type": "stream",
     "text": [
      "Validating: 100%|██████████| 49/49 [00:21<00:00,  2.33it/s]\n"
     ]
    },
    {
     "name": "stdout",
     "output_type": "stream",
     "text": [
      "LOSS valid 0.8682\n",
      "Accuracy valid 0.8099\n",
      "mIoU valid 0.6185\n",
      "IoU per class: Background=0.7723, Bleached=0.5415, Non-bleached=0.5418\n",
      "Custom Score valid 0.6138\n",
      "EPOCH 21/50:\n"
     ]
    },
    {
     "name": "stderr",
     "output_type": "stream",
     "text": [
      "Training: 100%|██████████| 198/198 [01:27<00:00,  2.27it/s]\n"
     ]
    },
    {
     "name": "stdout",
     "output_type": "stream",
     "text": [
      "LOSS train 0.1495\n"
     ]
    },
    {
     "name": "stderr",
     "output_type": "stream",
     "text": [
      "Validating: 100%|██████████| 49/49 [00:19<00:00,  2.53it/s]\n"
     ]
    },
    {
     "name": "stdout",
     "output_type": "stream",
     "text": [
      "LOSS valid 1.6253\n",
      "Accuracy valid 0.7656\n",
      "mIoU valid 0.5793\n",
      "IoU per class: Background=0.7418, Bleached=0.4928, Non-bleached=0.5032\n",
      "Custom Score valid 0.5710\n",
      "EPOCH 22/50:\n"
     ]
    },
    {
     "name": "stderr",
     "output_type": "stream",
     "text": [
      "Training: 100%|██████████| 198/198 [01:27<00:00,  2.26it/s]\n"
     ]
    },
    {
     "name": "stdout",
     "output_type": "stream",
     "text": [
      "LOSS train 0.1613\n"
     ]
    },
    {
     "name": "stderr",
     "output_type": "stream",
     "text": [
      "Validating: 100%|██████████| 49/49 [00:19<00:00,  2.49it/s]\n"
     ]
    },
    {
     "name": "stdout",
     "output_type": "stream",
     "text": [
      "LOSS valid 1.2776\n",
      "Accuracy valid 0.8114\n",
      "mIoU valid 0.6204\n",
      "IoU per class: Background=0.7675, Bleached=0.5200, Non-bleached=0.5738\n",
      "Custom Score valid 0.6175\n",
      "EPOCH 23/50:\n"
     ]
    },
    {
     "name": "stderr",
     "output_type": "stream",
     "text": [
      "Training: 100%|██████████| 198/198 [01:31<00:00,  2.17it/s]\n"
     ]
    },
    {
     "name": "stdout",
     "output_type": "stream",
     "text": [
      "LOSS train 0.1604\n"
     ]
    },
    {
     "name": "stderr",
     "output_type": "stream",
     "text": [
      "Validating: 100%|██████████| 49/49 [00:21<00:00,  2.32it/s]\n"
     ]
    },
    {
     "name": "stdout",
     "output_type": "stream",
     "text": [
      "LOSS valid 1.4041\n",
      "Accuracy valid 0.7605\n",
      "mIoU valid 0.5844\n",
      "IoU per class: Background=0.7225, Bleached=0.5326, Non-bleached=0.4980\n",
      "Custom Score valid 0.5809\n",
      "EPOCH 24/50:\n"
     ]
    },
    {
     "name": "stderr",
     "output_type": "stream",
     "text": [
      "Training: 100%|██████████| 198/198 [01:28<00:00,  2.24it/s]\n"
     ]
    },
    {
     "name": "stdout",
     "output_type": "stream",
     "text": [
      "LOSS train 0.1542\n"
     ]
    },
    {
     "name": "stderr",
     "output_type": "stream",
     "text": [
      "Validating: 100%|██████████| 49/49 [00:20<00:00,  2.38it/s]\n"
     ]
    },
    {
     "name": "stdout",
     "output_type": "stream",
     "text": [
      "LOSS valid 1.0576\n",
      "Accuracy valid 0.7724\n",
      "mIoU valid 0.5860\n",
      "IoU per class: Background=0.7242, Bleached=0.5452, Non-bleached=0.4884\n",
      "Custom Score valid 0.5845\n",
      "EPOCH 25/50:\n"
     ]
    },
    {
     "name": "stderr",
     "output_type": "stream",
     "text": [
      "Training: 100%|██████████| 198/198 [01:28<00:00,  2.24it/s]\n"
     ]
    },
    {
     "name": "stdout",
     "output_type": "stream",
     "text": [
      "LOSS train 0.1896\n"
     ]
    },
    {
     "name": "stderr",
     "output_type": "stream",
     "text": [
      "Validating: 100%|██████████| 49/49 [00:20<00:00,  2.39it/s]\n"
     ]
    },
    {
     "name": "stdout",
     "output_type": "stream",
     "text": [
      "LOSS valid 1.1825\n",
      "Accuracy valid 0.7443\n",
      "mIoU valid 0.5629\n",
      "IoU per class: Background=0.6963, Bleached=0.5771, Non-bleached=0.4152\n",
      "Custom Score valid 0.5618\n",
      "EPOCH 26/50:\n"
     ]
    },
    {
     "name": "stderr",
     "output_type": "stream",
     "text": [
      "Training: 100%|██████████| 198/198 [01:29<00:00,  2.21it/s]\n"
     ]
    },
    {
     "name": "stdout",
     "output_type": "stream",
     "text": [
      "LOSS train 0.1733\n"
     ]
    },
    {
     "name": "stderr",
     "output_type": "stream",
     "text": [
      "Validating: 100%|██████████| 49/49 [00:21<00:00,  2.33it/s]\n"
     ]
    },
    {
     "name": "stdout",
     "output_type": "stream",
     "text": [
      "LOSS valid 0.7100\n",
      "Accuracy valid 0.8178\n",
      "mIoU valid 0.6318\n",
      "IoU per class: Background=0.7735, Bleached=0.5539, Non-bleached=0.5679\n",
      "Custom Score valid 0.6293\n",
      "EPOCH 27/50:\n"
     ]
    },
    {
     "name": "stderr",
     "output_type": "stream",
     "text": [
      "Training: 100%|██████████| 198/198 [01:29<00:00,  2.20it/s]\n"
     ]
    },
    {
     "name": "stdout",
     "output_type": "stream",
     "text": [
      "LOSS train 0.1591\n"
     ]
    },
    {
     "name": "stderr",
     "output_type": "stream",
     "text": [
      "Validating: 100%|██████████| 49/49 [00:22<00:00,  2.16it/s]\n"
     ]
    },
    {
     "name": "stdout",
     "output_type": "stream",
     "text": [
      "LOSS valid 1.1100\n",
      "Accuracy valid 0.7808\n",
      "mIoU valid 0.5972\n",
      "IoU per class: Background=0.7373, Bleached=0.5782, Non-bleached=0.4761\n",
      "Custom Score valid 0.5947\n",
      "EPOCH 28/50:\n"
     ]
    },
    {
     "name": "stderr",
     "output_type": "stream",
     "text": [
      "Training: 100%|██████████| 198/198 [01:29<00:00,  2.20it/s]\n"
     ]
    },
    {
     "name": "stdout",
     "output_type": "stream",
     "text": [
      "LOSS train 0.1536\n"
     ]
    },
    {
     "name": "stderr",
     "output_type": "stream",
     "text": [
      "Validating: 100%|██████████| 49/49 [00:23<00:00,  2.12it/s]\n"
     ]
    },
    {
     "name": "stdout",
     "output_type": "stream",
     "text": [
      "LOSS valid 1.0612\n",
      "Accuracy valid 0.7727\n",
      "mIoU valid 0.5725\n",
      "IoU per class: Background=0.7313, Bleached=0.5262, Non-bleached=0.4602\n",
      "Custom Score valid 0.5681\n",
      "EPOCH 29/50:\n"
     ]
    },
    {
     "name": "stderr",
     "output_type": "stream",
     "text": [
      "Training: 100%|██████████| 198/198 [01:32<00:00,  2.15it/s]\n"
     ]
    },
    {
     "name": "stdout",
     "output_type": "stream",
     "text": [
      "LOSS train 0.1412\n"
     ]
    },
    {
     "name": "stderr",
     "output_type": "stream",
     "text": [
      "Validating: 100%|██████████| 49/49 [00:24<00:00,  1.99it/s]\n"
     ]
    },
    {
     "name": "stdout",
     "output_type": "stream",
     "text": [
      "LOSS valid 0.8982\n",
      "Accuracy valid 0.7841\n",
      "mIoU valid 0.6062\n",
      "IoU per class: Background=0.7332, Bleached=0.5945, Non-bleached=0.4908\n",
      "Custom Score valid 0.6062\n",
      "EPOCH 30/50:\n"
     ]
    },
    {
     "name": "stderr",
     "output_type": "stream",
     "text": [
      "Training: 100%|██████████| 198/198 [01:29<00:00,  2.22it/s]\n"
     ]
    },
    {
     "name": "stdout",
     "output_type": "stream",
     "text": [
      "LOSS train 0.1457\n"
     ]
    },
    {
     "name": "stderr",
     "output_type": "stream",
     "text": [
      "Validating: 100%|██████████| 49/49 [00:21<00:00,  2.24it/s]\n"
     ]
    },
    {
     "name": "stdout",
     "output_type": "stream",
     "text": [
      "LOSS valid 0.9480\n",
      "Accuracy valid 0.7948\n",
      "mIoU valid 0.6000\n",
      "IoU per class: Background=0.7478, Bleached=0.5567, Non-bleached=0.4956\n",
      "Custom Score valid 0.5976\n",
      "EPOCH 31/50:\n"
     ]
    },
    {
     "name": "stderr",
     "output_type": "stream",
     "text": [
      "Training: 100%|██████████| 198/198 [01:28<00:00,  2.24it/s]\n"
     ]
    },
    {
     "name": "stdout",
     "output_type": "stream",
     "text": [
      "LOSS train 0.1515\n"
     ]
    },
    {
     "name": "stderr",
     "output_type": "stream",
     "text": [
      "Validating: 100%|██████████| 49/49 [00:21<00:00,  2.32it/s]\n"
     ]
    },
    {
     "name": "stdout",
     "output_type": "stream",
     "text": [
      "LOSS valid 1.4803\n",
      "Accuracy valid 0.7160\n",
      "mIoU valid 0.5222\n",
      "IoU per class: Background=0.6674, Bleached=0.5340, Non-bleached=0.3652\n",
      "Custom Score valid 0.5203\n",
      "EPOCH 32/50:\n"
     ]
    },
    {
     "name": "stderr",
     "output_type": "stream",
     "text": [
      "Training: 100%|██████████| 198/198 [01:31<00:00,  2.16it/s]\n"
     ]
    },
    {
     "name": "stdout",
     "output_type": "stream",
     "text": [
      "LOSS train 0.1483\n"
     ]
    },
    {
     "name": "stderr",
     "output_type": "stream",
     "text": [
      "Validating: 100%|██████████| 49/49 [00:20<00:00,  2.36it/s]\n"
     ]
    },
    {
     "name": "stdout",
     "output_type": "stream",
     "text": [
      "LOSS valid 0.8370\n",
      "Accuracy valid 0.7798\n",
      "mIoU valid 0.6021\n",
      "IoU per class: Background=0.7371, Bleached=0.5596, Non-bleached=0.5094\n",
      "Custom Score valid 0.5998\n",
      "EPOCH 33/50:\n"
     ]
    },
    {
     "name": "stderr",
     "output_type": "stream",
     "text": [
      "Training: 100%|██████████| 198/198 [01:29<00:00,  2.22it/s]\n"
     ]
    },
    {
     "name": "stdout",
     "output_type": "stream",
     "text": [
      "LOSS train 0.1490\n"
     ]
    },
    {
     "name": "stderr",
     "output_type": "stream",
     "text": [
      "Validating: 100%|██████████| 49/49 [00:20<00:00,  2.42it/s]\n"
     ]
    },
    {
     "name": "stdout",
     "output_type": "stream",
     "text": [
      "LOSS valid 1.4588\n",
      "Accuracy valid 0.7396\n",
      "mIoU valid 0.5672\n",
      "IoU per class: Background=0.6929, Bleached=0.5726, Non-bleached=0.4361\n",
      "Custom Score valid 0.5665\n",
      "EPOCH 34/50:\n"
     ]
    },
    {
     "name": "stderr",
     "output_type": "stream",
     "text": [
      "Training: 100%|██████████| 198/198 [01:29<00:00,  2.22it/s]\n"
     ]
    },
    {
     "name": "stdout",
     "output_type": "stream",
     "text": [
      "LOSS train 0.2122\n"
     ]
    },
    {
     "name": "stderr",
     "output_type": "stream",
     "text": [
      "Validating: 100%|██████████| 49/49 [00:20<00:00,  2.35it/s]\n"
     ]
    },
    {
     "name": "stdout",
     "output_type": "stream",
     "text": [
      "LOSS valid 0.9281\n",
      "Accuracy valid 0.7868\n",
      "mIoU valid 0.5987\n",
      "IoU per class: Background=0.7562, Bleached=0.5605, Non-bleached=0.4793\n",
      "Custom Score valid 0.5922\n",
      "EPOCH 35/50:\n"
     ]
    },
    {
     "name": "stderr",
     "output_type": "stream",
     "text": [
      "Training: 100%|██████████| 198/198 [01:28<00:00,  2.23it/s]\n"
     ]
    },
    {
     "name": "stdout",
     "output_type": "stream",
     "text": [
      "LOSS train 0.1728\n"
     ]
    },
    {
     "name": "stderr",
     "output_type": "stream",
     "text": [
      "Validating: 100%|██████████| 49/49 [00:20<00:00,  2.36it/s]\n"
     ]
    },
    {
     "name": "stdout",
     "output_type": "stream",
     "text": [
      "LOSS valid 1.0990\n",
      "Accuracy valid 0.7609\n",
      "mIoU valid 0.5640\n",
      "IoU per class: Background=0.7203, Bleached=0.5328, Non-bleached=0.4390\n",
      "Custom Score valid 0.5596\n",
      "EPOCH 36/50:\n"
     ]
    },
    {
     "name": "stderr",
     "output_type": "stream",
     "text": [
      "Training: 100%|██████████| 198/198 [01:26<00:00,  2.28it/s]\n"
     ]
    },
    {
     "name": "stdout",
     "output_type": "stream",
     "text": [
      "LOSS train 0.1488\n"
     ]
    },
    {
     "name": "stderr",
     "output_type": "stream",
     "text": [
      "Validating: 100%|██████████| 49/49 [00:21<00:00,  2.33it/s]\n"
     ]
    },
    {
     "name": "stdout",
     "output_type": "stream",
     "text": [
      "LOSS valid 1.0834\n",
      "Accuracy valid 0.7936\n",
      "mIoU valid 0.6164\n",
      "IoU per class: Background=0.7394, Bleached=0.5834, Non-bleached=0.5264\n",
      "Custom Score valid 0.6174\n",
      "EPOCH 37/50:\n"
     ]
    },
    {
     "name": "stderr",
     "output_type": "stream",
     "text": [
      "Training: 100%|██████████| 198/198 [01:28<00:00,  2.23it/s]\n"
     ]
    },
    {
     "name": "stdout",
     "output_type": "stream",
     "text": [
      "LOSS train 0.1429\n"
     ]
    },
    {
     "name": "stderr",
     "output_type": "stream",
     "text": [
      "Validating: 100%|██████████| 49/49 [00:20<00:00,  2.44it/s]\n"
     ]
    },
    {
     "name": "stdout",
     "output_type": "stream",
     "text": [
      "LOSS valid 0.9040\n",
      "Accuracy valid 0.8087\n",
      "mIoU valid 0.6312\n",
      "IoU per class: Background=0.7757, Bleached=0.5804, Non-bleached=0.5375\n",
      "Custom Score valid 0.6262\n",
      "EPOCH 38/50:\n"
     ]
    },
    {
     "name": "stderr",
     "output_type": "stream",
     "text": [
      "Training: 100%|██████████| 198/198 [01:28<00:00,  2.23it/s]\n"
     ]
    },
    {
     "name": "stdout",
     "output_type": "stream",
     "text": [
      "LOSS train 0.1507\n"
     ]
    },
    {
     "name": "stderr",
     "output_type": "stream",
     "text": [
      "Validating: 100%|██████████| 49/49 [00:21<00:00,  2.32it/s]\n"
     ]
    },
    {
     "name": "stdout",
     "output_type": "stream",
     "text": [
      "LOSS valid 1.1203\n",
      "Accuracy valid 0.7650\n",
      "mIoU valid 0.5883\n",
      "IoU per class: Background=0.7297, Bleached=0.5333, Non-bleached=0.5020\n",
      "Custom Score valid 0.5841\n",
      "EPOCH 39/50:\n"
     ]
    },
    {
     "name": "stderr",
     "output_type": "stream",
     "text": [
      "Training: 100%|██████████| 198/198 [01:28<00:00,  2.24it/s]\n"
     ]
    },
    {
     "name": "stdout",
     "output_type": "stream",
     "text": [
      "LOSS train 0.1550\n"
     ]
    },
    {
     "name": "stderr",
     "output_type": "stream",
     "text": [
      "Validating: 100%|██████████| 49/49 [00:20<00:00,  2.36it/s]\n"
     ]
    },
    {
     "name": "stdout",
     "output_type": "stream",
     "text": [
      "LOSS valid 1.6671\n",
      "Accuracy valid 0.7266\n",
      "mIoU valid 0.5240\n",
      "IoU per class: Background=0.6848, Bleached=0.4810, Non-bleached=0.4063\n",
      "Custom Score valid 0.5195\n",
      "EPOCH 40/50:\n"
     ]
    },
    {
     "name": "stderr",
     "output_type": "stream",
     "text": [
      "Training: 100%|██████████| 198/198 [01:29<00:00,  2.20it/s]\n"
     ]
    },
    {
     "name": "stdout",
     "output_type": "stream",
     "text": [
      "LOSS train 0.1422\n"
     ]
    },
    {
     "name": "stderr",
     "output_type": "stream",
     "text": [
      "Validating: 100%|██████████| 49/49 [00:21<00:00,  2.27it/s]\n"
     ]
    },
    {
     "name": "stdout",
     "output_type": "stream",
     "text": [
      "LOSS valid 1.0199\n",
      "Accuracy valid 0.7951\n",
      "mIoU valid 0.6074\n",
      "IoU per class: Background=0.7676, Bleached=0.5423, Non-bleached=0.5122\n",
      "Custom Score valid 0.6000\n",
      "EPOCH 41/50:\n"
     ]
    },
    {
     "name": "stderr",
     "output_type": "stream",
     "text": [
      "Training: 100%|██████████| 198/198 [01:27<00:00,  2.25it/s]\n"
     ]
    },
    {
     "name": "stdout",
     "output_type": "stream",
     "text": [
      "LOSS train 0.1454\n"
     ]
    },
    {
     "name": "stderr",
     "output_type": "stream",
     "text": [
      "Validating: 100%|██████████| 49/49 [00:21<00:00,  2.30it/s]\n"
     ]
    },
    {
     "name": "stdout",
     "output_type": "stream",
     "text": [
      "LOSS valid 1.2606\n",
      "Accuracy valid 0.7578\n",
      "mIoU valid 0.5713\n",
      "IoU per class: Background=0.7168, Bleached=0.5269, Non-bleached=0.4702\n",
      "Custom Score valid 0.5679\n",
      "EPOCH 42/50:\n"
     ]
    },
    {
     "name": "stderr",
     "output_type": "stream",
     "text": [
      "Training: 100%|██████████| 198/198 [01:30<00:00,  2.20it/s]\n"
     ]
    },
    {
     "name": "stdout",
     "output_type": "stream",
     "text": [
      "LOSS train 0.1610\n"
     ]
    },
    {
     "name": "stderr",
     "output_type": "stream",
     "text": [
      "Validating: 100%|██████████| 49/49 [00:20<00:00,  2.35it/s]\n"
     ]
    },
    {
     "name": "stdout",
     "output_type": "stream",
     "text": [
      "LOSS valid 0.9232\n",
      "Accuracy valid 0.7652\n",
      "mIoU valid 0.5623\n",
      "IoU per class: Background=0.7299, Bleached=0.5195, Non-bleached=0.4374\n",
      "Custom Score valid 0.5559\n",
      "EPOCH 43/50:\n"
     ]
    },
    {
     "name": "stderr",
     "output_type": "stream",
     "text": [
      "Training: 100%|██████████| 198/198 [01:28<00:00,  2.24it/s]\n"
     ]
    },
    {
     "name": "stdout",
     "output_type": "stream",
     "text": [
      "LOSS train 0.2076\n"
     ]
    },
    {
     "name": "stderr",
     "output_type": "stream",
     "text": [
      "Validating: 100%|██████████| 49/49 [00:21<00:00,  2.28it/s]\n"
     ]
    },
    {
     "name": "stdout",
     "output_type": "stream",
     "text": [
      "LOSS valid 1.1753\n",
      "Accuracy valid 0.7474\n",
      "mIoU valid 0.5666\n",
      "IoU per class: Background=0.7178, Bleached=0.5464, Non-bleached=0.4358\n",
      "Custom Score valid 0.5605\n",
      "EPOCH 44/50:\n"
     ]
    },
    {
     "name": "stderr",
     "output_type": "stream",
     "text": [
      "Training: 100%|██████████| 198/198 [01:26<00:00,  2.28it/s]\n"
     ]
    },
    {
     "name": "stdout",
     "output_type": "stream",
     "text": [
      "LOSS train 0.1458\n"
     ]
    },
    {
     "name": "stderr",
     "output_type": "stream",
     "text": [
      "Validating: 100%|██████████| 49/49 [00:20<00:00,  2.35it/s]\n"
     ]
    },
    {
     "name": "stdout",
     "output_type": "stream",
     "text": [
      "LOSS valid 1.5679\n",
      "Accuracy valid 0.7299\n",
      "mIoU valid 0.5394\n",
      "IoU per class: Background=0.6943, Bleached=0.5185, Non-bleached=0.4055\n",
      "Custom Score valid 0.5342\n",
      "EPOCH 45/50:\n"
     ]
    },
    {
     "name": "stderr",
     "output_type": "stream",
     "text": [
      "Training: 100%|██████████| 198/198 [01:30<00:00,  2.18it/s]\n"
     ]
    },
    {
     "name": "stdout",
     "output_type": "stream",
     "text": [
      "LOSS train 0.1404\n"
     ]
    },
    {
     "name": "stderr",
     "output_type": "stream",
     "text": [
      "Validating: 100%|██████████| 49/49 [00:20<00:00,  2.34it/s]\n"
     ]
    },
    {
     "name": "stdout",
     "output_type": "stream",
     "text": [
      "LOSS valid 0.7972\n",
      "Accuracy valid 0.8083\n",
      "mIoU valid 0.6226\n",
      "IoU per class: Background=0.7660, Bleached=0.5480, Non-bleached=0.5539\n",
      "Custom Score valid 0.6196\n",
      "EPOCH 46/50:\n"
     ]
    },
    {
     "name": "stderr",
     "output_type": "stream",
     "text": [
      "Training: 100%|██████████| 198/198 [01:28<00:00,  2.24it/s]\n"
     ]
    },
    {
     "name": "stdout",
     "output_type": "stream",
     "text": [
      "LOSS train 0.1486\n"
     ]
    },
    {
     "name": "stderr",
     "output_type": "stream",
     "text": [
      "Validating: 100%|██████████| 49/49 [00:20<00:00,  2.39it/s]\n"
     ]
    },
    {
     "name": "stdout",
     "output_type": "stream",
     "text": [
      "LOSS valid 1.1266\n",
      "Accuracy valid 0.7854\n",
      "mIoU valid 0.5951\n",
      "IoU per class: Background=0.7382, Bleached=0.5230, Non-bleached=0.5242\n",
      "Custom Score valid 0.5931\n",
      "EPOCH 47/50:\n"
     ]
    },
    {
     "name": "stderr",
     "output_type": "stream",
     "text": [
      "Training: 100%|██████████| 198/198 [01:28<00:00,  2.23it/s]\n"
     ]
    },
    {
     "name": "stdout",
     "output_type": "stream",
     "text": [
      "LOSS train 0.1404\n"
     ]
    },
    {
     "name": "stderr",
     "output_type": "stream",
     "text": [
      "Validating: 100%|██████████| 49/49 [00:21<00:00,  2.33it/s]\n"
     ]
    },
    {
     "name": "stdout",
     "output_type": "stream",
     "text": [
      "LOSS valid 0.9888\n",
      "Accuracy valid 0.7868\n",
      "mIoU valid 0.6160\n",
      "IoU per class: Background=0.7431, Bleached=0.5765, Non-bleached=0.5286\n",
      "Custom Score valid 0.6146\n",
      "EPOCH 48/50:\n"
     ]
    },
    {
     "name": "stderr",
     "output_type": "stream",
     "text": [
      "Training: 100%|██████████| 198/198 [01:39<00:00,  1.98it/s]\n"
     ]
    },
    {
     "name": "stdout",
     "output_type": "stream",
     "text": [
      "LOSS train 0.1398\n"
     ]
    },
    {
     "name": "stderr",
     "output_type": "stream",
     "text": [
      "Validating: 100%|██████████| 49/49 [00:21<00:00,  2.23it/s]\n"
     ]
    },
    {
     "name": "stdout",
     "output_type": "stream",
     "text": [
      "LOSS valid 1.1936\n",
      "Accuracy valid 0.7648\n",
      "mIoU valid 0.5815\n",
      "IoU per class: Background=0.7158, Bleached=0.5445, Non-bleached=0.4843\n",
      "Custom Score valid 0.5806\n",
      "EPOCH 49/50:\n"
     ]
    },
    {
     "name": "stderr",
     "output_type": "stream",
     "text": [
      "Training: 100%|██████████| 198/198 [01:31<00:00,  2.16it/s]\n"
     ]
    },
    {
     "name": "stdout",
     "output_type": "stream",
     "text": [
      "LOSS train 0.1324\n"
     ]
    },
    {
     "name": "stderr",
     "output_type": "stream",
     "text": [
      "Validating: 100%|██████████| 49/49 [00:21<00:00,  2.30it/s]\n"
     ]
    },
    {
     "name": "stdout",
     "output_type": "stream",
     "text": [
      "LOSS valid 1.0092\n",
      "Accuracy valid 0.7972\n",
      "mIoU valid 0.6133\n",
      "IoU per class: Background=0.7504, Bleached=0.5669, Non-bleached=0.5225\n",
      "Custom Score valid 0.6116\n",
      "EPOCH 50/50:\n"
     ]
    },
    {
     "name": "stderr",
     "output_type": "stream",
     "text": [
      "Training: 100%|██████████| 198/198 [01:27<00:00,  2.27it/s]\n"
     ]
    },
    {
     "name": "stdout",
     "output_type": "stream",
     "text": [
      "LOSS train 0.1305\n"
     ]
    },
    {
     "name": "stderr",
     "output_type": "stream",
     "text": [
      "Validating: 100%|██████████| 49/49 [00:21<00:00,  2.31it/s]\n"
     ]
    },
    {
     "name": "stdout",
     "output_type": "stream",
     "text": [
      "LOSS valid 1.0281\n",
      "Accuracy valid 0.7740\n",
      "mIoU valid 0.5811\n",
      "IoU per class: Background=0.7388, Bleached=0.5403, Non-bleached=0.4640\n",
      "Custom Score valid 0.5755\n",
      "\n",
      "Saved best overall model checkpoint to ./checkpoints_yellow_0\\best_overall_model.pth (Custom Score: 0.6694)\n",
      "\n",
      "Average Final mIoU across folds: 0.5334\n",
      "Best mIoU across all folds: 0.6682\n",
      "Average Final Custom Score across folds: 0.5288\n",
      "Best Custom Score across all folds: 0.6694\n",
      "\n",
      "Best overall model found in Fold 5, Epoch 7 with Custom Score: 0.6694\n",
      "==================================================\n",
      "CPU times: total: 1d 59min 57s\n",
      "Wall time: 8h 22min 33s\n"
     ]
    }
   ],
   "execution_count": 35
  }
 ],
 "metadata": {
  "kernelspec": {
   "display_name": "Python 3 (ipykernel)",
   "name": "python3",
   "language": "python"
  },
  "language_info": {
   "codemirror_mode": {
    "name": "ipython",
    "version": 3
   },
   "file_extension": ".py",
   "mimetype": "text/x-python",
   "name": "python",
   "nbconvert_exporter": "python",
   "pygments_lexer": "ipython3",
   "version": "3.11.13"
  },
  "colab": {
   "provenance": [],
   "gpuType": "A100",
   "machine_shape": "hm"
  },
  "accelerator": "GPU"
 },
 "nbformat": 4,
 "nbformat_minor": 0
}
